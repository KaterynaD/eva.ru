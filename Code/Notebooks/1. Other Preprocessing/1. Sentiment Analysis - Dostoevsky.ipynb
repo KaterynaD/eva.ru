{
 "cells": [
  {
   "cell_type": "markdown",
   "id": "354dc54d-669e-4893-bf39-7ae0d1825314",
   "metadata": {},
   "source": [
    "eva.ru forum posts sentiment analysis based on dostoevsky library"
   ]
  },
  {
   "cell_type": "code",
   "execution_count": 1,
   "id": "d1fe00d4-9402-4671-9d0b-4b1489493e8a",
   "metadata": {},
   "outputs": [],
   "source": [
    "import os\n",
    "import pandas as pd\n",
    "import numpy as np\n",
    "\n",
    "from dostoevsky.tokenization import RegexTokenizer\n",
    "from dostoevsky.models import FastTextSocialNetworkModel"
   ]
  },
  {
   "cell_type": "code",
   "execution_count": 2,
   "id": "b468c464-25ce-45e6-985d-e574aea03cfa",
   "metadata": {},
   "outputs": [],
   "source": [
    "Start_Message_Id=1\n",
    "End_Message_Id=1000\n",
    "Part=0"
   ]
  },
  {
   "cell_type": "code",
   "execution_count": 3,
   "id": "903d448a-bb25-4afb-ae60-f79d467d7236",
   "metadata": {},
   "outputs": [],
   "source": [
    "Data='/home/kate/Projects/eva/Data'\n",
    "Messages_filename='Messages.csv'\n",
    "Messages_full_filename=os.path.join(Data, Messages_filename)\n",
    "\n",
    "sa_filename='SentimentAnalysis/Dostoevsky/sa_dostoevsky_%s.csv'%Part\n",
    "sa_full_filename=os.path.join(Data, sa_filename)"
   ]
  },
  {
   "cell_type": "code",
   "execution_count": 4,
   "id": "6a8b6edb-a772-4695-be7d-343cc6a94435",
   "metadata": {},
   "outputs": [],
   "source": [
    "Messages = pd.read_csv(Messages_full_filename, error_bad_lines=False, index_col=False, usecols=['Message_Id','message'])"
   ]
  },
  {
   "cell_type": "code",
   "execution_count": 5,
   "id": "be468058-4484-4980-afc4-0855d7feae9f",
   "metadata": {},
   "outputs": [],
   "source": [
    "SubsetToAnalyze=Messages[Start_Message_Id:End_Message_Id+1:1].copy(deep=True)"
   ]
  },
  {
   "cell_type": "code",
   "execution_count": 6,
   "id": "a1d5ba55-e4b2-4788-8d20-51b2cf942aa3",
   "metadata": {},
   "outputs": [],
   "source": [
    "SubsetToAnalyze['dostoevsky']=''"
   ]
  },
  {
   "cell_type": "code",
   "execution_count": 7,
   "id": "d53afc83-2e70-4bb0-bf5c-7fbd15cd8415",
   "metadata": {},
   "outputs": [],
   "source": [
    "del Messages"
   ]
  },
  {
   "cell_type": "code",
   "execution_count": 8,
   "id": "7ba50f7e-7445-4b45-966e-d677dae0eb97",
   "metadata": {},
   "outputs": [
    {
     "name": "stderr",
     "output_type": "stream",
     "text": [
      "Warning : `load_model` does not return WordVectorModel or SupervisedModel any more, but a `FastText` object which is very similar.\n"
     ]
    }
   ],
   "source": [
    "tokenizer = RegexTokenizer()\n",
    "model = FastTextSocialNetworkModel(tokenizer=tokenizer)"
   ]
  },
  {
   "cell_type": "code",
   "execution_count": 9,
   "id": "b3cd3b40-5d6d-4882-8e9a-68c31000a9d8",
   "metadata": {},
   "outputs": [],
   "source": [
    "SubsetToAnalyze['message']=SubsetToAnalyze['message'].fillna(' ')"
   ]
  },
  {
   "cell_type": "code",
   "execution_count": 10,
   "id": "34fb776a-92f2-4a44-ae1c-9f0190d80ab8",
   "metadata": {},
   "outputs": [],
   "source": [
    "results = model.predict(SubsetToAnalyze['message'].tolist(), k=2)\n",
    "sentiment_list = list()\n",
    "for sentiment in results:\n",
    "    sentiment_list.append(list(sentiment.keys())[0] )"
   ]
  },
  {
   "cell_type": "code",
   "execution_count": 11,
   "id": "5dd1de1c-13b1-414a-bb67-784ecd09fffa",
   "metadata": {},
   "outputs": [],
   "source": [
    "SubsetToAnalyze['dostoevsky']=sentiment_list"
   ]
  },
  {
   "cell_type": "code",
   "execution_count": 12,
   "id": "d69ae882-ebb2-4dd7-9a84-38316c5cc864",
   "metadata": {},
   "outputs": [],
   "source": [
    "SubsetToAnalyze.to_csv(sa_full_filename, header=True, index=False)"
   ]
  }
 ],
 "metadata": {
  "kernelspec": {
   "display_name": "Python 3",
   "language": "python",
   "name": "python3"
  },
  "language_info": {
   "codemirror_mode": {
    "name": "ipython",
    "version": 3
   },
   "file_extension": ".py",
   "mimetype": "text/x-python",
   "name": "python",
   "nbconvert_exporter": "python",
   "pygments_lexer": "ipython3",
   "version": "3.8.5"
  }
 },
 "nbformat": 4,
 "nbformat_minor": 5
}
