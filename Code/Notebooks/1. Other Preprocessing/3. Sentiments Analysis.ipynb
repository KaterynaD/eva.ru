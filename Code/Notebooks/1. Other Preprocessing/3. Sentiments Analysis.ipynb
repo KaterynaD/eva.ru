{
 "cells": [
  {
   "cell_type": "markdown",
   "id": "03e34d00-8e87-47bb-adf5-14237488dbef",
   "metadata": {},
   "source": [
    "This is a service notebook to join together in one dataset all sentiment analysis data from different models and libraries plus quick review and analysis of usability."
   ]
  },
  {
   "cell_type": "code",
   "execution_count": 1,
   "id": "c84f64f2-19c5-4cbf-acf6-c560585c8f2c",
   "metadata": {},
   "outputs": [],
   "source": [
    "import os\n",
    "import pandas as pd\n",
    "import numpy as np"
   ]
  },
  {
   "cell_type": "code",
   "execution_count": 2,
   "id": "211a79be-c74a-4ceb-bd9d-d4e807d742eb",
   "metadata": {},
   "outputs": [],
   "source": [
    "Data='/home/kate/Projects/eva/Data'\n",
    "Messages_filename='Messages.csv'\n",
    "Messages_full_filename=os.path.join(Data, Messages_filename)\n",
    "\n",
    "sa_dostoevsky_filename='SentimentAnalysis/Dostoevsky/sa_dostoevsky.csv'\n",
    "sa_dostoevsky_full_filename=os.path.join(Data, sa_dostoevsky_filename)\n",
    "\n",
    "sa_tatyana_filename='SentimentAnalysis/tatyana/sa_tatyana.csv'\n",
    "sa_tatyana_full_filename=os.path.join(Data, sa_tatyana_filename)\n",
    "\n",
    "sa_twitter_filename='SentimentAnalysis/twitter/sa_twitter.csv'\n",
    "sa_twitter_full_filename=os.path.join(Data, sa_twitter_filename)\n",
    "\n",
    "sa_inappropriate_filename='SentimentAnalysis/inappropriate/sa_inappropriate.csv'\n",
    "sa_inappropriate_full_filename=os.path.join(Data, sa_inappropriate_filename)"
   ]
  },
  {
   "cell_type": "code",
   "execution_count": 3,
   "id": "99d594f0-3b55-4a1e-9db2-42bc622a66e9",
   "metadata": {},
   "outputs": [],
   "source": [
    "Messages = pd.read_csv(Messages_full_filename, error_bad_lines=False, index_col=False) "
   ]
  },
  {
   "cell_type": "code",
   "execution_count": 5,
   "id": "793df2dd-94c7-4592-99fd-04b9a1ea55be",
   "metadata": {},
   "outputs": [
    {
     "data": {
      "text/plain": [
       "9455613"
      ]
     },
     "execution_count": 5,
     "metadata": {},
     "output_type": "execute_result"
    }
   ],
   "source": [
    "sa_dostoevsky = pd.read_csv(sa_dostoevsky_full_filename, error_bad_lines=False, index_col=False)\n",
    "len(sa_dostoevsky)"
   ]
  },
  {
   "cell_type": "code",
   "execution_count": 6,
   "id": "0f795d86-1993-4235-b972-1d5f98d36246",
   "metadata": {},
   "outputs": [
    {
     "data": {
      "text/plain": [
       "array(['neutral', 'negative', 'positive', 'skip', 'speech'], dtype=object)"
      ]
     },
     "execution_count": 6,
     "metadata": {},
     "output_type": "execute_result"
    }
   ],
   "source": [
    "sa_dostoevsky['dostoevsky'].unique()"
   ]
  },
  {
   "cell_type": "code",
   "execution_count": 6,
   "id": "ba8eff8c-35c8-41bf-a64a-031ae88046ce",
   "metadata": {},
   "outputs": [],
   "source": [
    "sa_dostoevsky['dostoevsky']=sa_dostoevsky['dostoevsky'].str.upper()"
   ]
  },
  {
   "cell_type": "code",
   "execution_count": 8,
   "id": "9ec0090f-4038-4075-9f38-05a2cc192c9f",
   "metadata": {},
   "outputs": [
    {
     "data": {
      "text/plain": [
       "array(['NEUTRAL', 'NEGATIVE', 'POSITIVE'], dtype=object)"
      ]
     },
     "execution_count": 8,
     "metadata": {},
     "output_type": "execute_result"
    }
   ],
   "source": [
    "sa_dostoevsky['dostoevsky'].unique()"
   ]
  },
  {
   "cell_type": "code",
   "execution_count": 7,
   "id": "59cd03ab-6ab0-4e11-92dc-5fb8153566e2",
   "metadata": {},
   "outputs": [],
   "source": [
    "sa_dostoevsky['dostoevsky_n']=['NEUTRAL' if ((x=='SKIP') or (x=='SPEECH')) else x for x in sa_dostoevsky['dostoevsky']]"
   ]
  },
  {
   "cell_type": "code",
   "execution_count": 10,
   "id": "e6edc0df-46a4-489c-be7b-b7f4c6d5954e",
   "metadata": {},
   "outputs": [
    {
     "data": {
      "text/plain": [
       "array(['NEUTRAL', 'NEGATIVE', 'POSITIVE'], dtype=object)"
      ]
     },
     "execution_count": 10,
     "metadata": {},
     "output_type": "execute_result"
    }
   ],
   "source": [
    "sa_dostoevsky['dostoevsky_n'].unique()"
   ]
  },
  {
   "cell_type": "code",
   "execution_count": 4,
   "id": "e418e526-5f7e-4d6f-8c6b-c0904a92408d",
   "metadata": {},
   "outputs": [
    {
     "data": {
      "text/plain": [
       "9455613"
      ]
     },
     "execution_count": 4,
     "metadata": {},
     "output_type": "execute_result"
    }
   ],
   "source": [
    "sa_tatyana = pd.read_csv(sa_tatyana_full_filename, error_bad_lines=False, index_col=False)\n",
    "len(sa_tatyana)"
   ]
  },
  {
   "cell_type": "code",
   "execution_count": 11,
   "id": "3a3065aa-a047-443b-aece-314b1a146dda",
   "metadata": {},
   "outputs": [
    {
     "data": {
      "text/html": [
       "<div>\n",
       "<style scoped>\n",
       "    .dataframe tbody tr th:only-of-type {\n",
       "        vertical-align: middle;\n",
       "    }\n",
       "\n",
       "    .dataframe tbody tr th {\n",
       "        vertical-align: top;\n",
       "    }\n",
       "\n",
       "    .dataframe thead th {\n",
       "        text-align: right;\n",
       "    }\n",
       "</style>\n",
       "<table border=\"1\" class=\"dataframe\">\n",
       "  <thead>\n",
       "    <tr style=\"text-align: right;\">\n",
       "      <th></th>\n",
       "      <th>Message_Id</th>\n",
       "      <th>tatyana</th>\n",
       "    </tr>\n",
       "  </thead>\n",
       "  <tbody>\n",
       "    <tr>\n",
       "      <th>0</th>\n",
       "      <td>90651956</td>\n",
       "      <td>POSITIVE</td>\n",
       "    </tr>\n",
       "    <tr>\n",
       "      <th>1</th>\n",
       "      <td>90651971</td>\n",
       "      <td>NEGATIVE</td>\n",
       "    </tr>\n",
       "    <tr>\n",
       "      <th>2</th>\n",
       "      <td>90632653</td>\n",
       "      <td>NEUTRAL</td>\n",
       "    </tr>\n",
       "    <tr>\n",
       "      <th>3</th>\n",
       "      <td>90639753</td>\n",
       "      <td>POSITIVE</td>\n",
       "    </tr>\n",
       "    <tr>\n",
       "      <th>4</th>\n",
       "      <td>90640548</td>\n",
       "      <td>POSITIVE</td>\n",
       "    </tr>\n",
       "  </tbody>\n",
       "</table>\n",
       "</div>"
      ],
      "text/plain": [
       "   Message_Id   tatyana\n",
       "0    90651956  POSITIVE\n",
       "1    90651971  NEGATIVE\n",
       "2    90632653   NEUTRAL\n",
       "3    90639753  POSITIVE\n",
       "4    90640548  POSITIVE"
      ]
     },
     "execution_count": 11,
     "metadata": {},
     "output_type": "execute_result"
    }
   ],
   "source": [
    "sa_tatyana.head()"
   ]
  },
  {
   "cell_type": "code",
   "execution_count": 12,
   "id": "3ac21645-64a1-4e5f-a82f-2cd0867b2c09",
   "metadata": {},
   "outputs": [
    {
     "data": {
      "text/plain": [
       "9455613"
      ]
     },
     "execution_count": 12,
     "metadata": {},
     "output_type": "execute_result"
    }
   ],
   "source": [
    "sa_twitter = pd.read_csv(sa_twitter_full_filename, error_bad_lines=False, index_col=False)\n",
    "len(sa_twitter)"
   ]
  },
  {
   "cell_type": "code",
   "execution_count": 13,
   "id": "4872c7c7-0a9b-4b45-81bd-c8f5edfc6ee8",
   "metadata": {},
   "outputs": [
    {
     "data": {
      "text/html": [
       "<div>\n",
       "<style scoped>\n",
       "    .dataframe tbody tr th:only-of-type {\n",
       "        vertical-align: middle;\n",
       "    }\n",
       "\n",
       "    .dataframe tbody tr th {\n",
       "        vertical-align: top;\n",
       "    }\n",
       "\n",
       "    .dataframe thead th {\n",
       "        text-align: right;\n",
       "    }\n",
       "</style>\n",
       "<table border=\"1\" class=\"dataframe\">\n",
       "  <thead>\n",
       "    <tr style=\"text-align: right;\">\n",
       "      <th></th>\n",
       "      <th>Message_Id</th>\n",
       "      <th>twitter</th>\n",
       "    </tr>\n",
       "  </thead>\n",
       "  <tbody>\n",
       "    <tr>\n",
       "      <th>0</th>\n",
       "      <td>90651956</td>\n",
       "      <td>POSITIVE</td>\n",
       "    </tr>\n",
       "    <tr>\n",
       "      <th>1</th>\n",
       "      <td>90651971</td>\n",
       "      <td>NEGATIVE</td>\n",
       "    </tr>\n",
       "    <tr>\n",
       "      <th>2</th>\n",
       "      <td>90632653</td>\n",
       "      <td>NEUTRAL</td>\n",
       "    </tr>\n",
       "    <tr>\n",
       "      <th>3</th>\n",
       "      <td>90639753</td>\n",
       "      <td>POSITIVE</td>\n",
       "    </tr>\n",
       "    <tr>\n",
       "      <th>4</th>\n",
       "      <td>90640548</td>\n",
       "      <td>POSITIVE</td>\n",
       "    </tr>\n",
       "  </tbody>\n",
       "</table>\n",
       "</div>"
      ],
      "text/plain": [
       "   Message_Id   twitter\n",
       "0    90651956  POSITIVE\n",
       "1    90651971  NEGATIVE\n",
       "2    90632653   NEUTRAL\n",
       "3    90639753  POSITIVE\n",
       "4    90640548  POSITIVE"
      ]
     },
     "execution_count": 13,
     "metadata": {},
     "output_type": "execute_result"
    }
   ],
   "source": [
    "sa_twitter.head()"
   ]
  },
  {
   "cell_type": "code",
   "execution_count": 9,
   "id": "d5d677de-c8ac-466a-96c0-fff299b0c6b2",
   "metadata": {},
   "outputs": [],
   "source": [
    "Messages=pd.merge(Messages, sa_dostoevsky, left_on='Message_Id', right_on='Message_Id', how='left')"
   ]
  },
  {
   "cell_type": "code",
   "execution_count": 10,
   "id": "be3e0d57-cd5f-4959-9630-fbe68699f463",
   "metadata": {},
   "outputs": [
    {
     "data": {
      "text/plain": [
       "0"
      ]
     },
     "execution_count": 10,
     "metadata": {},
     "output_type": "execute_result"
    }
   ],
   "source": [
    "len(Messages[Messages['dostoevsky'].isnull()])"
   ]
  },
  {
   "cell_type": "code",
   "execution_count": 5,
   "id": "e9a802ca-62da-43a5-a531-cc9d82d34cba",
   "metadata": {},
   "outputs": [],
   "source": [
    "Messages=pd.merge(Messages, sa_tatyana, left_on='Message_Id', right_on='Message_Id', how='left')"
   ]
  },
  {
   "cell_type": "code",
   "execution_count": 6,
   "id": "d0c5e02d-c53e-4af0-8b54-e521aa080fbc",
   "metadata": {},
   "outputs": [
    {
     "data": {
      "text/plain": [
       "0"
      ]
     },
     "execution_count": 6,
     "metadata": {},
     "output_type": "execute_result"
    }
   ],
   "source": [
    "len(Messages[Messages['tatyana'].isnull()])"
   ]
  },
  {
   "cell_type": "code",
   "execution_count": 18,
   "id": "fb7bfc13-2d5e-4092-b03e-fff8ff564be2",
   "metadata": {},
   "outputs": [],
   "source": [
    "Messages=pd.merge(Messages, sa_twitter, left_on='Message_Id', right_on='Message_Id', how='left')"
   ]
  },
  {
   "cell_type": "code",
   "execution_count": 19,
   "id": "e47c4f70-a7a6-4775-a696-21721031c14c",
   "metadata": {},
   "outputs": [
    {
     "data": {
      "text/plain": [
       "0"
      ]
     },
     "execution_count": 19,
     "metadata": {},
     "output_type": "execute_result"
    }
   ],
   "source": [
    "len(Messages[Messages['twitter'].isnull()])"
   ]
  },
  {
   "cell_type": "code",
   "execution_count": 20,
   "id": "9088c5a2-7b76-4458-9831-6f0ad5204c61",
   "metadata": {},
   "outputs": [
    {
     "data": {
      "text/html": [
       "<div>\n",
       "<style scoped>\n",
       "    .dataframe tbody tr th:only-of-type {\n",
       "        vertical-align: middle;\n",
       "    }\n",
       "\n",
       "    .dataframe tbody tr th {\n",
       "        vertical-align: top;\n",
       "    }\n",
       "\n",
       "    .dataframe thead th {\n",
       "        text-align: right;\n",
       "    }\n",
       "</style>\n",
       "<table border=\"1\" class=\"dataframe\">\n",
       "  <thead>\n",
       "    <tr style=\"text-align: right;\">\n",
       "      <th></th>\n",
       "      <th>Message_Id</th>\n",
       "      <th>Author_Id</th>\n",
       "      <th>message</th>\n",
       "      <th>dostoevsky</th>\n",
       "      <th>dostoevsky_n</th>\n",
       "      <th>tatyana</th>\n",
       "      <th>twitter</th>\n",
       "    </tr>\n",
       "  </thead>\n",
       "  <tbody>\n",
       "    <tr>\n",
       "      <th>9455608</th>\n",
       "      <td>103135891</td>\n",
       "      <td>0</td>\n",
       "      <td>Я школу закончила 30 лет назад, до сих пор не ...</td>\n",
       "      <td>NEGATIVE</td>\n",
       "      <td>NEGATIVE</td>\n",
       "      <td>NEGATIVE</td>\n",
       "      <td>NEGATIVE</td>\n",
       "    </tr>\n",
       "    <tr>\n",
       "      <th>9455609</th>\n",
       "      <td>103135894</td>\n",
       "      <td>0</td>\n",
       "      <td>Знаю точно, что современные пищевые производст...</td>\n",
       "      <td>NEGATIVE</td>\n",
       "      <td>NEGATIVE</td>\n",
       "      <td>NEUTRAL</td>\n",
       "      <td>NEUTRAL</td>\n",
       "    </tr>\n",
       "    <tr>\n",
       "      <th>9455610</th>\n",
       "      <td>103135900</td>\n",
       "      <td>746948</td>\n",
       "      <td>тут соглашусь, однако СССР тут не стоит выделя...</td>\n",
       "      <td>NEUTRAL</td>\n",
       "      <td>NEUTRAL</td>\n",
       "      <td>NEGATIVE</td>\n",
       "      <td>NEGATIVE</td>\n",
       "    </tr>\n",
       "    <tr>\n",
       "      <th>9455611</th>\n",
       "      <td>103135922</td>\n",
       "      <td>746948</td>\n",
       "      <td>Кстати, в последнее время по нему очень заметн...</td>\n",
       "      <td>NEGATIVE</td>\n",
       "      <td>NEGATIVE</td>\n",
       "      <td>POSITIVE</td>\n",
       "      <td>POSITIVE</td>\n",
       "    </tr>\n",
       "    <tr>\n",
       "      <th>9455612</th>\n",
       "      <td>103135938</td>\n",
       "      <td>0</td>\n",
       "      <td>Так же и с парниковыми овощами, а уж тем более...</td>\n",
       "      <td>NEUTRAL</td>\n",
       "      <td>NEUTRAL</td>\n",
       "      <td>NEUTRAL</td>\n",
       "      <td>NEUTRAL</td>\n",
       "    </tr>\n",
       "  </tbody>\n",
       "</table>\n",
       "</div>"
      ],
      "text/plain": [
       "         Message_Id  Author_Id  \\\n",
       "9455608   103135891          0   \n",
       "9455609   103135894          0   \n",
       "9455610   103135900     746948   \n",
       "9455611   103135922     746948   \n",
       "9455612   103135938          0   \n",
       "\n",
       "                                                   message dostoevsky  \\\n",
       "9455608  Я школу закончила 30 лет назад, до сих пор не ...   NEGATIVE   \n",
       "9455609  Знаю точно, что современные пищевые производст...   NEGATIVE   \n",
       "9455610  тут соглашусь, однако СССР тут не стоит выделя...    NEUTRAL   \n",
       "9455611  Кстати, в последнее время по нему очень заметн...   NEGATIVE   \n",
       "9455612  Так же и с парниковыми овощами, а уж тем более...    NEUTRAL   \n",
       "\n",
       "        dostoevsky_n   tatyana   twitter  \n",
       "9455608     NEGATIVE  NEGATIVE  NEGATIVE  \n",
       "9455609     NEGATIVE   NEUTRAL   NEUTRAL  \n",
       "9455610      NEUTRAL  NEGATIVE  NEGATIVE  \n",
       "9455611     NEGATIVE  POSITIVE  POSITIVE  \n",
       "9455612      NEUTRAL   NEUTRAL   NEUTRAL  "
      ]
     },
     "execution_count": 20,
     "metadata": {},
     "output_type": "execute_result"
    }
   ],
   "source": [
    "Messages.tail()"
   ]
  },
  {
   "cell_type": "code",
   "execution_count": 22,
   "id": "4ae637d0-f39d-419f-9941-59152988536e",
   "metadata": {},
   "outputs": [
    {
     "data": {
      "text/html": [
       "<div>\n",
       "<style scoped>\n",
       "    .dataframe tbody tr th:only-of-type {\n",
       "        vertical-align: middle;\n",
       "    }\n",
       "\n",
       "    .dataframe tbody tr th {\n",
       "        vertical-align: top;\n",
       "    }\n",
       "\n",
       "    .dataframe thead th {\n",
       "        text-align: right;\n",
       "    }\n",
       "</style>\n",
       "<table border=\"1\" class=\"dataframe\">\n",
       "  <thead>\n",
       "    <tr style=\"text-align: right;\">\n",
       "      <th></th>\n",
       "      <th>Message_Id</th>\n",
       "      <th>Author_Id</th>\n",
       "      <th>message</th>\n",
       "      <th>dostoevsky</th>\n",
       "      <th>dostoevsky_n</th>\n",
       "      <th>tatyana</th>\n",
       "      <th>twitter</th>\n",
       "    </tr>\n",
       "  </thead>\n",
       "  <tbody>\n",
       "  </tbody>\n",
       "</table>\n",
       "</div>"
      ],
      "text/plain": [
       "Empty DataFrame\n",
       "Columns: [Message_Id, Author_Id, message, dostoevsky, dostoevsky_n, tatyana, twitter]\n",
       "Index: []"
      ]
     },
     "execution_count": 22,
     "metadata": {},
     "output_type": "execute_result"
    }
   ],
   "source": [
    "Messages[Messages['twitter']!=Messages['tatyana']].head()"
   ]
  },
  {
   "cell_type": "markdown",
   "id": "c69ee13e-0e60-4e4b-a4f1-017fd2c5c2a8",
   "metadata": {},
   "source": [
    "Tatyana/rubert-base-cased-sentiment-new (trained on customer reviews) and blanchefort/rubert-base-cased-sentiment (trained on twits) produced the same result!"
   ]
  },
  {
   "cell_type": "code",
   "execution_count": 23,
   "id": "2660c599-3b2b-4429-afb2-fd6796804ddf",
   "metadata": {},
   "outputs": [],
   "source": [
    "Messages['isAnonymous']=['Yes' if x == 0 else 'No' for x in Messages['Author_Id']]"
   ]
  },
  {
   "cell_type": "code",
   "execution_count": 25,
   "id": "31901a93-375b-4187-98b9-425b8b3c9b25",
   "metadata": {},
   "outputs": [
    {
     "data": {
      "text/html": [
       "<div>\n",
       "<style scoped>\n",
       "    .dataframe tbody tr th:only-of-type {\n",
       "        vertical-align: middle;\n",
       "    }\n",
       "\n",
       "    .dataframe tbody tr th {\n",
       "        vertical-align: top;\n",
       "    }\n",
       "\n",
       "    .dataframe thead th {\n",
       "        text-align: right;\n",
       "    }\n",
       "</style>\n",
       "<table border=\"1\" class=\"dataframe\">\n",
       "  <thead>\n",
       "    <tr style=\"text-align: right;\">\n",
       "      <th></th>\n",
       "      <th>Message_Id</th>\n",
       "      <th>Author_Id</th>\n",
       "      <th>message</th>\n",
       "      <th>dostoevsky</th>\n",
       "      <th>dostoevsky_n</th>\n",
       "      <th>tatyana</th>\n",
       "      <th>twitter</th>\n",
       "      <th>isAnonymous</th>\n",
       "    </tr>\n",
       "  </thead>\n",
       "  <tbody>\n",
       "    <tr>\n",
       "      <th>229</th>\n",
       "      <td>42629245</td>\n",
       "      <td>0</td>\n",
       "      <td>Из бумажных лент кто-нибудь мастерит? Типа так...</td>\n",
       "      <td>NEUTRAL</td>\n",
       "      <td>NEUTRAL</td>\n",
       "      <td>NEUTRAL</td>\n",
       "      <td>NEUTRAL</td>\n",
       "      <td>Yes</td>\n",
       "    </tr>\n",
       "    <tr>\n",
       "      <th>258</th>\n",
       "      <td>43445105</td>\n",
       "      <td>0</td>\n",
       "      <td>как здорово-то!!! обязательно сплагиатим у вас...</td>\n",
       "      <td>POSITIVE</td>\n",
       "      <td>POSITIVE</td>\n",
       "      <td>POSITIVE</td>\n",
       "      <td>POSITIVE</td>\n",
       "      <td>Yes</td>\n",
       "    </tr>\n",
       "    <tr>\n",
       "      <th>260</th>\n",
       "      <td>43499521</td>\n",
       "      <td>0</td>\n",
       "      <td>Девочки! просьба! Накидайте, пожалуйста, мне с...</td>\n",
       "      <td>NEUTRAL</td>\n",
       "      <td>NEUTRAL</td>\n",
       "      <td>NEGATIVE</td>\n",
       "      <td>NEGATIVE</td>\n",
       "      <td>Yes</td>\n",
       "    </tr>\n",
       "    <tr>\n",
       "      <th>263</th>\n",
       "      <td>43524131</td>\n",
       "      <td>0</td>\n",
       "      <td>Ой!!! Я совсем забыла указать, что как раз &amp;qu...</td>\n",
       "      <td>NEGATIVE</td>\n",
       "      <td>NEGATIVE</td>\n",
       "      <td>POSITIVE</td>\n",
       "      <td>POSITIVE</td>\n",
       "      <td>Yes</td>\n",
       "    </tr>\n",
       "    <tr>\n",
       "      <th>275</th>\n",
       "      <td>43827273</td>\n",
       "      <td>0</td>\n",
       "      <td>Помогите, нужна поделка из метала на 23 февраля.</td>\n",
       "      <td>NEUTRAL</td>\n",
       "      <td>NEUTRAL</td>\n",
       "      <td>NEUTRAL</td>\n",
       "      <td>NEUTRAL</td>\n",
       "      <td>Yes</td>\n",
       "    </tr>\n",
       "  </tbody>\n",
       "</table>\n",
       "</div>"
      ],
      "text/plain": [
       "     Message_Id  Author_Id                                            message  \\\n",
       "229    42629245          0  Из бумажных лент кто-нибудь мастерит? Типа так...   \n",
       "258    43445105          0  как здорово-то!!! обязательно сплагиатим у вас...   \n",
       "260    43499521          0  Девочки! просьба! Накидайте, пожалуйста, мне с...   \n",
       "263    43524131          0  Ой!!! Я совсем забыла указать, что как раз &qu...   \n",
       "275    43827273          0   Помогите, нужна поделка из метала на 23 февраля.   \n",
       "\n",
       "    dostoevsky dostoevsky_n   tatyana   twitter isAnonymous  \n",
       "229    NEUTRAL      NEUTRAL   NEUTRAL   NEUTRAL         Yes  \n",
       "258   POSITIVE     POSITIVE  POSITIVE  POSITIVE         Yes  \n",
       "260    NEUTRAL      NEUTRAL  NEGATIVE  NEGATIVE         Yes  \n",
       "263   NEGATIVE     NEGATIVE  POSITIVE  POSITIVE         Yes  \n",
       "275    NEUTRAL      NEUTRAL   NEUTRAL   NEUTRAL         Yes  "
      ]
     },
     "execution_count": 25,
     "metadata": {},
     "output_type": "execute_result"
    }
   ],
   "source": [
    "Messages[Messages['Author_Id']==0].head()"
   ]
  },
  {
   "cell_type": "code",
   "execution_count": 28,
   "id": "fa2dd4dc-774a-4b3e-b682-b6e796f0d67c",
   "metadata": {},
   "outputs": [
    {
     "data": {
      "text/html": [
       "<div>\n",
       "<style scoped>\n",
       "    .dataframe tbody tr th:only-of-type {\n",
       "        vertical-align: middle;\n",
       "    }\n",
       "\n",
       "    .dataframe tbody tr th {\n",
       "        vertical-align: top;\n",
       "    }\n",
       "\n",
       "    .dataframe thead th {\n",
       "        text-align: right;\n",
       "    }\n",
       "</style>\n",
       "<table border=\"1\" class=\"dataframe\">\n",
       "  <thead>\n",
       "    <tr style=\"text-align: right;\">\n",
       "      <th></th>\n",
       "      <th>tatyana</th>\n",
       "      <th>counts</th>\n",
       "    </tr>\n",
       "  </thead>\n",
       "  <tbody>\n",
       "    <tr>\n",
       "      <th>0</th>\n",
       "      <td>NEGATIVE</td>\n",
       "      <td>4131622</td>\n",
       "    </tr>\n",
       "    <tr>\n",
       "      <th>1</th>\n",
       "      <td>NEUTRAL</td>\n",
       "      <td>3230956</td>\n",
       "    </tr>\n",
       "    <tr>\n",
       "      <th>2</th>\n",
       "      <td>POSITIVE</td>\n",
       "      <td>2093035</td>\n",
       "    </tr>\n",
       "  </tbody>\n",
       "</table>\n",
       "</div>"
      ],
      "text/plain": [
       "    tatyana   counts\n",
       "0  NEGATIVE  4131622\n",
       "1   NEUTRAL  3230956\n",
       "2  POSITIVE  2093035"
      ]
     },
     "execution_count": 28,
     "metadata": {},
     "output_type": "execute_result"
    }
   ],
   "source": [
    "Messages.groupby(['tatyana']).size().reset_index(name='counts')"
   ]
  },
  {
   "cell_type": "code",
   "execution_count": 29,
   "id": "4834f7f6-33e5-4780-8467-3c91e44c8b3c",
   "metadata": {},
   "outputs": [
    {
     "data": {
      "text/html": [
       "<div>\n",
       "<style scoped>\n",
       "    .dataframe tbody tr th:only-of-type {\n",
       "        vertical-align: middle;\n",
       "    }\n",
       "\n",
       "    .dataframe tbody tr th {\n",
       "        vertical-align: top;\n",
       "    }\n",
       "\n",
       "    .dataframe thead th {\n",
       "        text-align: right;\n",
       "    }\n",
       "</style>\n",
       "<table border=\"1\" class=\"dataframe\">\n",
       "  <thead>\n",
       "    <tr style=\"text-align: right;\">\n",
       "      <th></th>\n",
       "      <th>dostoevsky_n</th>\n",
       "      <th>counts</th>\n",
       "    </tr>\n",
       "  </thead>\n",
       "  <tbody>\n",
       "    <tr>\n",
       "      <th>0</th>\n",
       "      <td>NEGATIVE</td>\n",
       "      <td>1966145</td>\n",
       "    </tr>\n",
       "    <tr>\n",
       "      <th>1</th>\n",
       "      <td>NEUTRAL</td>\n",
       "      <td>6881928</td>\n",
       "    </tr>\n",
       "    <tr>\n",
       "      <th>2</th>\n",
       "      <td>POSITIVE</td>\n",
       "      <td>607540</td>\n",
       "    </tr>\n",
       "  </tbody>\n",
       "</table>\n",
       "</div>"
      ],
      "text/plain": [
       "  dostoevsky_n   counts\n",
       "0     NEGATIVE  1966145\n",
       "1      NEUTRAL  6881928\n",
       "2     POSITIVE   607540"
      ]
     },
     "execution_count": 29,
     "metadata": {},
     "output_type": "execute_result"
    }
   ],
   "source": [
    "Messages.groupby(['dostoevsky_n']).size().reset_index(name='counts')"
   ]
  },
  {
   "cell_type": "code",
   "execution_count": 30,
   "id": "9cf832e9-6819-47fd-bee7-3c2a603e5655",
   "metadata": {},
   "outputs": [
    {
     "data": {
      "text/html": [
       "<div>\n",
       "<style scoped>\n",
       "    .dataframe tbody tr th:only-of-type {\n",
       "        vertical-align: middle;\n",
       "    }\n",
       "\n",
       "    .dataframe tbody tr th {\n",
       "        vertical-align: top;\n",
       "    }\n",
       "\n",
       "    .dataframe thead th {\n",
       "        text-align: right;\n",
       "    }\n",
       "</style>\n",
       "<table border=\"1\" class=\"dataframe\">\n",
       "  <thead>\n",
       "    <tr style=\"text-align: right;\">\n",
       "      <th></th>\n",
       "      <th>dostoevsky</th>\n",
       "      <th>counts</th>\n",
       "    </tr>\n",
       "  </thead>\n",
       "  <tbody>\n",
       "    <tr>\n",
       "      <th>0</th>\n",
       "      <td>NEGATIVE</td>\n",
       "      <td>1966145</td>\n",
       "    </tr>\n",
       "    <tr>\n",
       "      <th>1</th>\n",
       "      <td>NEUTRAL</td>\n",
       "      <td>6251703</td>\n",
       "    </tr>\n",
       "    <tr>\n",
       "      <th>2</th>\n",
       "      <td>POSITIVE</td>\n",
       "      <td>607540</td>\n",
       "    </tr>\n",
       "    <tr>\n",
       "      <th>3</th>\n",
       "      <td>SKIP</td>\n",
       "      <td>531484</td>\n",
       "    </tr>\n",
       "    <tr>\n",
       "      <th>4</th>\n",
       "      <td>SPEECH</td>\n",
       "      <td>98741</td>\n",
       "    </tr>\n",
       "  </tbody>\n",
       "</table>\n",
       "</div>"
      ],
      "text/plain": [
       "  dostoevsky   counts\n",
       "0   NEGATIVE  1966145\n",
       "1    NEUTRAL  6251703\n",
       "2   POSITIVE   607540\n",
       "3       SKIP   531484\n",
       "4     SPEECH    98741"
      ]
     },
     "execution_count": 30,
     "metadata": {},
     "output_type": "execute_result"
    }
   ],
   "source": [
    "Messages.groupby(['dostoevsky']).size().reset_index(name='counts')"
   ]
  },
  {
   "cell_type": "markdown",
   "id": "5104bcc0-a271-4503-8f0b-fea42f0bff04",
   "metadata": {},
   "source": [
    "Dostoevsky is more conservative. There are less Negative and Positive and ~2 times more Neutral posts"
   ]
  },
  {
   "cell_type": "code",
   "execution_count": 26,
   "id": "6d29fa3c-9058-4733-8790-dd7348a7fbad",
   "metadata": {},
   "outputs": [
    {
     "data": {
      "text/html": [
       "<div>\n",
       "<style scoped>\n",
       "    .dataframe tbody tr th:only-of-type {\n",
       "        vertical-align: middle;\n",
       "    }\n",
       "\n",
       "    .dataframe tbody tr th {\n",
       "        vertical-align: top;\n",
       "    }\n",
       "\n",
       "    .dataframe thead th {\n",
       "        text-align: right;\n",
       "    }\n",
       "</style>\n",
       "<table border=\"1\" class=\"dataframe\">\n",
       "  <thead>\n",
       "    <tr style=\"text-align: right;\">\n",
       "      <th></th>\n",
       "      <th>isAnonymous</th>\n",
       "      <th>tatyana</th>\n",
       "      <th>counts</th>\n",
       "    </tr>\n",
       "  </thead>\n",
       "  <tbody>\n",
       "    <tr>\n",
       "      <th>0</th>\n",
       "      <td>No</td>\n",
       "      <td>NEGATIVE</td>\n",
       "      <td>1772546</td>\n",
       "    </tr>\n",
       "    <tr>\n",
       "      <th>1</th>\n",
       "      <td>No</td>\n",
       "      <td>NEUTRAL</td>\n",
       "      <td>1473518</td>\n",
       "    </tr>\n",
       "    <tr>\n",
       "      <th>2</th>\n",
       "      <td>No</td>\n",
       "      <td>POSITIVE</td>\n",
       "      <td>1033676</td>\n",
       "    </tr>\n",
       "    <tr>\n",
       "      <th>3</th>\n",
       "      <td>Yes</td>\n",
       "      <td>NEGATIVE</td>\n",
       "      <td>2359076</td>\n",
       "    </tr>\n",
       "    <tr>\n",
       "      <th>4</th>\n",
       "      <td>Yes</td>\n",
       "      <td>NEUTRAL</td>\n",
       "      <td>1757438</td>\n",
       "    </tr>\n",
       "    <tr>\n",
       "      <th>5</th>\n",
       "      <td>Yes</td>\n",
       "      <td>POSITIVE</td>\n",
       "      <td>1059359</td>\n",
       "    </tr>\n",
       "  </tbody>\n",
       "</table>\n",
       "</div>"
      ],
      "text/plain": [
       "  isAnonymous   tatyana   counts\n",
       "0          No  NEGATIVE  1772546\n",
       "1          No   NEUTRAL  1473518\n",
       "2          No  POSITIVE  1033676\n",
       "3         Yes  NEGATIVE  2359076\n",
       "4         Yes   NEUTRAL  1757438\n",
       "5         Yes  POSITIVE  1059359"
      ]
     },
     "execution_count": 26,
     "metadata": {},
     "output_type": "execute_result"
    }
   ],
   "source": [
    "Messages.groupby(['isAnonymous','tatyana']).size().reset_index(name='counts')"
   ]
  },
  {
   "cell_type": "code",
   "execution_count": 27,
   "id": "4bcfb619-a915-48e7-8e0e-9c7ebdd16cad",
   "metadata": {},
   "outputs": [
    {
     "data": {
      "text/html": [
       "<div>\n",
       "<style scoped>\n",
       "    .dataframe tbody tr th:only-of-type {\n",
       "        vertical-align: middle;\n",
       "    }\n",
       "\n",
       "    .dataframe tbody tr th {\n",
       "        vertical-align: top;\n",
       "    }\n",
       "\n",
       "    .dataframe thead th {\n",
       "        text-align: right;\n",
       "    }\n",
       "</style>\n",
       "<table border=\"1\" class=\"dataframe\">\n",
       "  <thead>\n",
       "    <tr style=\"text-align: right;\">\n",
       "      <th></th>\n",
       "      <th>isAnonymous</th>\n",
       "      <th>dostoevsky_n</th>\n",
       "      <th>counts</th>\n",
       "    </tr>\n",
       "  </thead>\n",
       "  <tbody>\n",
       "    <tr>\n",
       "      <th>0</th>\n",
       "      <td>No</td>\n",
       "      <td>NEGATIVE</td>\n",
       "      <td>830463</td>\n",
       "    </tr>\n",
       "    <tr>\n",
       "      <th>1</th>\n",
       "      <td>No</td>\n",
       "      <td>NEUTRAL</td>\n",
       "      <td>3136057</td>\n",
       "    </tr>\n",
       "    <tr>\n",
       "      <th>2</th>\n",
       "      <td>No</td>\n",
       "      <td>POSITIVE</td>\n",
       "      <td>313220</td>\n",
       "    </tr>\n",
       "    <tr>\n",
       "      <th>3</th>\n",
       "      <td>Yes</td>\n",
       "      <td>NEGATIVE</td>\n",
       "      <td>1135682</td>\n",
       "    </tr>\n",
       "    <tr>\n",
       "      <th>4</th>\n",
       "      <td>Yes</td>\n",
       "      <td>NEUTRAL</td>\n",
       "      <td>3745871</td>\n",
       "    </tr>\n",
       "    <tr>\n",
       "      <th>5</th>\n",
       "      <td>Yes</td>\n",
       "      <td>POSITIVE</td>\n",
       "      <td>294320</td>\n",
       "    </tr>\n",
       "  </tbody>\n",
       "</table>\n",
       "</div>"
      ],
      "text/plain": [
       "  isAnonymous dostoevsky_n   counts\n",
       "0          No     NEGATIVE   830463\n",
       "1          No      NEUTRAL  3136057\n",
       "2          No     POSITIVE   313220\n",
       "3         Yes     NEGATIVE  1135682\n",
       "4         Yes      NEUTRAL  3745871\n",
       "5         Yes     POSITIVE   294320"
      ]
     },
     "execution_count": 27,
     "metadata": {},
     "output_type": "execute_result"
    }
   ],
   "source": [
    "Messages.groupby(['isAnonymous','dostoevsky_n']).size().reset_index(name='counts')"
   ]
  },
  {
   "cell_type": "markdown",
   "id": "e9fae5af-6854-40cf-a0c8-2e6a7a47bcd6",
   "metadata": {},
   "source": [
    "As expected, each model produced more Negative posts from anonymous authors. That's a known fact, the users are more open in their emotions when they are anonymous."
   ]
  },
  {
   "cell_type": "code",
   "execution_count": 44,
   "id": "c437db1b-73e9-46b9-b0c3-f6a2dc770cb8",
   "metadata": {},
   "outputs": [
    {
     "data": {
      "text/html": [
       "<div>\n",
       "<style scoped>\n",
       "    .dataframe tbody tr th:only-of-type {\n",
       "        vertical-align: middle;\n",
       "    }\n",
       "\n",
       "    .dataframe tbody tr th {\n",
       "        vertical-align: top;\n",
       "    }\n",
       "\n",
       "    .dataframe thead th {\n",
       "        text-align: right;\n",
       "    }\n",
       "</style>\n",
       "<table border=\"1\" class=\"dataframe\">\n",
       "  <thead>\n",
       "    <tr style=\"text-align: right;\">\n",
       "      <th></th>\n",
       "      <th>Message_Id</th>\n",
       "      <th>Author_Id</th>\n",
       "      <th>message</th>\n",
       "      <th>dostoevsky</th>\n",
       "      <th>dostoevsky_n</th>\n",
       "      <th>tatyana</th>\n",
       "      <th>twitter</th>\n",
       "      <th>isAnonymous</th>\n",
       "    </tr>\n",
       "  </thead>\n",
       "  <tbody>\n",
       "    <tr>\n",
       "      <th>5896336</th>\n",
       "      <td>55017545</td>\n",
       "      <td>116852</td>\n",
       "      <td>дЕвы, снова включился отработанный сценарий. \"...</td>\n",
       "      <td>NEGATIVE</td>\n",
       "      <td>NEGATIVE</td>\n",
       "      <td>NEGATIVE</td>\n",
       "      <td>NEGATIVE</td>\n",
       "      <td>No</td>\n",
       "    </tr>\n",
       "  </tbody>\n",
       "</table>\n",
       "</div>"
      ],
      "text/plain": [
       "         Message_Id  Author_Id  \\\n",
       "5896336    55017545     116852   \n",
       "\n",
       "                                                   message dostoevsky  \\\n",
       "5896336  дЕвы, снова включился отработанный сценарий. \"...   NEGATIVE   \n",
       "\n",
       "        dostoevsky_n   tatyana   twitter isAnonymous  \n",
       "5896336     NEGATIVE  NEGATIVE  NEGATIVE          No  "
      ]
     },
     "execution_count": 44,
     "metadata": {},
     "output_type": "execute_result"
    }
   ],
   "source": [
    "Messages[Messages['Message_Id']==55017545]"
   ]
  },
  {
   "cell_type": "code",
   "execution_count": 46,
   "id": "7eb350a0-8949-446c-92ca-53f887cb79a5",
   "metadata": {},
   "outputs": [
    {
     "data": {
      "text/html": [
       "<div>\n",
       "<style scoped>\n",
       "    .dataframe tbody tr th:only-of-type {\n",
       "        vertical-align: middle;\n",
       "    }\n",
       "\n",
       "    .dataframe tbody tr th {\n",
       "        vertical-align: top;\n",
       "    }\n",
       "\n",
       "    .dataframe thead th {\n",
       "        text-align: right;\n",
       "    }\n",
       "</style>\n",
       "<table border=\"1\" class=\"dataframe\">\n",
       "  <thead>\n",
       "    <tr style=\"text-align: right;\">\n",
       "      <th></th>\n",
       "      <th>Message_Id</th>\n",
       "      <th>Author_Id</th>\n",
       "      <th>message</th>\n",
       "      <th>dostoevsky</th>\n",
       "      <th>dostoevsky_n</th>\n",
       "      <th>tatyana</th>\n",
       "      <th>twitter</th>\n",
       "      <th>isAnonymous</th>\n",
       "    </tr>\n",
       "  </thead>\n",
       "  <tbody>\n",
       "    <tr>\n",
       "      <th>4953353</th>\n",
       "      <td>98973562</td>\n",
       "      <td>235</td>\n",
       "      <td>Подлости нет? Это вы не работаете , наверное. ...</td>\n",
       "      <td>NEGATIVE</td>\n",
       "      <td>NEGATIVE</td>\n",
       "      <td>NEGATIVE</td>\n",
       "      <td>NEGATIVE</td>\n",
       "      <td>No</td>\n",
       "    </tr>\n",
       "  </tbody>\n",
       "</table>\n",
       "</div>"
      ],
      "text/plain": [
       "         Message_Id  Author_Id  \\\n",
       "4953353    98973562        235   \n",
       "\n",
       "                                                   message dostoevsky  \\\n",
       "4953353  Подлости нет? Это вы не работаете , наверное. ...   NEGATIVE   \n",
       "\n",
       "        dostoevsky_n   tatyana   twitter isAnonymous  \n",
       "4953353     NEGATIVE  NEGATIVE  NEGATIVE          No  "
      ]
     },
     "execution_count": 46,
     "metadata": {},
     "output_type": "execute_result"
    }
   ],
   "source": [
    "Messages[Messages['Message_Id']==98973562]"
   ]
  },
  {
   "cell_type": "markdown",
   "id": "014ff4cd-237d-4fa3-a62b-9009e3a65ca0",
   "metadata": {},
   "source": [
    "More or less correctly. I wish I had sarcasm detection. "
   ]
  },
  {
   "cell_type": "markdown",
   "id": "13f87e3f-47da-4c80-9256-acab7e591348",
   "metadata": {},
   "source": [
    "## Inapropriate messages"
   ]
  },
  {
   "cell_type": "code",
   "execution_count": 5,
   "id": "c4d61589-9aa1-4b62-8061-a6f65e6012e7",
   "metadata": {},
   "outputs": [
    {
     "data": {
      "text/plain": [
       "9455613"
      ]
     },
     "execution_count": 5,
     "metadata": {},
     "output_type": "execute_result"
    }
   ],
   "source": [
    "sa_inappropriate = pd.read_csv(sa_inappropriate_full_filename, error_bad_lines=False, index_col=False)\n",
    "len(sa_inappropriate)"
   ]
  },
  {
   "cell_type": "code",
   "execution_count": 6,
   "id": "20f4c3f6-93a3-4c3f-9f07-0d483cc3082e",
   "metadata": {},
   "outputs": [],
   "source": [
    "Messages=pd.merge(Messages, sa_inappropriate, left_on='Message_Id', right_on='Message_Id', how='left')"
   ]
  },
  {
   "cell_type": "code",
   "execution_count": 7,
   "id": "4ff609d2-63c3-447e-a4ae-2d69269bd351",
   "metadata": {},
   "outputs": [
    {
     "data": {
      "text/plain": [
       "0"
      ]
     },
     "execution_count": 7,
     "metadata": {},
     "output_type": "execute_result"
    }
   ],
   "source": [
    "len(Messages[Messages['inappropriate'].isnull()])"
   ]
  },
  {
   "cell_type": "code",
   "execution_count": 8,
   "id": "24b3068a-b90f-49b2-954f-56dde4a08ca9",
   "metadata": {},
   "outputs": [],
   "source": [
    "Messages.to_csv(Messages_full_filename, header=True, index=False)"
   ]
  },
  {
   "cell_type": "code",
   "execution_count": 11,
   "id": "65846135-f26d-4416-8442-954855fa5996",
   "metadata": {},
   "outputs": [
    {
     "data": {
      "text/plain": [
       "Index(['Message_Id', 'Parent_Id', 'date_time', 'Author_Id', 'author',\n",
       "       'original_message', 'message', 'message_characters', 'message_words',\n",
       "       'emojis', 'images', 'links', 'original_paragraphs', 'actual_paragraphs',\n",
       "       ' avg_paragraph_characters', 'avg_paragraph_words', 'Topic_Id', 'Topic',\n",
       "       'Chapter_Id', 'Chapter', 'cnt_childs', 'dostoevsky', 'tatyana',\n",
       "       'inappropriate'],\n",
       "      dtype='object')"
      ]
     },
     "execution_count": 11,
     "metadata": {},
     "output_type": "execute_result"
    }
   ],
   "source": [
    "Messages.columns"
   ]
  },
  {
   "cell_type": "code",
   "execution_count": 14,
   "id": "6ad6376a-339f-4ff1-b129-6abf0eacaea4",
   "metadata": {},
   "outputs": [
    {
     "data": {
      "text/plain": [
       "9455548    103125556\n",
       "9455573    103127230\n",
       "9455593    103133140\n",
       "9455598    103133483\n",
       "9455607    103135610\n",
       "Name: Message_Id, dtype: int64"
      ]
     },
     "execution_count": 14,
     "metadata": {},
     "output_type": "execute_result"
    }
   ],
   "source": [
    "Messages[((Messages['tatyana']=='NEGATIVE') & (Messages['inappropriate']=='Y'))]['Message_Id'].tail()"
   ]
  },
  {
   "cell_type": "markdown",
   "id": "bb91829a-9d90-4b5a-9c70-238698334c8b",
   "metadata": {},
   "source": [
    "Mostly about using \"bad\" words (which is rare, because the forum is moderated) or just discussion of kids punishment, even in a negative way (\"It's bad to beat a kid\" is considered inapropriate)"
   ]
  },
  {
   "cell_type": "code",
   "execution_count": 15,
   "id": "1e6d94e5-5ead-4b99-875c-6d442e094483",
   "metadata": {},
   "outputs": [
    {
     "data": {
      "text/html": [
       "<div>\n",
       "<style scoped>\n",
       "    .dataframe tbody tr th:only-of-type {\n",
       "        vertical-align: middle;\n",
       "    }\n",
       "\n",
       "    .dataframe tbody tr th {\n",
       "        vertical-align: top;\n",
       "    }\n",
       "\n",
       "    .dataframe thead th {\n",
       "        text-align: right;\n",
       "    }\n",
       "</style>\n",
       "<table border=\"1\" class=\"dataframe\">\n",
       "  <thead>\n",
       "    <tr style=\"text-align: right;\">\n",
       "      <th></th>\n",
       "      <th>tatyana</th>\n",
       "      <th>inappropriate</th>\n",
       "      <th>counts</th>\n",
       "    </tr>\n",
       "  </thead>\n",
       "  <tbody>\n",
       "    <tr>\n",
       "      <th>0</th>\n",
       "      <td>NEGATIVE</td>\n",
       "      <td>N</td>\n",
       "      <td>3187463</td>\n",
       "    </tr>\n",
       "    <tr>\n",
       "      <th>2</th>\n",
       "      <td>NEUTRAL</td>\n",
       "      <td>N</td>\n",
       "      <td>2899981</td>\n",
       "    </tr>\n",
       "    <tr>\n",
       "      <th>4</th>\n",
       "      <td>POSITIVE</td>\n",
       "      <td>N</td>\n",
       "      <td>1829028</td>\n",
       "    </tr>\n",
       "    <tr>\n",
       "      <th>1</th>\n",
       "      <td>NEGATIVE</td>\n",
       "      <td>Y</td>\n",
       "      <td>944159</td>\n",
       "    </tr>\n",
       "    <tr>\n",
       "      <th>3</th>\n",
       "      <td>NEUTRAL</td>\n",
       "      <td>Y</td>\n",
       "      <td>330975</td>\n",
       "    </tr>\n",
       "    <tr>\n",
       "      <th>5</th>\n",
       "      <td>POSITIVE</td>\n",
       "      <td>Y</td>\n",
       "      <td>264007</td>\n",
       "    </tr>\n",
       "  </tbody>\n",
       "</table>\n",
       "</div>"
      ],
      "text/plain": [
       "    tatyana inappropriate   counts\n",
       "0  NEGATIVE             N  3187463\n",
       "2   NEUTRAL             N  2899981\n",
       "4  POSITIVE             N  1829028\n",
       "1  NEGATIVE             Y   944159\n",
       "3   NEUTRAL             Y   330975\n",
       "5  POSITIVE             Y   264007"
      ]
     },
     "execution_count": 15,
     "metadata": {},
     "output_type": "execute_result"
    }
   ],
   "source": [
    "Messages.groupby(['tatyana','inappropriate']).size().reset_index(name='counts').sort_values('counts', ascending=False)"
   ]
  },
  {
   "cell_type": "markdown",
   "id": "4097dbb1-e212-4850-b0f2-cb5c5534cff7",
   "metadata": {},
   "source": [
    "No practical use of this feature"
   ]
  }
 ],
 "metadata": {
  "kernelspec": {
   "display_name": "Python 3",
   "language": "python",
   "name": "python3"
  },
  "language_info": {
   "codemirror_mode": {
    "name": "ipython",
    "version": 3
   },
   "file_extension": ".py",
   "mimetype": "text/x-python",
   "name": "python",
   "nbconvert_exporter": "python",
   "pygments_lexer": "ipython3",
   "version": "3.8.5"
  }
 },
 "nbformat": 4,
 "nbformat_minor": 5
}
