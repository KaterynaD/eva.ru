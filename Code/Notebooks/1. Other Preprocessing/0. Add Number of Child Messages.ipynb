{
 "cells": [
  {
   "cell_type": "markdown",
   "id": "7bb95197-ddc8-4904-b063-a47d46e7fc6f",
   "metadata": {},
   "source": [
    "The notebook calculates number of child posts for each post in eva.ru forums. \n",
    "\n",
    "Topics in forums are built as dialogs in a tree-form. A topic starter publishes a first post and other women reply, ask additional questions directly to this first post or organize separate branches starting from replies to the first post. "
   ]
  },
  {
   "cell_type": "code",
   "execution_count": null,
   "id": "496a2bf2-7f01-4a3f-8c44-d3fe90a6b471",
   "metadata": {},
   "outputs": [],
   "source": [
    "import os\n",
    "import pandas as pd\n",
    "import numpy as np"
   ]
  },
  {
   "cell_type": "code",
   "execution_count": null,
   "id": "37650aac-1cc8-409a-85eb-6d21ad1552b2",
   "metadata": {},
   "outputs": [],
   "source": [
    "Data='/home/kate/Projects/eva/Data'\n",
    "Messages_filename='Messages.csv'\n",
    "Messages_full_filename=os.path.join(Data, Messages_filename)\n",
    "\n",
    "Childs_filename='cnt_childs.csv'\n",
    "Childs_full_filename=os.path.join(Data, Childs_filename)"
   ]
  },
  {
   "cell_type": "code",
   "execution_count": null,
   "id": "3380b299-a6ee-45c7-be87-186cb5d75e16",
   "metadata": {},
   "outputs": [],
   "source": [
    "Messages = pd.read_csv(Messages_full_filename, error_bad_lines=False, index_col=False)"
   ]
  },
  {
   "cell_type": "code",
   "execution_count": null,
   "id": "621fa5a1-3226-41db-aca4-429467df65ab",
   "metadata": {},
   "outputs": [],
   "source": [
    "#https://stackoverflow.com/questions/40861418/how-to-count-number-of-children-for-every-node-in-an-adjacency-tree-dataframe-in\n",
    "def find_children(df, node, Topic_Id, explored_children = []):\n",
    "    '''\n",
    "    find direct children of a cerain node within a network \n",
    "    '''\n",
    "    children = df.query('Parent_Id==@node and Topic_Id==@Topic_Id')['Message_Id'].values.tolist()    \n",
    "    # Takes care of the case when we go back to an already visited node    \n",
    "    new_children = set(children) - set(explored_children)\n",
    "\n",
    "    return new_children\n",
    "\n",
    "def recursive_find_children(df, node, Topic_Id, explored_children = []):\n",
    "    '''\n",
    "    recursively find all children of a certain node within a network\n",
    "    '''\n",
    "\n",
    "    new_children = find_children(df, node, Topic_Id, explored_children)\n",
    "\n",
    "    # Exit Case, when we have arrived to a node with no children or we go back to an already visited node\n",
    "    if not new_children:\n",
    "\n",
    "        return set(explored_children)\n",
    "\n",
    "    else: \n",
    "    # Recursive call\n",
    "    # Add direct children and all children of children (to any nested level)\n",
    "        new_explored_children = set(explored_children).union(set(new_children))\n",
    "        return set(explored_children).union(*[recursive_find_children(df, nd,Topic_Id, new_explored_children) for nd in new_children])"
   ]
  },
  {
   "cell_type": "code",
   "execution_count": null,
   "id": "36d21b62-ed19-49bb-a37e-5c8b72b11390",
   "metadata": {},
   "outputs": [],
   "source": [
    "tid=Messages['Topic_Id'].unique().tolist()"
   ]
  },
  {
   "cell_type": "code",
   "execution_count": null,
   "id": "1568c88d-534f-497e-8479-9262a7cfb83e",
   "metadata": {},
   "outputs": [],
   "source": [
    "df_cnt_childs=pd.DataFrame(columns=['Topic_Id','Message_Id','Parent_Id','cnt_childs'])"
   ]
  },
  {
   "cell_type": "code",
   "execution_count": null,
   "id": "d0aea1f0-243a-4309-aaa0-5291be4b0aec",
   "metadata": {},
   "outputs": [],
   "source": [
    "for id in tid: \n",
    "    df=Messages[Messages['Topic_Id']==id][['Topic_Id','Message_Id','Parent_Id']]\n",
    "    all_nodes_in_topics = df.groupby('Topic_Id').apply(lambda x: set(x[['Message_Id', 'Parent_Id']].values.flatten())).to_dict()\n",
    "    all_children = {Topic_Id : {node : recursive_find_children(df, node, Topic_Id) for node in all_nodes_in_topics[Topic_Id]} for Topic_Id in all_nodes_in_topics}\n",
    "    all_children_number = {Topic_Id: {node: len(all_children[Topic_Id][node]) for node in all_children[Topic_Id]} for Topic_Id in all_children}\n",
    "    cnt_childs_topic=pd.DataFrame.from_dict(all_children_number).reset_index()\n",
    "    cnt_childs_topic.columns=['Message_Id','cnt_childs']\n",
    "    df=pd.merge(df, cnt_childs_topic, left_on='Message_Id', right_on='Message_Id', how='inner')\n",
    "    df_cnt_childs=df_cnt_childs.append(df)\n",
    "    df_cnt_childs.to_csv(Childs_full_filename, header=True, index=False)\n",
    "    print('.', end = ' '),\n",
    "print()\n",
    "print('Processing  complete')     "
   ]
  },
  {
   "cell_type": "code",
   "execution_count": null,
   "id": "fb10d60e-95f8-424c-8afb-49f0b8aef8cb",
   "metadata": {},
   "outputs": [],
   "source": [
    "df_cnt_childs.tail()"
   ]
  }
 ],
 "metadata": {
  "kernelspec": {
   "display_name": "Python 3",
   "language": "python",
   "name": "python3"
  },
  "language_info": {
   "codemirror_mode": {
    "name": "ipython",
    "version": 3
   },
   "file_extension": ".py",
   "mimetype": "text/x-python",
   "name": "python",
   "nbconvert_exporter": "python",
   "pygments_lexer": "ipython3",
   "version": "3.8.5"
  }
 },
 "nbformat": 4,
 "nbformat_minor": 5
}
