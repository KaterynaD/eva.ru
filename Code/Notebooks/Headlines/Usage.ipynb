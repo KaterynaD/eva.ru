{
  "nbformat": 4,
  "nbformat_minor": 0,
  "metadata": {
    "colab": {
      "name": "Usage.ipynb",
      "provenance": [],
      "collapsed_sections": [],
      "authorship_tag": "ABX9TyN2bS+zXnjT+CdkBrR5Lw73",
      "include_colab_link": true
    },
    "kernelspec": {
      "name": "python3",
      "display_name": "Python 3"
    },
    "language_info": {
      "name": "python"
    }
  },
  "cells": [
    {
      "cell_type": "markdown",
      "metadata": {
        "id": "view-in-github",
        "colab_type": "text"
      },
      "source": [
        "<a href=\"https://colab.research.google.com/github/KaterynaD/eva.ru/blob/main/Code/Notebooks/Headlines/Usage.ipynb\" target=\"_parent\"><img src=\"https://colab.research.google.com/assets/colab-badge.svg\" alt=\"Open In Colab\"/></a>"
      ]
    },
    {
      "cell_type": "code",
      "source": [
        "!pip install transformers -q"
      ],
      "metadata": {
        "id": "NIOtusHOe_bJ",
        "colab": {
          "base_uri": "https://localhost:8080/"
        },
        "outputId": "426d9dcc-bd25-44c7-8a0d-f2eea154e4d0"
      },
      "execution_count": 1,
      "outputs": [
        {
          "output_type": "stream",
          "name": "stdout",
          "text": [
            "\u001b[K     |████████████████████████████████| 4.0 MB 5.1 MB/s \n",
            "\u001b[K     |████████████████████████████████| 895 kB 51.2 MB/s \n",
            "\u001b[K     |████████████████████████████████| 77 kB 1.7 MB/s \n",
            "\u001b[K     |████████████████████████████████| 6.6 MB 10.6 MB/s \n",
            "\u001b[K     |████████████████████████████████| 596 kB 64.8 MB/s \n",
            "\u001b[?25h"
          ]
        }
      ]
    },
    {
      "cell_type": "code",
      "source": [
        "from google.colab import drive \n",
        "drive.mount('/content/drive')"
      ],
      "metadata": {
        "colab": {
          "base_uri": "https://localhost:8080/"
        },
        "id": "kedOPRSvhS9y",
        "outputId": "53fb3ea9-76b4-48f5-b493-cd685f89e0cc"
      },
      "execution_count": 2,
      "outputs": [
        {
          "output_type": "stream",
          "name": "stdout",
          "text": [
            "Mounted at /content/drive\n"
          ]
        }
      ]
    },
    {
      "cell_type": "code",
      "execution_count": 3,
      "metadata": {
        "id": "IUr4vCL7eyd7"
      },
      "outputs": [],
      "source": [
        "from transformers import AutoTokenizer, T5ForConditionalGeneration"
      ]
    },
    {
      "cell_type": "code",
      "source": [
        "model_name = '/content/drive/MyDrive/Colab Notebooks/Projects/eva/Models/Headlines Final/'\n",
        "tokenizer = AutoTokenizer.from_pretrained(model_name)\n",
        "model = T5ForConditionalGeneration.from_pretrained(model_name)"
      ],
      "metadata": {
        "id": "NSWlhUhufHsO"
      },
      "execution_count": 4,
      "outputs": []
    },
    {
      "cell_type": "code",
      "source": [
        "text = 'Я влюбилась в одного парня. Каждый раз, когда он меня видит, он плюется и переходит на другую сторону улицы. Как вы думаете, он меня любит?'"
      ],
      "metadata": {
        "id": "xezRwTxOfJZx"
      },
      "execution_count": 5,
      "outputs": []
    },
    {
      "cell_type": "code",
      "source": [
        "input_ids = tokenizer(\n",
        "    [text],\n",
        "    max_length=150,\n",
        "    add_special_tokens=True,\n",
        "    padding=\"max_length\",\n",
        "    truncation=True,\n",
        "    return_tensors=\"pt\"\n",
        ")[\"input_ids\"]\n",
        "\n",
        "output_ids = model.generate(\n",
        "    input_ids=input_ids,\n",
        "    max_length=25,\n",
        "    num_beams=4,\n",
        "    repetition_penalty=5.0,\n",
        "    no_repeat_ngram_size=4\n",
        ")[0]\n",
        "\n",
        "headline = tokenizer.decode(output_ids, skip_special_tokens=True)\n",
        "print(headline)"
      ],
      "metadata": {
        "colab": {
          "base_uri": "https://localhost:8080/"
        },
        "id": "5xnONFZXfMex",
        "outputId": "826d0bf1-0db9-44d6-f47b-831e244f61be"
      },
      "execution_count": 6,
      "outputs": [
        {
          "output_type": "stream",
          "name": "stdout",
          "text": [
            "Влюбилась в одного парня\n"
          ]
        }
      ]
    }
  ]
}