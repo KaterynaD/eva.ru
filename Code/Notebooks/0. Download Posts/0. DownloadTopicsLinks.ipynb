{
 "cells": [
  {
   "cell_type": "markdown",
   "id": "9d537757-24bd-4eb9-a054-d27b03927a79",
   "metadata": {},
   "source": [
    "This is a prototype of Python code (DownloadTopicsLinks.py) to download eva.ru forums and topics links."
   ]
  },
  {
   "cell_type": "code",
   "execution_count": 1,
   "id": "9eb4b075-f581-4a04-9ee0-f168fd9ad1ff",
   "metadata": {},
   "outputs": [],
   "source": [
    "from bs4 import BeautifulSoup\n",
    "import urllib.request\n",
    "import os\n",
    "import pandas as pd\n",
    "import numpy as np"
   ]
  },
  {
   "cell_type": "code",
   "execution_count": 2,
   "id": "bdf29398-cd2f-495e-97e9-3b7cb7d1e4d3",
   "metadata": {},
   "outputs": [],
   "source": [
    "Base_URL='https://eva.ru'\n",
    "Data='/home/kate/Projects/eva/Data'\n",
    "Chapters_filename='Chapters.csv'\n",
    "Chapters_full_filename=os.path.join(Data, Chapters_filename)\n",
    "Topics_links_filename='Topics.csv'\n",
    "Topics_links_full_filename=os.path.join(Data, Topics_links_filename)"
   ]
  },
  {
   "cell_type": "code",
   "execution_count": 3,
   "id": "6622738a-5914-47ef-a435-55bac0d937b5",
   "metadata": {},
   "outputs": [],
   "source": [
    "def GetTopics_v1(archive_topics_url,topics_folder,chapter_id):\n",
    "    html_page = urllib.request.urlopen(archive_topics_url)\n",
    "    start = '<h3>'\n",
    "    end = '</h3>'\n",
    "    Topics_Names=list()\n",
    "    Topics_Links=list()\n",
    "    Chapters_ids=list()\n",
    "    soup = BeautifulSoup(html_page)\n",
    "    for link in soup.findAll('a'):\n",
    "        l=link['href']\n",
    "        if '/%s/messages-'%topics_folder in l:\n",
    "            topic_link=l\n",
    "            s=str(link)\n",
    "            topic_name=s[s.find(start)+len(start):s.rfind(end)]\n",
    "            Chapters_ids.append(chapter_id)\n",
    "            Topics_Links.append(topic_link)\n",
    "            Topics_Names.append(topic_name)\n",
    "    return list(zip(Chapters_ids,Topics_Names,Topics_Links))"
   ]
  },
  {
   "cell_type": "code",
   "execution_count": 4,
   "id": "0b940a6d-bfed-41e7-b87f-3e5019aa777a",
   "metadata": {},
   "outputs": [
    {
     "data": {
      "text/html": [
       "<div>\n",
       "<style scoped>\n",
       "    .dataframe tbody tr th:only-of-type {\n",
       "        vertical-align: middle;\n",
       "    }\n",
       "\n",
       "    .dataframe tbody tr th {\n",
       "        vertical-align: top;\n",
       "    }\n",
       "\n",
       "    .dataframe thead th {\n",
       "        text-align: right;\n",
       "    }\n",
       "</style>\n",
       "<table border=\"1\" class=\"dataframe\">\n",
       "  <thead>\n",
       "    <tr style=\"text-align: right;\">\n",
       "      <th></th>\n",
       "      <th>Chapter</th>\n",
       "      <th>Folder</th>\n",
       "      <th>Id</th>\n",
       "      <th>StartFromPage</th>\n",
       "      <th>StopOnPage</th>\n",
       "      <th>ProcessedPage</th>\n",
       "    </tr>\n",
       "  </thead>\n",
       "  <tbody>\n",
       "    <tr>\n",
       "      <th>0</th>\n",
       "      <td>Все остальное</td>\n",
       "      <td>beauty</td>\n",
       "      <td>77</td>\n",
       "      <td>1</td>\n",
       "      <td>100000</td>\n",
       "      <td>0</td>\n",
       "    </tr>\n",
       "    <tr>\n",
       "      <th>1</th>\n",
       "      <td>Телефон Доверия</td>\n",
       "      <td>phone</td>\n",
       "      <td>63</td>\n",
       "      <td>1</td>\n",
       "      <td>100000</td>\n",
       "      <td>0</td>\n",
       "    </tr>\n",
       "    <tr>\n",
       "      <th>2</th>\n",
       "      <td>Детская психология и развитие</td>\n",
       "      <td>kids</td>\n",
       "      <td>137</td>\n",
       "      <td>1</td>\n",
       "      <td>100000</td>\n",
       "      <td>0</td>\n",
       "    </tr>\n",
       "  </tbody>\n",
       "</table>\n",
       "</div>"
      ],
      "text/plain": [
       "                         Chapter  Folder   Id  StartFromPage  StopOnPage  \\\n",
       "0                  Все остальное  beauty   77              1      100000   \n",
       "1                Телефон Доверия   phone   63              1      100000   \n",
       "2  Детская психология и развитие    kids  137              1      100000   \n",
       "\n",
       "   ProcessedPage  \n",
       "0              0  \n",
       "1              0  \n",
       "2              0  "
      ]
     },
     "execution_count": 4,
     "metadata": {},
     "output_type": "execute_result"
    }
   ],
   "source": [
    "Chapters = pd.read_csv(Chapters_full_filename, error_bad_lines=False, index_col=False) \n",
    "Chapters"
   ]
  },
  {
   "cell_type": "code",
   "execution_count": null,
   "id": "669d2789-24b8-4204-a369-7be05304c385",
   "metadata": {},
   "outputs": [],
   "source": [
    "Topics=pd.DataFrame(columns=['Chapter_Id','Name','Link'])\n",
    "for index, row in Chapters[Chapters['StopOnPage']>Chapters['ProcessedPage']].iterrows():\n",
    "    page=row['StartFromPage']\n",
    "    StopOnPage=row['StopOnPage']\n",
    "    topics_folder=row['Folder']\n",
    "    chapter_id=row['Id']\n",
    "    print('Starting chapter %s'%row['Chapter'])\n",
    "    while True:\n",
    "        print('%s,'%page, end = \" \"),\n",
    "        try:\n",
    "            t=GetTopics_v1('%s/%s/topics-%s.htm?pageNum=%s'%(Base_URL,topics_folder,chapter_id,page),topics_folder,chapter_id)\n",
    "            if len(t)==0:\n",
    "                print()\n",
    "                print('No topics found on page %s'%page)\n",
    "                break            \n",
    "            Topics=Topics.append(pd.DataFrame(t, columns=['Chapter_Id','Name','Link']))\n",
    "            Topics.to_csv(Topics_links_full_filename, header=True, index=False)\n",
    "            Chapters.at[index,'ProcessedPage']=page\n",
    "            Chapters.to_csv(Chapters_full_filename, header=True, index=False)  \n",
    "            if page==StopOnPage:\n",
    "                break                    \n",
    "            page=page+1\n",
    "        except Exception as e:\n",
    "            print('Something went wrong...'+ str(e))\n",
    "            break\n",
    "    print()\n",
    "    print('Processing chapter %s complete'%row['Chapter'])"
   ]
  },
  {
   "cell_type": "code",
   "execution_count": null,
   "id": "e1b21d34-bef2-4287-a465-4451c18cd8dc",
   "metadata": {},
   "outputs": [],
   "source": [
    "Chapters"
   ]
  }
 ],
 "metadata": {
  "kernelspec": {
   "display_name": "Python 3",
   "language": "python",
   "name": "python3"
  },
  "language_info": {
   "codemirror_mode": {
    "name": "ipython",
    "version": 3
   },
   "file_extension": ".py",
   "mimetype": "text/x-python",
   "name": "python",
   "nbconvert_exporter": "python",
   "pygments_lexer": "ipython3",
   "version": "3.8.5"
  }
 },
 "nbformat": 4,
 "nbformat_minor": 5
}
