{
 "cells": [
  {
   "cell_type": "markdown",
   "id": "df8cf89d-c576-4737-a9c9-bf9e42b02eaa",
   "metadata": {},
   "source": [
    "eva.ru forum posts were downloaded using mobile forum html version (much faster). However, this forum version does not contain a year when posts were published. The code below is used to download posts using computer evar.ru forum html version to extract the full date. This is a prototype of DownloadMessagesDates.py which was run in background mode for months in several threads."
   ]
  },
  {
   "cell_type": "code",
   "execution_count": 1,
   "id": "08bf2dd6-7186-44ef-99d2-87d542903ad4",
   "metadata": {},
   "outputs": [],
   "source": [
    "from bs4 import BeautifulSoup\n",
    "import urllib.request\n",
    "import os\n",
    "import pandas as pd\n",
    "import numpy as np\n",
    "\n",
    "import time"
   ]
  },
  {
   "cell_type": "code",
   "execution_count": 9,
   "id": "2a203f9f-7a27-417b-8ad6-ccd92629f0df",
   "metadata": {},
   "outputs": [],
   "source": [
    "Start_Message_Id=0\n",
    "End_Message_Id=100\n",
    "Part=200"
   ]
  },
  {
   "cell_type": "code",
   "execution_count": 10,
   "id": "169200de-631b-4057-a47e-aa8efdb408a6",
   "metadata": {},
   "outputs": [],
   "source": [
    "Base_URL='https://eva.ru/forum/topic/message/%s.htm'\n",
    "Data='/home/kate/Projects/eva/Data'\n",
    "\n",
    "Messages_filename='missing_timestamp.csv'\n",
    "Messages_full_filename=os.path.join(Data, 'Dates/', Messages_filename)\n",
    "\n",
    "Dates_filename='Timestamp_%s.csv'%Part\n",
    "Dates_full_filename=os.path.join(Data, Dates_filename)\n",
    "attempts=10\n",
    "delay=60"
   ]
  },
  {
   "cell_type": "code",
   "execution_count": 5,
   "id": "065fb7e3-c8f8-40db-be64-ad3cbb938e59",
   "metadata": {},
   "outputs": [],
   "source": [
    "def GetMessageDate(Message_Id):\n",
    "    html_page = urllib.request.urlopen(Base_URL%Message_Id)\n",
    "    soup = BeautifulSoup(html_page)\n",
    "    dates = soup.findAll('div', {'class': 'date'})\n",
    "    for d in dates:\n",
    "        return d.text.strip().rstrip('\\n').lstrip('\\n').replace('Дата: ','').replace('Время: ','')[0:14]\n",
    "    else:\n",
    "        return ''"
   ]
  },
  {
   "cell_type": "code",
   "execution_count": 6,
   "id": "ac78682f-bf33-42ec-bfb5-7a3ae8799e9d",
   "metadata": {},
   "outputs": [],
   "source": [
    "Messages = pd.read_csv(Messages_full_filename, error_bad_lines=False, index_col=False, usecols=['Message_Id'])"
   ]
  },
  {
   "cell_type": "code",
   "execution_count": 11,
   "id": "5d85f118-b05f-4ec0-b3d3-1dbdf80fc616",
   "metadata": {},
   "outputs": [],
   "source": [
    "SubsetToDownload=Messages[Start_Message_Id:End_Message_Id+1:1]"
   ]
  },
  {
   "cell_type": "code",
   "execution_count": 13,
   "id": "9b81409f-47fc-4b76-bec8-8b4943e4a593",
   "metadata": {},
   "outputs": [
    {
     "name": "stdout",
     "output_type": "stream",
     "text": [
      ". . . . . . . . . . . . . . . . . . . \n",
      "Processing  complete\n"
     ]
    }
   ],
   "source": [
    "dates_l=list()\n",
    "for index, row in SubsetToDownload.iterrows():\n",
    "    print('.', end = ' '),\n",
    "    cnt=0\n",
    "    while cnt<attempts:\n",
    "        try:\n",
    "            dates_l.append(GetMessageDate(row['Message_Id']))\n",
    "            cnt=attempts\n",
    "        except Exception as e:\n",
    "            print('Something went wrong...'+ str(e))\n",
    "            cnt=cnt+1\n",
    "            print('Waiting...')\n",
    "            time.sleep(delay)\n",
    "            print('Attempt to read message %s # %s'%(t_row['Topic_Id'],cnt+1))\n",
    "    if cnt>attempts:\n",
    "        print('Too many false attempts. Stop execution...')\n",
    "        break\n",
    "print()\n",
    "print('Processing  complete')         \n",
    "dates_pd=pd.DataFrame({'Message_Id': SubsetToDownload['Message_Id'].tolist(),'Timestamp': dates_l})\n",
    "dates_pd.to_csv(Dates_full_filename, header=True, index=False)"
   ]
  }
 ],
 "metadata": {
  "kernelspec": {
   "display_name": "Python 3",
   "language": "python",
   "name": "python3"
  },
  "language_info": {
   "codemirror_mode": {
    "name": "ipython",
    "version": 3
   },
   "file_extension": ".py",
   "mimetype": "text/x-python",
   "name": "python",
   "nbconvert_exporter": "python",
   "pygments_lexer": "ipython3",
   "version": "3.8.5"
  }
 },
 "nbformat": 4,
 "nbformat_minor": 5
}
