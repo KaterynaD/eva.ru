{
 "cells": [
  {
   "cell_type": "markdown",
   "metadata": {},
   "source": [
    "Final trial to create a best model (well, set of models for 10 folds) to find clones between eva.ru forum users."
   ]
  },
  {
   "cell_type": "code",
   "execution_count": 1,
   "metadata": {
    "colab": {
     "base_uri": "https://localhost:8080/"
    },
    "executionInfo": {
     "elapsed": 2282,
     "status": "ok",
     "timestamp": 1636650142049,
     "user": {
      "displayName": "Kateryna Drogaieva",
      "photoUrl": "https://lh3.googleusercontent.com/a-/AOh14GjB1LQYJH97Lqm6RsCcAADFgzEAa0YxMUT7P4mjlA=s64",
      "userId": "10877377912113147805"
     },
     "user_tz": 480
    },
    "id": "5BGlJw7Qqz1w",
    "outputId": "562b04bf-fd3e-41de-862a-9226cf8fdfbb"
   },
   "outputs": [
    {
     "name": "stdout",
     "output_type": "stream",
     "text": [
      "Drive already mounted at /content/drive; to attempt to forcibly remount, call drive.mount(\"/content/drive\", force_remount=True).\n"
     ]
    }
   ],
   "source": [
    "from google.colab import drive\n",
    "drive.mount('/content/drive')"
   ]
  },
  {
   "cell_type": "code",
   "execution_count": 2,
   "metadata": {
    "executionInfo": {
     "elapsed": 1735,
     "status": "ok",
     "timestamp": 1636650143778,
     "user": {
      "displayName": "Kateryna Drogaieva",
      "photoUrl": "https://lh3.googleusercontent.com/a-/AOh14GjB1LQYJH97Lqm6RsCcAADFgzEAa0YxMUT7P4mjlA=s64",
      "userId": "10877377912113147805"
     },
     "user_tz": 480
    },
    "id": "w6F76Ds1rKS1"
   },
   "outputs": [],
   "source": [
    "import tensorflow as tf"
   ]
  },
  {
   "cell_type": "code",
   "execution_count": 3,
   "metadata": {
    "colab": {
     "base_uri": "https://localhost:8080/"
    },
    "executionInfo": {
     "elapsed": 1046,
     "status": "ok",
     "timestamp": 1636650144817,
     "user": {
      "displayName": "Kateryna Drogaieva",
      "photoUrl": "https://lh3.googleusercontent.com/a-/AOh14GjB1LQYJH97Lqm6RsCcAADFgzEAa0YxMUT7P4mjlA=s64",
      "userId": "10877377912113147805"
     },
     "user_tz": 480
    },
    "id": "Vhr_6dF-rAcO",
    "outputId": "98e55258-31c4-4348-9a2c-c567b55092c2"
   },
   "outputs": [
    {
     "name": "stdout",
     "output_type": "stream",
     "text": [
      "1 Physical GPUs, 1 Logical GPU\n"
     ]
    }
   ],
   "source": [
    "######## GPU CONFIGS FOR RTX 2070 ###############\n",
    "## Please ignore if not training on GPU       ##\n",
    "## this is important for running CuDNN on GPU ##\n",
    "\n",
    "tf.keras.backend.clear_session() #- for easy reset of notebook state\n",
    "\n",
    "# chck if GPU can be seen by TF\n",
    "tf.config.list_physical_devices('GPU')\n",
    "#tf.debugging.set_log_device_placement(True)\n",
    "gpus = tf.config.experimental.list_physical_devices('GPU')\n",
    "if gpus:\n",
    "  # Restrict TensorFlow to only use the first GPU\n",
    "  try:\n",
    "    tf.config.experimental.set_memory_growth(gpus[0], True)\n",
    "    tf.config.experimental.set_visible_devices(gpus[0], 'GPU')\n",
    "    logical_gpus = tf.config.experimental.list_logical_devices('GPU')\n",
    "    print(len(gpus), \"Physical GPUs,\", len(logical_gpus), \"Logical GPU\")\n",
    "  except RuntimeError as e:\n",
    "    # Visible devices must be set before GPUs have been initialized\n",
    "    print(e)\n",
    "###############################################"
   ]
  },
  {
   "cell_type": "code",
   "execution_count": 4,
   "metadata": {
    "colab": {
     "base_uri": "https://localhost:8080/"
    },
    "executionInfo": {
     "elapsed": 39,
     "status": "ok",
     "timestamp": 1636650144818,
     "user": {
      "displayName": "Kateryna Drogaieva",
      "photoUrl": "https://lh3.googleusercontent.com/a-/AOh14GjB1LQYJH97Lqm6RsCcAADFgzEAa0YxMUT7P4mjlA=s64",
      "userId": "10877377912113147805"
     },
     "user_tz": 480
    },
    "id": "yMGG5rtkWT8L",
    "outputId": "a3e9d9a4-1daa-42a7-99b1-65705077b91f"
   },
   "outputs": [
    {
     "name": "stdout",
     "output_type": "stream",
     "text": [
      "Your runtime has 54.8 gigabytes of available RAM\n",
      "\n",
      "You are using a high-RAM runtime!\n"
     ]
    }
   ],
   "source": [
    "from psutil import virtual_memory\n",
    "ram_gb = virtual_memory().total / 1e9\n",
    "print('Your runtime has {:.1f} gigabytes of available RAM\\n'.format(ram_gb))\n",
    "\n",
    "if ram_gb < 20:\n",
    "  print('Not using a high-RAM runtime')\n",
    "else:\n",
    "  print('You are using a high-RAM runtime!')"
   ]
  },
  {
   "cell_type": "code",
   "execution_count": 5,
   "metadata": {
    "colab": {
     "base_uri": "https://localhost:8080/"
    },
    "executionInfo": {
     "elapsed": 31,
     "status": "ok",
     "timestamp": 1636650144819,
     "user": {
      "displayName": "Kateryna Drogaieva",
      "photoUrl": "https://lh3.googleusercontent.com/a-/AOh14GjB1LQYJH97Lqm6RsCcAADFgzEAa0YxMUT7P4mjlA=s64",
      "userId": "10877377912113147805"
     },
     "user_tz": 480
    },
    "id": "EppjlNx6WENy",
    "outputId": "3f19eaf5-4af3-4719-dc07-f466c1475bd1"
   },
   "outputs": [
    {
     "name": "stdout",
     "output_type": "stream",
     "text": [
      "Thu Nov 11 17:02:24 2021       \n",
      "+-----------------------------------------------------------------------------+\n",
      "| NVIDIA-SMI 495.44       Driver Version: 460.32.03    CUDA Version: 11.2     |\n",
      "|-------------------------------+----------------------+----------------------+\n",
      "| GPU  Name        Persistence-M| Bus-Id        Disp.A | Volatile Uncorr. ECC |\n",
      "| Fan  Temp  Perf  Pwr:Usage/Cap|         Memory-Usage | GPU-Util  Compute M. |\n",
      "|                               |                      |               MIG M. |\n",
      "|===============================+======================+======================|\n",
      "|   0  Tesla V100-SXM2...  Off  | 00000000:00:04.0 Off |                    0 |\n",
      "| N/A   34C    P0    40W / 300W |    471MiB / 16160MiB |      5%      Default |\n",
      "|                               |                      |                  N/A |\n",
      "+-------------------------------+----------------------+----------------------+\n",
      "                                                                               \n",
      "+-----------------------------------------------------------------------------+\n",
      "| Processes:                                                                  |\n",
      "|  GPU   GI   CI        PID   Type   Process name                  GPU Memory |\n",
      "|        ID   ID                                                   Usage      |\n",
      "|=============================================================================|\n",
      "|  No running processes found                                                 |\n",
      "+-----------------------------------------------------------------------------+\n"
     ]
    }
   ],
   "source": [
    "gpu_info = !nvidia-smi\n",
    "gpu_info = '\\n'.join(gpu_info)\n",
    "if gpu_info.find('failed') >= 0:\n",
    "  print('Not connected to a GPU')\n",
    "else:\n",
    "  print(gpu_info)"
   ]
  },
  {
   "cell_type": "code",
   "execution_count": 6,
   "metadata": {
    "executionInfo": {
     "elapsed": 21,
     "status": "ok",
     "timestamp": 1636650144820,
     "user": {
      "displayName": "Kateryna Drogaieva",
      "photoUrl": "https://lh3.googleusercontent.com/a-/AOh14GjB1LQYJH97Lqm6RsCcAADFgzEAa0YxMUT7P4mjlA=s64",
      "userId": "10877377912113147805"
     },
     "user_tz": 480
    },
    "id": "L-5_9QCkrPfw"
   },
   "outputs": [],
   "source": [
    "import os\n",
    "import pandas as pd\n",
    "import numpy as np"
   ]
  },
  {
   "cell_type": "code",
   "execution_count": 7,
   "metadata": {
    "executionInfo": {
     "elapsed": 21,
     "status": "ok",
     "timestamp": 1636650144821,
     "user": {
      "displayName": "Kateryna Drogaieva",
      "photoUrl": "https://lh3.googleusercontent.com/a-/AOh14GjB1LQYJH97Lqm6RsCcAADFgzEAa0YxMUT7P4mjlA=s64",
      "userId": "10877377912113147805"
     },
     "user_tz": 480
    },
    "id": "bvnxCGjM2nKr"
   },
   "outputs": [],
   "source": [
    "#experiment duration\n",
    "import time"
   ]
  },
  {
   "cell_type": "code",
   "execution_count": 8,
   "metadata": {
    "executionInfo": {
     "elapsed": 22,
     "status": "ok",
     "timestamp": 1636650144822,
     "user": {
      "displayName": "Kateryna Drogaieva",
      "photoUrl": "https://lh3.googleusercontent.com/a-/AOh14GjB1LQYJH97Lqm6RsCcAADFgzEAa0YxMUT7P4mjlA=s64",
      "userId": "10877377912113147805"
     },
     "user_tz": 480
    },
    "id": "wF0xp1UfvmZ0"
   },
   "outputs": [],
   "source": [
    "#Saving into log (Excel file)\n",
    "import openpyxl \n",
    "def SaveToExperimentLog(Experiments_file, LogEntry, data):\n",
    "    book = openpyxl.load_workbook(Experiments_file)\n",
    "    writer = pd.ExcelWriter(Experiments_file, engine='openpyxl') \n",
    "    writer.book = book\n",
    "\n",
    "    writer.sheets = dict((ws.title, ws) for ws in book.worksheets)\n",
    "\n",
    "    data.to_excel(writer, LogEntry[0:29],index=False)\n",
    "\n",
    "    writer.save()\n",
    "    writer.close()"
   ]
  },
  {
   "cell_type": "code",
   "execution_count": 9,
   "metadata": {
    "executionInfo": {
     "elapsed": 20,
     "status": "ok",
     "timestamp": 1636650144822,
     "user": {
      "displayName": "Kateryna Drogaieva",
      "photoUrl": "https://lh3.googleusercontent.com/a-/AOh14GjB1LQYJH97Lqm6RsCcAADFgzEAa0YxMUT7P4mjlA=s64",
      "userId": "10877377912113147805"
     },
     "user_tz": 480
    },
    "id": "K3tGK-juvfDl"
   },
   "outputs": [],
   "source": [
    "#!pip install pycm"
   ]
  },
  {
   "cell_type": "code",
   "execution_count": 10,
   "metadata": {
    "executionInfo": {
     "elapsed": 17,
     "status": "ok",
     "timestamp": 1636650144822,
     "user": {
      "displayName": "Kateryna Drogaieva",
      "photoUrl": "https://lh3.googleusercontent.com/a-/AOh14GjB1LQYJH97Lqm6RsCcAADFgzEAa0YxMUT7P4mjlA=s64",
      "userId": "10877377912113147805"
     },
     "user_tz": 480
    },
    "id": "Is-PfhFpvMVj"
   },
   "outputs": [],
   "source": [
    "#to get score metrics from the model and save in the experiment log\n",
    "import pycm as cm\n",
    "def model_metrics(np_confusion_matrix,class_names):\n",
    "  #converting numpy array to dictionary\n",
    "  d_confusion_matrix={}\n",
    "  for i in range(len(class_names)):\n",
    "    d_confusion_matrix[class_names[i]]=dict(zip(class_names, np_confusion_matrix[i]))\n",
    "  d_confusion_matrix=eval(str(d_confusion_matrix))  \n",
    "  model_cm=cm.ConfusionMatrix(matrix=d_confusion_matrix)\n",
    "  return model_cm.weighted_average('F1'), model_cm.Kappa, model_cm.PPV, model_cm.TPR, model_cm.F1"
   ]
  },
  {
   "cell_type": "code",
   "execution_count": 11,
   "metadata": {
    "executionInfo": {
     "elapsed": 16,
     "status": "ok",
     "timestamp": 1636650144823,
     "user": {
      "displayName": "Kateryna Drogaieva",
      "photoUrl": "https://lh3.googleusercontent.com/a-/AOh14GjB1LQYJH97Lqm6RsCcAADFgzEAa0YxMUT7P4mjlA=s64",
      "userId": "10877377912113147805"
     },
     "user_tz": 480
    },
    "id": "FLUBzlkbrSnQ"
   },
   "outputs": [],
   "source": [
    "########## Ensure reproducibility ##########\n",
    "\n",
    "\n",
    "# 1. Set `PYTHONHASHSEED` environment variable at a fixed value\n",
    "os.environ['PYTHONHASHSEED']=str(42)\n",
    "\n",
    "#Does not work with ktrain\n",
    "#os.environ['TF_DETERMINISTIC_OPS'] = '1'\n",
    "\n",
    "# 2. Set `python` built-in pseudo-random generator at a fixed value\n",
    "#random.seed(42)\n",
    "\n",
    "# 3. Set `numpy` pseudo-random generator at a fixed value\n",
    "np.random.seed(42)\n",
    "\n",
    "# 4. Set `tensorflow` pseudo-random generator at a fixed value\n",
    "tf.random.set_seed(42)"
   ]
  },
  {
   "cell_type": "code",
   "execution_count": 12,
   "metadata": {
    "executionInfo": {
     "elapsed": 14,
     "status": "ok",
     "timestamp": 1636650144823,
     "user": {
      "displayName": "Kateryna Drogaieva",
      "photoUrl": "https://lh3.googleusercontent.com/a-/AOh14GjB1LQYJH97Lqm6RsCcAADFgzEAa0YxMUT7P4mjlA=s64",
      "userId": "10877377912113147805"
     },
     "user_tz": 480
    },
    "id": "3xqprIhGrVfG"
   },
   "outputs": [],
   "source": [
    "#!pip install ktrain"
   ]
  },
  {
   "cell_type": "code",
   "execution_count": 13,
   "metadata": {
    "executionInfo": {
     "elapsed": 1087,
     "status": "ok",
     "timestamp": 1636650145897,
     "user": {
      "displayName": "Kateryna Drogaieva",
      "photoUrl": "https://lh3.googleusercontent.com/a-/AOh14GjB1LQYJH97Lqm6RsCcAADFgzEAa0YxMUT7P4mjlA=s64",
      "userId": "10877377912113147805"
     },
     "user_tz": 480
    },
    "id": "nmSlFi7HrqA-"
   },
   "outputs": [],
   "source": [
    "import ktrain\n",
    "from ktrain import text"
   ]
  },
  {
   "cell_type": "code",
   "execution_count": 14,
   "metadata": {
    "executionInfo": {
     "elapsed": 9,
     "status": "ok",
     "timestamp": 1636650145897,
     "user": {
      "displayName": "Kateryna Drogaieva",
      "photoUrl": "https://lh3.googleusercontent.com/a-/AOh14GjB1LQYJH97Lqm6RsCcAADFgzEAa0YxMUT7P4mjlA=s64",
      "userId": "10877377912113147805"
     },
     "user_tz": 480
    },
    "id": "Su60OiMLrtjq"
   },
   "outputs": [],
   "source": [
    "Data = '/content/drive/MyDrive/Colab Notebooks/Projects/eva/Data/'\n",
    "\n",
    "Messages_filename='lizon_data_for_finetuning.csv'\n",
    "Messages_full_filename=os.path.join(Data, Messages_filename)\n",
    "\n",
    "kfold=10\n",
    "text_column='original_message'\n",
    "target_column='target'\n",
    "\n",
    "#known_clon_Messages_filename='lizon_clon_data_for_testg.csv'\n",
    "#known_clon_Messages_full_filename=os.path.join(Data, known_clon_Messages_filename)\n",
    "\n",
    "\n",
    "\n",
    "folds_folder='lizon_original_folds_testds'\n",
    "\n",
    "test_Messages_filename='lizon_test.csv'#'lizon_clon_data_for_testg.csv' #'\n",
    "test_Messages_full_filename= os.path.join(Data, folds_folder, test_Messages_filename) #os.path.join(Data, test_Messages_filename) #\n",
    "\n",
    "fold_X_train_filename='lizon_X_train_%s.csv'\n",
    "fold_X_valid_filename='lizon_X_valid_%s.csv'\n",
    "fold_y_train_filename='lizon_y_train_%s.csv'\n",
    "fold_y_valid_filename='lizon_y_valid_%s.csv'\n",
    "\n",
    "\n",
    "#train_Messages_filename='lizon_data_for_finetuning_train.csv'\n",
    "#train_Messages_full_filename=os.path.join(Data, train_Messages_filename)\n",
    "\n",
    "#valid_Messages_filename='lizon_data_for_finetuning_valid.csv'\n",
    "#valid_Messages_full_filename=os.path.join(Data, valid_Messages_filename)\n",
    "\n",
    "Models = '/content/drive/MyDrive/Colab Notebooks/Projects/eva/Models/blinoff256/'\n",
    "\n",
    "#Experiment\n",
    "#Experiments log file \n",
    "Experiments_file='/content/drive/MyDrive/Colab Notebooks/Projects/eva/ExperimentLogs/lizon.xlsx'\n",
    "Experiment_name='blinoff256' #Original test_final_folds512\n",
    "#Experiment can be continued from the lines in the configuration tab (Experiment_name) without results (NewExecution=False) or started from scratch ignoring previous results (NewExecution=True)\n",
    "NewExecution=False"
   ]
  },
  {
   "cell_type": "markdown",
   "metadata": {
    "id": "87qH-eX0xOeI"
   },
   "source": [
    "## Experiment\n",
    "Experiment is configured in an experiment log file (Excel file, in my case,  in different tabs)"
   ]
  },
  {
   "cell_type": "code",
   "execution_count": 15,
   "metadata": {
    "colab": {
     "base_uri": "https://localhost:8080/",
     "height": 413
    },
    "executionInfo": {
     "elapsed": 2338,
     "status": "ok",
     "timestamp": 1636650148227,
     "user": {
      "displayName": "Kateryna Drogaieva",
      "photoUrl": "https://lh3.googleusercontent.com/a-/AOh14GjB1LQYJH97Lqm6RsCcAADFgzEAa0YxMUT7P4mjlA=s64",
      "userId": "10877377912113147805"
     },
     "user_tz": 480
    },
    "id": "bGm3GyzsxIPH",
    "outputId": "1b998570-4e64-47a1-9432-561896457224"
   },
   "outputs": [
    {
     "data": {
      "text/html": [
       "<div>\n",
       "<style scoped>\n",
       "    .dataframe tbody tr th:only-of-type {\n",
       "        vertical-align: middle;\n",
       "    }\n",
       "\n",
       "    .dataframe tbody tr th {\n",
       "        vertical-align: top;\n",
       "    }\n",
       "\n",
       "    .dataframe thead th {\n",
       "        text-align: right;\n",
       "    }\n",
       "</style>\n",
       "<table border=\"1\" class=\"dataframe\">\n",
       "  <thead>\n",
       "    <tr style=\"text-align: right;\">\n",
       "      <th></th>\n",
       "      <th>Model</th>\n",
       "      <th>fold</th>\n",
       "      <th>maxlen</th>\n",
       "      <th>batch_size</th>\n",
       "      <th>epochs</th>\n",
       "      <th>lr</th>\n",
       "      <th>method</th>\n",
       "      <th>weighted_avg_F1</th>\n",
       "      <th>kappa</th>\n",
       "      <th>lizon-precision</th>\n",
       "      <th>lizon-recall</th>\n",
       "      <th>lizon-f1-score</th>\n",
       "      <th>duration</th>\n",
       "      <th>comment</th>\n",
       "      <th>test_weighted_avg_F1</th>\n",
       "      <th>test_kappa</th>\n",
       "      <th>test_lizon-precision</th>\n",
       "      <th>test_lizon-recall</th>\n",
       "      <th>test_lizon-f1-score</th>\n",
       "    </tr>\n",
       "  </thead>\n",
       "  <tbody>\n",
       "    <tr>\n",
       "      <th>5</th>\n",
       "      <td>blinoff/roberta-base-russian-v0</td>\n",
       "      <td>5</td>\n",
       "      <td>256</td>\n",
       "      <td>16</td>\n",
       "      <td>5</td>\n",
       "      <td>0.00001</td>\n",
       "      <td>fit_onecycle</td>\n",
       "      <td>NaN</td>\n",
       "      <td>NaN</td>\n",
       "      <td>NaN</td>\n",
       "      <td>NaN</td>\n",
       "      <td>NaN</td>\n",
       "      <td>NaN</td>\n",
       "      <td>NaN</td>\n",
       "      <td>NaN</td>\n",
       "      <td>NaN</td>\n",
       "      <td>NaN</td>\n",
       "      <td>NaN</td>\n",
       "      <td>NaN</td>\n",
       "    </tr>\n",
       "    <tr>\n",
       "      <th>6</th>\n",
       "      <td>blinoff/roberta-base-russian-v0</td>\n",
       "      <td>6</td>\n",
       "      <td>256</td>\n",
       "      <td>16</td>\n",
       "      <td>5</td>\n",
       "      <td>0.00001</td>\n",
       "      <td>fit_onecycle</td>\n",
       "      <td>NaN</td>\n",
       "      <td>NaN</td>\n",
       "      <td>NaN</td>\n",
       "      <td>NaN</td>\n",
       "      <td>NaN</td>\n",
       "      <td>NaN</td>\n",
       "      <td>NaN</td>\n",
       "      <td>NaN</td>\n",
       "      <td>NaN</td>\n",
       "      <td>NaN</td>\n",
       "      <td>NaN</td>\n",
       "      <td>NaN</td>\n",
       "    </tr>\n",
       "    <tr>\n",
       "      <th>7</th>\n",
       "      <td>blinoff/roberta-base-russian-v0</td>\n",
       "      <td>7</td>\n",
       "      <td>256</td>\n",
       "      <td>16</td>\n",
       "      <td>5</td>\n",
       "      <td>0.00001</td>\n",
       "      <td>fit_onecycle</td>\n",
       "      <td>NaN</td>\n",
       "      <td>NaN</td>\n",
       "      <td>NaN</td>\n",
       "      <td>NaN</td>\n",
       "      <td>NaN</td>\n",
       "      <td>NaN</td>\n",
       "      <td>NaN</td>\n",
       "      <td>NaN</td>\n",
       "      <td>NaN</td>\n",
       "      <td>NaN</td>\n",
       "      <td>NaN</td>\n",
       "      <td>NaN</td>\n",
       "    </tr>\n",
       "    <tr>\n",
       "      <th>8</th>\n",
       "      <td>blinoff/roberta-base-russian-v0</td>\n",
       "      <td>8</td>\n",
       "      <td>256</td>\n",
       "      <td>16</td>\n",
       "      <td>5</td>\n",
       "      <td>0.00001</td>\n",
       "      <td>fit_onecycle</td>\n",
       "      <td>NaN</td>\n",
       "      <td>NaN</td>\n",
       "      <td>NaN</td>\n",
       "      <td>NaN</td>\n",
       "      <td>NaN</td>\n",
       "      <td>NaN</td>\n",
       "      <td>NaN</td>\n",
       "      <td>NaN</td>\n",
       "      <td>NaN</td>\n",
       "      <td>NaN</td>\n",
       "      <td>NaN</td>\n",
       "      <td>NaN</td>\n",
       "    </tr>\n",
       "    <tr>\n",
       "      <th>9</th>\n",
       "      <td>blinoff/roberta-base-russian-v0</td>\n",
       "      <td>9</td>\n",
       "      <td>256</td>\n",
       "      <td>16</td>\n",
       "      <td>5</td>\n",
       "      <td>0.00001</td>\n",
       "      <td>fit_onecycle</td>\n",
       "      <td>NaN</td>\n",
       "      <td>NaN</td>\n",
       "      <td>NaN</td>\n",
       "      <td>NaN</td>\n",
       "      <td>NaN</td>\n",
       "      <td>NaN</td>\n",
       "      <td>NaN</td>\n",
       "      <td>NaN</td>\n",
       "      <td>NaN</td>\n",
       "      <td>NaN</td>\n",
       "      <td>NaN</td>\n",
       "      <td>NaN</td>\n",
       "    </tr>\n",
       "  </tbody>\n",
       "</table>\n",
       "</div>"
      ],
      "text/plain": [
       "                             Model  ...  test_lizon-f1-score\n",
       "5  blinoff/roberta-base-russian-v0  ...                  NaN\n",
       "6  blinoff/roberta-base-russian-v0  ...                  NaN\n",
       "7  blinoff/roberta-base-russian-v0  ...                  NaN\n",
       "8  blinoff/roberta-base-russian-v0  ...                  NaN\n",
       "9  blinoff/roberta-base-russian-v0  ...                  NaN\n",
       "\n",
       "[5 rows x 19 columns]"
      ]
     },
     "execution_count": 15,
     "metadata": {},
     "output_type": "execute_result"
    }
   ],
   "source": [
    "Experiment = pd.read_excel(open(Experiments_file, 'rb'), sheet_name=Experiment_name)\n",
    "Experiment['comment'].apply(str)\n",
    "Experiment.tail()"
   ]
  },
  {
   "cell_type": "markdown",
   "metadata": {
    "id": "FD6FDGDcybXh"
   },
   "source": [
    "## Data load and/or split"
   ]
  },
  {
   "cell_type": "markdown",
   "metadata": {
    "id": "7NO61kG41SU-"
   },
   "source": [
    "### Train/validation folds and Test data"
   ]
  },
  {
   "cell_type": "code",
   "execution_count": 16,
   "metadata": {
    "executionInfo": {
     "elapsed": 7,
     "status": "ok",
     "timestamp": 1636650148231,
     "user": {
      "displayName": "Kateryna Drogaieva",
      "photoUrl": "https://lh3.googleusercontent.com/a-/AOh14GjB1LQYJH97Lqm6RsCcAADFgzEAa0YxMUT7P4mjlA=s64",
      "userId": "10877377912113147805"
     },
     "user_tz": 480
    },
    "id": "vol9gJAsxve_"
   },
   "outputs": [],
   "source": [
    "#train/valid folds were created and saved in files in order, so order by time in the folder should give us the proper order pairs proper X_train-y_train/X_valid-y_valid\n",
    "import glob\n",
    "folds_folder_full_path = os.path.join(Data, folds_folder)\n",
    "\n",
    "list_of_X_train_files = list(filter( os.path.isfile,glob.glob(folds_folder_full_path + '/*X_train*') ))\n",
    "list_of_X_train_files.sort(key=lambda x: os.path.getmtime(x))\n",
    "\n",
    "list_of_y_train_files = list(filter( os.path.isfile,glob.glob(folds_folder_full_path + '/*y_train*') ))\n",
    "list_of_y_train_files.sort(key=lambda x: os.path.getmtime(x))\n",
    "\n",
    "list_of_X_valid_files = list(filter( os.path.isfile,glob.glob(folds_folder_full_path + '/*X_valid*') ))\n",
    "list_of_X_valid_files.sort(key=lambda x: os.path.getmtime(x))\n",
    "\n",
    "list_of_y_valid_files = list(filter( os.path.isfile,glob.glob(folds_folder_full_path + '/*y_valid*') ))\n",
    "list_of_y_valid_files.sort(key=lambda x: os.path.getmtime(x))"
   ]
  },
  {
   "cell_type": "code",
   "execution_count": 17,
   "metadata": {
    "executionInfo": {
     "elapsed": 596,
     "status": "ok",
     "timestamp": 1636650148820,
     "user": {
      "displayName": "Kateryna Drogaieva",
      "photoUrl": "https://lh3.googleusercontent.com/a-/AOh14GjB1LQYJH97Lqm6RsCcAADFgzEAa0YxMUT7P4mjlA=s64",
      "userId": "10877377912113147805"
     },
     "user_tz": 480
    },
    "id": "fv14dvXVyTxC"
   },
   "outputs": [],
   "source": [
    "X_train_data=list()\n",
    "y_train_data=list()\n",
    "X_valid_data=list()\n",
    "y_valid_data=list()   \n",
    "for f in list_of_X_train_files:\n",
    "  X_train_data.append(pd.read_csv(os.path.join(f), error_bad_lines=False, index_col=False)[text_column].tolist() )\n",
    "for f in list_of_y_train_files:\n",
    "  y_train_data.append(pd.read_csv(os.path.join(f), error_bad_lines=False, index_col=False)[target_column].tolist() )  \n",
    "\n",
    "for f in list_of_X_valid_files:\n",
    "  X_valid_data.append(pd.read_csv(os.path.join(f), error_bad_lines=False, index_col=False)[text_column].tolist() )\n",
    "for f in list_of_y_valid_files:\n",
    "  y_valid_data.append(pd.read_csv(os.path.join(f), error_bad_lines=False, index_col=False)[target_column].tolist()  )  "
   ]
  },
  {
   "cell_type": "code",
   "execution_count": 18,
   "metadata": {
    "executionInfo": {
     "elapsed": 6,
     "status": "ok",
     "timestamp": 1636650148821,
     "user": {
      "displayName": "Kateryna Drogaieva",
      "photoUrl": "https://lh3.googleusercontent.com/a-/AOh14GjB1LQYJH97Lqm6RsCcAADFgzEAa0YxMUT7P4mjlA=s64",
      "userId": "10877377912113147805"
     },
     "user_tz": 480
    },
    "id": "2keUHtGt1axf"
   },
   "outputs": [],
   "source": [
    "df_test=pd.read_csv(test_Messages_full_filename, error_bad_lines=False, index_col=False, usecols=[target_column, text_column])"
   ]
  },
  {
   "cell_type": "code",
   "execution_count": 19,
   "metadata": {
    "executionInfo": {
     "elapsed": 5,
     "status": "ok",
     "timestamp": 1636650148821,
     "user": {
      "displayName": "Kateryna Drogaieva",
      "photoUrl": "https://lh3.googleusercontent.com/a-/AOh14GjB1LQYJH97Lqm6RsCcAADFgzEAa0YxMUT7P4mjlA=s64",
      "userId": "10877377912113147805"
     },
     "user_tz": 480
    },
    "id": "LZWpYxI9r6Q5"
   },
   "outputs": [],
   "source": [
    "#split data for train/test\n",
    "#from sklearn import  model_selection\n",
    "#df=pd.read_csv(Messages_full_filename, error_bad_lines=False, index_col=False, usecols=[target_column, text_column])\n",
    "\n",
    "#df_trainvalid, df_test = model_selection.train_test_split(df, test_size=0.3, random_state=42,shuffle=True)\n",
    "#df_test.to_csv(test_Messages_full_filename, header=True, index=False)"
   ]
  },
  {
   "cell_type": "code",
   "execution_count": 20,
   "metadata": {
    "executionInfo": {
     "elapsed": 6,
     "status": "ok",
     "timestamp": 1636650148822,
     "user": {
      "displayName": "Kateryna Drogaieva",
      "photoUrl": "https://lh3.googleusercontent.com/a-/AOh14GjB1LQYJH97Lqm6RsCcAADFgzEAa0YxMUT7P4mjlA=s64",
      "userId": "10877377912113147805"
     },
     "user_tz": 480
    },
    "id": "MlzqwbfcqTla"
   },
   "outputs": [],
   "source": [
    "#split data for cross validation\n",
    "#from sklearn.model_selection import StratifiedKFold\n",
    "#skf = StratifiedKFold(n_splits=kfold, random_state=42, shuffle=True)\n",
    "#X_train_data=list()\n",
    "#y_train_data=list()\n",
    "#X_valid_data=list()\n",
    "#y_valid_data=list()   \n",
    "#for i, (train_index, test_index) in enumerate(skf.split(df_trainvalid[text_column], df_trainvalid[target_column])):\n",
    "#  print(' fold: {}  of  {} : '.format(i+1, kfold))\n",
    "#  X_train, X_valid = df_trainvalid[text_column].iloc[train_index].values.astype(str), df_trainvalid[text_column].iloc[test_index].values.astype(str)\n",
    "# y_train, y_valid = df_trainvalid[target_column].iloc[train_index].values.astype(str), df_trainvalid[target_column].iloc[test_index].values.astype(str)\n",
    "\n",
    "#  X_train_data.append(X_train)  \n",
    "#  fold_X_train_full_filename=os.path.join(Data, folds_folder, fold_X_train_filename%i)\n",
    "#  pd.DataFrame(X_train, columns = [text_column]).to_csv(fold_X_train_full_filename, header=True, index=False)\n",
    "\n",
    "#  X_valid_data.append(X_valid)\n",
    "#  fold_X_valid_full_filename=os.path.join(Data, folds_folder, fold_X_valid_filename%i)\n",
    "#  pd.DataFrame(X_valid, columns = [text_column]).to_csv(fold_X_valid_full_filename, header=True, index=False)\n",
    "\n",
    "\n",
    "#  y_train_data.append(y_train)\n",
    "#  fold_y_train_full_filename=os.path.join(Data, folds_folder, fold_y_train_filename%i)\n",
    "#  pd.DataFrame(y_train, columns = [target_column]).to_csv(fold_y_train_full_filename, header=True, index=False)\n",
    "\n",
    "#  y_valid_data.append(y_valid)\n",
    "#  fold_y_valid_full_filename=os.path.join(Data, folds_folder, fold_y_valid_filename%i)\n",
    "#  pd.DataFrame(y_valid, columns = [target_column]).to_csv(fold_y_valid_full_filename, header=True, index=False)\n",
    "\n",
    "\n",
    "#  print('size of training fold: %s' % (len( X_train)))\n",
    "#  unique, counts = np.unique(y_train, return_counts=True)\n",
    "#  print('classes size in training fold:')\n",
    "#  print(dict(zip(unique, counts)))\n",
    "#  print('size of validation fold: %s' % (len(X_valid)))\n",
    "#  unique, counts = np.unique(y_valid, return_counts=True)\n",
    "#  print('classes size in validation fold:')\n",
    "#  print(dict(zip(unique, counts)))"
   ]
  },
  {
   "cell_type": "markdown",
   "metadata": {
    "id": "erFSIPkJ2-3F"
   },
   "source": [
    "## Model training and evaluation"
   ]
  },
  {
   "cell_type": "code",
   "execution_count": 21,
   "metadata": {
    "executionInfo": {
     "elapsed": 5,
     "status": "ok",
     "timestamp": 1636650148822,
     "user": {
      "displayName": "Kateryna Drogaieva",
      "photoUrl": "https://lh3.googleusercontent.com/a-/AOh14GjB1LQYJH97Lqm6RsCcAADFgzEAa0YxMUT7P4mjlA=s64",
      "userId": "10877377912113147805"
     },
     "user_tz": 480
    },
    "id": "R6m0NYKhtJlM"
   },
   "outputs": [],
   "source": [
    "def fit_onecycle(MODEL_NAME, maxlen,batch_size,lr,epochs,x_train, y_train, x_valid, y_valid,ind):\n",
    "  t = text.Transformer(MODEL_NAME, maxlen=maxlen)\n",
    "  trn = t.preprocess_train(x_train, y_train)\n",
    "  val = t.preprocess_test(x_valid, y_valid)\n",
    "  test = t.preprocess_test(df_test[text_column].tolist(), df_test[target_column].tolist())\n",
    "  model = t.get_classifier()    \n",
    "  learner = ktrain.get_learner(model, train_data=trn, val_data=val, batch_size=batch_size)\n",
    "  learner.fit_onecycle(lr=lr, epochs=epochs)\n",
    "  predictor = ktrain.get_predictor(learner.model, preproc=t)\n",
    "  Model_full_filename=os.path.join(Models, 'fit_onecycle_'+str(ind))\n",
    "  predictor.save(Model_full_filename)\n",
    "  \n",
    "  val_confusion_matrix=learner.validate(val_data=val, class_names=t.get_classes())\n",
    "  val_weighted_avg_F1, val_kappa, val_PPV, val_TPR, val_F1 = model_metrics(np_confusion_matrix=val_confusion_matrix,class_names=t.get_classes())\n",
    "\n",
    "  test_confusion_matrix=learner.validate(val_data=test, class_names=t.get_classes())\n",
    "  test_weighted_avg_F1, test_kappa, test_PPV, test_TPR, test_F1 = model_metrics(np_confusion_matrix=test_confusion_matrix,class_names=t.get_classes())\n",
    "  \n",
    "  return val_weighted_avg_F1, val_kappa, val_PPV['lizon'], val_TPR['lizon'], val_F1['lizon'],test_weighted_avg_F1, test_kappa, test_PPV['lizon'], test_TPR['lizon'], test_F1['lizon']"
   ]
  },
  {
   "cell_type": "markdown",
   "metadata": {
    "id": "cZbEnqV03FH_"
   },
   "source": [
    "### Experiment main loop"
   ]
  },
  {
   "cell_type": "code",
   "execution_count": 22,
   "metadata": {
    "colab": {
     "base_uri": "https://localhost:8080/",
     "height": 1000,
     "referenced_widgets": [
      "4dfaef50eabe41b4997b545d3260b6a6",
      "6c7bf6236a494776b78709e4202613b4",
      "9082f24ead4843dcb4ab3f701b631951",
      "38887f04e2fe4e62b300a7dcdc6d8abd",
      "518c7d4ad2a2498fa38d5365b9652d1b",
      "5750403cc7964f22999ed12670ab234f",
      "2de1a41b59664ffdbf79a8d53ea56c9b",
      "24d400a26e7c4811b933ae0cc8d855dd",
      "b96773a2ddee4b5cb59bdb51be48a52a",
      "04fc0ae595254738bd00986c5c7b6ec7",
      "60aa6d04e04348ab80cae60feda9421c",
      "30e29a26752247f5b2e809f47173a9d4",
      "9f87deb801e1459e9cf8781653ddfc64",
      "ab59f07e07f545b5ba8d7a6bd5992307",
      "e7844fbf1de243369d2d7824c5f22018",
      "420fc76eaf3f45cd9b7b703c02af5dc9",
      "44d8c4c83ae74b918ee26d1ee92a71ca",
      "680f0c0125b34c59968d44ecfd86a213",
      "0136d5f710d3411c89a9b043b55c356a",
      "6faa930e75714498840607b5237872cc",
      "739a18e8edf54014bb38d784cec7c6a7",
      "7205c09abc7c44fd9644a2790fa26d74",
      "a418fa655ec44fe7a15811962632f2f8",
      "48a288a75bd640f391d3dc55eed966f3",
      "f3f5f0e3dc044b53a4ea4a81e91b8204",
      "17927cf6890a45c9b2998c56edb09d16",
      "bf816ecbb56d448da13a49758ad63889",
      "24089b7538234717ae9d5e23b9574699",
      "88b80b311f6e46d7a961eebf1607936b",
      "145f7d695f0e4188b565b03d0597eeff",
      "7e4273364f844ca89c4929dd8da8b77e",
      "8af6e9ffa6cd41fbb85d1d347acf2e90",
      "371c9fd5159c4469ba0a3f3e66ba5097",
      "968f589ca5ad4de98c891aa4436b851b",
      "129db28984f04239825698ae36f6dd6c",
      "674c85e3806e4a0d966b123fd1941908",
      "6da6898cadce460ca8221fd97b867c88",
      "04860caa35a947d6a1ecfeca47119893",
      "7ab51b05652d47e392b3d20e6588e3df",
      "43a4ca0206d74f97a4ee5b1d8ab8870d",
      "5abd3a76492e4c92a45e5f7b40e7eee2",
      "7e0909b65bda498787130d318e4b1657",
      "856ec4c2bd514e46b9adfdb607f718d3",
      "8d12486e8f7246339a595775fd46ccf4",
      "7971408614e54c5497687056f94f9ad5",
      "69c428e2cba44168a3f8ba0ac1b0aded",
      "01381fbca9bc4420b44df70a14e2f025",
      "c71ffc169e994670853e42ebb6f94f99",
      "2ffaf2f65b9a438b90a57a5c2762de8d",
      "126e05649e8d412595da89134601829c",
      "dafa7f6663a54318bcf6c2731256bd03",
      "721f68bdef3b48889c9fefb2b60573c1",
      "db2cda2d11bd46eaa20f052b5fc4bec7",
      "0fd3b01ebea74ab390b1b595186cc98c",
      "32756daa43134f958834eed63d178411",
      "e8aa4cd54e3342308e32005b509d42a0",
      "29dfd7496e354597b0fa30d636ab7b65",
      "3400435aba954d9fb800621c84456f7b",
      "e34f0127cb9f455b9effbf8f0c66cec4",
      "2768bceca3494410a4f02733fc70b0ba",
      "a576ad2d35024631a3b4dc5df830bc8c",
      "4125d367b04845a18d50e1cd85995aab",
      "e8ba9cb29e5e4d0fb07e4a06770e9ab1",
      "e9fe13a4287d4e4ba705197423fcec97",
      "40b18b963ff948afbb91625d977f0682",
      "81b061c04de24e28b8a92bb1eebd74bb"
     ]
    },
    "executionInfo": {
     "elapsed": 7838781,
     "status": "ok",
     "timestamp": 1636657987598,
     "user": {
      "displayName": "Kateryna Drogaieva",
      "photoUrl": "https://lh3.googleusercontent.com/a-/AOh14GjB1LQYJH97Lqm6RsCcAADFgzEAa0YxMUT7P4mjlA=s64",
      "userId": "10877377912113147805"
     },
     "user_tz": 480
    },
    "id": "cUtnGDEf11YZ",
    "outputId": "678853f4-bda2-4a9e-b53b-660e7686fbcd"
   },
   "outputs": [
    {
     "name": "stdout",
     "output_type": "stream",
     "text": [
      "Processing fold 0, model blinoff/roberta-base-russian-v0 started...\n",
      "Model                   blinoff/roberta-base-russian-v0\n",
      "fold                                                  0\n",
      "maxlen                                              256\n",
      "batch_size                                           16\n",
      "epochs                                                5\n",
      "lr                                                1e-05\n",
      "method                                     fit_onecycle\n",
      "weighted_avg_F1                                     NaN\n",
      "kappa                                               NaN\n",
      "lizon-precision                                     NaN\n",
      "lizon-recall                                        NaN\n",
      "lizon-f1-score                                      NaN\n",
      "duration                                            NaN\n",
      "comment                                             NaN\n",
      "test_weighted_avg_F1                                NaN\n",
      "test_kappa                                          NaN\n",
      "test_lizon-precision                                NaN\n",
      "test_lizon-recall                                   NaN\n",
      "test_lizon-f1-score                                 NaN\n",
      "Name: 0, dtype: object\n",
      "---------------------------------------------\n"
     ]
    },
    {
     "data": {
      "application/vnd.jupyter.widget-view+json": {
       "model_id": "4dfaef50eabe41b4997b545d3260b6a6",
       "version_major": 2,
       "version_minor": 0
      },
      "text/plain": [
       "Downloading:   0%|          | 0.00/481 [00:00<?, ?B/s]"
      ]
     },
     "metadata": {},
     "output_type": "display_data"
    },
    {
     "name": "stdout",
     "output_type": "stream",
     "text": [
      "preprocessing train...\n",
      "language: ru\n",
      "train sequence lengths:\n",
      "\tmean : 60\n",
      "\t95percentile : 133\n",
      "\t99percentile : 227\n"
     ]
    },
    {
     "data": {
      "application/vnd.jupyter.widget-view+json": {
       "model_id": "30e29a26752247f5b2e809f47173a9d4",
       "version_major": 2,
       "version_minor": 0
      },
      "text/plain": [
       "Downloading:   0%|          | 0.00/16.0 [00:00<?, ?B/s]"
      ]
     },
     "metadata": {},
     "output_type": "display_data"
    },
    {
     "data": {
      "application/vnd.jupyter.widget-view+json": {
       "model_id": "a418fa655ec44fe7a15811962632f2f8",
       "version_major": 2,
       "version_minor": 0
      },
      "text/plain": [
       "Downloading:   0%|          | 0.00/1.68M [00:00<?, ?B/s]"
      ]
     },
     "metadata": {},
     "output_type": "display_data"
    },
    {
     "data": {
      "application/vnd.jupyter.widget-view+json": {
       "model_id": "968f589ca5ad4de98c891aa4436b851b",
       "version_major": 2,
       "version_minor": 0
      },
      "text/plain": [
       "Downloading:   0%|          | 0.00/1.34M [00:00<?, ?B/s]"
      ]
     },
     "metadata": {},
     "output_type": "display_data"
    },
    {
     "data": {
      "application/vnd.jupyter.widget-view+json": {
       "model_id": "7971408614e54c5497687056f94f9ad5",
       "version_major": 2,
       "version_minor": 0
      },
      "text/plain": [
       "Downloading:   0%|          | 0.00/150 [00:00<?, ?B/s]"
      ]
     },
     "metadata": {},
     "output_type": "display_data"
    },
    {
     "data": {
      "text/html": [],
      "text/plain": [
       "<IPython.core.display.HTML object>"
      ]
     },
     "metadata": {},
     "output_type": "display_data"
    },
    {
     "name": "stdout",
     "output_type": "stream",
     "text": [
      "Is Multi-Label? False\n",
      "preprocessing test...\n",
      "language: ru\n",
      "test sequence lengths:\n",
      "\tmean : 59\n",
      "\t95percentile : 123\n",
      "\t99percentile : 194\n"
     ]
    },
    {
     "data": {
      "text/html": [],
      "text/plain": [
       "<IPython.core.display.HTML object>"
      ]
     },
     "metadata": {},
     "output_type": "display_data"
    },
    {
     "name": "stdout",
     "output_type": "stream",
     "text": [
      "preprocessing test...\n",
      "language: ru\n",
      "test sequence lengths:\n",
      "\tmean : 59\n",
      "\t95percentile : 132\n",
      "\t99percentile : 198\n"
     ]
    },
    {
     "data": {
      "text/html": [],
      "text/plain": [
       "<IPython.core.display.HTML object>"
      ]
     },
     "metadata": {},
     "output_type": "display_data"
    },
    {
     "name": "stderr",
     "output_type": "stream",
     "text": [
      "404 Client Error: Not Found for url: https://huggingface.co/blinoff/roberta-base-russian-v0/resolve/main/tf_model.h5\n",
      "/usr/local/lib/python3.7/dist-packages/ktrain/text/preprocessor.py:1067: UserWarning: Could not find Tensorflow version of model.  Attempting to download/load PyTorch version as TensorFlow model using from_pt=True. You will need PyTorch installed for this.\n",
      "  warnings.warn('Could not find Tensorflow version of model.  Attempting to download/load PyTorch version as TensorFlow model using from_pt=True. ' +\\\n"
     ]
    },
    {
     "data": {
      "application/vnd.jupyter.widget-view+json": {
       "model_id": "e8aa4cd54e3342308e32005b509d42a0",
       "version_major": 2,
       "version_minor": 0
      },
      "text/plain": [
       "Downloading:   0%|          | 0.00/500M [00:00<?, ?B/s]"
      ]
     },
     "metadata": {},
     "output_type": "display_data"
    },
    {
     "name": "stdout",
     "output_type": "stream",
     "text": [
      "\n",
      "\n",
      "begin training using onecycle policy with max lr of 1e-05...\n",
      "Epoch 1/5\n",
      "381/381 [==============================] - 135s 306ms/step - loss: 0.2468 - accuracy: 0.9253 - val_loss: 0.2118 - val_accuracy: 0.9365\n",
      "Epoch 2/5\n",
      "381/381 [==============================] - 115s 300ms/step - loss: 0.1269 - accuracy: 0.9547 - val_loss: 0.0970 - val_accuracy: 0.9572\n",
      "Epoch 3/5\n",
      "381/381 [==============================] - 115s 300ms/step - loss: 0.0641 - accuracy: 0.9796 - val_loss: 0.0709 - val_accuracy: 0.9749\n",
      "Epoch 4/5\n",
      "381/381 [==============================] - 115s 300ms/step - loss: 0.0274 - accuracy: 0.9901 - val_loss: 0.1023 - val_accuracy: 0.9660\n",
      "Epoch 5/5\n",
      "381/381 [==============================] - 115s 300ms/step - loss: 0.0086 - accuracy: 0.9977 - val_loss: 0.0815 - val_accuracy: 0.9778\n",
      "              precision    recall  f1-score   support\n",
      "\n",
      "       Other       0.98      1.00      0.99       634\n",
      "       lizon       0.91      0.72      0.81        43\n",
      "\n",
      "    accuracy                           0.98       677\n",
      "   macro avg       0.95      0.86      0.90       677\n",
      "weighted avg       0.98      0.98      0.98       677\n",
      "\n",
      "              precision    recall  f1-score   support\n",
      "\n",
      "       Other       0.99      0.99      0.99      2719\n",
      "       lizon       0.88      0.80      0.84       181\n",
      "\n",
      "    accuracy                           0.98      2900\n",
      "   macro avg       0.94      0.90      0.92      2900\n",
      "weighted avg       0.98      0.98      0.98      2900\n",
      "\n",
      "Processing fold 1, model blinoff/roberta-base-russian-v0 started...\n",
      "Model                   blinoff/roberta-base-russian-v0\n",
      "fold                                                  1\n",
      "maxlen                                              256\n",
      "batch_size                                           16\n",
      "epochs                                                5\n",
      "lr                                                1e-05\n",
      "method                                     fit_onecycle\n",
      "weighted_avg_F1                                     NaN\n",
      "kappa                                               NaN\n",
      "lizon-precision                                     NaN\n",
      "lizon-recall                                        NaN\n",
      "lizon-f1-score                                      NaN\n",
      "duration                                            NaN\n",
      "comment                                             NaN\n",
      "test_weighted_avg_F1                                NaN\n",
      "test_kappa                                          NaN\n",
      "test_lizon-precision                                NaN\n",
      "test_lizon-recall                                   NaN\n",
      "test_lizon-f1-score                                 NaN\n",
      "Name: 1, dtype: object\n",
      "---------------------------------------------\n",
      "preprocessing train...\n",
      "language: ru\n",
      "train sequence lengths:\n",
      "\tmean : 59\n",
      "\t95percentile : 131\n",
      "\t99percentile : 218\n"
     ]
    },
    {
     "data": {
      "text/html": [],
      "text/plain": [
       "<IPython.core.display.HTML object>"
      ]
     },
     "metadata": {},
     "output_type": "display_data"
    },
    {
     "name": "stdout",
     "output_type": "stream",
     "text": [
      "Is Multi-Label? False\n",
      "preprocessing test...\n",
      "language: ru\n",
      "test sequence lengths:\n",
      "\tmean : 68\n",
      "\t95percentile : 142\n",
      "\t99percentile : 234\n"
     ]
    },
    {
     "data": {
      "text/html": [],
      "text/plain": [
       "<IPython.core.display.HTML object>"
      ]
     },
     "metadata": {},
     "output_type": "display_data"
    },
    {
     "name": "stdout",
     "output_type": "stream",
     "text": [
      "preprocessing test...\n",
      "language: ru\n",
      "test sequence lengths:\n",
      "\tmean : 59\n",
      "\t95percentile : 132\n",
      "\t99percentile : 198\n"
     ]
    },
    {
     "data": {
      "text/html": [],
      "text/plain": [
       "<IPython.core.display.HTML object>"
      ]
     },
     "metadata": {},
     "output_type": "display_data"
    },
    {
     "name": "stderr",
     "output_type": "stream",
     "text": [
      "404 Client Error: Not Found for url: https://huggingface.co/blinoff/roberta-base-russian-v0/resolve/main/tf_model.h5\n",
      "/usr/local/lib/python3.7/dist-packages/ktrain/text/preprocessor.py:1067: UserWarning: Could not find Tensorflow version of model.  Attempting to download/load PyTorch version as TensorFlow model using from_pt=True. You will need PyTorch installed for this.\n",
      "  warnings.warn('Could not find Tensorflow version of model.  Attempting to download/load PyTorch version as TensorFlow model using from_pt=True. ' +\\\n"
     ]
    },
    {
     "name": "stdout",
     "output_type": "stream",
     "text": [
      "\n",
      "\n",
      "begin training using onecycle policy with max lr of 1e-05...\n",
      "Epoch 1/5\n",
      "381/381 [==============================] - 132s 306ms/step - loss: 0.2348 - accuracy: 0.9363 - val_loss: 0.1796 - val_accuracy: 0.9483\n",
      "Epoch 2/5\n",
      "381/381 [==============================] - 115s 300ms/step - loss: 0.1112 - accuracy: 0.9676 - val_loss: 0.1040 - val_accuracy: 0.9645\n",
      "Epoch 3/5\n",
      "381/381 [==============================] - 115s 301ms/step - loss: 0.0643 - accuracy: 0.9786 - val_loss: 0.0607 - val_accuracy: 0.9778\n",
      "Epoch 4/5\n",
      "381/381 [==============================] - 115s 301ms/step - loss: 0.0289 - accuracy: 0.9910 - val_loss: 0.0821 - val_accuracy: 0.9764\n",
      "Epoch 5/5\n",
      "381/381 [==============================] - 116s 301ms/step - loss: 0.0102 - accuracy: 0.9972 - val_loss: 0.0728 - val_accuracy: 0.9793\n",
      "              precision    recall  f1-score   support\n",
      "\n",
      "       Other       0.99      0.99      0.99       634\n",
      "       lizon       0.85      0.81      0.83        43\n",
      "\n",
      "    accuracy                           0.98       677\n",
      "   macro avg       0.92      0.90      0.91       677\n",
      "weighted avg       0.98      0.98      0.98       677\n",
      "\n",
      "              precision    recall  f1-score   support\n",
      "\n",
      "       Other       0.99      0.99      0.99      2719\n",
      "       lizon       0.88      0.80      0.84       181\n",
      "\n",
      "    accuracy                           0.98      2900\n",
      "   macro avg       0.94      0.90      0.92      2900\n",
      "weighted avg       0.98      0.98      0.98      2900\n",
      "\n",
      "Processing fold 2, model blinoff/roberta-base-russian-v0 started...\n",
      "Model                   blinoff/roberta-base-russian-v0\n",
      "fold                                                  2\n",
      "maxlen                                              256\n",
      "batch_size                                           16\n",
      "epochs                                                5\n",
      "lr                                                1e-05\n",
      "method                                     fit_onecycle\n",
      "weighted_avg_F1                                     NaN\n",
      "kappa                                               NaN\n",
      "lizon-precision                                     NaN\n",
      "lizon-recall                                        NaN\n",
      "lizon-f1-score                                      NaN\n",
      "duration                                            NaN\n",
      "comment                                             NaN\n",
      "test_weighted_avg_F1                                NaN\n",
      "test_kappa                                          NaN\n",
      "test_lizon-precision                                NaN\n",
      "test_lizon-recall                                   NaN\n",
      "test_lizon-f1-score                                 NaN\n",
      "Name: 2, dtype: object\n",
      "---------------------------------------------\n",
      "preprocessing train...\n",
      "language: ru\n",
      "train sequence lengths:\n",
      "\tmean : 60\n",
      "\t95percentile : 131\n",
      "\t99percentile : 222\n"
     ]
    },
    {
     "data": {
      "text/html": [],
      "text/plain": [
       "<IPython.core.display.HTML object>"
      ]
     },
     "metadata": {},
     "output_type": "display_data"
    },
    {
     "name": "stdout",
     "output_type": "stream",
     "text": [
      "Is Multi-Label? False\n",
      "preprocessing test...\n",
      "language: ru\n",
      "test sequence lengths:\n",
      "\tmean : 60\n",
      "\t95percentile : 137\n",
      "\t99percentile : 228\n"
     ]
    },
    {
     "data": {
      "text/html": [],
      "text/plain": [
       "<IPython.core.display.HTML object>"
      ]
     },
     "metadata": {},
     "output_type": "display_data"
    },
    {
     "name": "stdout",
     "output_type": "stream",
     "text": [
      "preprocessing test...\n",
      "language: ru\n",
      "test sequence lengths:\n",
      "\tmean : 59\n",
      "\t95percentile : 132\n",
      "\t99percentile : 198\n"
     ]
    },
    {
     "data": {
      "text/html": [],
      "text/plain": [
       "<IPython.core.display.HTML object>"
      ]
     },
     "metadata": {},
     "output_type": "display_data"
    },
    {
     "name": "stderr",
     "output_type": "stream",
     "text": [
      "404 Client Error: Not Found for url: https://huggingface.co/blinoff/roberta-base-russian-v0/resolve/main/tf_model.h5\n",
      "/usr/local/lib/python3.7/dist-packages/ktrain/text/preprocessor.py:1067: UserWarning: Could not find Tensorflow version of model.  Attempting to download/load PyTorch version as TensorFlow model using from_pt=True. You will need PyTorch installed for this.\n",
      "  warnings.warn('Could not find Tensorflow version of model.  Attempting to download/load PyTorch version as TensorFlow model using from_pt=True. ' +\\\n"
     ]
    },
    {
     "name": "stdout",
     "output_type": "stream",
     "text": [
      "\n",
      "\n",
      "begin training using onecycle policy with max lr of 1e-05...\n",
      "Epoch 1/5\n",
      "381/381 [==============================] - 132s 307ms/step - loss: 0.2422 - accuracy: 0.9348 - val_loss: 0.2055 - val_accuracy: 0.9365\n",
      "Epoch 2/5\n",
      "381/381 [==============================] - 116s 301ms/step - loss: 0.1183 - accuracy: 0.9612 - val_loss: 0.0953 - val_accuracy: 0.9734\n",
      "Epoch 3/5\n",
      "381/381 [==============================] - 115s 300ms/step - loss: 0.0626 - accuracy: 0.9783 - val_loss: 0.0543 - val_accuracy: 0.9838\n",
      "Epoch 4/5\n",
      "381/381 [==============================] - 115s 300ms/step - loss: 0.0296 - accuracy: 0.9905 - val_loss: 0.0495 - val_accuracy: 0.9823\n",
      "Epoch 5/5\n",
      "381/381 [==============================] - 115s 300ms/step - loss: 0.0099 - accuracy: 0.9969 - val_loss: 0.0507 - val_accuracy: 0.9852\n",
      "              precision    recall  f1-score   support\n",
      "\n",
      "       Other       0.99      1.00      0.99       634\n",
      "       lizon       0.97      0.79      0.87        43\n",
      "\n",
      "    accuracy                           0.99       677\n",
      "   macro avg       0.98      0.89      0.93       677\n",
      "weighted avg       0.99      0.99      0.98       677\n",
      "\n",
      "              precision    recall  f1-score   support\n",
      "\n",
      "       Other       0.99      0.99      0.99      2719\n",
      "       lizon       0.88      0.83      0.85       181\n",
      "\n",
      "    accuracy                           0.98      2900\n",
      "   macro avg       0.94      0.91      0.92      2900\n",
      "weighted avg       0.98      0.98      0.98      2900\n",
      "\n",
      "Processing fold 3, model blinoff/roberta-base-russian-v0 started...\n",
      "Model                   blinoff/roberta-base-russian-v0\n",
      "fold                                                  3\n",
      "maxlen                                              256\n",
      "batch_size                                           16\n",
      "epochs                                                5\n",
      "lr                                                1e-05\n",
      "method                                     fit_onecycle\n",
      "weighted_avg_F1                                     NaN\n",
      "kappa                                               NaN\n",
      "lizon-precision                                     NaN\n",
      "lizon-recall                                        NaN\n",
      "lizon-f1-score                                      NaN\n",
      "duration                                            NaN\n",
      "comment                                             NaN\n",
      "test_weighted_avg_F1                                NaN\n",
      "test_kappa                                          NaN\n",
      "test_lizon-precision                                NaN\n",
      "test_lizon-recall                                   NaN\n",
      "test_lizon-f1-score                                 NaN\n",
      "Name: 3, dtype: object\n",
      "---------------------------------------------\n",
      "preprocessing train...\n",
      "language: ru\n",
      "train sequence lengths:\n",
      "\tmean : 60\n",
      "\t95percentile : 132\n",
      "\t99percentile : 227\n"
     ]
    },
    {
     "data": {
      "text/html": [],
      "text/plain": [
       "<IPython.core.display.HTML object>"
      ]
     },
     "metadata": {},
     "output_type": "display_data"
    },
    {
     "name": "stdout",
     "output_type": "stream",
     "text": [
      "Is Multi-Label? False\n",
      "preprocessing test...\n",
      "language: ru\n",
      "test sequence lengths:\n",
      "\tmean : 58\n",
      "\t95percentile : 133\n",
      "\t99percentile : 184\n"
     ]
    },
    {
     "data": {
      "text/html": [],
      "text/plain": [
       "<IPython.core.display.HTML object>"
      ]
     },
     "metadata": {},
     "output_type": "display_data"
    },
    {
     "name": "stdout",
     "output_type": "stream",
     "text": [
      "preprocessing test...\n",
      "language: ru\n",
      "test sequence lengths:\n",
      "\tmean : 59\n",
      "\t95percentile : 132\n",
      "\t99percentile : 198\n"
     ]
    },
    {
     "data": {
      "text/html": [],
      "text/plain": [
       "<IPython.core.display.HTML object>"
      ]
     },
     "metadata": {},
     "output_type": "display_data"
    },
    {
     "name": "stderr",
     "output_type": "stream",
     "text": [
      "404 Client Error: Not Found for url: https://huggingface.co/blinoff/roberta-base-russian-v0/resolve/main/tf_model.h5\n",
      "/usr/local/lib/python3.7/dist-packages/ktrain/text/preprocessor.py:1067: UserWarning: Could not find Tensorflow version of model.  Attempting to download/load PyTorch version as TensorFlow model using from_pt=True. You will need PyTorch installed for this.\n",
      "  warnings.warn('Could not find Tensorflow version of model.  Attempting to download/load PyTorch version as TensorFlow model using from_pt=True. ' +\\\n"
     ]
    },
    {
     "name": "stdout",
     "output_type": "stream",
     "text": [
      "\n",
      "\n",
      "begin training using onecycle policy with max lr of 1e-05...\n",
      "Epoch 1/5\n",
      "381/381 [==============================] - 131s 306ms/step - loss: 0.2490 - accuracy: 0.9271 - val_loss: 0.2107 - val_accuracy: 0.9350\n",
      "Epoch 2/5\n",
      "381/381 [==============================] - 115s 300ms/step - loss: 0.1627 - accuracy: 0.9446 - val_loss: 0.0821 - val_accuracy: 0.9793\n",
      "Epoch 3/5\n",
      "381/381 [==============================] - 115s 300ms/step - loss: 0.0663 - accuracy: 0.9765 - val_loss: 0.0521 - val_accuracy: 0.9838\n",
      "Epoch 4/5\n",
      "381/381 [==============================] - 115s 300ms/step - loss: 0.0276 - accuracy: 0.9918 - val_loss: 0.0617 - val_accuracy: 0.9808\n",
      "Epoch 5/5\n",
      "381/381 [==============================] - 115s 299ms/step - loss: 0.0101 - accuracy: 0.9977 - val_loss: 0.0726 - val_accuracy: 0.9823\n",
      "              precision    recall  f1-score   support\n",
      "\n",
      "       Other       0.99      1.00      0.99       633\n",
      "       lizon       0.92      0.80      0.85        44\n",
      "\n",
      "    accuracy                           0.98       677\n",
      "   macro avg       0.95      0.90      0.92       677\n",
      "weighted avg       0.98      0.98      0.98       677\n",
      "\n",
      "              precision    recall  f1-score   support\n",
      "\n",
      "       Other       0.99      0.99      0.99      2719\n",
      "       lizon       0.89      0.80      0.84       181\n",
      "\n",
      "    accuracy                           0.98      2900\n",
      "   macro avg       0.94      0.89      0.91      2900\n",
      "weighted avg       0.98      0.98      0.98      2900\n",
      "\n",
      "Processing fold 4, model blinoff/roberta-base-russian-v0 started...\n",
      "Model                   blinoff/roberta-base-russian-v0\n",
      "fold                                                  4\n",
      "maxlen                                              256\n",
      "batch_size                                           16\n",
      "epochs                                                5\n",
      "lr                                                1e-05\n",
      "method                                     fit_onecycle\n",
      "weighted_avg_F1                                     NaN\n",
      "kappa                                               NaN\n",
      "lizon-precision                                     NaN\n",
      "lizon-recall                                        NaN\n",
      "lizon-f1-score                                      NaN\n",
      "duration                                            NaN\n",
      "comment                                             NaN\n",
      "test_weighted_avg_F1                                NaN\n",
      "test_kappa                                          NaN\n",
      "test_lizon-precision                                NaN\n",
      "test_lizon-recall                                   NaN\n",
      "test_lizon-f1-score                                 NaN\n",
      "Name: 4, dtype: object\n",
      "---------------------------------------------\n",
      "preprocessing train...\n",
      "language: ru\n",
      "train sequence lengths:\n",
      "\tmean : 60\n",
      "\t95percentile : 132\n",
      "\t99percentile : 227\n"
     ]
    },
    {
     "data": {
      "text/html": [],
      "text/plain": [
       "<IPython.core.display.HTML object>"
      ]
     },
     "metadata": {},
     "output_type": "display_data"
    },
    {
     "name": "stdout",
     "output_type": "stream",
     "text": [
      "Is Multi-Label? False\n",
      "preprocessing test...\n",
      "language: ru\n",
      "test sequence lengths:\n",
      "\tmean : 59\n",
      "\t95percentile : 134\n",
      "\t99percentile : 205\n"
     ]
    },
    {
     "data": {
      "text/html": [],
      "text/plain": [
       "<IPython.core.display.HTML object>"
      ]
     },
     "metadata": {},
     "output_type": "display_data"
    },
    {
     "name": "stdout",
     "output_type": "stream",
     "text": [
      "preprocessing test...\n",
      "language: ru\n",
      "test sequence lengths:\n",
      "\tmean : 59\n",
      "\t95percentile : 132\n",
      "\t99percentile : 198\n"
     ]
    },
    {
     "data": {
      "text/html": [],
      "text/plain": [
       "<IPython.core.display.HTML object>"
      ]
     },
     "metadata": {},
     "output_type": "display_data"
    },
    {
     "name": "stderr",
     "output_type": "stream",
     "text": [
      "404 Client Error: Not Found for url: https://huggingface.co/blinoff/roberta-base-russian-v0/resolve/main/tf_model.h5\n",
      "/usr/local/lib/python3.7/dist-packages/ktrain/text/preprocessor.py:1067: UserWarning: Could not find Tensorflow version of model.  Attempting to download/load PyTorch version as TensorFlow model using from_pt=True. You will need PyTorch installed for this.\n",
      "  warnings.warn('Could not find Tensorflow version of model.  Attempting to download/load PyTorch version as TensorFlow model using from_pt=True. ' +\\\n"
     ]
    },
    {
     "name": "stdout",
     "output_type": "stream",
     "text": [
      "\n",
      "\n",
      "begin training using onecycle policy with max lr of 1e-05...\n",
      "Epoch 1/5\n",
      "381/381 [==============================] - 131s 306ms/step - loss: 0.2362 - accuracy: 0.9356 - val_loss: 0.1961 - val_accuracy: 0.9350\n",
      "Epoch 2/5\n",
      "381/381 [==============================] - 115s 300ms/step - loss: 0.1132 - accuracy: 0.9634 - val_loss: 0.0920 - val_accuracy: 0.9705\n",
      "Epoch 3/5\n",
      "381/381 [==============================] - 115s 300ms/step - loss: 0.0556 - accuracy: 0.9849 - val_loss: 0.1026 - val_accuracy: 0.9660\n",
      "Epoch 4/5\n",
      "381/381 [==============================] - 115s 300ms/step - loss: 0.0264 - accuracy: 0.9918 - val_loss: 0.0880 - val_accuracy: 0.9749\n",
      "Epoch 5/5\n",
      "381/381 [==============================] - 115s 300ms/step - loss: 0.0084 - accuracy: 0.9980 - val_loss: 0.0819 - val_accuracy: 0.9778\n",
      "              precision    recall  f1-score   support\n",
      "\n",
      "       Other       0.98      1.00      0.99       633\n",
      "       lizon       0.91      0.73      0.81        44\n",
      "\n",
      "    accuracy                           0.98       677\n",
      "   macro avg       0.95      0.86      0.90       677\n",
      "weighted avg       0.98      0.98      0.98       677\n",
      "\n",
      "              precision    recall  f1-score   support\n",
      "\n",
      "       Other       0.99      1.00      0.99      2719\n",
      "       lizon       0.94      0.80      0.86       181\n",
      "\n",
      "    accuracy                           0.98      2900\n",
      "   macro avg       0.96      0.90      0.93      2900\n",
      "weighted avg       0.98      0.98      0.98      2900\n",
      "\n",
      "Processing fold 5, model blinoff/roberta-base-russian-v0 started...\n",
      "Model                   blinoff/roberta-base-russian-v0\n",
      "fold                                                  5\n",
      "maxlen                                              256\n",
      "batch_size                                           16\n",
      "epochs                                                5\n",
      "lr                                                1e-05\n",
      "method                                     fit_onecycle\n",
      "weighted_avg_F1                                     NaN\n",
      "kappa                                               NaN\n",
      "lizon-precision                                     NaN\n",
      "lizon-recall                                        NaN\n",
      "lizon-f1-score                                      NaN\n",
      "duration                                            NaN\n",
      "comment                                             NaN\n",
      "test_weighted_avg_F1                                NaN\n",
      "test_kappa                                          NaN\n",
      "test_lizon-precision                                NaN\n",
      "test_lizon-recall                                   NaN\n",
      "test_lizon-f1-score                                 NaN\n",
      "Name: 5, dtype: object\n",
      "---------------------------------------------\n",
      "preprocessing train...\n",
      "language: ru\n",
      "train sequence lengths:\n",
      "\tmean : 60\n",
      "\t95percentile : 133\n",
      "\t99percentile : 222\n"
     ]
    },
    {
     "data": {
      "text/html": [],
      "text/plain": [
       "<IPython.core.display.HTML object>"
      ]
     },
     "metadata": {},
     "output_type": "display_data"
    },
    {
     "name": "stdout",
     "output_type": "stream",
     "text": [
      "Is Multi-Label? False\n",
      "preprocessing test...\n",
      "language: ru\n",
      "test sequence lengths:\n",
      "\tmean : 58\n",
      "\t95percentile : 130\n",
      "\t99percentile : 237\n"
     ]
    },
    {
     "data": {
      "text/html": [],
      "text/plain": [
       "<IPython.core.display.HTML object>"
      ]
     },
     "metadata": {},
     "output_type": "display_data"
    },
    {
     "name": "stdout",
     "output_type": "stream",
     "text": [
      "preprocessing test...\n",
      "language: ru\n",
      "test sequence lengths:\n",
      "\tmean : 59\n",
      "\t95percentile : 132\n",
      "\t99percentile : 198\n"
     ]
    },
    {
     "data": {
      "text/html": [],
      "text/plain": [
       "<IPython.core.display.HTML object>"
      ]
     },
     "metadata": {},
     "output_type": "display_data"
    },
    {
     "name": "stderr",
     "output_type": "stream",
     "text": [
      "404 Client Error: Not Found for url: https://huggingface.co/blinoff/roberta-base-russian-v0/resolve/main/tf_model.h5\n",
      "/usr/local/lib/python3.7/dist-packages/ktrain/text/preprocessor.py:1067: UserWarning: Could not find Tensorflow version of model.  Attempting to download/load PyTorch version as TensorFlow model using from_pt=True. You will need PyTorch installed for this.\n",
      "  warnings.warn('Could not find Tensorflow version of model.  Attempting to download/load PyTorch version as TensorFlow model using from_pt=True. ' +\\\n"
     ]
    },
    {
     "name": "stdout",
     "output_type": "stream",
     "text": [
      "\n",
      "\n",
      "begin training using onecycle policy with max lr of 1e-05...\n",
      "Epoch 1/5\n",
      "381/381 [==============================] - 132s 308ms/step - loss: 0.2429 - accuracy: 0.9343 - val_loss: 0.1960 - val_accuracy: 0.9364\n",
      "Epoch 2/5\n",
      "381/381 [==============================] - 116s 301ms/step - loss: 0.1249 - accuracy: 0.9568 - val_loss: 0.0798 - val_accuracy: 0.9704\n",
      "Epoch 3/5\n",
      "381/381 [==============================] - 115s 300ms/step - loss: 0.0650 - accuracy: 0.9777 - val_loss: 0.1101 - val_accuracy: 0.9660\n",
      "Epoch 4/5\n",
      "381/381 [==============================] - 115s 301ms/step - loss: 0.0241 - accuracy: 0.9915 - val_loss: 0.0550 - val_accuracy: 0.9808\n",
      "Epoch 5/5\n",
      "381/381 [==============================] - 116s 301ms/step - loss: 0.0074 - accuracy: 0.9979 - val_loss: 0.0417 - val_accuracy: 0.9837\n",
      "              precision    recall  f1-score   support\n",
      "\n",
      "       Other       0.99      0.99      0.99       633\n",
      "       lizon       0.90      0.84      0.87        43\n",
      "\n",
      "    accuracy                           0.98       676\n",
      "   macro avg       0.94      0.92      0.93       676\n",
      "weighted avg       0.98      0.98      0.98       676\n",
      "\n",
      "              precision    recall  f1-score   support\n",
      "\n",
      "       Other       0.99      1.00      0.99      2719\n",
      "       lizon       0.94      0.81      0.87       181\n",
      "\n",
      "    accuracy                           0.98      2900\n",
      "   macro avg       0.96      0.90      0.93      2900\n",
      "weighted avg       0.98      0.98      0.98      2900\n",
      "\n",
      "Processing fold 6, model blinoff/roberta-base-russian-v0 started...\n",
      "Model                   blinoff/roberta-base-russian-v0\n",
      "fold                                                  6\n",
      "maxlen                                              256\n",
      "batch_size                                           16\n",
      "epochs                                                5\n",
      "lr                                                1e-05\n",
      "method                                     fit_onecycle\n",
      "weighted_avg_F1                                     NaN\n",
      "kappa                                               NaN\n",
      "lizon-precision                                     NaN\n",
      "lizon-recall                                        NaN\n",
      "lizon-f1-score                                      NaN\n",
      "duration                                            NaN\n",
      "comment                                             NaN\n",
      "test_weighted_avg_F1                                NaN\n",
      "test_kappa                                          NaN\n",
      "test_lizon-precision                                NaN\n",
      "test_lizon-recall                                   NaN\n",
      "test_lizon-f1-score                                 NaN\n",
      "Name: 6, dtype: object\n",
      "---------------------------------------------\n",
      "preprocessing train...\n",
      "language: ru\n",
      "train sequence lengths:\n",
      "\tmean : 60\n",
      "\t95percentile : 133\n",
      "\t99percentile : 223\n"
     ]
    },
    {
     "data": {
      "text/html": [],
      "text/plain": [
       "<IPython.core.display.HTML object>"
      ]
     },
     "metadata": {},
     "output_type": "display_data"
    },
    {
     "name": "stdout",
     "output_type": "stream",
     "text": [
      "Is Multi-Label? False\n",
      "preprocessing test...\n",
      "language: ru\n",
      "test sequence lengths:\n",
      "\tmean : 59\n",
      "\t95percentile : 129\n",
      "\t99percentile : 218\n"
     ]
    },
    {
     "data": {
      "text/html": [],
      "text/plain": [
       "<IPython.core.display.HTML object>"
      ]
     },
     "metadata": {},
     "output_type": "display_data"
    },
    {
     "name": "stdout",
     "output_type": "stream",
     "text": [
      "preprocessing test...\n",
      "language: ru\n",
      "test sequence lengths:\n",
      "\tmean : 59\n",
      "\t95percentile : 132\n",
      "\t99percentile : 198\n"
     ]
    },
    {
     "data": {
      "text/html": [],
      "text/plain": [
       "<IPython.core.display.HTML object>"
      ]
     },
     "metadata": {},
     "output_type": "display_data"
    },
    {
     "name": "stderr",
     "output_type": "stream",
     "text": [
      "404 Client Error: Not Found for url: https://huggingface.co/blinoff/roberta-base-russian-v0/resolve/main/tf_model.h5\n",
      "/usr/local/lib/python3.7/dist-packages/ktrain/text/preprocessor.py:1067: UserWarning: Could not find Tensorflow version of model.  Attempting to download/load PyTorch version as TensorFlow model using from_pt=True. You will need PyTorch installed for this.\n",
      "  warnings.warn('Could not find Tensorflow version of model.  Attempting to download/load PyTorch version as TensorFlow model using from_pt=True. ' +\\\n"
     ]
    },
    {
     "name": "stdout",
     "output_type": "stream",
     "text": [
      "\n",
      "\n",
      "begin training using onecycle policy with max lr of 1e-05...\n",
      "Epoch 1/5\n",
      "381/381 [==============================] - 132s 308ms/step - loss: 0.2378 - accuracy: 0.9333 - val_loss: 0.1212 - val_accuracy: 0.9586\n",
      "Epoch 2/5\n",
      "381/381 [==============================] - 116s 301ms/step - loss: 0.1194 - accuracy: 0.9650 - val_loss: 0.0581 - val_accuracy: 0.9793\n",
      "Epoch 3/5\n",
      "381/381 [==============================] - 116s 301ms/step - loss: 0.0738 - accuracy: 0.9747 - val_loss: 0.0297 - val_accuracy: 0.9896\n",
      "Epoch 4/5\n",
      "381/381 [==============================] - 115s 301ms/step - loss: 0.0323 - accuracy: 0.9895 - val_loss: 0.0366 - val_accuracy: 0.9867\n",
      "Epoch 5/5\n",
      "381/381 [==============================] - 115s 300ms/step - loss: 0.0140 - accuracy: 0.9956 - val_loss: 0.0327 - val_accuracy: 0.9882\n",
      "              precision    recall  f1-score   support\n",
      "\n",
      "       Other       1.00      0.99      0.99       633\n",
      "       lizon       0.89      0.93      0.91        43\n",
      "\n",
      "    accuracy                           0.99       676\n",
      "   macro avg       0.94      0.96      0.95       676\n",
      "weighted avg       0.99      0.99      0.99       676\n",
      "\n",
      "              precision    recall  f1-score   support\n",
      "\n",
      "       Other       0.99      0.99      0.99      2719\n",
      "       lizon       0.87      0.81      0.84       181\n",
      "\n",
      "    accuracy                           0.98      2900\n",
      "   macro avg       0.93      0.90      0.91      2900\n",
      "weighted avg       0.98      0.98      0.98      2900\n",
      "\n",
      "Processing fold 7, model blinoff/roberta-base-russian-v0 started...\n",
      "Model                   blinoff/roberta-base-russian-v0\n",
      "fold                                                  7\n",
      "maxlen                                              256\n",
      "batch_size                                           16\n",
      "epochs                                                5\n",
      "lr                                                1e-05\n",
      "method                                     fit_onecycle\n",
      "weighted_avg_F1                                     NaN\n",
      "kappa                                               NaN\n",
      "lizon-precision                                     NaN\n",
      "lizon-recall                                        NaN\n",
      "lizon-f1-score                                      NaN\n",
      "duration                                            NaN\n",
      "comment                                             NaN\n",
      "test_weighted_avg_F1                                NaN\n",
      "test_kappa                                          NaN\n",
      "test_lizon-precision                                NaN\n",
      "test_lizon-recall                                   NaN\n",
      "test_lizon-f1-score                                 NaN\n",
      "Name: 7, dtype: object\n",
      "---------------------------------------------\n",
      "preprocessing train...\n",
      "language: ru\n",
      "train sequence lengths:\n",
      "\tmean : 60\n",
      "\t95percentile : 133\n",
      "\t99percentile : 218\n"
     ]
    },
    {
     "data": {
      "text/html": [],
      "text/plain": [
       "<IPython.core.display.HTML object>"
      ]
     },
     "metadata": {},
     "output_type": "display_data"
    },
    {
     "name": "stdout",
     "output_type": "stream",
     "text": [
      "Is Multi-Label? False\n",
      "preprocessing test...\n",
      "language: ru\n",
      "test sequence lengths:\n",
      "\tmean : 60\n",
      "\t95percentile : 131\n",
      "\t99percentile : 255\n"
     ]
    },
    {
     "data": {
      "text/html": [],
      "text/plain": [
       "<IPython.core.display.HTML object>"
      ]
     },
     "metadata": {},
     "output_type": "display_data"
    },
    {
     "name": "stdout",
     "output_type": "stream",
     "text": [
      "preprocessing test...\n",
      "language: ru\n",
      "test sequence lengths:\n",
      "\tmean : 59\n",
      "\t95percentile : 132\n",
      "\t99percentile : 198\n"
     ]
    },
    {
     "data": {
      "text/html": [],
      "text/plain": [
       "<IPython.core.display.HTML object>"
      ]
     },
     "metadata": {},
     "output_type": "display_data"
    },
    {
     "name": "stderr",
     "output_type": "stream",
     "text": [
      "404 Client Error: Not Found for url: https://huggingface.co/blinoff/roberta-base-russian-v0/resolve/main/tf_model.h5\n",
      "/usr/local/lib/python3.7/dist-packages/ktrain/text/preprocessor.py:1067: UserWarning: Could not find Tensorflow version of model.  Attempting to download/load PyTorch version as TensorFlow model using from_pt=True. You will need PyTorch installed for this.\n",
      "  warnings.warn('Could not find Tensorflow version of model.  Attempting to download/load PyTorch version as TensorFlow model using from_pt=True. ' +\\\n"
     ]
    },
    {
     "name": "stdout",
     "output_type": "stream",
     "text": [
      "\n",
      "\n",
      "begin training using onecycle policy with max lr of 1e-05...\n",
      "Epoch 1/5\n",
      "381/381 [==============================] - 131s 306ms/step - loss: 0.2397 - accuracy: 0.9341 - val_loss: 0.1667 - val_accuracy: 0.9364\n",
      "Epoch 2/5\n",
      "381/381 [==============================] - 115s 300ms/step - loss: 0.1305 - accuracy: 0.9581 - val_loss: 0.0836 - val_accuracy: 0.9704\n",
      "Epoch 3/5\n",
      "381/381 [==============================] - 115s 300ms/step - loss: 0.0776 - accuracy: 0.9736 - val_loss: 0.0490 - val_accuracy: 0.9808\n",
      "Epoch 4/5\n",
      "381/381 [==============================] - 115s 300ms/step - loss: 0.0413 - accuracy: 0.9860 - val_loss: 0.0612 - val_accuracy: 0.9719\n",
      "Epoch 5/5\n",
      "381/381 [==============================] - 115s 300ms/step - loss: 0.0150 - accuracy: 0.9961 - val_loss: 0.0543 - val_accuracy: 0.9793\n",
      "              precision    recall  f1-score   support\n",
      "\n",
      "       Other       0.99      0.99      0.99       633\n",
      "       lizon       0.85      0.81      0.83        43\n",
      "\n",
      "    accuracy                           0.98       676\n",
      "   macro avg       0.92      0.90      0.91       676\n",
      "weighted avg       0.98      0.98      0.98       676\n",
      "\n",
      "              precision    recall  f1-score   support\n",
      "\n",
      "       Other       0.99      1.00      0.99      2719\n",
      "       lizon       0.92      0.78      0.84       181\n",
      "\n",
      "    accuracy                           0.98      2900\n",
      "   macro avg       0.95      0.89      0.92      2900\n",
      "weighted avg       0.98      0.98      0.98      2900\n",
      "\n",
      "Processing fold 8, model blinoff/roberta-base-russian-v0 started...\n",
      "Model                   blinoff/roberta-base-russian-v0\n",
      "fold                                                  8\n",
      "maxlen                                              256\n",
      "batch_size                                           16\n",
      "epochs                                                5\n",
      "lr                                                1e-05\n",
      "method                                     fit_onecycle\n",
      "weighted_avg_F1                                     NaN\n",
      "kappa                                               NaN\n",
      "lizon-precision                                     NaN\n",
      "lizon-recall                                        NaN\n",
      "lizon-f1-score                                      NaN\n",
      "duration                                            NaN\n",
      "comment                                             NaN\n",
      "test_weighted_avg_F1                                NaN\n",
      "test_kappa                                          NaN\n",
      "test_lizon-precision                                NaN\n",
      "test_lizon-recall                                   NaN\n",
      "test_lizon-f1-score                                 NaN\n",
      "Name: 8, dtype: object\n",
      "---------------------------------------------\n",
      "preprocessing train...\n",
      "language: ru\n",
      "train sequence lengths:\n",
      "\tmean : 60\n",
      "\t95percentile : 133\n",
      "\t99percentile : 223\n"
     ]
    },
    {
     "data": {
      "text/html": [],
      "text/plain": [
       "<IPython.core.display.HTML object>"
      ]
     },
     "metadata": {},
     "output_type": "display_data"
    },
    {
     "name": "stdout",
     "output_type": "stream",
     "text": [
      "Is Multi-Label? False\n",
      "preprocessing test...\n",
      "language: ru\n",
      "test sequence lengths:\n",
      "\tmean : 59\n",
      "\t95percentile : 126\n",
      "\t99percentile : 222\n"
     ]
    },
    {
     "data": {
      "text/html": [],
      "text/plain": [
       "<IPython.core.display.HTML object>"
      ]
     },
     "metadata": {},
     "output_type": "display_data"
    },
    {
     "name": "stdout",
     "output_type": "stream",
     "text": [
      "preprocessing test...\n",
      "language: ru\n",
      "test sequence lengths:\n",
      "\tmean : 59\n",
      "\t95percentile : 132\n",
      "\t99percentile : 198\n"
     ]
    },
    {
     "data": {
      "text/html": [],
      "text/plain": [
       "<IPython.core.display.HTML object>"
      ]
     },
     "metadata": {},
     "output_type": "display_data"
    },
    {
     "name": "stderr",
     "output_type": "stream",
     "text": [
      "404 Client Error: Not Found for url: https://huggingface.co/blinoff/roberta-base-russian-v0/resolve/main/tf_model.h5\n",
      "/usr/local/lib/python3.7/dist-packages/ktrain/text/preprocessor.py:1067: UserWarning: Could not find Tensorflow version of model.  Attempting to download/load PyTorch version as TensorFlow model using from_pt=True. You will need PyTorch installed for this.\n",
      "  warnings.warn('Could not find Tensorflow version of model.  Attempting to download/load PyTorch version as TensorFlow model using from_pt=True. ' +\\\n"
     ]
    },
    {
     "name": "stdout",
     "output_type": "stream",
     "text": [
      "\n",
      "\n",
      "begin training using onecycle policy with max lr of 1e-05...\n",
      "Epoch 1/5\n",
      "381/381 [==============================] - 132s 307ms/step - loss: 0.2395 - accuracy: 0.9360 - val_loss: 0.1993 - val_accuracy: 0.9349\n",
      "Epoch 2/5\n",
      "381/381 [==============================] - 116s 301ms/step - loss: 0.1268 - accuracy: 0.9568 - val_loss: 0.0488 - val_accuracy: 0.9793\n",
      "Epoch 3/5\n",
      "381/381 [==============================] - 116s 301ms/step - loss: 0.0631 - accuracy: 0.9793 - val_loss: 0.0720 - val_accuracy: 0.9749\n",
      "Epoch 4/5\n",
      "381/381 [==============================] - 115s 300ms/step - loss: 0.0338 - accuracy: 0.9895 - val_loss: 0.0337 - val_accuracy: 0.9896\n",
      "Epoch 5/5\n",
      "381/381 [==============================] - 115s 301ms/step - loss: 0.0114 - accuracy: 0.9967 - val_loss: 0.0349 - val_accuracy: 0.9867\n",
      "              precision    recall  f1-score   support\n",
      "\n",
      "       Other       0.99      0.99      0.99       633\n",
      "       lizon       0.89      0.91      0.90        43\n",
      "\n",
      "    accuracy                           0.99       676\n",
      "   macro avg       0.94      0.95      0.94       676\n",
      "weighted avg       0.99      0.99      0.99       676\n",
      "\n",
      "              precision    recall  f1-score   support\n",
      "\n",
      "       Other       0.99      0.99      0.99      2719\n",
      "       lizon       0.88      0.83      0.86       181\n",
      "\n",
      "    accuracy                           0.98      2900\n",
      "   macro avg       0.94      0.91      0.92      2900\n",
      "weighted avg       0.98      0.98      0.98      2900\n",
      "\n",
      "Processing fold 9, model blinoff/roberta-base-russian-v0 started...\n",
      "Model                   blinoff/roberta-base-russian-v0\n",
      "fold                                                  9\n",
      "maxlen                                              256\n",
      "batch_size                                           16\n",
      "epochs                                                5\n",
      "lr                                                1e-05\n",
      "method                                     fit_onecycle\n",
      "weighted_avg_F1                                     NaN\n",
      "kappa                                               NaN\n",
      "lizon-precision                                     NaN\n",
      "lizon-recall                                        NaN\n",
      "lizon-f1-score                                      NaN\n",
      "duration                                            NaN\n",
      "comment                                             NaN\n",
      "test_weighted_avg_F1                                NaN\n",
      "test_kappa                                          NaN\n",
      "test_lizon-precision                                NaN\n",
      "test_lizon-recall                                   NaN\n",
      "test_lizon-f1-score                                 NaN\n",
      "Name: 9, dtype: object\n",
      "---------------------------------------------\n",
      "preprocessing train...\n",
      "language: ru\n",
      "train sequence lengths:\n",
      "\tmean : 60\n",
      "\t95percentile : 132\n",
      "\t99percentile : 225\n"
     ]
    },
    {
     "data": {
      "text/html": [],
      "text/plain": [
       "<IPython.core.display.HTML object>"
      ]
     },
     "metadata": {},
     "output_type": "display_data"
    },
    {
     "name": "stdout",
     "output_type": "stream",
     "text": [
      "Is Multi-Label? False\n",
      "preprocessing test...\n",
      "language: ru\n",
      "test sequence lengths:\n",
      "\tmean : 59\n",
      "\t95percentile : 132\n",
      "\t99percentile : 200\n"
     ]
    },
    {
     "data": {
      "text/html": [],
      "text/plain": [
       "<IPython.core.display.HTML object>"
      ]
     },
     "metadata": {},
     "output_type": "display_data"
    },
    {
     "name": "stdout",
     "output_type": "stream",
     "text": [
      "preprocessing test...\n",
      "language: ru\n",
      "test sequence lengths:\n",
      "\tmean : 59\n",
      "\t95percentile : 132\n",
      "\t99percentile : 198\n"
     ]
    },
    {
     "data": {
      "text/html": [],
      "text/plain": [
       "<IPython.core.display.HTML object>"
      ]
     },
     "metadata": {},
     "output_type": "display_data"
    },
    {
     "name": "stderr",
     "output_type": "stream",
     "text": [
      "404 Client Error: Not Found for url: https://huggingface.co/blinoff/roberta-base-russian-v0/resolve/main/tf_model.h5\n",
      "/usr/local/lib/python3.7/dist-packages/ktrain/text/preprocessor.py:1067: UserWarning: Could not find Tensorflow version of model.  Attempting to download/load PyTorch version as TensorFlow model using from_pt=True. You will need PyTorch installed for this.\n",
      "  warnings.warn('Could not find Tensorflow version of model.  Attempting to download/load PyTorch version as TensorFlow model using from_pt=True. ' +\\\n"
     ]
    },
    {
     "name": "stdout",
     "output_type": "stream",
     "text": [
      "\n",
      "\n",
      "begin training using onecycle policy with max lr of 1e-05...\n",
      "Epoch 1/5\n",
      "381/381 [==============================] - 132s 307ms/step - loss: 0.2542 - accuracy: 0.9218 - val_loss: 0.1927 - val_accuracy: 0.9364\n",
      "Epoch 2/5\n",
      "381/381 [==============================] - 115s 300ms/step - loss: 0.1234 - accuracy: 0.9612 - val_loss: 0.1080 - val_accuracy: 0.9660\n",
      "Epoch 3/5\n",
      "381/381 [==============================] - 115s 300ms/step - loss: 0.0626 - accuracy: 0.9787 - val_loss: 0.0678 - val_accuracy: 0.9763\n",
      "Epoch 4/5\n",
      "381/381 [==============================] - 115s 300ms/step - loss: 0.0293 - accuracy: 0.9890 - val_loss: 0.0945 - val_accuracy: 0.9734\n",
      "Epoch 5/5\n",
      "381/381 [==============================] - 115s 300ms/step - loss: 0.0100 - accuracy: 0.9974 - val_loss: 0.0910 - val_accuracy: 0.9778\n",
      "              precision    recall  f1-score   support\n",
      "\n",
      "       Other       0.99      0.99      0.99       633\n",
      "       lizon       0.85      0.79      0.82        43\n",
      "\n",
      "    accuracy                           0.98       676\n",
      "   macro avg       0.92      0.89      0.90       676\n",
      "weighted avg       0.98      0.98      0.98       676\n",
      "\n",
      "              precision    recall  f1-score   support\n",
      "\n",
      "       Other       0.99      0.99      0.99      2719\n",
      "       lizon       0.91      0.80      0.85       181\n",
      "\n",
      "    accuracy                           0.98      2900\n",
      "   macro avg       0.95      0.90      0.92      2900\n",
      "weighted avg       0.98      0.98      0.98      2900\n",
      "\n"
     ]
    }
   ],
   "source": [
    "for index, row in Experiment.iterrows():\n",
    "  print('Processing fold %s, model %s started...'%(row['fold'], row['Model']))\n",
    "  if (not(NewExecution) and row['duration'])>0:\n",
    "    print('%s is already processed. Continue'%(row['Model']))\n",
    "    continue  \n",
    "  \n",
    "  print(row)\n",
    "  print('---------------------------------------------')\n",
    "\n",
    "  try:\n",
    "    ts_start = time.time()\n",
    "    val_weighted_avg_F1, val_kappa, val_PPV, val_TPR, val_F1, test_weighted_avg_F1, test_kappa, test_PPV, test_TPR, test_F1 = fit_onecycle(row['Model'],row['maxlen'],row['batch_size'],row['lr'],row['epochs'],X_train_data[row['fold']],y_train_data[row['fold']],X_valid_data[row['fold']], y_valid_data[row['fold']],index)                   \n",
    "    ts_end = time.time()\n",
    "    Experiment.at[index,'duration']=(ts_end - ts_start)/60  \n",
    "    Experiment.at[index,'weighted_avg_F1']=val_weighted_avg_F1\n",
    "    Experiment.at[index,'kappa']=val_kappa\n",
    "    Experiment.at[index,'lizon-precision']=val_PPV\n",
    "    Experiment.at[index,'lizon-recall']=val_TPR\n",
    "    Experiment.at[index,'lizon-f1-score']=val_F1\n",
    "\n",
    "    Experiment.at[index,'test_weighted_avg_F1']=test_weighted_avg_F1\n",
    "    Experiment.at[index,'test_kappa']=test_kappa\n",
    "    Experiment.at[index,'test_lizon-precision']=test_PPV\n",
    "    Experiment.at[index,'test_lizon-recall']=test_TPR\n",
    "    Experiment.at[index,'test_lizon-f1-score']=test_F1    \n",
    "  except:\n",
    "    raise\n",
    "    Experiment.at[index,'duration']=10000\n",
    "    Experiment.at[index,'comment']='Failed'\n",
    "\n",
    "\n",
    "  #---------------------------Save results to the log------\n",
    "  try:\n",
    "    SaveToExperimentLog(Experiments_file, Experiment_name, Experiment)\n",
    "  except:\n",
    "    #Continue training even if there is an issue\n",
    "    print('Error saving to file!')  "
   ]
  },
  {
   "cell_type": "code",
   "execution_count": 23,
   "metadata": {
    "executionInfo": {
     "elapsed": 83,
     "status": "ok",
     "timestamp": 1636657987652,
     "user": {
      "displayName": "Kateryna Drogaieva",
      "photoUrl": "https://lh3.googleusercontent.com/a-/AOh14GjB1LQYJH97Lqm6RsCcAADFgzEAa0YxMUT7P4mjlA=s64",
      "userId": "10877377912113147805"
     },
     "user_tz": 480
    },
    "id": "nTQ1S3jSJCAW"
   },
   "outputs": [],
   "source": [
    "result=pd.DataFrame()\n",
    "folds = [str(i) for i in range(kfold)]\n",
    "for model in Experiment['Model'].unique():\n",
    "  for score in ['lizon-precision', 'lizon-recall','lizon-f1-score','test_lizon-precision', 'test_lizon-recall','test_lizon-f1-score','weighted_avg_F1','kappa','test_weighted_avg_F1','test_kappa']:\n",
    "    df = Experiment[Experiment['Model']==model][[score]].transpose().reset_index()\n",
    "    df['Model']=model\n",
    "    df.columns=['Score']+folds+['Model']\n",
    "    df=df[['Model','Score'] + folds]\n",
    "    result=result.append(df)"
   ]
  },
  {
   "cell_type": "code",
   "execution_count": 24,
   "metadata": {
    "executionInfo": {
     "elapsed": 81,
     "status": "ok",
     "timestamp": 1636657987654,
     "user": {
      "displayName": "Kateryna Drogaieva",
      "photoUrl": "https://lh3.googleusercontent.com/a-/AOh14GjB1LQYJH97Lqm6RsCcAADFgzEAa0YxMUT7P4mjlA=s64",
      "userId": "10877377912113147805"
     },
     "user_tz": 480
    },
    "id": "b9ZxD33PQkfU"
   },
   "outputs": [],
   "source": [
    "result.reset_index(inplace=True)\n",
    "result=result[['Model','Score'] + folds]"
   ]
  },
  {
   "cell_type": "code",
   "execution_count": 25,
   "metadata": {
    "executionInfo": {
     "elapsed": 80,
     "status": "ok",
     "timestamp": 1636657987655,
     "user": {
      "displayName": "Kateryna Drogaieva",
      "photoUrl": "https://lh3.googleusercontent.com/a-/AOh14GjB1LQYJH97Lqm6RsCcAADFgzEAa0YxMUT7P4mjlA=s64",
      "userId": "10877377912113147805"
     },
     "user_tz": 480
    },
    "id": "FYsdcrRSMAJS"
   },
   "outputs": [],
   "source": [
    "result['mean']=result[folds].mean(axis=1)\n",
    "result['sem']=result[folds].sem(axis=1)\n",
    "result['std']=result[folds].std(axis=1)\n",
    "result['median']=result[folds].median(axis=1)"
   ]
  },
  {
   "cell_type": "code",
   "execution_count": 26,
   "metadata": {
    "colab": {
     "base_uri": "https://localhost:8080/",
     "height": 362
    },
    "executionInfo": {
     "elapsed": 78,
     "status": "ok",
     "timestamp": 1636657987655,
     "user": {
      "displayName": "Kateryna Drogaieva",
      "photoUrl": "https://lh3.googleusercontent.com/a-/AOh14GjB1LQYJH97Lqm6RsCcAADFgzEAa0YxMUT7P4mjlA=s64",
      "userId": "10877377912113147805"
     },
     "user_tz": 480
    },
    "id": "Jv0lKp1hQP3e",
    "outputId": "14aa2faa-e6dc-4332-fdfb-ae9ef1f2b258"
   },
   "outputs": [
    {
     "data": {
      "text/html": [
       "<div>\n",
       "<style scoped>\n",
       "    .dataframe tbody tr th:only-of-type {\n",
       "        vertical-align: middle;\n",
       "    }\n",
       "\n",
       "    .dataframe tbody tr th {\n",
       "        vertical-align: top;\n",
       "    }\n",
       "\n",
       "    .dataframe thead th {\n",
       "        text-align: right;\n",
       "    }\n",
       "</style>\n",
       "<table border=\"1\" class=\"dataframe\">\n",
       "  <thead>\n",
       "    <tr style=\"text-align: right;\">\n",
       "      <th></th>\n",
       "      <th>Model</th>\n",
       "      <th>Score</th>\n",
       "      <th>0</th>\n",
       "      <th>1</th>\n",
       "      <th>2</th>\n",
       "      <th>3</th>\n",
       "      <th>4</th>\n",
       "      <th>5</th>\n",
       "      <th>6</th>\n",
       "      <th>7</th>\n",
       "      <th>8</th>\n",
       "      <th>9</th>\n",
       "      <th>mean</th>\n",
       "      <th>sem</th>\n",
       "      <th>std</th>\n",
       "      <th>median</th>\n",
       "    </tr>\n",
       "  </thead>\n",
       "  <tbody>\n",
       "    <tr>\n",
       "      <th>0</th>\n",
       "      <td>blinoff/roberta-base-russian-v0</td>\n",
       "      <td>lizon-precision</td>\n",
       "      <td>0.911765</td>\n",
       "      <td>0.853659</td>\n",
       "      <td>0.971429</td>\n",
       "      <td>0.921053</td>\n",
       "      <td>0.914286</td>\n",
       "      <td>0.900000</td>\n",
       "      <td>0.888889</td>\n",
       "      <td>0.853659</td>\n",
       "      <td>0.886364</td>\n",
       "      <td>0.850000</td>\n",
       "      <td>0.895110</td>\n",
       "      <td>0.011904</td>\n",
       "      <td>0.037643</td>\n",
       "      <td>0.894444</td>\n",
       "    </tr>\n",
       "    <tr>\n",
       "      <th>1</th>\n",
       "      <td>blinoff/roberta-base-russian-v0</td>\n",
       "      <td>lizon-recall</td>\n",
       "      <td>0.720930</td>\n",
       "      <td>0.813953</td>\n",
       "      <td>0.790698</td>\n",
       "      <td>0.795455</td>\n",
       "      <td>0.727273</td>\n",
       "      <td>0.837209</td>\n",
       "      <td>0.930233</td>\n",
       "      <td>0.813953</td>\n",
       "      <td>0.906977</td>\n",
       "      <td>0.790698</td>\n",
       "      <td>0.812738</td>\n",
       "      <td>0.021158</td>\n",
       "      <td>0.066909</td>\n",
       "      <td>0.804704</td>\n",
       "    </tr>\n",
       "    <tr>\n",
       "      <th>2</th>\n",
       "      <td>blinoff/roberta-base-russian-v0</td>\n",
       "      <td>lizon-f1-score</td>\n",
       "      <td>0.805195</td>\n",
       "      <td>0.833333</td>\n",
       "      <td>0.871795</td>\n",
       "      <td>0.853659</td>\n",
       "      <td>0.810127</td>\n",
       "      <td>0.867470</td>\n",
       "      <td>0.909091</td>\n",
       "      <td>0.833333</td>\n",
       "      <td>0.896552</td>\n",
       "      <td>0.819277</td>\n",
       "      <td>0.849983</td>\n",
       "      <td>0.011328</td>\n",
       "      <td>0.035822</td>\n",
       "      <td>0.843496</td>\n",
       "    </tr>\n",
       "    <tr>\n",
       "      <th>3</th>\n",
       "      <td>blinoff/roberta-base-russian-v0</td>\n",
       "      <td>test_lizon-precision</td>\n",
       "      <td>0.884146</td>\n",
       "      <td>0.884146</td>\n",
       "      <td>0.882353</td>\n",
       "      <td>0.888889</td>\n",
       "      <td>0.941176</td>\n",
       "      <td>0.935897</td>\n",
       "      <td>0.874251</td>\n",
       "      <td>0.915584</td>\n",
       "      <td>0.883041</td>\n",
       "      <td>0.906250</td>\n",
       "      <td>0.899574</td>\n",
       "      <td>0.007566</td>\n",
       "      <td>0.023927</td>\n",
       "      <td>0.886518</td>\n",
       "    </tr>\n",
       "    <tr>\n",
       "      <th>4</th>\n",
       "      <td>blinoff/roberta-base-russian-v0</td>\n",
       "      <td>test_lizon-recall</td>\n",
       "      <td>0.801105</td>\n",
       "      <td>0.801105</td>\n",
       "      <td>0.828729</td>\n",
       "      <td>0.795580</td>\n",
       "      <td>0.795580</td>\n",
       "      <td>0.806630</td>\n",
       "      <td>0.806630</td>\n",
       "      <td>0.779006</td>\n",
       "      <td>0.834254</td>\n",
       "      <td>0.801105</td>\n",
       "      <td>0.804972</td>\n",
       "      <td>0.005080</td>\n",
       "      <td>0.016065</td>\n",
       "      <td>0.801105</td>\n",
       "    </tr>\n",
       "    <tr>\n",
       "      <th>5</th>\n",
       "      <td>blinoff/roberta-base-russian-v0</td>\n",
       "      <td>test_lizon-f1-score</td>\n",
       "      <td>0.840580</td>\n",
       "      <td>0.840580</td>\n",
       "      <td>0.854701</td>\n",
       "      <td>0.839650</td>\n",
       "      <td>0.862275</td>\n",
       "      <td>0.866469</td>\n",
       "      <td>0.839080</td>\n",
       "      <td>0.841791</td>\n",
       "      <td>0.857955</td>\n",
       "      <td>0.850440</td>\n",
       "      <td>0.849352</td>\n",
       "      <td>0.003291</td>\n",
       "      <td>0.010406</td>\n",
       "      <td>0.846115</td>\n",
       "    </tr>\n",
       "    <tr>\n",
       "      <th>6</th>\n",
       "      <td>blinoff/roberta-base-russian-v0</td>\n",
       "      <td>weighted_avg_F1</td>\n",
       "      <td>0.976627</td>\n",
       "      <td>0.979091</td>\n",
       "      <td>0.984518</td>\n",
       "      <td>0.981668</td>\n",
       "      <td>0.976660</td>\n",
       "      <td>0.983453</td>\n",
       "      <td>0.988291</td>\n",
       "      <td>0.979060</td>\n",
       "      <td>0.986758</td>\n",
       "      <td>0.977436</td>\n",
       "      <td>0.981356</td>\n",
       "      <td>0.001341</td>\n",
       "      <td>0.004242</td>\n",
       "      <td>0.980379</td>\n",
       "    </tr>\n",
       "    <tr>\n",
       "      <th>7</th>\n",
       "      <td>blinoff/roberta-base-russian-v0</td>\n",
       "      <td>kappa</td>\n",
       "      <td>0.793619</td>\n",
       "      <td>0.822316</td>\n",
       "      <td>0.864045</td>\n",
       "      <td>0.844278</td>\n",
       "      <td>0.798524</td>\n",
       "      <td>0.858814</td>\n",
       "      <td>0.902765</td>\n",
       "      <td>0.822299</td>\n",
       "      <td>0.889438</td>\n",
       "      <td>0.807473</td>\n",
       "      <td>0.840357</td>\n",
       "      <td>0.011967</td>\n",
       "      <td>0.037842</td>\n",
       "      <td>0.833297</td>\n",
       "    </tr>\n",
       "    <tr>\n",
       "      <th>8</th>\n",
       "      <td>blinoff/roberta-base-russian-v0</td>\n",
       "      <td>test_weighted_avg_F1</td>\n",
       "      <td>0.980597</td>\n",
       "      <td>0.980597</td>\n",
       "      <td>0.982156</td>\n",
       "      <td>0.980542</td>\n",
       "      <td>0.983514</td>\n",
       "      <td>0.983943</td>\n",
       "      <td>0.980326</td>\n",
       "      <td>0.981033</td>\n",
       "      <td>0.982530</td>\n",
       "      <td>0.981906</td>\n",
       "      <td>0.981714</td>\n",
       "      <td>0.000413</td>\n",
       "      <td>0.001307</td>\n",
       "      <td>0.981469</td>\n",
       "    </tr>\n",
       "    <tr>\n",
       "      <th>9</th>\n",
       "      <td>blinoff/roberta-base-russian-v0</td>\n",
       "      <td>test_kappa</td>\n",
       "      <td>0.830523</td>\n",
       "      <td>0.830523</td>\n",
       "      <td>0.845351</td>\n",
       "      <td>0.829604</td>\n",
       "      <td>0.853923</td>\n",
       "      <td>0.858280</td>\n",
       "      <td>0.828827</td>\n",
       "      <td>0.832160</td>\n",
       "      <td>0.848785</td>\n",
       "      <td>0.841135</td>\n",
       "      <td>0.839911</td>\n",
       "      <td>0.003510</td>\n",
       "      <td>0.011101</td>\n",
       "      <td>0.836647</td>\n",
       "    </tr>\n",
       "  </tbody>\n",
       "</table>\n",
       "</div>"
      ],
      "text/plain": [
       "                             Model                 Score  ...       std    median\n",
       "0  blinoff/roberta-base-russian-v0       lizon-precision  ...  0.037643  0.894444\n",
       "1  blinoff/roberta-base-russian-v0          lizon-recall  ...  0.066909  0.804704\n",
       "2  blinoff/roberta-base-russian-v0        lizon-f1-score  ...  0.035822  0.843496\n",
       "3  blinoff/roberta-base-russian-v0  test_lizon-precision  ...  0.023927  0.886518\n",
       "4  blinoff/roberta-base-russian-v0     test_lizon-recall  ...  0.016065  0.801105\n",
       "5  blinoff/roberta-base-russian-v0   test_lizon-f1-score  ...  0.010406  0.846115\n",
       "6  blinoff/roberta-base-russian-v0       weighted_avg_F1  ...  0.004242  0.980379\n",
       "7  blinoff/roberta-base-russian-v0                 kappa  ...  0.037842  0.833297\n",
       "8  blinoff/roberta-base-russian-v0  test_weighted_avg_F1  ...  0.001307  0.981469\n",
       "9  blinoff/roberta-base-russian-v0            test_kappa  ...  0.011101  0.836647\n",
       "\n",
       "[10 rows x 16 columns]"
      ]
     },
     "execution_count": 26,
     "metadata": {},
     "output_type": "execute_result"
    }
   ],
   "source": [
    "result"
   ]
  },
  {
   "cell_type": "code",
   "execution_count": 27,
   "metadata": {
    "executionInfo": {
     "elapsed": 73,
     "status": "ok",
     "timestamp": 1636657987656,
     "user": {
      "displayName": "Kateryna Drogaieva",
      "photoUrl": "https://lh3.googleusercontent.com/a-/AOh14GjB1LQYJH97Lqm6RsCcAADFgzEAa0YxMUT7P4mjlA=s64",
      "userId": "10877377912113147805"
     },
     "user_tz": 480
    },
    "id": "7jC-fnfVQ4Et"
   },
   "outputs": [],
   "source": [
    "import scipy.stats as stats\n",
    "#Significance level\n",
    "alpha=0.05\n",
    "confidence = 1 - alpha"
   ]
  },
  {
   "cell_type": "code",
   "execution_count": 28,
   "metadata": {
    "executionInfo": {
     "elapsed": 73,
     "status": "ok",
     "timestamp": 1636657987657,
     "user": {
      "displayName": "Kateryna Drogaieva",
      "photoUrl": "https://lh3.googleusercontent.com/a-/AOh14GjB1LQYJH97Lqm6RsCcAADFgzEAa0YxMUT7P4mjlA=s64",
      "userId": "10877377912113147805"
     },
     "user_tz": 480
    },
    "id": "jlqRh7e8R-8N"
   },
   "outputs": [],
   "source": [
    "result['Shapiro test']=''\n",
    "result['Confidence Interval (+/-)']=''"
   ]
  },
  {
   "cell_type": "code",
   "execution_count": 29,
   "metadata": {
    "executionInfo": {
     "elapsed": 72,
     "status": "ok",
     "timestamp": 1636657987658,
     "user": {
      "displayName": "Kateryna Drogaieva",
      "photoUrl": "https://lh3.googleusercontent.com/a-/AOh14GjB1LQYJH97Lqm6RsCcAADFgzEAa0YxMUT7P4mjlA=s64",
      "userId": "10877377912113147805"
     },
     "user_tz": 480
    },
    "id": "NQbQAQy4RsBl"
   },
   "outputs": [],
   "source": [
    "for index, row in result.iterrows():\n",
    "  AnalyzedModelResults=row[folds].values.tolist()\n",
    "  shapiro_test = stats.shapiro(AnalyzedModelResults)\n",
    "  shapiro_test_pvalue = shapiro_test[1]\n",
    "  if shapiro_test_pvalue < alpha:\n",
    "    result.at[index,'Shapiro test'] = 'The null hypothesis that the score are normally distributed is rejected with alpha=%s'%alpha\n",
    "  else:\n",
    "    result.at[index,'Shapiro test'] = 'The score is normally distributed with alpha=%s'%alpha\n",
    "    result.at[index,'Confidence Interval (+/-)'] = row['sem'] * stats.t.ppf((1 + confidence) / 2., kfold-1)"
   ]
  },
  {
   "cell_type": "code",
   "execution_count": 30,
   "metadata": {
    "colab": {
     "base_uri": "https://localhost:8080/",
     "height": 707
    },
    "executionInfo": {
     "elapsed": 72,
     "status": "ok",
     "timestamp": 1636657987659,
     "user": {
      "displayName": "Kateryna Drogaieva",
      "photoUrl": "https://lh3.googleusercontent.com/a-/AOh14GjB1LQYJH97Lqm6RsCcAADFgzEAa0YxMUT7P4mjlA=s64",
      "userId": "10877377912113147805"
     },
     "user_tz": 480
    },
    "id": "-quhSI7VRXFV",
    "outputId": "8d84b4a9-986a-460e-bd6f-2dddf96afc81"
   },
   "outputs": [
    {
     "data": {
      "text/html": [
       "<div>\n",
       "<style scoped>\n",
       "    .dataframe tbody tr th:only-of-type {\n",
       "        vertical-align: middle;\n",
       "    }\n",
       "\n",
       "    .dataframe tbody tr th {\n",
       "        vertical-align: top;\n",
       "    }\n",
       "\n",
       "    .dataframe thead th {\n",
       "        text-align: right;\n",
       "    }\n",
       "</style>\n",
       "<table border=\"1\" class=\"dataframe\">\n",
       "  <thead>\n",
       "    <tr style=\"text-align: right;\">\n",
       "      <th></th>\n",
       "      <th>Model</th>\n",
       "      <th>Score</th>\n",
       "      <th>0</th>\n",
       "      <th>1</th>\n",
       "      <th>2</th>\n",
       "      <th>3</th>\n",
       "      <th>4</th>\n",
       "      <th>5</th>\n",
       "      <th>6</th>\n",
       "      <th>7</th>\n",
       "      <th>8</th>\n",
       "      <th>9</th>\n",
       "      <th>mean</th>\n",
       "      <th>sem</th>\n",
       "      <th>std</th>\n",
       "      <th>median</th>\n",
       "      <th>Shapiro test</th>\n",
       "      <th>Confidence Interval (+/-)</th>\n",
       "    </tr>\n",
       "  </thead>\n",
       "  <tbody>\n",
       "    <tr>\n",
       "      <th>0</th>\n",
       "      <td>blinoff/roberta-base-russian-v0</td>\n",
       "      <td>lizon-precision</td>\n",
       "      <td>0.911765</td>\n",
       "      <td>0.853659</td>\n",
       "      <td>0.971429</td>\n",
       "      <td>0.921053</td>\n",
       "      <td>0.914286</td>\n",
       "      <td>0.900000</td>\n",
       "      <td>0.888889</td>\n",
       "      <td>0.853659</td>\n",
       "      <td>0.886364</td>\n",
       "      <td>0.850000</td>\n",
       "      <td>0.895110</td>\n",
       "      <td>0.011904</td>\n",
       "      <td>0.037643</td>\n",
       "      <td>0.894444</td>\n",
       "      <td>The score is normally distributed with alpha=0.05</td>\n",
       "      <td>0.0269283</td>\n",
       "    </tr>\n",
       "    <tr>\n",
       "      <th>1</th>\n",
       "      <td>blinoff/roberta-base-russian-v0</td>\n",
       "      <td>lizon-recall</td>\n",
       "      <td>0.720930</td>\n",
       "      <td>0.813953</td>\n",
       "      <td>0.790698</td>\n",
       "      <td>0.795455</td>\n",
       "      <td>0.727273</td>\n",
       "      <td>0.837209</td>\n",
       "      <td>0.930233</td>\n",
       "      <td>0.813953</td>\n",
       "      <td>0.906977</td>\n",
       "      <td>0.790698</td>\n",
       "      <td>0.812738</td>\n",
       "      <td>0.021158</td>\n",
       "      <td>0.066909</td>\n",
       "      <td>0.804704</td>\n",
       "      <td>The score is normally distributed with alpha=0.05</td>\n",
       "      <td>0.0478636</td>\n",
       "    </tr>\n",
       "    <tr>\n",
       "      <th>2</th>\n",
       "      <td>blinoff/roberta-base-russian-v0</td>\n",
       "      <td>lizon-f1-score</td>\n",
       "      <td>0.805195</td>\n",
       "      <td>0.833333</td>\n",
       "      <td>0.871795</td>\n",
       "      <td>0.853659</td>\n",
       "      <td>0.810127</td>\n",
       "      <td>0.867470</td>\n",
       "      <td>0.909091</td>\n",
       "      <td>0.833333</td>\n",
       "      <td>0.896552</td>\n",
       "      <td>0.819277</td>\n",
       "      <td>0.849983</td>\n",
       "      <td>0.011328</td>\n",
       "      <td>0.035822</td>\n",
       "      <td>0.843496</td>\n",
       "      <td>The score is normally distributed with alpha=0.05</td>\n",
       "      <td>0.0256258</td>\n",
       "    </tr>\n",
       "    <tr>\n",
       "      <th>3</th>\n",
       "      <td>blinoff/roberta-base-russian-v0</td>\n",
       "      <td>test_lizon-precision</td>\n",
       "      <td>0.884146</td>\n",
       "      <td>0.884146</td>\n",
       "      <td>0.882353</td>\n",
       "      <td>0.888889</td>\n",
       "      <td>0.941176</td>\n",
       "      <td>0.935897</td>\n",
       "      <td>0.874251</td>\n",
       "      <td>0.915584</td>\n",
       "      <td>0.883041</td>\n",
       "      <td>0.906250</td>\n",
       "      <td>0.899574</td>\n",
       "      <td>0.007566</td>\n",
       "      <td>0.023927</td>\n",
       "      <td>0.886518</td>\n",
       "      <td>The null hypothesis that the score are normall...</td>\n",
       "      <td></td>\n",
       "    </tr>\n",
       "    <tr>\n",
       "      <th>4</th>\n",
       "      <td>blinoff/roberta-base-russian-v0</td>\n",
       "      <td>test_lizon-recall</td>\n",
       "      <td>0.801105</td>\n",
       "      <td>0.801105</td>\n",
       "      <td>0.828729</td>\n",
       "      <td>0.795580</td>\n",
       "      <td>0.795580</td>\n",
       "      <td>0.806630</td>\n",
       "      <td>0.806630</td>\n",
       "      <td>0.779006</td>\n",
       "      <td>0.834254</td>\n",
       "      <td>0.801105</td>\n",
       "      <td>0.804972</td>\n",
       "      <td>0.005080</td>\n",
       "      <td>0.016065</td>\n",
       "      <td>0.801105</td>\n",
       "      <td>The score is normally distributed with alpha=0.05</td>\n",
       "      <td>0.0114925</td>\n",
       "    </tr>\n",
       "    <tr>\n",
       "      <th>5</th>\n",
       "      <td>blinoff/roberta-base-russian-v0</td>\n",
       "      <td>test_lizon-f1-score</td>\n",
       "      <td>0.840580</td>\n",
       "      <td>0.840580</td>\n",
       "      <td>0.854701</td>\n",
       "      <td>0.839650</td>\n",
       "      <td>0.862275</td>\n",
       "      <td>0.866469</td>\n",
       "      <td>0.839080</td>\n",
       "      <td>0.841791</td>\n",
       "      <td>0.857955</td>\n",
       "      <td>0.850440</td>\n",
       "      <td>0.849352</td>\n",
       "      <td>0.003291</td>\n",
       "      <td>0.010406</td>\n",
       "      <td>0.846115</td>\n",
       "      <td>The score is normally distributed with alpha=0.05</td>\n",
       "      <td>0.00744378</td>\n",
       "    </tr>\n",
       "    <tr>\n",
       "      <th>6</th>\n",
       "      <td>blinoff/roberta-base-russian-v0</td>\n",
       "      <td>weighted_avg_F1</td>\n",
       "      <td>0.976627</td>\n",
       "      <td>0.979091</td>\n",
       "      <td>0.984518</td>\n",
       "      <td>0.981668</td>\n",
       "      <td>0.976660</td>\n",
       "      <td>0.983453</td>\n",
       "      <td>0.988291</td>\n",
       "      <td>0.979060</td>\n",
       "      <td>0.986758</td>\n",
       "      <td>0.977436</td>\n",
       "      <td>0.981356</td>\n",
       "      <td>0.001341</td>\n",
       "      <td>0.004242</td>\n",
       "      <td>0.980379</td>\n",
       "      <td>The score is normally distributed with alpha=0.05</td>\n",
       "      <td>0.00303459</td>\n",
       "    </tr>\n",
       "    <tr>\n",
       "      <th>7</th>\n",
       "      <td>blinoff/roberta-base-russian-v0</td>\n",
       "      <td>kappa</td>\n",
       "      <td>0.793619</td>\n",
       "      <td>0.822316</td>\n",
       "      <td>0.864045</td>\n",
       "      <td>0.844278</td>\n",
       "      <td>0.798524</td>\n",
       "      <td>0.858814</td>\n",
       "      <td>0.902765</td>\n",
       "      <td>0.822299</td>\n",
       "      <td>0.889438</td>\n",
       "      <td>0.807473</td>\n",
       "      <td>0.840357</td>\n",
       "      <td>0.011967</td>\n",
       "      <td>0.037842</td>\n",
       "      <td>0.833297</td>\n",
       "      <td>The score is normally distributed with alpha=0.05</td>\n",
       "      <td>0.0270707</td>\n",
       "    </tr>\n",
       "    <tr>\n",
       "      <th>8</th>\n",
       "      <td>blinoff/roberta-base-russian-v0</td>\n",
       "      <td>test_weighted_avg_F1</td>\n",
       "      <td>0.980597</td>\n",
       "      <td>0.980597</td>\n",
       "      <td>0.982156</td>\n",
       "      <td>0.980542</td>\n",
       "      <td>0.983514</td>\n",
       "      <td>0.983943</td>\n",
       "      <td>0.980326</td>\n",
       "      <td>0.981033</td>\n",
       "      <td>0.982530</td>\n",
       "      <td>0.981906</td>\n",
       "      <td>0.981714</td>\n",
       "      <td>0.000413</td>\n",
       "      <td>0.001307</td>\n",
       "      <td>0.981469</td>\n",
       "      <td>The score is normally distributed with alpha=0.05</td>\n",
       "      <td>0.000934639</td>\n",
       "    </tr>\n",
       "    <tr>\n",
       "      <th>9</th>\n",
       "      <td>blinoff/roberta-base-russian-v0</td>\n",
       "      <td>test_kappa</td>\n",
       "      <td>0.830523</td>\n",
       "      <td>0.830523</td>\n",
       "      <td>0.845351</td>\n",
       "      <td>0.829604</td>\n",
       "      <td>0.853923</td>\n",
       "      <td>0.858280</td>\n",
       "      <td>0.828827</td>\n",
       "      <td>0.832160</td>\n",
       "      <td>0.848785</td>\n",
       "      <td>0.841135</td>\n",
       "      <td>0.839911</td>\n",
       "      <td>0.003510</td>\n",
       "      <td>0.011101</td>\n",
       "      <td>0.836647</td>\n",
       "      <td>The score is normally distributed with alpha=0.05</td>\n",
       "      <td>0.00794086</td>\n",
       "    </tr>\n",
       "  </tbody>\n",
       "</table>\n",
       "</div>"
      ],
      "text/plain": [
       "                             Model  ... Confidence Interval (+/-)\n",
       "0  blinoff/roberta-base-russian-v0  ...                 0.0269283\n",
       "1  blinoff/roberta-base-russian-v0  ...                 0.0478636\n",
       "2  blinoff/roberta-base-russian-v0  ...                 0.0256258\n",
       "3  blinoff/roberta-base-russian-v0  ...                          \n",
       "4  blinoff/roberta-base-russian-v0  ...                 0.0114925\n",
       "5  blinoff/roberta-base-russian-v0  ...                0.00744378\n",
       "6  blinoff/roberta-base-russian-v0  ...                0.00303459\n",
       "7  blinoff/roberta-base-russian-v0  ...                 0.0270707\n",
       "8  blinoff/roberta-base-russian-v0  ...               0.000934639\n",
       "9  blinoff/roberta-base-russian-v0  ...                0.00794086\n",
       "\n",
       "[10 rows x 18 columns]"
      ]
     },
     "execution_count": 30,
     "metadata": {},
     "output_type": "execute_result"
    }
   ],
   "source": [
    "result"
   ]
  },
  {
   "cell_type": "code",
   "execution_count": 31,
   "metadata": {
    "executionInfo": {
     "elapsed": 4470,
     "status": "ok",
     "timestamp": 1636657992059,
     "user": {
      "displayName": "Kateryna Drogaieva",
      "photoUrl": "https://lh3.googleusercontent.com/a-/AOh14GjB1LQYJH97Lqm6RsCcAADFgzEAa0YxMUT7P4mjlA=s64",
      "userId": "10877377912113147805"
     },
     "user_tz": 480
    },
    "id": "Iq9dJtgNTK4o"
   },
   "outputs": [],
   "source": [
    "SaveToExperimentLog(Experiments_file, Experiment_name+' Result', result)"
   ]
  }
 ],
 "metadata": {
  "accelerator": "GPU",
  "colab": {
   "authorship_tag": "ABX9TyOexkPNJKQPemGyBfktMM8c",
   "collapsed_sections": [],
   "machine_shape": "hm",
   "name": "lizon_transformers_final.ipynb",
   "provenance": []
  },
  "kernelspec": {
   "display_name": "Python 3",
   "language": "python",
   "name": "python3"
  },
  "language_info": {
   "codemirror_mode": {
    "name": "ipython",
    "version": 3
   },
   "file_extension": ".py",
   "mimetype": "text/x-python",
   "name": "python",
   "nbconvert_exporter": "python",
   "pygments_lexer": "ipython3",
   "version": "3.8.5"
  },
  "widgets": {
   "application/vnd.jupyter.widget-state+json": {
    "0136d5f710d3411c89a9b043b55c356a": {
     "model_module": "@jupyter-widgets/controls",
     "model_module_version": "1.5.0",
     "model_name": "ProgressStyleModel",
     "state": {
      "_model_module": "@jupyter-widgets/controls",
      "_model_module_version": "1.5.0",
      "_model_name": "ProgressStyleModel",
      "_view_count": null,
      "_view_module": "@jupyter-widgets/base",
      "_view_module_version": "1.2.0",
      "_view_name": "StyleView",
      "bar_color": null,
      "description_width": ""
     }
    },
    "01381fbca9bc4420b44df70a14e2f025": {
     "model_module": "@jupyter-widgets/controls",
     "model_module_version": "1.5.0",
     "model_name": "HTMLModel",
     "state": {
      "_dom_classes": [],
      "_model_module": "@jupyter-widgets/controls",
      "_model_module_version": "1.5.0",
      "_model_name": "HTMLModel",
      "_view_count": null,
      "_view_module": "@jupyter-widgets/controls",
      "_view_module_version": "1.5.0",
      "_view_name": "HTMLView",
      "description": "",
      "description_tooltip": null,
      "layout": "IPY_MODEL_dafa7f6663a54318bcf6c2731256bd03",
      "placeholder": "​",
      "style": "IPY_MODEL_126e05649e8d412595da89134601829c",
      "value": "Downloading: 100%"
     }
    },
    "04860caa35a947d6a1ecfeca47119893": {
     "model_module": "@jupyter-widgets/controls",
     "model_module_version": "1.5.0",
     "model_name": "HTMLModel",
     "state": {
      "_dom_classes": [],
      "_model_module": "@jupyter-widgets/controls",
      "_model_module_version": "1.5.0",
      "_model_name": "HTMLModel",
      "_view_count": null,
      "_view_module": "@jupyter-widgets/controls",
      "_view_module_version": "1.5.0",
      "_view_name": "HTMLView",
      "description": "",
      "description_tooltip": null,
      "layout": "IPY_MODEL_8d12486e8f7246339a595775fd46ccf4",
      "placeholder": "​",
      "style": "IPY_MODEL_856ec4c2bd514e46b9adfdb607f718d3",
      "value": " 1.34M/1.34M [00:00&lt;00:00, 2.08MB/s]"
     }
    },
    "04fc0ae595254738bd00986c5c7b6ec7": {
     "model_module": "@jupyter-widgets/controls",
     "model_module_version": "1.5.0",
     "model_name": "DescriptionStyleModel",
     "state": {
      "_model_module": "@jupyter-widgets/controls",
      "_model_module_version": "1.5.0",
      "_model_name": "DescriptionStyleModel",
      "_view_count": null,
      "_view_module": "@jupyter-widgets/base",
      "_view_module_version": "1.2.0",
      "_view_name": "StyleView",
      "description_width": ""
     }
    },
    "0fd3b01ebea74ab390b1b595186cc98c": {
     "model_module": "@jupyter-widgets/controls",
     "model_module_version": "1.5.0",
     "model_name": "DescriptionStyleModel",
     "state": {
      "_model_module": "@jupyter-widgets/controls",
      "_model_module_version": "1.5.0",
      "_model_name": "DescriptionStyleModel",
      "_view_count": null,
      "_view_module": "@jupyter-widgets/base",
      "_view_module_version": "1.2.0",
      "_view_name": "StyleView",
      "description_width": ""
     }
    },
    "126e05649e8d412595da89134601829c": {
     "model_module": "@jupyter-widgets/controls",
     "model_module_version": "1.5.0",
     "model_name": "DescriptionStyleModel",
     "state": {
      "_model_module": "@jupyter-widgets/controls",
      "_model_module_version": "1.5.0",
      "_model_name": "DescriptionStyleModel",
      "_view_count": null,
      "_view_module": "@jupyter-widgets/base",
      "_view_module_version": "1.2.0",
      "_view_name": "StyleView",
      "description_width": ""
     }
    },
    "129db28984f04239825698ae36f6dd6c": {
     "model_module": "@jupyter-widgets/base",
     "model_module_version": "1.2.0",
     "model_name": "LayoutModel",
     "state": {
      "_model_module": "@jupyter-widgets/base",
      "_model_module_version": "1.2.0",
      "_model_name": "LayoutModel",
      "_view_count": null,
      "_view_module": "@jupyter-widgets/base",
      "_view_module_version": "1.2.0",
      "_view_name": "LayoutView",
      "align_content": null,
      "align_items": null,
      "align_self": null,
      "border": null,
      "bottom": null,
      "display": null,
      "flex": null,
      "flex_flow": null,
      "grid_area": null,
      "grid_auto_columns": null,
      "grid_auto_flow": null,
      "grid_auto_rows": null,
      "grid_column": null,
      "grid_gap": null,
      "grid_row": null,
      "grid_template_areas": null,
      "grid_template_columns": null,
      "grid_template_rows": null,
      "height": null,
      "justify_content": null,
      "justify_items": null,
      "left": null,
      "margin": null,
      "max_height": null,
      "max_width": null,
      "min_height": null,
      "min_width": null,
      "object_fit": null,
      "object_position": null,
      "order": null,
      "overflow": null,
      "overflow_x": null,
      "overflow_y": null,
      "padding": null,
      "right": null,
      "top": null,
      "visibility": null,
      "width": null
     }
    },
    "145f7d695f0e4188b565b03d0597eeff": {
     "model_module": "@jupyter-widgets/controls",
     "model_module_version": "1.5.0",
     "model_name": "ProgressStyleModel",
     "state": {
      "_model_module": "@jupyter-widgets/controls",
      "_model_module_version": "1.5.0",
      "_model_name": "ProgressStyleModel",
      "_view_count": null,
      "_view_module": "@jupyter-widgets/base",
      "_view_module_version": "1.2.0",
      "_view_name": "StyleView",
      "bar_color": null,
      "description_width": ""
     }
    },
    "17927cf6890a45c9b2998c56edb09d16": {
     "model_module": "@jupyter-widgets/controls",
     "model_module_version": "1.5.0",
     "model_name": "FloatProgressModel",
     "state": {
      "_dom_classes": [],
      "_model_module": "@jupyter-widgets/controls",
      "_model_module_version": "1.5.0",
      "_model_name": "FloatProgressModel",
      "_view_count": null,
      "_view_module": "@jupyter-widgets/controls",
      "_view_module_version": "1.5.0",
      "_view_name": "ProgressView",
      "bar_style": "success",
      "description": "",
      "description_tooltip": null,
      "layout": "IPY_MODEL_7e4273364f844ca89c4929dd8da8b77e",
      "max": 1684709,
      "min": 0,
      "orientation": "horizontal",
      "style": "IPY_MODEL_145f7d695f0e4188b565b03d0597eeff",
      "value": 1684709
     }
    },
    "24089b7538234717ae9d5e23b9574699": {
     "model_module": "@jupyter-widgets/controls",
     "model_module_version": "1.5.0",
     "model_name": "DescriptionStyleModel",
     "state": {
      "_model_module": "@jupyter-widgets/controls",
      "_model_module_version": "1.5.0",
      "_model_name": "DescriptionStyleModel",
      "_view_count": null,
      "_view_module": "@jupyter-widgets/base",
      "_view_module_version": "1.2.0",
      "_view_name": "StyleView",
      "description_width": ""
     }
    },
    "24d400a26e7c4811b933ae0cc8d855dd": {
     "model_module": "@jupyter-widgets/controls",
     "model_module_version": "1.5.0",
     "model_name": "ProgressStyleModel",
     "state": {
      "_model_module": "@jupyter-widgets/controls",
      "_model_module_version": "1.5.0",
      "_model_name": "ProgressStyleModel",
      "_view_count": null,
      "_view_module": "@jupyter-widgets/base",
      "_view_module_version": "1.2.0",
      "_view_name": "StyleView",
      "bar_color": null,
      "description_width": ""
     }
    },
    "2768bceca3494410a4f02733fc70b0ba": {
     "model_module": "@jupyter-widgets/controls",
     "model_module_version": "1.5.0",
     "model_name": "HTMLModel",
     "state": {
      "_dom_classes": [],
      "_model_module": "@jupyter-widgets/controls",
      "_model_module_version": "1.5.0",
      "_model_name": "HTMLModel",
      "_view_count": null,
      "_view_module": "@jupyter-widgets/controls",
      "_view_module_version": "1.5.0",
      "_view_name": "HTMLView",
      "description": "",
      "description_tooltip": null,
      "layout": "IPY_MODEL_81b061c04de24e28b8a92bb1eebd74bb",
      "placeholder": "​",
      "style": "IPY_MODEL_40b18b963ff948afbb91625d977f0682",
      "value": " 500M/500M [00:08&lt;00:00, 62.5MB/s]"
     }
    },
    "29dfd7496e354597b0fa30d636ab7b65": {
     "model_module": "@jupyter-widgets/base",
     "model_module_version": "1.2.0",
     "model_name": "LayoutModel",
     "state": {
      "_model_module": "@jupyter-widgets/base",
      "_model_module_version": "1.2.0",
      "_model_name": "LayoutModel",
      "_view_count": null,
      "_view_module": "@jupyter-widgets/base",
      "_view_module_version": "1.2.0",
      "_view_name": "LayoutView",
      "align_content": null,
      "align_items": null,
      "align_self": null,
      "border": null,
      "bottom": null,
      "display": null,
      "flex": null,
      "flex_flow": null,
      "grid_area": null,
      "grid_auto_columns": null,
      "grid_auto_flow": null,
      "grid_auto_rows": null,
      "grid_column": null,
      "grid_gap": null,
      "grid_row": null,
      "grid_template_areas": null,
      "grid_template_columns": null,
      "grid_template_rows": null,
      "height": null,
      "justify_content": null,
      "justify_items": null,
      "left": null,
      "margin": null,
      "max_height": null,
      "max_width": null,
      "min_height": null,
      "min_width": null,
      "object_fit": null,
      "object_position": null,
      "order": null,
      "overflow": null,
      "overflow_x": null,
      "overflow_y": null,
      "padding": null,
      "right": null,
      "top": null,
      "visibility": null,
      "width": null
     }
    },
    "2de1a41b59664ffdbf79a8d53ea56c9b": {
     "model_module": "@jupyter-widgets/base",
     "model_module_version": "1.2.0",
     "model_name": "LayoutModel",
     "state": {
      "_model_module": "@jupyter-widgets/base",
      "_model_module_version": "1.2.0",
      "_model_name": "LayoutModel",
      "_view_count": null,
      "_view_module": "@jupyter-widgets/base",
      "_view_module_version": "1.2.0",
      "_view_name": "LayoutView",
      "align_content": null,
      "align_items": null,
      "align_self": null,
      "border": null,
      "bottom": null,
      "display": null,
      "flex": null,
      "flex_flow": null,
      "grid_area": null,
      "grid_auto_columns": null,
      "grid_auto_flow": null,
      "grid_auto_rows": null,
      "grid_column": null,
      "grid_gap": null,
      "grid_row": null,
      "grid_template_areas": null,
      "grid_template_columns": null,
      "grid_template_rows": null,
      "height": null,
      "justify_content": null,
      "justify_items": null,
      "left": null,
      "margin": null,
      "max_height": null,
      "max_width": null,
      "min_height": null,
      "min_width": null,
      "object_fit": null,
      "object_position": null,
      "order": null,
      "overflow": null,
      "overflow_x": null,
      "overflow_y": null,
      "padding": null,
      "right": null,
      "top": null,
      "visibility": null,
      "width": null
     }
    },
    "2ffaf2f65b9a438b90a57a5c2762de8d": {
     "model_module": "@jupyter-widgets/controls",
     "model_module_version": "1.5.0",
     "model_name": "HTMLModel",
     "state": {
      "_dom_classes": [],
      "_model_module": "@jupyter-widgets/controls",
      "_model_module_version": "1.5.0",
      "_model_name": "HTMLModel",
      "_view_count": null,
      "_view_module": "@jupyter-widgets/controls",
      "_view_module_version": "1.5.0",
      "_view_name": "HTMLView",
      "description": "",
      "description_tooltip": null,
      "layout": "IPY_MODEL_32756daa43134f958834eed63d178411",
      "placeholder": "​",
      "style": "IPY_MODEL_0fd3b01ebea74ab390b1b595186cc98c",
      "value": " 150/150 [00:00&lt;00:00, 5.70kB/s]"
     }
    },
    "30e29a26752247f5b2e809f47173a9d4": {
     "model_module": "@jupyter-widgets/controls",
     "model_module_version": "1.5.0",
     "model_name": "HBoxModel",
     "state": {
      "_dom_classes": [],
      "_model_module": "@jupyter-widgets/controls",
      "_model_module_version": "1.5.0",
      "_model_name": "HBoxModel",
      "_view_count": null,
      "_view_module": "@jupyter-widgets/controls",
      "_view_module_version": "1.5.0",
      "_view_name": "HBoxView",
      "box_style": "",
      "children": [
       "IPY_MODEL_ab59f07e07f545b5ba8d7a6bd5992307",
       "IPY_MODEL_e7844fbf1de243369d2d7824c5f22018",
       "IPY_MODEL_420fc76eaf3f45cd9b7b703c02af5dc9"
      ],
      "layout": "IPY_MODEL_9f87deb801e1459e9cf8781653ddfc64"
     }
    },
    "32756daa43134f958834eed63d178411": {
     "model_module": "@jupyter-widgets/base",
     "model_module_version": "1.2.0",
     "model_name": "LayoutModel",
     "state": {
      "_model_module": "@jupyter-widgets/base",
      "_model_module_version": "1.2.0",
      "_model_name": "LayoutModel",
      "_view_count": null,
      "_view_module": "@jupyter-widgets/base",
      "_view_module_version": "1.2.0",
      "_view_name": "LayoutView",
      "align_content": null,
      "align_items": null,
      "align_self": null,
      "border": null,
      "bottom": null,
      "display": null,
      "flex": null,
      "flex_flow": null,
      "grid_area": null,
      "grid_auto_columns": null,
      "grid_auto_flow": null,
      "grid_auto_rows": null,
      "grid_column": null,
      "grid_gap": null,
      "grid_row": null,
      "grid_template_areas": null,
      "grid_template_columns": null,
      "grid_template_rows": null,
      "height": null,
      "justify_content": null,
      "justify_items": null,
      "left": null,
      "margin": null,
      "max_height": null,
      "max_width": null,
      "min_height": null,
      "min_width": null,
      "object_fit": null,
      "object_position": null,
      "order": null,
      "overflow": null,
      "overflow_x": null,
      "overflow_y": null,
      "padding": null,
      "right": null,
      "top": null,
      "visibility": null,
      "width": null
     }
    },
    "3400435aba954d9fb800621c84456f7b": {
     "model_module": "@jupyter-widgets/controls",
     "model_module_version": "1.5.0",
     "model_name": "HTMLModel",
     "state": {
      "_dom_classes": [],
      "_model_module": "@jupyter-widgets/controls",
      "_model_module_version": "1.5.0",
      "_model_name": "HTMLModel",
      "_view_count": null,
      "_view_module": "@jupyter-widgets/controls",
      "_view_module_version": "1.5.0",
      "_view_name": "HTMLView",
      "description": "",
      "description_tooltip": null,
      "layout": "IPY_MODEL_4125d367b04845a18d50e1cd85995aab",
      "placeholder": "​",
      "style": "IPY_MODEL_a576ad2d35024631a3b4dc5df830bc8c",
      "value": "Downloading: 100%"
     }
    },
    "371c9fd5159c4469ba0a3f3e66ba5097": {
     "model_module": "@jupyter-widgets/base",
     "model_module_version": "1.2.0",
     "model_name": "LayoutModel",
     "state": {
      "_model_module": "@jupyter-widgets/base",
      "_model_module_version": "1.2.0",
      "_model_name": "LayoutModel",
      "_view_count": null,
      "_view_module": "@jupyter-widgets/base",
      "_view_module_version": "1.2.0",
      "_view_name": "LayoutView",
      "align_content": null,
      "align_items": null,
      "align_self": null,
      "border": null,
      "bottom": null,
      "display": null,
      "flex": null,
      "flex_flow": null,
      "grid_area": null,
      "grid_auto_columns": null,
      "grid_auto_flow": null,
      "grid_auto_rows": null,
      "grid_column": null,
      "grid_gap": null,
      "grid_row": null,
      "grid_template_areas": null,
      "grid_template_columns": null,
      "grid_template_rows": null,
      "height": null,
      "justify_content": null,
      "justify_items": null,
      "left": null,
      "margin": null,
      "max_height": null,
      "max_width": null,
      "min_height": null,
      "min_width": null,
      "object_fit": null,
      "object_position": null,
      "order": null,
      "overflow": null,
      "overflow_x": null,
      "overflow_y": null,
      "padding": null,
      "right": null,
      "top": null,
      "visibility": null,
      "width": null
     }
    },
    "38887f04e2fe4e62b300a7dcdc6d8abd": {
     "model_module": "@jupyter-widgets/controls",
     "model_module_version": "1.5.0",
     "model_name": "FloatProgressModel",
     "state": {
      "_dom_classes": [],
      "_model_module": "@jupyter-widgets/controls",
      "_model_module_version": "1.5.0",
      "_model_name": "FloatProgressModel",
      "_view_count": null,
      "_view_module": "@jupyter-widgets/controls",
      "_view_module_version": "1.5.0",
      "_view_name": "ProgressView",
      "bar_style": "success",
      "description": "",
      "description_tooltip": null,
      "layout": "IPY_MODEL_b96773a2ddee4b5cb59bdb51be48a52a",
      "max": 481,
      "min": 0,
      "orientation": "horizontal",
      "style": "IPY_MODEL_24d400a26e7c4811b933ae0cc8d855dd",
      "value": 481
     }
    },
    "40b18b963ff948afbb91625d977f0682": {
     "model_module": "@jupyter-widgets/controls",
     "model_module_version": "1.5.0",
     "model_name": "DescriptionStyleModel",
     "state": {
      "_model_module": "@jupyter-widgets/controls",
      "_model_module_version": "1.5.0",
      "_model_name": "DescriptionStyleModel",
      "_view_count": null,
      "_view_module": "@jupyter-widgets/base",
      "_view_module_version": "1.2.0",
      "_view_name": "StyleView",
      "description_width": ""
     }
    },
    "4125d367b04845a18d50e1cd85995aab": {
     "model_module": "@jupyter-widgets/base",
     "model_module_version": "1.2.0",
     "model_name": "LayoutModel",
     "state": {
      "_model_module": "@jupyter-widgets/base",
      "_model_module_version": "1.2.0",
      "_model_name": "LayoutModel",
      "_view_count": null,
      "_view_module": "@jupyter-widgets/base",
      "_view_module_version": "1.2.0",
      "_view_name": "LayoutView",
      "align_content": null,
      "align_items": null,
      "align_self": null,
      "border": null,
      "bottom": null,
      "display": null,
      "flex": null,
      "flex_flow": null,
      "grid_area": null,
      "grid_auto_columns": null,
      "grid_auto_flow": null,
      "grid_auto_rows": null,
      "grid_column": null,
      "grid_gap": null,
      "grid_row": null,
      "grid_template_areas": null,
      "grid_template_columns": null,
      "grid_template_rows": null,
      "height": null,
      "justify_content": null,
      "justify_items": null,
      "left": null,
      "margin": null,
      "max_height": null,
      "max_width": null,
      "min_height": null,
      "min_width": null,
      "object_fit": null,
      "object_position": null,
      "order": null,
      "overflow": null,
      "overflow_x": null,
      "overflow_y": null,
      "padding": null,
      "right": null,
      "top": null,
      "visibility": null,
      "width": null
     }
    },
    "420fc76eaf3f45cd9b7b703c02af5dc9": {
     "model_module": "@jupyter-widgets/controls",
     "model_module_version": "1.5.0",
     "model_name": "HTMLModel",
     "state": {
      "_dom_classes": [],
      "_model_module": "@jupyter-widgets/controls",
      "_model_module_version": "1.5.0",
      "_model_name": "HTMLModel",
      "_view_count": null,
      "_view_module": "@jupyter-widgets/controls",
      "_view_module_version": "1.5.0",
      "_view_name": "HTMLView",
      "description": "",
      "description_tooltip": null,
      "layout": "IPY_MODEL_7205c09abc7c44fd9644a2790fa26d74",
      "placeholder": "​",
      "style": "IPY_MODEL_739a18e8edf54014bb38d784cec7c6a7",
      "value": " 16.0/16.0 [00:00&lt;00:00, 631B/s]"
     }
    },
    "43a4ca0206d74f97a4ee5b1d8ab8870d": {
     "model_module": "@jupyter-widgets/base",
     "model_module_version": "1.2.0",
     "model_name": "LayoutModel",
     "state": {
      "_model_module": "@jupyter-widgets/base",
      "_model_module_version": "1.2.0",
      "_model_name": "LayoutModel",
      "_view_count": null,
      "_view_module": "@jupyter-widgets/base",
      "_view_module_version": "1.2.0",
      "_view_name": "LayoutView",
      "align_content": null,
      "align_items": null,
      "align_self": null,
      "border": null,
      "bottom": null,
      "display": null,
      "flex": null,
      "flex_flow": null,
      "grid_area": null,
      "grid_auto_columns": null,
      "grid_auto_flow": null,
      "grid_auto_rows": null,
      "grid_column": null,
      "grid_gap": null,
      "grid_row": null,
      "grid_template_areas": null,
      "grid_template_columns": null,
      "grid_template_rows": null,
      "height": null,
      "justify_content": null,
      "justify_items": null,
      "left": null,
      "margin": null,
      "max_height": null,
      "max_width": null,
      "min_height": null,
      "min_width": null,
      "object_fit": null,
      "object_position": null,
      "order": null,
      "overflow": null,
      "overflow_x": null,
      "overflow_y": null,
      "padding": null,
      "right": null,
      "top": null,
      "visibility": null,
      "width": null
     }
    },
    "44d8c4c83ae74b918ee26d1ee92a71ca": {
     "model_module": "@jupyter-widgets/controls",
     "model_module_version": "1.5.0",
     "model_name": "DescriptionStyleModel",
     "state": {
      "_model_module": "@jupyter-widgets/controls",
      "_model_module_version": "1.5.0",
      "_model_name": "DescriptionStyleModel",
      "_view_count": null,
      "_view_module": "@jupyter-widgets/base",
      "_view_module_version": "1.2.0",
      "_view_name": "StyleView",
      "description_width": ""
     }
    },
    "48a288a75bd640f391d3dc55eed966f3": {
     "model_module": "@jupyter-widgets/base",
     "model_module_version": "1.2.0",
     "model_name": "LayoutModel",
     "state": {
      "_model_module": "@jupyter-widgets/base",
      "_model_module_version": "1.2.0",
      "_model_name": "LayoutModel",
      "_view_count": null,
      "_view_module": "@jupyter-widgets/base",
      "_view_module_version": "1.2.0",
      "_view_name": "LayoutView",
      "align_content": null,
      "align_items": null,
      "align_self": null,
      "border": null,
      "bottom": null,
      "display": null,
      "flex": null,
      "flex_flow": null,
      "grid_area": null,
      "grid_auto_columns": null,
      "grid_auto_flow": null,
      "grid_auto_rows": null,
      "grid_column": null,
      "grid_gap": null,
      "grid_row": null,
      "grid_template_areas": null,
      "grid_template_columns": null,
      "grid_template_rows": null,
      "height": null,
      "justify_content": null,
      "justify_items": null,
      "left": null,
      "margin": null,
      "max_height": null,
      "max_width": null,
      "min_height": null,
      "min_width": null,
      "object_fit": null,
      "object_position": null,
      "order": null,
      "overflow": null,
      "overflow_x": null,
      "overflow_y": null,
      "padding": null,
      "right": null,
      "top": null,
      "visibility": null,
      "width": null
     }
    },
    "4dfaef50eabe41b4997b545d3260b6a6": {
     "model_module": "@jupyter-widgets/controls",
     "model_module_version": "1.5.0",
     "model_name": "HBoxModel",
     "state": {
      "_dom_classes": [],
      "_model_module": "@jupyter-widgets/controls",
      "_model_module_version": "1.5.0",
      "_model_name": "HBoxModel",
      "_view_count": null,
      "_view_module": "@jupyter-widgets/controls",
      "_view_module_version": "1.5.0",
      "_view_name": "HBoxView",
      "box_style": "",
      "children": [
       "IPY_MODEL_9082f24ead4843dcb4ab3f701b631951",
       "IPY_MODEL_38887f04e2fe4e62b300a7dcdc6d8abd",
       "IPY_MODEL_518c7d4ad2a2498fa38d5365b9652d1b"
      ],
      "layout": "IPY_MODEL_6c7bf6236a494776b78709e4202613b4"
     }
    },
    "518c7d4ad2a2498fa38d5365b9652d1b": {
     "model_module": "@jupyter-widgets/controls",
     "model_module_version": "1.5.0",
     "model_name": "HTMLModel",
     "state": {
      "_dom_classes": [],
      "_model_module": "@jupyter-widgets/controls",
      "_model_module_version": "1.5.0",
      "_model_name": "HTMLModel",
      "_view_count": null,
      "_view_module": "@jupyter-widgets/controls",
      "_view_module_version": "1.5.0",
      "_view_name": "HTMLView",
      "description": "",
      "description_tooltip": null,
      "layout": "IPY_MODEL_60aa6d04e04348ab80cae60feda9421c",
      "placeholder": "​",
      "style": "IPY_MODEL_04fc0ae595254738bd00986c5c7b6ec7",
      "value": " 481/481 [00:00&lt;00:00, 19.3kB/s]"
     }
    },
    "5750403cc7964f22999ed12670ab234f": {
     "model_module": "@jupyter-widgets/controls",
     "model_module_version": "1.5.0",
     "model_name": "DescriptionStyleModel",
     "state": {
      "_model_module": "@jupyter-widgets/controls",
      "_model_module_version": "1.5.0",
      "_model_name": "DescriptionStyleModel",
      "_view_count": null,
      "_view_module": "@jupyter-widgets/base",
      "_view_module_version": "1.2.0",
      "_view_name": "StyleView",
      "description_width": ""
     }
    },
    "5abd3a76492e4c92a45e5f7b40e7eee2": {
     "model_module": "@jupyter-widgets/controls",
     "model_module_version": "1.5.0",
     "model_name": "ProgressStyleModel",
     "state": {
      "_model_module": "@jupyter-widgets/controls",
      "_model_module_version": "1.5.0",
      "_model_name": "ProgressStyleModel",
      "_view_count": null,
      "_view_module": "@jupyter-widgets/base",
      "_view_module_version": "1.2.0",
      "_view_name": "StyleView",
      "bar_color": null,
      "description_width": ""
     }
    },
    "60aa6d04e04348ab80cae60feda9421c": {
     "model_module": "@jupyter-widgets/base",
     "model_module_version": "1.2.0",
     "model_name": "LayoutModel",
     "state": {
      "_model_module": "@jupyter-widgets/base",
      "_model_module_version": "1.2.0",
      "_model_name": "LayoutModel",
      "_view_count": null,
      "_view_module": "@jupyter-widgets/base",
      "_view_module_version": "1.2.0",
      "_view_name": "LayoutView",
      "align_content": null,
      "align_items": null,
      "align_self": null,
      "border": null,
      "bottom": null,
      "display": null,
      "flex": null,
      "flex_flow": null,
      "grid_area": null,
      "grid_auto_columns": null,
      "grid_auto_flow": null,
      "grid_auto_rows": null,
      "grid_column": null,
      "grid_gap": null,
      "grid_row": null,
      "grid_template_areas": null,
      "grid_template_columns": null,
      "grid_template_rows": null,
      "height": null,
      "justify_content": null,
      "justify_items": null,
      "left": null,
      "margin": null,
      "max_height": null,
      "max_width": null,
      "min_height": null,
      "min_width": null,
      "object_fit": null,
      "object_position": null,
      "order": null,
      "overflow": null,
      "overflow_x": null,
      "overflow_y": null,
      "padding": null,
      "right": null,
      "top": null,
      "visibility": null,
      "width": null
     }
    },
    "674c85e3806e4a0d966b123fd1941908": {
     "model_module": "@jupyter-widgets/controls",
     "model_module_version": "1.5.0",
     "model_name": "HTMLModel",
     "state": {
      "_dom_classes": [],
      "_model_module": "@jupyter-widgets/controls",
      "_model_module_version": "1.5.0",
      "_model_name": "HTMLModel",
      "_view_count": null,
      "_view_module": "@jupyter-widgets/controls",
      "_view_module_version": "1.5.0",
      "_view_name": "HTMLView",
      "description": "",
      "description_tooltip": null,
      "layout": "IPY_MODEL_43a4ca0206d74f97a4ee5b1d8ab8870d",
      "placeholder": "​",
      "style": "IPY_MODEL_7ab51b05652d47e392b3d20e6588e3df",
      "value": "Downloading: 100%"
     }
    },
    "680f0c0125b34c59968d44ecfd86a213": {
     "model_module": "@jupyter-widgets/base",
     "model_module_version": "1.2.0",
     "model_name": "LayoutModel",
     "state": {
      "_model_module": "@jupyter-widgets/base",
      "_model_module_version": "1.2.0",
      "_model_name": "LayoutModel",
      "_view_count": null,
      "_view_module": "@jupyter-widgets/base",
      "_view_module_version": "1.2.0",
      "_view_name": "LayoutView",
      "align_content": null,
      "align_items": null,
      "align_self": null,
      "border": null,
      "bottom": null,
      "display": null,
      "flex": null,
      "flex_flow": null,
      "grid_area": null,
      "grid_auto_columns": null,
      "grid_auto_flow": null,
      "grid_auto_rows": null,
      "grid_column": null,
      "grid_gap": null,
      "grid_row": null,
      "grid_template_areas": null,
      "grid_template_columns": null,
      "grid_template_rows": null,
      "height": null,
      "justify_content": null,
      "justify_items": null,
      "left": null,
      "margin": null,
      "max_height": null,
      "max_width": null,
      "min_height": null,
      "min_width": null,
      "object_fit": null,
      "object_position": null,
      "order": null,
      "overflow": null,
      "overflow_x": null,
      "overflow_y": null,
      "padding": null,
      "right": null,
      "top": null,
      "visibility": null,
      "width": null
     }
    },
    "69c428e2cba44168a3f8ba0ac1b0aded": {
     "model_module": "@jupyter-widgets/base",
     "model_module_version": "1.2.0",
     "model_name": "LayoutModel",
     "state": {
      "_model_module": "@jupyter-widgets/base",
      "_model_module_version": "1.2.0",
      "_model_name": "LayoutModel",
      "_view_count": null,
      "_view_module": "@jupyter-widgets/base",
      "_view_module_version": "1.2.0",
      "_view_name": "LayoutView",
      "align_content": null,
      "align_items": null,
      "align_self": null,
      "border": null,
      "bottom": null,
      "display": null,
      "flex": null,
      "flex_flow": null,
      "grid_area": null,
      "grid_auto_columns": null,
      "grid_auto_flow": null,
      "grid_auto_rows": null,
      "grid_column": null,
      "grid_gap": null,
      "grid_row": null,
      "grid_template_areas": null,
      "grid_template_columns": null,
      "grid_template_rows": null,
      "height": null,
      "justify_content": null,
      "justify_items": null,
      "left": null,
      "margin": null,
      "max_height": null,
      "max_width": null,
      "min_height": null,
      "min_width": null,
      "object_fit": null,
      "object_position": null,
      "order": null,
      "overflow": null,
      "overflow_x": null,
      "overflow_y": null,
      "padding": null,
      "right": null,
      "top": null,
      "visibility": null,
      "width": null
     }
    },
    "6c7bf6236a494776b78709e4202613b4": {
     "model_module": "@jupyter-widgets/base",
     "model_module_version": "1.2.0",
     "model_name": "LayoutModel",
     "state": {
      "_model_module": "@jupyter-widgets/base",
      "_model_module_version": "1.2.0",
      "_model_name": "LayoutModel",
      "_view_count": null,
      "_view_module": "@jupyter-widgets/base",
      "_view_module_version": "1.2.0",
      "_view_name": "LayoutView",
      "align_content": null,
      "align_items": null,
      "align_self": null,
      "border": null,
      "bottom": null,
      "display": null,
      "flex": null,
      "flex_flow": null,
      "grid_area": null,
      "grid_auto_columns": null,
      "grid_auto_flow": null,
      "grid_auto_rows": null,
      "grid_column": null,
      "grid_gap": null,
      "grid_row": null,
      "grid_template_areas": null,
      "grid_template_columns": null,
      "grid_template_rows": null,
      "height": null,
      "justify_content": null,
      "justify_items": null,
      "left": null,
      "margin": null,
      "max_height": null,
      "max_width": null,
      "min_height": null,
      "min_width": null,
      "object_fit": null,
      "object_position": null,
      "order": null,
      "overflow": null,
      "overflow_x": null,
      "overflow_y": null,
      "padding": null,
      "right": null,
      "top": null,
      "visibility": null,
      "width": null
     }
    },
    "6da6898cadce460ca8221fd97b867c88": {
     "model_module": "@jupyter-widgets/controls",
     "model_module_version": "1.5.0",
     "model_name": "FloatProgressModel",
     "state": {
      "_dom_classes": [],
      "_model_module": "@jupyter-widgets/controls",
      "_model_module_version": "1.5.0",
      "_model_name": "FloatProgressModel",
      "_view_count": null,
      "_view_module": "@jupyter-widgets/controls",
      "_view_module_version": "1.5.0",
      "_view_name": "ProgressView",
      "bar_style": "success",
      "description": "",
      "description_tooltip": null,
      "layout": "IPY_MODEL_7e0909b65bda498787130d318e4b1657",
      "max": 1344678,
      "min": 0,
      "orientation": "horizontal",
      "style": "IPY_MODEL_5abd3a76492e4c92a45e5f7b40e7eee2",
      "value": 1344678
     }
    },
    "6faa930e75714498840607b5237872cc": {
     "model_module": "@jupyter-widgets/base",
     "model_module_version": "1.2.0",
     "model_name": "LayoutModel",
     "state": {
      "_model_module": "@jupyter-widgets/base",
      "_model_module_version": "1.2.0",
      "_model_name": "LayoutModel",
      "_view_count": null,
      "_view_module": "@jupyter-widgets/base",
      "_view_module_version": "1.2.0",
      "_view_name": "LayoutView",
      "align_content": null,
      "align_items": null,
      "align_self": null,
      "border": null,
      "bottom": null,
      "display": null,
      "flex": null,
      "flex_flow": null,
      "grid_area": null,
      "grid_auto_columns": null,
      "grid_auto_flow": null,
      "grid_auto_rows": null,
      "grid_column": null,
      "grid_gap": null,
      "grid_row": null,
      "grid_template_areas": null,
      "grid_template_columns": null,
      "grid_template_rows": null,
      "height": null,
      "justify_content": null,
      "justify_items": null,
      "left": null,
      "margin": null,
      "max_height": null,
      "max_width": null,
      "min_height": null,
      "min_width": null,
      "object_fit": null,
      "object_position": null,
      "order": null,
      "overflow": null,
      "overflow_x": null,
      "overflow_y": null,
      "padding": null,
      "right": null,
      "top": null,
      "visibility": null,
      "width": null
     }
    },
    "7205c09abc7c44fd9644a2790fa26d74": {
     "model_module": "@jupyter-widgets/base",
     "model_module_version": "1.2.0",
     "model_name": "LayoutModel",
     "state": {
      "_model_module": "@jupyter-widgets/base",
      "_model_module_version": "1.2.0",
      "_model_name": "LayoutModel",
      "_view_count": null,
      "_view_module": "@jupyter-widgets/base",
      "_view_module_version": "1.2.0",
      "_view_name": "LayoutView",
      "align_content": null,
      "align_items": null,
      "align_self": null,
      "border": null,
      "bottom": null,
      "display": null,
      "flex": null,
      "flex_flow": null,
      "grid_area": null,
      "grid_auto_columns": null,
      "grid_auto_flow": null,
      "grid_auto_rows": null,
      "grid_column": null,
      "grid_gap": null,
      "grid_row": null,
      "grid_template_areas": null,
      "grid_template_columns": null,
      "grid_template_rows": null,
      "height": null,
      "justify_content": null,
      "justify_items": null,
      "left": null,
      "margin": null,
      "max_height": null,
      "max_width": null,
      "min_height": null,
      "min_width": null,
      "object_fit": null,
      "object_position": null,
      "order": null,
      "overflow": null,
      "overflow_x": null,
      "overflow_y": null,
      "padding": null,
      "right": null,
      "top": null,
      "visibility": null,
      "width": null
     }
    },
    "721f68bdef3b48889c9fefb2b60573c1": {
     "model_module": "@jupyter-widgets/controls",
     "model_module_version": "1.5.0",
     "model_name": "ProgressStyleModel",
     "state": {
      "_model_module": "@jupyter-widgets/controls",
      "_model_module_version": "1.5.0",
      "_model_name": "ProgressStyleModel",
      "_view_count": null,
      "_view_module": "@jupyter-widgets/base",
      "_view_module_version": "1.2.0",
      "_view_name": "StyleView",
      "bar_color": null,
      "description_width": ""
     }
    },
    "739a18e8edf54014bb38d784cec7c6a7": {
     "model_module": "@jupyter-widgets/controls",
     "model_module_version": "1.5.0",
     "model_name": "DescriptionStyleModel",
     "state": {
      "_model_module": "@jupyter-widgets/controls",
      "_model_module_version": "1.5.0",
      "_model_name": "DescriptionStyleModel",
      "_view_count": null,
      "_view_module": "@jupyter-widgets/base",
      "_view_module_version": "1.2.0",
      "_view_name": "StyleView",
      "description_width": ""
     }
    },
    "7971408614e54c5497687056f94f9ad5": {
     "model_module": "@jupyter-widgets/controls",
     "model_module_version": "1.5.0",
     "model_name": "HBoxModel",
     "state": {
      "_dom_classes": [],
      "_model_module": "@jupyter-widgets/controls",
      "_model_module_version": "1.5.0",
      "_model_name": "HBoxModel",
      "_view_count": null,
      "_view_module": "@jupyter-widgets/controls",
      "_view_module_version": "1.5.0",
      "_view_name": "HBoxView",
      "box_style": "",
      "children": [
       "IPY_MODEL_01381fbca9bc4420b44df70a14e2f025",
       "IPY_MODEL_c71ffc169e994670853e42ebb6f94f99",
       "IPY_MODEL_2ffaf2f65b9a438b90a57a5c2762de8d"
      ],
      "layout": "IPY_MODEL_69c428e2cba44168a3f8ba0ac1b0aded"
     }
    },
    "7ab51b05652d47e392b3d20e6588e3df": {
     "model_module": "@jupyter-widgets/controls",
     "model_module_version": "1.5.0",
     "model_name": "DescriptionStyleModel",
     "state": {
      "_model_module": "@jupyter-widgets/controls",
      "_model_module_version": "1.5.0",
      "_model_name": "DescriptionStyleModel",
      "_view_count": null,
      "_view_module": "@jupyter-widgets/base",
      "_view_module_version": "1.2.0",
      "_view_name": "StyleView",
      "description_width": ""
     }
    },
    "7e0909b65bda498787130d318e4b1657": {
     "model_module": "@jupyter-widgets/base",
     "model_module_version": "1.2.0",
     "model_name": "LayoutModel",
     "state": {
      "_model_module": "@jupyter-widgets/base",
      "_model_module_version": "1.2.0",
      "_model_name": "LayoutModel",
      "_view_count": null,
      "_view_module": "@jupyter-widgets/base",
      "_view_module_version": "1.2.0",
      "_view_name": "LayoutView",
      "align_content": null,
      "align_items": null,
      "align_self": null,
      "border": null,
      "bottom": null,
      "display": null,
      "flex": null,
      "flex_flow": null,
      "grid_area": null,
      "grid_auto_columns": null,
      "grid_auto_flow": null,
      "grid_auto_rows": null,
      "grid_column": null,
      "grid_gap": null,
      "grid_row": null,
      "grid_template_areas": null,
      "grid_template_columns": null,
      "grid_template_rows": null,
      "height": null,
      "justify_content": null,
      "justify_items": null,
      "left": null,
      "margin": null,
      "max_height": null,
      "max_width": null,
      "min_height": null,
      "min_width": null,
      "object_fit": null,
      "object_position": null,
      "order": null,
      "overflow": null,
      "overflow_x": null,
      "overflow_y": null,
      "padding": null,
      "right": null,
      "top": null,
      "visibility": null,
      "width": null
     }
    },
    "7e4273364f844ca89c4929dd8da8b77e": {
     "model_module": "@jupyter-widgets/base",
     "model_module_version": "1.2.0",
     "model_name": "LayoutModel",
     "state": {
      "_model_module": "@jupyter-widgets/base",
      "_model_module_version": "1.2.0",
      "_model_name": "LayoutModel",
      "_view_count": null,
      "_view_module": "@jupyter-widgets/base",
      "_view_module_version": "1.2.0",
      "_view_name": "LayoutView",
      "align_content": null,
      "align_items": null,
      "align_self": null,
      "border": null,
      "bottom": null,
      "display": null,
      "flex": null,
      "flex_flow": null,
      "grid_area": null,
      "grid_auto_columns": null,
      "grid_auto_flow": null,
      "grid_auto_rows": null,
      "grid_column": null,
      "grid_gap": null,
      "grid_row": null,
      "grid_template_areas": null,
      "grid_template_columns": null,
      "grid_template_rows": null,
      "height": null,
      "justify_content": null,
      "justify_items": null,
      "left": null,
      "margin": null,
      "max_height": null,
      "max_width": null,
      "min_height": null,
      "min_width": null,
      "object_fit": null,
      "object_position": null,
      "order": null,
      "overflow": null,
      "overflow_x": null,
      "overflow_y": null,
      "padding": null,
      "right": null,
      "top": null,
      "visibility": null,
      "width": null
     }
    },
    "81b061c04de24e28b8a92bb1eebd74bb": {
     "model_module": "@jupyter-widgets/base",
     "model_module_version": "1.2.0",
     "model_name": "LayoutModel",
     "state": {
      "_model_module": "@jupyter-widgets/base",
      "_model_module_version": "1.2.0",
      "_model_name": "LayoutModel",
      "_view_count": null,
      "_view_module": "@jupyter-widgets/base",
      "_view_module_version": "1.2.0",
      "_view_name": "LayoutView",
      "align_content": null,
      "align_items": null,
      "align_self": null,
      "border": null,
      "bottom": null,
      "display": null,
      "flex": null,
      "flex_flow": null,
      "grid_area": null,
      "grid_auto_columns": null,
      "grid_auto_flow": null,
      "grid_auto_rows": null,
      "grid_column": null,
      "grid_gap": null,
      "grid_row": null,
      "grid_template_areas": null,
      "grid_template_columns": null,
      "grid_template_rows": null,
      "height": null,
      "justify_content": null,
      "justify_items": null,
      "left": null,
      "margin": null,
      "max_height": null,
      "max_width": null,
      "min_height": null,
      "min_width": null,
      "object_fit": null,
      "object_position": null,
      "order": null,
      "overflow": null,
      "overflow_x": null,
      "overflow_y": null,
      "padding": null,
      "right": null,
      "top": null,
      "visibility": null,
      "width": null
     }
    },
    "856ec4c2bd514e46b9adfdb607f718d3": {
     "model_module": "@jupyter-widgets/controls",
     "model_module_version": "1.5.0",
     "model_name": "DescriptionStyleModel",
     "state": {
      "_model_module": "@jupyter-widgets/controls",
      "_model_module_version": "1.5.0",
      "_model_name": "DescriptionStyleModel",
      "_view_count": null,
      "_view_module": "@jupyter-widgets/base",
      "_view_module_version": "1.2.0",
      "_view_name": "StyleView",
      "description_width": ""
     }
    },
    "88b80b311f6e46d7a961eebf1607936b": {
     "model_module": "@jupyter-widgets/base",
     "model_module_version": "1.2.0",
     "model_name": "LayoutModel",
     "state": {
      "_model_module": "@jupyter-widgets/base",
      "_model_module_version": "1.2.0",
      "_model_name": "LayoutModel",
      "_view_count": null,
      "_view_module": "@jupyter-widgets/base",
      "_view_module_version": "1.2.0",
      "_view_name": "LayoutView",
      "align_content": null,
      "align_items": null,
      "align_self": null,
      "border": null,
      "bottom": null,
      "display": null,
      "flex": null,
      "flex_flow": null,
      "grid_area": null,
      "grid_auto_columns": null,
      "grid_auto_flow": null,
      "grid_auto_rows": null,
      "grid_column": null,
      "grid_gap": null,
      "grid_row": null,
      "grid_template_areas": null,
      "grid_template_columns": null,
      "grid_template_rows": null,
      "height": null,
      "justify_content": null,
      "justify_items": null,
      "left": null,
      "margin": null,
      "max_height": null,
      "max_width": null,
      "min_height": null,
      "min_width": null,
      "object_fit": null,
      "object_position": null,
      "order": null,
      "overflow": null,
      "overflow_x": null,
      "overflow_y": null,
      "padding": null,
      "right": null,
      "top": null,
      "visibility": null,
      "width": null
     }
    },
    "8af6e9ffa6cd41fbb85d1d347acf2e90": {
     "model_module": "@jupyter-widgets/controls",
     "model_module_version": "1.5.0",
     "model_name": "DescriptionStyleModel",
     "state": {
      "_model_module": "@jupyter-widgets/controls",
      "_model_module_version": "1.5.0",
      "_model_name": "DescriptionStyleModel",
      "_view_count": null,
      "_view_module": "@jupyter-widgets/base",
      "_view_module_version": "1.2.0",
      "_view_name": "StyleView",
      "description_width": ""
     }
    },
    "8d12486e8f7246339a595775fd46ccf4": {
     "model_module": "@jupyter-widgets/base",
     "model_module_version": "1.2.0",
     "model_name": "LayoutModel",
     "state": {
      "_model_module": "@jupyter-widgets/base",
      "_model_module_version": "1.2.0",
      "_model_name": "LayoutModel",
      "_view_count": null,
      "_view_module": "@jupyter-widgets/base",
      "_view_module_version": "1.2.0",
      "_view_name": "LayoutView",
      "align_content": null,
      "align_items": null,
      "align_self": null,
      "border": null,
      "bottom": null,
      "display": null,
      "flex": null,
      "flex_flow": null,
      "grid_area": null,
      "grid_auto_columns": null,
      "grid_auto_flow": null,
      "grid_auto_rows": null,
      "grid_column": null,
      "grid_gap": null,
      "grid_row": null,
      "grid_template_areas": null,
      "grid_template_columns": null,
      "grid_template_rows": null,
      "height": null,
      "justify_content": null,
      "justify_items": null,
      "left": null,
      "margin": null,
      "max_height": null,
      "max_width": null,
      "min_height": null,
      "min_width": null,
      "object_fit": null,
      "object_position": null,
      "order": null,
      "overflow": null,
      "overflow_x": null,
      "overflow_y": null,
      "padding": null,
      "right": null,
      "top": null,
      "visibility": null,
      "width": null
     }
    },
    "9082f24ead4843dcb4ab3f701b631951": {
     "model_module": "@jupyter-widgets/controls",
     "model_module_version": "1.5.0",
     "model_name": "HTMLModel",
     "state": {
      "_dom_classes": [],
      "_model_module": "@jupyter-widgets/controls",
      "_model_module_version": "1.5.0",
      "_model_name": "HTMLModel",
      "_view_count": null,
      "_view_module": "@jupyter-widgets/controls",
      "_view_module_version": "1.5.0",
      "_view_name": "HTMLView",
      "description": "",
      "description_tooltip": null,
      "layout": "IPY_MODEL_2de1a41b59664ffdbf79a8d53ea56c9b",
      "placeholder": "​",
      "style": "IPY_MODEL_5750403cc7964f22999ed12670ab234f",
      "value": "Downloading: 100%"
     }
    },
    "968f589ca5ad4de98c891aa4436b851b": {
     "model_module": "@jupyter-widgets/controls",
     "model_module_version": "1.5.0",
     "model_name": "HBoxModel",
     "state": {
      "_dom_classes": [],
      "_model_module": "@jupyter-widgets/controls",
      "_model_module_version": "1.5.0",
      "_model_name": "HBoxModel",
      "_view_count": null,
      "_view_module": "@jupyter-widgets/controls",
      "_view_module_version": "1.5.0",
      "_view_name": "HBoxView",
      "box_style": "",
      "children": [
       "IPY_MODEL_674c85e3806e4a0d966b123fd1941908",
       "IPY_MODEL_6da6898cadce460ca8221fd97b867c88",
       "IPY_MODEL_04860caa35a947d6a1ecfeca47119893"
      ],
      "layout": "IPY_MODEL_129db28984f04239825698ae36f6dd6c"
     }
    },
    "9f87deb801e1459e9cf8781653ddfc64": {
     "model_module": "@jupyter-widgets/base",
     "model_module_version": "1.2.0",
     "model_name": "LayoutModel",
     "state": {
      "_model_module": "@jupyter-widgets/base",
      "_model_module_version": "1.2.0",
      "_model_name": "LayoutModel",
      "_view_count": null,
      "_view_module": "@jupyter-widgets/base",
      "_view_module_version": "1.2.0",
      "_view_name": "LayoutView",
      "align_content": null,
      "align_items": null,
      "align_self": null,
      "border": null,
      "bottom": null,
      "display": null,
      "flex": null,
      "flex_flow": null,
      "grid_area": null,
      "grid_auto_columns": null,
      "grid_auto_flow": null,
      "grid_auto_rows": null,
      "grid_column": null,
      "grid_gap": null,
      "grid_row": null,
      "grid_template_areas": null,
      "grid_template_columns": null,
      "grid_template_rows": null,
      "height": null,
      "justify_content": null,
      "justify_items": null,
      "left": null,
      "margin": null,
      "max_height": null,
      "max_width": null,
      "min_height": null,
      "min_width": null,
      "object_fit": null,
      "object_position": null,
      "order": null,
      "overflow": null,
      "overflow_x": null,
      "overflow_y": null,
      "padding": null,
      "right": null,
      "top": null,
      "visibility": null,
      "width": null
     }
    },
    "a418fa655ec44fe7a15811962632f2f8": {
     "model_module": "@jupyter-widgets/controls",
     "model_module_version": "1.5.0",
     "model_name": "HBoxModel",
     "state": {
      "_dom_classes": [],
      "_model_module": "@jupyter-widgets/controls",
      "_model_module_version": "1.5.0",
      "_model_name": "HBoxModel",
      "_view_count": null,
      "_view_module": "@jupyter-widgets/controls",
      "_view_module_version": "1.5.0",
      "_view_name": "HBoxView",
      "box_style": "",
      "children": [
       "IPY_MODEL_f3f5f0e3dc044b53a4ea4a81e91b8204",
       "IPY_MODEL_17927cf6890a45c9b2998c56edb09d16",
       "IPY_MODEL_bf816ecbb56d448da13a49758ad63889"
      ],
      "layout": "IPY_MODEL_48a288a75bd640f391d3dc55eed966f3"
     }
    },
    "a576ad2d35024631a3b4dc5df830bc8c": {
     "model_module": "@jupyter-widgets/controls",
     "model_module_version": "1.5.0",
     "model_name": "DescriptionStyleModel",
     "state": {
      "_model_module": "@jupyter-widgets/controls",
      "_model_module_version": "1.5.0",
      "_model_name": "DescriptionStyleModel",
      "_view_count": null,
      "_view_module": "@jupyter-widgets/base",
      "_view_module_version": "1.2.0",
      "_view_name": "StyleView",
      "description_width": ""
     }
    },
    "ab59f07e07f545b5ba8d7a6bd5992307": {
     "model_module": "@jupyter-widgets/controls",
     "model_module_version": "1.5.0",
     "model_name": "HTMLModel",
     "state": {
      "_dom_classes": [],
      "_model_module": "@jupyter-widgets/controls",
      "_model_module_version": "1.5.0",
      "_model_name": "HTMLModel",
      "_view_count": null,
      "_view_module": "@jupyter-widgets/controls",
      "_view_module_version": "1.5.0",
      "_view_name": "HTMLView",
      "description": "",
      "description_tooltip": null,
      "layout": "IPY_MODEL_680f0c0125b34c59968d44ecfd86a213",
      "placeholder": "​",
      "style": "IPY_MODEL_44d8c4c83ae74b918ee26d1ee92a71ca",
      "value": "Downloading: 100%"
     }
    },
    "b96773a2ddee4b5cb59bdb51be48a52a": {
     "model_module": "@jupyter-widgets/base",
     "model_module_version": "1.2.0",
     "model_name": "LayoutModel",
     "state": {
      "_model_module": "@jupyter-widgets/base",
      "_model_module_version": "1.2.0",
      "_model_name": "LayoutModel",
      "_view_count": null,
      "_view_module": "@jupyter-widgets/base",
      "_view_module_version": "1.2.0",
      "_view_name": "LayoutView",
      "align_content": null,
      "align_items": null,
      "align_self": null,
      "border": null,
      "bottom": null,
      "display": null,
      "flex": null,
      "flex_flow": null,
      "grid_area": null,
      "grid_auto_columns": null,
      "grid_auto_flow": null,
      "grid_auto_rows": null,
      "grid_column": null,
      "grid_gap": null,
      "grid_row": null,
      "grid_template_areas": null,
      "grid_template_columns": null,
      "grid_template_rows": null,
      "height": null,
      "justify_content": null,
      "justify_items": null,
      "left": null,
      "margin": null,
      "max_height": null,
      "max_width": null,
      "min_height": null,
      "min_width": null,
      "object_fit": null,
      "object_position": null,
      "order": null,
      "overflow": null,
      "overflow_x": null,
      "overflow_y": null,
      "padding": null,
      "right": null,
      "top": null,
      "visibility": null,
      "width": null
     }
    },
    "bf816ecbb56d448da13a49758ad63889": {
     "model_module": "@jupyter-widgets/controls",
     "model_module_version": "1.5.0",
     "model_name": "HTMLModel",
     "state": {
      "_dom_classes": [],
      "_model_module": "@jupyter-widgets/controls",
      "_model_module_version": "1.5.0",
      "_model_name": "HTMLModel",
      "_view_count": null,
      "_view_module": "@jupyter-widgets/controls",
      "_view_module_version": "1.5.0",
      "_view_name": "HTMLView",
      "description": "",
      "description_tooltip": null,
      "layout": "IPY_MODEL_371c9fd5159c4469ba0a3f3e66ba5097",
      "placeholder": "​",
      "style": "IPY_MODEL_8af6e9ffa6cd41fbb85d1d347acf2e90",
      "value": " 1.68M/1.68M [00:00&lt;00:00, 2.09MB/s]"
     }
    },
    "c71ffc169e994670853e42ebb6f94f99": {
     "model_module": "@jupyter-widgets/controls",
     "model_module_version": "1.5.0",
     "model_name": "FloatProgressModel",
     "state": {
      "_dom_classes": [],
      "_model_module": "@jupyter-widgets/controls",
      "_model_module_version": "1.5.0",
      "_model_name": "FloatProgressModel",
      "_view_count": null,
      "_view_module": "@jupyter-widgets/controls",
      "_view_module_version": "1.5.0",
      "_view_name": "ProgressView",
      "bar_style": "success",
      "description": "",
      "description_tooltip": null,
      "layout": "IPY_MODEL_db2cda2d11bd46eaa20f052b5fc4bec7",
      "max": 150,
      "min": 0,
      "orientation": "horizontal",
      "style": "IPY_MODEL_721f68bdef3b48889c9fefb2b60573c1",
      "value": 150
     }
    },
    "dafa7f6663a54318bcf6c2731256bd03": {
     "model_module": "@jupyter-widgets/base",
     "model_module_version": "1.2.0",
     "model_name": "LayoutModel",
     "state": {
      "_model_module": "@jupyter-widgets/base",
      "_model_module_version": "1.2.0",
      "_model_name": "LayoutModel",
      "_view_count": null,
      "_view_module": "@jupyter-widgets/base",
      "_view_module_version": "1.2.0",
      "_view_name": "LayoutView",
      "align_content": null,
      "align_items": null,
      "align_self": null,
      "border": null,
      "bottom": null,
      "display": null,
      "flex": null,
      "flex_flow": null,
      "grid_area": null,
      "grid_auto_columns": null,
      "grid_auto_flow": null,
      "grid_auto_rows": null,
      "grid_column": null,
      "grid_gap": null,
      "grid_row": null,
      "grid_template_areas": null,
      "grid_template_columns": null,
      "grid_template_rows": null,
      "height": null,
      "justify_content": null,
      "justify_items": null,
      "left": null,
      "margin": null,
      "max_height": null,
      "max_width": null,
      "min_height": null,
      "min_width": null,
      "object_fit": null,
      "object_position": null,
      "order": null,
      "overflow": null,
      "overflow_x": null,
      "overflow_y": null,
      "padding": null,
      "right": null,
      "top": null,
      "visibility": null,
      "width": null
     }
    },
    "db2cda2d11bd46eaa20f052b5fc4bec7": {
     "model_module": "@jupyter-widgets/base",
     "model_module_version": "1.2.0",
     "model_name": "LayoutModel",
     "state": {
      "_model_module": "@jupyter-widgets/base",
      "_model_module_version": "1.2.0",
      "_model_name": "LayoutModel",
      "_view_count": null,
      "_view_module": "@jupyter-widgets/base",
      "_view_module_version": "1.2.0",
      "_view_name": "LayoutView",
      "align_content": null,
      "align_items": null,
      "align_self": null,
      "border": null,
      "bottom": null,
      "display": null,
      "flex": null,
      "flex_flow": null,
      "grid_area": null,
      "grid_auto_columns": null,
      "grid_auto_flow": null,
      "grid_auto_rows": null,
      "grid_column": null,
      "grid_gap": null,
      "grid_row": null,
      "grid_template_areas": null,
      "grid_template_columns": null,
      "grid_template_rows": null,
      "height": null,
      "justify_content": null,
      "justify_items": null,
      "left": null,
      "margin": null,
      "max_height": null,
      "max_width": null,
      "min_height": null,
      "min_width": null,
      "object_fit": null,
      "object_position": null,
      "order": null,
      "overflow": null,
      "overflow_x": null,
      "overflow_y": null,
      "padding": null,
      "right": null,
      "top": null,
      "visibility": null,
      "width": null
     }
    },
    "e34f0127cb9f455b9effbf8f0c66cec4": {
     "model_module": "@jupyter-widgets/controls",
     "model_module_version": "1.5.0",
     "model_name": "FloatProgressModel",
     "state": {
      "_dom_classes": [],
      "_model_module": "@jupyter-widgets/controls",
      "_model_module_version": "1.5.0",
      "_model_name": "FloatProgressModel",
      "_view_count": null,
      "_view_module": "@jupyter-widgets/controls",
      "_view_module_version": "1.5.0",
      "_view_name": "ProgressView",
      "bar_style": "success",
      "description": "",
      "description_tooltip": null,
      "layout": "IPY_MODEL_e9fe13a4287d4e4ba705197423fcec97",
      "max": 500451866,
      "min": 0,
      "orientation": "horizontal",
      "style": "IPY_MODEL_e8ba9cb29e5e4d0fb07e4a06770e9ab1",
      "value": 500451866
     }
    },
    "e7844fbf1de243369d2d7824c5f22018": {
     "model_module": "@jupyter-widgets/controls",
     "model_module_version": "1.5.0",
     "model_name": "FloatProgressModel",
     "state": {
      "_dom_classes": [],
      "_model_module": "@jupyter-widgets/controls",
      "_model_module_version": "1.5.0",
      "_model_name": "FloatProgressModel",
      "_view_count": null,
      "_view_module": "@jupyter-widgets/controls",
      "_view_module_version": "1.5.0",
      "_view_name": "ProgressView",
      "bar_style": "success",
      "description": "",
      "description_tooltip": null,
      "layout": "IPY_MODEL_6faa930e75714498840607b5237872cc",
      "max": 16,
      "min": 0,
      "orientation": "horizontal",
      "style": "IPY_MODEL_0136d5f710d3411c89a9b043b55c356a",
      "value": 16
     }
    },
    "e8aa4cd54e3342308e32005b509d42a0": {
     "model_module": "@jupyter-widgets/controls",
     "model_module_version": "1.5.0",
     "model_name": "HBoxModel",
     "state": {
      "_dom_classes": [],
      "_model_module": "@jupyter-widgets/controls",
      "_model_module_version": "1.5.0",
      "_model_name": "HBoxModel",
      "_view_count": null,
      "_view_module": "@jupyter-widgets/controls",
      "_view_module_version": "1.5.0",
      "_view_name": "HBoxView",
      "box_style": "",
      "children": [
       "IPY_MODEL_3400435aba954d9fb800621c84456f7b",
       "IPY_MODEL_e34f0127cb9f455b9effbf8f0c66cec4",
       "IPY_MODEL_2768bceca3494410a4f02733fc70b0ba"
      ],
      "layout": "IPY_MODEL_29dfd7496e354597b0fa30d636ab7b65"
     }
    },
    "e8ba9cb29e5e4d0fb07e4a06770e9ab1": {
     "model_module": "@jupyter-widgets/controls",
     "model_module_version": "1.5.0",
     "model_name": "ProgressStyleModel",
     "state": {
      "_model_module": "@jupyter-widgets/controls",
      "_model_module_version": "1.5.0",
      "_model_name": "ProgressStyleModel",
      "_view_count": null,
      "_view_module": "@jupyter-widgets/base",
      "_view_module_version": "1.2.0",
      "_view_name": "StyleView",
      "bar_color": null,
      "description_width": ""
     }
    },
    "e9fe13a4287d4e4ba705197423fcec97": {
     "model_module": "@jupyter-widgets/base",
     "model_module_version": "1.2.0",
     "model_name": "LayoutModel",
     "state": {
      "_model_module": "@jupyter-widgets/base",
      "_model_module_version": "1.2.0",
      "_model_name": "LayoutModel",
      "_view_count": null,
      "_view_module": "@jupyter-widgets/base",
      "_view_module_version": "1.2.0",
      "_view_name": "LayoutView",
      "align_content": null,
      "align_items": null,
      "align_self": null,
      "border": null,
      "bottom": null,
      "display": null,
      "flex": null,
      "flex_flow": null,
      "grid_area": null,
      "grid_auto_columns": null,
      "grid_auto_flow": null,
      "grid_auto_rows": null,
      "grid_column": null,
      "grid_gap": null,
      "grid_row": null,
      "grid_template_areas": null,
      "grid_template_columns": null,
      "grid_template_rows": null,
      "height": null,
      "justify_content": null,
      "justify_items": null,
      "left": null,
      "margin": null,
      "max_height": null,
      "max_width": null,
      "min_height": null,
      "min_width": null,
      "object_fit": null,
      "object_position": null,
      "order": null,
      "overflow": null,
      "overflow_x": null,
      "overflow_y": null,
      "padding": null,
      "right": null,
      "top": null,
      "visibility": null,
      "width": null
     }
    },
    "f3f5f0e3dc044b53a4ea4a81e91b8204": {
     "model_module": "@jupyter-widgets/controls",
     "model_module_version": "1.5.0",
     "model_name": "HTMLModel",
     "state": {
      "_dom_classes": [],
      "_model_module": "@jupyter-widgets/controls",
      "_model_module_version": "1.5.0",
      "_model_name": "HTMLModel",
      "_view_count": null,
      "_view_module": "@jupyter-widgets/controls",
      "_view_module_version": "1.5.0",
      "_view_name": "HTMLView",
      "description": "",
      "description_tooltip": null,
      "layout": "IPY_MODEL_88b80b311f6e46d7a961eebf1607936b",
      "placeholder": "​",
      "style": "IPY_MODEL_24089b7538234717ae9d5e23b9574699",
      "value": "Downloading: 100%"
     }
    }
   }
  }
 },
 "nbformat": 4,
 "nbformat_minor": 4
}
