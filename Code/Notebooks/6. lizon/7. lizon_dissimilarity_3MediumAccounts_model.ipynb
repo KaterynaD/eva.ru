{
 "cells": [
  {
   "cell_type": "markdown",
   "metadata": {},
   "source": [
    "## Only 3, medium size lizon's accounts are compared"
   ]
  },
  {
   "cell_type": "code",
   "execution_count": 1,
   "metadata": {
    "colab": {
     "base_uri": "https://localhost:8080/"
    },
    "executionInfo": {
     "elapsed": 18357,
     "status": "ok",
     "timestamp": 1638499983539,
     "user": {
      "displayName": "Kateryna Drogaieva",
      "photoUrl": "https://lh3.googleusercontent.com/a-/AOh14GjB1LQYJH97Lqm6RsCcAADFgzEAa0YxMUT7P4mjlA=s64",
      "userId": "10877377912113147805"
     },
     "user_tz": 480
    },
    "id": "2bzcmrvO-QL-",
    "outputId": "085b0eea-ffd9-42d9-83fe-bf5ce1498e52"
   },
   "outputs": [
    {
     "name": "stdout",
     "output_type": "stream",
     "text": [
      "Mounted at /content/drive\n"
     ]
    }
   ],
   "source": [
    "from google.colab import drive\n",
    "drive.mount('/content/drive')"
   ]
  },
  {
   "cell_type": "code",
   "execution_count": 2,
   "metadata": {
    "executionInfo": {
     "elapsed": 2140,
     "status": "ok",
     "timestamp": 1638499985670,
     "user": {
      "displayName": "Kateryna Drogaieva",
      "photoUrl": "https://lh3.googleusercontent.com/a-/AOh14GjB1LQYJH97Lqm6RsCcAADFgzEAa0YxMUT7P4mjlA=s64",
      "userId": "10877377912113147805"
     },
     "user_tz": 480
    },
    "id": "dRYhczg8-wOz"
   },
   "outputs": [],
   "source": [
    "import tensorflow as tf"
   ]
  },
  {
   "cell_type": "code",
   "execution_count": 3,
   "metadata": {
    "colab": {
     "base_uri": "https://localhost:8080/"
    },
    "executionInfo": {
     "elapsed": 13,
     "status": "ok",
     "timestamp": 1638499985671,
     "user": {
      "displayName": "Kateryna Drogaieva",
      "photoUrl": "https://lh3.googleusercontent.com/a-/AOh14GjB1LQYJH97Lqm6RsCcAADFgzEAa0YxMUT7P4mjlA=s64",
      "userId": "10877377912113147805"
     },
     "user_tz": 480
    },
    "id": "pkxILqbT-zaX",
    "outputId": "3c2240d9-b591-46d7-c433-b444ac00c5f6"
   },
   "outputs": [
    {
     "name": "stdout",
     "output_type": "stream",
     "text": [
      "Your runtime has 89.6 gigabytes of available RAM\n",
      "\n",
      "You are using a high-RAM runtime!\n"
     ]
    }
   ],
   "source": [
    "from psutil import virtual_memory\n",
    "ram_gb = virtual_memory().total / 1e9\n",
    "print('Your runtime has {:.1f} gigabytes of available RAM\\n'.format(ram_gb))\n",
    "\n",
    "if ram_gb < 20:\n",
    "  print('Not using a high-RAM runtime')\n",
    "else:\n",
    "  print('You are using a high-RAM runtime!')"
   ]
  },
  {
   "cell_type": "code",
   "execution_count": 4,
   "metadata": {
    "colab": {
     "base_uri": "https://localhost:8080/"
    },
    "executionInfo": {
     "elapsed": 348,
     "status": "ok",
     "timestamp": 1638499986014,
     "user": {
      "displayName": "Kateryna Drogaieva",
      "photoUrl": "https://lh3.googleusercontent.com/a-/AOh14GjB1LQYJH97Lqm6RsCcAADFgzEAa0YxMUT7P4mjlA=s64",
      "userId": "10877377912113147805"
     },
     "user_tz": 480
    },
    "id": "_Jo1Zbz2-7GV",
    "outputId": "3edc1cb5-6188-42f0-85fa-4732d74d2e18"
   },
   "outputs": [
    {
     "name": "stdout",
     "output_type": "stream",
     "text": [
      "Fri Dec  3 02:53:05 2021       \n",
      "+-----------------------------------------------------------------------------+\n",
      "| NVIDIA-SMI 495.44       Driver Version: 460.32.03    CUDA Version: 11.2     |\n",
      "|-------------------------------+----------------------+----------------------+\n",
      "| GPU  Name        Persistence-M| Bus-Id        Disp.A | Volatile Uncorr. ECC |\n",
      "| Fan  Temp  Perf  Pwr:Usage/Cap|         Memory-Usage | GPU-Util  Compute M. |\n",
      "|                               |                      |               MIG M. |\n",
      "|===============================+======================+======================|\n",
      "|   0  A100-SXM4-40GB      Off  | 00000000:00:04.0 Off |                    0 |\n",
      "| N/A   32C    P0    46W / 400W |      0MiB / 40536MiB |      0%      Default |\n",
      "|                               |                      |             Disabled |\n",
      "+-------------------------------+----------------------+----------------------+\n",
      "                                                                               \n",
      "+-----------------------------------------------------------------------------+\n",
      "| Processes:                                                                  |\n",
      "|  GPU   GI   CI        PID   Type   Process name                  GPU Memory |\n",
      "|        ID   ID                                                   Usage      |\n",
      "|=============================================================================|\n",
      "|  No running processes found                                                 |\n",
      "+-----------------------------------------------------------------------------+\n"
     ]
    }
   ],
   "source": [
    "gpu_info = !nvidia-smi\n",
    "gpu_info = '\\n'.join(gpu_info)\n",
    "if gpu_info.find('failed') >= 0:\n",
    "  print('Not connected to a GPU')\n",
    "else:\n",
    "  print(gpu_info)"
   ]
  },
  {
   "cell_type": "code",
   "execution_count": 5,
   "metadata": {
    "executionInfo": {
     "elapsed": 7,
     "status": "ok",
     "timestamp": 1638499986015,
     "user": {
      "displayName": "Kateryna Drogaieva",
      "photoUrl": "https://lh3.googleusercontent.com/a-/AOh14GjB1LQYJH97Lqm6RsCcAADFgzEAa0YxMUT7P4mjlA=s64",
      "userId": "10877377912113147805"
     },
     "user_tz": 480
    },
    "id": "oZv4phMO-8lV"
   },
   "outputs": [],
   "source": [
    "import os\n",
    "import pandas as pd\n",
    "import numpy as np"
   ]
  },
  {
   "cell_type": "code",
   "execution_count": 6,
   "metadata": {
    "executionInfo": {
     "elapsed": 8,
     "status": "ok",
     "timestamp": 1638499986016,
     "user": {
      "displayName": "Kateryna Drogaieva",
      "photoUrl": "https://lh3.googleusercontent.com/a-/AOh14GjB1LQYJH97Lqm6RsCcAADFgzEAa0YxMUT7P4mjlA=s64",
      "userId": "10877377912113147805"
     },
     "user_tz": 480
    },
    "id": "tiPP7iOh-_xE"
   },
   "outputs": [],
   "source": [
    "########## Ensure reproducibility ##########\n",
    "\n",
    "\n",
    "# 1. Set `PYTHONHASHSEED` environment variable at a fixed value\n",
    "os.environ['PYTHONHASHSEED']=str(42)\n",
    "\n",
    "#Does not work with ktrain\n",
    "#os.environ['TF_DETERMINISTIC_OPS'] = '1'\n",
    "\n",
    "# 2. Set `python` built-in pseudo-random generator at a fixed value\n",
    "#random.seed(42)\n",
    "\n",
    "# 3. Set `numpy` pseudo-random generator at a fixed value\n",
    "np.random.seed(42)\n",
    "\n",
    "# 4. Set `tensorflow` pseudo-random generator at a fixed value\n",
    "tf.random.set_seed(42)"
   ]
  },
  {
   "cell_type": "code",
   "execution_count": null,
   "metadata": {
    "colab": {
     "base_uri": "https://localhost:8080/"
    },
    "executionInfo": {
     "elapsed": 28971,
     "status": "ok",
     "timestamp": 1638500015142,
     "user": {
      "displayName": "Kateryna Drogaieva",
      "photoUrl": "https://lh3.googleusercontent.com/a-/AOh14GjB1LQYJH97Lqm6RsCcAADFgzEAa0YxMUT7P4mjlA=s64",
      "userId": "10877377912113147805"
     },
     "user_tz": 480
    },
    "id": "77ZlOFSq_G1L",
    "outputId": "18f47090-cbff-4be4-eb4e-1cdb40554949"
   },
   "outputs": [],
   "source": [
    "!pip install ktrain"
   ]
  },
  {
   "cell_type": "code",
   "execution_count": 8,
   "metadata": {
    "executionInfo": {
     "elapsed": 5548,
     "status": "ok",
     "timestamp": 1638500020684,
     "user": {
      "displayName": "Kateryna Drogaieva",
      "photoUrl": "https://lh3.googleusercontent.com/a-/AOh14GjB1LQYJH97Lqm6RsCcAADFgzEAa0YxMUT7P4mjlA=s64",
      "userId": "10877377912113147805"
     },
     "user_tz": 480
    },
    "id": "Vi37c_1TFRtM"
   },
   "outputs": [],
   "source": [
    "import ktrain\n",
    "from ktrain import text"
   ]
  },
  {
   "cell_type": "code",
   "execution_count": 9,
   "metadata": {
    "executionInfo": {
     "elapsed": 34,
     "status": "ok",
     "timestamp": 1638500020685,
     "user": {
      "displayName": "Kateryna Drogaieva",
      "photoUrl": "https://lh3.googleusercontent.com/a-/AOh14GjB1LQYJH97Lqm6RsCcAADFgzEAa0YxMUT7P4mjlA=s64",
      "userId": "10877377912113147805"
     },
     "user_tz": 480
    },
    "id": "6QDAno5M_T4_"
   },
   "outputs": [],
   "source": [
    "Data = '/content/drive/MyDrive/Colab Notebooks/Projects/eva/Data/'\n",
    "\n",
    "clone_Messages_filename='lizon_clone_data_for_test.csv'\n",
    "clone_Messages_full_filename=os.path.join(Data, clone_Messages_filename)\n",
    "\n",
    "lizon_Messages_filename='lizon_data_for_finetuning.csv'\n",
    "lizon_Messages_full_filename=os.path.join(Data, lizon_Messages_filename)\n",
    "\n",
    "lizon_ids=[472696, 69715, 300514]\n",
    "\n",
    "Authors_filename='Authors.csv'\n",
    "Authors_full_filename= os.path.join(Data, Authors_filename)"
   ]
  },
  {
   "cell_type": "markdown",
   "metadata": {
    "id": "YdYgqt2T_kXH"
   },
   "source": [
    "## Data load and/or split"
   ]
  },
  {
   "cell_type": "code",
   "execution_count": 10,
   "metadata": {
    "executionInfo": {
     "elapsed": 3253,
     "status": "ok",
     "timestamp": 1638500024567,
     "user": {
      "displayName": "Kateryna Drogaieva",
      "photoUrl": "https://lh3.googleusercontent.com/a-/AOh14GjB1LQYJH97Lqm6RsCcAADFgzEAa0YxMUT7P4mjlA=s64",
      "userId": "10877377912113147805"
     },
     "user_tz": 480
    },
    "id": "zaLBdZdnBHwM"
   },
   "outputs": [],
   "source": [
    "clone_df=pd.read_csv(clone_Messages_full_filename, error_bad_lines=False, index_col=False)"
   ]
  },
  {
   "cell_type": "code",
   "execution_count": 11,
   "metadata": {
    "executionInfo": {
     "elapsed": 757,
     "status": "ok",
     "timestamp": 1638500025307,
     "user": {
      "displayName": "Kateryna Drogaieva",
      "photoUrl": "https://lh3.googleusercontent.com/a-/AOh14GjB1LQYJH97Lqm6RsCcAADFgzEAa0YxMUT7P4mjlA=s64",
      "userId": "10877377912113147805"
     },
     "user_tz": 480
    },
    "id": "1K5Rf-3xPeZb"
   },
   "outputs": [],
   "source": [
    "lizon_df=pd.read_csv(lizon_Messages_full_filename, error_bad_lines=False, index_col=False)"
   ]
  },
  {
   "cell_type": "code",
   "execution_count": 12,
   "metadata": {
    "executionInfo": {
     "elapsed": 705,
     "status": "ok",
     "timestamp": 1638500025999,
     "user": {
      "displayName": "Kateryna Drogaieva",
      "photoUrl": "https://lh3.googleusercontent.com/a-/AOh14GjB1LQYJH97Lqm6RsCcAADFgzEAa0YxMUT7P4mjlA=s64",
      "userId": "10877377912113147805"
     },
     "user_tz": 480
    },
    "id": "6eFaRJunBbwn"
   },
   "outputs": [],
   "source": [
    "#to get one author name per Author_Id (they can vary in messages)\n",
    "Authors=pd.read_csv(Authors_full_filename, error_bad_lines=False, index_col=False)"
   ]
  },
  {
   "cell_type": "code",
   "execution_count": 13,
   "metadata": {
    "executionInfo": {
     "elapsed": 30,
     "status": "ok",
     "timestamp": 1638500026003,
     "user": {
      "displayName": "Kateryna Drogaieva",
      "photoUrl": "https://lh3.googleusercontent.com/a-/AOh14GjB1LQYJH97Lqm6RsCcAADFgzEAa0YxMUT7P4mjlA=s64",
      "userId": "10877377912113147805"
     },
     "user_tz": 480
    },
    "id": "VWBDebbUBgZ-"
   },
   "outputs": [],
   "source": [
    "clone_df = clone_df[clone_df['Author_Id'].isin(lizon_ids)][['Author_Id','original_message']].copy(deep=True)"
   ]
  },
  {
   "cell_type": "code",
   "execution_count": 14,
   "metadata": {
    "executionInfo": {
     "elapsed": 31,
     "status": "ok",
     "timestamp": 1638500026007,
     "user": {
      "displayName": "Kateryna Drogaieva",
      "photoUrl": "https://lh3.googleusercontent.com/a-/AOh14GjB1LQYJH97Lqm6RsCcAADFgzEAa0YxMUT7P4mjlA=s64",
      "userId": "10877377912113147805"
     },
     "user_tz": 480
    },
    "id": "ybbPh2CYPwJF"
   },
   "outputs": [],
   "source": [
    "lizon_df = lizon_df[lizon_df['Author_Id'].isin(lizon_ids)][['Author_Id','original_message']].copy(deep=True)"
   ]
  },
  {
   "cell_type": "code",
   "execution_count": 15,
   "metadata": {
    "executionInfo": {
     "elapsed": 26,
     "status": "ok",
     "timestamp": 1638500026009,
     "user": {
      "displayName": "Kateryna Drogaieva",
      "photoUrl": "https://lh3.googleusercontent.com/a-/AOh14GjB1LQYJH97Lqm6RsCcAADFgzEAa0YxMUT7P4mjlA=s64",
      "userId": "10877377912113147805"
     },
     "user_tz": 480
    },
    "id": "dt2x_B2gP6XQ"
   },
   "outputs": [],
   "source": [
    "df = lizon_df.append(clone_df)"
   ]
  },
  {
   "cell_type": "code",
   "execution_count": 16,
   "metadata": {
    "executionInfo": {
     "elapsed": 31,
     "status": "ok",
     "timestamp": 1638500026015,
     "user": {
      "displayName": "Kateryna Drogaieva",
      "photoUrl": "https://lh3.googleusercontent.com/a-/AOh14GjB1LQYJH97Lqm6RsCcAADFgzEAa0YxMUT7P4mjlA=s64",
      "userId": "10877377912113147805"
     },
     "user_tz": 480
    },
    "id": "7uU7NfP1BtTJ"
   },
   "outputs": [],
   "source": [
    "df = pd.merge(Authors[['Author_Id','author']], df, left_on='Author_Id', right_on='Author_Id', how='inner')"
   ]
  },
  {
   "cell_type": "code",
   "execution_count": 17,
   "metadata": {
    "executionInfo": {
     "elapsed": 32,
     "status": "ok",
     "timestamp": 1638500026016,
     "user": {
      "displayName": "Kateryna Drogaieva",
      "photoUrl": "https://lh3.googleusercontent.com/a-/AOh14GjB1LQYJH97Lqm6RsCcAADFgzEAa0YxMUT7P4mjlA=s64",
      "userId": "10877377912113147805"
     },
     "user_tz": 480
    },
    "id": "EKBMEJI4_hDz"
   },
   "outputs": [],
   "source": [
    "#split data for train/test\n",
    "from sklearn import  model_selection\n",
    "\n",
    "df_trainvalid, df_test = model_selection.train_test_split(df, test_size=0.3, random_state=42,shuffle=True)\n",
    "df_train, df_valid  = model_selection.train_test_split(df_trainvalid, test_size=0.3, random_state=42,shuffle=True)"
   ]
  },
  {
   "cell_type": "code",
   "execution_count": 18,
   "metadata": {
    "colab": {
     "base_uri": "https://localhost:8080/",
     "height": 142
    },
    "executionInfo": {
     "elapsed": 32,
     "status": "ok",
     "timestamp": 1638500026017,
     "user": {
      "displayName": "Kateryna Drogaieva",
      "photoUrl": "https://lh3.googleusercontent.com/a-/AOh14GjB1LQYJH97Lqm6RsCcAADFgzEAa0YxMUT7P4mjlA=s64",
      "userId": "10877377912113147805"
     },
     "user_tz": 480
    },
    "id": "XcDJx16iCVw0",
    "outputId": "3fdb3a62-bd6a-4882-c6da-fcd24567f3ff"
   },
   "outputs": [
    {
     "data": {
      "text/html": [
       "<div>\n",
       "<style scoped>\n",
       "    .dataframe tbody tr th:only-of-type {\n",
       "        vertical-align: middle;\n",
       "    }\n",
       "\n",
       "    .dataframe tbody tr th {\n",
       "        vertical-align: top;\n",
       "    }\n",
       "\n",
       "    .dataframe thead th {\n",
       "        text-align: right;\n",
       "    }\n",
       "</style>\n",
       "<table border=\"1\" class=\"dataframe\">\n",
       "  <thead>\n",
       "    <tr style=\"text-align: right;\">\n",
       "      <th></th>\n",
       "      <th>author</th>\n",
       "      <th>cnt_total</th>\n",
       "      <th>cnt_train</th>\n",
       "      <th>cnt_valid</th>\n",
       "      <th>cnt_test</th>\n",
       "    </tr>\n",
       "  </thead>\n",
       "  <tbody>\n",
       "    <tr>\n",
       "      <th>0</th>\n",
       "      <td>Lizon \" **K**</td>\n",
       "      <td>555</td>\n",
       "      <td>279</td>\n",
       "      <td>129</td>\n",
       "      <td>147</td>\n",
       "    </tr>\n",
       "    <tr>\n",
       "      <th>1</th>\n",
       "      <td>lizon **</td>\n",
       "      <td>613</td>\n",
       "      <td>302</td>\n",
       "      <td>126</td>\n",
       "      <td>185</td>\n",
       "    </tr>\n",
       "    <tr>\n",
       "      <th>2</th>\n",
       "      <td>Кассиапея D</td>\n",
       "      <td>635</td>\n",
       "      <td>302</td>\n",
       "      <td>124</td>\n",
       "      <td>209</td>\n",
       "    </tr>\n",
       "  </tbody>\n",
       "</table>\n",
       "</div>"
      ],
      "text/plain": [
       "          author  cnt_total  cnt_train  cnt_valid  cnt_test\n",
       "0  Lizon \" **K**        555        279        129       147\n",
       "1       lizon **        613        302        126       185\n",
       "2    Кассиапея D        635        302        124       209"
      ]
     },
     "execution_count": 18,
     "metadata": {},
     "output_type": "execute_result"
    }
   ],
   "source": [
    "df0 = df.groupby(['author']).size().reset_index(name='cnt_total')\n",
    "df1 = df_train.groupby(['author']).size().reset_index(name='cnt_train')\n",
    "df2 = df_valid.groupby(['author']).size().reset_index(name='cnt_valid')\n",
    "df3 = df_test.groupby(['author']).size().reset_index(name='cnt_test')\n",
    "df4 = pd.merge(df0, df1, left_on='author', right_on='author', how='inner')\n",
    "df5 = pd.merge(df4, df2, left_on='author', right_on='author', how='inner')\n",
    "results= pd.merge(df5, df3, left_on='author', right_on='author', how='inner')\n",
    "results"
   ]
  },
  {
   "cell_type": "code",
   "execution_count": 19,
   "metadata": {
    "executionInfo": {
     "elapsed": 29,
     "status": "ok",
     "timestamp": 1638500026017,
     "user": {
      "displayName": "Kateryna Drogaieva",
      "photoUrl": "https://lh3.googleusercontent.com/a-/AOh14GjB1LQYJH97Lqm6RsCcAADFgzEAa0YxMUT7P4mjlA=s64",
      "userId": "10877377912113147805"
     },
     "user_tz": 480
    },
    "id": "NO_HLjQUCZuh"
   },
   "outputs": [],
   "source": [
    "x_train = df_train['original_message'].values.astype(str)\n",
    "x_valid = df_valid['original_message'].values.astype(str)\n",
    "x_test = df_test['original_message'].values.astype(str)\n",
    "## get target\n",
    "y_train = df_train['author'].values.astype(str)\n",
    "y_valid = df_valid['author'].values.astype(str)\n",
    "y_test = df_test['author'].values.astype(str)"
   ]
  },
  {
   "cell_type": "markdown",
   "metadata": {
    "id": "aFrNpoDNOfe0"
   },
   "source": [
    "## Model Training"
   ]
  },
  {
   "cell_type": "code",
   "execution_count": 20,
   "metadata": {
    "colab": {
     "base_uri": "https://localhost:8080/",
     "height": 49,
     "referenced_widgets": [
      "774cc55481bd415ca43f4dc817ed4e5c",
      "52bfe3a56c754ae093ec58028fc07d9a",
      "0017c4f0c1f24f9da7a824c0afa67805",
      "6f585e87b0934a22a8ff038cfe55185a",
      "8914b083f8ad4354896cfc76f3046672",
      "8da6125e921f446eb6dd221dcbb55885",
      "c386ea2440574721a38058351ee8c423",
      "8e81bf5d885c4bb88fc659e7ccd056b2",
      "8b780fcac01d4ecea64ba102d983bf4c",
      "0215cbbab10c4aa981358854dc397319",
      "da846a9bebbe4dfb8c6da3ea538bf5c9"
     ]
    },
    "executionInfo": {
     "elapsed": 758,
     "status": "ok",
     "timestamp": 1638500026749,
     "user": {
      "displayName": "Kateryna Drogaieva",
      "photoUrl": "https://lh3.googleusercontent.com/a-/AOh14GjB1LQYJH97Lqm6RsCcAADFgzEAa0YxMUT7P4mjlA=s64",
      "userId": "10877377912113147805"
     },
     "user_tz": 480
    },
    "id": "BTu1qzqSDuV7",
    "outputId": "4493b91d-4195-4acc-e3d4-4f11a3ed3427"
   },
   "outputs": [
    {
     "data": {
      "application/vnd.jupyter.widget-view+json": {
       "model_id": "774cc55481bd415ca43f4dc817ed4e5c",
       "version_major": 2,
       "version_minor": 0
      },
      "text/plain": [
       "Downloading:   0%|          | 0.00/481 [00:00<?, ?B/s]"
      ]
     },
     "metadata": {},
     "output_type": "display_data"
    }
   ],
   "source": [
    "MODEL_NAME = 'blinoff/roberta-base-russian-v0'\n",
    "t = text.Transformer(MODEL_NAME, maxlen=256)"
   ]
  },
  {
   "cell_type": "code",
   "execution_count": 21,
   "metadata": {
    "colab": {
     "base_uri": "https://localhost:8080/",
     "height": 468,
     "referenced_widgets": [
      "1e661d80db9a4e7db45bf7eeaac8264a",
      "0c6673c7e52d473d849468250ba1f08a",
      "a58941f0cb34409ab42e09d56206863f",
      "0b5e875b32b24a41b5585ee658d023cc",
      "7f004eab81f04048be665ffcac387e39",
      "3c3f88c0f3bb42b6b7691f2fc5154f63",
      "446450a3c0fe49e7b5a93850803645df",
      "e6dc870cb7814fd3ad78031a1b30cb73",
      "42bf7928cbf148b299d9b71922cb84c9",
      "1db41dff7257469b9ecb336280cd2c99",
      "4afccd9c57ae4fcbb5b8355ab40bb9bf",
      "a71a2d4eeed641d6b3914851333fa093",
      "4c66f56ae7044525a448943094349582",
      "91948b6ef06545a5a1b21bd2b601c0ca",
      "cbe6260b2c1245b7b37afd7f00a775d2",
      "f6f77902e86f4ca293966e14ace338a7",
      "a91ff072af4840acac2f04114bba60db",
      "00d44ef92c454ac780e8ced0147b986a",
      "772220888e3142b48168993e9d5f6941",
      "5c4da4cd25524291959474d6f3c940d2",
      "ae7d85550ee94068b180773b783e15a5",
      "4ca21107cce9472095599ca5ee2c1aa6",
      "508be04dd20147b2a22c6f5436700f2a",
      "d7ecb224c03d4363ac6da2c428ede76f",
      "57a579add7db4cc587dcf348366608dc",
      "9a1a1d38e3c44f2c8e9f205f869b3496",
      "7a79a9e348044c75869e9c6a51596dde",
      "0346dd9f81f14f39bf922f511e5959e9",
      "6195158af0984405adc7ef1e184c68a7",
      "cac8447758bc40dcae9c96f16e0574be",
      "d6f1964c0bbe432198b3568faa260f8c",
      "1646334eae4c466cac55e35c033401c7",
      "8a93249d496a43e495546b888145deec",
      "38dfc51bafd942f59ff56d45093a0fef",
      "1926e80284d1493fb3bf5b705d3dc46a",
      "6cdb24adb12e426c8c94b98fe19e9a83",
      "8b8f1d5d73604e38a7254ede1b025da0",
      "06a7f8bfd7e34dbebe424358c4a38047",
      "6fb9cb8ae1564f5a9cde2180ab4afe2d",
      "213d6b7bed2642e0945f91e018c9235b",
      "190c2eeda89f408da80d5f6f026d18c6",
      "ebbaa89c8c4c4de78aea3485258a90b6",
      "45077ea08dcb4cb9a3daffcbd5494196",
      "e14a21022c6542628c4a1ae17664d1d9"
     ]
    },
    "executionInfo": {
     "elapsed": 6229,
     "status": "ok",
     "timestamp": 1638500032975,
     "user": {
      "displayName": "Kateryna Drogaieva",
      "photoUrl": "https://lh3.googleusercontent.com/a-/AOh14GjB1LQYJH97Lqm6RsCcAADFgzEAa0YxMUT7P4mjlA=s64",
      "userId": "10877377912113147805"
     },
     "user_tz": 480
    },
    "id": "bhdfZwATElNR",
    "outputId": "1088f0a4-6471-4967-cd2a-a8100593a959"
   },
   "outputs": [
    {
     "name": "stdout",
     "output_type": "stream",
     "text": [
      "preprocessing train...\n",
      "language: ru\n",
      "train sequence lengths:\n",
      "\tmean : 69\n",
      "\t95percentile : 156\n",
      "\t99percentile : 289\n"
     ]
    },
    {
     "data": {
      "application/vnd.jupyter.widget-view+json": {
       "model_id": "1e661d80db9a4e7db45bf7eeaac8264a",
       "version_major": 2,
       "version_minor": 0
      },
      "text/plain": [
       "Downloading:   0%|          | 0.00/16.0 [00:00<?, ?B/s]"
      ]
     },
     "metadata": {},
     "output_type": "display_data"
    },
    {
     "data": {
      "application/vnd.jupyter.widget-view+json": {
       "model_id": "a71a2d4eeed641d6b3914851333fa093",
       "version_major": 2,
       "version_minor": 0
      },
      "text/plain": [
       "Downloading:   0%|          | 0.00/1.68M [00:00<?, ?B/s]"
      ]
     },
     "metadata": {},
     "output_type": "display_data"
    },
    {
     "data": {
      "application/vnd.jupyter.widget-view+json": {
       "model_id": "508be04dd20147b2a22c6f5436700f2a",
       "version_major": 2,
       "version_minor": 0
      },
      "text/plain": [
       "Downloading:   0%|          | 0.00/1.34M [00:00<?, ?B/s]"
      ]
     },
     "metadata": {},
     "output_type": "display_data"
    },
    {
     "data": {
      "application/vnd.jupyter.widget-view+json": {
       "model_id": "38dfc51bafd942f59ff56d45093a0fef",
       "version_major": 2,
       "version_minor": 0
      },
      "text/plain": [
       "Downloading:   0%|          | 0.00/150 [00:00<?, ?B/s]"
      ]
     },
     "metadata": {},
     "output_type": "display_data"
    },
    {
     "data": {
      "text/html": [],
      "text/plain": [
       "<IPython.core.display.HTML object>"
      ]
     },
     "metadata": {},
     "output_type": "display_data"
    },
    {
     "name": "stdout",
     "output_type": "stream",
     "text": [
      "Is Multi-Label? False\n",
      "preprocessing test...\n",
      "language: ru\n",
      "test sequence lengths:\n",
      "\tmean : 66\n",
      "\t95percentile : 166\n",
      "\t99percentile : 264\n"
     ]
    },
    {
     "data": {
      "text/html": [],
      "text/plain": [
       "<IPython.core.display.HTML object>"
      ]
     },
     "metadata": {},
     "output_type": "display_data"
    },
    {
     "name": "stdout",
     "output_type": "stream",
     "text": [
      "preprocessing test...\n",
      "language: ru\n",
      "test sequence lengths:\n",
      "\tmean : 69\n",
      "\t95percentile : 162\n",
      "\t99percentile : 304\n"
     ]
    },
    {
     "data": {
      "text/html": [],
      "text/plain": [
       "<IPython.core.display.HTML object>"
      ]
     },
     "metadata": {},
     "output_type": "display_data"
    }
   ],
   "source": [
    "trn = t.preprocess_train(x_train, y_train)\n",
    "val = t.preprocess_test(x_valid, y_valid)\n",
    "test = t.preprocess_test(x_test, y_test)"
   ]
  },
  {
   "cell_type": "code",
   "execution_count": 22,
   "metadata": {
    "colab": {
     "base_uri": "https://localhost:8080/",
     "height": 528,
     "referenced_widgets": [
      "efd5b90d7c82403a8a3d89913e236d56",
      "57df30b43585417d8ad1259b8c388ddc",
      "5391b23394a14adca9af01c30328f616",
      "69c20f27bf724ef8845e347ada5d827a",
      "05e93ad22ecc463cb1eb08ee0f25e52a",
      "8a10ff5da16349618d968ff955b1b88b",
      "81d2bf19430c422faefa52eeadac7dc7",
      "75978bb07fb9425eb71c680b67d11bc7",
      "67d662888b354295b08250fceddba855",
      "18b9a002b8334ac698afff56d8a7fd44",
      "01ec6acd767b40df939df16edd620333"
     ]
    },
    "executionInfo": {
     "elapsed": 202953,
     "status": "ok",
     "timestamp": 1638500235911,
     "user": {
      "displayName": "Kateryna Drogaieva",
      "photoUrl": "https://lh3.googleusercontent.com/a-/AOh14GjB1LQYJH97Lqm6RsCcAADFgzEAa0YxMUT7P4mjlA=s64",
      "userId": "10877377912113147805"
     },
     "user_tz": 480
    },
    "id": "M3caczh8Em5g",
    "outputId": "4400c91a-fef3-4eaa-8d8b-d711b7a159bf"
   },
   "outputs": [
    {
     "name": "stderr",
     "output_type": "stream",
     "text": [
      "404 Client Error: Not Found for url: https://huggingface.co/blinoff/roberta-base-russian-v0/resolve/main/tf_model.h5\n",
      "/usr/local/lib/python3.7/dist-packages/ktrain/text/preprocessor.py:1067: UserWarning: Could not find Tensorflow version of model.  Attempting to download/load PyTorch version as TensorFlow model using from_pt=True. You will need PyTorch installed for this.\n",
      "  warnings.warn('Could not find Tensorflow version of model.  Attempting to download/load PyTorch version as TensorFlow model using from_pt=True. ' +\\\n"
     ]
    },
    {
     "data": {
      "application/vnd.jupyter.widget-view+json": {
       "model_id": "efd5b90d7c82403a8a3d89913e236d56",
       "version_major": 2,
       "version_minor": 0
      },
      "text/plain": [
       "Downloading:   0%|          | 0.00/500M [00:00<?, ?B/s]"
      ]
     },
     "metadata": {},
     "output_type": "display_data"
    },
    {
     "name": "stdout",
     "output_type": "stream",
     "text": [
      "\n",
      "\n",
      "begin training using onecycle policy with max lr of 1e-05...\n",
      "Epoch 1/10\n",
      "28/28 [==============================] - 27s 325ms/step - loss: 1.0997 - accuracy: 0.3590 - val_loss: 1.0958 - val_accuracy: 0.3272\n",
      "Epoch 2/10\n",
      "28/28 [==============================] - 7s 229ms/step - loss: 1.0913 - accuracy: 0.3794 - val_loss: 1.0714 - val_accuracy: 0.5409\n",
      "Epoch 3/10\n",
      "28/28 [==============================] - 7s 230ms/step - loss: 1.0599 - accuracy: 0.4553 - val_loss: 1.0321 - val_accuracy: 0.4485\n",
      "Epoch 4/10\n",
      "28/28 [==============================] - 7s 229ms/step - loss: 0.9962 - accuracy: 0.5311 - val_loss: 0.9772 - val_accuracy: 0.5646\n",
      "Epoch 5/10\n",
      "28/28 [==============================] - 7s 229ms/step - loss: 0.9140 - accuracy: 0.5640 - val_loss: 0.9003 - val_accuracy: 0.5119\n",
      "Epoch 6/10\n",
      "28/28 [==============================] - 7s 229ms/step - loss: 0.8079 - accuracy: 0.6308 - val_loss: 0.9010 - val_accuracy: 0.5752\n",
      "Epoch 7/10\n",
      "28/28 [==============================] - 7s 229ms/step - loss: 0.7196 - accuracy: 0.6863 - val_loss: 0.8941 - val_accuracy: 0.5805\n",
      "Epoch 8/10\n",
      "28/28 [==============================] - 7s 230ms/step - loss: 0.6084 - accuracy: 0.7542 - val_loss: 0.8962 - val_accuracy: 0.6095\n",
      "Epoch 9/10\n",
      "28/28 [==============================] - 7s 229ms/step - loss: 0.5244 - accuracy: 0.7860 - val_loss: 0.9402 - val_accuracy: 0.5963\n",
      "Epoch 10/10\n",
      "28/28 [==============================] - 7s 230ms/step - loss: 0.4632 - accuracy: 0.8131 - val_loss: 0.9554 - val_accuracy: 0.5989\n"
     ]
    },
    {
     "data": {
      "text/plain": [
       "<keras.callbacks.History at 0x7f35d06be350>"
      ]
     },
     "execution_count": 22,
     "metadata": {},
     "output_type": "execute_result"
    }
   ],
   "source": [
    "model = t.get_classifier()\n",
    "learner = ktrain.get_learner(model, train_data=trn, val_data=val, batch_size=32)\n",
    "learner.fit_onecycle(lr=1e-5, epochs=10)"
   ]
  },
  {
   "cell_type": "markdown",
   "metadata": {
    "id": "TAHZ1V05OiS7"
   },
   "source": [
    "## Results"
   ]
  },
  {
   "cell_type": "code",
   "execution_count": 23,
   "metadata": {
    "colab": {
     "base_uri": "https://localhost:8080/"
    },
    "executionInfo": {
     "elapsed": 15030,
     "status": "ok",
     "timestamp": 1638500250926,
     "user": {
      "displayName": "Kateryna Drogaieva",
      "photoUrl": "https://lh3.googleusercontent.com/a-/AOh14GjB1LQYJH97Lqm6RsCcAADFgzEAa0YxMUT7P4mjlA=s64",
      "userId": "10877377912113147805"
     },
     "user_tz": 480
    },
    "id": "yy8E4XunFqlW",
    "outputId": "8cef4cf8-f347-460b-e3d9-bad5da3b248b"
   },
   "outputs": [
    {
     "name": "stdout",
     "output_type": "stream",
     "text": [
      "               precision    recall  f1-score   support\n",
      "\n",
      "Lizon \" **K**       0.35      0.32      0.33       147\n",
      "     lizon **       0.49      0.56      0.53       185\n",
      "  Кассиапея D       0.68      0.64      0.66       209\n",
      "\n",
      "     accuracy                           0.52       541\n",
      "    macro avg       0.51      0.51      0.51       541\n",
      " weighted avg       0.53      0.52      0.52       541\n",
      "\n"
     ]
    }
   ],
   "source": [
    "test_confusion_matrix=learner.validate(val_data=test, class_names=t.get_classes())"
   ]
  },
  {
   "cell_type": "markdown",
   "metadata": {
    "id": "Mk2wC1IjOm2l"
   },
   "source": [
    "### Confusion Matrix"
   ]
  },
  {
   "cell_type": "code",
   "execution_count": 24,
   "metadata": {
    "colab": {
     "base_uri": "https://localhost:8080/",
     "height": 142
    },
    "executionInfo": {
     "elapsed": 42,
     "status": "ok",
     "timestamp": 1638500250941,
     "user": {
      "displayName": "Kateryna Drogaieva",
      "photoUrl": "https://lh3.googleusercontent.com/a-/AOh14GjB1LQYJH97Lqm6RsCcAADFgzEAa0YxMUT7P4mjlA=s64",
      "userId": "10877377912113147805"
     },
     "user_tz": 480
    },
    "id": "dJE426hEIll5",
    "outputId": "7e4a9707-b32d-41cd-eef9-09c5a23b3b1f"
   },
   "outputs": [
    {
     "data": {
      "text/html": [
       "<div>\n",
       "<style scoped>\n",
       "    .dataframe tbody tr th:only-of-type {\n",
       "        vertical-align: middle;\n",
       "    }\n",
       "\n",
       "    .dataframe tbody tr th {\n",
       "        vertical-align: top;\n",
       "    }\n",
       "\n",
       "    .dataframe thead th {\n",
       "        text-align: right;\n",
       "    }\n",
       "</style>\n",
       "<table border=\"1\" class=\"dataframe\">\n",
       "  <thead>\n",
       "    <tr style=\"text-align: right;\">\n",
       "      <th></th>\n",
       "      <th>Lizon \" **K**</th>\n",
       "      <th>lizon **</th>\n",
       "      <th>Кассиапея D</th>\n",
       "    </tr>\n",
       "  </thead>\n",
       "  <tbody>\n",
       "    <tr>\n",
       "      <th>Lizon \" **K**</th>\n",
       "      <td>47</td>\n",
       "      <td>69</td>\n",
       "      <td>31</td>\n",
       "    </tr>\n",
       "    <tr>\n",
       "      <th>lizon **</th>\n",
       "      <td>49</td>\n",
       "      <td>104</td>\n",
       "      <td>32</td>\n",
       "    </tr>\n",
       "    <tr>\n",
       "      <th>Кассиапея D</th>\n",
       "      <td>38</td>\n",
       "      <td>38</td>\n",
       "      <td>133</td>\n",
       "    </tr>\n",
       "  </tbody>\n",
       "</table>\n",
       "</div>"
      ],
      "text/plain": [
       "               Lizon \" **K**  lizon **  Кассиапея D\n",
       "Lizon \" **K**             47        69           31\n",
       "lizon **                  49       104           32\n",
       "Кассиапея D               38        38          133"
      ]
     },
     "execution_count": 24,
     "metadata": {},
     "output_type": "execute_result"
    }
   ],
   "source": [
    "test_confusion_matrix_df=pd.DataFrame(data=test_confusion_matrix,index=t.get_classes(),columns=t.get_classes())\n",
    "test_confusion_matrix_df"
   ]
  },
  {
   "cell_type": "markdown",
   "metadata": {
    "id": "qUOFkCbOOs5n"
   },
   "source": [
    "### Precision, Recall and F1"
   ]
  },
  {
   "cell_type": "code",
   "execution_count": 25,
   "metadata": {
    "colab": {
     "base_uri": "https://localhost:8080/"
    },
    "executionInfo": {
     "elapsed": 3613,
     "status": "ok",
     "timestamp": 1638500254530,
     "user": {
      "displayName": "Kateryna Drogaieva",
      "photoUrl": "https://lh3.googleusercontent.com/a-/AOh14GjB1LQYJH97Lqm6RsCcAADFgzEAa0YxMUT7P4mjlA=s64",
      "userId": "10877377912113147805"
     },
     "user_tz": 480
    },
    "id": "m0G91oK3MlqZ",
    "outputId": "54cc9393-dfbb-430d-d935-95234f834d0b"
   },
   "outputs": [
    {
     "name": "stdout",
     "output_type": "stream",
     "text": [
      "Collecting pycm\n",
      "  Downloading pycm-3.3-py2.py3-none-any.whl (65 kB)\n",
      "\u001b[K     |████████████████████████████████| 65 kB 2.5 MB/s eta 0:00:011\n",
      "\u001b[?25hRequirement already satisfied: numpy>=1.9.0 in /usr/local/lib/python3.7/dist-packages (from pycm) (1.19.5)\n",
      "Collecting art>=1.8\n",
      "  Downloading art-5.3-py2.py3-none-any.whl (574 kB)\n",
      "\u001b[K     |████████████████████████████████| 574 kB 10.4 MB/s \n",
      "\u001b[?25hInstalling collected packages: art, pycm\n",
      "Successfully installed art-5.3 pycm-3.3\n"
     ]
    }
   ],
   "source": [
    "!pip install pycm"
   ]
  },
  {
   "cell_type": "code",
   "execution_count": 26,
   "metadata": {
    "executionInfo": {
     "elapsed": 35,
     "status": "ok",
     "timestamp": 1638500254533,
     "user": {
      "displayName": "Kateryna Drogaieva",
      "photoUrl": "https://lh3.googleusercontent.com/a-/AOh14GjB1LQYJH97Lqm6RsCcAADFgzEAa0YxMUT7P4mjlA=s64",
      "userId": "10877377912113147805"
     },
     "user_tz": 480
    },
    "id": "Zvz1ILRLMsls"
   },
   "outputs": [],
   "source": [
    "import pycm as cm\n",
    "d_confusion_matrix={}\n",
    "for i in range(len(t.get_classes())):\n",
    "  d_confusion_matrix[t.get_classes()[i]]=dict(zip(t.get_classes(), test_confusion_matrix[i]))\n",
    "d_confusion_matrix=eval(str(d_confusion_matrix))  \n",
    "model_cm=cm.ConfusionMatrix(matrix=d_confusion_matrix)"
   ]
  },
  {
   "cell_type": "code",
   "execution_count": 27,
   "metadata": {
    "colab": {
     "base_uri": "https://localhost:8080/",
     "height": 142
    },
    "executionInfo": {
     "elapsed": 34,
     "status": "ok",
     "timestamp": 1638500254535,
     "user": {
      "displayName": "Kateryna Drogaieva",
      "photoUrl": "https://lh3.googleusercontent.com/a-/AOh14GjB1LQYJH97Lqm6RsCcAADFgzEAa0YxMUT7P4mjlA=s64",
      "userId": "10877377912113147805"
     },
     "user_tz": 480
    },
    "id": "vufOIQO9NZKG",
    "outputId": "586b10bf-be54-4719-cb3c-b1912d35eaef"
   },
   "outputs": [
    {
     "data": {
      "text/html": [
       "<div>\n",
       "<style scoped>\n",
       "    .dataframe tbody tr th:only-of-type {\n",
       "        vertical-align: middle;\n",
       "    }\n",
       "\n",
       "    .dataframe tbody tr th {\n",
       "        vertical-align: top;\n",
       "    }\n",
       "\n",
       "    .dataframe thead th {\n",
       "        text-align: right;\n",
       "    }\n",
       "</style>\n",
       "<table border=\"1\" class=\"dataframe\">\n",
       "  <thead>\n",
       "    <tr style=\"text-align: right;\">\n",
       "      <th></th>\n",
       "      <th>author</th>\n",
       "      <th>cnt_total</th>\n",
       "      <th>cnt_train</th>\n",
       "      <th>cnt_valid</th>\n",
       "      <th>cnt_test</th>\n",
       "      <th>Precision</th>\n",
       "      <th>Recall</th>\n",
       "      <th>F1</th>\n",
       "    </tr>\n",
       "  </thead>\n",
       "  <tbody>\n",
       "    <tr>\n",
       "      <th>2</th>\n",
       "      <td>Кассиапея D</td>\n",
       "      <td>635</td>\n",
       "      <td>302</td>\n",
       "      <td>124</td>\n",
       "      <td>209</td>\n",
       "      <td>0.678571</td>\n",
       "      <td>0.636364</td>\n",
       "      <td>0.656790</td>\n",
       "    </tr>\n",
       "    <tr>\n",
       "      <th>1</th>\n",
       "      <td>lizon **</td>\n",
       "      <td>613</td>\n",
       "      <td>302</td>\n",
       "      <td>126</td>\n",
       "      <td>185</td>\n",
       "      <td>0.492891</td>\n",
       "      <td>0.562162</td>\n",
       "      <td>0.525253</td>\n",
       "    </tr>\n",
       "    <tr>\n",
       "      <th>0</th>\n",
       "      <td>Lizon \" **K**</td>\n",
       "      <td>555</td>\n",
       "      <td>279</td>\n",
       "      <td>129</td>\n",
       "      <td>147</td>\n",
       "      <td>0.350746</td>\n",
       "      <td>0.319728</td>\n",
       "      <td>0.334520</td>\n",
       "    </tr>\n",
       "  </tbody>\n",
       "</table>\n",
       "</div>"
      ],
      "text/plain": [
       "          author  cnt_total  cnt_train  ...  Precision    Recall        F1\n",
       "2    Кассиапея D        635        302  ...   0.678571  0.636364  0.656790\n",
       "1       lizon **        613        302  ...   0.492891  0.562162  0.525253\n",
       "0  Lizon \" **K**        555        279  ...   0.350746  0.319728  0.334520\n",
       "\n",
       "[3 rows x 8 columns]"
      ]
     },
     "execution_count": 27,
     "metadata": {},
     "output_type": "execute_result"
    }
   ],
   "source": [
    "results['Precision'] = results['author'].map(model_cm.PPV)\n",
    "results['Recall'] = results['author'].map(model_cm.TPR)\n",
    "results['F1'] = results['author'].map(model_cm.F1)\n",
    "results.sort_values('cnt_total',ascending=False)"
   ]
  },
  {
   "cell_type": "markdown",
   "metadata": {
    "id": "wyZK1lndOySv"
   },
   "source": [
    "### Weighted F1"
   ]
  },
  {
   "cell_type": "code",
   "execution_count": 28,
   "metadata": {
    "colab": {
     "base_uri": "https://localhost:8080/"
    },
    "executionInfo": {
     "elapsed": 41,
     "status": "ok",
     "timestamp": 1638500254546,
     "user": {
      "displayName": "Kateryna Drogaieva",
      "photoUrl": "https://lh3.googleusercontent.com/a-/AOh14GjB1LQYJH97Lqm6RsCcAADFgzEAa0YxMUT7P4mjlA=s64",
      "userId": "10877377912113147805"
     },
     "user_tz": 480
    },
    "id": "NDlQijHhOUad",
    "outputId": "bfe88958-48d9-4919-d3cb-17ff02c54dca"
   },
   "outputs": [
    {
     "data": {
      "text/plain": [
       "0.5242425696827829"
      ]
     },
     "execution_count": 28,
     "metadata": {},
     "output_type": "execute_result"
    }
   ],
   "source": [
    "model_cm.weighted_average('F1')"
   ]
  },
  {
   "cell_type": "markdown",
   "metadata": {
    "id": "bLn-WnCwO1kg"
   },
   "source": [
    "### Kappa"
   ]
  },
  {
   "cell_type": "code",
   "execution_count": 29,
   "metadata": {
    "colab": {
     "base_uri": "https://localhost:8080/"
    },
    "executionInfo": {
     "elapsed": 35,
     "status": "ok",
     "timestamp": 1638500254548,
     "user": {
      "displayName": "Kateryna Drogaieva",
      "photoUrl": "https://lh3.googleusercontent.com/a-/AOh14GjB1LQYJH97Lqm6RsCcAADFgzEAa0YxMUT7P4mjlA=s64",
      "userId": "10877377912113147805"
     },
     "user_tz": 480
    },
    "id": "s7UzMhKIObcb",
    "outputId": "4f63fddc-76a2-4770-d43c-b65afe34fda5"
   },
   "outputs": [
    {
     "data": {
      "text/plain": [
       "0.2795413091240724"
      ]
     },
     "execution_count": 29,
     "metadata": {},
     "output_type": "execute_result"
    }
   ],
   "source": [
    "model_cm.Kappa"
   ]
  }
 ],
 "metadata": {
  "accelerator": "GPU",
  "colab": {
   "authorship_tag": "ABX9TyMdo/YnRX9nCuSTLQj7Iwk3",
   "collapsed_sections": [],
   "machine_shape": "hm",
   "name": "lizon_dissimilarity_3MediumAccounts_model.ipynb",
   "provenance": []
  },
  "kernelspec": {
   "display_name": "Python 3",
   "language": "python",
   "name": "python3"
  },
  "language_info": {
   "codemirror_mode": {
    "name": "ipython",
    "version": 3
   },
   "file_extension": ".py",
   "mimetype": "text/x-python",
   "name": "python",
   "nbconvert_exporter": "python",
   "pygments_lexer": "ipython3",
   "version": "3.8.5"
  },
  "widgets": {
   "application/vnd.jupyter.widget-state+json": {
    "0017c4f0c1f24f9da7a824c0afa67805": {
     "model_module": "@jupyter-widgets/controls",
     "model_module_version": "1.5.0",
     "model_name": "HTMLModel",
     "state": {
      "_dom_classes": [],
      "_model_module": "@jupyter-widgets/controls",
      "_model_module_version": "1.5.0",
      "_model_name": "HTMLModel",
      "_view_count": null,
      "_view_module": "@jupyter-widgets/controls",
      "_view_module_version": "1.5.0",
      "_view_name": "HTMLView",
      "description": "",
      "description_tooltip": null,
      "layout": "IPY_MODEL_c386ea2440574721a38058351ee8c423",
      "placeholder": "​",
      "style": "IPY_MODEL_8da6125e921f446eb6dd221dcbb55885",
      "value": "Downloading: 100%"
     }
    },
    "00d44ef92c454ac780e8ced0147b986a": {
     "model_module": "@jupyter-widgets/base",
     "model_module_version": "1.2.0",
     "model_name": "LayoutModel",
     "state": {
      "_model_module": "@jupyter-widgets/base",
      "_model_module_version": "1.2.0",
      "_model_name": "LayoutModel",
      "_view_count": null,
      "_view_module": "@jupyter-widgets/base",
      "_view_module_version": "1.2.0",
      "_view_name": "LayoutView",
      "align_content": null,
      "align_items": null,
      "align_self": null,
      "border": null,
      "bottom": null,
      "display": null,
      "flex": null,
      "flex_flow": null,
      "grid_area": null,
      "grid_auto_columns": null,
      "grid_auto_flow": null,
      "grid_auto_rows": null,
      "grid_column": null,
      "grid_gap": null,
      "grid_row": null,
      "grid_template_areas": null,
      "grid_template_columns": null,
      "grid_template_rows": null,
      "height": null,
      "justify_content": null,
      "justify_items": null,
      "left": null,
      "margin": null,
      "max_height": null,
      "max_width": null,
      "min_height": null,
      "min_width": null,
      "object_fit": null,
      "object_position": null,
      "order": null,
      "overflow": null,
      "overflow_x": null,
      "overflow_y": null,
      "padding": null,
      "right": null,
      "top": null,
      "visibility": null,
      "width": null
     }
    },
    "01ec6acd767b40df939df16edd620333": {
     "model_module": "@jupyter-widgets/base",
     "model_module_version": "1.2.0",
     "model_name": "LayoutModel",
     "state": {
      "_model_module": "@jupyter-widgets/base",
      "_model_module_version": "1.2.0",
      "_model_name": "LayoutModel",
      "_view_count": null,
      "_view_module": "@jupyter-widgets/base",
      "_view_module_version": "1.2.0",
      "_view_name": "LayoutView",
      "align_content": null,
      "align_items": null,
      "align_self": null,
      "border": null,
      "bottom": null,
      "display": null,
      "flex": null,
      "flex_flow": null,
      "grid_area": null,
      "grid_auto_columns": null,
      "grid_auto_flow": null,
      "grid_auto_rows": null,
      "grid_column": null,
      "grid_gap": null,
      "grid_row": null,
      "grid_template_areas": null,
      "grid_template_columns": null,
      "grid_template_rows": null,
      "height": null,
      "justify_content": null,
      "justify_items": null,
      "left": null,
      "margin": null,
      "max_height": null,
      "max_width": null,
      "min_height": null,
      "min_width": null,
      "object_fit": null,
      "object_position": null,
      "order": null,
      "overflow": null,
      "overflow_x": null,
      "overflow_y": null,
      "padding": null,
      "right": null,
      "top": null,
      "visibility": null,
      "width": null
     }
    },
    "0215cbbab10c4aa981358854dc397319": {
     "model_module": "@jupyter-widgets/controls",
     "model_module_version": "1.5.0",
     "model_name": "DescriptionStyleModel",
     "state": {
      "_model_module": "@jupyter-widgets/controls",
      "_model_module_version": "1.5.0",
      "_model_name": "DescriptionStyleModel",
      "_view_count": null,
      "_view_module": "@jupyter-widgets/base",
      "_view_module_version": "1.2.0",
      "_view_name": "StyleView",
      "description_width": ""
     }
    },
    "0346dd9f81f14f39bf922f511e5959e9": {
     "model_module": "@jupyter-widgets/controls",
     "model_module_version": "1.5.0",
     "model_name": "DescriptionStyleModel",
     "state": {
      "_model_module": "@jupyter-widgets/controls",
      "_model_module_version": "1.5.0",
      "_model_name": "DescriptionStyleModel",
      "_view_count": null,
      "_view_module": "@jupyter-widgets/base",
      "_view_module_version": "1.2.0",
      "_view_name": "StyleView",
      "description_width": ""
     }
    },
    "05e93ad22ecc463cb1eb08ee0f25e52a": {
     "model_module": "@jupyter-widgets/controls",
     "model_module_version": "1.5.0",
     "model_name": "HTMLModel",
     "state": {
      "_dom_classes": [],
      "_model_module": "@jupyter-widgets/controls",
      "_model_module_version": "1.5.0",
      "_model_name": "HTMLModel",
      "_view_count": null,
      "_view_module": "@jupyter-widgets/controls",
      "_view_module_version": "1.5.0",
      "_view_name": "HTMLView",
      "description": "",
      "description_tooltip": null,
      "layout": "IPY_MODEL_01ec6acd767b40df939df16edd620333",
      "placeholder": "​",
      "style": "IPY_MODEL_18b9a002b8334ac698afff56d8a7fd44",
      "value": " 500M/500M [00:14&lt;00:00, 51.6MB/s]"
     }
    },
    "06a7f8bfd7e34dbebe424358c4a38047": {
     "model_module": "@jupyter-widgets/controls",
     "model_module_version": "1.5.0",
     "model_name": "HTMLModel",
     "state": {
      "_dom_classes": [],
      "_model_module": "@jupyter-widgets/controls",
      "_model_module_version": "1.5.0",
      "_model_name": "HTMLModel",
      "_view_count": null,
      "_view_module": "@jupyter-widgets/controls",
      "_view_module_version": "1.5.0",
      "_view_name": "HTMLView",
      "description": "",
      "description_tooltip": null,
      "layout": "IPY_MODEL_e14a21022c6542628c4a1ae17664d1d9",
      "placeholder": "​",
      "style": "IPY_MODEL_45077ea08dcb4cb9a3daffcbd5494196",
      "value": " 150/150 [00:00&lt;00:00, 5.70kB/s]"
     }
    },
    "0b5e875b32b24a41b5585ee658d023cc": {
     "model_module": "@jupyter-widgets/controls",
     "model_module_version": "1.5.0",
     "model_name": "FloatProgressModel",
     "state": {
      "_dom_classes": [],
      "_model_module": "@jupyter-widgets/controls",
      "_model_module_version": "1.5.0",
      "_model_name": "FloatProgressModel",
      "_view_count": null,
      "_view_module": "@jupyter-widgets/controls",
      "_view_module_version": "1.5.0",
      "_view_name": "ProgressView",
      "bar_style": "success",
      "description": "",
      "description_tooltip": null,
      "layout": "IPY_MODEL_42bf7928cbf148b299d9b71922cb84c9",
      "max": 16,
      "min": 0,
      "orientation": "horizontal",
      "style": "IPY_MODEL_e6dc870cb7814fd3ad78031a1b30cb73",
      "value": 16
     }
    },
    "0c6673c7e52d473d849468250ba1f08a": {
     "model_module": "@jupyter-widgets/base",
     "model_module_version": "1.2.0",
     "model_name": "LayoutModel",
     "state": {
      "_model_module": "@jupyter-widgets/base",
      "_model_module_version": "1.2.0",
      "_model_name": "LayoutModel",
      "_view_count": null,
      "_view_module": "@jupyter-widgets/base",
      "_view_module_version": "1.2.0",
      "_view_name": "LayoutView",
      "align_content": null,
      "align_items": null,
      "align_self": null,
      "border": null,
      "bottom": null,
      "display": null,
      "flex": null,
      "flex_flow": null,
      "grid_area": null,
      "grid_auto_columns": null,
      "grid_auto_flow": null,
      "grid_auto_rows": null,
      "grid_column": null,
      "grid_gap": null,
      "grid_row": null,
      "grid_template_areas": null,
      "grid_template_columns": null,
      "grid_template_rows": null,
      "height": null,
      "justify_content": null,
      "justify_items": null,
      "left": null,
      "margin": null,
      "max_height": null,
      "max_width": null,
      "min_height": null,
      "min_width": null,
      "object_fit": null,
      "object_position": null,
      "order": null,
      "overflow": null,
      "overflow_x": null,
      "overflow_y": null,
      "padding": null,
      "right": null,
      "top": null,
      "visibility": null,
      "width": null
     }
    },
    "1646334eae4c466cac55e35c033401c7": {
     "model_module": "@jupyter-widgets/controls",
     "model_module_version": "1.5.0",
     "model_name": "DescriptionStyleModel",
     "state": {
      "_model_module": "@jupyter-widgets/controls",
      "_model_module_version": "1.5.0",
      "_model_name": "DescriptionStyleModel",
      "_view_count": null,
      "_view_module": "@jupyter-widgets/base",
      "_view_module_version": "1.2.0",
      "_view_name": "StyleView",
      "description_width": ""
     }
    },
    "18b9a002b8334ac698afff56d8a7fd44": {
     "model_module": "@jupyter-widgets/controls",
     "model_module_version": "1.5.0",
     "model_name": "DescriptionStyleModel",
     "state": {
      "_model_module": "@jupyter-widgets/controls",
      "_model_module_version": "1.5.0",
      "_model_name": "DescriptionStyleModel",
      "_view_count": null,
      "_view_module": "@jupyter-widgets/base",
      "_view_module_version": "1.2.0",
      "_view_name": "StyleView",
      "description_width": ""
     }
    },
    "190c2eeda89f408da80d5f6f026d18c6": {
     "model_module": "@jupyter-widgets/controls",
     "model_module_version": "1.5.0",
     "model_name": "ProgressStyleModel",
     "state": {
      "_model_module": "@jupyter-widgets/controls",
      "_model_module_version": "1.5.0",
      "_model_name": "ProgressStyleModel",
      "_view_count": null,
      "_view_module": "@jupyter-widgets/base",
      "_view_module_version": "1.2.0",
      "_view_name": "StyleView",
      "bar_color": null,
      "description_width": ""
     }
    },
    "1926e80284d1493fb3bf5b705d3dc46a": {
     "model_module": "@jupyter-widgets/base",
     "model_module_version": "1.2.0",
     "model_name": "LayoutModel",
     "state": {
      "_model_module": "@jupyter-widgets/base",
      "_model_module_version": "1.2.0",
      "_model_name": "LayoutModel",
      "_view_count": null,
      "_view_module": "@jupyter-widgets/base",
      "_view_module_version": "1.2.0",
      "_view_name": "LayoutView",
      "align_content": null,
      "align_items": null,
      "align_self": null,
      "border": null,
      "bottom": null,
      "display": null,
      "flex": null,
      "flex_flow": null,
      "grid_area": null,
      "grid_auto_columns": null,
      "grid_auto_flow": null,
      "grid_auto_rows": null,
      "grid_column": null,
      "grid_gap": null,
      "grid_row": null,
      "grid_template_areas": null,
      "grid_template_columns": null,
      "grid_template_rows": null,
      "height": null,
      "justify_content": null,
      "justify_items": null,
      "left": null,
      "margin": null,
      "max_height": null,
      "max_width": null,
      "min_height": null,
      "min_width": null,
      "object_fit": null,
      "object_position": null,
      "order": null,
      "overflow": null,
      "overflow_x": null,
      "overflow_y": null,
      "padding": null,
      "right": null,
      "top": null,
      "visibility": null,
      "width": null
     }
    },
    "1db41dff7257469b9ecb336280cd2c99": {
     "model_module": "@jupyter-widgets/controls",
     "model_module_version": "1.5.0",
     "model_name": "DescriptionStyleModel",
     "state": {
      "_model_module": "@jupyter-widgets/controls",
      "_model_module_version": "1.5.0",
      "_model_name": "DescriptionStyleModel",
      "_view_count": null,
      "_view_module": "@jupyter-widgets/base",
      "_view_module_version": "1.2.0",
      "_view_name": "StyleView",
      "description_width": ""
     }
    },
    "1e661d80db9a4e7db45bf7eeaac8264a": {
     "model_module": "@jupyter-widgets/controls",
     "model_module_version": "1.5.0",
     "model_name": "HBoxModel",
     "state": {
      "_dom_classes": [],
      "_model_module": "@jupyter-widgets/controls",
      "_model_module_version": "1.5.0",
      "_model_name": "HBoxModel",
      "_view_count": null,
      "_view_module": "@jupyter-widgets/controls",
      "_view_module_version": "1.5.0",
      "_view_name": "HBoxView",
      "box_style": "",
      "children": [
       "IPY_MODEL_a58941f0cb34409ab42e09d56206863f",
       "IPY_MODEL_0b5e875b32b24a41b5585ee658d023cc",
       "IPY_MODEL_7f004eab81f04048be665ffcac387e39"
      ],
      "layout": "IPY_MODEL_0c6673c7e52d473d849468250ba1f08a"
     }
    },
    "213d6b7bed2642e0945f91e018c9235b": {
     "model_module": "@jupyter-widgets/base",
     "model_module_version": "1.2.0",
     "model_name": "LayoutModel",
     "state": {
      "_model_module": "@jupyter-widgets/base",
      "_model_module_version": "1.2.0",
      "_model_name": "LayoutModel",
      "_view_count": null,
      "_view_module": "@jupyter-widgets/base",
      "_view_module_version": "1.2.0",
      "_view_name": "LayoutView",
      "align_content": null,
      "align_items": null,
      "align_self": null,
      "border": null,
      "bottom": null,
      "display": null,
      "flex": null,
      "flex_flow": null,
      "grid_area": null,
      "grid_auto_columns": null,
      "grid_auto_flow": null,
      "grid_auto_rows": null,
      "grid_column": null,
      "grid_gap": null,
      "grid_row": null,
      "grid_template_areas": null,
      "grid_template_columns": null,
      "grid_template_rows": null,
      "height": null,
      "justify_content": null,
      "justify_items": null,
      "left": null,
      "margin": null,
      "max_height": null,
      "max_width": null,
      "min_height": null,
      "min_width": null,
      "object_fit": null,
      "object_position": null,
      "order": null,
      "overflow": null,
      "overflow_x": null,
      "overflow_y": null,
      "padding": null,
      "right": null,
      "top": null,
      "visibility": null,
      "width": null
     }
    },
    "38dfc51bafd942f59ff56d45093a0fef": {
     "model_module": "@jupyter-widgets/controls",
     "model_module_version": "1.5.0",
     "model_name": "HBoxModel",
     "state": {
      "_dom_classes": [],
      "_model_module": "@jupyter-widgets/controls",
      "_model_module_version": "1.5.0",
      "_model_name": "HBoxModel",
      "_view_count": null,
      "_view_module": "@jupyter-widgets/controls",
      "_view_module_version": "1.5.0",
      "_view_name": "HBoxView",
      "box_style": "",
      "children": [
       "IPY_MODEL_6cdb24adb12e426c8c94b98fe19e9a83",
       "IPY_MODEL_8b8f1d5d73604e38a7254ede1b025da0",
       "IPY_MODEL_06a7f8bfd7e34dbebe424358c4a38047"
      ],
      "layout": "IPY_MODEL_1926e80284d1493fb3bf5b705d3dc46a"
     }
    },
    "3c3f88c0f3bb42b6b7691f2fc5154f63": {
     "model_module": "@jupyter-widgets/controls",
     "model_module_version": "1.5.0",
     "model_name": "DescriptionStyleModel",
     "state": {
      "_model_module": "@jupyter-widgets/controls",
      "_model_module_version": "1.5.0",
      "_model_name": "DescriptionStyleModel",
      "_view_count": null,
      "_view_module": "@jupyter-widgets/base",
      "_view_module_version": "1.2.0",
      "_view_name": "StyleView",
      "description_width": ""
     }
    },
    "42bf7928cbf148b299d9b71922cb84c9": {
     "model_module": "@jupyter-widgets/base",
     "model_module_version": "1.2.0",
     "model_name": "LayoutModel",
     "state": {
      "_model_module": "@jupyter-widgets/base",
      "_model_module_version": "1.2.0",
      "_model_name": "LayoutModel",
      "_view_count": null,
      "_view_module": "@jupyter-widgets/base",
      "_view_module_version": "1.2.0",
      "_view_name": "LayoutView",
      "align_content": null,
      "align_items": null,
      "align_self": null,
      "border": null,
      "bottom": null,
      "display": null,
      "flex": null,
      "flex_flow": null,
      "grid_area": null,
      "grid_auto_columns": null,
      "grid_auto_flow": null,
      "grid_auto_rows": null,
      "grid_column": null,
      "grid_gap": null,
      "grid_row": null,
      "grid_template_areas": null,
      "grid_template_columns": null,
      "grid_template_rows": null,
      "height": null,
      "justify_content": null,
      "justify_items": null,
      "left": null,
      "margin": null,
      "max_height": null,
      "max_width": null,
      "min_height": null,
      "min_width": null,
      "object_fit": null,
      "object_position": null,
      "order": null,
      "overflow": null,
      "overflow_x": null,
      "overflow_y": null,
      "padding": null,
      "right": null,
      "top": null,
      "visibility": null,
      "width": null
     }
    },
    "446450a3c0fe49e7b5a93850803645df": {
     "model_module": "@jupyter-widgets/base",
     "model_module_version": "1.2.0",
     "model_name": "LayoutModel",
     "state": {
      "_model_module": "@jupyter-widgets/base",
      "_model_module_version": "1.2.0",
      "_model_name": "LayoutModel",
      "_view_count": null,
      "_view_module": "@jupyter-widgets/base",
      "_view_module_version": "1.2.0",
      "_view_name": "LayoutView",
      "align_content": null,
      "align_items": null,
      "align_self": null,
      "border": null,
      "bottom": null,
      "display": null,
      "flex": null,
      "flex_flow": null,
      "grid_area": null,
      "grid_auto_columns": null,
      "grid_auto_flow": null,
      "grid_auto_rows": null,
      "grid_column": null,
      "grid_gap": null,
      "grid_row": null,
      "grid_template_areas": null,
      "grid_template_columns": null,
      "grid_template_rows": null,
      "height": null,
      "justify_content": null,
      "justify_items": null,
      "left": null,
      "margin": null,
      "max_height": null,
      "max_width": null,
      "min_height": null,
      "min_width": null,
      "object_fit": null,
      "object_position": null,
      "order": null,
      "overflow": null,
      "overflow_x": null,
      "overflow_y": null,
      "padding": null,
      "right": null,
      "top": null,
      "visibility": null,
      "width": null
     }
    },
    "45077ea08dcb4cb9a3daffcbd5494196": {
     "model_module": "@jupyter-widgets/controls",
     "model_module_version": "1.5.0",
     "model_name": "DescriptionStyleModel",
     "state": {
      "_model_module": "@jupyter-widgets/controls",
      "_model_module_version": "1.5.0",
      "_model_name": "DescriptionStyleModel",
      "_view_count": null,
      "_view_module": "@jupyter-widgets/base",
      "_view_module_version": "1.2.0",
      "_view_name": "StyleView",
      "description_width": ""
     }
    },
    "4afccd9c57ae4fcbb5b8355ab40bb9bf": {
     "model_module": "@jupyter-widgets/base",
     "model_module_version": "1.2.0",
     "model_name": "LayoutModel",
     "state": {
      "_model_module": "@jupyter-widgets/base",
      "_model_module_version": "1.2.0",
      "_model_name": "LayoutModel",
      "_view_count": null,
      "_view_module": "@jupyter-widgets/base",
      "_view_module_version": "1.2.0",
      "_view_name": "LayoutView",
      "align_content": null,
      "align_items": null,
      "align_self": null,
      "border": null,
      "bottom": null,
      "display": null,
      "flex": null,
      "flex_flow": null,
      "grid_area": null,
      "grid_auto_columns": null,
      "grid_auto_flow": null,
      "grid_auto_rows": null,
      "grid_column": null,
      "grid_gap": null,
      "grid_row": null,
      "grid_template_areas": null,
      "grid_template_columns": null,
      "grid_template_rows": null,
      "height": null,
      "justify_content": null,
      "justify_items": null,
      "left": null,
      "margin": null,
      "max_height": null,
      "max_width": null,
      "min_height": null,
      "min_width": null,
      "object_fit": null,
      "object_position": null,
      "order": null,
      "overflow": null,
      "overflow_x": null,
      "overflow_y": null,
      "padding": null,
      "right": null,
      "top": null,
      "visibility": null,
      "width": null
     }
    },
    "4c66f56ae7044525a448943094349582": {
     "model_module": "@jupyter-widgets/base",
     "model_module_version": "1.2.0",
     "model_name": "LayoutModel",
     "state": {
      "_model_module": "@jupyter-widgets/base",
      "_model_module_version": "1.2.0",
      "_model_name": "LayoutModel",
      "_view_count": null,
      "_view_module": "@jupyter-widgets/base",
      "_view_module_version": "1.2.0",
      "_view_name": "LayoutView",
      "align_content": null,
      "align_items": null,
      "align_self": null,
      "border": null,
      "bottom": null,
      "display": null,
      "flex": null,
      "flex_flow": null,
      "grid_area": null,
      "grid_auto_columns": null,
      "grid_auto_flow": null,
      "grid_auto_rows": null,
      "grid_column": null,
      "grid_gap": null,
      "grid_row": null,
      "grid_template_areas": null,
      "grid_template_columns": null,
      "grid_template_rows": null,
      "height": null,
      "justify_content": null,
      "justify_items": null,
      "left": null,
      "margin": null,
      "max_height": null,
      "max_width": null,
      "min_height": null,
      "min_width": null,
      "object_fit": null,
      "object_position": null,
      "order": null,
      "overflow": null,
      "overflow_x": null,
      "overflow_y": null,
      "padding": null,
      "right": null,
      "top": null,
      "visibility": null,
      "width": null
     }
    },
    "4ca21107cce9472095599ca5ee2c1aa6": {
     "model_module": "@jupyter-widgets/base",
     "model_module_version": "1.2.0",
     "model_name": "LayoutModel",
     "state": {
      "_model_module": "@jupyter-widgets/base",
      "_model_module_version": "1.2.0",
      "_model_name": "LayoutModel",
      "_view_count": null,
      "_view_module": "@jupyter-widgets/base",
      "_view_module_version": "1.2.0",
      "_view_name": "LayoutView",
      "align_content": null,
      "align_items": null,
      "align_self": null,
      "border": null,
      "bottom": null,
      "display": null,
      "flex": null,
      "flex_flow": null,
      "grid_area": null,
      "grid_auto_columns": null,
      "grid_auto_flow": null,
      "grid_auto_rows": null,
      "grid_column": null,
      "grid_gap": null,
      "grid_row": null,
      "grid_template_areas": null,
      "grid_template_columns": null,
      "grid_template_rows": null,
      "height": null,
      "justify_content": null,
      "justify_items": null,
      "left": null,
      "margin": null,
      "max_height": null,
      "max_width": null,
      "min_height": null,
      "min_width": null,
      "object_fit": null,
      "object_position": null,
      "order": null,
      "overflow": null,
      "overflow_x": null,
      "overflow_y": null,
      "padding": null,
      "right": null,
      "top": null,
      "visibility": null,
      "width": null
     }
    },
    "508be04dd20147b2a22c6f5436700f2a": {
     "model_module": "@jupyter-widgets/controls",
     "model_module_version": "1.5.0",
     "model_name": "HBoxModel",
     "state": {
      "_dom_classes": [],
      "_model_module": "@jupyter-widgets/controls",
      "_model_module_version": "1.5.0",
      "_model_name": "HBoxModel",
      "_view_count": null,
      "_view_module": "@jupyter-widgets/controls",
      "_view_module_version": "1.5.0",
      "_view_name": "HBoxView",
      "box_style": "",
      "children": [
       "IPY_MODEL_57a579add7db4cc587dcf348366608dc",
       "IPY_MODEL_9a1a1d38e3c44f2c8e9f205f869b3496",
       "IPY_MODEL_7a79a9e348044c75869e9c6a51596dde"
      ],
      "layout": "IPY_MODEL_d7ecb224c03d4363ac6da2c428ede76f"
     }
    },
    "52bfe3a56c754ae093ec58028fc07d9a": {
     "model_module": "@jupyter-widgets/base",
     "model_module_version": "1.2.0",
     "model_name": "LayoutModel",
     "state": {
      "_model_module": "@jupyter-widgets/base",
      "_model_module_version": "1.2.0",
      "_model_name": "LayoutModel",
      "_view_count": null,
      "_view_module": "@jupyter-widgets/base",
      "_view_module_version": "1.2.0",
      "_view_name": "LayoutView",
      "align_content": null,
      "align_items": null,
      "align_self": null,
      "border": null,
      "bottom": null,
      "display": null,
      "flex": null,
      "flex_flow": null,
      "grid_area": null,
      "grid_auto_columns": null,
      "grid_auto_flow": null,
      "grid_auto_rows": null,
      "grid_column": null,
      "grid_gap": null,
      "grid_row": null,
      "grid_template_areas": null,
      "grid_template_columns": null,
      "grid_template_rows": null,
      "height": null,
      "justify_content": null,
      "justify_items": null,
      "left": null,
      "margin": null,
      "max_height": null,
      "max_width": null,
      "min_height": null,
      "min_width": null,
      "object_fit": null,
      "object_position": null,
      "order": null,
      "overflow": null,
      "overflow_x": null,
      "overflow_y": null,
      "padding": null,
      "right": null,
      "top": null,
      "visibility": null,
      "width": null
     }
    },
    "5391b23394a14adca9af01c30328f616": {
     "model_module": "@jupyter-widgets/controls",
     "model_module_version": "1.5.0",
     "model_name": "HTMLModel",
     "state": {
      "_dom_classes": [],
      "_model_module": "@jupyter-widgets/controls",
      "_model_module_version": "1.5.0",
      "_model_name": "HTMLModel",
      "_view_count": null,
      "_view_module": "@jupyter-widgets/controls",
      "_view_module_version": "1.5.0",
      "_view_name": "HTMLView",
      "description": "",
      "description_tooltip": null,
      "layout": "IPY_MODEL_81d2bf19430c422faefa52eeadac7dc7",
      "placeholder": "​",
      "style": "IPY_MODEL_8a10ff5da16349618d968ff955b1b88b",
      "value": "Downloading: 100%"
     }
    },
    "57a579add7db4cc587dcf348366608dc": {
     "model_module": "@jupyter-widgets/controls",
     "model_module_version": "1.5.0",
     "model_name": "HTMLModel",
     "state": {
      "_dom_classes": [],
      "_model_module": "@jupyter-widgets/controls",
      "_model_module_version": "1.5.0",
      "_model_name": "HTMLModel",
      "_view_count": null,
      "_view_module": "@jupyter-widgets/controls",
      "_view_module_version": "1.5.0",
      "_view_name": "HTMLView",
      "description": "",
      "description_tooltip": null,
      "layout": "IPY_MODEL_6195158af0984405adc7ef1e184c68a7",
      "placeholder": "​",
      "style": "IPY_MODEL_0346dd9f81f14f39bf922f511e5959e9",
      "value": "Downloading: 100%"
     }
    },
    "57df30b43585417d8ad1259b8c388ddc": {
     "model_module": "@jupyter-widgets/base",
     "model_module_version": "1.2.0",
     "model_name": "LayoutModel",
     "state": {
      "_model_module": "@jupyter-widgets/base",
      "_model_module_version": "1.2.0",
      "_model_name": "LayoutModel",
      "_view_count": null,
      "_view_module": "@jupyter-widgets/base",
      "_view_module_version": "1.2.0",
      "_view_name": "LayoutView",
      "align_content": null,
      "align_items": null,
      "align_self": null,
      "border": null,
      "bottom": null,
      "display": null,
      "flex": null,
      "flex_flow": null,
      "grid_area": null,
      "grid_auto_columns": null,
      "grid_auto_flow": null,
      "grid_auto_rows": null,
      "grid_column": null,
      "grid_gap": null,
      "grid_row": null,
      "grid_template_areas": null,
      "grid_template_columns": null,
      "grid_template_rows": null,
      "height": null,
      "justify_content": null,
      "justify_items": null,
      "left": null,
      "margin": null,
      "max_height": null,
      "max_width": null,
      "min_height": null,
      "min_width": null,
      "object_fit": null,
      "object_position": null,
      "order": null,
      "overflow": null,
      "overflow_x": null,
      "overflow_y": null,
      "padding": null,
      "right": null,
      "top": null,
      "visibility": null,
      "width": null
     }
    },
    "5c4da4cd25524291959474d6f3c940d2": {
     "model_module": "@jupyter-widgets/base",
     "model_module_version": "1.2.0",
     "model_name": "LayoutModel",
     "state": {
      "_model_module": "@jupyter-widgets/base",
      "_model_module_version": "1.2.0",
      "_model_name": "LayoutModel",
      "_view_count": null,
      "_view_module": "@jupyter-widgets/base",
      "_view_module_version": "1.2.0",
      "_view_name": "LayoutView",
      "align_content": null,
      "align_items": null,
      "align_self": null,
      "border": null,
      "bottom": null,
      "display": null,
      "flex": null,
      "flex_flow": null,
      "grid_area": null,
      "grid_auto_columns": null,
      "grid_auto_flow": null,
      "grid_auto_rows": null,
      "grid_column": null,
      "grid_gap": null,
      "grid_row": null,
      "grid_template_areas": null,
      "grid_template_columns": null,
      "grid_template_rows": null,
      "height": null,
      "justify_content": null,
      "justify_items": null,
      "left": null,
      "margin": null,
      "max_height": null,
      "max_width": null,
      "min_height": null,
      "min_width": null,
      "object_fit": null,
      "object_position": null,
      "order": null,
      "overflow": null,
      "overflow_x": null,
      "overflow_y": null,
      "padding": null,
      "right": null,
      "top": null,
      "visibility": null,
      "width": null
     }
    },
    "6195158af0984405adc7ef1e184c68a7": {
     "model_module": "@jupyter-widgets/base",
     "model_module_version": "1.2.0",
     "model_name": "LayoutModel",
     "state": {
      "_model_module": "@jupyter-widgets/base",
      "_model_module_version": "1.2.0",
      "_model_name": "LayoutModel",
      "_view_count": null,
      "_view_module": "@jupyter-widgets/base",
      "_view_module_version": "1.2.0",
      "_view_name": "LayoutView",
      "align_content": null,
      "align_items": null,
      "align_self": null,
      "border": null,
      "bottom": null,
      "display": null,
      "flex": null,
      "flex_flow": null,
      "grid_area": null,
      "grid_auto_columns": null,
      "grid_auto_flow": null,
      "grid_auto_rows": null,
      "grid_column": null,
      "grid_gap": null,
      "grid_row": null,
      "grid_template_areas": null,
      "grid_template_columns": null,
      "grid_template_rows": null,
      "height": null,
      "justify_content": null,
      "justify_items": null,
      "left": null,
      "margin": null,
      "max_height": null,
      "max_width": null,
      "min_height": null,
      "min_width": null,
      "object_fit": null,
      "object_position": null,
      "order": null,
      "overflow": null,
      "overflow_x": null,
      "overflow_y": null,
      "padding": null,
      "right": null,
      "top": null,
      "visibility": null,
      "width": null
     }
    },
    "67d662888b354295b08250fceddba855": {
     "model_module": "@jupyter-widgets/base",
     "model_module_version": "1.2.0",
     "model_name": "LayoutModel",
     "state": {
      "_model_module": "@jupyter-widgets/base",
      "_model_module_version": "1.2.0",
      "_model_name": "LayoutModel",
      "_view_count": null,
      "_view_module": "@jupyter-widgets/base",
      "_view_module_version": "1.2.0",
      "_view_name": "LayoutView",
      "align_content": null,
      "align_items": null,
      "align_self": null,
      "border": null,
      "bottom": null,
      "display": null,
      "flex": null,
      "flex_flow": null,
      "grid_area": null,
      "grid_auto_columns": null,
      "grid_auto_flow": null,
      "grid_auto_rows": null,
      "grid_column": null,
      "grid_gap": null,
      "grid_row": null,
      "grid_template_areas": null,
      "grid_template_columns": null,
      "grid_template_rows": null,
      "height": null,
      "justify_content": null,
      "justify_items": null,
      "left": null,
      "margin": null,
      "max_height": null,
      "max_width": null,
      "min_height": null,
      "min_width": null,
      "object_fit": null,
      "object_position": null,
      "order": null,
      "overflow": null,
      "overflow_x": null,
      "overflow_y": null,
      "padding": null,
      "right": null,
      "top": null,
      "visibility": null,
      "width": null
     }
    },
    "69c20f27bf724ef8845e347ada5d827a": {
     "model_module": "@jupyter-widgets/controls",
     "model_module_version": "1.5.0",
     "model_name": "FloatProgressModel",
     "state": {
      "_dom_classes": [],
      "_model_module": "@jupyter-widgets/controls",
      "_model_module_version": "1.5.0",
      "_model_name": "FloatProgressModel",
      "_view_count": null,
      "_view_module": "@jupyter-widgets/controls",
      "_view_module_version": "1.5.0",
      "_view_name": "ProgressView",
      "bar_style": "success",
      "description": "",
      "description_tooltip": null,
      "layout": "IPY_MODEL_67d662888b354295b08250fceddba855",
      "max": 500451866,
      "min": 0,
      "orientation": "horizontal",
      "style": "IPY_MODEL_75978bb07fb9425eb71c680b67d11bc7",
      "value": 500451866
     }
    },
    "6cdb24adb12e426c8c94b98fe19e9a83": {
     "model_module": "@jupyter-widgets/controls",
     "model_module_version": "1.5.0",
     "model_name": "HTMLModel",
     "state": {
      "_dom_classes": [],
      "_model_module": "@jupyter-widgets/controls",
      "_model_module_version": "1.5.0",
      "_model_name": "HTMLModel",
      "_view_count": null,
      "_view_module": "@jupyter-widgets/controls",
      "_view_module_version": "1.5.0",
      "_view_name": "HTMLView",
      "description": "",
      "description_tooltip": null,
      "layout": "IPY_MODEL_213d6b7bed2642e0945f91e018c9235b",
      "placeholder": "​",
      "style": "IPY_MODEL_6fb9cb8ae1564f5a9cde2180ab4afe2d",
      "value": "Downloading: 100%"
     }
    },
    "6f585e87b0934a22a8ff038cfe55185a": {
     "model_module": "@jupyter-widgets/controls",
     "model_module_version": "1.5.0",
     "model_name": "FloatProgressModel",
     "state": {
      "_dom_classes": [],
      "_model_module": "@jupyter-widgets/controls",
      "_model_module_version": "1.5.0",
      "_model_name": "FloatProgressModel",
      "_view_count": null,
      "_view_module": "@jupyter-widgets/controls",
      "_view_module_version": "1.5.0",
      "_view_name": "ProgressView",
      "bar_style": "success",
      "description": "",
      "description_tooltip": null,
      "layout": "IPY_MODEL_8b780fcac01d4ecea64ba102d983bf4c",
      "max": 481,
      "min": 0,
      "orientation": "horizontal",
      "style": "IPY_MODEL_8e81bf5d885c4bb88fc659e7ccd056b2",
      "value": 481
     }
    },
    "6fb9cb8ae1564f5a9cde2180ab4afe2d": {
     "model_module": "@jupyter-widgets/controls",
     "model_module_version": "1.5.0",
     "model_name": "DescriptionStyleModel",
     "state": {
      "_model_module": "@jupyter-widgets/controls",
      "_model_module_version": "1.5.0",
      "_model_name": "DescriptionStyleModel",
      "_view_count": null,
      "_view_module": "@jupyter-widgets/base",
      "_view_module_version": "1.2.0",
      "_view_name": "StyleView",
      "description_width": ""
     }
    },
    "75978bb07fb9425eb71c680b67d11bc7": {
     "model_module": "@jupyter-widgets/controls",
     "model_module_version": "1.5.0",
     "model_name": "ProgressStyleModel",
     "state": {
      "_model_module": "@jupyter-widgets/controls",
      "_model_module_version": "1.5.0",
      "_model_name": "ProgressStyleModel",
      "_view_count": null,
      "_view_module": "@jupyter-widgets/base",
      "_view_module_version": "1.2.0",
      "_view_name": "StyleView",
      "bar_color": null,
      "description_width": ""
     }
    },
    "772220888e3142b48168993e9d5f6941": {
     "model_module": "@jupyter-widgets/controls",
     "model_module_version": "1.5.0",
     "model_name": "ProgressStyleModel",
     "state": {
      "_model_module": "@jupyter-widgets/controls",
      "_model_module_version": "1.5.0",
      "_model_name": "ProgressStyleModel",
      "_view_count": null,
      "_view_module": "@jupyter-widgets/base",
      "_view_module_version": "1.2.0",
      "_view_name": "StyleView",
      "bar_color": null,
      "description_width": ""
     }
    },
    "774cc55481bd415ca43f4dc817ed4e5c": {
     "model_module": "@jupyter-widgets/controls",
     "model_module_version": "1.5.0",
     "model_name": "HBoxModel",
     "state": {
      "_dom_classes": [],
      "_model_module": "@jupyter-widgets/controls",
      "_model_module_version": "1.5.0",
      "_model_name": "HBoxModel",
      "_view_count": null,
      "_view_module": "@jupyter-widgets/controls",
      "_view_module_version": "1.5.0",
      "_view_name": "HBoxView",
      "box_style": "",
      "children": [
       "IPY_MODEL_0017c4f0c1f24f9da7a824c0afa67805",
       "IPY_MODEL_6f585e87b0934a22a8ff038cfe55185a",
       "IPY_MODEL_8914b083f8ad4354896cfc76f3046672"
      ],
      "layout": "IPY_MODEL_52bfe3a56c754ae093ec58028fc07d9a"
     }
    },
    "7a79a9e348044c75869e9c6a51596dde": {
     "model_module": "@jupyter-widgets/controls",
     "model_module_version": "1.5.0",
     "model_name": "HTMLModel",
     "state": {
      "_dom_classes": [],
      "_model_module": "@jupyter-widgets/controls",
      "_model_module_version": "1.5.0",
      "_model_name": "HTMLModel",
      "_view_count": null,
      "_view_module": "@jupyter-widgets/controls",
      "_view_module_version": "1.5.0",
      "_view_name": "HTMLView",
      "description": "",
      "description_tooltip": null,
      "layout": "IPY_MODEL_8a93249d496a43e495546b888145deec",
      "placeholder": "​",
      "style": "IPY_MODEL_1646334eae4c466cac55e35c033401c7",
      "value": " 1.34M/1.34M [00:00&lt;00:00, 3.36MB/s]"
     }
    },
    "7f004eab81f04048be665ffcac387e39": {
     "model_module": "@jupyter-widgets/controls",
     "model_module_version": "1.5.0",
     "model_name": "HTMLModel",
     "state": {
      "_dom_classes": [],
      "_model_module": "@jupyter-widgets/controls",
      "_model_module_version": "1.5.0",
      "_model_name": "HTMLModel",
      "_view_count": null,
      "_view_module": "@jupyter-widgets/controls",
      "_view_module_version": "1.5.0",
      "_view_name": "HTMLView",
      "description": "",
      "description_tooltip": null,
      "layout": "IPY_MODEL_4afccd9c57ae4fcbb5b8355ab40bb9bf",
      "placeholder": "​",
      "style": "IPY_MODEL_1db41dff7257469b9ecb336280cd2c99",
      "value": " 16.0/16.0 [00:00&lt;00:00, 608B/s]"
     }
    },
    "81d2bf19430c422faefa52eeadac7dc7": {
     "model_module": "@jupyter-widgets/base",
     "model_module_version": "1.2.0",
     "model_name": "LayoutModel",
     "state": {
      "_model_module": "@jupyter-widgets/base",
      "_model_module_version": "1.2.0",
      "_model_name": "LayoutModel",
      "_view_count": null,
      "_view_module": "@jupyter-widgets/base",
      "_view_module_version": "1.2.0",
      "_view_name": "LayoutView",
      "align_content": null,
      "align_items": null,
      "align_self": null,
      "border": null,
      "bottom": null,
      "display": null,
      "flex": null,
      "flex_flow": null,
      "grid_area": null,
      "grid_auto_columns": null,
      "grid_auto_flow": null,
      "grid_auto_rows": null,
      "grid_column": null,
      "grid_gap": null,
      "grid_row": null,
      "grid_template_areas": null,
      "grid_template_columns": null,
      "grid_template_rows": null,
      "height": null,
      "justify_content": null,
      "justify_items": null,
      "left": null,
      "margin": null,
      "max_height": null,
      "max_width": null,
      "min_height": null,
      "min_width": null,
      "object_fit": null,
      "object_position": null,
      "order": null,
      "overflow": null,
      "overflow_x": null,
      "overflow_y": null,
      "padding": null,
      "right": null,
      "top": null,
      "visibility": null,
      "width": null
     }
    },
    "8914b083f8ad4354896cfc76f3046672": {
     "model_module": "@jupyter-widgets/controls",
     "model_module_version": "1.5.0",
     "model_name": "HTMLModel",
     "state": {
      "_dom_classes": [],
      "_model_module": "@jupyter-widgets/controls",
      "_model_module_version": "1.5.0",
      "_model_name": "HTMLModel",
      "_view_count": null,
      "_view_module": "@jupyter-widgets/controls",
      "_view_module_version": "1.5.0",
      "_view_name": "HTMLView",
      "description": "",
      "description_tooltip": null,
      "layout": "IPY_MODEL_da846a9bebbe4dfb8c6da3ea538bf5c9",
      "placeholder": "​",
      "style": "IPY_MODEL_0215cbbab10c4aa981358854dc397319",
      "value": " 481/481 [00:00&lt;00:00, 19.0kB/s]"
     }
    },
    "8a10ff5da16349618d968ff955b1b88b": {
     "model_module": "@jupyter-widgets/controls",
     "model_module_version": "1.5.0",
     "model_name": "DescriptionStyleModel",
     "state": {
      "_model_module": "@jupyter-widgets/controls",
      "_model_module_version": "1.5.0",
      "_model_name": "DescriptionStyleModel",
      "_view_count": null,
      "_view_module": "@jupyter-widgets/base",
      "_view_module_version": "1.2.0",
      "_view_name": "StyleView",
      "description_width": ""
     }
    },
    "8a93249d496a43e495546b888145deec": {
     "model_module": "@jupyter-widgets/base",
     "model_module_version": "1.2.0",
     "model_name": "LayoutModel",
     "state": {
      "_model_module": "@jupyter-widgets/base",
      "_model_module_version": "1.2.0",
      "_model_name": "LayoutModel",
      "_view_count": null,
      "_view_module": "@jupyter-widgets/base",
      "_view_module_version": "1.2.0",
      "_view_name": "LayoutView",
      "align_content": null,
      "align_items": null,
      "align_self": null,
      "border": null,
      "bottom": null,
      "display": null,
      "flex": null,
      "flex_flow": null,
      "grid_area": null,
      "grid_auto_columns": null,
      "grid_auto_flow": null,
      "grid_auto_rows": null,
      "grid_column": null,
      "grid_gap": null,
      "grid_row": null,
      "grid_template_areas": null,
      "grid_template_columns": null,
      "grid_template_rows": null,
      "height": null,
      "justify_content": null,
      "justify_items": null,
      "left": null,
      "margin": null,
      "max_height": null,
      "max_width": null,
      "min_height": null,
      "min_width": null,
      "object_fit": null,
      "object_position": null,
      "order": null,
      "overflow": null,
      "overflow_x": null,
      "overflow_y": null,
      "padding": null,
      "right": null,
      "top": null,
      "visibility": null,
      "width": null
     }
    },
    "8b780fcac01d4ecea64ba102d983bf4c": {
     "model_module": "@jupyter-widgets/base",
     "model_module_version": "1.2.0",
     "model_name": "LayoutModel",
     "state": {
      "_model_module": "@jupyter-widgets/base",
      "_model_module_version": "1.2.0",
      "_model_name": "LayoutModel",
      "_view_count": null,
      "_view_module": "@jupyter-widgets/base",
      "_view_module_version": "1.2.0",
      "_view_name": "LayoutView",
      "align_content": null,
      "align_items": null,
      "align_self": null,
      "border": null,
      "bottom": null,
      "display": null,
      "flex": null,
      "flex_flow": null,
      "grid_area": null,
      "grid_auto_columns": null,
      "grid_auto_flow": null,
      "grid_auto_rows": null,
      "grid_column": null,
      "grid_gap": null,
      "grid_row": null,
      "grid_template_areas": null,
      "grid_template_columns": null,
      "grid_template_rows": null,
      "height": null,
      "justify_content": null,
      "justify_items": null,
      "left": null,
      "margin": null,
      "max_height": null,
      "max_width": null,
      "min_height": null,
      "min_width": null,
      "object_fit": null,
      "object_position": null,
      "order": null,
      "overflow": null,
      "overflow_x": null,
      "overflow_y": null,
      "padding": null,
      "right": null,
      "top": null,
      "visibility": null,
      "width": null
     }
    },
    "8b8f1d5d73604e38a7254ede1b025da0": {
     "model_module": "@jupyter-widgets/controls",
     "model_module_version": "1.5.0",
     "model_name": "FloatProgressModel",
     "state": {
      "_dom_classes": [],
      "_model_module": "@jupyter-widgets/controls",
      "_model_module_version": "1.5.0",
      "_model_name": "FloatProgressModel",
      "_view_count": null,
      "_view_module": "@jupyter-widgets/controls",
      "_view_module_version": "1.5.0",
      "_view_name": "ProgressView",
      "bar_style": "success",
      "description": "",
      "description_tooltip": null,
      "layout": "IPY_MODEL_ebbaa89c8c4c4de78aea3485258a90b6",
      "max": 150,
      "min": 0,
      "orientation": "horizontal",
      "style": "IPY_MODEL_190c2eeda89f408da80d5f6f026d18c6",
      "value": 150
     }
    },
    "8da6125e921f446eb6dd221dcbb55885": {
     "model_module": "@jupyter-widgets/controls",
     "model_module_version": "1.5.0",
     "model_name": "DescriptionStyleModel",
     "state": {
      "_model_module": "@jupyter-widgets/controls",
      "_model_module_version": "1.5.0",
      "_model_name": "DescriptionStyleModel",
      "_view_count": null,
      "_view_module": "@jupyter-widgets/base",
      "_view_module_version": "1.2.0",
      "_view_name": "StyleView",
      "description_width": ""
     }
    },
    "8e81bf5d885c4bb88fc659e7ccd056b2": {
     "model_module": "@jupyter-widgets/controls",
     "model_module_version": "1.5.0",
     "model_name": "ProgressStyleModel",
     "state": {
      "_model_module": "@jupyter-widgets/controls",
      "_model_module_version": "1.5.0",
      "_model_name": "ProgressStyleModel",
      "_view_count": null,
      "_view_module": "@jupyter-widgets/base",
      "_view_module_version": "1.2.0",
      "_view_name": "StyleView",
      "bar_color": null,
      "description_width": ""
     }
    },
    "91948b6ef06545a5a1b21bd2b601c0ca": {
     "model_module": "@jupyter-widgets/controls",
     "model_module_version": "1.5.0",
     "model_name": "HTMLModel",
     "state": {
      "_dom_classes": [],
      "_model_module": "@jupyter-widgets/controls",
      "_model_module_version": "1.5.0",
      "_model_name": "HTMLModel",
      "_view_count": null,
      "_view_module": "@jupyter-widgets/controls",
      "_view_module_version": "1.5.0",
      "_view_name": "HTMLView",
      "description": "",
      "description_tooltip": null,
      "layout": "IPY_MODEL_00d44ef92c454ac780e8ced0147b986a",
      "placeholder": "​",
      "style": "IPY_MODEL_a91ff072af4840acac2f04114bba60db",
      "value": "Downloading: 100%"
     }
    },
    "9a1a1d38e3c44f2c8e9f205f869b3496": {
     "model_module": "@jupyter-widgets/controls",
     "model_module_version": "1.5.0",
     "model_name": "FloatProgressModel",
     "state": {
      "_dom_classes": [],
      "_model_module": "@jupyter-widgets/controls",
      "_model_module_version": "1.5.0",
      "_model_name": "FloatProgressModel",
      "_view_count": null,
      "_view_module": "@jupyter-widgets/controls",
      "_view_module_version": "1.5.0",
      "_view_name": "ProgressView",
      "bar_style": "success",
      "description": "",
      "description_tooltip": null,
      "layout": "IPY_MODEL_d6f1964c0bbe432198b3568faa260f8c",
      "max": 1344678,
      "min": 0,
      "orientation": "horizontal",
      "style": "IPY_MODEL_cac8447758bc40dcae9c96f16e0574be",
      "value": 1344678
     }
    },
    "a58941f0cb34409ab42e09d56206863f": {
     "model_module": "@jupyter-widgets/controls",
     "model_module_version": "1.5.0",
     "model_name": "HTMLModel",
     "state": {
      "_dom_classes": [],
      "_model_module": "@jupyter-widgets/controls",
      "_model_module_version": "1.5.0",
      "_model_name": "HTMLModel",
      "_view_count": null,
      "_view_module": "@jupyter-widgets/controls",
      "_view_module_version": "1.5.0",
      "_view_name": "HTMLView",
      "description": "",
      "description_tooltip": null,
      "layout": "IPY_MODEL_446450a3c0fe49e7b5a93850803645df",
      "placeholder": "​",
      "style": "IPY_MODEL_3c3f88c0f3bb42b6b7691f2fc5154f63",
      "value": "Downloading: 100%"
     }
    },
    "a71a2d4eeed641d6b3914851333fa093": {
     "model_module": "@jupyter-widgets/controls",
     "model_module_version": "1.5.0",
     "model_name": "HBoxModel",
     "state": {
      "_dom_classes": [],
      "_model_module": "@jupyter-widgets/controls",
      "_model_module_version": "1.5.0",
      "_model_name": "HBoxModel",
      "_view_count": null,
      "_view_module": "@jupyter-widgets/controls",
      "_view_module_version": "1.5.0",
      "_view_name": "HBoxView",
      "box_style": "",
      "children": [
       "IPY_MODEL_91948b6ef06545a5a1b21bd2b601c0ca",
       "IPY_MODEL_cbe6260b2c1245b7b37afd7f00a775d2",
       "IPY_MODEL_f6f77902e86f4ca293966e14ace338a7"
      ],
      "layout": "IPY_MODEL_4c66f56ae7044525a448943094349582"
     }
    },
    "a91ff072af4840acac2f04114bba60db": {
     "model_module": "@jupyter-widgets/controls",
     "model_module_version": "1.5.0",
     "model_name": "DescriptionStyleModel",
     "state": {
      "_model_module": "@jupyter-widgets/controls",
      "_model_module_version": "1.5.0",
      "_model_name": "DescriptionStyleModel",
      "_view_count": null,
      "_view_module": "@jupyter-widgets/base",
      "_view_module_version": "1.2.0",
      "_view_name": "StyleView",
      "description_width": ""
     }
    },
    "ae7d85550ee94068b180773b783e15a5": {
     "model_module": "@jupyter-widgets/controls",
     "model_module_version": "1.5.0",
     "model_name": "DescriptionStyleModel",
     "state": {
      "_model_module": "@jupyter-widgets/controls",
      "_model_module_version": "1.5.0",
      "_model_name": "DescriptionStyleModel",
      "_view_count": null,
      "_view_module": "@jupyter-widgets/base",
      "_view_module_version": "1.2.0",
      "_view_name": "StyleView",
      "description_width": ""
     }
    },
    "c386ea2440574721a38058351ee8c423": {
     "model_module": "@jupyter-widgets/base",
     "model_module_version": "1.2.0",
     "model_name": "LayoutModel",
     "state": {
      "_model_module": "@jupyter-widgets/base",
      "_model_module_version": "1.2.0",
      "_model_name": "LayoutModel",
      "_view_count": null,
      "_view_module": "@jupyter-widgets/base",
      "_view_module_version": "1.2.0",
      "_view_name": "LayoutView",
      "align_content": null,
      "align_items": null,
      "align_self": null,
      "border": null,
      "bottom": null,
      "display": null,
      "flex": null,
      "flex_flow": null,
      "grid_area": null,
      "grid_auto_columns": null,
      "grid_auto_flow": null,
      "grid_auto_rows": null,
      "grid_column": null,
      "grid_gap": null,
      "grid_row": null,
      "grid_template_areas": null,
      "grid_template_columns": null,
      "grid_template_rows": null,
      "height": null,
      "justify_content": null,
      "justify_items": null,
      "left": null,
      "margin": null,
      "max_height": null,
      "max_width": null,
      "min_height": null,
      "min_width": null,
      "object_fit": null,
      "object_position": null,
      "order": null,
      "overflow": null,
      "overflow_x": null,
      "overflow_y": null,
      "padding": null,
      "right": null,
      "top": null,
      "visibility": null,
      "width": null
     }
    },
    "cac8447758bc40dcae9c96f16e0574be": {
     "model_module": "@jupyter-widgets/controls",
     "model_module_version": "1.5.0",
     "model_name": "ProgressStyleModel",
     "state": {
      "_model_module": "@jupyter-widgets/controls",
      "_model_module_version": "1.5.0",
      "_model_name": "ProgressStyleModel",
      "_view_count": null,
      "_view_module": "@jupyter-widgets/base",
      "_view_module_version": "1.2.0",
      "_view_name": "StyleView",
      "bar_color": null,
      "description_width": ""
     }
    },
    "cbe6260b2c1245b7b37afd7f00a775d2": {
     "model_module": "@jupyter-widgets/controls",
     "model_module_version": "1.5.0",
     "model_name": "FloatProgressModel",
     "state": {
      "_dom_classes": [],
      "_model_module": "@jupyter-widgets/controls",
      "_model_module_version": "1.5.0",
      "_model_name": "FloatProgressModel",
      "_view_count": null,
      "_view_module": "@jupyter-widgets/controls",
      "_view_module_version": "1.5.0",
      "_view_name": "ProgressView",
      "bar_style": "success",
      "description": "",
      "description_tooltip": null,
      "layout": "IPY_MODEL_5c4da4cd25524291959474d6f3c940d2",
      "max": 1684709,
      "min": 0,
      "orientation": "horizontal",
      "style": "IPY_MODEL_772220888e3142b48168993e9d5f6941",
      "value": 1684709
     }
    },
    "d6f1964c0bbe432198b3568faa260f8c": {
     "model_module": "@jupyter-widgets/base",
     "model_module_version": "1.2.0",
     "model_name": "LayoutModel",
     "state": {
      "_model_module": "@jupyter-widgets/base",
      "_model_module_version": "1.2.0",
      "_model_name": "LayoutModel",
      "_view_count": null,
      "_view_module": "@jupyter-widgets/base",
      "_view_module_version": "1.2.0",
      "_view_name": "LayoutView",
      "align_content": null,
      "align_items": null,
      "align_self": null,
      "border": null,
      "bottom": null,
      "display": null,
      "flex": null,
      "flex_flow": null,
      "grid_area": null,
      "grid_auto_columns": null,
      "grid_auto_flow": null,
      "grid_auto_rows": null,
      "grid_column": null,
      "grid_gap": null,
      "grid_row": null,
      "grid_template_areas": null,
      "grid_template_columns": null,
      "grid_template_rows": null,
      "height": null,
      "justify_content": null,
      "justify_items": null,
      "left": null,
      "margin": null,
      "max_height": null,
      "max_width": null,
      "min_height": null,
      "min_width": null,
      "object_fit": null,
      "object_position": null,
      "order": null,
      "overflow": null,
      "overflow_x": null,
      "overflow_y": null,
      "padding": null,
      "right": null,
      "top": null,
      "visibility": null,
      "width": null
     }
    },
    "d7ecb224c03d4363ac6da2c428ede76f": {
     "model_module": "@jupyter-widgets/base",
     "model_module_version": "1.2.0",
     "model_name": "LayoutModel",
     "state": {
      "_model_module": "@jupyter-widgets/base",
      "_model_module_version": "1.2.0",
      "_model_name": "LayoutModel",
      "_view_count": null,
      "_view_module": "@jupyter-widgets/base",
      "_view_module_version": "1.2.0",
      "_view_name": "LayoutView",
      "align_content": null,
      "align_items": null,
      "align_self": null,
      "border": null,
      "bottom": null,
      "display": null,
      "flex": null,
      "flex_flow": null,
      "grid_area": null,
      "grid_auto_columns": null,
      "grid_auto_flow": null,
      "grid_auto_rows": null,
      "grid_column": null,
      "grid_gap": null,
      "grid_row": null,
      "grid_template_areas": null,
      "grid_template_columns": null,
      "grid_template_rows": null,
      "height": null,
      "justify_content": null,
      "justify_items": null,
      "left": null,
      "margin": null,
      "max_height": null,
      "max_width": null,
      "min_height": null,
      "min_width": null,
      "object_fit": null,
      "object_position": null,
      "order": null,
      "overflow": null,
      "overflow_x": null,
      "overflow_y": null,
      "padding": null,
      "right": null,
      "top": null,
      "visibility": null,
      "width": null
     }
    },
    "da846a9bebbe4dfb8c6da3ea538bf5c9": {
     "model_module": "@jupyter-widgets/base",
     "model_module_version": "1.2.0",
     "model_name": "LayoutModel",
     "state": {
      "_model_module": "@jupyter-widgets/base",
      "_model_module_version": "1.2.0",
      "_model_name": "LayoutModel",
      "_view_count": null,
      "_view_module": "@jupyter-widgets/base",
      "_view_module_version": "1.2.0",
      "_view_name": "LayoutView",
      "align_content": null,
      "align_items": null,
      "align_self": null,
      "border": null,
      "bottom": null,
      "display": null,
      "flex": null,
      "flex_flow": null,
      "grid_area": null,
      "grid_auto_columns": null,
      "grid_auto_flow": null,
      "grid_auto_rows": null,
      "grid_column": null,
      "grid_gap": null,
      "grid_row": null,
      "grid_template_areas": null,
      "grid_template_columns": null,
      "grid_template_rows": null,
      "height": null,
      "justify_content": null,
      "justify_items": null,
      "left": null,
      "margin": null,
      "max_height": null,
      "max_width": null,
      "min_height": null,
      "min_width": null,
      "object_fit": null,
      "object_position": null,
      "order": null,
      "overflow": null,
      "overflow_x": null,
      "overflow_y": null,
      "padding": null,
      "right": null,
      "top": null,
      "visibility": null,
      "width": null
     }
    },
    "e14a21022c6542628c4a1ae17664d1d9": {
     "model_module": "@jupyter-widgets/base",
     "model_module_version": "1.2.0",
     "model_name": "LayoutModel",
     "state": {
      "_model_module": "@jupyter-widgets/base",
      "_model_module_version": "1.2.0",
      "_model_name": "LayoutModel",
      "_view_count": null,
      "_view_module": "@jupyter-widgets/base",
      "_view_module_version": "1.2.0",
      "_view_name": "LayoutView",
      "align_content": null,
      "align_items": null,
      "align_self": null,
      "border": null,
      "bottom": null,
      "display": null,
      "flex": null,
      "flex_flow": null,
      "grid_area": null,
      "grid_auto_columns": null,
      "grid_auto_flow": null,
      "grid_auto_rows": null,
      "grid_column": null,
      "grid_gap": null,
      "grid_row": null,
      "grid_template_areas": null,
      "grid_template_columns": null,
      "grid_template_rows": null,
      "height": null,
      "justify_content": null,
      "justify_items": null,
      "left": null,
      "margin": null,
      "max_height": null,
      "max_width": null,
      "min_height": null,
      "min_width": null,
      "object_fit": null,
      "object_position": null,
      "order": null,
      "overflow": null,
      "overflow_x": null,
      "overflow_y": null,
      "padding": null,
      "right": null,
      "top": null,
      "visibility": null,
      "width": null
     }
    },
    "e6dc870cb7814fd3ad78031a1b30cb73": {
     "model_module": "@jupyter-widgets/controls",
     "model_module_version": "1.5.0",
     "model_name": "ProgressStyleModel",
     "state": {
      "_model_module": "@jupyter-widgets/controls",
      "_model_module_version": "1.5.0",
      "_model_name": "ProgressStyleModel",
      "_view_count": null,
      "_view_module": "@jupyter-widgets/base",
      "_view_module_version": "1.2.0",
      "_view_name": "StyleView",
      "bar_color": null,
      "description_width": ""
     }
    },
    "ebbaa89c8c4c4de78aea3485258a90b6": {
     "model_module": "@jupyter-widgets/base",
     "model_module_version": "1.2.0",
     "model_name": "LayoutModel",
     "state": {
      "_model_module": "@jupyter-widgets/base",
      "_model_module_version": "1.2.0",
      "_model_name": "LayoutModel",
      "_view_count": null,
      "_view_module": "@jupyter-widgets/base",
      "_view_module_version": "1.2.0",
      "_view_name": "LayoutView",
      "align_content": null,
      "align_items": null,
      "align_self": null,
      "border": null,
      "bottom": null,
      "display": null,
      "flex": null,
      "flex_flow": null,
      "grid_area": null,
      "grid_auto_columns": null,
      "grid_auto_flow": null,
      "grid_auto_rows": null,
      "grid_column": null,
      "grid_gap": null,
      "grid_row": null,
      "grid_template_areas": null,
      "grid_template_columns": null,
      "grid_template_rows": null,
      "height": null,
      "justify_content": null,
      "justify_items": null,
      "left": null,
      "margin": null,
      "max_height": null,
      "max_width": null,
      "min_height": null,
      "min_width": null,
      "object_fit": null,
      "object_position": null,
      "order": null,
      "overflow": null,
      "overflow_x": null,
      "overflow_y": null,
      "padding": null,
      "right": null,
      "top": null,
      "visibility": null,
      "width": null
     }
    },
    "efd5b90d7c82403a8a3d89913e236d56": {
     "model_module": "@jupyter-widgets/controls",
     "model_module_version": "1.5.0",
     "model_name": "HBoxModel",
     "state": {
      "_dom_classes": [],
      "_model_module": "@jupyter-widgets/controls",
      "_model_module_version": "1.5.0",
      "_model_name": "HBoxModel",
      "_view_count": null,
      "_view_module": "@jupyter-widgets/controls",
      "_view_module_version": "1.5.0",
      "_view_name": "HBoxView",
      "box_style": "",
      "children": [
       "IPY_MODEL_5391b23394a14adca9af01c30328f616",
       "IPY_MODEL_69c20f27bf724ef8845e347ada5d827a",
       "IPY_MODEL_05e93ad22ecc463cb1eb08ee0f25e52a"
      ],
      "layout": "IPY_MODEL_57df30b43585417d8ad1259b8c388ddc"
     }
    },
    "f6f77902e86f4ca293966e14ace338a7": {
     "model_module": "@jupyter-widgets/controls",
     "model_module_version": "1.5.0",
     "model_name": "HTMLModel",
     "state": {
      "_dom_classes": [],
      "_model_module": "@jupyter-widgets/controls",
      "_model_module_version": "1.5.0",
      "_model_name": "HTMLModel",
      "_view_count": null,
      "_view_module": "@jupyter-widgets/controls",
      "_view_module_version": "1.5.0",
      "_view_name": "HTMLView",
      "description": "",
      "description_tooltip": null,
      "layout": "IPY_MODEL_4ca21107cce9472095599ca5ee2c1aa6",
      "placeholder": "​",
      "style": "IPY_MODEL_ae7d85550ee94068b180773b783e15a5",
      "value": " 1.68M/1.68M [00:00&lt;00:00, 3.37MB/s]"
     }
    }
   }
  }
 },
 "nbformat": 4,
 "nbformat_minor": 4
}
