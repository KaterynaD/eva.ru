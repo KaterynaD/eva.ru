{
 "cells": [
  {
   "cell_type": "code",
   "execution_count": 1,
   "metadata": {
    "id": "_dtHIFcGoF8V"
   },
   "outputs": [],
   "source": [
    "import os\n",
    "import datetime\n",
    "import pandas as pd\n",
    "import numpy as np"
   ]
  },
  {
   "cell_type": "code",
   "execution_count": 2,
   "metadata": {},
   "outputs": [],
   "source": [
    "lizon_id = 69715"
   ]
  },
  {
   "cell_type": "code",
   "execution_count": 2,
   "metadata": {
    "id": "byo5RoPmoLVJ"
   },
   "outputs": [],
   "source": [
    "Data='/home/kate/Projects/eva/Data'\n",
    "\n",
    "Messages_filename='Main/Messages.csv'\n",
    "Messages_full_filename=os.path.join(Data, Messages_filename)\n",
    "\n",
    "OriginalMessages_filename='Main/OriginalMessages.csv'\n",
    "OriginalMessages_full_filename=os.path.join(Data, OriginalMessages_filename)\n",
    "\n",
    "Authors_filename='Main/Authors.csv'\n",
    "Authors_full_filename=os.path.join(Data, Authors_filename)\n",
    "\n",
    "ta_extension_filename='Main/TextAttributes_ext.csv'\n",
    "ta_extension_full_filename=os.path.join(Data, ta_extension_filename)\n",
    "\n",
    "\n",
    "ft_filename='lizon_data_for_finetuning.csv'\n",
    "ft_full_filename=os.path.join(Data, ft_filename)\n",
    "\n",
    "ft_filename_test='Subprojects/lizon/lizon_clone_data_for_test.csv'\n",
    "ft_full_filename_test=os.path.join(Data, ft_filename_test)\n",
    "\n",
    "SimilarAuthors_filename='Subprojects/lizon/lizon_similar_authors.csv'\n",
    "SimilarAuthors_full_filename=os.path.join(Data, SimilarAuthors_filename)\n",
    "\n",
    "all_lizon_messages_filename='Subprojects/lizon/all_lizon_and_clones_messages.csv'\n",
    "all_lizon_messages_full_filename=os.path.join(Data, all_lizon_messages_filename)"
   ]
  },
  {
   "cell_type": "code",
   "execution_count": null,
   "metadata": {
    "id": "94HrRE9Moduk"
   },
   "outputs": [],
   "source": [
    "Messages = pd.read_csv(Messages_full_filename, error_bad_lines=False, index_col=False)"
   ]
  },
  {
   "cell_type": "code",
   "execution_count": null,
   "metadata": {},
   "outputs": [],
   "source": [
    "AMessages = Messages[Messages['Author_Id']!=0].copy(deep=True)"
   ]
  },
  {
   "cell_type": "code",
   "execution_count": null,
   "metadata": {},
   "outputs": [],
   "source": [
    "del Messages"
   ]
  },
  {
   "cell_type": "code",
   "execution_count": null,
   "metadata": {},
   "outputs": [],
   "source": [
    "len(AMessages)"
   ]
  },
  {
   "cell_type": "markdown",
   "metadata": {},
   "source": [
    "## Messages, no less then 25 words, from all topics where lizon present"
   ]
  },
  {
   "cell_type": "code",
   "execution_count": null,
   "metadata": {},
   "outputs": [],
   "source": [
    "topic_id_with_lizon=Messages[Messages['Author_Id']==lizon_id]['Topic_Id'].unique()"
   ]
  },
  {
   "cell_type": "code",
   "execution_count": null,
   "metadata": {},
   "outputs": [],
   "source": [
    "len(topic_id_with_lizon)"
   ]
  },
  {
   "cell_type": "code",
   "execution_count": null,
   "metadata": {},
   "outputs": [],
   "source": [
    "AMessages=Messages[Messages['Topic_Id'].isin(topic_id_with_lizon)].copy(deep=True)"
   ]
  },
  {
   "cell_type": "code",
   "execution_count": null,
   "metadata": {},
   "outputs": [],
   "source": [
    "AMessages=AMessages[AMessages['Author_Id']!=0]"
   ]
  },
  {
   "cell_type": "code",
   "execution_count": null,
   "metadata": {},
   "outputs": [],
   "source": [
    "AMessages= AMessages[AMessages['message_words']>=25]"
   ]
  },
  {
   "cell_type": "code",
   "execution_count": null,
   "metadata": {},
   "outputs": [],
   "source": [
    "len(AMessages)"
   ]
  },
  {
   "cell_type": "code",
   "execution_count": null,
   "metadata": {},
   "outputs": [],
   "source": [
    "AMessages['target']=['lizon' if x == lizon_id else 'Other' for x in AMessages['Author_Id']]"
   ]
  },
  {
   "cell_type": "code",
   "execution_count": null,
   "metadata": {},
   "outputs": [],
   "source": [
    "AMessages.groupby(['target']).size().reset_index(name='counts').sort_values('counts', ascending=False)"
   ]
  },
  {
   "cell_type": "code",
   "execution_count": null,
   "metadata": {},
   "outputs": [],
   "source": [
    "#AMessages=AMessages[['Message_Id','Author_Id','author', 'message','original_message','message_words','target']]"
   ]
  },
  {
   "cell_type": "code",
   "execution_count": null,
   "metadata": {},
   "outputs": [],
   "source": [
    "AMessages.to_csv(ft_full_filename, header=True, index=False)"
   ]
  },
  {
   "cell_type": "markdown",
   "metadata": {},
   "source": [
    "## Dataset to find lizon's clones (model application)"
   ]
  },
  {
   "cell_type": "markdown",
   "metadata": {},
   "source": [
    "### Authors to check"
   ]
  },
  {
   "cell_type": "code",
   "execution_count": 4,
   "metadata": {},
   "outputs": [],
   "source": [
    "Authors = pd.read_csv(Authors_full_filename, error_bad_lines=False, index_col=False)"
   ]
  },
  {
   "cell_type": "code",
   "execution_count": 5,
   "metadata": {},
   "outputs": [
    {
     "data": {
      "text/html": [
       "<div>\n",
       "<style scoped>\n",
       "    .dataframe tbody tr th:only-of-type {\n",
       "        vertical-align: middle;\n",
       "    }\n",
       "\n",
       "    .dataframe tbody tr th {\n",
       "        vertical-align: top;\n",
       "    }\n",
       "\n",
       "    .dataframe thead th {\n",
       "        text-align: right;\n",
       "    }\n",
       "</style>\n",
       "<table border=\"1\" class=\"dataframe\">\n",
       "  <thead>\n",
       "    <tr style=\"text-align: right;\">\n",
       "      <th></th>\n",
       "      <th>Author_Id</th>\n",
       "      <th>author</th>\n",
       "      <th>cnt_messages</th>\n",
       "      <th>First_Message_Id</th>\n",
       "      <th>Last_Message_Id</th>\n",
       "      <th>first_message_ts</th>\n",
       "      <th>last_message_ts</th>\n",
       "      <th>cnt_topics_started</th>\n",
       "      <th>avg_immediate_childs</th>\n",
       "      <th>avg_childs</th>\n",
       "      <th>...</th>\n",
       "      <th>avg_messages_with_questions</th>\n",
       "      <th>avg_ASW</th>\n",
       "      <th>avg_PLW</th>\n",
       "      <th>avg_TTR</th>\n",
       "      <th>avg_TTR_A</th>\n",
       "      <th>avg_TTR_N</th>\n",
       "      <th>avg_TTR_V</th>\n",
       "      <th>avg_NAV</th>\n",
       "      <th>avg_UNAV</th>\n",
       "      <th>avg_message_words_with_nl</th>\n",
       "    </tr>\n",
       "  </thead>\n",
       "  <tbody>\n",
       "    <tr>\n",
       "      <th>0</th>\n",
       "      <td>23</td>\n",
       "      <td>volv ♧ Clair</td>\n",
       "      <td>1535</td>\n",
       "      <td>67913773</td>\n",
       "      <td>101696362</td>\n",
       "      <td>2011-07-06 11:00:00</td>\n",
       "      <td>2020-11-09 23:07:00</td>\n",
       "      <td>140</td>\n",
       "      <td>1.013681</td>\n",
       "      <td>3.510098</td>\n",
       "      <td>...</td>\n",
       "      <td>0.159609</td>\n",
       "      <td>2.110231</td>\n",
       "      <td>0.131055</td>\n",
       "      <td>0.695840</td>\n",
       "      <td>0.477450</td>\n",
       "      <td>0.787899</td>\n",
       "      <td>0.696991</td>\n",
       "      <td>0.963938</td>\n",
       "      <td>1.471982</td>\n",
       "      <td>11.055375</td>\n",
       "    </tr>\n",
       "    <tr>\n",
       "      <th>1</th>\n",
       "      <td>27</td>\n",
       "      <td>Oxygen 27 F*</td>\n",
       "      <td>16</td>\n",
       "      <td>97031390</td>\n",
       "      <td>102288727</td>\n",
       "      <td>2018-05-17 14:17:00</td>\n",
       "      <td>2021-02-19 17:01:00</td>\n",
       "      <td>0</td>\n",
       "      <td>0.312500</td>\n",
       "      <td>0.812500</td>\n",
       "      <td>...</td>\n",
       "      <td>0.000000</td>\n",
       "      <td>1.931435</td>\n",
       "      <td>0.088466</td>\n",
       "      <td>0.821663</td>\n",
       "      <td>0.675000</td>\n",
       "      <td>0.907087</td>\n",
       "      <td>0.750000</td>\n",
       "      <td>1.144587</td>\n",
       "      <td>1.690625</td>\n",
       "      <td>23.562500</td>\n",
       "    </tr>\n",
       "    <tr>\n",
       "      <th>2</th>\n",
       "      <td>32</td>\n",
       "      <td>Редакция Евы</td>\n",
       "      <td>784</td>\n",
       "      <td>80470511</td>\n",
       "      <td>96142872</td>\n",
       "      <td>2013-04-29 13:46:00</td>\n",
       "      <td>2017-12-11 20:44:00</td>\n",
       "      <td>758</td>\n",
       "      <td>2.332908</td>\n",
       "      <td>5.241071</td>\n",
       "      <td>...</td>\n",
       "      <td>0.237245</td>\n",
       "      <td>2.126801</td>\n",
       "      <td>0.158996</td>\n",
       "      <td>0.899764</td>\n",
       "      <td>0.894424</td>\n",
       "      <td>0.881867</td>\n",
       "      <td>0.960929</td>\n",
       "      <td>1.854450</td>\n",
       "      <td>3.460838</td>\n",
       "      <td>39.991071</td>\n",
       "    </tr>\n",
       "    <tr>\n",
       "      <th>3</th>\n",
       "      <td>35</td>\n",
       "      <td>Малефисента ⚜**</td>\n",
       "      <td>3415</td>\n",
       "      <td>51064403</td>\n",
       "      <td>101933631</td>\n",
       "      <td>2009-11-02 14:26:00</td>\n",
       "      <td>2020-12-21 17:49:00</td>\n",
       "      <td>4</td>\n",
       "      <td>0.720059</td>\n",
       "      <td>2.950220</td>\n",
       "      <td>...</td>\n",
       "      <td>0.267643</td>\n",
       "      <td>1.868171</td>\n",
       "      <td>0.094348</td>\n",
       "      <td>0.815487</td>\n",
       "      <td>0.540761</td>\n",
       "      <td>0.887042</td>\n",
       "      <td>0.836398</td>\n",
       "      <td>1.331377</td>\n",
       "      <td>1.755030</td>\n",
       "      <td>19.369253</td>\n",
       "    </tr>\n",
       "    <tr>\n",
       "      <th>4</th>\n",
       "      <td>36</td>\n",
       "      <td>Доктор Филатов SD*</td>\n",
       "      <td>4992</td>\n",
       "      <td>81110399</td>\n",
       "      <td>101760074</td>\n",
       "      <td>2013-06-18 17:11:00</td>\n",
       "      <td>2020-11-20 18:00:00</td>\n",
       "      <td>8</td>\n",
       "      <td>0.860377</td>\n",
       "      <td>3.353566</td>\n",
       "      <td>...</td>\n",
       "      <td>0.223758</td>\n",
       "      <td>2.066710</td>\n",
       "      <td>0.143977</td>\n",
       "      <td>0.864907</td>\n",
       "      <td>0.783424</td>\n",
       "      <td>0.867137</td>\n",
       "      <td>0.894132</td>\n",
       "      <td>1.730154</td>\n",
       "      <td>2.140106</td>\n",
       "      <td>55.311098</td>\n",
       "    </tr>\n",
       "  </tbody>\n",
       "</table>\n",
       "<p>5 rows × 97 columns</p>\n",
       "</div>"
      ],
      "text/plain": [
       "   Author_Id              author  cnt_messages  First_Message_Id  \\\n",
       "0         23        volv ♧ Clair          1535          67913773   \n",
       "1         27        Oxygen 27 F*            16          97031390   \n",
       "2         32        Редакция Евы           784          80470511   \n",
       "3         35     Малефисента ⚜**          3415          51064403   \n",
       "4         36  Доктор Филатов SD*          4992          81110399   \n",
       "\n",
       "   Last_Message_Id     first_message_ts      last_message_ts  \\\n",
       "0        101696362  2011-07-06 11:00:00  2020-11-09 23:07:00   \n",
       "1        102288727  2018-05-17 14:17:00  2021-02-19 17:01:00   \n",
       "2         96142872  2013-04-29 13:46:00  2017-12-11 20:44:00   \n",
       "3        101933631  2009-11-02 14:26:00  2020-12-21 17:49:00   \n",
       "4        101760074  2013-06-18 17:11:00  2020-11-20 18:00:00   \n",
       "\n",
       "   cnt_topics_started  avg_immediate_childs  avg_childs  ...  \\\n",
       "0                 140              1.013681    3.510098  ...   \n",
       "1                   0              0.312500    0.812500  ...   \n",
       "2                 758              2.332908    5.241071  ...   \n",
       "3                   4              0.720059    2.950220  ...   \n",
       "4                   8              0.860377    3.353566  ...   \n",
       "\n",
       "   avg_messages_with_questions   avg_ASW   avg_PLW   avg_TTR  avg_TTR_A  \\\n",
       "0                     0.159609  2.110231  0.131055  0.695840   0.477450   \n",
       "1                     0.000000  1.931435  0.088466  0.821663   0.675000   \n",
       "2                     0.237245  2.126801  0.158996  0.899764   0.894424   \n",
       "3                     0.267643  1.868171  0.094348  0.815487   0.540761   \n",
       "4                     0.223758  2.066710  0.143977  0.864907   0.783424   \n",
       "\n",
       "   avg_TTR_N  avg_TTR_V   avg_NAV  avg_UNAV  avg_message_words_with_nl  \n",
       "0   0.787899   0.696991  0.963938  1.471982                  11.055375  \n",
       "1   0.907087   0.750000  1.144587  1.690625                  23.562500  \n",
       "2   0.881867   0.960929  1.854450  3.460838                  39.991071  \n",
       "3   0.887042   0.836398  1.331377  1.755030                  19.369253  \n",
       "4   0.867137   0.894132  1.730154  2.140106                  55.311098  \n",
       "\n",
       "[5 rows x 97 columns]"
      ]
     },
     "execution_count": 5,
     "metadata": {},
     "output_type": "execute_result"
    }
   ],
   "source": [
    "Authors.head()"
   ]
  },
  {
   "cell_type": "code",
   "execution_count": 6,
   "metadata": {},
   "outputs": [
    {
     "data": {
      "text/plain": [
       "Index(['Author_Id', 'author', 'cnt_messages', 'First_Message_Id',\n",
       "       'Last_Message_Id', 'first_message_ts', 'last_message_ts',\n",
       "       'cnt_topics_started', 'avg_immediate_childs', 'avg_childs', 'TotalDays',\n",
       "       'DaysWithMessages', 'avg_messages_per_day', 'Period1', 'Period2',\n",
       "       'Period3', 'avg_messages_per_day_Period1',\n",
       "       'avg_messages_per_day_Period2', 'avg_messages_per_day_Period3',\n",
       "       'PeriodDailyPeriodicity', 'dawn', 'early morning', 'late morning',\n",
       "       'noon', 'afternoon', 'evening', 'night', 'midnight',\n",
       "       'DayPartPeriodicity', 'Period1_cnt_messages', 'Period2_cnt_messages',\n",
       "       'Period3_cnt_messages', '1 - dawn', '1 - early morning',\n",
       "       '1 - late morning', '1 - noon', '1 - afternoon', '1 - evening',\n",
       "       '1 - night', '1 - midnight', '2 - dawn', '2 - early morning',\n",
       "       '2 - late morning', '2 - noon', '2 - afternoon', '2 - evening',\n",
       "       '2 - night', '2 - midnight', '3 - dawn', '3 - early morning',\n",
       "       '3 - late morning', '3 - noon', '3 - afternoon', '3 - evening',\n",
       "       '3 - night', '3 - midnight', 'Period1 - DayPartPeriodicity',\n",
       "       'Period2 - DayPartPeriodicity', 'Period3 - DayPartPeriodicity',\n",
       "       'PeriodDailyPeriodicityDetailed', 'DayPartPeriodicityDetailed',\n",
       "       'Period1 - DayPartPeriodicityDetailed',\n",
       "       'Period2 - DayPartPeriodicityDetailed',\n",
       "       'Period3 - DayPartPeriodicityDetailed', 'fraction_of_neg_rersponses',\n",
       "       'fraction_of_pos_rersponses', 'fraction_of_tatyana_neg_rersponses',\n",
       "       'fraction_of_tatyana_pos_rersponses',\n",
       "       'fraction_of_dostoevsky_neg_rersponses',\n",
       "       'fraction_of_dostoevsky_pos_rersponses', 'fraction_of_neg_messages',\n",
       "       'fraction_of_pos_messages', 'fraction_of_tatyana_neg_messages',\n",
       "       'fraction_of_tatyana_pos_messages',\n",
       "       'fraction_of_dostoevsky_neg_messages',\n",
       "       'fraction_of_dostoevsky_pos_messages', 'fraction_emojis',\n",
       "       'fraction_images', 'fraction_links', 'avg_message_words',\n",
       "       'avg_original_paragraphs', 'avg_actual_paragraphs',\n",
       "       'avg_paragraph_words', 'avg_messages_excessive_exclamations',\n",
       "       'avg_messages_excessive_questions', 'avg_messages_excessive_other',\n",
       "       'avg_messages_with_exclamations', 'avg_messages_with_questions',\n",
       "       'avg_ASW', 'avg_PLW', 'avg_TTR', 'avg_TTR_A', 'avg_TTR_N', 'avg_TTR_V',\n",
       "       'avg_NAV', 'avg_UNAV', 'avg_message_words_with_nl'],\n",
       "      dtype='object')"
      ]
     },
     "execution_count": 6,
     "metadata": {},
     "output_type": "execute_result"
    }
   ],
   "source": [
    "Authors.columns"
   ]
  },
  {
   "cell_type": "code",
   "execution_count": 7,
   "metadata": {},
   "outputs": [],
   "source": [
    "Authors['first_message_ts']=pd.to_datetime(Authors['first_message_ts'], format='%Y-%m-%d %H:%M:%S')\n",
    "Authors['last_message_ts']=pd.to_datetime(Authors['last_message_ts'], format='%Y-%m-%d %H:%M:%S')"
   ]
  },
  {
   "cell_type": "code",
   "execution_count": 8,
   "metadata": {},
   "outputs": [
    {
     "data": {
      "text/plain": [
       "3485   2010-12-07 23:18:00\n",
       "Name: last_message_ts, dtype: datetime64[ns]"
      ]
     },
     "execution_count": 8,
     "metadata": {},
     "output_type": "execute_result"
    }
   ],
   "source": [
    "#lizon's last message\n",
    "Authors[Authors['Author_Id']==lizon_id]['last_message_ts']"
   ]
  },
  {
   "cell_type": "code",
   "execution_count": 9,
   "metadata": {},
   "outputs": [
    {
     "data": {
      "text/plain": [
       "10735"
      ]
     },
     "execution_count": 9,
     "metadata": {},
     "output_type": "execute_result"
    }
   ],
   "source": [
    "#All new authors after the date\n",
    "len(Authors[Authors['first_message_ts']>'2010-12-07 23:18:00'])"
   ]
  },
  {
   "cell_type": "code",
   "execution_count": 10,
   "metadata": {},
   "outputs": [
    {
     "data": {
      "text/plain": [
       "670"
      ]
     },
     "execution_count": 10,
     "metadata": {},
     "output_type": "execute_result"
    }
   ],
   "source": [
    "#Authors posted after the last lizon's date with reasonable number of messages\n",
    "#5000 because I would remember an author with more messages\n",
    "#100 because with less messages authors write as Anonymous\n",
    "#TotalDays>1 because authors with 100+ messages in very few days are spamers most likely and they are banned\n",
    "len(Authors[((Authors['first_message_ts']>'2010-12-07 23:18:00') & (Authors['TotalDays']>1) & (Authors['cnt_messages']>100) & (Authors['cnt_messages']<5000))])"
   ]
  },
  {
   "cell_type": "code",
   "execution_count": 11,
   "metadata": {},
   "outputs": [],
   "source": [
    "Authors = Authors[((Authors['Author_Id']==lizon_id) | ((Authors['first_message_ts']>'2010-12-07 23:18:00') & (Authors['TotalDays']>1) & (Authors['cnt_messages']>100) & (Authors['cnt_messages']<5000)))]"
   ]
  },
  {
   "cell_type": "markdown",
   "metadata": {},
   "source": [
    "### Can we limit the number of authors to check even more?"
   ]
  },
  {
   "cell_type": "code",
   "execution_count": 12,
   "metadata": {},
   "outputs": [],
   "source": [
    "from sklearn.metrics.pairwise import cosine_similarity"
   ]
  },
  {
   "cell_type": "code",
   "execution_count": 13,
   "metadata": {},
   "outputs": [],
   "source": [
    "columns_to_compare=[\n",
    "'fraction_of_tneg_messages',\n",
    "'fraction_of_tpos_messages',\n",
    "'fraction_of_Large_Topics',\n",
    "'fraction_of_messages_with_immediate_responses',\n",
    "'avg_immediate_responses',\n",
    "'fraction_of_messages_with_discussion',\n",
    "'avg_responses',\n",
    "'fraction_of_neg_rersponses',\n",
    "'fraction_of_pos_rersponses',\n",
    "'fraction_of_messages_with_emojis',\n",
    "'fraction_of_messages_with_images',\n",
    "'fraction_of_messages_with_links',\n",
    "'fraction_of_messages_with_excessive_exclamations',\n",
    "'fraction_of_messages_with_excessive_questions',\n",
    "'fraction_of_messages_with_excessive_other',\n",
    "'fraction_of_medium_with_commas',\n",
    "'avg_num_commas',\n",
    "'avg_sent_len',\n",
    "'avg_num_sent',\n",
    "'avg_ASW',\n",
    "'avg_PLW',\n",
    "'avg_fraction_of_Adj',\n",
    "'avg_fraction_of_Verbs',\n",
    "'avg_fraction_of_Nouns',\n",
    "'avg_TTR',\n",
    "'avg_TTR_A',\n",
    "'avg_TTR_N',\n",
    "'avg_TTR_V',\n",
    "'avg_NAV',\n",
    "'avg_UNAV']"
   ]
  },
  {
   "cell_type": "code",
   "execution_count": 15,
   "metadata": {},
   "outputs": [
    {
     "data": {
      "text/plain": [
       "array([[1.06122449e+00, 4.49372057e+00, 3.56223176e-01, 1.11000000e+02,\n",
       "        1.12244898e-01, 5.65149137e-02, 4.37205651e-01, 2.34693878e-01,\n",
       "        1.92307692e-01, 9.49764521e-02, 9.89010989e-02, 3.76766091e-02,\n",
       "        4.60753532e-01, 1.67189953e-01, 1.66405024e-01, 7.53532182e-02,\n",
       "        0.00000000e+00, 0.00000000e+00, 1.42072214e-01, 3.31483516e+01,\n",
       "        1.27629513e+00, 1.21821036e+00, 5.77456247e+00, 1.72684458e-02,\n",
       "        3.92464678e-02, 2.35478807e-03, 6.82888540e-02, 2.98273155e-01,\n",
       "        1.82822218e+00, 9.73044663e-02, 8.22116815e-01, 6.67332157e-01,\n",
       "        8.60415825e-01, 8.31225405e-01, 1.53742940e+00, 1.77914751e+00,\n",
       "        3.41718995e+01]])"
      ]
     },
     "execution_count": 15,
     "metadata": {},
     "output_type": "execute_result"
    }
   ],
   "source": [
    "lizon=np.array(Authors[Authors['Author_Id']==lizon_id][columns_to_compare])\n",
    "lizon"
   ]
  },
  {
   "cell_type": "code",
   "execution_count": 16,
   "metadata": {},
   "outputs": [
    {
     "data": {
      "text/plain": [
       "array([[ 1.01368078,  3.51009772,  0.0887522 , ...,  0.96393826,\n",
       "         1.47198227, 11.05537459],\n",
       "       [ 2.33290816,  5.24107143,  0.31298162, ...,  1.8544502 ,\n",
       "         3.46083783, 39.99107143],\n",
       "       [ 0.8603766 ,  3.35356571,  0.24594395, ...,  1.73015392,\n",
       "         2.1401055 , 55.31109776],\n",
       "       ...,\n",
       "       [ 0.6352459 ,  3.66803279,  0.91304348, ...,  1.30198559,\n",
       "         1.76042884, 18.23770492],\n",
       "       [ 0.95049505,  9.08910891,  0.54545455, ...,  1.78743686,\n",
       "         1.840156  , 47.26732673],\n",
       "       [ 0.8597561 ,  3.45731707,  1.33333333, ...,  1.22108971,\n",
       "         1.63047185, 17.5       ]])"
      ]
     },
     "execution_count": 16,
     "metadata": {},
     "output_type": "execute_result"
    }
   ],
   "source": [
    "others=np.array(Authors[columns_to_compare])\n",
    "others"
   ]
  },
  {
   "cell_type": "code",
   "execution_count": 17,
   "metadata": {},
   "outputs": [],
   "source": [
    "result=cosine_similarity(lizon,others)"
   ]
  },
  {
   "cell_type": "code",
   "execution_count": 18,
   "metadata": {},
   "outputs": [],
   "source": [
    "Authors['liz_sim']=result[0]"
   ]
  },
  {
   "cell_type": "code",
   "execution_count": 20,
   "metadata": {},
   "outputs": [],
   "source": [
    "SimilarAuthors = Authors[Authors['liz_sim']>0.96].sort_values(['liz_sim'],ascending=False)"
   ]
  },
  {
   "cell_type": "code",
   "execution_count": 21,
   "metadata": {},
   "outputs": [
    {
     "data": {
      "text/plain": [
       "465"
      ]
     },
     "execution_count": 21,
     "metadata": {},
     "output_type": "execute_result"
    }
   ],
   "source": [
    "SimilarAuthors['Author_Id'].nunique()"
   ]
  },
  {
   "cell_type": "code",
   "execution_count": 22,
   "metadata": {},
   "outputs": [],
   "source": [
    "SimilarAuthors.to_csv(SimilarAuthors_full_filename, header=True, index=False)"
   ]
  },
  {
   "cell_type": "code",
   "execution_count": 23,
   "metadata": {},
   "outputs": [
    {
     "data": {
      "text/html": [
       "<div>\n",
       "<style scoped>\n",
       "    .dataframe tbody tr th:only-of-type {\n",
       "        vertical-align: middle;\n",
       "    }\n",
       "\n",
       "    .dataframe tbody tr th {\n",
       "        vertical-align: top;\n",
       "    }\n",
       "\n",
       "    .dataframe thead th {\n",
       "        text-align: right;\n",
       "    }\n",
       "</style>\n",
       "<table border=\"1\" class=\"dataframe\">\n",
       "  <thead>\n",
       "    <tr style=\"text-align: right;\">\n",
       "      <th></th>\n",
       "      <th>Author_Id</th>\n",
       "      <th>author</th>\n",
       "      <th>cnt_messages</th>\n",
       "      <th>First_Message_Id</th>\n",
       "      <th>Last_Message_Id</th>\n",
       "      <th>first_message_ts</th>\n",
       "      <th>last_message_ts</th>\n",
       "      <th>cnt_topics_started</th>\n",
       "      <th>avg_immediate_childs</th>\n",
       "      <th>avg_childs</th>\n",
       "      <th>...</th>\n",
       "      <th>avg_ASW</th>\n",
       "      <th>avg_PLW</th>\n",
       "      <th>avg_TTR</th>\n",
       "      <th>avg_TTR_A</th>\n",
       "      <th>avg_TTR_N</th>\n",
       "      <th>avg_TTR_V</th>\n",
       "      <th>avg_NAV</th>\n",
       "      <th>avg_UNAV</th>\n",
       "      <th>avg_message_words_with_nl</th>\n",
       "      <th>liz_sim</th>\n",
       "    </tr>\n",
       "  </thead>\n",
       "  <tbody>\n",
       "    <tr>\n",
       "      <th>3485</th>\n",
       "      <td>69715</td>\n",
       "      <td>lizon **</td>\n",
       "      <td>1274</td>\n",
       "      <td>49189796</td>\n",
       "      <td>62257633</td>\n",
       "      <td>2009-08-28 11:50:00</td>\n",
       "      <td>2010-12-07 23:18:00</td>\n",
       "      <td>19</td>\n",
       "      <td>1.061224</td>\n",
       "      <td>4.493721</td>\n",
       "      <td>...</td>\n",
       "      <td>1.828222</td>\n",
       "      <td>0.097304</td>\n",
       "      <td>0.822117</td>\n",
       "      <td>0.667332</td>\n",
       "      <td>0.860416</td>\n",
       "      <td>0.831225</td>\n",
       "      <td>1.537429</td>\n",
       "      <td>1.779148</td>\n",
       "      <td>34.171900</td>\n",
       "      <td>1.000000</td>\n",
       "    </tr>\n",
       "    <tr>\n",
       "      <th>19739</th>\n",
       "      <td>731728</td>\n",
       "      <td>newyorck D</td>\n",
       "      <td>2142</td>\n",
       "      <td>100170690</td>\n",
       "      <td>103317149</td>\n",
       "      <td>2020-02-17 15:43:00</td>\n",
       "      <td>2021-09-16 20:49:00</td>\n",
       "      <td>32</td>\n",
       "      <td>1.035481</td>\n",
       "      <td>3.554622</td>\n",
       "      <td>...</td>\n",
       "      <td>1.784620</td>\n",
       "      <td>0.091653</td>\n",
       "      <td>0.793863</td>\n",
       "      <td>0.683340</td>\n",
       "      <td>0.828765</td>\n",
       "      <td>0.795792</td>\n",
       "      <td>1.546820</td>\n",
       "      <td>2.063420</td>\n",
       "      <td>43.940243</td>\n",
       "      <td>0.995389</td>\n",
       "    </tr>\n",
       "    <tr>\n",
       "      <th>19218</th>\n",
       "      <td>711697</td>\n",
       "      <td>Lizonn +</td>\n",
       "      <td>136</td>\n",
       "      <td>98135519</td>\n",
       "      <td>98598759</td>\n",
       "      <td>2018-12-29 16:55:00</td>\n",
       "      <td>2019-03-28 23:41:00</td>\n",
       "      <td>2</td>\n",
       "      <td>1.139706</td>\n",
       "      <td>3.632353</td>\n",
       "      <td>...</td>\n",
       "      <td>1.738783</td>\n",
       "      <td>0.085598</td>\n",
       "      <td>0.770215</td>\n",
       "      <td>0.688240</td>\n",
       "      <td>0.780245</td>\n",
       "      <td>0.806089</td>\n",
       "      <td>1.591114</td>\n",
       "      <td>1.983785</td>\n",
       "      <td>51.845588</td>\n",
       "      <td>0.985736</td>\n",
       "    </tr>\n",
       "    <tr>\n",
       "      <th>17566</th>\n",
       "      <td>472696</td>\n",
       "      <td>Кассиапея D</td>\n",
       "      <td>1093</td>\n",
       "      <td>89966258</td>\n",
       "      <td>98530888</td>\n",
       "      <td>2015-06-24 22:40:00</td>\n",
       "      <td>2019-03-16 15:05:00</td>\n",
       "      <td>15</td>\n",
       "      <td>1.116194</td>\n",
       "      <td>4.318390</td>\n",
       "      <td>...</td>\n",
       "      <td>1.788286</td>\n",
       "      <td>0.097028</td>\n",
       "      <td>0.803670</td>\n",
       "      <td>0.709322</td>\n",
       "      <td>0.828456</td>\n",
       "      <td>0.810720</td>\n",
       "      <td>1.592780</td>\n",
       "      <td>1.945643</td>\n",
       "      <td>53.623056</td>\n",
       "      <td>0.983421</td>\n",
       "    </tr>\n",
       "    <tr>\n",
       "      <th>17627</th>\n",
       "      <td>475085</td>\n",
       "      <td>Элиззи H*</td>\n",
       "      <td>3317</td>\n",
       "      <td>90184059</td>\n",
       "      <td>98561081</td>\n",
       "      <td>2015-07-26 22:11:00</td>\n",
       "      <td>2019-03-21 21:20:00</td>\n",
       "      <td>44</td>\n",
       "      <td>1.109135</td>\n",
       "      <td>4.608683</td>\n",
       "      <td>...</td>\n",
       "      <td>1.775261</td>\n",
       "      <td>0.093371</td>\n",
       "      <td>0.805636</td>\n",
       "      <td>0.713185</td>\n",
       "      <td>0.828437</td>\n",
       "      <td>0.818118</td>\n",
       "      <td>1.655201</td>\n",
       "      <td>1.978193</td>\n",
       "      <td>65.477841</td>\n",
       "      <td>0.962142</td>\n",
       "    </tr>\n",
       "  </tbody>\n",
       "</table>\n",
       "<p>5 rows × 98 columns</p>\n",
       "</div>"
      ],
      "text/plain": [
       "       Author_Id       author  cnt_messages  First_Message_Id  \\\n",
       "3485       69715     lizon **          1274          49189796   \n",
       "19739     731728   newyorck D          2142         100170690   \n",
       "19218     711697     Lizonn +           136          98135519   \n",
       "17566     472696  Кассиапея D          1093          89966258   \n",
       "17627     475085    Элиззи H*          3317          90184059   \n",
       "\n",
       "       Last_Message_Id    first_message_ts     last_message_ts  \\\n",
       "3485          62257633 2009-08-28 11:50:00 2010-12-07 23:18:00   \n",
       "19739        103317149 2020-02-17 15:43:00 2021-09-16 20:49:00   \n",
       "19218         98598759 2018-12-29 16:55:00 2019-03-28 23:41:00   \n",
       "17566         98530888 2015-06-24 22:40:00 2019-03-16 15:05:00   \n",
       "17627         98561081 2015-07-26 22:11:00 2019-03-21 21:20:00   \n",
       "\n",
       "       cnt_topics_started  avg_immediate_childs  avg_childs  ...   avg_ASW  \\\n",
       "3485                   19              1.061224    4.493721  ...  1.828222   \n",
       "19739                  32              1.035481    3.554622  ...  1.784620   \n",
       "19218                   2              1.139706    3.632353  ...  1.738783   \n",
       "17566                  15              1.116194    4.318390  ...  1.788286   \n",
       "17627                  44              1.109135    4.608683  ...  1.775261   \n",
       "\n",
       "        avg_PLW   avg_TTR  avg_TTR_A  avg_TTR_N  avg_TTR_V   avg_NAV  \\\n",
       "3485   0.097304  0.822117   0.667332   0.860416   0.831225  1.537429   \n",
       "19739  0.091653  0.793863   0.683340   0.828765   0.795792  1.546820   \n",
       "19218  0.085598  0.770215   0.688240   0.780245   0.806089  1.591114   \n",
       "17566  0.097028  0.803670   0.709322   0.828456   0.810720  1.592780   \n",
       "17627  0.093371  0.805636   0.713185   0.828437   0.818118  1.655201   \n",
       "\n",
       "       avg_UNAV  avg_message_words_with_nl   liz_sim  \n",
       "3485   1.779148                  34.171900  1.000000  \n",
       "19739  2.063420                  43.940243  0.995389  \n",
       "19218  1.983785                  51.845588  0.985736  \n",
       "17566  1.945643                  53.623056  0.983421  \n",
       "17627  1.978193                  65.477841  0.962142  \n",
       "\n",
       "[5 rows x 98 columns]"
      ]
     },
     "execution_count": 23,
     "metadata": {},
     "output_type": "execute_result"
    }
   ],
   "source": [
    "SimilarAuthors[SimilarAuthors['Author_Id'].isin([69715, 711697,475085,472696,731728])]"
   ]
  },
  {
   "cell_type": "code",
   "execution_count": 24,
   "metadata": {},
   "outputs": [
    {
     "data": {
      "text/html": [
       "<div>\n",
       "<style scoped>\n",
       "    .dataframe tbody tr th:only-of-type {\n",
       "        vertical-align: middle;\n",
       "    }\n",
       "\n",
       "    .dataframe tbody tr th {\n",
       "        vertical-align: top;\n",
       "    }\n",
       "\n",
       "    .dataframe thead th {\n",
       "        text-align: right;\n",
       "    }\n",
       "</style>\n",
       "<table border=\"1\" class=\"dataframe\">\n",
       "  <thead>\n",
       "    <tr style=\"text-align: right;\">\n",
       "      <th></th>\n",
       "      <th>Author_Id</th>\n",
       "      <th>author</th>\n",
       "      <th>cnt_messages</th>\n",
       "      <th>First_Message_Id</th>\n",
       "      <th>Last_Message_Id</th>\n",
       "      <th>first_message_ts</th>\n",
       "      <th>last_message_ts</th>\n",
       "      <th>cnt_topics_started</th>\n",
       "      <th>avg_immediate_childs</th>\n",
       "      <th>avg_childs</th>\n",
       "      <th>...</th>\n",
       "      <th>avg_ASW</th>\n",
       "      <th>avg_PLW</th>\n",
       "      <th>avg_TTR</th>\n",
       "      <th>avg_TTR_A</th>\n",
       "      <th>avg_TTR_N</th>\n",
       "      <th>avg_TTR_V</th>\n",
       "      <th>avg_NAV</th>\n",
       "      <th>avg_UNAV</th>\n",
       "      <th>avg_message_words_with_nl</th>\n",
       "      <th>liz_sim</th>\n",
       "    </tr>\n",
       "  </thead>\n",
       "  <tbody>\n",
       "    <tr>\n",
       "      <th>7668</th>\n",
       "      <td>135565</td>\n",
       "      <td>Иона **K**</td>\n",
       "      <td>584</td>\n",
       "      <td>64358144</td>\n",
       "      <td>78026132</td>\n",
       "      <td>2011-02-19 03:48:00</td>\n",
       "      <td>2012-11-26 15:37:00</td>\n",
       "      <td>17</td>\n",
       "      <td>0.681507</td>\n",
       "      <td>1.820205</td>\n",
       "      <td>...</td>\n",
       "      <td>1.840014</td>\n",
       "      <td>0.091946</td>\n",
       "      <td>0.864496</td>\n",
       "      <td>0.819727</td>\n",
       "      <td>0.852036</td>\n",
       "      <td>0.896759</td>\n",
       "      <td>1.817031</td>\n",
       "      <td>1.872381</td>\n",
       "      <td>63.815068</td>\n",
       "      <td>0.960923</td>\n",
       "    </tr>\n",
       "    <tr>\n",
       "      <th>18699</th>\n",
       "      <td>535878</td>\n",
       "      <td>Dilasa H*</td>\n",
       "      <td>283</td>\n",
       "      <td>95954391</td>\n",
       "      <td>103126625</td>\n",
       "      <td>2017-11-12 10:50:00</td>\n",
       "      <td>2021-08-04 13:57:00</td>\n",
       "      <td>0</td>\n",
       "      <td>0.597173</td>\n",
       "      <td>1.826855</td>\n",
       "      <td>...</td>\n",
       "      <td>1.899906</td>\n",
       "      <td>0.086897</td>\n",
       "      <td>0.620923</td>\n",
       "      <td>0.343051</td>\n",
       "      <td>0.740642</td>\n",
       "      <td>0.622264</td>\n",
       "      <td>0.758347</td>\n",
       "      <td>1.073574</td>\n",
       "      <td>10.318021</td>\n",
       "      <td>0.960658</td>\n",
       "    </tr>\n",
       "    <tr>\n",
       "      <th>6763</th>\n",
       "      <td>121007</td>\n",
       "      <td>Cветла +</td>\n",
       "      <td>1516</td>\n",
       "      <td>97921078</td>\n",
       "      <td>102571947</td>\n",
       "      <td>2018-11-18 10:46:00</td>\n",
       "      <td>2021-04-15 01:15:00</td>\n",
       "      <td>0</td>\n",
       "      <td>0.649736</td>\n",
       "      <td>4.185356</td>\n",
       "      <td>...</td>\n",
       "      <td>2.030650</td>\n",
       "      <td>0.112618</td>\n",
       "      <td>0.711570</td>\n",
       "      <td>0.431047</td>\n",
       "      <td>0.777421</td>\n",
       "      <td>0.777554</td>\n",
       "      <td>0.980201</td>\n",
       "      <td>1.259213</td>\n",
       "      <td>9.883245</td>\n",
       "      <td>0.960594</td>\n",
       "    </tr>\n",
       "    <tr>\n",
       "      <th>5742</th>\n",
       "      <td>105871</td>\n",
       "      <td>Арисоль KF**</td>\n",
       "      <td>307</td>\n",
       "      <td>73810035</td>\n",
       "      <td>98412060</td>\n",
       "      <td>2012-03-18 00:24:00</td>\n",
       "      <td>2019-02-20 22:58:00</td>\n",
       "      <td>3</td>\n",
       "      <td>0.960912</td>\n",
       "      <td>3.244300</td>\n",
       "      <td>...</td>\n",
       "      <td>1.952808</td>\n",
       "      <td>0.107603</td>\n",
       "      <td>0.878427</td>\n",
       "      <td>0.797343</td>\n",
       "      <td>0.890229</td>\n",
       "      <td>0.891605</td>\n",
       "      <td>1.739197</td>\n",
       "      <td>2.142288</td>\n",
       "      <td>64.055375</td>\n",
       "      <td>0.960415</td>\n",
       "    </tr>\n",
       "    <tr>\n",
       "      <th>15799</th>\n",
       "      <td>351481</td>\n",
       "      <td>razdor KF**</td>\n",
       "      <td>2358</td>\n",
       "      <td>73364975</td>\n",
       "      <td>98149372</td>\n",
       "      <td>2012-02-27 17:11:00</td>\n",
       "      <td>2019-01-02 19:05:00</td>\n",
       "      <td>4</td>\n",
       "      <td>0.876590</td>\n",
       "      <td>3.012299</td>\n",
       "      <td>...</td>\n",
       "      <td>2.024916</td>\n",
       "      <td>0.124350</td>\n",
       "      <td>0.869615</td>\n",
       "      <td>0.803953</td>\n",
       "      <td>0.870158</td>\n",
       "      <td>0.896494</td>\n",
       "      <td>1.782647</td>\n",
       "      <td>1.994565</td>\n",
       "      <td>64.147583</td>\n",
       "      <td>0.960312</td>\n",
       "    </tr>\n",
       "  </tbody>\n",
       "</table>\n",
       "<p>5 rows × 98 columns</p>\n",
       "</div>"
      ],
      "text/plain": [
       "       Author_Id        author  cnt_messages  First_Message_Id  \\\n",
       "7668      135565    Иона **K**           584          64358144   \n",
       "18699     535878     Dilasa H*           283          95954391   \n",
       "6763      121007      Cветла +          1516          97921078   \n",
       "5742      105871  Арисоль KF**           307          73810035   \n",
       "15799     351481   razdor KF**          2358          73364975   \n",
       "\n",
       "       Last_Message_Id    first_message_ts     last_message_ts  \\\n",
       "7668          78026132 2011-02-19 03:48:00 2012-11-26 15:37:00   \n",
       "18699        103126625 2017-11-12 10:50:00 2021-08-04 13:57:00   \n",
       "6763         102571947 2018-11-18 10:46:00 2021-04-15 01:15:00   \n",
       "5742          98412060 2012-03-18 00:24:00 2019-02-20 22:58:00   \n",
       "15799         98149372 2012-02-27 17:11:00 2019-01-02 19:05:00   \n",
       "\n",
       "       cnt_topics_started  avg_immediate_childs  avg_childs  ...   avg_ASW  \\\n",
       "7668                   17              0.681507    1.820205  ...  1.840014   \n",
       "18699                   0              0.597173    1.826855  ...  1.899906   \n",
       "6763                    0              0.649736    4.185356  ...  2.030650   \n",
       "5742                    3              0.960912    3.244300  ...  1.952808   \n",
       "15799                   4              0.876590    3.012299  ...  2.024916   \n",
       "\n",
       "        avg_PLW   avg_TTR  avg_TTR_A  avg_TTR_N  avg_TTR_V   avg_NAV  \\\n",
       "7668   0.091946  0.864496   0.819727   0.852036   0.896759  1.817031   \n",
       "18699  0.086897  0.620923   0.343051   0.740642   0.622264  0.758347   \n",
       "6763   0.112618  0.711570   0.431047   0.777421   0.777554  0.980201   \n",
       "5742   0.107603  0.878427   0.797343   0.890229   0.891605  1.739197   \n",
       "15799  0.124350  0.869615   0.803953   0.870158   0.896494  1.782647   \n",
       "\n",
       "       avg_UNAV  avg_message_words_with_nl   liz_sim  \n",
       "7668   1.872381                  63.815068  0.960923  \n",
       "18699  1.073574                  10.318021  0.960658  \n",
       "6763   1.259213                   9.883245  0.960594  \n",
       "5742   2.142288                  64.055375  0.960415  \n",
       "15799  1.994565                  64.147583  0.960312  \n",
       "\n",
       "[5 rows x 98 columns]"
      ]
     },
     "execution_count": 24,
     "metadata": {},
     "output_type": "execute_result"
    }
   ],
   "source": [
    "SimilarAuthors.tail()"
   ]
  },
  {
   "cell_type": "code",
   "execution_count": 25,
   "metadata": {},
   "outputs": [
    {
     "data": {
      "text/html": [
       "<div>\n",
       "<style scoped>\n",
       "    .dataframe tbody tr th:only-of-type {\n",
       "        vertical-align: middle;\n",
       "    }\n",
       "\n",
       "    .dataframe tbody tr th {\n",
       "        vertical-align: top;\n",
       "    }\n",
       "\n",
       "    .dataframe thead th {\n",
       "        text-align: right;\n",
       "    }\n",
       "</style>\n",
       "<table border=\"1\" class=\"dataframe\">\n",
       "  <thead>\n",
       "    <tr style=\"text-align: right;\">\n",
       "      <th></th>\n",
       "      <th>Author_Id</th>\n",
       "      <th>author</th>\n",
       "      <th>cnt_messages</th>\n",
       "      <th>First_Message_Id</th>\n",
       "      <th>Last_Message_Id</th>\n",
       "      <th>first_message_ts</th>\n",
       "      <th>last_message_ts</th>\n",
       "      <th>cnt_topics_started</th>\n",
       "      <th>avg_immediate_childs</th>\n",
       "      <th>avg_childs</th>\n",
       "      <th>...</th>\n",
       "      <th>avg_ASW</th>\n",
       "      <th>avg_PLW</th>\n",
       "      <th>avg_TTR</th>\n",
       "      <th>avg_TTR_A</th>\n",
       "      <th>avg_TTR_N</th>\n",
       "      <th>avg_TTR_V</th>\n",
       "      <th>avg_NAV</th>\n",
       "      <th>avg_UNAV</th>\n",
       "      <th>avg_message_words_with_nl</th>\n",
       "      <th>liz_sim</th>\n",
       "    </tr>\n",
       "  </thead>\n",
       "  <tbody>\n",
       "    <tr>\n",
       "      <th>3485</th>\n",
       "      <td>69715</td>\n",
       "      <td>lizon **</td>\n",
       "      <td>1274</td>\n",
       "      <td>49189796</td>\n",
       "      <td>62257633</td>\n",
       "      <td>2009-08-28 11:50:00</td>\n",
       "      <td>2010-12-07 23:18:00</td>\n",
       "      <td>19</td>\n",
       "      <td>1.061224</td>\n",
       "      <td>4.493721</td>\n",
       "      <td>...</td>\n",
       "      <td>1.828222</td>\n",
       "      <td>0.097304</td>\n",
       "      <td>0.822117</td>\n",
       "      <td>0.667332</td>\n",
       "      <td>0.860416</td>\n",
       "      <td>0.831225</td>\n",
       "      <td>1.537429</td>\n",
       "      <td>1.779148</td>\n",
       "      <td>34.171900</td>\n",
       "      <td>1.000000</td>\n",
       "    </tr>\n",
       "    <tr>\n",
       "      <th>4392</th>\n",
       "      <td>84248</td>\n",
       "      <td>Вайс ♤ Clair</td>\n",
       "      <td>210</td>\n",
       "      <td>83225066</td>\n",
       "      <td>102672780</td>\n",
       "      <td>2013-11-30 01:52:00</td>\n",
       "      <td>2021-05-06 06:51:00</td>\n",
       "      <td>2</td>\n",
       "      <td>1.019048</td>\n",
       "      <td>4.485714</td>\n",
       "      <td>...</td>\n",
       "      <td>1.934925</td>\n",
       "      <td>0.100307</td>\n",
       "      <td>0.886657</td>\n",
       "      <td>0.761528</td>\n",
       "      <td>0.917742</td>\n",
       "      <td>0.890403</td>\n",
       "      <td>1.684578</td>\n",
       "      <td>2.116749</td>\n",
       "      <td>33.923810</td>\n",
       "      <td>0.999970</td>\n",
       "    </tr>\n",
       "    <tr>\n",
       "      <th>16190</th>\n",
       "      <td>372195</td>\n",
       "      <td>Мама Коши KF*</td>\n",
       "      <td>114</td>\n",
       "      <td>90691789</td>\n",
       "      <td>103004527</td>\n",
       "      <td>2015-10-01 08:14:00</td>\n",
       "      <td>2021-07-10 00:04:00</td>\n",
       "      <td>6</td>\n",
       "      <td>1.122807</td>\n",
       "      <td>3.885965</td>\n",
       "      <td>...</td>\n",
       "      <td>1.960179</td>\n",
       "      <td>0.097535</td>\n",
       "      <td>0.845605</td>\n",
       "      <td>0.716656</td>\n",
       "      <td>0.877476</td>\n",
       "      <td>0.842552</td>\n",
       "      <td>1.551251</td>\n",
       "      <td>1.893374</td>\n",
       "      <td>33.350877</td>\n",
       "      <td>0.999920</td>\n",
       "    </tr>\n",
       "    <tr>\n",
       "      <th>16737</th>\n",
       "      <td>407082</td>\n",
       "      <td>Salvatore ♕ ♕ ♕ SD*</td>\n",
       "      <td>106</td>\n",
       "      <td>81870905</td>\n",
       "      <td>103098360</td>\n",
       "      <td>2013-08-28 09:40:00</td>\n",
       "      <td>2021-07-29 17:04:00</td>\n",
       "      <td>9</td>\n",
       "      <td>1.226415</td>\n",
       "      <td>3.594340</td>\n",
       "      <td>...</td>\n",
       "      <td>1.747303</td>\n",
       "      <td>0.092109</td>\n",
       "      <td>0.798720</td>\n",
       "      <td>0.644356</td>\n",
       "      <td>0.845180</td>\n",
       "      <td>0.795456</td>\n",
       "      <td>1.524547</td>\n",
       "      <td>1.911942</td>\n",
       "      <td>33.066038</td>\n",
       "      <td>0.999887</td>\n",
       "    </tr>\n",
       "    <tr>\n",
       "      <th>16440</th>\n",
       "      <td>388272</td>\n",
       "      <td>Старая Ведьма D**</td>\n",
       "      <td>178</td>\n",
       "      <td>93562793</td>\n",
       "      <td>103099333</td>\n",
       "      <td>2016-10-15 21:18:00</td>\n",
       "      <td>2021-07-29 20:35:00</td>\n",
       "      <td>1</td>\n",
       "      <td>0.702247</td>\n",
       "      <td>4.089888</td>\n",
       "      <td>...</td>\n",
       "      <td>1.838805</td>\n",
       "      <td>0.088387</td>\n",
       "      <td>0.802443</td>\n",
       "      <td>0.607183</td>\n",
       "      <td>0.846396</td>\n",
       "      <td>0.840087</td>\n",
       "      <td>1.489347</td>\n",
       "      <td>1.523778</td>\n",
       "      <td>32.612360</td>\n",
       "      <td>0.999868</td>\n",
       "    </tr>\n",
       "  </tbody>\n",
       "</table>\n",
       "<p>5 rows × 98 columns</p>\n",
       "</div>"
      ],
      "text/plain": [
       "       Author_Id               author  cnt_messages  First_Message_Id  \\\n",
       "3485       69715             lizon **          1274          49189796   \n",
       "4392       84248         Вайс ♤ Clair           210          83225066   \n",
       "16190     372195        Мама Коши KF*           114          90691789   \n",
       "16737     407082  Salvatore ♕ ♕ ♕ SD*           106          81870905   \n",
       "16440     388272    Старая Ведьма D**           178          93562793   \n",
       "\n",
       "       Last_Message_Id    first_message_ts     last_message_ts  \\\n",
       "3485          62257633 2009-08-28 11:50:00 2010-12-07 23:18:00   \n",
       "4392         102672780 2013-11-30 01:52:00 2021-05-06 06:51:00   \n",
       "16190        103004527 2015-10-01 08:14:00 2021-07-10 00:04:00   \n",
       "16737        103098360 2013-08-28 09:40:00 2021-07-29 17:04:00   \n",
       "16440        103099333 2016-10-15 21:18:00 2021-07-29 20:35:00   \n",
       "\n",
       "       cnt_topics_started  avg_immediate_childs  avg_childs  ...   avg_ASW  \\\n",
       "3485                   19              1.061224    4.493721  ...  1.828222   \n",
       "4392                    2              1.019048    4.485714  ...  1.934925   \n",
       "16190                   6              1.122807    3.885965  ...  1.960179   \n",
       "16737                   9              1.226415    3.594340  ...  1.747303   \n",
       "16440                   1              0.702247    4.089888  ...  1.838805   \n",
       "\n",
       "        avg_PLW   avg_TTR  avg_TTR_A  avg_TTR_N  avg_TTR_V   avg_NAV  \\\n",
       "3485   0.097304  0.822117   0.667332   0.860416   0.831225  1.537429   \n",
       "4392   0.100307  0.886657   0.761528   0.917742   0.890403  1.684578   \n",
       "16190  0.097535  0.845605   0.716656   0.877476   0.842552  1.551251   \n",
       "16737  0.092109  0.798720   0.644356   0.845180   0.795456  1.524547   \n",
       "16440  0.088387  0.802443   0.607183   0.846396   0.840087  1.489347   \n",
       "\n",
       "       avg_UNAV  avg_message_words_with_nl   liz_sim  \n",
       "3485   1.779148                  34.171900  1.000000  \n",
       "4392   2.116749                  33.923810  0.999970  \n",
       "16190  1.893374                  33.350877  0.999920  \n",
       "16737  1.911942                  33.066038  0.999887  \n",
       "16440  1.523778                  32.612360  0.999868  \n",
       "\n",
       "[5 rows x 98 columns]"
      ]
     },
     "execution_count": 25,
     "metadata": {},
     "output_type": "execute_result"
    }
   ],
   "source": [
    "SimilarAuthors.head()"
   ]
  },
  {
   "cell_type": "markdown",
   "metadata": {},
   "source": [
    "## Messages to analyze"
   ]
  },
  {
   "cell_type": "code",
   "execution_count": 4,
   "metadata": {},
   "outputs": [],
   "source": [
    "SimilarAuthors = pd.read_csv(SimilarAuthors_full_filename, error_bad_lines=False, index_col=False)"
   ]
  },
  {
   "cell_type": "code",
   "execution_count": 5,
   "metadata": {},
   "outputs": [],
   "source": [
    "ta_ext = pd.read_csv(ta_extension_full_filename, error_bad_lines=False, index_col=False) "
   ]
  },
  {
   "cell_type": "code",
   "execution_count": 6,
   "metadata": {},
   "outputs": [],
   "source": [
    "OriginalMessages = pd.read_csv(OriginalMessages_full_filename, error_bad_lines=False, index_col=False)"
   ]
  },
  {
   "cell_type": "code",
   "execution_count": 7,
   "metadata": {},
   "outputs": [
    {
     "data": {
      "text/plain": [
       "Index(['Message_Id', 'Timestamp', 'Topic_1st_Message', 'Parent_Id',\n",
       "       'Author_Id', 'author', 'Topic_Id', 'Topic', 'Chapter_Id', 'Chapter',\n",
       "       'original_message', 'cnt_childs', 'cnt_immediate_childs'],\n",
       "      dtype='object')"
      ]
     },
     "execution_count": 7,
     "metadata": {},
     "output_type": "execute_result"
    }
   ],
   "source": [
    "OriginalMessages.columns"
   ]
  },
  {
   "cell_type": "code",
   "execution_count": 8,
   "metadata": {},
   "outputs": [
    {
     "data": {
      "text/plain": [
       "Index(['Message_Id', 'Timestamp', 'Topic_1st_Message', 'Parent_Id',\n",
       "       'Author_Id', 'author', 'Topic_Id', 'Topic', 'Chapter_Id', 'Chapter',\n",
       "       'message_characters', 'message_words', 'emojis', 'images', 'links',\n",
       "       'original_paragraphs', 'actual_paragraphs', 'avg_paragraph_characters',\n",
       "       'avg_paragraph_words', 'cnt_childs', 'cnt_immediate_childs',\n",
       "       'flg_excessive_exclamations', 'flg_excessive_questions',\n",
       "       'flg_excessive_other', 'num_Adj', 'num_unique_Adj', 'num_Nouns',\n",
       "       'num_unique_Nouns', 'num_Verb', 'num_unique_Verb', 'num_tokens',\n",
       "       'num_unique_tokens', 'num_syllables', 'num_long_words',\n",
       "       'num_unique_long_words', 'num_commas', 'num_exclamations',\n",
       "       'num_questions', 'num_words', 'ASW', 'PLW', 'TTR', 'TTR_A', 'TTR_N',\n",
       "       'TTR_V', 'NAV', 'UNAV', 'fraction_of_commas',\n",
       "       'fraction_of_exclamations', 'fraction_of_questions', 'fraction_of_Adj',\n",
       "       'fraction_of_Nouns', 'fraction_of_Verbs', 'diff'],\n",
       "      dtype='object')"
      ]
     },
     "execution_count": 8,
     "metadata": {},
     "output_type": "execute_result"
    }
   ],
   "source": [
    "ta_ext.columns"
   ]
  },
  {
   "cell_type": "code",
   "execution_count": 9,
   "metadata": {},
   "outputs": [],
   "source": [
    "#How many 25+ words messages belong to the similar authors?\n",
    "SimilarMessagesIds = ta_ext[((ta_ext['Author_Id'].isin(SimilarAuthors['Author_Id'].tolist())) & (ta_ext['Author_Id']!=lizon_id) & (ta_ext['message_words']>=25))]['Message_Id']"
   ]
  },
  {
   "cell_type": "code",
   "execution_count": 10,
   "metadata": {},
   "outputs": [
    {
     "data": {
      "text/plain": [
       "123724"
      ]
     },
     "execution_count": 10,
     "metadata": {},
     "output_type": "execute_result"
    }
   ],
   "source": [
    "len(OriginalMessages[OriginalMessages['Message_Id'].isin(SimilarMessagesIds.tolist())])"
   ]
  },
  {
   "cell_type": "code",
   "execution_count": 13,
   "metadata": {},
   "outputs": [],
   "source": [
    "Columns_to_test_dataset=['Message_Id', 'Timestamp', 'Parent_Id','Author_Id',  'Topic_Id', 'Topic', 'original_message']"
   ]
  },
  {
   "cell_type": "code",
   "execution_count": 14,
   "metadata": {},
   "outputs": [],
   "source": [
    "OriginalMessages[OriginalMessages['Message_Id'].isin(SimilarMessagesIds.tolist())][Columns_to_test_dataset].to_csv(ft_full_filename_test, header=True, index=False)"
   ]
  },
  {
   "cell_type": "code",
   "execution_count": 6,
   "metadata": {},
   "outputs": [
    {
     "data": {
      "text/html": [
       "<div>\n",
       "<style scoped>\n",
       "    .dataframe tbody tr th:only-of-type {\n",
       "        vertical-align: middle;\n",
       "    }\n",
       "\n",
       "    .dataframe tbody tr th {\n",
       "        vertical-align: top;\n",
       "    }\n",
       "\n",
       "    .dataframe thead th {\n",
       "        text-align: right;\n",
       "    }\n",
       "</style>\n",
       "<table border=\"1\" class=\"dataframe\">\n",
       "  <thead>\n",
       "    <tr style=\"text-align: right;\">\n",
       "      <th></th>\n",
       "      <th>Author_Id</th>\n",
       "      <th>author</th>\n",
       "      <th>cnt_messages</th>\n",
       "      <th>First_Message_Id</th>\n",
       "      <th>Last_Message_Id</th>\n",
       "      <th>first_message_ts</th>\n",
       "      <th>last_message_ts</th>\n",
       "      <th>cnt_topics_started</th>\n",
       "      <th>avg_immediate_childs</th>\n",
       "      <th>avg_childs</th>\n",
       "      <th>...</th>\n",
       "      <th>avg_messages_with_questions</th>\n",
       "      <th>avg_ASW</th>\n",
       "      <th>avg_PLW</th>\n",
       "      <th>avg_TTR</th>\n",
       "      <th>avg_TTR_A</th>\n",
       "      <th>avg_TTR_N</th>\n",
       "      <th>avg_TTR_V</th>\n",
       "      <th>avg_NAV</th>\n",
       "      <th>avg_UNAV</th>\n",
       "      <th>avg_message_words_with_nl</th>\n",
       "    </tr>\n",
       "  </thead>\n",
       "  <tbody>\n",
       "    <tr>\n",
       "      <th>14771</th>\n",
       "      <td>300514</td>\n",
       "      <td>Lizon \" **K**</td>\n",
       "      <td>955</td>\n",
       "      <td>62997968</td>\n",
       "      <td>78899997</td>\n",
       "      <td>2011-01-04 14:22:00</td>\n",
       "      <td>2013-01-19 20:38:00</td>\n",
       "      <td>30</td>\n",
       "      <td>1.062827</td>\n",
       "      <td>4.025131</td>\n",
       "      <td>...</td>\n",
       "      <td>0.216754</td>\n",
       "      <td>1.809122</td>\n",
       "      <td>0.093493</td>\n",
       "      <td>0.823809</td>\n",
       "      <td>0.708906</td>\n",
       "      <td>0.846763</td>\n",
       "      <td>0.836523</td>\n",
       "      <td>1.618202</td>\n",
       "      <td>1.85228</td>\n",
       "      <td>42.070157</td>\n",
       "    </tr>\n",
       "  </tbody>\n",
       "</table>\n",
       "<p>1 rows × 97 columns</p>\n",
       "</div>"
      ],
      "text/plain": [
       "       Author_Id         author  cnt_messages  First_Message_Id  \\\n",
       "14771     300514  Lizon \" **K**           955          62997968   \n",
       "\n",
       "       Last_Message_Id     first_message_ts      last_message_ts  \\\n",
       "14771         78899997  2011-01-04 14:22:00  2013-01-19 20:38:00   \n",
       "\n",
       "       cnt_topics_started  avg_immediate_childs  avg_childs  ...  \\\n",
       "14771                  30              1.062827    4.025131  ...   \n",
       "\n",
       "       avg_messages_with_questions   avg_ASW   avg_PLW   avg_TTR  avg_TTR_A  \\\n",
       "14771                     0.216754  1.809122  0.093493  0.823809   0.708906   \n",
       "\n",
       "       avg_TTR_N  avg_TTR_V   avg_NAV  avg_UNAV  avg_message_words_with_nl  \n",
       "14771   0.846763   0.836523  1.618202   1.85228                  42.070157  \n",
       "\n",
       "[1 rows x 97 columns]"
      ]
     },
     "execution_count": 6,
     "metadata": {},
     "output_type": "execute_result"
    }
   ],
   "source": [
    "Authors[Authors['author']=='Lizon \" **K**'].head()"
   ]
  },
  {
   "cell_type": "markdown",
   "metadata": {},
   "source": [
    "## All lizon's posts from clones"
   ]
  },
  {
   "cell_type": "code",
   "execution_count": 3,
   "metadata": {},
   "outputs": [],
   "source": [
    "lizon_ids=[69715,\n",
    "300514,\n",
    "100899,\n",
    "424711,\n",
    "472696,\n",
    "475085,\n",
    "711697,\n",
    "731728]"
   ]
  },
  {
   "cell_type": "code",
   "execution_count": 4,
   "metadata": {},
   "outputs": [],
   "source": [
    "OriginalMessages = pd.read_csv(OriginalMessages_full_filename, error_bad_lines=False, index_col=False)"
   ]
  },
  {
   "cell_type": "code",
   "execution_count": 5,
   "metadata": {},
   "outputs": [],
   "source": [
    "lizon_original_messages=OriginalMessages[OriginalMessages['Author_Id'].isin(lizon_ids)].copy(deep=True)"
   ]
  },
  {
   "cell_type": "code",
   "execution_count": 6,
   "metadata": {},
   "outputs": [
    {
     "data": {
      "text/plain": [
       "9778"
      ]
     },
     "execution_count": 6,
     "metadata": {},
     "output_type": "execute_result"
    }
   ],
   "source": [
    "len(lizon_original_messages)"
   ]
  },
  {
   "cell_type": "code",
   "execution_count": 7,
   "metadata": {},
   "outputs": [],
   "source": [
    "del OriginalMessages"
   ]
  },
  {
   "cell_type": "code",
   "execution_count": 8,
   "metadata": {},
   "outputs": [],
   "source": [
    "Messages = pd.read_csv(Messages_full_filename, error_bad_lines=False, index_col=False)"
   ]
  },
  {
   "cell_type": "code",
   "execution_count": 9,
   "metadata": {},
   "outputs": [],
   "source": [
    "lizon_messages=Messages[Messages['Author_Id'].isin(lizon_ids)][['Message_Id','message']].copy(deep=True)"
   ]
  },
  {
   "cell_type": "code",
   "execution_count": 11,
   "metadata": {},
   "outputs": [
    {
     "data": {
      "text/plain": [
       "9778"
      ]
     },
     "execution_count": 11,
     "metadata": {},
     "output_type": "execute_result"
    }
   ],
   "source": [
    "len(lizon_messages)"
   ]
  },
  {
   "cell_type": "code",
   "execution_count": 10,
   "metadata": {},
   "outputs": [],
   "source": [
    "del Messages"
   ]
  },
  {
   "cell_type": "code",
   "execution_count": 12,
   "metadata": {},
   "outputs": [],
   "source": [
    "lizon_messages=pd.merge(lizon_original_messages, lizon_messages, left_on='Message_Id', right_on='Message_Id', how='inner')"
   ]
  },
  {
   "cell_type": "code",
   "execution_count": 15,
   "metadata": {},
   "outputs": [],
   "source": [
    "lizon_messages=lizon_messages[['Message_Id', 'Timestamp', 'Topic_1st_Message', 'Parent_Id',\n",
    "       'Author_Id', 'author', 'Topic_Id', 'Topic', 'Chapter_Id', 'Chapter',\n",
    "       'original_message', 'message', 'cnt_childs', 'cnt_immediate_childs']]"
   ]
  },
  {
   "cell_type": "code",
   "execution_count": 16,
   "metadata": {},
   "outputs": [],
   "source": [
    "del lizon_original_messages"
   ]
  },
  {
   "cell_type": "markdown",
   "metadata": {},
   "source": [
    "### To unify author names (can vary in posts)"
   ]
  },
  {
   "cell_type": "code",
   "execution_count": 17,
   "metadata": {},
   "outputs": [],
   "source": [
    "Authors = pd.read_csv(Authors_full_filename, error_bad_lines=False, index_col=False)"
   ]
  },
  {
   "cell_type": "code",
   "execution_count": 18,
   "metadata": {},
   "outputs": [],
   "source": [
    "lizon_messages=pd.merge(lizon_messages, Authors[['Author_Id','author']],left_on='Author_Id', right_on='Author_Id', how='inner')"
   ]
  },
  {
   "cell_type": "code",
   "execution_count": 20,
   "metadata": {},
   "outputs": [],
   "source": [
    "lizon_messages=lizon_messages[['Message_Id', 'Timestamp', 'Topic_1st_Message', 'Parent_Id',\n",
    "       'Author_Id', 'author_y', 'Topic_Id', 'Topic', 'Chapter_Id', 'Chapter',\n",
    "       'original_message', 'message', 'cnt_childs', 'cnt_immediate_childs']]\n",
    "lizon_messages.columns=['Message_Id', 'Timestamp', 'Topic_1st_Message', 'Parent_Id',\n",
    "       'Author_Id', 'author', 'Topic_Id', 'Topic', 'Chapter_Id', 'Chapter',\n",
    "       'original_message', 'message', 'cnt_childs', 'cnt_immediate_childs']"
   ]
  },
  {
   "cell_type": "code",
   "execution_count": 21,
   "metadata": {},
   "outputs": [
    {
     "data": {
      "text/plain": [
       "9778"
      ]
     },
     "execution_count": 21,
     "metadata": {},
     "output_type": "execute_result"
    }
   ],
   "source": [
    "len(lizon_messages)"
   ]
  },
  {
   "cell_type": "code",
   "execution_count": 22,
   "metadata": {},
   "outputs": [
    {
     "data": {
      "text/html": [
       "<div>\n",
       "<style scoped>\n",
       "    .dataframe tbody tr th:only-of-type {\n",
       "        vertical-align: middle;\n",
       "    }\n",
       "\n",
       "    .dataframe tbody tr th {\n",
       "        vertical-align: top;\n",
       "    }\n",
       "\n",
       "    .dataframe thead th {\n",
       "        text-align: right;\n",
       "    }\n",
       "</style>\n",
       "<table border=\"1\" class=\"dataframe\">\n",
       "  <thead>\n",
       "    <tr style=\"text-align: right;\">\n",
       "      <th></th>\n",
       "      <th>Message_Id</th>\n",
       "      <th>Timestamp</th>\n",
       "      <th>Topic_1st_Message</th>\n",
       "      <th>Parent_Id</th>\n",
       "      <th>Author_Id</th>\n",
       "      <th>author</th>\n",
       "      <th>Topic_Id</th>\n",
       "      <th>Topic</th>\n",
       "      <th>Chapter_Id</th>\n",
       "      <th>Chapter</th>\n",
       "      <th>original_message</th>\n",
       "      <th>message</th>\n",
       "      <th>cnt_childs</th>\n",
       "      <th>cnt_immediate_childs</th>\n",
       "    </tr>\n",
       "  </thead>\n",
       "  <tbody>\n",
       "    <tr>\n",
       "      <th>0</th>\n",
       "      <td>56799126</td>\n",
       "      <td>2010-05-12 22:03:00</td>\n",
       "      <td>N</td>\n",
       "      <td>0</td>\n",
       "      <td>69715</td>\n",
       "      <td>lizon **</td>\n",
       "      <td>2281736</td>\n",
       "      <td>как часто вы покупаете ребенку игрушки?</td>\n",
       "      <td>137</td>\n",
       "      <td>Детская психология и развитие</td>\n",
       "      <td>&lt;div class=\"body\"&gt;Каждую неделю, на барахолках...</td>\n",
       "      <td>Каждую неделю, на барахолках, где-то раз в мес...</td>\n",
       "      <td>1</td>\n",
       "      <td>1</td>\n",
       "    </tr>\n",
       "    <tr>\n",
       "      <th>1</th>\n",
       "      <td>57921402</td>\n",
       "      <td>2010-07-01 12:38:00</td>\n",
       "      <td>N</td>\n",
       "      <td>0</td>\n",
       "      <td>69715</td>\n",
       "      <td>lizon **</td>\n",
       "      <td>2322960</td>\n",
       "      <td>про негра</td>\n",
       "      <td>137</td>\n",
       "      <td>Детская психология и развитие</td>\n",
       "      <td>&lt;div class=\"body\"&gt;Хе, а у нас, где мы жили ран...</td>\n",
       "      <td>Хе, а у нас, где мы жили раньше(свят свят, что...</td>\n",
       "      <td>0</td>\n",
       "      <td>0</td>\n",
       "    </tr>\n",
       "    <tr>\n",
       "      <th>2</th>\n",
       "      <td>58468210</td>\n",
       "      <td>2010-08-02 14:42:00</td>\n",
       "      <td>N</td>\n",
       "      <td>0</td>\n",
       "      <td>69715</td>\n",
       "      <td>lizon **</td>\n",
       "      <td>2350112</td>\n",
       "      <td>Как вы ходите с детьми в рестораны?</td>\n",
       "      <td>137</td>\n",
       "      <td>Детская психология и развитие</td>\n",
       "      <td>&lt;div class=\"body\"&gt;Начали ходить с дитем в рест...</td>\n",
       "      <td>Начали ходить с дитем в рестораны лет с  четыр...</td>\n",
       "      <td>0</td>\n",
       "      <td>0</td>\n",
       "    </tr>\n",
       "    <tr>\n",
       "      <th>3</th>\n",
       "      <td>58468241</td>\n",
       "      <td>2010-08-02 14:43:00</td>\n",
       "      <td>N</td>\n",
       "      <td>0</td>\n",
       "      <td>69715</td>\n",
       "      <td>lizon **</td>\n",
       "      <td>2351751</td>\n",
       "      <td>как спят ваши дети в жару</td>\n",
       "      <td>137</td>\n",
       "      <td>Детская психология и развитие</td>\n",
       "      <td>&lt;div class=\"body\"&gt;Укладываю в жару спать в отк...</td>\n",
       "      <td>Укладываю в жару спать в открытой палатке в са...</td>\n",
       "      <td>0</td>\n",
       "      <td>0</td>\n",
       "    </tr>\n",
       "    <tr>\n",
       "      <th>4</th>\n",
       "      <td>58795095</td>\n",
       "      <td>2010-08-19 22:47:00</td>\n",
       "      <td>Y</td>\n",
       "      <td>0</td>\n",
       "      <td>69715</td>\n",
       "      <td>lizon **</td>\n",
       "      <td>2368698</td>\n",
       "      <td>читаь молитву на ночь в 5 лет-не слишком ли?</td>\n",
       "      <td>137</td>\n",
       "      <td>Детская психология и развитие</td>\n",
       "      <td>&lt;div class=\"body\"&gt;У меня муж очень верующий ка...</td>\n",
       "      <td>У меня муж очень верующий католик. Я атеистка....</td>\n",
       "      <td>50</td>\n",
       "      <td>17</td>\n",
       "    </tr>\n",
       "  </tbody>\n",
       "</table>\n",
       "</div>"
      ],
      "text/plain": [
       "   Message_Id            Timestamp Topic_1st_Message  Parent_Id  Author_Id  \\\n",
       "0    56799126  2010-05-12 22:03:00                 N          0      69715   \n",
       "1    57921402  2010-07-01 12:38:00                 N          0      69715   \n",
       "2    58468210  2010-08-02 14:42:00                 N          0      69715   \n",
       "3    58468241  2010-08-02 14:43:00                 N          0      69715   \n",
       "4    58795095  2010-08-19 22:47:00                 Y          0      69715   \n",
       "\n",
       "     author  Topic_Id                                         Topic  \\\n",
       "0  lizon **   2281736       как часто вы покупаете ребенку игрушки?   \n",
       "1  lizon **   2322960                                     про негра   \n",
       "2  lizon **   2350112           Как вы ходите с детьми в рестораны?   \n",
       "3  lizon **   2351751                     как спят ваши дети в жару   \n",
       "4  lizon **   2368698  читаь молитву на ночь в 5 лет-не слишком ли?   \n",
       "\n",
       "   Chapter_Id                        Chapter  \\\n",
       "0         137  Детская психология и развитие   \n",
       "1         137  Детская психология и развитие   \n",
       "2         137  Детская психология и развитие   \n",
       "3         137  Детская психология и развитие   \n",
       "4         137  Детская психология и развитие   \n",
       "\n",
       "                                    original_message  \\\n",
       "0  <div class=\"body\">Каждую неделю, на барахолках...   \n",
       "1  <div class=\"body\">Хе, а у нас, где мы жили ран...   \n",
       "2  <div class=\"body\">Начали ходить с дитем в рест...   \n",
       "3  <div class=\"body\">Укладываю в жару спать в отк...   \n",
       "4  <div class=\"body\">У меня муж очень верующий ка...   \n",
       "\n",
       "                                             message  cnt_childs  \\\n",
       "0  Каждую неделю, на барахолках, где-то раз в мес...           1   \n",
       "1  Хе, а у нас, где мы жили раньше(свят свят, что...           0   \n",
       "2  Начали ходить с дитем в рестораны лет с  четыр...           0   \n",
       "3  Укладываю в жару спать в открытой палатке в са...           0   \n",
       "4  У меня муж очень верующий католик. Я атеистка....          50   \n",
       "\n",
       "   cnt_immediate_childs  \n",
       "0                     1  \n",
       "1                     0  \n",
       "2                     0  \n",
       "3                     0  \n",
       "4                    17  "
      ]
     },
     "execution_count": 22,
     "metadata": {},
     "output_type": "execute_result"
    }
   ],
   "source": [
    "lizon_messages.head()"
   ]
  },
  {
   "cell_type": "code",
   "execution_count": 24,
   "metadata": {},
   "outputs": [
    {
     "data": {
      "text/plain": [
       "'/home/kate/Projects/eva/Data/Subprojects/lizon/all_lizon_and_clones_messages.csv'"
      ]
     },
     "execution_count": 24,
     "metadata": {},
     "output_type": "execute_result"
    }
   ],
   "source": [
    "all_lizon_messages_full_filename"
   ]
  },
  {
   "cell_type": "code",
   "execution_count": 25,
   "metadata": {},
   "outputs": [],
   "source": [
    "lizon_messages.to_csv(all_lizon_messages_full_filename, header=True, index=False)"
   ]
  },
  {
   "cell_type": "code",
   "execution_count": 3,
   "metadata": {},
   "outputs": [],
   "source": [
    "lizon_messages = pd.read_csv(all_lizon_messages_full_filename, error_bad_lines=False, index_col=False)"
   ]
  },
  {
   "cell_type": "code",
   "execution_count": 4,
   "metadata": {},
   "outputs": [],
   "source": [
    "ta_ext = pd.read_csv(ta_extension_full_filename, error_bad_lines=False, index_col=False)"
   ]
  },
  {
   "cell_type": "code",
   "execution_count": 5,
   "metadata": {},
   "outputs": [],
   "source": [
    "lizon_messages=pd.merge(lizon_messages, ta_ext[['Message_Id','message_words']],left_on='Message_Id', right_on='Message_Id', how='inner')"
   ]
  },
  {
   "cell_type": "code",
   "execution_count": 6,
   "metadata": {},
   "outputs": [
    {
     "data": {
      "text/plain": [
       "9778"
      ]
     },
     "execution_count": 6,
     "metadata": {},
     "output_type": "execute_result"
    }
   ],
   "source": [
    "len(lizon_messages)"
   ]
  },
  {
   "cell_type": "code",
   "execution_count": 7,
   "metadata": {},
   "outputs": [],
   "source": [
    "lizon_messages.to_csv(all_lizon_messages_full_filename, header=True, index=False)"
   ]
  }
 ],
 "metadata": {
  "colab": {
   "collapsed_sections": [],
   "machine_shape": "hm",
   "name": "Eva Text Similarity.ipynb",
   "provenance": []
  },
  "kernelspec": {
   "display_name": "Python 3",
   "language": "python",
   "name": "python3"
  },
  "language_info": {
   "codemirror_mode": {
    "name": "ipython",
    "version": 3
   },
   "file_extension": ".py",
   "mimetype": "text/x-python",
   "name": "python",
   "nbconvert_exporter": "python",
   "pygments_lexer": "ipython3",
   "version": "3.8.5"
  }
 },
 "nbformat": 4,
 "nbformat_minor": 4
}
