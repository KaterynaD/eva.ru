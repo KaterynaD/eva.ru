{
 "cells": [
  {
   "cell_type": "markdown",
   "metadata": {},
   "source": [
    "Prediction of lizon user clones from best models created in lizon_transformers_final.ipynb, averaging by all models, finding clones and quick review of user-clones."
   ]
  },
  {
   "cell_type": "code",
   "execution_count": 1,
   "metadata": {
    "colab": {
     "base_uri": "https://localhost:8080/"
    },
    "executionInfo": {
     "elapsed": 26709,
     "status": "ok",
     "timestamp": 1638376695847,
     "user": {
      "displayName": "Kateryna Drogaieva",
      "photoUrl": "https://lh3.googleusercontent.com/a-/AOh14GjB1LQYJH97Lqm6RsCcAADFgzEAa0YxMUT7P4mjlA=s64",
      "userId": "10877377912113147805"
     },
     "user_tz": 480
    },
    "id": "qCw1WideyE5L",
    "outputId": "59aa6245-a6b5-496d-fed6-621ba16fdb3e"
   },
   "outputs": [
    {
     "name": "stdout",
     "output_type": "stream",
     "text": [
      "Mounted at /content/drive\n"
     ]
    }
   ],
   "source": [
    "from google.colab import drive\n",
    "drive.mount('/content/drive')"
   ]
  },
  {
   "cell_type": "code",
   "execution_count": 2,
   "metadata": {
    "executionInfo": {
     "elapsed": 2599,
     "status": "ok",
     "timestamp": 1638376698439,
     "user": {
      "displayName": "Kateryna Drogaieva",
      "photoUrl": "https://lh3.googleusercontent.com/a-/AOh14GjB1LQYJH97Lqm6RsCcAADFgzEAa0YxMUT7P4mjlA=s64",
      "userId": "10877377912113147805"
     },
     "user_tz": 480
    },
    "id": "EYum0UEDyVeV"
   },
   "outputs": [],
   "source": [
    "import tensorflow as tf"
   ]
  },
  {
   "cell_type": "code",
   "execution_count": 3,
   "metadata": {
    "colab": {
     "base_uri": "https://localhost:8080/"
    },
    "executionInfo": {
     "elapsed": 18,
     "status": "ok",
     "timestamp": 1638376698441,
     "user": {
      "displayName": "Kateryna Drogaieva",
      "photoUrl": "https://lh3.googleusercontent.com/a-/AOh14GjB1LQYJH97Lqm6RsCcAADFgzEAa0YxMUT7P4mjlA=s64",
      "userId": "10877377912113147805"
     },
     "user_tz": 480
    },
    "id": "ZnakbjqMvSEV",
    "outputId": "95d7d739-e705-42a9-d60d-a6f7fc9204fc"
   },
   "outputs": [
    {
     "name": "stdout",
     "output_type": "stream",
     "text": [
      "Wed Dec  1 16:38:17 2021       \n",
      "+-----------------------------------------------------------------------------+\n",
      "| NVIDIA-SMI 495.44       Driver Version: 460.32.03    CUDA Version: 11.2     |\n",
      "|-------------------------------+----------------------+----------------------+\n",
      "| GPU  Name        Persistence-M| Bus-Id        Disp.A | Volatile Uncorr. ECC |\n",
      "| Fan  Temp  Perf  Pwr:Usage/Cap|         Memory-Usage | GPU-Util  Compute M. |\n",
      "|                               |                      |               MIG M. |\n",
      "|===============================+======================+======================|\n",
      "|   0  Tesla V100-SXM2...  Off  | 00000000:00:04.0 Off |                    0 |\n",
      "| N/A   31C    P0    24W / 300W |      0MiB / 16160MiB |      0%      Default |\n",
      "|                               |                      |                  N/A |\n",
      "+-------------------------------+----------------------+----------------------+\n",
      "                                                                               \n",
      "+-----------------------------------------------------------------------------+\n",
      "| Processes:                                                                  |\n",
      "|  GPU   GI   CI        PID   Type   Process name                  GPU Memory |\n",
      "|        ID   ID                                                   Usage      |\n",
      "|=============================================================================|\n",
      "|  No running processes found                                                 |\n",
      "+-----------------------------------------------------------------------------+\n"
     ]
    }
   ],
   "source": [
    "gpu_info = !nvidia-smi\n",
    "gpu_info = '\\n'.join(gpu_info)\n",
    "if gpu_info.find('failed') >= 0:\n",
    "  print('Not connected to a GPU')\n",
    "else:\n",
    "  print(gpu_info)"
   ]
  },
  {
   "cell_type": "code",
   "execution_count": 4,
   "metadata": {
    "colab": {
     "base_uri": "https://localhost:8080/"
    },
    "executionInfo": {
     "elapsed": 11,
     "status": "ok",
     "timestamp": 1638376699890,
     "user": {
      "displayName": "Kateryna Drogaieva",
      "photoUrl": "https://lh3.googleusercontent.com/a-/AOh14GjB1LQYJH97Lqm6RsCcAADFgzEAa0YxMUT7P4mjlA=s64",
      "userId": "10877377912113147805"
     },
     "user_tz": 480
    },
    "id": "tjF80EAKvSip",
    "outputId": "34d09661-8b38-4af6-fcd7-cda26519a37e"
   },
   "outputs": [
    {
     "name": "stdout",
     "output_type": "stream",
     "text": [
      "Your runtime has 13.6 gigabytes of available RAM\n",
      "\n",
      "Not using a high-RAM runtime\n"
     ]
    }
   ],
   "source": [
    "from psutil import virtual_memory\n",
    "ram_gb = virtual_memory().total / 1e9\n",
    "print('Your runtime has {:.1f} gigabytes of available RAM\\n'.format(ram_gb))\n",
    "\n",
    "if ram_gb < 20:\n",
    "  print('Not using a high-RAM runtime')\n",
    "else:\n",
    "  print('You are using a high-RAM runtime!')"
   ]
  },
  {
   "cell_type": "code",
   "execution_count": 5,
   "metadata": {
    "executionInfo": {
     "elapsed": 10,
     "status": "ok",
     "timestamp": 1638376699891,
     "user": {
      "displayName": "Kateryna Drogaieva",
      "photoUrl": "https://lh3.googleusercontent.com/a-/AOh14GjB1LQYJH97Lqm6RsCcAADFgzEAa0YxMUT7P4mjlA=s64",
      "userId": "10877377912113147805"
     },
     "user_tz": 480
    },
    "id": "xz73p7kuyd8Y"
   },
   "outputs": [],
   "source": [
    "import os\n",
    "import time\n",
    "\n",
    "import pandas as pd\n",
    "import numpy as np"
   ]
  },
  {
   "cell_type": "code",
   "execution_count": null,
   "metadata": {
    "colab": {
     "base_uri": "https://localhost:8080/"
    },
    "executionInfo": {
     "elapsed": 28401,
     "status": "ok",
     "timestamp": 1638376728283,
     "user": {
      "displayName": "Kateryna Drogaieva",
      "photoUrl": "https://lh3.googleusercontent.com/a-/AOh14GjB1LQYJH97Lqm6RsCcAADFgzEAa0YxMUT7P4mjlA=s64",
      "userId": "10877377912113147805"
     },
     "user_tz": 480
    },
    "id": "4HKWiBSYyiKR",
    "outputId": "ad68b6c4-5756-489c-fb46-264ce265638d"
   },
   "outputs": [],
   "source": [
    "!pip install ktrain"
   ]
  },
  {
   "cell_type": "code",
   "execution_count": 7,
   "metadata": {
    "executionInfo": {
     "elapsed": 6344,
     "status": "ok",
     "timestamp": 1638376734606,
     "user": {
      "displayName": "Kateryna Drogaieva",
      "photoUrl": "https://lh3.googleusercontent.com/a-/AOh14GjB1LQYJH97Lqm6RsCcAADFgzEAa0YxMUT7P4mjlA=s64",
      "userId": "10877377912113147805"
     },
     "user_tz": 480
    },
    "id": "FBIg6HneynJx"
   },
   "outputs": [],
   "source": [
    "import ktrain\n",
    "from ktrain import text"
   ]
  },
  {
   "cell_type": "code",
   "execution_count": 8,
   "metadata": {
    "executionInfo": {
     "elapsed": 15,
     "status": "ok",
     "timestamp": 1638376734607,
     "user": {
      "displayName": "Kateryna Drogaieva",
      "photoUrl": "https://lh3.googleusercontent.com/a-/AOh14GjB1LQYJH97Lqm6RsCcAADFgzEAa0YxMUT7P4mjlA=s64",
      "userId": "10877377912113147805"
     },
     "user_tz": 480
    },
    "id": "uGz8LJVEyvPA"
   },
   "outputs": [],
   "source": [
    "Data = '/content/drive/MyDrive/Colab Notebooks/Projects/eva/Data/'\n",
    "\n",
    "test_Messages_filename='lizon_clone_data_for_test.csv'\n",
    "test_Messages_full_filename= os.path.join(Data, test_Messages_filename)\n",
    "\n",
    "Authors_filename='Authors.csv'\n",
    "Authors_full_filename= os.path.join(Data, Authors_filename)\n",
    "\n",
    "text_column='original_message'\n",
    "classname='lizon'\n",
    "prediction_column='prediction'\n",
    "\n",
    "Models = '/content/drive/MyDrive/Colab Notebooks/Projects/eva/Models/blinoff256/'\n",
    "\n",
    "threshold_lizon_probability=0.9\n",
    "threshold_frc_lizon_messages=0.7"
   ]
  },
  {
   "cell_type": "markdown",
   "metadata": {
    "id": "yqLdO1lJFqaf"
   },
   "source": [
    "## Data for prediction"
   ]
  },
  {
   "cell_type": "code",
   "execution_count": 9,
   "metadata": {
    "executionInfo": {
     "elapsed": 4581,
     "status": "ok",
     "timestamp": 1638376740330,
     "user": {
      "displayName": "Kateryna Drogaieva",
      "photoUrl": "https://lh3.googleusercontent.com/a-/AOh14GjB1LQYJH97Lqm6RsCcAADFgzEAa0YxMUT7P4mjlA=s64",
      "userId": "10877377912113147805"
     },
     "user_tz": 480
    },
    "id": "N1HdK081Fp1U"
   },
   "outputs": [],
   "source": [
    "df=pd.read_csv(test_Messages_full_filename, error_bad_lines=False, index_col=False)"
   ]
  },
  {
   "cell_type": "code",
   "execution_count": 10,
   "metadata": {
    "colab": {
     "base_uri": "https://localhost:8080/"
    },
    "executionInfo": {
     "elapsed": 37,
     "status": "ok",
     "timestamp": 1638376740331,
     "user": {
      "displayName": "Kateryna Drogaieva",
      "photoUrl": "https://lh3.googleusercontent.com/a-/AOh14GjB1LQYJH97Lqm6RsCcAADFgzEAa0YxMUT7P4mjlA=s64",
      "userId": "10877377912113147805"
     },
     "user_tz": 480
    },
    "id": "Ke6ax2FFv1LB",
    "outputId": "36df7a1b-0f86-4263-c348-1d506910ac65"
   },
   "outputs": [
    {
     "data": {
      "text/plain": [
       "123724"
      ]
     },
     "execution_count": 10,
     "metadata": {},
     "output_type": "execute_result"
    }
   ],
   "source": [
    "len(df)"
   ]
  },
  {
   "cell_type": "code",
   "execution_count": 11,
   "metadata": {
    "colab": {
     "base_uri": "https://localhost:8080/",
     "height": 289
    },
    "executionInfo": {
     "elapsed": 47,
     "status": "ok",
     "timestamp": 1638376740345,
     "user": {
      "displayName": "Kateryna Drogaieva",
      "photoUrl": "https://lh3.googleusercontent.com/a-/AOh14GjB1LQYJH97Lqm6RsCcAADFgzEAa0YxMUT7P4mjlA=s64",
      "userId": "10877377912113147805"
     },
     "user_tz": 480
    },
    "id": "U_ePw68gQpxh",
    "outputId": "a3704e2e-473b-4d49-fb03-de03f20ec7cb"
   },
   "outputs": [
    {
     "data": {
      "text/html": [
       "<div>\n",
       "<style scoped>\n",
       "    .dataframe tbody tr th:only-of-type {\n",
       "        vertical-align: middle;\n",
       "    }\n",
       "\n",
       "    .dataframe tbody tr th {\n",
       "        vertical-align: top;\n",
       "    }\n",
       "\n",
       "    .dataframe thead th {\n",
       "        text-align: right;\n",
       "    }\n",
       "</style>\n",
       "<table border=\"1\" class=\"dataframe\">\n",
       "  <thead>\n",
       "    <tr style=\"text-align: right;\">\n",
       "      <th></th>\n",
       "      <th>Message_Id</th>\n",
       "      <th>Timestamp</th>\n",
       "      <th>Parent_Id</th>\n",
       "      <th>Author_Id</th>\n",
       "      <th>Topic_Id</th>\n",
       "      <th>Topic</th>\n",
       "      <th>original_message</th>\n",
       "      <th>prediction_0</th>\n",
       "      <th>prediction_1</th>\n",
       "      <th>prediction_2</th>\n",
       "      <th>prediction_3</th>\n",
       "      <th>prediction_4</th>\n",
       "      <th>prediction_5</th>\n",
       "      <th>prediction_6</th>\n",
       "      <th>prediction_7</th>\n",
       "      <th>prediction_8</th>\n",
       "    </tr>\n",
       "  </thead>\n",
       "  <tbody>\n",
       "    <tr>\n",
       "      <th>0</th>\n",
       "      <td>81932578</td>\n",
       "      <td>2013-09-01 22:40:00</td>\n",
       "      <td>0</td>\n",
       "      <td>169074</td>\n",
       "      <td>1998529</td>\n",
       "      <td>А сколько у вас игрушек и каких?</td>\n",
       "      <td>&lt;div class=\"body\"&gt;6,5 лет мальчик &lt;br/&gt;контейн...</td>\n",
       "      <td>0.000446</td>\n",
       "      <td>0.000539</td>\n",
       "      <td>0.000491</td>\n",
       "      <td>0.000534</td>\n",
       "      <td>0.000563</td>\n",
       "      <td>0.000403</td>\n",
       "      <td>0.000683</td>\n",
       "      <td>0.000539</td>\n",
       "      <td>0.000550</td>\n",
       "    </tr>\n",
       "    <tr>\n",
       "      <th>1</th>\n",
       "      <td>91092877</td>\n",
       "      <td>2015-11-16 09:18:00</td>\n",
       "      <td>0</td>\n",
       "      <td>312157</td>\n",
       "      <td>2302564</td>\n",
       "      <td>3 года и памперс</td>\n",
       "      <td>&lt;div class=\"body\"&gt;Вот интересно, какая такая н...</td>\n",
       "      <td>0.000365</td>\n",
       "      <td>0.000443</td>\n",
       "      <td>0.000481</td>\n",
       "      <td>0.000464</td>\n",
       "      <td>0.000405</td>\n",
       "      <td>0.000310</td>\n",
       "      <td>0.000760</td>\n",
       "      <td>0.000415</td>\n",
       "      <td>0.000525</td>\n",
       "    </tr>\n",
       "    <tr>\n",
       "      <th>2</th>\n",
       "      <td>91098204</td>\n",
       "      <td>2015-11-16 19:02:00</td>\n",
       "      <td>91094634</td>\n",
       "      <td>312157</td>\n",
       "      <td>2302564</td>\n",
       "      <td>3 года и памперс</td>\n",
       "      <td>&lt;div class=\"body\"&gt;Я уверена, если снять пампер...</td>\n",
       "      <td>0.000949</td>\n",
       "      <td>0.001422</td>\n",
       "      <td>0.000585</td>\n",
       "      <td>0.000892</td>\n",
       "      <td>0.001695</td>\n",
       "      <td>0.001870</td>\n",
       "      <td>0.005292</td>\n",
       "      <td>0.000545</td>\n",
       "      <td>0.001228</td>\n",
       "    </tr>\n",
       "    <tr>\n",
       "      <th>3</th>\n",
       "      <td>91098228</td>\n",
       "      <td>2015-11-16 19:06:00</td>\n",
       "      <td>91096034</td>\n",
       "      <td>312157</td>\n",
       "      <td>2302564</td>\n",
       "      <td>3 года и памперс</td>\n",
       "      <td>&lt;div class=\"body\"&gt;Ну если ходит днем- этот топ...</td>\n",
       "      <td>0.007469</td>\n",
       "      <td>0.824557</td>\n",
       "      <td>0.047888</td>\n",
       "      <td>0.259741</td>\n",
       "      <td>0.198313</td>\n",
       "      <td>0.029584</td>\n",
       "      <td>0.283927</td>\n",
       "      <td>0.002375</td>\n",
       "      <td>0.137680</td>\n",
       "    </tr>\n",
       "    <tr>\n",
       "      <th>4</th>\n",
       "      <td>91101933</td>\n",
       "      <td>2015-11-17 08:36:00</td>\n",
       "      <td>91101707</td>\n",
       "      <td>312157</td>\n",
       "      <td>2302564</td>\n",
       "      <td>3 года и памперс</td>\n",
       "      <td>&lt;div class=\"body\"&gt;Это все решается. У меня нет...</td>\n",
       "      <td>0.001513</td>\n",
       "      <td>0.001165</td>\n",
       "      <td>0.001101</td>\n",
       "      <td>0.000696</td>\n",
       "      <td>0.000707</td>\n",
       "      <td>0.000645</td>\n",
       "      <td>0.004604</td>\n",
       "      <td>0.001165</td>\n",
       "      <td>0.001184</td>\n",
       "    </tr>\n",
       "  </tbody>\n",
       "</table>\n",
       "</div>"
      ],
      "text/plain": [
       "   Message_Id            Timestamp  ...  prediction_7  prediction_8\n",
       "0    81932578  2013-09-01 22:40:00  ...      0.000539      0.000550\n",
       "1    91092877  2015-11-16 09:18:00  ...      0.000415      0.000525\n",
       "2    91098204  2015-11-16 19:02:00  ...      0.000545      0.001228\n",
       "3    91098228  2015-11-16 19:06:00  ...      0.002375      0.137680\n",
       "4    91101933  2015-11-17 08:36:00  ...      0.001165      0.001184\n",
       "\n",
       "[5 rows x 16 columns]"
      ]
     },
     "execution_count": 11,
     "metadata": {},
     "output_type": "execute_result"
    }
   ],
   "source": [
    "df.head()"
   ]
  },
  {
   "cell_type": "markdown",
   "metadata": {
    "id": "49lbfpBbv7Hg"
   },
   "source": [
    "## Prediction clone or not"
   ]
  },
  {
   "cell_type": "code",
   "execution_count": 15,
   "metadata": {
    "colab": {
     "base_uri": "https://localhost:8080/",
     "height": 364,
     "referenced_widgets": [
      "bb87680590dc43f0b1adcb9f62f3b81e",
      "13a767eed6124f92b489805221c77d93",
      "7dfedc3f39c1455584659bb62094529f",
      "3be067a2254948f88c3b223b46461ed4",
      "804f378d273f4f13b08d4d57bc29021d",
      "15f9234dbb2b4d18954a01929da0c34f",
      "7d6eb299b0a24f718f86610234547a88",
      "002ec063b01248b39411858884eb1599",
      "df087f1402114d208a2ebcb7c1683f43",
      "7eb3892f3b3d4165988d80d2e0e71269",
      "9912fded200740cfbc8bc2790f2adbb9",
      "3958f1fed2204d8aadf633fb56039fe8",
      "df5fb0070f24499a98f85a575eb8c517",
      "f1985f208a994e8cb2dc1fd91e6ca207",
      "e3b2aa2dfd724cae8238af6c8c047de4",
      "9a64df22f6904e6e828cf09e53991e80",
      "67dd59c81b78488fb05b9822b62ce688",
      "037b3ec90bb24ea7bb8c190b42a2be59",
      "19edeced683148219ae192ffc3e3ef93",
      "b5941ec9916e4b6d92b7af280433efa5",
      "8e761fc4263346e1ba92ff5e272745df",
      "0f887ed009f841f3906cec7f90b4276c",
      "3c61b256891e4b1a869ec5984be54669",
      "acb2f69161054b2ca0aa5fb97acc9ffc",
      "def68d64b48445b2a8166a8686e0969c",
      "bd4b8d21242d42ca92253cf0c9e3367a",
      "72876d2dbda94ad9bd291295d3ed9976",
      "6ddec0e2a1024b5c8ae9c27cf11de5d2",
      "e38e2349553341f085ca068afc7e2540",
      "ec3a65956980470f90fb1fed8e9abbd2",
      "34ed12568f6c46e892fb8f005cbd9812",
      "29c19b1e60d54a4aaac0bab5a3060675",
      "75b4d9c41338414f8c7ec046b0396f91",
      "43fe30e70ea54072a4eccf05b5eed10b",
      "7c822584678b4088953e3c721db954af",
      "17a3dfd7067e4b94958662adb4be2a46",
      "9158e745a46e4a16854e0d83835ef305",
      "4aaaa39304a44a92a205a3c36e448f82",
      "af44406bff654bb293c12809ac530ddd",
      "573ed14cee904debb2fe9f37c76278e3",
      "2bf2da006ebe4801b350059ef5da3230",
      "bb6110eeee76489ca13b5d2041001703",
      "7680d6b9885a4a5d92fe8107771613a2",
      "608e834ae24344afafedfd561ef0b32a",
      "36481c3d7e1241e6b88831b26e434dbe",
      "438b0a5e7c944ea6a6a1dae08f2a3a4e",
      "8cfdbc1a4cc04b3e9d1e2f237ff6f3ce",
      "95b585bd9b634fba9056ebf521f06791",
      "8418fd19524146c68c8ee0dbd92f184f",
      "97f3ed3f86404a629116aaa8b456fd27",
      "72dfe5ff94a9402393ee3a0e56b1a8ce",
      "6ad74757757549568f554bd0207fd25e",
      "cae385d9d9e44074bd8ca3fe9a0cc158",
      "d174373b1540406789d6980e3b0fb718",
      "b81528b462014bf392e13fb897a1d775"
     ]
    },
    "executionInfo": {
     "elapsed": 1102149,
     "status": "ok",
     "timestamp": 1638378084374,
     "user": {
      "displayName": "Kateryna Drogaieva",
      "photoUrl": "https://lh3.googleusercontent.com/a-/AOh14GjB1LQYJH97Lqm6RsCcAADFgzEAa0YxMUT7P4mjlA=s64",
      "userId": "10877377912113147805"
     },
     "user_tz": 480
    },
    "id": "cKqF1nAWDZ-H",
    "outputId": "494585f5-966b-43d7-977b-37e8889695c5"
   },
   "outputs": [
    {
     "name": "stdout",
     "output_type": "stream",
     "text": [
      "fit_onecycle_0 model is already processed\n",
      "fit_onecycle_1 model is already processed\n",
      "fit_onecycle_2 model is already processed\n",
      "fit_onecycle_3 model is already processed\n",
      "fit_onecycle_4 model is already processed\n",
      "fit_onecycle_5 model is already processed\n",
      "fit_onecycle_6 model is already processed\n",
      "fit_onecycle_7 model is already processed\n",
      "fit_onecycle_8 model is already processed\n",
      "Processing fit_onecycle_9 model\n"
     ]
    },
    {
     "data": {
      "application/vnd.jupyter.widget-view+json": {
       "model_id": "bb87680590dc43f0b1adcb9f62f3b81e",
       "version_major": 2,
       "version_minor": 0
      },
      "text/plain": [
       "Downloading:   0%|          | 0.00/16.0 [00:00<?, ?B/s]"
      ]
     },
     "metadata": {},
     "output_type": "display_data"
    },
    {
     "data": {
      "application/vnd.jupyter.widget-view+json": {
       "model_id": "3958f1fed2204d8aadf633fb56039fe8",
       "version_major": 2,
       "version_minor": 0
      },
      "text/plain": [
       "Downloading:   0%|          | 0.00/481 [00:00<?, ?B/s]"
      ]
     },
     "metadata": {},
     "output_type": "display_data"
    },
    {
     "data": {
      "application/vnd.jupyter.widget-view+json": {
       "model_id": "3c61b256891e4b1a869ec5984be54669",
       "version_major": 2,
       "version_minor": 0
      },
      "text/plain": [
       "Downloading:   0%|          | 0.00/1.68M [00:00<?, ?B/s]"
      ]
     },
     "metadata": {},
     "output_type": "display_data"
    },
    {
     "data": {
      "application/vnd.jupyter.widget-view+json": {
       "model_id": "43fe30e70ea54072a4eccf05b5eed10b",
       "version_major": 2,
       "version_minor": 0
      },
      "text/plain": [
       "Downloading:   0%|          | 0.00/1.34M [00:00<?, ?B/s]"
      ]
     },
     "metadata": {},
     "output_type": "display_data"
    },
    {
     "data": {
      "application/vnd.jupyter.widget-view+json": {
       "model_id": "36481c3d7e1241e6b88831b26e434dbe",
       "version_major": 2,
       "version_minor": 0
      },
      "text/plain": [
       "Downloading:   0%|          | 0.00/150 [00:00<?, ?B/s]"
      ]
     },
     "metadata": {},
     "output_type": "display_data"
    },
    {
     "name": "stdout",
     "output_type": "stream",
     "text": [
      "18.36239205201467\n"
     ]
    }
   ],
   "source": [
    "prediction_column_lists=list()\n",
    "ts_start = time.time()\n",
    "for m in next(os.walk(Models))[1]:  \n",
    "  ind= m.split('_')[len(m.split('_'))-1]\n",
    "  prediction_column_lists.append('%s_%s'%(prediction_column,ind))\n",
    "  #the notebook may be interruoted due to the lack of memory and can be restarted several times to predict from all models\n",
    "  if '%s_%s'%(prediction_column,ind) in df.columns:\n",
    "    print('%s model is already processed'%m)\n",
    "    continue\n",
    "  print('Processing %s model'%m)\n",
    "  Model_foldername = m\n",
    "  Model_full_foldername = os.path.join(Models, Model_foldername)\n",
    "\n",
    "  predictor = ktrain.load_predictor(Model_full_foldername)\n",
    "\n",
    "  prediction=predictor.predict_proba(df[text_column].tolist())\n",
    "\n",
    "  df_prediction = pd.DataFrame(prediction, columns = predictor.get_classes()) \n",
    "  df_prediction=df_prediction[[classname]]\n",
    "  df_prediction.columns=['%s_%s'%(prediction_column,ind)]\n",
    "\n",
    "  df['%s_%s'%(prediction_column,ind)]=df_prediction['%s_%s'%(prediction_column,ind)].to_numpy()\n",
    "  df.to_csv(test_Messages_full_filename, header=True, index=False)\n",
    "  \n",
    "  \n",
    "\n",
    "ts_end = time.time()\n",
    "print((ts_end - ts_start)/60)"
   ]
  },
  {
   "cell_type": "markdown",
   "metadata": {
    "id": "DJ7Z-z6u4NTN"
   },
   "source": [
    "## Average by all models/folds"
   ]
  },
  {
   "cell_type": "code",
   "execution_count": 19,
   "metadata": {
    "executionInfo": {
     "elapsed": 307,
     "status": "ok",
     "timestamp": 1638378180244,
     "user": {
      "displayName": "Kateryna Drogaieva",
      "photoUrl": "https://lh3.googleusercontent.com/a-/AOh14GjB1LQYJH97Lqm6RsCcAADFgzEAa0YxMUT7P4mjlA=s64",
      "userId": "10877377912113147805"
     },
     "user_tz": 480
    },
    "id": "ukABDDhyMAW_"
   },
   "outputs": [],
   "source": [
    "df[prediction_column]=df[prediction_column_lists].mean(axis=1)"
   ]
  },
  {
   "cell_type": "code",
   "execution_count": 20,
   "metadata": {
    "colab": {
     "base_uri": "https://localhost:8080/"
    },
    "executionInfo": {
     "elapsed": 836,
     "status": "ok",
     "timestamp": 1638378183171,
     "user": {
      "displayName": "Kateryna Drogaieva",
      "photoUrl": "https://lh3.googleusercontent.com/a-/AOh14GjB1LQYJH97Lqm6RsCcAADFgzEAa0YxMUT7P4mjlA=s64",
      "userId": "10877377912113147805"
     },
     "user_tz": 480
    },
    "id": "_tCEbE4_YDQY",
    "outputId": "1b9fdcc1-62d0-495e-cf5d-130359fa659c"
   },
   "outputs": [
    {
     "data": {
      "text/plain": [
       "Message_Id            int64\n",
       "Timestamp            object\n",
       "Parent_Id             int64\n",
       "Author_Id             int64\n",
       "Topic_Id              int64\n",
       "Topic                object\n",
       "original_message     object\n",
       "prediction_0        float64\n",
       "prediction_1        float64\n",
       "prediction_2        float64\n",
       "prediction_3        float64\n",
       "prediction_4        float64\n",
       "prediction_5        float64\n",
       "prediction_6        float64\n",
       "prediction_7        float64\n",
       "prediction_8        float64\n",
       "prediction_9        float32\n",
       "prediction          float64\n",
       "dtype: object"
      ]
     },
     "execution_count": 20,
     "metadata": {},
     "output_type": "execute_result"
    }
   ],
   "source": [
    "df.dtypes"
   ]
  },
  {
   "cell_type": "markdown",
   "metadata": {
    "id": "3m-FEa894SfJ"
   },
   "source": [
    "## Fraction of messages which looks like \"lizon\" messages in each author in the dataset"
   ]
  },
  {
   "cell_type": "code",
   "execution_count": 21,
   "metadata": {
    "executionInfo": {
     "elapsed": 818,
     "status": "ok",
     "timestamp": 1638378188948,
     "user": {
      "displayName": "Kateryna Drogaieva",
      "photoUrl": "https://lh3.googleusercontent.com/a-/AOh14GjB1LQYJH97Lqm6RsCcAADFgzEAa0YxMUT7P4mjlA=s64",
      "userId": "10877377912113147805"
     },
     "user_tz": 480
    },
    "id": "d4tKc1Dw1BcS"
   },
   "outputs": [],
   "source": [
    "author_totals=df.groupby(['Author_Id']).size().reset_index(name='total_counts').sort_values(['total_counts'],ascending=False)\n",
    "author_predicted=df[df[prediction_column]>threshold_lizon_probability].groupby(['Author_Id']).size().reset_index(name='predicted_counts').sort_values(['predicted_counts'],ascending=False)\n",
    "author_predicted=pd.merge(author_totals,author_predicted, left_on='Author_Id', right_on='Author_Id', how='inner')"
   ]
  },
  {
   "cell_type": "code",
   "execution_count": 39,
   "metadata": {
    "executionInfo": {
     "elapsed": 599,
     "status": "ok",
     "timestamp": 1638378802184,
     "user": {
      "displayName": "Kateryna Drogaieva",
      "photoUrl": "https://lh3.googleusercontent.com/a-/AOh14GjB1LQYJH97Lqm6RsCcAADFgzEAa0YxMUT7P4mjlA=s64",
      "userId": "10877377912113147805"
     },
     "user_tz": 480
    },
    "id": "jhWtnObOY93p"
   },
   "outputs": [],
   "source": [
    "#to get one author name per Author_Id (then can vary in messages)\n",
    "Authors=pd.read_csv(Authors_full_filename, error_bad_lines=False, index_col=False)"
   ]
  },
  {
   "cell_type": "code",
   "execution_count": 23,
   "metadata": {
    "executionInfo": {
     "elapsed": 795,
     "status": "ok",
     "timestamp": 1638378199277,
     "user": {
      "displayName": "Kateryna Drogaieva",
      "photoUrl": "https://lh3.googleusercontent.com/a-/AOh14GjB1LQYJH97Lqm6RsCcAADFgzEAa0YxMUT7P4mjlA=s64",
      "userId": "10877377912113147805"
     },
     "user_tz": 480
    },
    "id": "pyOSrr-5Z1_e"
   },
   "outputs": [],
   "source": [
    "author_predicted=pd.merge(Authors[['Author_Id','author']],author_predicted, left_on='Author_Id', right_on='Author_Id', how='inner')"
   ]
  },
  {
   "cell_type": "code",
   "execution_count": 24,
   "metadata": {
    "executionInfo": {
     "elapsed": 2,
     "status": "ok",
     "timestamp": 1638378201667,
     "user": {
      "displayName": "Kateryna Drogaieva",
      "photoUrl": "https://lh3.googleusercontent.com/a-/AOh14GjB1LQYJH97Lqm6RsCcAADFgzEAa0YxMUT7P4mjlA=s64",
      "userId": "10877377912113147805"
     },
     "user_tz": 480
    },
    "id": "1VOCDFgk1Z5c"
   },
   "outputs": [],
   "source": [
    "author_predicted['fraction_%s_messages'%classname]=author_predicted['predicted_counts']/author_predicted['total_counts']"
   ]
  },
  {
   "cell_type": "code",
   "execution_count": 25,
   "metadata": {
    "executionInfo": {
     "elapsed": 9,
     "status": "ok",
     "timestamp": 1638378204695,
     "user": {
      "displayName": "Kateryna Drogaieva",
      "photoUrl": "https://lh3.googleusercontent.com/a-/AOh14GjB1LQYJH97Lqm6RsCcAADFgzEAa0YxMUT7P4mjlA=s64",
      "userId": "10877377912113147805"
     },
     "user_tz": 480
    },
    "id": "Vlb62Zap2KpY"
   },
   "outputs": [],
   "source": [
    "author_predicted.sort_values(['fraction_%s_messages'%classname],ascending=False, inplace=True)"
   ]
  },
  {
   "cell_type": "markdown",
   "metadata": {
    "id": "04ZFnGwv3-zv"
   },
   "source": [
    "## lizon clones"
   ]
  },
  {
   "cell_type": "code",
   "execution_count": 26,
   "metadata": {
    "colab": {
     "base_uri": "https://localhost:8080/",
     "height": 235
    },
    "executionInfo": {
     "elapsed": 303,
     "status": "ok",
     "timestamp": 1638378209871,
     "user": {
      "displayName": "Kateryna Drogaieva",
      "photoUrl": "https://lh3.googleusercontent.com/a-/AOh14GjB1LQYJH97Lqm6RsCcAADFgzEAa0YxMUT7P4mjlA=s64",
      "userId": "10877377912113147805"
     },
     "user_tz": 480
    },
    "id": "1-v4wGRF1wR8",
    "outputId": "7f449482-e4fb-4c1e-8639-39084688d8c9"
   },
   "outputs": [
    {
     "data": {
      "text/html": [
       "<div>\n",
       "<style scoped>\n",
       "    .dataframe tbody tr th:only-of-type {\n",
       "        vertical-align: middle;\n",
       "    }\n",
       "\n",
       "    .dataframe tbody tr th {\n",
       "        vertical-align: top;\n",
       "    }\n",
       "\n",
       "    .dataframe thead th {\n",
       "        text-align: right;\n",
       "    }\n",
       "</style>\n",
       "<table border=\"1\" class=\"dataframe\">\n",
       "  <thead>\n",
       "    <tr style=\"text-align: right;\">\n",
       "      <th></th>\n",
       "      <th>Author_Id</th>\n",
       "      <th>author</th>\n",
       "      <th>total_counts</th>\n",
       "      <th>predicted_counts</th>\n",
       "      <th>fraction_lizon_messages</th>\n",
       "    </tr>\n",
       "  </thead>\n",
       "  <tbody>\n",
       "    <tr>\n",
       "      <th>100</th>\n",
       "      <td>711697</td>\n",
       "      <td>Lizonn +</td>\n",
       "      <td>79</td>\n",
       "      <td>75</td>\n",
       "      <td>0.949367</td>\n",
       "    </tr>\n",
       "    <tr>\n",
       "      <th>104</th>\n",
       "      <td>731728</td>\n",
       "      <td>newyorck D</td>\n",
       "      <td>1045</td>\n",
       "      <td>965</td>\n",
       "      <td>0.923445</td>\n",
       "    </tr>\n",
       "    <tr>\n",
       "      <th>86</th>\n",
       "      <td>475085</td>\n",
       "      <td>Элиззи H*</td>\n",
       "      <td>2054</td>\n",
       "      <td>1858</td>\n",
       "      <td>0.904576</td>\n",
       "    </tr>\n",
       "    <tr>\n",
       "      <th>85</th>\n",
       "      <td>472696</td>\n",
       "      <td>Кассиапея D</td>\n",
       "      <td>635</td>\n",
       "      <td>566</td>\n",
       "      <td>0.891339</td>\n",
       "    </tr>\n",
       "    <tr>\n",
       "      <th>11</th>\n",
       "      <td>100899</td>\n",
       "      <td>lizlizon *</td>\n",
       "      <td>322</td>\n",
       "      <td>257</td>\n",
       "      <td>0.798137</td>\n",
       "    </tr>\n",
       "    <tr>\n",
       "      <th>46</th>\n",
       "      <td>300514</td>\n",
       "      <td>Lizon \" **K**</td>\n",
       "      <td>555</td>\n",
       "      <td>393</td>\n",
       "      <td>0.708108</td>\n",
       "    </tr>\n",
       "  </tbody>\n",
       "</table>\n",
       "</div>"
      ],
      "text/plain": [
       "     Author_Id         author  ...  predicted_counts  fraction_lizon_messages\n",
       "100     711697       Lizonn +  ...                75                 0.949367\n",
       "104     731728     newyorck D  ...               965                 0.923445\n",
       "86      475085      Элиззи H*  ...              1858                 0.904576\n",
       "85      472696    Кассиапея D  ...               566                 0.891339\n",
       "11      100899     lizlizon *  ...               257                 0.798137\n",
       "46      300514  Lizon \" **K**  ...               393                 0.708108\n",
       "\n",
       "[6 rows x 5 columns]"
      ]
     },
     "execution_count": 26,
     "metadata": {},
     "output_type": "execute_result"
    }
   ],
   "source": [
    "author_predicted[author_predicted['fraction_lizon_messages']>threshold_frc_lizon_messages  ]"
   ]
  },
  {
   "cell_type": "markdown",
   "metadata": {
    "id": "PW8z0WJt-JF1"
   },
   "source": [
    "Let's check the rest of the authors with smaller score"
   ]
  },
  {
   "cell_type": "code",
   "execution_count": 29,
   "metadata": {
    "colab": {
     "base_uri": "https://localhost:8080/",
     "height": 359
    },
    "executionInfo": {
     "elapsed": 823,
     "status": "ok",
     "timestamp": 1638378396444,
     "user": {
      "displayName": "Kateryna Drogaieva",
      "photoUrl": "https://lh3.googleusercontent.com/a-/AOh14GjB1LQYJH97Lqm6RsCcAADFgzEAa0YxMUT7P4mjlA=s64",
      "userId": "10877377912113147805"
     },
     "user_tz": 480
    },
    "id": "eCTLA1xA9BFq",
    "outputId": "bb35d9e1-fe75-470d-b1a8-24c6eb7ec479"
   },
   "outputs": [
    {
     "data": {
      "text/html": [
       "<div>\n",
       "<style scoped>\n",
       "    .dataframe tbody tr th:only-of-type {\n",
       "        vertical-align: middle;\n",
       "    }\n",
       "\n",
       "    .dataframe tbody tr th {\n",
       "        vertical-align: top;\n",
       "    }\n",
       "\n",
       "    .dataframe thead th {\n",
       "        text-align: right;\n",
       "    }\n",
       "</style>\n",
       "<table border=\"1\" class=\"dataframe\">\n",
       "  <thead>\n",
       "    <tr style=\"text-align: right;\">\n",
       "      <th></th>\n",
       "      <th>Author_Id</th>\n",
       "      <th>author</th>\n",
       "      <th>total_counts</th>\n",
       "      <th>predicted_counts</th>\n",
       "      <th>fraction_lizon_messages</th>\n",
       "    </tr>\n",
       "  </thead>\n",
       "  <tbody>\n",
       "    <tr>\n",
       "      <th>100</th>\n",
       "      <td>711697</td>\n",
       "      <td>Lizonn +</td>\n",
       "      <td>79</td>\n",
       "      <td>75</td>\n",
       "      <td>0.949367</td>\n",
       "    </tr>\n",
       "    <tr>\n",
       "      <th>104</th>\n",
       "      <td>731728</td>\n",
       "      <td>newyorck D</td>\n",
       "      <td>1045</td>\n",
       "      <td>965</td>\n",
       "      <td>0.923445</td>\n",
       "    </tr>\n",
       "    <tr>\n",
       "      <th>86</th>\n",
       "      <td>475085</td>\n",
       "      <td>Элиззи H*</td>\n",
       "      <td>2054</td>\n",
       "      <td>1858</td>\n",
       "      <td>0.904576</td>\n",
       "    </tr>\n",
       "    <tr>\n",
       "      <th>85</th>\n",
       "      <td>472696</td>\n",
       "      <td>Кассиапея D</td>\n",
       "      <td>635</td>\n",
       "      <td>566</td>\n",
       "      <td>0.891339</td>\n",
       "    </tr>\n",
       "    <tr>\n",
       "      <th>11</th>\n",
       "      <td>100899</td>\n",
       "      <td>lizlizon *</td>\n",
       "      <td>322</td>\n",
       "      <td>257</td>\n",
       "      <td>0.798137</td>\n",
       "    </tr>\n",
       "    <tr>\n",
       "      <th>46</th>\n",
       "      <td>300514</td>\n",
       "      <td>Lizon \" **K**</td>\n",
       "      <td>555</td>\n",
       "      <td>393</td>\n",
       "      <td>0.708108</td>\n",
       "    </tr>\n",
       "    <tr>\n",
       "      <th>81</th>\n",
       "      <td>424711</td>\n",
       "      <td>Joconda Mona Liza _</td>\n",
       "      <td>227</td>\n",
       "      <td>154</td>\n",
       "      <td>0.678414</td>\n",
       "    </tr>\n",
       "    <tr>\n",
       "      <th>98</th>\n",
       "      <td>560177</td>\n",
       "      <td>ok591403023403 F</td>\n",
       "      <td>67</td>\n",
       "      <td>13</td>\n",
       "      <td>0.194030</td>\n",
       "    </tr>\n",
       "    <tr>\n",
       "      <th>0</th>\n",
       "      <td>44753</td>\n",
       "      <td>Ась H*</td>\n",
       "      <td>302</td>\n",
       "      <td>46</td>\n",
       "      <td>0.152318</td>\n",
       "    </tr>\n",
       "    <tr>\n",
       "      <th>32</th>\n",
       "      <td>214089</td>\n",
       "      <td>альтамира SD*</td>\n",
       "      <td>66</td>\n",
       "      <td>10</td>\n",
       "      <td>0.151515</td>\n",
       "    </tr>\n",
       "  </tbody>\n",
       "</table>\n",
       "</div>"
      ],
      "text/plain": [
       "     Author_Id               author  ...  predicted_counts  fraction_lizon_messages\n",
       "100     711697             Lizonn +  ...                75                 0.949367\n",
       "104     731728           newyorck D  ...               965                 0.923445\n",
       "86      475085            Элиззи H*  ...              1858                 0.904576\n",
       "85      472696          Кассиапея D  ...               566                 0.891339\n",
       "11      100899           lizlizon *  ...               257                 0.798137\n",
       "46      300514        Lizon \" **K**  ...               393                 0.708108\n",
       "81      424711  Joconda Mona Liza _  ...               154                 0.678414\n",
       "98      560177     ok591403023403 F  ...                13                 0.194030\n",
       "0        44753               Ась H*  ...                46                 0.152318\n",
       "32      214089        альтамира SD*  ...                10                 0.151515\n",
       "\n",
       "[10 rows x 5 columns]"
      ]
     },
     "execution_count": 29,
     "metadata": {},
     "output_type": "execute_result"
    }
   ],
   "source": [
    "author_predicted.head(10)"
   ]
  },
  {
   "cell_type": "markdown",
   "metadata": {
    "id": "Nu4UbRRD9oA2"
   },
   "source": [
    "Looks like Joconda Mona Liza _ is also a clone but with less score. All other authors have significantly smaller score"
   ]
  },
  {
   "cell_type": "code",
   "execution_count": 30,
   "metadata": {
    "executionInfo": {
     "elapsed": 866,
     "status": "ok",
     "timestamp": 1638378485072,
     "user": {
      "displayName": "Kateryna Drogaieva",
      "photoUrl": "https://lh3.googleusercontent.com/a-/AOh14GjB1LQYJH97Lqm6RsCcAADFgzEAa0YxMUT7P4mjlA=s64",
      "userId": "10877377912113147805"
     },
     "user_tz": 480
    },
    "id": "IR5n0uak9mqW"
   },
   "outputs": [],
   "source": [
    "threshold_frc_lizon_messages=0.6"
   ]
  },
  {
   "cell_type": "code",
   "execution_count": 31,
   "metadata": {
    "colab": {
     "base_uri": "https://localhost:8080/",
     "height": 266
    },
    "executionInfo": {
     "elapsed": 7,
     "status": "ok",
     "timestamp": 1638378495049,
     "user": {
      "displayName": "Kateryna Drogaieva",
      "photoUrl": "https://lh3.googleusercontent.com/a-/AOh14GjB1LQYJH97Lqm6RsCcAADFgzEAa0YxMUT7P4mjlA=s64",
      "userId": "10877377912113147805"
     },
     "user_tz": 480
    },
    "id": "SzO3Hl5c97ty",
    "outputId": "adda6a4a-c773-4807-9647-32c26a575a4f"
   },
   "outputs": [
    {
     "data": {
      "text/html": [
       "<div>\n",
       "<style scoped>\n",
       "    .dataframe tbody tr th:only-of-type {\n",
       "        vertical-align: middle;\n",
       "    }\n",
       "\n",
       "    .dataframe tbody tr th {\n",
       "        vertical-align: top;\n",
       "    }\n",
       "\n",
       "    .dataframe thead th {\n",
       "        text-align: right;\n",
       "    }\n",
       "</style>\n",
       "<table border=\"1\" class=\"dataframe\">\n",
       "  <thead>\n",
       "    <tr style=\"text-align: right;\">\n",
       "      <th></th>\n",
       "      <th>Author_Id</th>\n",
       "      <th>author</th>\n",
       "      <th>total_counts</th>\n",
       "      <th>predicted_counts</th>\n",
       "      <th>fraction_lizon_messages</th>\n",
       "    </tr>\n",
       "  </thead>\n",
       "  <tbody>\n",
       "    <tr>\n",
       "      <th>100</th>\n",
       "      <td>711697</td>\n",
       "      <td>Lizonn +</td>\n",
       "      <td>79</td>\n",
       "      <td>75</td>\n",
       "      <td>0.949367</td>\n",
       "    </tr>\n",
       "    <tr>\n",
       "      <th>104</th>\n",
       "      <td>731728</td>\n",
       "      <td>newyorck D</td>\n",
       "      <td>1045</td>\n",
       "      <td>965</td>\n",
       "      <td>0.923445</td>\n",
       "    </tr>\n",
       "    <tr>\n",
       "      <th>86</th>\n",
       "      <td>475085</td>\n",
       "      <td>Элиззи H*</td>\n",
       "      <td>2054</td>\n",
       "      <td>1858</td>\n",
       "      <td>0.904576</td>\n",
       "    </tr>\n",
       "    <tr>\n",
       "      <th>85</th>\n",
       "      <td>472696</td>\n",
       "      <td>Кассиапея D</td>\n",
       "      <td>635</td>\n",
       "      <td>566</td>\n",
       "      <td>0.891339</td>\n",
       "    </tr>\n",
       "    <tr>\n",
       "      <th>11</th>\n",
       "      <td>100899</td>\n",
       "      <td>lizlizon *</td>\n",
       "      <td>322</td>\n",
       "      <td>257</td>\n",
       "      <td>0.798137</td>\n",
       "    </tr>\n",
       "    <tr>\n",
       "      <th>46</th>\n",
       "      <td>300514</td>\n",
       "      <td>Lizon \" **K**</td>\n",
       "      <td>555</td>\n",
       "      <td>393</td>\n",
       "      <td>0.708108</td>\n",
       "    </tr>\n",
       "    <tr>\n",
       "      <th>81</th>\n",
       "      <td>424711</td>\n",
       "      <td>Joconda Mona Liza _</td>\n",
       "      <td>227</td>\n",
       "      <td>154</td>\n",
       "      <td>0.678414</td>\n",
       "    </tr>\n",
       "  </tbody>\n",
       "</table>\n",
       "</div>"
      ],
      "text/plain": [
       "     Author_Id               author  ...  predicted_counts  fraction_lizon_messages\n",
       "100     711697             Lizonn +  ...                75                 0.949367\n",
       "104     731728           newyorck D  ...               965                 0.923445\n",
       "86      475085            Элиззи H*  ...              1858                 0.904576\n",
       "85      472696          Кассиапея D  ...               566                 0.891339\n",
       "11      100899           lizlizon *  ...               257                 0.798137\n",
       "46      300514        Lizon \" **K**  ...               393                 0.708108\n",
       "81      424711  Joconda Mona Liza _  ...               154                 0.678414\n",
       "\n",
       "[7 rows x 5 columns]"
      ]
     },
     "execution_count": 31,
     "metadata": {},
     "output_type": "execute_result"
    }
   ],
   "source": [
    "author_predicted[author_predicted['fraction_lizon_messages']>threshold_frc_lizon_messages  ]"
   ]
  },
  {
   "cell_type": "code",
   "execution_count": 32,
   "metadata": {
    "executionInfo": {
     "elapsed": 5071,
     "status": "ok",
     "timestamp": 1638378575872,
     "user": {
      "displayName": "Kateryna Drogaieva",
      "photoUrl": "https://lh3.googleusercontent.com/a-/AOh14GjB1LQYJH97Lqm6RsCcAADFgzEAa0YxMUT7P4mjlA=s64",
      "userId": "10877377912113147805"
     },
     "user_tz": 480
    },
    "id": "JHFo8YD1LXsg"
   },
   "outputs": [],
   "source": [
    "df.to_csv(test_Messages_full_filename, header=True, index=False)"
   ]
  },
  {
   "cell_type": "markdown",
   "metadata": {
    "id": "mvE4raidAGdP"
   },
   "source": [
    "## All lizon users"
   ]
  },
  {
   "cell_type": "code",
   "execution_count": 33,
   "metadata": {
    "executionInfo": {
     "elapsed": 360,
     "status": "ok",
     "timestamp": 1638378618773,
     "user": {
      "displayName": "Kateryna Drogaieva",
      "photoUrl": "https://lh3.googleusercontent.com/a-/AOh14GjB1LQYJH97Lqm6RsCcAADFgzEAa0YxMUT7P4mjlA=s64",
      "userId": "10877377912113147805"
     },
     "user_tz": 480
    },
    "id": "q7JFeJjq-VTf"
   },
   "outputs": [],
   "source": [
    "lizon = author_predicted[author_predicted['fraction_lizon_messages']>threshold_frc_lizon_messages  ].copy(deep=True)"
   ]
  },
  {
   "cell_type": "code",
   "execution_count": 41,
   "metadata": {
    "executionInfo": {
     "elapsed": 775,
     "status": "ok",
     "timestamp": 1638378996773,
     "user": {
      "displayName": "Kateryna Drogaieva",
      "photoUrl": "https://lh3.googleusercontent.com/a-/AOh14GjB1LQYJH97Lqm6RsCcAADFgzEAa0YxMUT7P4mjlA=s64",
      "userId": "10877377912113147805"
     },
     "user_tz": 480
    },
    "id": "Fo7WGtjF_1M7"
   },
   "outputs": [],
   "source": [
    "first_lizon_id = 69715"
   ]
  },
  {
   "cell_type": "code",
   "execution_count": 42,
   "metadata": {
    "colab": {
     "base_uri": "https://localhost:8080/",
     "height": 297
    },
    "executionInfo": {
     "elapsed": 372,
     "status": "ok",
     "timestamp": 1638379075322,
     "user": {
      "displayName": "Kateryna Drogaieva",
      "photoUrl": "https://lh3.googleusercontent.com/a-/AOh14GjB1LQYJH97Lqm6RsCcAADFgzEAa0YxMUT7P4mjlA=s64",
      "userId": "10877377912113147805"
     },
     "user_tz": 480
    },
    "id": "lrK9wjt0-ca-",
    "outputId": "ed451224-d888-4a8c-da5b-9f352aee8332"
   },
   "outputs": [
    {
     "data": {
      "text/html": [
       "<div>\n",
       "<style scoped>\n",
       "    .dataframe tbody tr th:only-of-type {\n",
       "        vertical-align: middle;\n",
       "    }\n",
       "\n",
       "    .dataframe tbody tr th {\n",
       "        vertical-align: top;\n",
       "    }\n",
       "\n",
       "    .dataframe thead th {\n",
       "        text-align: right;\n",
       "    }\n",
       "</style>\n",
       "<table border=\"1\" class=\"dataframe\">\n",
       "  <thead>\n",
       "    <tr style=\"text-align: right;\">\n",
       "      <th></th>\n",
       "      <th>Author_Id</th>\n",
       "      <th>author</th>\n",
       "      <th>cnt_messages</th>\n",
       "      <th>cnt_topics_started</th>\n",
       "      <th>first_message_ts</th>\n",
       "      <th>last_message_ts</th>\n",
       "      <th>avg_immediate_childs</th>\n",
       "      <th>avg_childs</th>\n",
       "      <th>avg_messages_per_day</th>\n",
       "      <th>DayPartPeriodicity</th>\n",
       "    </tr>\n",
       "  </thead>\n",
       "  <tbody>\n",
       "    <tr>\n",
       "      <th>3485</th>\n",
       "      <td>69715</td>\n",
       "      <td>lizon **</td>\n",
       "      <td>1274</td>\n",
       "      <td>19</td>\n",
       "      <td>2009-08-28 11:50:00</td>\n",
       "      <td>2010-12-07 23:18:00</td>\n",
       "      <td>1.061224</td>\n",
       "      <td>4.493721</td>\n",
       "      <td>0.356223</td>\n",
       "      <td>111</td>\n",
       "    </tr>\n",
       "    <tr>\n",
       "      <th>14771</th>\n",
       "      <td>300514</td>\n",
       "      <td>Lizon \" **K**</td>\n",
       "      <td>955</td>\n",
       "      <td>30</td>\n",
       "      <td>2011-01-04 14:22:00</td>\n",
       "      <td>2013-01-19 20:38:00</td>\n",
       "      <td>1.062827</td>\n",
       "      <td>4.025131</td>\n",
       "      <td>0.288204</td>\n",
       "      <td>111</td>\n",
       "    </tr>\n",
       "    <tr>\n",
       "      <th>5399</th>\n",
       "      <td>100899</td>\n",
       "      <td>lizlizon *</td>\n",
       "      <td>471</td>\n",
       "      <td>11</td>\n",
       "      <td>2012-12-09 13:15:00</td>\n",
       "      <td>2013-12-27 03:05:00</td>\n",
       "      <td>1.108280</td>\n",
       "      <td>3.605096</td>\n",
       "      <td>0.246073</td>\n",
       "      <td>111</td>\n",
       "    </tr>\n",
       "    <tr>\n",
       "      <th>16940</th>\n",
       "      <td>424711</td>\n",
       "      <td>Joconda Mona Liza _</td>\n",
       "      <td>390</td>\n",
       "      <td>4</td>\n",
       "      <td>2014-02-07 02:23:00</td>\n",
       "      <td>2015-06-04 17:02:00</td>\n",
       "      <td>1.061538</td>\n",
       "      <td>4.782051</td>\n",
       "      <td>0.165975</td>\n",
       "      <td>111</td>\n",
       "    </tr>\n",
       "    <tr>\n",
       "      <th>17566</th>\n",
       "      <td>472696</td>\n",
       "      <td>Кассиапея D</td>\n",
       "      <td>1093</td>\n",
       "      <td>15</td>\n",
       "      <td>2015-06-24 22:40:00</td>\n",
       "      <td>2019-03-16 15:05:00</td>\n",
       "      <td>1.116194</td>\n",
       "      <td>4.318390</td>\n",
       "      <td>0.145588</td>\n",
       "      <td>111</td>\n",
       "    </tr>\n",
       "    <tr>\n",
       "      <th>17627</th>\n",
       "      <td>475085</td>\n",
       "      <td>Элиззи H*</td>\n",
       "      <td>3317</td>\n",
       "      <td>44</td>\n",
       "      <td>2015-07-26 22:11:00</td>\n",
       "      <td>2019-03-21 21:20:00</td>\n",
       "      <td>1.109135</td>\n",
       "      <td>4.608683</td>\n",
       "      <td>0.423106</td>\n",
       "      <td>111</td>\n",
       "    </tr>\n",
       "    <tr>\n",
       "      <th>19218</th>\n",
       "      <td>711697</td>\n",
       "      <td>Lizonn +</td>\n",
       "      <td>136</td>\n",
       "      <td>2</td>\n",
       "      <td>2018-12-29 16:55:00</td>\n",
       "      <td>2019-03-28 23:41:00</td>\n",
       "      <td>1.139706</td>\n",
       "      <td>3.632353</td>\n",
       "      <td>0.224719</td>\n",
       "      <td>111</td>\n",
       "    </tr>\n",
       "    <tr>\n",
       "      <th>19739</th>\n",
       "      <td>731728</td>\n",
       "      <td>newyorck D</td>\n",
       "      <td>2142</td>\n",
       "      <td>32</td>\n",
       "      <td>2020-02-17 15:43:00</td>\n",
       "      <td>2021-09-16 20:49:00</td>\n",
       "      <td>1.035481</td>\n",
       "      <td>3.554622</td>\n",
       "      <td>0.521664</td>\n",
       "      <td>111</td>\n",
       "    </tr>\n",
       "  </tbody>\n",
       "</table>\n",
       "</div>"
      ],
      "text/plain": [
       "       Author_Id               author  ...  avg_messages_per_day  DayPartPeriodicity\n",
       "3485       69715             lizon **  ...              0.356223                 111\n",
       "14771     300514        Lizon \" **K**  ...              0.288204                 111\n",
       "5399      100899           lizlizon *  ...              0.246073                 111\n",
       "16940     424711  Joconda Mona Liza _  ...              0.165975                 111\n",
       "17566     472696          Кассиапея D  ...              0.145588                 111\n",
       "17627     475085            Элиззи H*  ...              0.423106                 111\n",
       "19218     711697             Lizonn +  ...              0.224719                 111\n",
       "19739     731728           newyorck D  ...              0.521664                 111\n",
       "\n",
       "[8 rows x 10 columns]"
      ]
     },
     "execution_count": 42,
     "metadata": {},
     "output_type": "execute_result"
    }
   ],
   "source": [
    "Authors[((Authors['Author_Id']==first_lizon_id) | (Authors['Author_Id'].isin(lizon['Author_Id'].tolist())))][['Author_Id','author', 'cnt_messages', 'cnt_topics_started','first_message_ts','last_message_ts','avg_immediate_childs', 'avg_childs', 'avg_messages_per_day', 'DayPartPeriodicity']].sort_values('first_message_ts',ascending=True)"
   ]
  },
  {
   "cell_type": "code",
   "execution_count": 49,
   "metadata": {
    "colab": {
     "base_uri": "https://localhost:8080/"
    },
    "executionInfo": {
     "elapsed": 307,
     "status": "ok",
     "timestamp": 1638379961108,
     "user": {
      "displayName": "Kateryna Drogaieva",
      "photoUrl": "https://lh3.googleusercontent.com/a-/AOh14GjB1LQYJH97Lqm6RsCcAADFgzEAa0YxMUT7P4mjlA=s64",
      "userId": "10877377912113147805"
     },
     "user_tz": 480
    },
    "id": "mL2CeZH2DWTj",
    "outputId": "d0860238-35d3-4962-9f41-39c0f83fad09"
   },
   "outputs": [
    {
     "name": "stdout",
     "output_type": "stream",
     "text": [
      "Total number of lizon`s posts is 9778\n"
     ]
    }
   ],
   "source": [
    "print('Total number of lizon`s posts is %s'%Authors[((Authors['Author_Id']==first_lizon_id) | (Authors['Author_Id'].isin(lizon['Author_Id'].tolist())))]['cnt_messages'].sum())"
   ]
  },
  {
   "cell_type": "code",
   "execution_count": 50,
   "metadata": {
    "colab": {
     "base_uri": "https://localhost:8080/"
    },
    "executionInfo": {
     "elapsed": 942,
     "status": "ok",
     "timestamp": 1638380008519,
     "user": {
      "displayName": "Kateryna Drogaieva",
      "photoUrl": "https://lh3.googleusercontent.com/a-/AOh14GjB1LQYJH97Lqm6RsCcAADFgzEAa0YxMUT7P4mjlA=s64",
      "userId": "10877377912113147805"
     },
     "user_tz": 480
    },
    "id": "oLkVgmoGDmo6",
    "outputId": "3980f68d-7a97-4ee3-ef45-c08602699db6"
   },
   "outputs": [
    {
     "name": "stdout",
     "output_type": "stream",
     "text": [
      "Total number of topics lizon started is 157\n"
     ]
    }
   ],
   "source": [
    "print('Total number of topics lizon started is %s'%Authors[((Authors['Author_Id']==first_lizon_id) | (Authors['Author_Id'].isin(lizon['Author_Id'].tolist())))]['cnt_topics_started'].sum())"
   ]
  },
  {
   "cell_type": "markdown",
   "metadata": {
    "id": "ckXk99BeAdU3"
   },
   "source": [
    "They all quite active users with a lot of posts and new topics started. Each has a lot of feedback (responses to their posts).\n",
    "Some users exists at the same time (intersection between first and last messages ranges). Sometimes there are small gaps between activity on the forum. *italicized text*"
   ]
  },
  {
   "cell_type": "code",
   "execution_count": 48,
   "metadata": {
    "colab": {
     "base_uri": "https://localhost:8080/"
    },
    "executionInfo": {
     "elapsed": 300,
     "status": "ok",
     "timestamp": 1638379855930,
     "user": {
      "displayName": "Kateryna Drogaieva",
      "photoUrl": "https://lh3.googleusercontent.com/a-/AOh14GjB1LQYJH97Lqm6RsCcAADFgzEAa0YxMUT7P4mjlA=s64",
      "userId": "10877377912113147805"
     },
     "user_tz": 480
    },
    "id": "g8lAFH36AccF",
    "outputId": "d58678a0-7d74-42ba-ce02-0928515fe5d6"
   },
   "outputs": [
    {
     "name": "stdout",
     "output_type": "stream",
     "text": [
      "Number of topics where lizon is talking to herself using different users is 23\n"
     ]
    }
   ],
   "source": [
    "tmp_df=df[df['Author_Id'].isin(lizon['Author_Id'].tolist())][['Topic_Id','Author_Id']].groupby(['Topic_Id']).nunique().reset_index().sort_values('Author_Id', ascending=False)\n",
    "tmp_df.columns=['Topic_Id','cnt_lizon_authors']\n",
    "tmp_df=tmp_df[tmp_df['cnt_lizon_authors']>1]\n",
    "print('Number of topics where lizon is talking to herself using different users is %s'%len(tmp_df))"
   ]
  },
  {
   "cell_type": "markdown",
   "metadata": {
    "id": "3Sn3tlvIEt20"
   },
   "source": [
    "*Need full dataset to check if she replies to her own messages. df is only named users (no anonymous) and intermediate replies can be skipped, so the chain of a conversation may have gaps.*"
   ]
  },
  {
   "cell_type": "code",
   "execution_count": 52,
   "metadata": {
    "colab": {
     "base_uri": "https://localhost:8080/",
     "height": 297
    },
    "executionInfo": {
     "elapsed": 284,
     "status": "ok",
     "timestamp": 1638380647990,
     "user": {
      "displayName": "Kateryna Drogaieva",
      "photoUrl": "https://lh3.googleusercontent.com/a-/AOh14GjB1LQYJH97Lqm6RsCcAADFgzEAa0YxMUT7P4mjlA=s64",
      "userId": "10877377912113147805"
     },
     "user_tz": 480
    },
    "id": "-lB8Q6cMF4mC",
    "outputId": "90d0150c-2d53-4215-c21d-4cb75c57ac1e"
   },
   "outputs": [
    {
     "data": {
      "text/html": [
       "<div>\n",
       "<style scoped>\n",
       "    .dataframe tbody tr th:only-of-type {\n",
       "        vertical-align: middle;\n",
       "    }\n",
       "\n",
       "    .dataframe tbody tr th {\n",
       "        vertical-align: top;\n",
       "    }\n",
       "\n",
       "    .dataframe thead th {\n",
       "        text-align: right;\n",
       "    }\n",
       "</style>\n",
       "<table border=\"1\" class=\"dataframe\">\n",
       "  <thead>\n",
       "    <tr style=\"text-align: right;\">\n",
       "      <th></th>\n",
       "      <th>Author_Id</th>\n",
       "      <th>author</th>\n",
       "      <th>first_message_ts</th>\n",
       "      <th>fraction_emojis</th>\n",
       "      <th>fraction_images</th>\n",
       "      <th>fraction_links</th>\n",
       "      <th>avg_message_words</th>\n",
       "      <th>avg_original_paragraphs</th>\n",
       "      <th>avg_actual_paragraphs</th>\n",
       "      <th>avg_paragraph_words</th>\n",
       "    </tr>\n",
       "  </thead>\n",
       "  <tbody>\n",
       "    <tr>\n",
       "      <th>3485</th>\n",
       "      <td>69715</td>\n",
       "      <td>lizon **</td>\n",
       "      <td>2009-08-28 11:50:00</td>\n",
       "      <td>0.0</td>\n",
       "      <td>0.000000</td>\n",
       "      <td>0.142072</td>\n",
       "      <td>33.148352</td>\n",
       "      <td>1.276295</td>\n",
       "      <td>1.218210</td>\n",
       "      <td>5.774562</td>\n",
       "    </tr>\n",
       "    <tr>\n",
       "      <th>14771</th>\n",
       "      <td>300514</td>\n",
       "      <td>Lizon \" **K**</td>\n",
       "      <td>2011-01-04 14:22:00</td>\n",
       "      <td>0.0</td>\n",
       "      <td>0.058639</td>\n",
       "      <td>0.127749</td>\n",
       "      <td>40.590576</td>\n",
       "      <td>1.413613</td>\n",
       "      <td>1.317277</td>\n",
       "      <td>7.457669</td>\n",
       "    </tr>\n",
       "    <tr>\n",
       "      <th>5399</th>\n",
       "      <td>100899</td>\n",
       "      <td>lizlizon *</td>\n",
       "      <td>2012-12-09 13:15:00</td>\n",
       "      <td>0.0</td>\n",
       "      <td>0.084926</td>\n",
       "      <td>0.203822</td>\n",
       "      <td>61.804671</td>\n",
       "      <td>3.477707</td>\n",
       "      <td>3.121019</td>\n",
       "      <td>10.526023</td>\n",
       "    </tr>\n",
       "    <tr>\n",
       "      <th>16940</th>\n",
       "      <td>424711</td>\n",
       "      <td>Joconda Mona Liza _</td>\n",
       "      <td>2014-02-07 02:23:00</td>\n",
       "      <td>0.0</td>\n",
       "      <td>0.115385</td>\n",
       "      <td>0.228205</td>\n",
       "      <td>42.987179</td>\n",
       "      <td>1.974359</td>\n",
       "      <td>1.671795</td>\n",
       "      <td>8.525708</td>\n",
       "    </tr>\n",
       "    <tr>\n",
       "      <th>17566</th>\n",
       "      <td>472696</td>\n",
       "      <td>Кассиапея D</td>\n",
       "      <td>2015-06-24 22:40:00</td>\n",
       "      <td>0.0</td>\n",
       "      <td>0.049405</td>\n",
       "      <td>0.097896</td>\n",
       "      <td>50.613907</td>\n",
       "      <td>2.793230</td>\n",
       "      <td>2.636780</td>\n",
       "      <td>8.819883</td>\n",
       "    </tr>\n",
       "    <tr>\n",
       "      <th>17627</th>\n",
       "      <td>475085</td>\n",
       "      <td>Элиззи H*</td>\n",
       "      <td>2015-07-26 22:11:00</td>\n",
       "      <td>0.0</td>\n",
       "      <td>0.141996</td>\n",
       "      <td>0.306602</td>\n",
       "      <td>61.345191</td>\n",
       "      <td>4.270425</td>\n",
       "      <td>3.731384</td>\n",
       "      <td>10.065658</td>\n",
       "    </tr>\n",
       "    <tr>\n",
       "      <th>19218</th>\n",
       "      <td>711697</td>\n",
       "      <td>Lizonn +</td>\n",
       "      <td>2018-12-29 16:55:00</td>\n",
       "      <td>0.0</td>\n",
       "      <td>0.492647</td>\n",
       "      <td>0.632353</td>\n",
       "      <td>48.970588</td>\n",
       "      <td>4.551471</td>\n",
       "      <td>3.426471</td>\n",
       "      <td>8.388504</td>\n",
       "    </tr>\n",
       "    <tr>\n",
       "      <th>19739</th>\n",
       "      <td>731728</td>\n",
       "      <td>newyorck D</td>\n",
       "      <td>2020-02-17 15:43:00</td>\n",
       "      <td>0.0</td>\n",
       "      <td>0.229225</td>\n",
       "      <td>0.301120</td>\n",
       "      <td>41.502334</td>\n",
       "      <td>3.131186</td>\n",
       "      <td>2.611111</td>\n",
       "      <td>7.331484</td>\n",
       "    </tr>\n",
       "  </tbody>\n",
       "</table>\n",
       "</div>"
      ],
      "text/plain": [
       "       Author_Id  ... avg_paragraph_words\n",
       "3485       69715  ...            5.774562\n",
       "14771     300514  ...            7.457669\n",
       "5399      100899  ...           10.526023\n",
       "16940     424711  ...            8.525708\n",
       "17566     472696  ...            8.819883\n",
       "17627     475085  ...           10.065658\n",
       "19218     711697  ...            8.388504\n",
       "19739     731728  ...            7.331484\n",
       "\n",
       "[8 rows x 10 columns]"
      ]
     },
     "execution_count": 52,
     "metadata": {},
     "output_type": "execute_result"
    }
   ],
   "source": [
    "Authors[((Authors['Author_Id']==first_lizon_id) | (Authors['Author_Id'].isin(lizon['Author_Id'].tolist())))][['Author_Id','author','first_message_ts','fraction_emojis','fraction_images','fraction_links','avg_message_words','avg_original_paragraphs','avg_actual_paragraphs','avg_paragraph_words']].sort_values('first_message_ts',ascending=True)"
   ]
  },
  {
   "cell_type": "markdown",
   "metadata": {
    "id": "HzKOmwjUGR0P"
   },
   "source": [
    "*She does not use emojies, but images and links to photos. That's the reason why using original, not clean text in the model is more successfull then cleaned, without html tags text.*"
   ]
  },
  {
   "cell_type": "code",
   "execution_count": 54,
   "metadata": {
    "colab": {
     "base_uri": "https://localhost:8080/",
     "height": 297
    },
    "executionInfo": {
     "elapsed": 359,
     "status": "ok",
     "timestamp": 1638380874746,
     "user": {
      "displayName": "Kateryna Drogaieva",
      "photoUrl": "https://lh3.googleusercontent.com/a-/AOh14GjB1LQYJH97Lqm6RsCcAADFgzEAa0YxMUT7P4mjlA=s64",
      "userId": "10877377912113147805"
     },
     "user_tz": 480
    },
    "id": "rks6-fU5Gl_O",
    "outputId": "9978f5a6-ecfb-4d32-d168-0fab74d77faa"
   },
   "outputs": [
    {
     "data": {
      "text/html": [
       "<div>\n",
       "<style scoped>\n",
       "    .dataframe tbody tr th:only-of-type {\n",
       "        vertical-align: middle;\n",
       "    }\n",
       "\n",
       "    .dataframe tbody tr th {\n",
       "        vertical-align: top;\n",
       "    }\n",
       "\n",
       "    .dataframe thead th {\n",
       "        text-align: right;\n",
       "    }\n",
       "</style>\n",
       "<table border=\"1\" class=\"dataframe\">\n",
       "  <thead>\n",
       "    <tr style=\"text-align: right;\">\n",
       "      <th></th>\n",
       "      <th>Author_Id</th>\n",
       "      <th>author</th>\n",
       "      <th>first_message_ts</th>\n",
       "      <th>cnt_messages</th>\n",
       "      <th>avg_immediate_childs</th>\n",
       "      <th>fraction_of_tatyana_neg_rersponses</th>\n",
       "      <th>fraction_of_tatyana_pos_rersponses</th>\n",
       "    </tr>\n",
       "  </thead>\n",
       "  <tbody>\n",
       "    <tr>\n",
       "      <th>3485</th>\n",
       "      <td>69715</td>\n",
       "      <td>lizon **</td>\n",
       "      <td>2009-08-28 11:50:00</td>\n",
       "      <td>1274</td>\n",
       "      <td>1.061224</td>\n",
       "      <td>0.437206</td>\n",
       "      <td>0.234694</td>\n",
       "    </tr>\n",
       "    <tr>\n",
       "      <th>14771</th>\n",
       "      <td>300514</td>\n",
       "      <td>Lizon \" **K**</td>\n",
       "      <td>2011-01-04 14:22:00</td>\n",
       "      <td>955</td>\n",
       "      <td>1.062827</td>\n",
       "      <td>0.413613</td>\n",
       "      <td>0.268063</td>\n",
       "    </tr>\n",
       "    <tr>\n",
       "      <th>5399</th>\n",
       "      <td>100899</td>\n",
       "      <td>lizlizon *</td>\n",
       "      <td>2012-12-09 13:15:00</td>\n",
       "      <td>471</td>\n",
       "      <td>1.108280</td>\n",
       "      <td>0.469214</td>\n",
       "      <td>0.290870</td>\n",
       "    </tr>\n",
       "    <tr>\n",
       "      <th>16940</th>\n",
       "      <td>424711</td>\n",
       "      <td>Joconda Mona Liza _</td>\n",
       "      <td>2014-02-07 02:23:00</td>\n",
       "      <td>390</td>\n",
       "      <td>1.061538</td>\n",
       "      <td>0.479487</td>\n",
       "      <td>0.207692</td>\n",
       "    </tr>\n",
       "    <tr>\n",
       "      <th>17566</th>\n",
       "      <td>472696</td>\n",
       "      <td>Кассиапея D</td>\n",
       "      <td>2015-06-24 22:40:00</td>\n",
       "      <td>1093</td>\n",
       "      <td>1.116194</td>\n",
       "      <td>0.456542</td>\n",
       "      <td>0.273559</td>\n",
       "    </tr>\n",
       "    <tr>\n",
       "      <th>17627</th>\n",
       "      <td>475085</td>\n",
       "      <td>Элиззи H*</td>\n",
       "      <td>2015-07-26 22:11:00</td>\n",
       "      <td>3317</td>\n",
       "      <td>1.109135</td>\n",
       "      <td>0.489599</td>\n",
       "      <td>0.227314</td>\n",
       "    </tr>\n",
       "    <tr>\n",
       "      <th>19218</th>\n",
       "      <td>711697</td>\n",
       "      <td>Lizonn +</td>\n",
       "      <td>2018-12-29 16:55:00</td>\n",
       "      <td>136</td>\n",
       "      <td>1.139706</td>\n",
       "      <td>0.463235</td>\n",
       "      <td>0.235294</td>\n",
       "    </tr>\n",
       "    <tr>\n",
       "      <th>19739</th>\n",
       "      <td>731728</td>\n",
       "      <td>newyorck D</td>\n",
       "      <td>2020-02-17 15:43:00</td>\n",
       "      <td>2142</td>\n",
       "      <td>1.035481</td>\n",
       "      <td>0.448179</td>\n",
       "      <td>0.198413</td>\n",
       "    </tr>\n",
       "  </tbody>\n",
       "</table>\n",
       "</div>"
      ],
      "text/plain": [
       "       Author_Id  ... fraction_of_tatyana_pos_rersponses\n",
       "3485       69715  ...                           0.234694\n",
       "14771     300514  ...                           0.268063\n",
       "5399      100899  ...                           0.290870\n",
       "16940     424711  ...                           0.207692\n",
       "17566     472696  ...                           0.273559\n",
       "17627     475085  ...                           0.227314\n",
       "19218     711697  ...                           0.235294\n",
       "19739     731728  ...                           0.198413\n",
       "\n",
       "[8 rows x 7 columns]"
      ]
     },
     "execution_count": 54,
     "metadata": {},
     "output_type": "execute_result"
    }
   ],
   "source": [
    "Authors[((Authors['Author_Id']==first_lizon_id) | (Authors['Author_Id'].isin(lizon['Author_Id'].tolist())))][['Author_Id','author','first_message_ts','cnt_messages','avg_immediate_childs','fraction_of_tatyana_neg_rersponses','fraction_of_tatyana_pos_rersponses']].sort_values('first_message_ts',ascending=True)"
   ]
  },
  {
   "cell_type": "markdown",
   "metadata": {
    "id": "RmHHu2RTHExu"
   },
   "source": [
    "*Responses to her messages are rather negative then positive. But, in fact, there are even more negative responses hided behind \"sarcasm\". Unfortunately, there are no pre-traned models to detect sarcasm in Russian langauge.*"
   ]
  },
  {
   "cell_type": "code",
   "execution_count": 55,
   "metadata": {
    "colab": {
     "base_uri": "https://localhost:8080/",
     "height": 297
    },
    "executionInfo": {
     "elapsed": 850,
     "status": "ok",
     "timestamp": 1638381056186,
     "user": {
      "displayName": "Kateryna Drogaieva",
      "photoUrl": "https://lh3.googleusercontent.com/a-/AOh14GjB1LQYJH97Lqm6RsCcAADFgzEAa0YxMUT7P4mjlA=s64",
      "userId": "10877377912113147805"
     },
     "user_tz": 480
    },
    "id": "qh2dCdT-HfWB",
    "outputId": "50f6af3f-cb01-4669-c3ec-e72f5a412d88"
   },
   "outputs": [
    {
     "data": {
      "text/html": [
       "<div>\n",
       "<style scoped>\n",
       "    .dataframe tbody tr th:only-of-type {\n",
       "        vertical-align: middle;\n",
       "    }\n",
       "\n",
       "    .dataframe tbody tr th {\n",
       "        vertical-align: top;\n",
       "    }\n",
       "\n",
       "    .dataframe thead th {\n",
       "        text-align: right;\n",
       "    }\n",
       "</style>\n",
       "<table border=\"1\" class=\"dataframe\">\n",
       "  <thead>\n",
       "    <tr style=\"text-align: right;\">\n",
       "      <th></th>\n",
       "      <th>Author_Id</th>\n",
       "      <th>author</th>\n",
       "      <th>first_message_ts</th>\n",
       "      <th>cnt_messages</th>\n",
       "      <th>fraction_of_tatyana_neg_messages</th>\n",
       "      <th>fraction_of_tatyana_pos_messages</th>\n",
       "    </tr>\n",
       "  </thead>\n",
       "  <tbody>\n",
       "    <tr>\n",
       "      <th>3485</th>\n",
       "      <td>69715</td>\n",
       "      <td>lizon **</td>\n",
       "      <td>2009-08-28 11:50:00</td>\n",
       "      <td>1274</td>\n",
       "      <td>0.460754</td>\n",
       "      <td>0.167190</td>\n",
       "    </tr>\n",
       "    <tr>\n",
       "      <th>14771</th>\n",
       "      <td>300514</td>\n",
       "      <td>Lizon \" **K**</td>\n",
       "      <td>2011-01-04 14:22:00</td>\n",
       "      <td>955</td>\n",
       "      <td>0.450262</td>\n",
       "      <td>0.208377</td>\n",
       "    </tr>\n",
       "    <tr>\n",
       "      <th>5399</th>\n",
       "      <td>100899</td>\n",
       "      <td>lizlizon *</td>\n",
       "      <td>2012-12-09 13:15:00</td>\n",
       "      <td>471</td>\n",
       "      <td>0.486200</td>\n",
       "      <td>0.188960</td>\n",
       "    </tr>\n",
       "    <tr>\n",
       "      <th>16940</th>\n",
       "      <td>424711</td>\n",
       "      <td>Joconda Mona Liza _</td>\n",
       "      <td>2014-02-07 02:23:00</td>\n",
       "      <td>390</td>\n",
       "      <td>0.430769</td>\n",
       "      <td>0.197436</td>\n",
       "    </tr>\n",
       "    <tr>\n",
       "      <th>17566</th>\n",
       "      <td>472696</td>\n",
       "      <td>Кассиапея D</td>\n",
       "      <td>2015-06-24 22:40:00</td>\n",
       "      <td>1093</td>\n",
       "      <td>0.431839</td>\n",
       "      <td>0.203111</td>\n",
       "    </tr>\n",
       "    <tr>\n",
       "      <th>17627</th>\n",
       "      <td>475085</td>\n",
       "      <td>Элиззи H*</td>\n",
       "      <td>2015-07-26 22:11:00</td>\n",
       "      <td>3317</td>\n",
       "      <td>0.477841</td>\n",
       "      <td>0.184806</td>\n",
       "    </tr>\n",
       "    <tr>\n",
       "      <th>19218</th>\n",
       "      <td>711697</td>\n",
       "      <td>Lizonn +</td>\n",
       "      <td>2018-12-29 16:55:00</td>\n",
       "      <td>136</td>\n",
       "      <td>0.382353</td>\n",
       "      <td>0.191176</td>\n",
       "    </tr>\n",
       "    <tr>\n",
       "      <th>19739</th>\n",
       "      <td>731728</td>\n",
       "      <td>newyorck D</td>\n",
       "      <td>2020-02-17 15:43:00</td>\n",
       "      <td>2142</td>\n",
       "      <td>0.418301</td>\n",
       "      <td>0.188609</td>\n",
       "    </tr>\n",
       "  </tbody>\n",
       "</table>\n",
       "</div>"
      ],
      "text/plain": [
       "       Author_Id  ... fraction_of_tatyana_pos_messages\n",
       "3485       69715  ...                         0.167190\n",
       "14771     300514  ...                         0.208377\n",
       "5399      100899  ...                         0.188960\n",
       "16940     424711  ...                         0.197436\n",
       "17566     472696  ...                         0.203111\n",
       "17627     475085  ...                         0.184806\n",
       "19218     711697  ...                         0.191176\n",
       "19739     731728  ...                         0.188609\n",
       "\n",
       "[8 rows x 6 columns]"
      ]
     },
     "execution_count": 55,
     "metadata": {},
     "output_type": "execute_result"
    }
   ],
   "source": [
    "Authors[((Authors['Author_Id']==first_lizon_id) | (Authors['Author_Id'].isin(lizon['Author_Id'].tolist())))][['Author_Id','author','first_message_ts','cnt_messages','fraction_of_tatyana_neg_messages','fraction_of_tatyana_pos_messages']].sort_values('first_message_ts',ascending=True)"
   ]
  },
  {
   "cell_type": "markdown",
   "metadata": {
    "id": "1h8RYJrqHy89"
   },
   "source": [
    "*But her own messages are not very positive as well.*"
   ]
  }
 ],
 "metadata": {
  "accelerator": "GPU",
  "colab": {
   "authorship_tag": "ABX9TyOej+MF4k1pSHU8pX8JTlqd",
   "collapsed_sections": [],
   "machine_shape": "hm",
   "name": "lizon_prediction.ipynb",
   "provenance": []
  },
  "kernelspec": {
   "display_name": "Python 3",
   "language": "python",
   "name": "python3"
  },
  "language_info": {
   "codemirror_mode": {
    "name": "ipython",
    "version": 3
   },
   "file_extension": ".py",
   "mimetype": "text/x-python",
   "name": "python",
   "nbconvert_exporter": "python",
   "pygments_lexer": "ipython3",
   "version": "3.8.5"
  },
  "widgets": {
   "application/vnd.jupyter.widget-state+json": {
    "002ec063b01248b39411858884eb1599": {
     "model_module": "@jupyter-widgets/controls",
     "model_module_version": "1.5.0",
     "model_name": "ProgressStyleModel",
     "state": {
      "_model_module": "@jupyter-widgets/controls",
      "_model_module_version": "1.5.0",
      "_model_name": "ProgressStyleModel",
      "_view_count": null,
      "_view_module": "@jupyter-widgets/base",
      "_view_module_version": "1.2.0",
      "_view_name": "StyleView",
      "bar_color": null,
      "description_width": ""
     }
    },
    "037b3ec90bb24ea7bb8c190b42a2be59": {
     "model_module": "@jupyter-widgets/base",
     "model_module_version": "1.2.0",
     "model_name": "LayoutModel",
     "state": {
      "_model_module": "@jupyter-widgets/base",
      "_model_module_version": "1.2.0",
      "_model_name": "LayoutModel",
      "_view_count": null,
      "_view_module": "@jupyter-widgets/base",
      "_view_module_version": "1.2.0",
      "_view_name": "LayoutView",
      "align_content": null,
      "align_items": null,
      "align_self": null,
      "border": null,
      "bottom": null,
      "display": null,
      "flex": null,
      "flex_flow": null,
      "grid_area": null,
      "grid_auto_columns": null,
      "grid_auto_flow": null,
      "grid_auto_rows": null,
      "grid_column": null,
      "grid_gap": null,
      "grid_row": null,
      "grid_template_areas": null,
      "grid_template_columns": null,
      "grid_template_rows": null,
      "height": null,
      "justify_content": null,
      "justify_items": null,
      "left": null,
      "margin": null,
      "max_height": null,
      "max_width": null,
      "min_height": null,
      "min_width": null,
      "object_fit": null,
      "object_position": null,
      "order": null,
      "overflow": null,
      "overflow_x": null,
      "overflow_y": null,
      "padding": null,
      "right": null,
      "top": null,
      "visibility": null,
      "width": null
     }
    },
    "0f887ed009f841f3906cec7f90b4276c": {
     "model_module": "@jupyter-widgets/base",
     "model_module_version": "1.2.0",
     "model_name": "LayoutModel",
     "state": {
      "_model_module": "@jupyter-widgets/base",
      "_model_module_version": "1.2.0",
      "_model_name": "LayoutModel",
      "_view_count": null,
      "_view_module": "@jupyter-widgets/base",
      "_view_module_version": "1.2.0",
      "_view_name": "LayoutView",
      "align_content": null,
      "align_items": null,
      "align_self": null,
      "border": null,
      "bottom": null,
      "display": null,
      "flex": null,
      "flex_flow": null,
      "grid_area": null,
      "grid_auto_columns": null,
      "grid_auto_flow": null,
      "grid_auto_rows": null,
      "grid_column": null,
      "grid_gap": null,
      "grid_row": null,
      "grid_template_areas": null,
      "grid_template_columns": null,
      "grid_template_rows": null,
      "height": null,
      "justify_content": null,
      "justify_items": null,
      "left": null,
      "margin": null,
      "max_height": null,
      "max_width": null,
      "min_height": null,
      "min_width": null,
      "object_fit": null,
      "object_position": null,
      "order": null,
      "overflow": null,
      "overflow_x": null,
      "overflow_y": null,
      "padding": null,
      "right": null,
      "top": null,
      "visibility": null,
      "width": null
     }
    },
    "13a767eed6124f92b489805221c77d93": {
     "model_module": "@jupyter-widgets/base",
     "model_module_version": "1.2.0",
     "model_name": "LayoutModel",
     "state": {
      "_model_module": "@jupyter-widgets/base",
      "_model_module_version": "1.2.0",
      "_model_name": "LayoutModel",
      "_view_count": null,
      "_view_module": "@jupyter-widgets/base",
      "_view_module_version": "1.2.0",
      "_view_name": "LayoutView",
      "align_content": null,
      "align_items": null,
      "align_self": null,
      "border": null,
      "bottom": null,
      "display": null,
      "flex": null,
      "flex_flow": null,
      "grid_area": null,
      "grid_auto_columns": null,
      "grid_auto_flow": null,
      "grid_auto_rows": null,
      "grid_column": null,
      "grid_gap": null,
      "grid_row": null,
      "grid_template_areas": null,
      "grid_template_columns": null,
      "grid_template_rows": null,
      "height": null,
      "justify_content": null,
      "justify_items": null,
      "left": null,
      "margin": null,
      "max_height": null,
      "max_width": null,
      "min_height": null,
      "min_width": null,
      "object_fit": null,
      "object_position": null,
      "order": null,
      "overflow": null,
      "overflow_x": null,
      "overflow_y": null,
      "padding": null,
      "right": null,
      "top": null,
      "visibility": null,
      "width": null
     }
    },
    "15f9234dbb2b4d18954a01929da0c34f": {
     "model_module": "@jupyter-widgets/controls",
     "model_module_version": "1.5.0",
     "model_name": "DescriptionStyleModel",
     "state": {
      "_model_module": "@jupyter-widgets/controls",
      "_model_module_version": "1.5.0",
      "_model_name": "DescriptionStyleModel",
      "_view_count": null,
      "_view_module": "@jupyter-widgets/base",
      "_view_module_version": "1.2.0",
      "_view_name": "StyleView",
      "description_width": ""
     }
    },
    "17a3dfd7067e4b94958662adb4be2a46": {
     "model_module": "@jupyter-widgets/controls",
     "model_module_version": "1.5.0",
     "model_name": "HTMLModel",
     "state": {
      "_dom_classes": [],
      "_model_module": "@jupyter-widgets/controls",
      "_model_module_version": "1.5.0",
      "_model_name": "HTMLModel",
      "_view_count": null,
      "_view_module": "@jupyter-widgets/controls",
      "_view_module_version": "1.5.0",
      "_view_name": "HTMLView",
      "description": "",
      "description_tooltip": null,
      "layout": "IPY_MODEL_573ed14cee904debb2fe9f37c76278e3",
      "placeholder": "​",
      "style": "IPY_MODEL_af44406bff654bb293c12809ac530ddd",
      "value": "Downloading: 100%"
     }
    },
    "19edeced683148219ae192ffc3e3ef93": {
     "model_module": "@jupyter-widgets/controls",
     "model_module_version": "1.5.0",
     "model_name": "ProgressStyleModel",
     "state": {
      "_model_module": "@jupyter-widgets/controls",
      "_model_module_version": "1.5.0",
      "_model_name": "ProgressStyleModel",
      "_view_count": null,
      "_view_module": "@jupyter-widgets/base",
      "_view_module_version": "1.2.0",
      "_view_name": "StyleView",
      "bar_color": null,
      "description_width": ""
     }
    },
    "29c19b1e60d54a4aaac0bab5a3060675": {
     "model_module": "@jupyter-widgets/controls",
     "model_module_version": "1.5.0",
     "model_name": "DescriptionStyleModel",
     "state": {
      "_model_module": "@jupyter-widgets/controls",
      "_model_module_version": "1.5.0",
      "_model_name": "DescriptionStyleModel",
      "_view_count": null,
      "_view_module": "@jupyter-widgets/base",
      "_view_module_version": "1.2.0",
      "_view_name": "StyleView",
      "description_width": ""
     }
    },
    "2bf2da006ebe4801b350059ef5da3230": {
     "model_module": "@jupyter-widgets/controls",
     "model_module_version": "1.5.0",
     "model_name": "ProgressStyleModel",
     "state": {
      "_model_module": "@jupyter-widgets/controls",
      "_model_module_version": "1.5.0",
      "_model_name": "ProgressStyleModel",
      "_view_count": null,
      "_view_module": "@jupyter-widgets/base",
      "_view_module_version": "1.2.0",
      "_view_name": "StyleView",
      "bar_color": null,
      "description_width": ""
     }
    },
    "34ed12568f6c46e892fb8f005cbd9812": {
     "model_module": "@jupyter-widgets/base",
     "model_module_version": "1.2.0",
     "model_name": "LayoutModel",
     "state": {
      "_model_module": "@jupyter-widgets/base",
      "_model_module_version": "1.2.0",
      "_model_name": "LayoutModel",
      "_view_count": null,
      "_view_module": "@jupyter-widgets/base",
      "_view_module_version": "1.2.0",
      "_view_name": "LayoutView",
      "align_content": null,
      "align_items": null,
      "align_self": null,
      "border": null,
      "bottom": null,
      "display": null,
      "flex": null,
      "flex_flow": null,
      "grid_area": null,
      "grid_auto_columns": null,
      "grid_auto_flow": null,
      "grid_auto_rows": null,
      "grid_column": null,
      "grid_gap": null,
      "grid_row": null,
      "grid_template_areas": null,
      "grid_template_columns": null,
      "grid_template_rows": null,
      "height": null,
      "justify_content": null,
      "justify_items": null,
      "left": null,
      "margin": null,
      "max_height": null,
      "max_width": null,
      "min_height": null,
      "min_width": null,
      "object_fit": null,
      "object_position": null,
      "order": null,
      "overflow": null,
      "overflow_x": null,
      "overflow_y": null,
      "padding": null,
      "right": null,
      "top": null,
      "visibility": null,
      "width": null
     }
    },
    "36481c3d7e1241e6b88831b26e434dbe": {
     "model_module": "@jupyter-widgets/controls",
     "model_module_version": "1.5.0",
     "model_name": "HBoxModel",
     "state": {
      "_dom_classes": [],
      "_model_module": "@jupyter-widgets/controls",
      "_model_module_version": "1.5.0",
      "_model_name": "HBoxModel",
      "_view_count": null,
      "_view_module": "@jupyter-widgets/controls",
      "_view_module_version": "1.5.0",
      "_view_name": "HBoxView",
      "box_style": "",
      "children": [
       "IPY_MODEL_8cfdbc1a4cc04b3e9d1e2f237ff6f3ce",
       "IPY_MODEL_95b585bd9b634fba9056ebf521f06791",
       "IPY_MODEL_8418fd19524146c68c8ee0dbd92f184f"
      ],
      "layout": "IPY_MODEL_438b0a5e7c944ea6a6a1dae08f2a3a4e"
     }
    },
    "3958f1fed2204d8aadf633fb56039fe8": {
     "model_module": "@jupyter-widgets/controls",
     "model_module_version": "1.5.0",
     "model_name": "HBoxModel",
     "state": {
      "_dom_classes": [],
      "_model_module": "@jupyter-widgets/controls",
      "_model_module_version": "1.5.0",
      "_model_name": "HBoxModel",
      "_view_count": null,
      "_view_module": "@jupyter-widgets/controls",
      "_view_module_version": "1.5.0",
      "_view_name": "HBoxView",
      "box_style": "",
      "children": [
       "IPY_MODEL_f1985f208a994e8cb2dc1fd91e6ca207",
       "IPY_MODEL_e3b2aa2dfd724cae8238af6c8c047de4",
       "IPY_MODEL_9a64df22f6904e6e828cf09e53991e80"
      ],
      "layout": "IPY_MODEL_df5fb0070f24499a98f85a575eb8c517"
     }
    },
    "3be067a2254948f88c3b223b46461ed4": {
     "model_module": "@jupyter-widgets/controls",
     "model_module_version": "1.5.0",
     "model_name": "FloatProgressModel",
     "state": {
      "_dom_classes": [],
      "_model_module": "@jupyter-widgets/controls",
      "_model_module_version": "1.5.0",
      "_model_name": "FloatProgressModel",
      "_view_count": null,
      "_view_module": "@jupyter-widgets/controls",
      "_view_module_version": "1.5.0",
      "_view_name": "ProgressView",
      "bar_style": "success",
      "description": "",
      "description_tooltip": null,
      "layout": "IPY_MODEL_df087f1402114d208a2ebcb7c1683f43",
      "max": 16,
      "min": 0,
      "orientation": "horizontal",
      "style": "IPY_MODEL_002ec063b01248b39411858884eb1599",
      "value": 16
     }
    },
    "3c61b256891e4b1a869ec5984be54669": {
     "model_module": "@jupyter-widgets/controls",
     "model_module_version": "1.5.0",
     "model_name": "HBoxModel",
     "state": {
      "_dom_classes": [],
      "_model_module": "@jupyter-widgets/controls",
      "_model_module_version": "1.5.0",
      "_model_name": "HBoxModel",
      "_view_count": null,
      "_view_module": "@jupyter-widgets/controls",
      "_view_module_version": "1.5.0",
      "_view_name": "HBoxView",
      "box_style": "",
      "children": [
       "IPY_MODEL_def68d64b48445b2a8166a8686e0969c",
       "IPY_MODEL_bd4b8d21242d42ca92253cf0c9e3367a",
       "IPY_MODEL_72876d2dbda94ad9bd291295d3ed9976"
      ],
      "layout": "IPY_MODEL_acb2f69161054b2ca0aa5fb97acc9ffc"
     }
    },
    "438b0a5e7c944ea6a6a1dae08f2a3a4e": {
     "model_module": "@jupyter-widgets/base",
     "model_module_version": "1.2.0",
     "model_name": "LayoutModel",
     "state": {
      "_model_module": "@jupyter-widgets/base",
      "_model_module_version": "1.2.0",
      "_model_name": "LayoutModel",
      "_view_count": null,
      "_view_module": "@jupyter-widgets/base",
      "_view_module_version": "1.2.0",
      "_view_name": "LayoutView",
      "align_content": null,
      "align_items": null,
      "align_self": null,
      "border": null,
      "bottom": null,
      "display": null,
      "flex": null,
      "flex_flow": null,
      "grid_area": null,
      "grid_auto_columns": null,
      "grid_auto_flow": null,
      "grid_auto_rows": null,
      "grid_column": null,
      "grid_gap": null,
      "grid_row": null,
      "grid_template_areas": null,
      "grid_template_columns": null,
      "grid_template_rows": null,
      "height": null,
      "justify_content": null,
      "justify_items": null,
      "left": null,
      "margin": null,
      "max_height": null,
      "max_width": null,
      "min_height": null,
      "min_width": null,
      "object_fit": null,
      "object_position": null,
      "order": null,
      "overflow": null,
      "overflow_x": null,
      "overflow_y": null,
      "padding": null,
      "right": null,
      "top": null,
      "visibility": null,
      "width": null
     }
    },
    "43fe30e70ea54072a4eccf05b5eed10b": {
     "model_module": "@jupyter-widgets/controls",
     "model_module_version": "1.5.0",
     "model_name": "HBoxModel",
     "state": {
      "_dom_classes": [],
      "_model_module": "@jupyter-widgets/controls",
      "_model_module_version": "1.5.0",
      "_model_name": "HBoxModel",
      "_view_count": null,
      "_view_module": "@jupyter-widgets/controls",
      "_view_module_version": "1.5.0",
      "_view_name": "HBoxView",
      "box_style": "",
      "children": [
       "IPY_MODEL_17a3dfd7067e4b94958662adb4be2a46",
       "IPY_MODEL_9158e745a46e4a16854e0d83835ef305",
       "IPY_MODEL_4aaaa39304a44a92a205a3c36e448f82"
      ],
      "layout": "IPY_MODEL_7c822584678b4088953e3c721db954af"
     }
    },
    "4aaaa39304a44a92a205a3c36e448f82": {
     "model_module": "@jupyter-widgets/controls",
     "model_module_version": "1.5.0",
     "model_name": "HTMLModel",
     "state": {
      "_dom_classes": [],
      "_model_module": "@jupyter-widgets/controls",
      "_model_module_version": "1.5.0",
      "_model_name": "HTMLModel",
      "_view_count": null,
      "_view_module": "@jupyter-widgets/controls",
      "_view_module_version": "1.5.0",
      "_view_name": "HTMLView",
      "description": "",
      "description_tooltip": null,
      "layout": "IPY_MODEL_608e834ae24344afafedfd561ef0b32a",
      "placeholder": "​",
      "style": "IPY_MODEL_7680d6b9885a4a5d92fe8107771613a2",
      "value": " 1.34M/1.34M [00:01&lt;00:00, 1.23MB/s]"
     }
    },
    "573ed14cee904debb2fe9f37c76278e3": {
     "model_module": "@jupyter-widgets/base",
     "model_module_version": "1.2.0",
     "model_name": "LayoutModel",
     "state": {
      "_model_module": "@jupyter-widgets/base",
      "_model_module_version": "1.2.0",
      "_model_name": "LayoutModel",
      "_view_count": null,
      "_view_module": "@jupyter-widgets/base",
      "_view_module_version": "1.2.0",
      "_view_name": "LayoutView",
      "align_content": null,
      "align_items": null,
      "align_self": null,
      "border": null,
      "bottom": null,
      "display": null,
      "flex": null,
      "flex_flow": null,
      "grid_area": null,
      "grid_auto_columns": null,
      "grid_auto_flow": null,
      "grid_auto_rows": null,
      "grid_column": null,
      "grid_gap": null,
      "grid_row": null,
      "grid_template_areas": null,
      "grid_template_columns": null,
      "grid_template_rows": null,
      "height": null,
      "justify_content": null,
      "justify_items": null,
      "left": null,
      "margin": null,
      "max_height": null,
      "max_width": null,
      "min_height": null,
      "min_width": null,
      "object_fit": null,
      "object_position": null,
      "order": null,
      "overflow": null,
      "overflow_x": null,
      "overflow_y": null,
      "padding": null,
      "right": null,
      "top": null,
      "visibility": null,
      "width": null
     }
    },
    "608e834ae24344afafedfd561ef0b32a": {
     "model_module": "@jupyter-widgets/base",
     "model_module_version": "1.2.0",
     "model_name": "LayoutModel",
     "state": {
      "_model_module": "@jupyter-widgets/base",
      "_model_module_version": "1.2.0",
      "_model_name": "LayoutModel",
      "_view_count": null,
      "_view_module": "@jupyter-widgets/base",
      "_view_module_version": "1.2.0",
      "_view_name": "LayoutView",
      "align_content": null,
      "align_items": null,
      "align_self": null,
      "border": null,
      "bottom": null,
      "display": null,
      "flex": null,
      "flex_flow": null,
      "grid_area": null,
      "grid_auto_columns": null,
      "grid_auto_flow": null,
      "grid_auto_rows": null,
      "grid_column": null,
      "grid_gap": null,
      "grid_row": null,
      "grid_template_areas": null,
      "grid_template_columns": null,
      "grid_template_rows": null,
      "height": null,
      "justify_content": null,
      "justify_items": null,
      "left": null,
      "margin": null,
      "max_height": null,
      "max_width": null,
      "min_height": null,
      "min_width": null,
      "object_fit": null,
      "object_position": null,
      "order": null,
      "overflow": null,
      "overflow_x": null,
      "overflow_y": null,
      "padding": null,
      "right": null,
      "top": null,
      "visibility": null,
      "width": null
     }
    },
    "67dd59c81b78488fb05b9822b62ce688": {
     "model_module": "@jupyter-widgets/controls",
     "model_module_version": "1.5.0",
     "model_name": "DescriptionStyleModel",
     "state": {
      "_model_module": "@jupyter-widgets/controls",
      "_model_module_version": "1.5.0",
      "_model_name": "DescriptionStyleModel",
      "_view_count": null,
      "_view_module": "@jupyter-widgets/base",
      "_view_module_version": "1.2.0",
      "_view_name": "StyleView",
      "description_width": ""
     }
    },
    "6ad74757757549568f554bd0207fd25e": {
     "model_module": "@jupyter-widgets/controls",
     "model_module_version": "1.5.0",
     "model_name": "ProgressStyleModel",
     "state": {
      "_model_module": "@jupyter-widgets/controls",
      "_model_module_version": "1.5.0",
      "_model_name": "ProgressStyleModel",
      "_view_count": null,
      "_view_module": "@jupyter-widgets/base",
      "_view_module_version": "1.2.0",
      "_view_name": "StyleView",
      "bar_color": null,
      "description_width": ""
     }
    },
    "6ddec0e2a1024b5c8ae9c27cf11de5d2": {
     "model_module": "@jupyter-widgets/controls",
     "model_module_version": "1.5.0",
     "model_name": "DescriptionStyleModel",
     "state": {
      "_model_module": "@jupyter-widgets/controls",
      "_model_module_version": "1.5.0",
      "_model_name": "DescriptionStyleModel",
      "_view_count": null,
      "_view_module": "@jupyter-widgets/base",
      "_view_module_version": "1.2.0",
      "_view_name": "StyleView",
      "description_width": ""
     }
    },
    "72876d2dbda94ad9bd291295d3ed9976": {
     "model_module": "@jupyter-widgets/controls",
     "model_module_version": "1.5.0",
     "model_name": "HTMLModel",
     "state": {
      "_dom_classes": [],
      "_model_module": "@jupyter-widgets/controls",
      "_model_module_version": "1.5.0",
      "_model_name": "HTMLModel",
      "_view_count": null,
      "_view_module": "@jupyter-widgets/controls",
      "_view_module_version": "1.5.0",
      "_view_name": "HTMLView",
      "description": "",
      "description_tooltip": null,
      "layout": "IPY_MODEL_75b4d9c41338414f8c7ec046b0396f91",
      "placeholder": "​",
      "style": "IPY_MODEL_29c19b1e60d54a4aaac0bab5a3060675",
      "value": " 1.68M/1.68M [00:01&lt;00:00, 1.25MB/s]"
     }
    },
    "72dfe5ff94a9402393ee3a0e56b1a8ce": {
     "model_module": "@jupyter-widgets/base",
     "model_module_version": "1.2.0",
     "model_name": "LayoutModel",
     "state": {
      "_model_module": "@jupyter-widgets/base",
      "_model_module_version": "1.2.0",
      "_model_name": "LayoutModel",
      "_view_count": null,
      "_view_module": "@jupyter-widgets/base",
      "_view_module_version": "1.2.0",
      "_view_name": "LayoutView",
      "align_content": null,
      "align_items": null,
      "align_self": null,
      "border": null,
      "bottom": null,
      "display": null,
      "flex": null,
      "flex_flow": null,
      "grid_area": null,
      "grid_auto_columns": null,
      "grid_auto_flow": null,
      "grid_auto_rows": null,
      "grid_column": null,
      "grid_gap": null,
      "grid_row": null,
      "grid_template_areas": null,
      "grid_template_columns": null,
      "grid_template_rows": null,
      "height": null,
      "justify_content": null,
      "justify_items": null,
      "left": null,
      "margin": null,
      "max_height": null,
      "max_width": null,
      "min_height": null,
      "min_width": null,
      "object_fit": null,
      "object_position": null,
      "order": null,
      "overflow": null,
      "overflow_x": null,
      "overflow_y": null,
      "padding": null,
      "right": null,
      "top": null,
      "visibility": null,
      "width": null
     }
    },
    "75b4d9c41338414f8c7ec046b0396f91": {
     "model_module": "@jupyter-widgets/base",
     "model_module_version": "1.2.0",
     "model_name": "LayoutModel",
     "state": {
      "_model_module": "@jupyter-widgets/base",
      "_model_module_version": "1.2.0",
      "_model_name": "LayoutModel",
      "_view_count": null,
      "_view_module": "@jupyter-widgets/base",
      "_view_module_version": "1.2.0",
      "_view_name": "LayoutView",
      "align_content": null,
      "align_items": null,
      "align_self": null,
      "border": null,
      "bottom": null,
      "display": null,
      "flex": null,
      "flex_flow": null,
      "grid_area": null,
      "grid_auto_columns": null,
      "grid_auto_flow": null,
      "grid_auto_rows": null,
      "grid_column": null,
      "grid_gap": null,
      "grid_row": null,
      "grid_template_areas": null,
      "grid_template_columns": null,
      "grid_template_rows": null,
      "height": null,
      "justify_content": null,
      "justify_items": null,
      "left": null,
      "margin": null,
      "max_height": null,
      "max_width": null,
      "min_height": null,
      "min_width": null,
      "object_fit": null,
      "object_position": null,
      "order": null,
      "overflow": null,
      "overflow_x": null,
      "overflow_y": null,
      "padding": null,
      "right": null,
      "top": null,
      "visibility": null,
      "width": null
     }
    },
    "7680d6b9885a4a5d92fe8107771613a2": {
     "model_module": "@jupyter-widgets/controls",
     "model_module_version": "1.5.0",
     "model_name": "DescriptionStyleModel",
     "state": {
      "_model_module": "@jupyter-widgets/controls",
      "_model_module_version": "1.5.0",
      "_model_name": "DescriptionStyleModel",
      "_view_count": null,
      "_view_module": "@jupyter-widgets/base",
      "_view_module_version": "1.2.0",
      "_view_name": "StyleView",
      "description_width": ""
     }
    },
    "7c822584678b4088953e3c721db954af": {
     "model_module": "@jupyter-widgets/base",
     "model_module_version": "1.2.0",
     "model_name": "LayoutModel",
     "state": {
      "_model_module": "@jupyter-widgets/base",
      "_model_module_version": "1.2.0",
      "_model_name": "LayoutModel",
      "_view_count": null,
      "_view_module": "@jupyter-widgets/base",
      "_view_module_version": "1.2.0",
      "_view_name": "LayoutView",
      "align_content": null,
      "align_items": null,
      "align_self": null,
      "border": null,
      "bottom": null,
      "display": null,
      "flex": null,
      "flex_flow": null,
      "grid_area": null,
      "grid_auto_columns": null,
      "grid_auto_flow": null,
      "grid_auto_rows": null,
      "grid_column": null,
      "grid_gap": null,
      "grid_row": null,
      "grid_template_areas": null,
      "grid_template_columns": null,
      "grid_template_rows": null,
      "height": null,
      "justify_content": null,
      "justify_items": null,
      "left": null,
      "margin": null,
      "max_height": null,
      "max_width": null,
      "min_height": null,
      "min_width": null,
      "object_fit": null,
      "object_position": null,
      "order": null,
      "overflow": null,
      "overflow_x": null,
      "overflow_y": null,
      "padding": null,
      "right": null,
      "top": null,
      "visibility": null,
      "width": null
     }
    },
    "7d6eb299b0a24f718f86610234547a88": {
     "model_module": "@jupyter-widgets/base",
     "model_module_version": "1.2.0",
     "model_name": "LayoutModel",
     "state": {
      "_model_module": "@jupyter-widgets/base",
      "_model_module_version": "1.2.0",
      "_model_name": "LayoutModel",
      "_view_count": null,
      "_view_module": "@jupyter-widgets/base",
      "_view_module_version": "1.2.0",
      "_view_name": "LayoutView",
      "align_content": null,
      "align_items": null,
      "align_self": null,
      "border": null,
      "bottom": null,
      "display": null,
      "flex": null,
      "flex_flow": null,
      "grid_area": null,
      "grid_auto_columns": null,
      "grid_auto_flow": null,
      "grid_auto_rows": null,
      "grid_column": null,
      "grid_gap": null,
      "grid_row": null,
      "grid_template_areas": null,
      "grid_template_columns": null,
      "grid_template_rows": null,
      "height": null,
      "justify_content": null,
      "justify_items": null,
      "left": null,
      "margin": null,
      "max_height": null,
      "max_width": null,
      "min_height": null,
      "min_width": null,
      "object_fit": null,
      "object_position": null,
      "order": null,
      "overflow": null,
      "overflow_x": null,
      "overflow_y": null,
      "padding": null,
      "right": null,
      "top": null,
      "visibility": null,
      "width": null
     }
    },
    "7dfedc3f39c1455584659bb62094529f": {
     "model_module": "@jupyter-widgets/controls",
     "model_module_version": "1.5.0",
     "model_name": "HTMLModel",
     "state": {
      "_dom_classes": [],
      "_model_module": "@jupyter-widgets/controls",
      "_model_module_version": "1.5.0",
      "_model_name": "HTMLModel",
      "_view_count": null,
      "_view_module": "@jupyter-widgets/controls",
      "_view_module_version": "1.5.0",
      "_view_name": "HTMLView",
      "description": "",
      "description_tooltip": null,
      "layout": "IPY_MODEL_7d6eb299b0a24f718f86610234547a88",
      "placeholder": "​",
      "style": "IPY_MODEL_15f9234dbb2b4d18954a01929da0c34f",
      "value": "Downloading: 100%"
     }
    },
    "7eb3892f3b3d4165988d80d2e0e71269": {
     "model_module": "@jupyter-widgets/controls",
     "model_module_version": "1.5.0",
     "model_name": "DescriptionStyleModel",
     "state": {
      "_model_module": "@jupyter-widgets/controls",
      "_model_module_version": "1.5.0",
      "_model_name": "DescriptionStyleModel",
      "_view_count": null,
      "_view_module": "@jupyter-widgets/base",
      "_view_module_version": "1.2.0",
      "_view_name": "StyleView",
      "description_width": ""
     }
    },
    "804f378d273f4f13b08d4d57bc29021d": {
     "model_module": "@jupyter-widgets/controls",
     "model_module_version": "1.5.0",
     "model_name": "HTMLModel",
     "state": {
      "_dom_classes": [],
      "_model_module": "@jupyter-widgets/controls",
      "_model_module_version": "1.5.0",
      "_model_name": "HTMLModel",
      "_view_count": null,
      "_view_module": "@jupyter-widgets/controls",
      "_view_module_version": "1.5.0",
      "_view_name": "HTMLView",
      "description": "",
      "description_tooltip": null,
      "layout": "IPY_MODEL_9912fded200740cfbc8bc2790f2adbb9",
      "placeholder": "​",
      "style": "IPY_MODEL_7eb3892f3b3d4165988d80d2e0e71269",
      "value": " 16.0/16.0 [00:00&lt;00:00, 422B/s]"
     }
    },
    "8418fd19524146c68c8ee0dbd92f184f": {
     "model_module": "@jupyter-widgets/controls",
     "model_module_version": "1.5.0",
     "model_name": "HTMLModel",
     "state": {
      "_dom_classes": [],
      "_model_module": "@jupyter-widgets/controls",
      "_model_module_version": "1.5.0",
      "_model_name": "HTMLModel",
      "_view_count": null,
      "_view_module": "@jupyter-widgets/controls",
      "_view_module_version": "1.5.0",
      "_view_name": "HTMLView",
      "description": "",
      "description_tooltip": null,
      "layout": "IPY_MODEL_b81528b462014bf392e13fb897a1d775",
      "placeholder": "​",
      "style": "IPY_MODEL_d174373b1540406789d6980e3b0fb718",
      "value": " 150/150 [00:00&lt;00:00, 4.87kB/s]"
     }
    },
    "8cfdbc1a4cc04b3e9d1e2f237ff6f3ce": {
     "model_module": "@jupyter-widgets/controls",
     "model_module_version": "1.5.0",
     "model_name": "HTMLModel",
     "state": {
      "_dom_classes": [],
      "_model_module": "@jupyter-widgets/controls",
      "_model_module_version": "1.5.0",
      "_model_name": "HTMLModel",
      "_view_count": null,
      "_view_module": "@jupyter-widgets/controls",
      "_view_module_version": "1.5.0",
      "_view_name": "HTMLView",
      "description": "",
      "description_tooltip": null,
      "layout": "IPY_MODEL_72dfe5ff94a9402393ee3a0e56b1a8ce",
      "placeholder": "​",
      "style": "IPY_MODEL_97f3ed3f86404a629116aaa8b456fd27",
      "value": "Downloading: 100%"
     }
    },
    "8e761fc4263346e1ba92ff5e272745df": {
     "model_module": "@jupyter-widgets/controls",
     "model_module_version": "1.5.0",
     "model_name": "DescriptionStyleModel",
     "state": {
      "_model_module": "@jupyter-widgets/controls",
      "_model_module_version": "1.5.0",
      "_model_name": "DescriptionStyleModel",
      "_view_count": null,
      "_view_module": "@jupyter-widgets/base",
      "_view_module_version": "1.2.0",
      "_view_name": "StyleView",
      "description_width": ""
     }
    },
    "9158e745a46e4a16854e0d83835ef305": {
     "model_module": "@jupyter-widgets/controls",
     "model_module_version": "1.5.0",
     "model_name": "FloatProgressModel",
     "state": {
      "_dom_classes": [],
      "_model_module": "@jupyter-widgets/controls",
      "_model_module_version": "1.5.0",
      "_model_name": "FloatProgressModel",
      "_view_count": null,
      "_view_module": "@jupyter-widgets/controls",
      "_view_module_version": "1.5.0",
      "_view_name": "ProgressView",
      "bar_style": "success",
      "description": "",
      "description_tooltip": null,
      "layout": "IPY_MODEL_bb6110eeee76489ca13b5d2041001703",
      "max": 1344678,
      "min": 0,
      "orientation": "horizontal",
      "style": "IPY_MODEL_2bf2da006ebe4801b350059ef5da3230",
      "value": 1344678
     }
    },
    "95b585bd9b634fba9056ebf521f06791": {
     "model_module": "@jupyter-widgets/controls",
     "model_module_version": "1.5.0",
     "model_name": "FloatProgressModel",
     "state": {
      "_dom_classes": [],
      "_model_module": "@jupyter-widgets/controls",
      "_model_module_version": "1.5.0",
      "_model_name": "FloatProgressModel",
      "_view_count": null,
      "_view_module": "@jupyter-widgets/controls",
      "_view_module_version": "1.5.0",
      "_view_name": "ProgressView",
      "bar_style": "success",
      "description": "",
      "description_tooltip": null,
      "layout": "IPY_MODEL_cae385d9d9e44074bd8ca3fe9a0cc158",
      "max": 150,
      "min": 0,
      "orientation": "horizontal",
      "style": "IPY_MODEL_6ad74757757549568f554bd0207fd25e",
      "value": 150
     }
    },
    "97f3ed3f86404a629116aaa8b456fd27": {
     "model_module": "@jupyter-widgets/controls",
     "model_module_version": "1.5.0",
     "model_name": "DescriptionStyleModel",
     "state": {
      "_model_module": "@jupyter-widgets/controls",
      "_model_module_version": "1.5.0",
      "_model_name": "DescriptionStyleModel",
      "_view_count": null,
      "_view_module": "@jupyter-widgets/base",
      "_view_module_version": "1.2.0",
      "_view_name": "StyleView",
      "description_width": ""
     }
    },
    "9912fded200740cfbc8bc2790f2adbb9": {
     "model_module": "@jupyter-widgets/base",
     "model_module_version": "1.2.0",
     "model_name": "LayoutModel",
     "state": {
      "_model_module": "@jupyter-widgets/base",
      "_model_module_version": "1.2.0",
      "_model_name": "LayoutModel",
      "_view_count": null,
      "_view_module": "@jupyter-widgets/base",
      "_view_module_version": "1.2.0",
      "_view_name": "LayoutView",
      "align_content": null,
      "align_items": null,
      "align_self": null,
      "border": null,
      "bottom": null,
      "display": null,
      "flex": null,
      "flex_flow": null,
      "grid_area": null,
      "grid_auto_columns": null,
      "grid_auto_flow": null,
      "grid_auto_rows": null,
      "grid_column": null,
      "grid_gap": null,
      "grid_row": null,
      "grid_template_areas": null,
      "grid_template_columns": null,
      "grid_template_rows": null,
      "height": null,
      "justify_content": null,
      "justify_items": null,
      "left": null,
      "margin": null,
      "max_height": null,
      "max_width": null,
      "min_height": null,
      "min_width": null,
      "object_fit": null,
      "object_position": null,
      "order": null,
      "overflow": null,
      "overflow_x": null,
      "overflow_y": null,
      "padding": null,
      "right": null,
      "top": null,
      "visibility": null,
      "width": null
     }
    },
    "9a64df22f6904e6e828cf09e53991e80": {
     "model_module": "@jupyter-widgets/controls",
     "model_module_version": "1.5.0",
     "model_name": "HTMLModel",
     "state": {
      "_dom_classes": [],
      "_model_module": "@jupyter-widgets/controls",
      "_model_module_version": "1.5.0",
      "_model_name": "HTMLModel",
      "_view_count": null,
      "_view_module": "@jupyter-widgets/controls",
      "_view_module_version": "1.5.0",
      "_view_name": "HTMLView",
      "description": "",
      "description_tooltip": null,
      "layout": "IPY_MODEL_0f887ed009f841f3906cec7f90b4276c",
      "placeholder": "​",
      "style": "IPY_MODEL_8e761fc4263346e1ba92ff5e272745df",
      "value": " 481/481 [00:00&lt;00:00, 13.5kB/s]"
     }
    },
    "acb2f69161054b2ca0aa5fb97acc9ffc": {
     "model_module": "@jupyter-widgets/base",
     "model_module_version": "1.2.0",
     "model_name": "LayoutModel",
     "state": {
      "_model_module": "@jupyter-widgets/base",
      "_model_module_version": "1.2.0",
      "_model_name": "LayoutModel",
      "_view_count": null,
      "_view_module": "@jupyter-widgets/base",
      "_view_module_version": "1.2.0",
      "_view_name": "LayoutView",
      "align_content": null,
      "align_items": null,
      "align_self": null,
      "border": null,
      "bottom": null,
      "display": null,
      "flex": null,
      "flex_flow": null,
      "grid_area": null,
      "grid_auto_columns": null,
      "grid_auto_flow": null,
      "grid_auto_rows": null,
      "grid_column": null,
      "grid_gap": null,
      "grid_row": null,
      "grid_template_areas": null,
      "grid_template_columns": null,
      "grid_template_rows": null,
      "height": null,
      "justify_content": null,
      "justify_items": null,
      "left": null,
      "margin": null,
      "max_height": null,
      "max_width": null,
      "min_height": null,
      "min_width": null,
      "object_fit": null,
      "object_position": null,
      "order": null,
      "overflow": null,
      "overflow_x": null,
      "overflow_y": null,
      "padding": null,
      "right": null,
      "top": null,
      "visibility": null,
      "width": null
     }
    },
    "af44406bff654bb293c12809ac530ddd": {
     "model_module": "@jupyter-widgets/controls",
     "model_module_version": "1.5.0",
     "model_name": "DescriptionStyleModel",
     "state": {
      "_model_module": "@jupyter-widgets/controls",
      "_model_module_version": "1.5.0",
      "_model_name": "DescriptionStyleModel",
      "_view_count": null,
      "_view_module": "@jupyter-widgets/base",
      "_view_module_version": "1.2.0",
      "_view_name": "StyleView",
      "description_width": ""
     }
    },
    "b5941ec9916e4b6d92b7af280433efa5": {
     "model_module": "@jupyter-widgets/base",
     "model_module_version": "1.2.0",
     "model_name": "LayoutModel",
     "state": {
      "_model_module": "@jupyter-widgets/base",
      "_model_module_version": "1.2.0",
      "_model_name": "LayoutModel",
      "_view_count": null,
      "_view_module": "@jupyter-widgets/base",
      "_view_module_version": "1.2.0",
      "_view_name": "LayoutView",
      "align_content": null,
      "align_items": null,
      "align_self": null,
      "border": null,
      "bottom": null,
      "display": null,
      "flex": null,
      "flex_flow": null,
      "grid_area": null,
      "grid_auto_columns": null,
      "grid_auto_flow": null,
      "grid_auto_rows": null,
      "grid_column": null,
      "grid_gap": null,
      "grid_row": null,
      "grid_template_areas": null,
      "grid_template_columns": null,
      "grid_template_rows": null,
      "height": null,
      "justify_content": null,
      "justify_items": null,
      "left": null,
      "margin": null,
      "max_height": null,
      "max_width": null,
      "min_height": null,
      "min_width": null,
      "object_fit": null,
      "object_position": null,
      "order": null,
      "overflow": null,
      "overflow_x": null,
      "overflow_y": null,
      "padding": null,
      "right": null,
      "top": null,
      "visibility": null,
      "width": null
     }
    },
    "b81528b462014bf392e13fb897a1d775": {
     "model_module": "@jupyter-widgets/base",
     "model_module_version": "1.2.0",
     "model_name": "LayoutModel",
     "state": {
      "_model_module": "@jupyter-widgets/base",
      "_model_module_version": "1.2.0",
      "_model_name": "LayoutModel",
      "_view_count": null,
      "_view_module": "@jupyter-widgets/base",
      "_view_module_version": "1.2.0",
      "_view_name": "LayoutView",
      "align_content": null,
      "align_items": null,
      "align_self": null,
      "border": null,
      "bottom": null,
      "display": null,
      "flex": null,
      "flex_flow": null,
      "grid_area": null,
      "grid_auto_columns": null,
      "grid_auto_flow": null,
      "grid_auto_rows": null,
      "grid_column": null,
      "grid_gap": null,
      "grid_row": null,
      "grid_template_areas": null,
      "grid_template_columns": null,
      "grid_template_rows": null,
      "height": null,
      "justify_content": null,
      "justify_items": null,
      "left": null,
      "margin": null,
      "max_height": null,
      "max_width": null,
      "min_height": null,
      "min_width": null,
      "object_fit": null,
      "object_position": null,
      "order": null,
      "overflow": null,
      "overflow_x": null,
      "overflow_y": null,
      "padding": null,
      "right": null,
      "top": null,
      "visibility": null,
      "width": null
     }
    },
    "bb6110eeee76489ca13b5d2041001703": {
     "model_module": "@jupyter-widgets/base",
     "model_module_version": "1.2.0",
     "model_name": "LayoutModel",
     "state": {
      "_model_module": "@jupyter-widgets/base",
      "_model_module_version": "1.2.0",
      "_model_name": "LayoutModel",
      "_view_count": null,
      "_view_module": "@jupyter-widgets/base",
      "_view_module_version": "1.2.0",
      "_view_name": "LayoutView",
      "align_content": null,
      "align_items": null,
      "align_self": null,
      "border": null,
      "bottom": null,
      "display": null,
      "flex": null,
      "flex_flow": null,
      "grid_area": null,
      "grid_auto_columns": null,
      "grid_auto_flow": null,
      "grid_auto_rows": null,
      "grid_column": null,
      "grid_gap": null,
      "grid_row": null,
      "grid_template_areas": null,
      "grid_template_columns": null,
      "grid_template_rows": null,
      "height": null,
      "justify_content": null,
      "justify_items": null,
      "left": null,
      "margin": null,
      "max_height": null,
      "max_width": null,
      "min_height": null,
      "min_width": null,
      "object_fit": null,
      "object_position": null,
      "order": null,
      "overflow": null,
      "overflow_x": null,
      "overflow_y": null,
      "padding": null,
      "right": null,
      "top": null,
      "visibility": null,
      "width": null
     }
    },
    "bb87680590dc43f0b1adcb9f62f3b81e": {
     "model_module": "@jupyter-widgets/controls",
     "model_module_version": "1.5.0",
     "model_name": "HBoxModel",
     "state": {
      "_dom_classes": [],
      "_model_module": "@jupyter-widgets/controls",
      "_model_module_version": "1.5.0",
      "_model_name": "HBoxModel",
      "_view_count": null,
      "_view_module": "@jupyter-widgets/controls",
      "_view_module_version": "1.5.0",
      "_view_name": "HBoxView",
      "box_style": "",
      "children": [
       "IPY_MODEL_7dfedc3f39c1455584659bb62094529f",
       "IPY_MODEL_3be067a2254948f88c3b223b46461ed4",
       "IPY_MODEL_804f378d273f4f13b08d4d57bc29021d"
      ],
      "layout": "IPY_MODEL_13a767eed6124f92b489805221c77d93"
     }
    },
    "bd4b8d21242d42ca92253cf0c9e3367a": {
     "model_module": "@jupyter-widgets/controls",
     "model_module_version": "1.5.0",
     "model_name": "FloatProgressModel",
     "state": {
      "_dom_classes": [],
      "_model_module": "@jupyter-widgets/controls",
      "_model_module_version": "1.5.0",
      "_model_name": "FloatProgressModel",
      "_view_count": null,
      "_view_module": "@jupyter-widgets/controls",
      "_view_module_version": "1.5.0",
      "_view_name": "ProgressView",
      "bar_style": "success",
      "description": "",
      "description_tooltip": null,
      "layout": "IPY_MODEL_34ed12568f6c46e892fb8f005cbd9812",
      "max": 1684709,
      "min": 0,
      "orientation": "horizontal",
      "style": "IPY_MODEL_ec3a65956980470f90fb1fed8e9abbd2",
      "value": 1684709
     }
    },
    "cae385d9d9e44074bd8ca3fe9a0cc158": {
     "model_module": "@jupyter-widgets/base",
     "model_module_version": "1.2.0",
     "model_name": "LayoutModel",
     "state": {
      "_model_module": "@jupyter-widgets/base",
      "_model_module_version": "1.2.0",
      "_model_name": "LayoutModel",
      "_view_count": null,
      "_view_module": "@jupyter-widgets/base",
      "_view_module_version": "1.2.0",
      "_view_name": "LayoutView",
      "align_content": null,
      "align_items": null,
      "align_self": null,
      "border": null,
      "bottom": null,
      "display": null,
      "flex": null,
      "flex_flow": null,
      "grid_area": null,
      "grid_auto_columns": null,
      "grid_auto_flow": null,
      "grid_auto_rows": null,
      "grid_column": null,
      "grid_gap": null,
      "grid_row": null,
      "grid_template_areas": null,
      "grid_template_columns": null,
      "grid_template_rows": null,
      "height": null,
      "justify_content": null,
      "justify_items": null,
      "left": null,
      "margin": null,
      "max_height": null,
      "max_width": null,
      "min_height": null,
      "min_width": null,
      "object_fit": null,
      "object_position": null,
      "order": null,
      "overflow": null,
      "overflow_x": null,
      "overflow_y": null,
      "padding": null,
      "right": null,
      "top": null,
      "visibility": null,
      "width": null
     }
    },
    "d174373b1540406789d6980e3b0fb718": {
     "model_module": "@jupyter-widgets/controls",
     "model_module_version": "1.5.0",
     "model_name": "DescriptionStyleModel",
     "state": {
      "_model_module": "@jupyter-widgets/controls",
      "_model_module_version": "1.5.0",
      "_model_name": "DescriptionStyleModel",
      "_view_count": null,
      "_view_module": "@jupyter-widgets/base",
      "_view_module_version": "1.2.0",
      "_view_name": "StyleView",
      "description_width": ""
     }
    },
    "def68d64b48445b2a8166a8686e0969c": {
     "model_module": "@jupyter-widgets/controls",
     "model_module_version": "1.5.0",
     "model_name": "HTMLModel",
     "state": {
      "_dom_classes": [],
      "_model_module": "@jupyter-widgets/controls",
      "_model_module_version": "1.5.0",
      "_model_name": "HTMLModel",
      "_view_count": null,
      "_view_module": "@jupyter-widgets/controls",
      "_view_module_version": "1.5.0",
      "_view_name": "HTMLView",
      "description": "",
      "description_tooltip": null,
      "layout": "IPY_MODEL_e38e2349553341f085ca068afc7e2540",
      "placeholder": "​",
      "style": "IPY_MODEL_6ddec0e2a1024b5c8ae9c27cf11de5d2",
      "value": "Downloading: 100%"
     }
    },
    "df087f1402114d208a2ebcb7c1683f43": {
     "model_module": "@jupyter-widgets/base",
     "model_module_version": "1.2.0",
     "model_name": "LayoutModel",
     "state": {
      "_model_module": "@jupyter-widgets/base",
      "_model_module_version": "1.2.0",
      "_model_name": "LayoutModel",
      "_view_count": null,
      "_view_module": "@jupyter-widgets/base",
      "_view_module_version": "1.2.0",
      "_view_name": "LayoutView",
      "align_content": null,
      "align_items": null,
      "align_self": null,
      "border": null,
      "bottom": null,
      "display": null,
      "flex": null,
      "flex_flow": null,
      "grid_area": null,
      "grid_auto_columns": null,
      "grid_auto_flow": null,
      "grid_auto_rows": null,
      "grid_column": null,
      "grid_gap": null,
      "grid_row": null,
      "grid_template_areas": null,
      "grid_template_columns": null,
      "grid_template_rows": null,
      "height": null,
      "justify_content": null,
      "justify_items": null,
      "left": null,
      "margin": null,
      "max_height": null,
      "max_width": null,
      "min_height": null,
      "min_width": null,
      "object_fit": null,
      "object_position": null,
      "order": null,
      "overflow": null,
      "overflow_x": null,
      "overflow_y": null,
      "padding": null,
      "right": null,
      "top": null,
      "visibility": null,
      "width": null
     }
    },
    "df5fb0070f24499a98f85a575eb8c517": {
     "model_module": "@jupyter-widgets/base",
     "model_module_version": "1.2.0",
     "model_name": "LayoutModel",
     "state": {
      "_model_module": "@jupyter-widgets/base",
      "_model_module_version": "1.2.0",
      "_model_name": "LayoutModel",
      "_view_count": null,
      "_view_module": "@jupyter-widgets/base",
      "_view_module_version": "1.2.0",
      "_view_name": "LayoutView",
      "align_content": null,
      "align_items": null,
      "align_self": null,
      "border": null,
      "bottom": null,
      "display": null,
      "flex": null,
      "flex_flow": null,
      "grid_area": null,
      "grid_auto_columns": null,
      "grid_auto_flow": null,
      "grid_auto_rows": null,
      "grid_column": null,
      "grid_gap": null,
      "grid_row": null,
      "grid_template_areas": null,
      "grid_template_columns": null,
      "grid_template_rows": null,
      "height": null,
      "justify_content": null,
      "justify_items": null,
      "left": null,
      "margin": null,
      "max_height": null,
      "max_width": null,
      "min_height": null,
      "min_width": null,
      "object_fit": null,
      "object_position": null,
      "order": null,
      "overflow": null,
      "overflow_x": null,
      "overflow_y": null,
      "padding": null,
      "right": null,
      "top": null,
      "visibility": null,
      "width": null
     }
    },
    "e38e2349553341f085ca068afc7e2540": {
     "model_module": "@jupyter-widgets/base",
     "model_module_version": "1.2.0",
     "model_name": "LayoutModel",
     "state": {
      "_model_module": "@jupyter-widgets/base",
      "_model_module_version": "1.2.0",
      "_model_name": "LayoutModel",
      "_view_count": null,
      "_view_module": "@jupyter-widgets/base",
      "_view_module_version": "1.2.0",
      "_view_name": "LayoutView",
      "align_content": null,
      "align_items": null,
      "align_self": null,
      "border": null,
      "bottom": null,
      "display": null,
      "flex": null,
      "flex_flow": null,
      "grid_area": null,
      "grid_auto_columns": null,
      "grid_auto_flow": null,
      "grid_auto_rows": null,
      "grid_column": null,
      "grid_gap": null,
      "grid_row": null,
      "grid_template_areas": null,
      "grid_template_columns": null,
      "grid_template_rows": null,
      "height": null,
      "justify_content": null,
      "justify_items": null,
      "left": null,
      "margin": null,
      "max_height": null,
      "max_width": null,
      "min_height": null,
      "min_width": null,
      "object_fit": null,
      "object_position": null,
      "order": null,
      "overflow": null,
      "overflow_x": null,
      "overflow_y": null,
      "padding": null,
      "right": null,
      "top": null,
      "visibility": null,
      "width": null
     }
    },
    "e3b2aa2dfd724cae8238af6c8c047de4": {
     "model_module": "@jupyter-widgets/controls",
     "model_module_version": "1.5.0",
     "model_name": "FloatProgressModel",
     "state": {
      "_dom_classes": [],
      "_model_module": "@jupyter-widgets/controls",
      "_model_module_version": "1.5.0",
      "_model_name": "FloatProgressModel",
      "_view_count": null,
      "_view_module": "@jupyter-widgets/controls",
      "_view_module_version": "1.5.0",
      "_view_name": "ProgressView",
      "bar_style": "success",
      "description": "",
      "description_tooltip": null,
      "layout": "IPY_MODEL_b5941ec9916e4b6d92b7af280433efa5",
      "max": 481,
      "min": 0,
      "orientation": "horizontal",
      "style": "IPY_MODEL_19edeced683148219ae192ffc3e3ef93",
      "value": 481
     }
    },
    "ec3a65956980470f90fb1fed8e9abbd2": {
     "model_module": "@jupyter-widgets/controls",
     "model_module_version": "1.5.0",
     "model_name": "ProgressStyleModel",
     "state": {
      "_model_module": "@jupyter-widgets/controls",
      "_model_module_version": "1.5.0",
      "_model_name": "ProgressStyleModel",
      "_view_count": null,
      "_view_module": "@jupyter-widgets/base",
      "_view_module_version": "1.2.0",
      "_view_name": "StyleView",
      "bar_color": null,
      "description_width": ""
     }
    },
    "f1985f208a994e8cb2dc1fd91e6ca207": {
     "model_module": "@jupyter-widgets/controls",
     "model_module_version": "1.5.0",
     "model_name": "HTMLModel",
     "state": {
      "_dom_classes": [],
      "_model_module": "@jupyter-widgets/controls",
      "_model_module_version": "1.5.0",
      "_model_name": "HTMLModel",
      "_view_count": null,
      "_view_module": "@jupyter-widgets/controls",
      "_view_module_version": "1.5.0",
      "_view_name": "HTMLView",
      "description": "",
      "description_tooltip": null,
      "layout": "IPY_MODEL_037b3ec90bb24ea7bb8c190b42a2be59",
      "placeholder": "​",
      "style": "IPY_MODEL_67dd59c81b78488fb05b9822b62ce688",
      "value": "Downloading: 100%"
     }
    }
   }
  }
 },
 "nbformat": 4,
 "nbformat_minor": 4
}
