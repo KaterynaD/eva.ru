{
 "cells": [
  {
   "cell_type": "markdown",
   "metadata": {},
   "source": [
    "Can a transformers model distinguish posts published by eva.ru forum user-clones? Yes, it can with high quality, but, of course, the more messages, the better. Minimum 1000 messages is required to get a reasonable F1 score."
   ]
  },
  {
   "cell_type": "code",
   "execution_count": 1,
   "metadata": {
    "colab": {
     "base_uri": "https://localhost:8080/"
    },
    "executionInfo": {
     "elapsed": 594,
     "status": "ok",
     "timestamp": 1638467524913,
     "user": {
      "displayName": "Kateryna Drogaieva",
      "photoUrl": "https://lh3.googleusercontent.com/a-/AOh14GjB1LQYJH97Lqm6RsCcAADFgzEAa0YxMUT7P4mjlA=s64",
      "userId": "10877377912113147805"
     },
     "user_tz": 480
    },
    "id": "2bzcmrvO-QL-",
    "outputId": "35c44b25-f482-4b71-b5e9-442006f3c059"
   },
   "outputs": [
    {
     "name": "stdout",
     "output_type": "stream",
     "text": [
      "Drive already mounted at /content/drive; to attempt to forcibly remount, call drive.mount(\"/content/drive\", force_remount=True).\n"
     ]
    }
   ],
   "source": [
    "from google.colab import drive\n",
    "drive.mount('/content/drive')"
   ]
  },
  {
   "cell_type": "code",
   "execution_count": 2,
   "metadata": {
    "executionInfo": {
     "elapsed": 1967,
     "status": "ok",
     "timestamp": 1638467527827,
     "user": {
      "displayName": "Kateryna Drogaieva",
      "photoUrl": "https://lh3.googleusercontent.com/a-/AOh14GjB1LQYJH97Lqm6RsCcAADFgzEAa0YxMUT7P4mjlA=s64",
      "userId": "10877377912113147805"
     },
     "user_tz": 480
    },
    "id": "dRYhczg8-wOz"
   },
   "outputs": [],
   "source": [
    "import tensorflow as tf"
   ]
  },
  {
   "cell_type": "code",
   "execution_count": 3,
   "metadata": {
    "colab": {
     "base_uri": "https://localhost:8080/"
    },
    "executionInfo": {
     "elapsed": 18,
     "status": "ok",
     "timestamp": 1638467527828,
     "user": {
      "displayName": "Kateryna Drogaieva",
      "photoUrl": "https://lh3.googleusercontent.com/a-/AOh14GjB1LQYJH97Lqm6RsCcAADFgzEAa0YxMUT7P4mjlA=s64",
      "userId": "10877377912113147805"
     },
     "user_tz": 480
    },
    "id": "pkxILqbT-zaX",
    "outputId": "cfb67dd0-46a1-4c49-b614-fb07dcd22385"
   },
   "outputs": [
    {
     "name": "stdout",
     "output_type": "stream",
     "text": [
      "Your runtime has 13.6 gigabytes of available RAM\n",
      "\n",
      "Not using a high-RAM runtime\n"
     ]
    }
   ],
   "source": [
    "from psutil import virtual_memory\n",
    "ram_gb = virtual_memory().total / 1e9\n",
    "print('Your runtime has {:.1f} gigabytes of available RAM\\n'.format(ram_gb))\n",
    "\n",
    "if ram_gb < 20:\n",
    "  print('Not using a high-RAM runtime')\n",
    "else:\n",
    "  print('You are using a high-RAM runtime!')"
   ]
  },
  {
   "cell_type": "code",
   "execution_count": 4,
   "metadata": {
    "colab": {
     "base_uri": "https://localhost:8080/"
    },
    "executionInfo": {
     "elapsed": 15,
     "status": "ok",
     "timestamp": 1638467527829,
     "user": {
      "displayName": "Kateryna Drogaieva",
      "photoUrl": "https://lh3.googleusercontent.com/a-/AOh14GjB1LQYJH97Lqm6RsCcAADFgzEAa0YxMUT7P4mjlA=s64",
      "userId": "10877377912113147805"
     },
     "user_tz": 480
    },
    "id": "_Jo1Zbz2-7GV",
    "outputId": "8d30ea30-b49e-4a12-f624-2452b57434d3"
   },
   "outputs": [
    {
     "name": "stdout",
     "output_type": "stream",
     "text": [
      "Thu Dec  2 17:52:07 2021       \n",
      "+-----------------------------------------------------------------------------+\n",
      "| NVIDIA-SMI 495.44       Driver Version: 460.32.03    CUDA Version: 11.2     |\n",
      "|-------------------------------+----------------------+----------------------+\n",
      "| GPU  Name        Persistence-M| Bus-Id        Disp.A | Volatile Uncorr. ECC |\n",
      "| Fan  Temp  Perf  Pwr:Usage/Cap|         Memory-Usage | GPU-Util  Compute M. |\n",
      "|                               |                      |               MIG M. |\n",
      "|===============================+======================+======================|\n",
      "|   0  Tesla V100-SXM2...  Off  | 00000000:00:04.0 Off |                    0 |\n",
      "| N/A   33C    P0    22W / 300W |      0MiB / 16160MiB |      0%      Default |\n",
      "|                               |                      |                  N/A |\n",
      "+-------------------------------+----------------------+----------------------+\n",
      "                                                                               \n",
      "+-----------------------------------------------------------------------------+\n",
      "| Processes:                                                                  |\n",
      "|  GPU   GI   CI        PID   Type   Process name                  GPU Memory |\n",
      "|        ID   ID                                                   Usage      |\n",
      "|=============================================================================|\n",
      "|  No running processes found                                                 |\n",
      "+-----------------------------------------------------------------------------+\n"
     ]
    }
   ],
   "source": [
    "gpu_info = !nvidia-smi\n",
    "gpu_info = '\\n'.join(gpu_info)\n",
    "if gpu_info.find('failed') >= 0:\n",
    "  print('Not connected to a GPU')\n",
    "else:\n",
    "  print(gpu_info)"
   ]
  },
  {
   "cell_type": "code",
   "execution_count": 5,
   "metadata": {
    "executionInfo": {
     "elapsed": 8,
     "status": "ok",
     "timestamp": 1638467527830,
     "user": {
      "displayName": "Kateryna Drogaieva",
      "photoUrl": "https://lh3.googleusercontent.com/a-/AOh14GjB1LQYJH97Lqm6RsCcAADFgzEAa0YxMUT7P4mjlA=s64",
      "userId": "10877377912113147805"
     },
     "user_tz": 480
    },
    "id": "oZv4phMO-8lV"
   },
   "outputs": [],
   "source": [
    "import os\n",
    "import pandas as pd\n",
    "import numpy as np"
   ]
  },
  {
   "cell_type": "code",
   "execution_count": 6,
   "metadata": {
    "executionInfo": {
     "elapsed": 8,
     "status": "ok",
     "timestamp": 1638467527831,
     "user": {
      "displayName": "Kateryna Drogaieva",
      "photoUrl": "https://lh3.googleusercontent.com/a-/AOh14GjB1LQYJH97Lqm6RsCcAADFgzEAa0YxMUT7P4mjlA=s64",
      "userId": "10877377912113147805"
     },
     "user_tz": 480
    },
    "id": "tiPP7iOh-_xE"
   },
   "outputs": [],
   "source": [
    "########## Ensure reproducibility ##########\n",
    "\n",
    "\n",
    "# 1. Set `PYTHONHASHSEED` environment variable at a fixed value\n",
    "os.environ['PYTHONHASHSEED']=str(42)\n",
    "\n",
    "#Does not work with ktrain\n",
    "#os.environ['TF_DETERMINISTIC_OPS'] = '1'\n",
    "\n",
    "# 2. Set `python` built-in pseudo-random generator at a fixed value\n",
    "#random.seed(42)\n",
    "\n",
    "# 3. Set `numpy` pseudo-random generator at a fixed value\n",
    "np.random.seed(42)\n",
    "\n",
    "# 4. Set `tensorflow` pseudo-random generator at a fixed value\n",
    "tf.random.set_seed(42)"
   ]
  },
  {
   "cell_type": "code",
   "execution_count": null,
   "metadata": {
    "colab": {
     "base_uri": "https://localhost:8080/"
    },
    "executionInfo": {
     "elapsed": 4124,
     "status": "ok",
     "timestamp": 1638467531947,
     "user": {
      "displayName": "Kateryna Drogaieva",
      "photoUrl": "https://lh3.googleusercontent.com/a-/AOh14GjB1LQYJH97Lqm6RsCcAADFgzEAa0YxMUT7P4mjlA=s64",
      "userId": "10877377912113147805"
     },
     "user_tz": 480
    },
    "id": "77ZlOFSq_G1L",
    "outputId": "2499b5cc-38a1-4e28-8951-01c4be528778"
   },
   "outputs": [],
   "source": [
    "!pip install ktrain"
   ]
  },
  {
   "cell_type": "code",
   "execution_count": 8,
   "metadata": {
    "executionInfo": {
     "elapsed": 928,
     "status": "ok",
     "timestamp": 1638467532860,
     "user": {
      "displayName": "Kateryna Drogaieva",
      "photoUrl": "https://lh3.googleusercontent.com/a-/AOh14GjB1LQYJH97Lqm6RsCcAADFgzEAa0YxMUT7P4mjlA=s64",
      "userId": "10877377912113147805"
     },
     "user_tz": 480
    },
    "id": "Vi37c_1TFRtM"
   },
   "outputs": [],
   "source": [
    "import ktrain\n",
    "from ktrain import text"
   ]
  },
  {
   "cell_type": "code",
   "execution_count": 9,
   "metadata": {
    "executionInfo": {
     "elapsed": 4,
     "status": "ok",
     "timestamp": 1638467532861,
     "user": {
      "displayName": "Kateryna Drogaieva",
      "photoUrl": "https://lh3.googleusercontent.com/a-/AOh14GjB1LQYJH97Lqm6RsCcAADFgzEAa0YxMUT7P4mjlA=s64",
      "userId": "10877377912113147805"
     },
     "user_tz": 480
    },
    "id": "6QDAno5M_T4_"
   },
   "outputs": [],
   "source": [
    "Data = '/content/drive/MyDrive/Colab Notebooks/Projects/eva/Data/'\n",
    "\n",
    "clone_Messages_filename='lizon_clone_data_for_test.csv'\n",
    "clone_Messages_full_filename=os.path.join(Data, clone_Messages_filename)\n",
    "\n",
    "lizon_Messages_filename='lizon_data_for_finetuning.csv'\n",
    "lizon_Messages_full_filename=os.path.join(Data, lizon_Messages_filename)\n",
    "\n",
    "lizon_ids=[69715,\n",
    "300514,\n",
    "100899,\n",
    "424711,\n",
    "472696,\n",
    "475085,\n",
    "711697,\n",
    "731728]\n",
    "\n",
    "Authors_filename='Authors.csv'\n",
    "Authors_full_filename= os.path.join(Data, Authors_filename)"
   ]
  },
  {
   "cell_type": "markdown",
   "metadata": {
    "id": "YdYgqt2T_kXH"
   },
   "source": [
    "## Data load and/or split"
   ]
  },
  {
   "cell_type": "code",
   "execution_count": 10,
   "metadata": {
    "executionInfo": {
     "elapsed": 1336,
     "status": "ok",
     "timestamp": 1638467534193,
     "user": {
      "displayName": "Kateryna Drogaieva",
      "photoUrl": "https://lh3.googleusercontent.com/a-/AOh14GjB1LQYJH97Lqm6RsCcAADFgzEAa0YxMUT7P4mjlA=s64",
      "userId": "10877377912113147805"
     },
     "user_tz": 480
    },
    "id": "zaLBdZdnBHwM"
   },
   "outputs": [],
   "source": [
    "clone_df=pd.read_csv(clone_Messages_full_filename, error_bad_lines=False, index_col=False)"
   ]
  },
  {
   "cell_type": "code",
   "execution_count": 11,
   "metadata": {
    "executionInfo": {
     "elapsed": 1432,
     "status": "ok",
     "timestamp": 1638467535623,
     "user": {
      "displayName": "Kateryna Drogaieva",
      "photoUrl": "https://lh3.googleusercontent.com/a-/AOh14GjB1LQYJH97Lqm6RsCcAADFgzEAa0YxMUT7P4mjlA=s64",
      "userId": "10877377912113147805"
     },
     "user_tz": 480
    },
    "id": "1K5Rf-3xPeZb"
   },
   "outputs": [],
   "source": [
    "lizon_df=pd.read_csv(lizon_Messages_full_filename, error_bad_lines=False, index_col=False)"
   ]
  },
  {
   "cell_type": "code",
   "execution_count": 12,
   "metadata": {
    "executionInfo": {
     "elapsed": 32,
     "status": "ok",
     "timestamp": 1638467535625,
     "user": {
      "displayName": "Kateryna Drogaieva",
      "photoUrl": "https://lh3.googleusercontent.com/a-/AOh14GjB1LQYJH97Lqm6RsCcAADFgzEAa0YxMUT7P4mjlA=s64",
      "userId": "10877377912113147805"
     },
     "user_tz": 480
    },
    "id": "6eFaRJunBbwn"
   },
   "outputs": [],
   "source": [
    "#to get one author name per Author_Id (they can vary in messages)\n",
    "Authors=pd.read_csv(Authors_full_filename, error_bad_lines=False, index_col=False)"
   ]
  },
  {
   "cell_type": "code",
   "execution_count": 13,
   "metadata": {
    "executionInfo": {
     "elapsed": 31,
     "status": "ok",
     "timestamp": 1638467535628,
     "user": {
      "displayName": "Kateryna Drogaieva",
      "photoUrl": "https://lh3.googleusercontent.com/a-/AOh14GjB1LQYJH97Lqm6RsCcAADFgzEAa0YxMUT7P4mjlA=s64",
      "userId": "10877377912113147805"
     },
     "user_tz": 480
    },
    "id": "VWBDebbUBgZ-"
   },
   "outputs": [],
   "source": [
    "clone_df = clone_df[clone_df['Author_Id'].isin(lizon_ids)][['Author_Id','original_message']].copy(deep=True)"
   ]
  },
  {
   "cell_type": "code",
   "execution_count": 14,
   "metadata": {
    "executionInfo": {
     "elapsed": 30,
     "status": "ok",
     "timestamp": 1638467535629,
     "user": {
      "displayName": "Kateryna Drogaieva",
      "photoUrl": "https://lh3.googleusercontent.com/a-/AOh14GjB1LQYJH97Lqm6RsCcAADFgzEAa0YxMUT7P4mjlA=s64",
      "userId": "10877377912113147805"
     },
     "user_tz": 480
    },
    "id": "ybbPh2CYPwJF"
   },
   "outputs": [],
   "source": [
    "lizon_df = lizon_df[lizon_df['Author_Id'].isin(lizon_ids)][['Author_Id','original_message']].copy(deep=True)"
   ]
  },
  {
   "cell_type": "code",
   "execution_count": 15,
   "metadata": {
    "executionInfo": {
     "elapsed": 29,
     "status": "ok",
     "timestamp": 1638467535631,
     "user": {
      "displayName": "Kateryna Drogaieva",
      "photoUrl": "https://lh3.googleusercontent.com/a-/AOh14GjB1LQYJH97Lqm6RsCcAADFgzEAa0YxMUT7P4mjlA=s64",
      "userId": "10877377912113147805"
     },
     "user_tz": 480
    },
    "id": "dt2x_B2gP6XQ"
   },
   "outputs": [],
   "source": [
    "df = lizon_df.append(clone_df)"
   ]
  },
  {
   "cell_type": "code",
   "execution_count": 16,
   "metadata": {
    "executionInfo": {
     "elapsed": 32,
     "status": "ok",
     "timestamp": 1638467535635,
     "user": {
      "displayName": "Kateryna Drogaieva",
      "photoUrl": "https://lh3.googleusercontent.com/a-/AOh14GjB1LQYJH97Lqm6RsCcAADFgzEAa0YxMUT7P4mjlA=s64",
      "userId": "10877377912113147805"
     },
     "user_tz": 480
    },
    "id": "7uU7NfP1BtTJ"
   },
   "outputs": [],
   "source": [
    "df = pd.merge(Authors[['Author_Id','author']], df, left_on='Author_Id', right_on='Author_Id', how='inner')"
   ]
  },
  {
   "cell_type": "code",
   "execution_count": 17,
   "metadata": {
    "executionInfo": {
     "elapsed": 32,
     "status": "ok",
     "timestamp": 1638467535636,
     "user": {
      "displayName": "Kateryna Drogaieva",
      "photoUrl": "https://lh3.googleusercontent.com/a-/AOh14GjB1LQYJH97Lqm6RsCcAADFgzEAa0YxMUT7P4mjlA=s64",
      "userId": "10877377912113147805"
     },
     "user_tz": 480
    },
    "id": "EKBMEJI4_hDz"
   },
   "outputs": [],
   "source": [
    "#split data for train/test\n",
    "from sklearn import  model_selection\n",
    "\n",
    "df_trainvalid, df_test = model_selection.train_test_split(df, test_size=0.3, random_state=42,shuffle=True)\n",
    "df_train, df_valid  = model_selection.train_test_split(df_trainvalid, test_size=0.3, random_state=42,shuffle=True)"
   ]
  },
  {
   "cell_type": "code",
   "execution_count": 18,
   "metadata": {
    "colab": {
     "base_uri": "https://localhost:8080/",
     "height": 297
    },
    "executionInfo": {
     "elapsed": 32,
     "status": "ok",
     "timestamp": 1638467535637,
     "user": {
      "displayName": "Kateryna Drogaieva",
      "photoUrl": "https://lh3.googleusercontent.com/a-/AOh14GjB1LQYJH97Lqm6RsCcAADFgzEAa0YxMUT7P4mjlA=s64",
      "userId": "10877377912113147805"
     },
     "user_tz": 480
    },
    "id": "XcDJx16iCVw0",
    "outputId": "12de0c2e-284e-4cab-97e0-46f410b23352"
   },
   "outputs": [
    {
     "data": {
      "text/html": [
       "<div>\n",
       "<style scoped>\n",
       "    .dataframe tbody tr th:only-of-type {\n",
       "        vertical-align: middle;\n",
       "    }\n",
       "\n",
       "    .dataframe tbody tr th {\n",
       "        vertical-align: top;\n",
       "    }\n",
       "\n",
       "    .dataframe thead th {\n",
       "        text-align: right;\n",
       "    }\n",
       "</style>\n",
       "<table border=\"1\" class=\"dataframe\">\n",
       "  <thead>\n",
       "    <tr style=\"text-align: right;\">\n",
       "      <th></th>\n",
       "      <th>author</th>\n",
       "      <th>cnt_total</th>\n",
       "      <th>cnt_train</th>\n",
       "      <th>cnt_valid</th>\n",
       "      <th>cnt_test</th>\n",
       "    </tr>\n",
       "  </thead>\n",
       "  <tbody>\n",
       "    <tr>\n",
       "      <th>0</th>\n",
       "      <td>Joconda Mona Liza _</td>\n",
       "      <td>227</td>\n",
       "      <td>113</td>\n",
       "      <td>43</td>\n",
       "      <td>71</td>\n",
       "    </tr>\n",
       "    <tr>\n",
       "      <th>1</th>\n",
       "      <td>Lizon \" **K**</td>\n",
       "      <td>555</td>\n",
       "      <td>263</td>\n",
       "      <td>122</td>\n",
       "      <td>170</td>\n",
       "    </tr>\n",
       "    <tr>\n",
       "      <th>2</th>\n",
       "      <td>Lizonn +</td>\n",
       "      <td>79</td>\n",
       "      <td>39</td>\n",
       "      <td>13</td>\n",
       "      <td>27</td>\n",
       "    </tr>\n",
       "    <tr>\n",
       "      <th>3</th>\n",
       "      <td>lizlizon *</td>\n",
       "      <td>322</td>\n",
       "      <td>152</td>\n",
       "      <td>70</td>\n",
       "      <td>100</td>\n",
       "    </tr>\n",
       "    <tr>\n",
       "      <th>4</th>\n",
       "      <td>lizon **</td>\n",
       "      <td>613</td>\n",
       "      <td>277</td>\n",
       "      <td>119</td>\n",
       "      <td>217</td>\n",
       "    </tr>\n",
       "    <tr>\n",
       "      <th>5</th>\n",
       "      <td>newyorck D</td>\n",
       "      <td>1045</td>\n",
       "      <td>514</td>\n",
       "      <td>223</td>\n",
       "      <td>308</td>\n",
       "    </tr>\n",
       "    <tr>\n",
       "      <th>6</th>\n",
       "      <td>Кассиапея D</td>\n",
       "      <td>635</td>\n",
       "      <td>318</td>\n",
       "      <td>136</td>\n",
       "      <td>181</td>\n",
       "    </tr>\n",
       "    <tr>\n",
       "      <th>7</th>\n",
       "      <td>Элиззи H*</td>\n",
       "      <td>2054</td>\n",
       "      <td>1033</td>\n",
       "      <td>436</td>\n",
       "      <td>585</td>\n",
       "    </tr>\n",
       "  </tbody>\n",
       "</table>\n",
       "</div>"
      ],
      "text/plain": [
       "                author  cnt_total  cnt_train  cnt_valid  cnt_test\n",
       "0  Joconda Mona Liza _        227        113         43        71\n",
       "1        Lizon \" **K**        555        263        122       170\n",
       "2             Lizonn +         79         39         13        27\n",
       "3           lizlizon *        322        152         70       100\n",
       "4             lizon **        613        277        119       217\n",
       "5           newyorck D       1045        514        223       308\n",
       "6          Кассиапея D        635        318        136       181\n",
       "7            Элиззи H*       2054       1033        436       585"
      ]
     },
     "execution_count": 18,
     "metadata": {},
     "output_type": "execute_result"
    }
   ],
   "source": [
    "df0 = df.groupby(['author']).size().reset_index(name='cnt_total')\n",
    "df1 = df_train.groupby(['author']).size().reset_index(name='cnt_train')\n",
    "df2 = df_valid.groupby(['author']).size().reset_index(name='cnt_valid')\n",
    "df3 = df_test.groupby(['author']).size().reset_index(name='cnt_test')\n",
    "df4 = pd.merge(df0, df1, left_on='author', right_on='author', how='inner')\n",
    "df5 = pd.merge(df4, df2, left_on='author', right_on='author', how='inner')\n",
    "results= pd.merge(df5, df3, left_on='author', right_on='author', how='inner')\n",
    "results"
   ]
  },
  {
   "cell_type": "code",
   "execution_count": 19,
   "metadata": {
    "executionInfo": {
     "elapsed": 361,
     "status": "ok",
     "timestamp": 1638467535970,
     "user": {
      "displayName": "Kateryna Drogaieva",
      "photoUrl": "https://lh3.googleusercontent.com/a-/AOh14GjB1LQYJH97Lqm6RsCcAADFgzEAa0YxMUT7P4mjlA=s64",
      "userId": "10877377912113147805"
     },
     "user_tz": 480
    },
    "id": "NO_HLjQUCZuh"
   },
   "outputs": [],
   "source": [
    "x_train = df_train['original_message'].values.astype(str)\n",
    "x_valid = df_valid['original_message'].values.astype(str)\n",
    "x_test = df_test['original_message'].values.astype(str)\n",
    "## get target\n",
    "y_train = df_train['author'].values.astype(str)\n",
    "y_valid = df_valid['author'].values.astype(str)\n",
    "y_test = df_test['author'].values.astype(str)"
   ]
  },
  {
   "cell_type": "markdown",
   "metadata": {
    "id": "aFrNpoDNOfe0"
   },
   "source": [
    "## Model Training"
   ]
  },
  {
   "cell_type": "code",
   "execution_count": 20,
   "metadata": {
    "executionInfo": {
     "elapsed": 5,
     "status": "ok",
     "timestamp": 1638467535971,
     "user": {
      "displayName": "Kateryna Drogaieva",
      "photoUrl": "https://lh3.googleusercontent.com/a-/AOh14GjB1LQYJH97Lqm6RsCcAADFgzEAa0YxMUT7P4mjlA=s64",
      "userId": "10877377912113147805"
     },
     "user_tz": 480
    },
    "id": "BTu1qzqSDuV7"
   },
   "outputs": [],
   "source": [
    "MODEL_NAME = 'blinoff/roberta-base-russian-v0'\n",
    "t = text.Transformer(MODEL_NAME, maxlen=256)"
   ]
  },
  {
   "cell_type": "code",
   "execution_count": 21,
   "metadata": {
    "colab": {
     "base_uri": "https://localhost:8080/",
     "height": 340
    },
    "executionInfo": {
     "elapsed": 24659,
     "status": "ok",
     "timestamp": 1638467560625,
     "user": {
      "displayName": "Kateryna Drogaieva",
      "photoUrl": "https://lh3.googleusercontent.com/a-/AOh14GjB1LQYJH97Lqm6RsCcAADFgzEAa0YxMUT7P4mjlA=s64",
      "userId": "10877377912113147805"
     },
     "user_tz": 480
    },
    "id": "bhdfZwATElNR",
    "outputId": "eeeb081f-9e6a-456a-e5dd-c3db68c4283a"
   },
   "outputs": [
    {
     "name": "stdout",
     "output_type": "stream",
     "text": [
      "preprocessing train...\n",
      "language: ru\n",
      "train sequence lengths:\n",
      "\tmean : 80\n",
      "\t95percentile : 201\n",
      "\t99percentile : 360\n"
     ]
    },
    {
     "data": {
      "text/html": [],
      "text/plain": [
       "<IPython.core.display.HTML object>"
      ]
     },
     "metadata": {},
     "output_type": "display_data"
    },
    {
     "name": "stdout",
     "output_type": "stream",
     "text": [
      "Is Multi-Label? False\n",
      "preprocessing test...\n",
      "language: ru\n",
      "test sequence lengths:\n",
      "\tmean : 88\n",
      "\t95percentile : 229\n",
      "\t99percentile : 411\n"
     ]
    },
    {
     "data": {
      "text/html": [],
      "text/plain": [
       "<IPython.core.display.HTML object>"
      ]
     },
     "metadata": {},
     "output_type": "display_data"
    },
    {
     "name": "stdout",
     "output_type": "stream",
     "text": [
      "preprocessing test...\n",
      "language: ru\n",
      "test sequence lengths:\n",
      "\tmean : 79\n",
      "\t95percentile : 198\n",
      "\t99percentile : 355\n"
     ]
    },
    {
     "data": {
      "text/html": [],
      "text/plain": [
       "<IPython.core.display.HTML object>"
      ]
     },
     "metadata": {},
     "output_type": "display_data"
    }
   ],
   "source": [
    "trn = t.preprocess_train(x_train, y_train)\n",
    "val = t.preprocess_test(x_valid, y_valid)\n",
    "test = t.preprocess_test(x_test, y_test)"
   ]
  },
  {
   "cell_type": "code",
   "execution_count": 22,
   "metadata": {
    "colab": {
     "base_uri": "https://localhost:8080/"
    },
    "executionInfo": {
     "elapsed": 559768,
     "status": "ok",
     "timestamp": 1638468120379,
     "user": {
      "displayName": "Kateryna Drogaieva",
      "photoUrl": "https://lh3.googleusercontent.com/a-/AOh14GjB1LQYJH97Lqm6RsCcAADFgzEAa0YxMUT7P4mjlA=s64",
      "userId": "10877377912113147805"
     },
     "user_tz": 480
    },
    "id": "M3caczh8Em5g",
    "outputId": "8200905e-639d-4d94-8464-50366a5333aa"
   },
   "outputs": [
    {
     "name": "stderr",
     "output_type": "stream",
     "text": [
      "404 Client Error: Not Found for url: https://huggingface.co/blinoff/roberta-base-russian-v0/resolve/main/tf_model.h5\n",
      "/usr/local/lib/python3.7/dist-packages/ktrain/text/preprocessor.py:1067: UserWarning: Could not find Tensorflow version of model.  Attempting to download/load PyTorch version as TensorFlow model using from_pt=True. You will need PyTorch installed for this.\n",
      "  warnings.warn('Could not find Tensorflow version of model.  Attempting to download/load PyTorch version as TensorFlow model using from_pt=True. ' +\\\n"
     ]
    },
    {
     "name": "stdout",
     "output_type": "stream",
     "text": [
      "\n",
      "\n",
      "begin training using onecycle policy with max lr of 1e-05...\n",
      "Epoch 1/10\n",
      "85/85 [==============================] - 75s 654ms/step - loss: 1.8311 - accuracy: 0.3551 - val_loss: 1.7492 - val_accuracy: 0.3752\n",
      "Epoch 2/10\n",
      "85/85 [==============================] - 53s 620ms/step - loss: 1.7429 - accuracy: 0.3798 - val_loss: 1.7221 - val_accuracy: 0.3735\n",
      "Epoch 3/10\n",
      "85/85 [==============================] - 53s 619ms/step - loss: 1.6905 - accuracy: 0.3832 - val_loss: 1.6650 - val_accuracy: 0.3830\n",
      "Epoch 4/10\n",
      "85/85 [==============================] - 53s 620ms/step - loss: 1.6085 - accuracy: 0.4157 - val_loss: 1.5357 - val_accuracy: 0.4260\n",
      "Epoch 5/10\n",
      "85/85 [==============================] - 53s 620ms/step - loss: 1.5015 - accuracy: 0.4540 - val_loss: 1.4729 - val_accuracy: 0.4673\n",
      "Epoch 6/10\n",
      "85/85 [==============================] - 53s 620ms/step - loss: 1.3964 - accuracy: 0.5042 - val_loss: 1.4369 - val_accuracy: 0.4828\n",
      "Epoch 7/10\n",
      "85/85 [==============================] - 53s 619ms/step - loss: 1.2540 - accuracy: 0.5622 - val_loss: 1.4594 - val_accuracy: 0.4862\n",
      "Epoch 8/10\n",
      "85/85 [==============================] - 53s 620ms/step - loss: 1.1369 - accuracy: 0.5965 - val_loss: 1.4645 - val_accuracy: 0.4991\n",
      "Epoch 9/10\n",
      "85/85 [==============================] - 53s 620ms/step - loss: 1.0354 - accuracy: 0.6382 - val_loss: 1.4778 - val_accuracy: 0.4940\n",
      "Epoch 10/10\n",
      "85/85 [==============================] - 53s 619ms/step - loss: 0.9705 - accuracy: 0.6619 - val_loss: 1.4972 - val_accuracy: 0.4940\n"
     ]
    },
    {
     "data": {
      "text/plain": [
       "<keras.callbacks.History at 0x7fe18d574850>"
      ]
     },
     "execution_count": 22,
     "metadata": {},
     "output_type": "execute_result"
    }
   ],
   "source": [
    "model = t.get_classifier()\n",
    "learner = ktrain.get_learner(model, train_data=trn, val_data=val, batch_size=32)\n",
    "learner.fit_onecycle(lr=1e-5, epochs=10)"
   ]
  },
  {
   "cell_type": "markdown",
   "metadata": {
    "id": "TAHZ1V05OiS7"
   },
   "source": [
    "## Results"
   ]
  },
  {
   "cell_type": "code",
   "execution_count": 23,
   "metadata": {
    "colab": {
     "base_uri": "https://localhost:8080/"
    },
    "executionInfo": {
     "elapsed": 55769,
     "status": "ok",
     "timestamp": 1638468176134,
     "user": {
      "displayName": "Kateryna Drogaieva",
      "photoUrl": "https://lh3.googleusercontent.com/a-/AOh14GjB1LQYJH97Lqm6RsCcAADFgzEAa0YxMUT7P4mjlA=s64",
      "userId": "10877377912113147805"
     },
     "user_tz": 480
    },
    "id": "yy8E4XunFqlW",
    "outputId": "451ce28f-4dbe-447b-e89b-383d727067af"
   },
   "outputs": [
    {
     "name": "stdout",
     "output_type": "stream",
     "text": [
      "                     precision    recall  f1-score   support\n",
      "\n",
      "Joconda Mona Liza _       0.00      0.00      0.00        71\n",
      "      Lizon \" **K**       0.30      0.39      0.34       170\n",
      "           Lizonn +       0.00      0.00      0.00        27\n",
      "         lizlizon *       0.16      0.03      0.05       100\n",
      "           lizon **       0.44      0.38      0.41       217\n",
      "         newyorck D       0.55      0.59      0.57       308\n",
      "        Кассиапея D       0.22      0.01      0.02       181\n",
      "          Элиззи H*       0.50      0.77      0.61       585\n",
      "\n",
      "           accuracy                           0.47      1659\n",
      "          macro avg       0.27      0.27      0.25      1659\n",
      "       weighted avg       0.40      0.47      0.41      1659\n",
      "\n"
     ]
    },
    {
     "name": "stderr",
     "output_type": "stream",
     "text": [
      "/usr/local/lib/python3.7/dist-packages/sklearn/metrics/_classification.py:1221: UndefinedMetricWarning: Precision and F-score are ill-defined and being set to 0.0 in labels with no predicted samples. Use `zero_division` parameter to control this behavior.\n",
      "  _warn_prf(average, modifier, msg_start, len(result))\n"
     ]
    }
   ],
   "source": [
    "test_confusion_matrix=learner.validate(val_data=test, class_names=t.get_classes())"
   ]
  },
  {
   "cell_type": "markdown",
   "metadata": {
    "id": "Mk2wC1IjOm2l"
   },
   "source": [
    "### Confusion Matrix"
   ]
  },
  {
   "cell_type": "code",
   "execution_count": 24,
   "metadata": {
    "colab": {
     "base_uri": "https://localhost:8080/",
     "height": 297
    },
    "executionInfo": {
     "elapsed": 26,
     "status": "ok",
     "timestamp": 1638468176135,
     "user": {
      "displayName": "Kateryna Drogaieva",
      "photoUrl": "https://lh3.googleusercontent.com/a-/AOh14GjB1LQYJH97Lqm6RsCcAADFgzEAa0YxMUT7P4mjlA=s64",
      "userId": "10877377912113147805"
     },
     "user_tz": 480
    },
    "id": "dJE426hEIll5",
    "outputId": "8c4aca4c-7208-45bc-f6e0-be14157eddaa"
   },
   "outputs": [
    {
     "data": {
      "text/html": [
       "<div>\n",
       "<style scoped>\n",
       "    .dataframe tbody tr th:only-of-type {\n",
       "        vertical-align: middle;\n",
       "    }\n",
       "\n",
       "    .dataframe tbody tr th {\n",
       "        vertical-align: top;\n",
       "    }\n",
       "\n",
       "    .dataframe thead th {\n",
       "        text-align: right;\n",
       "    }\n",
       "</style>\n",
       "<table border=\"1\" class=\"dataframe\">\n",
       "  <thead>\n",
       "    <tr style=\"text-align: right;\">\n",
       "      <th></th>\n",
       "      <th>Joconda Mona Liza _</th>\n",
       "      <th>Lizon \" **K**</th>\n",
       "      <th>Lizonn +</th>\n",
       "      <th>lizlizon *</th>\n",
       "      <th>lizon **</th>\n",
       "      <th>newyorck D</th>\n",
       "      <th>Кассиапея D</th>\n",
       "      <th>Элиззи H*</th>\n",
       "    </tr>\n",
       "  </thead>\n",
       "  <tbody>\n",
       "    <tr>\n",
       "      <th>Joconda Mona Liza _</th>\n",
       "      <td>0</td>\n",
       "      <td>16</td>\n",
       "      <td>0</td>\n",
       "      <td>2</td>\n",
       "      <td>14</td>\n",
       "      <td>4</td>\n",
       "      <td>2</td>\n",
       "      <td>33</td>\n",
       "    </tr>\n",
       "    <tr>\n",
       "      <th>Lizon \" **K**</th>\n",
       "      <td>0</td>\n",
       "      <td>66</td>\n",
       "      <td>0</td>\n",
       "      <td>3</td>\n",
       "      <td>38</td>\n",
       "      <td>10</td>\n",
       "      <td>0</td>\n",
       "      <td>53</td>\n",
       "    </tr>\n",
       "    <tr>\n",
       "      <th>Lizonn +</th>\n",
       "      <td>0</td>\n",
       "      <td>1</td>\n",
       "      <td>0</td>\n",
       "      <td>0</td>\n",
       "      <td>2</td>\n",
       "      <td>9</td>\n",
       "      <td>1</td>\n",
       "      <td>14</td>\n",
       "    </tr>\n",
       "    <tr>\n",
       "      <th>lizlizon *</th>\n",
       "      <td>0</td>\n",
       "      <td>21</td>\n",
       "      <td>0</td>\n",
       "      <td>3</td>\n",
       "      <td>17</td>\n",
       "      <td>4</td>\n",
       "      <td>0</td>\n",
       "      <td>55</td>\n",
       "    </tr>\n",
       "    <tr>\n",
       "      <th>lizon **</th>\n",
       "      <td>0</td>\n",
       "      <td>63</td>\n",
       "      <td>0</td>\n",
       "      <td>2</td>\n",
       "      <td>83</td>\n",
       "      <td>20</td>\n",
       "      <td>0</td>\n",
       "      <td>49</td>\n",
       "    </tr>\n",
       "    <tr>\n",
       "      <th>newyorck D</th>\n",
       "      <td>0</td>\n",
       "      <td>12</td>\n",
       "      <td>0</td>\n",
       "      <td>1</td>\n",
       "      <td>8</td>\n",
       "      <td>181</td>\n",
       "      <td>2</td>\n",
       "      <td>104</td>\n",
       "    </tr>\n",
       "    <tr>\n",
       "      <th>Кассиапея D</th>\n",
       "      <td>0</td>\n",
       "      <td>11</td>\n",
       "      <td>0</td>\n",
       "      <td>1</td>\n",
       "      <td>10</td>\n",
       "      <td>19</td>\n",
       "      <td>2</td>\n",
       "      <td>138</td>\n",
       "    </tr>\n",
       "    <tr>\n",
       "      <th>Элиззи H*</th>\n",
       "      <td>0</td>\n",
       "      <td>27</td>\n",
       "      <td>0</td>\n",
       "      <td>7</td>\n",
       "      <td>16</td>\n",
       "      <td>85</td>\n",
       "      <td>2</td>\n",
       "      <td>448</td>\n",
       "    </tr>\n",
       "  </tbody>\n",
       "</table>\n",
       "</div>"
      ],
      "text/plain": [
       "                     Joconda Mona Liza _  Lizon \" **K**  ...  Кассиапея D  Элиззи H*\n",
       "Joconda Mona Liza _                    0             16  ...            2         33\n",
       "Lizon \" **K**                          0             66  ...            0         53\n",
       "Lizonn +                               0              1  ...            1         14\n",
       "lizlizon *                             0             21  ...            0         55\n",
       "lizon **                               0             63  ...            0         49\n",
       "newyorck D                             0             12  ...            2        104\n",
       "Кассиапея D                            0             11  ...            2        138\n",
       "Элиззи H*                              0             27  ...            2        448\n",
       "\n",
       "[8 rows x 8 columns]"
      ]
     },
     "execution_count": 24,
     "metadata": {},
     "output_type": "execute_result"
    }
   ],
   "source": [
    "test_confusion_matrix_df=pd.DataFrame(data=test_confusion_matrix,index=t.get_classes(),columns=t.get_classes())\n",
    "test_confusion_matrix_df"
   ]
  },
  {
   "cell_type": "markdown",
   "metadata": {
    "id": "qUOFkCbOOs5n"
   },
   "source": [
    "### Precision, Recall and F1"
   ]
  },
  {
   "cell_type": "code",
   "execution_count": 25,
   "metadata": {
    "colab": {
     "base_uri": "https://localhost:8080/"
    },
    "executionInfo": {
     "elapsed": 3565,
     "status": "ok",
     "timestamp": 1638468179688,
     "user": {
      "displayName": "Kateryna Drogaieva",
      "photoUrl": "https://lh3.googleusercontent.com/a-/AOh14GjB1LQYJH97Lqm6RsCcAADFgzEAa0YxMUT7P4mjlA=s64",
      "userId": "10877377912113147805"
     },
     "user_tz": 480
    },
    "id": "m0G91oK3MlqZ",
    "outputId": "61b67cff-1322-459a-cf6e-09f5b5799602"
   },
   "outputs": [
    {
     "name": "stdout",
     "output_type": "stream",
     "text": [
      "Requirement already satisfied: pycm in /usr/local/lib/python3.7/dist-packages (3.3)\n",
      "Requirement already satisfied: numpy>=1.9.0 in /usr/local/lib/python3.7/dist-packages (from pycm) (1.19.5)\n",
      "Requirement already satisfied: art>=1.8 in /usr/local/lib/python3.7/dist-packages (from pycm) (5.3)\n"
     ]
    }
   ],
   "source": [
    "!pip install pycm"
   ]
  },
  {
   "cell_type": "code",
   "execution_count": 26,
   "metadata": {
    "executionInfo": {
     "elapsed": 49,
     "status": "ok",
     "timestamp": 1638468179693,
     "user": {
      "displayName": "Kateryna Drogaieva",
      "photoUrl": "https://lh3.googleusercontent.com/a-/AOh14GjB1LQYJH97Lqm6RsCcAADFgzEAa0YxMUT7P4mjlA=s64",
      "userId": "10877377912113147805"
     },
     "user_tz": 480
    },
    "id": "Zvz1ILRLMsls"
   },
   "outputs": [],
   "source": [
    "import pycm as cm\n",
    "d_confusion_matrix={}\n",
    "for i in range(len(t.get_classes())):\n",
    "  d_confusion_matrix[t.get_classes()[i]]=dict(zip(t.get_classes(), test_confusion_matrix[i]))\n",
    "d_confusion_matrix=eval(str(d_confusion_matrix))  \n",
    "model_cm=cm.ConfusionMatrix(matrix=d_confusion_matrix)"
   ]
  },
  {
   "cell_type": "code",
   "execution_count": 30,
   "metadata": {
    "colab": {
     "base_uri": "https://localhost:8080/",
     "height": 297
    },
    "executionInfo": {
     "elapsed": 325,
     "status": "ok",
     "timestamp": 1638468252754,
     "user": {
      "displayName": "Kateryna Drogaieva",
      "photoUrl": "https://lh3.googleusercontent.com/a-/AOh14GjB1LQYJH97Lqm6RsCcAADFgzEAa0YxMUT7P4mjlA=s64",
      "userId": "10877377912113147805"
     },
     "user_tz": 480
    },
    "id": "vufOIQO9NZKG",
    "outputId": "0c8e89ef-3b9b-4af9-a843-5dcdd92dc554"
   },
   "outputs": [
    {
     "data": {
      "text/html": [
       "<div>\n",
       "<style scoped>\n",
       "    .dataframe tbody tr th:only-of-type {\n",
       "        vertical-align: middle;\n",
       "    }\n",
       "\n",
       "    .dataframe tbody tr th {\n",
       "        vertical-align: top;\n",
       "    }\n",
       "\n",
       "    .dataframe thead th {\n",
       "        text-align: right;\n",
       "    }\n",
       "</style>\n",
       "<table border=\"1\" class=\"dataframe\">\n",
       "  <thead>\n",
       "    <tr style=\"text-align: right;\">\n",
       "      <th></th>\n",
       "      <th>author</th>\n",
       "      <th>cnt_total</th>\n",
       "      <th>cnt_train</th>\n",
       "      <th>cnt_valid</th>\n",
       "      <th>cnt_test</th>\n",
       "      <th>Precision</th>\n",
       "      <th>Recall</th>\n",
       "      <th>F1</th>\n",
       "    </tr>\n",
       "  </thead>\n",
       "  <tbody>\n",
       "    <tr>\n",
       "      <th>7</th>\n",
       "      <td>Элиззи H*</td>\n",
       "      <td>2054</td>\n",
       "      <td>1033</td>\n",
       "      <td>436</td>\n",
       "      <td>585</td>\n",
       "      <td>0.501119</td>\n",
       "      <td>0.765812</td>\n",
       "      <td>0.605815</td>\n",
       "    </tr>\n",
       "    <tr>\n",
       "      <th>5</th>\n",
       "      <td>newyorck D</td>\n",
       "      <td>1045</td>\n",
       "      <td>514</td>\n",
       "      <td>223</td>\n",
       "      <td>308</td>\n",
       "      <td>0.545181</td>\n",
       "      <td>0.587662</td>\n",
       "      <td>0.565625</td>\n",
       "    </tr>\n",
       "    <tr>\n",
       "      <th>6</th>\n",
       "      <td>Кассиапея D</td>\n",
       "      <td>635</td>\n",
       "      <td>318</td>\n",
       "      <td>136</td>\n",
       "      <td>181</td>\n",
       "      <td>0.222222</td>\n",
       "      <td>0.011050</td>\n",
       "      <td>0.021053</td>\n",
       "    </tr>\n",
       "    <tr>\n",
       "      <th>4</th>\n",
       "      <td>lizon **</td>\n",
       "      <td>613</td>\n",
       "      <td>277</td>\n",
       "      <td>119</td>\n",
       "      <td>217</td>\n",
       "      <td>0.441489</td>\n",
       "      <td>0.382488</td>\n",
       "      <td>0.409877</td>\n",
       "    </tr>\n",
       "    <tr>\n",
       "      <th>1</th>\n",
       "      <td>Lizon \" **K**</td>\n",
       "      <td>555</td>\n",
       "      <td>263</td>\n",
       "      <td>122</td>\n",
       "      <td>170</td>\n",
       "      <td>0.304147</td>\n",
       "      <td>0.388235</td>\n",
       "      <td>0.341085</td>\n",
       "    </tr>\n",
       "    <tr>\n",
       "      <th>3</th>\n",
       "      <td>lizlizon *</td>\n",
       "      <td>322</td>\n",
       "      <td>152</td>\n",
       "      <td>70</td>\n",
       "      <td>100</td>\n",
       "      <td>0.157895</td>\n",
       "      <td>0.030000</td>\n",
       "      <td>0.050420</td>\n",
       "    </tr>\n",
       "    <tr>\n",
       "      <th>0</th>\n",
       "      <td>Joconda Mona Liza _</td>\n",
       "      <td>227</td>\n",
       "      <td>113</td>\n",
       "      <td>43</td>\n",
       "      <td>71</td>\n",
       "      <td>None</td>\n",
       "      <td>0.000000</td>\n",
       "      <td>0.000000</td>\n",
       "    </tr>\n",
       "    <tr>\n",
       "      <th>2</th>\n",
       "      <td>Lizonn +</td>\n",
       "      <td>79</td>\n",
       "      <td>39</td>\n",
       "      <td>13</td>\n",
       "      <td>27</td>\n",
       "      <td>None</td>\n",
       "      <td>0.000000</td>\n",
       "      <td>0.000000</td>\n",
       "    </tr>\n",
       "  </tbody>\n",
       "</table>\n",
       "</div>"
      ],
      "text/plain": [
       "                author  cnt_total  cnt_train  ...  Precision    Recall        F1\n",
       "7            Элиззи H*       2054       1033  ...   0.501119  0.765812  0.605815\n",
       "5           newyorck D       1045        514  ...   0.545181  0.587662  0.565625\n",
       "6          Кассиапея D        635        318  ...   0.222222  0.011050  0.021053\n",
       "4             lizon **        613        277  ...   0.441489  0.382488  0.409877\n",
       "1        Lizon \" **K**        555        263  ...   0.304147  0.388235  0.341085\n",
       "3           lizlizon *        322        152  ...   0.157895  0.030000  0.050420\n",
       "0  Joconda Mona Liza _        227        113  ...       None  0.000000  0.000000\n",
       "2             Lizonn +         79         39  ...       None  0.000000  0.000000\n",
       "\n",
       "[8 rows x 8 columns]"
      ]
     },
     "execution_count": 30,
     "metadata": {},
     "output_type": "execute_result"
    }
   ],
   "source": [
    "results['Precision'] = results['author'].map(model_cm.PPV)\n",
    "results['Recall'] = results['author'].map(model_cm.TPR)\n",
    "results['F1'] = results['author'].map(model_cm.F1)\n",
    "results.sort_values('cnt_total',ascending=False)"
   ]
  },
  {
   "cell_type": "markdown",
   "metadata": {
    "id": "wyZK1lndOySv"
   },
   "source": [
    "### Weighted F1"
   ]
  },
  {
   "cell_type": "code",
   "execution_count": 28,
   "metadata": {
    "colab": {
     "base_uri": "https://localhost:8080/"
    },
    "executionInfo": {
     "elapsed": 42,
     "status": "ok",
     "timestamp": 1638468179696,
     "user": {
      "displayName": "Kateryna Drogaieva",
      "photoUrl": "https://lh3.googleusercontent.com/a-/AOh14GjB1LQYJH97Lqm6RsCcAADFgzEAa0YxMUT7P4mjlA=s64",
      "userId": "10877377912113147805"
     },
     "user_tz": 480
    },
    "id": "NDlQijHhOUad",
    "outputId": "ec0b5b0d-8bce-4cd0-b96c-0c0323575e06"
   },
   "outputs": [
    {
     "data": {
      "text/plain": [
       "0.41253428079634663"
      ]
     },
     "execution_count": 28,
     "metadata": {},
     "output_type": "execute_result"
    }
   ],
   "source": [
    "model_cm.weighted_average('F1')"
   ]
  },
  {
   "cell_type": "markdown",
   "metadata": {
    "id": "bLn-WnCwO1kg"
   },
   "source": [
    "### Kappa"
   ]
  },
  {
   "cell_type": "code",
   "execution_count": 29,
   "metadata": {
    "colab": {
     "base_uri": "https://localhost:8080/"
    },
    "executionInfo": {
     "elapsed": 33,
     "status": "ok",
     "timestamp": 1638468179697,
     "user": {
      "displayName": "Kateryna Drogaieva",
      "photoUrl": "https://lh3.googleusercontent.com/a-/AOh14GjB1LQYJH97Lqm6RsCcAADFgzEAa0YxMUT7P4mjlA=s64",
      "userId": "10877377912113147805"
     },
     "user_tz": 480
    },
    "id": "s7UzMhKIObcb",
    "outputId": "ff49a178-01d0-4e91-c536-6725f52fee8f"
   },
   "outputs": [
    {
     "data": {
      "text/plain": [
       "0.28963251898994047"
      ]
     },
     "execution_count": 29,
     "metadata": {},
     "output_type": "execute_result"
    }
   ],
   "source": [
    "model_cm.Kappa"
   ]
  }
 ],
 "metadata": {
  "accelerator": "GPU",
  "colab": {
   "authorship_tag": "ABX9TyMuPlr3rgwtN+K6FWbfEk8O",
   "collapsed_sections": [],
   "machine_shape": "hm",
   "name": "lizon_dissimilarity_model.ipynb",
   "provenance": []
  },
  "kernelspec": {
   "display_name": "Python 3",
   "language": "python",
   "name": "python3"
  },
  "language_info": {
   "codemirror_mode": {
    "name": "ipython",
    "version": 3
   },
   "file_extension": ".py",
   "mimetype": "text/x-python",
   "name": "python",
   "nbconvert_exporter": "python",
   "pygments_lexer": "ipython3",
   "version": "3.8.5"
  }
 },
 "nbformat": 4,
 "nbformat_minor": 4
}
