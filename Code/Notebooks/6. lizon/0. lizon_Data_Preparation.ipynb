{
 "cells": [
  {
   "cell_type": "markdown",
   "metadata": {},
   "source": [
    "The code below creates datasets for tuning and modeling (research clones) lizon user eva.ru"
   ]
  },
  {
   "cell_type": "code",
   "execution_count": 1,
   "metadata": {
    "id": "_dtHIFcGoF8V"
   },
   "outputs": [],
   "source": [
    "import os\n",
    "import datetime\n",
    "import pandas as pd\n",
    "import numpy as np"
   ]
  },
  {
   "cell_type": "code",
   "execution_count": 2,
   "metadata": {},
   "outputs": [],
   "source": [
    "lizon_id = 69715"
   ]
  },
  {
   "cell_type": "code",
   "execution_count": 3,
   "metadata": {
    "id": "byo5RoPmoLVJ"
   },
   "outputs": [],
   "source": [
    "Data='/home/kate/Projects/eva/Data'\n",
    "\n",
    "Messages_filename='Main/Messages.csv'\n",
    "Messages_full_filename=os.path.join(Data, Messages_filename)\n",
    "\n",
    "OriginalMessages_filename='Main/OriginalMessages.csv'\n",
    "OriginalMessages_full_filename=os.path.join(Data, OriginalMessages_filename)\n",
    "\n",
    "Authors_filename='Main/Authors.csv'\n",
    "Authors_full_filename=os.path.join(Data, Authors_filename)\n",
    "\n",
    "ta_extension_filename='Main/TextAttributes_ext.csv'\n",
    "ta_extension_full_filename=os.path.join(Data, ta_extension_filename)\n",
    "\n",
    "\n",
    "ft_filename='Subprojects/lizon/lizon_data_for_finetuning.csv'\n",
    "ft_full_filename=os.path.join(Data, ft_filename)\n",
    "\n",
    "\n",
    "SimilarAuthors_filename='Subprojects/lizon/lizon_similar_authors.csv'\n",
    "SimilarAuthors_full_filename=os.path.join(Data, SimilarAuthors_filename)\n",
    "\n",
    "all_lizon_messages_filename='Subprojects/lizon/all_lizon_and_clones_messages.csv'\n",
    "all_lizon_messages_full_filename=os.path.join(Data, all_lizon_messages_filename)\n",
    "\n",
    "#medium size posts\n",
    "short_message_limit_words=5\n",
    "medium_message_limit_words=100"
   ]
  },
  {
   "cell_type": "code",
   "execution_count": 4,
   "metadata": {
    "id": "94HrRE9Moduk"
   },
   "outputs": [],
   "source": [
    "Messages = pd.read_csv(Messages_full_filename, error_bad_lines=False, index_col=False)"
   ]
  },
  {
   "cell_type": "code",
   "execution_count": 5,
   "metadata": {},
   "outputs": [],
   "source": [
    "AMessages = Messages[Messages['Author_Id']!=0].copy(deep=True)"
   ]
  },
  {
   "cell_type": "code",
   "execution_count": 6,
   "metadata": {},
   "outputs": [],
   "source": [
    "del Messages"
   ]
  },
  {
   "cell_type": "markdown",
   "metadata": {},
   "source": [
    "## Messages, no less then 5 and no more then 100 words, from all topics where lizon present"
   ]
  },
  {
   "cell_type": "code",
   "execution_count": 7,
   "metadata": {},
   "outputs": [],
   "source": [
    "topic_id_with_lizon=AMessages[AMessages['Author_Id']==lizon_id]['Topic_Id'].unique()"
   ]
  },
  {
   "cell_type": "code",
   "execution_count": 8,
   "metadata": {},
   "outputs": [
    {
     "data": {
      "text/plain": [
       "288"
      ]
     },
     "execution_count": 8,
     "metadata": {},
     "output_type": "execute_result"
    }
   ],
   "source": [
    "len(topic_id_with_lizon)"
   ]
  },
  {
   "cell_type": "code",
   "execution_count": 9,
   "metadata": {},
   "outputs": [],
   "source": [
    "AMessages=AMessages[AMessages['Topic_Id'].isin(topic_id_with_lizon)].copy(deep=True)"
   ]
  },
  {
   "cell_type": "code",
   "execution_count": 10,
   "metadata": {},
   "outputs": [],
   "source": [
    "AMessages=AMessages[AMessages['Author_Id']!=0]"
   ]
  },
  {
   "cell_type": "code",
   "execution_count": 11,
   "metadata": {},
   "outputs": [
    {
     "data": {
      "text/plain": [
       "24979"
      ]
     },
     "execution_count": 11,
     "metadata": {},
     "output_type": "execute_result"
    }
   ],
   "source": [
    "len(AMessages)"
   ]
  },
  {
   "cell_type": "code",
   "execution_count": 12,
   "metadata": {},
   "outputs": [
    {
     "data": {
      "text/plain": [
       "Index(['Message_Id', 'Timestamp', 'Topic_1st_Message', 'Parent_Id',\n",
       "       'Author_Id', 'author', 'Topic_Id', 'Topic', 'Chapter_Id', 'Chapter',\n",
       "       'message', 'cnt_childs', 'cnt_immediate_childs'],\n",
       "      dtype='object')"
      ]
     },
     "execution_count": 12,
     "metadata": {},
     "output_type": "execute_result"
    }
   ],
   "source": [
    "AMessages.columns"
   ]
  },
  {
   "cell_type": "markdown",
   "metadata": {},
   "source": [
    "There is no length of message in words in AMessage dataset, load additional data"
   ]
  },
  {
   "cell_type": "code",
   "execution_count": 13,
   "metadata": {},
   "outputs": [],
   "source": [
    "ta_ext = pd.read_csv(ta_extension_full_filename, error_bad_lines=False, index_col=False)"
   ]
  },
  {
   "cell_type": "code",
   "execution_count": 14,
   "metadata": {},
   "outputs": [
    {
     "data": {
      "text/plain": [
       "Index(['Message_Id', 'Timestamp', 'Topic_1st_Message', 'Parent_Id',\n",
       "       'Author_Id', 'author', 'Topic_Id', 'Topic', 'Chapter_Id', 'Chapter',\n",
       "       'message_characters', 'message_words', 'emojis', 'images', 'links',\n",
       "       'original_paragraphs', 'actual_paragraphs', 'avg_paragraph_characters',\n",
       "       'avg_paragraph_words', 'cnt_childs', 'cnt_immediate_childs',\n",
       "       'flg_excessive_exclamations', 'flg_excessive_questions',\n",
       "       'flg_excessive_other', 'num_Adj', 'num_unique_Adj', 'num_Nouns',\n",
       "       'num_unique_Nouns', 'num_Verb', 'num_unique_Verb', 'num_tokens',\n",
       "       'num_unique_tokens', 'num_syllables', 'num_long_words',\n",
       "       'num_unique_long_words', 'num_commas', 'num_exclamations',\n",
       "       'num_questions', 'num_words', 'ASW', 'PLW', 'TTR', 'TTR_A', 'TTR_N',\n",
       "       'TTR_V', 'NAV', 'UNAV', 'fraction_of_commas',\n",
       "       'fraction_of_exclamations', 'fraction_of_questions', 'fraction_of_Adj',\n",
       "       'fraction_of_Nouns', 'fraction_of_Verbs', 'num_sent', 'avg_sent_len'],\n",
       "      dtype='object')"
      ]
     },
     "execution_count": 14,
     "metadata": {},
     "output_type": "execute_result"
    }
   ],
   "source": [
    "ta_ext.columns"
   ]
  },
  {
   "cell_type": "code",
   "execution_count": 15,
   "metadata": {},
   "outputs": [],
   "source": [
    "AMessages=pd.merge(AMessages, ta_ext[['Message_Id','message_words']], left_on='Message_Id', right_on='Message_Id', how='inner')"
   ]
  },
  {
   "cell_type": "code",
   "execution_count": 16,
   "metadata": {},
   "outputs": [],
   "source": [
    "del ta_ext"
   ]
  },
  {
   "cell_type": "code",
   "execution_count": 17,
   "metadata": {},
   "outputs": [],
   "source": [
    "AMessages= AMessages[((AMessages['message_words']>short_message_limit_words) & (AMessages['message_words']<=medium_message_limit_words))]"
   ]
  },
  {
   "cell_type": "code",
   "execution_count": 18,
   "metadata": {},
   "outputs": [
    {
     "data": {
      "text/plain": [
       "20437"
      ]
     },
     "execution_count": 18,
     "metadata": {},
     "output_type": "execute_result"
    }
   ],
   "source": [
    "len(AMessages)"
   ]
  },
  {
   "cell_type": "markdown",
   "metadata": {},
   "source": [
    "Set target column"
   ]
  },
  {
   "cell_type": "code",
   "execution_count": 19,
   "metadata": {},
   "outputs": [],
   "source": [
    "AMessages['target']=['lizon' if x == lizon_id else 'Other' for x in AMessages['Author_Id']]"
   ]
  },
  {
   "cell_type": "code",
   "execution_count": 20,
   "metadata": {},
   "outputs": [
    {
     "data": {
      "text/html": [
       "<div>\n",
       "<style scoped>\n",
       "    .dataframe tbody tr th:only-of-type {\n",
       "        vertical-align: middle;\n",
       "    }\n",
       "\n",
       "    .dataframe tbody tr th {\n",
       "        vertical-align: top;\n",
       "    }\n",
       "\n",
       "    .dataframe thead th {\n",
       "        text-align: right;\n",
       "    }\n",
       "</style>\n",
       "<table border=\"1\" class=\"dataframe\">\n",
       "  <thead>\n",
       "    <tr style=\"text-align: right;\">\n",
       "      <th></th>\n",
       "      <th>target</th>\n",
       "      <th>counts</th>\n",
       "    </tr>\n",
       "  </thead>\n",
       "  <tbody>\n",
       "    <tr>\n",
       "      <th>0</th>\n",
       "      <td>Other</td>\n",
       "      <td>19371</td>\n",
       "    </tr>\n",
       "    <tr>\n",
       "      <th>1</th>\n",
       "      <td>lizon</td>\n",
       "      <td>1066</td>\n",
       "    </tr>\n",
       "  </tbody>\n",
       "</table>\n",
       "</div>"
      ],
      "text/plain": [
       "  target  counts\n",
       "0  Other   19371\n",
       "1  lizon    1066"
      ]
     },
     "execution_count": 20,
     "metadata": {},
     "output_type": "execute_result"
    }
   ],
   "source": [
    "AMessages.groupby(['target']).size().reset_index(name='counts').sort_values('counts', ascending=False)"
   ]
  },
  {
   "cell_type": "markdown",
   "metadata": {},
   "source": [
    "Joining original forum post text, without cleaning html tags etc"
   ]
  },
  {
   "cell_type": "code",
   "execution_count": 21,
   "metadata": {},
   "outputs": [],
   "source": [
    "OriginalMessages = pd.read_csv(OriginalMessages_full_filename, error_bad_lines=False, index_col=False)"
   ]
  },
  {
   "cell_type": "code",
   "execution_count": 22,
   "metadata": {},
   "outputs": [],
   "source": [
    "AMessages=pd.merge(AMessages, OriginalMessages[['Message_Id','original_message']], left_on='Message_Id', right_on='Message_Id', how='inner')"
   ]
  },
  {
   "cell_type": "code",
   "execution_count": 23,
   "metadata": {},
   "outputs": [
    {
     "data": {
      "text/plain": [
       "Index(['Message_Id', 'Timestamp', 'Topic_1st_Message', 'Parent_Id',\n",
       "       'Author_Id', 'author', 'Topic_Id', 'Topic', 'Chapter_Id', 'Chapter',\n",
       "       'message', 'cnt_childs', 'cnt_immediate_childs', 'message_words',\n",
       "       'target', 'original_message'],\n",
       "      dtype='object')"
      ]
     },
     "execution_count": 23,
     "metadata": {},
     "output_type": "execute_result"
    }
   ],
   "source": [
    "AMessages.columns"
   ]
  },
  {
   "cell_type": "code",
   "execution_count": 24,
   "metadata": {},
   "outputs": [
    {
     "data": {
      "text/plain": [
       "20437"
      ]
     },
     "execution_count": 24,
     "metadata": {},
     "output_type": "execute_result"
    }
   ],
   "source": [
    "len(AMessages)"
   ]
  },
  {
   "cell_type": "code",
   "execution_count": 25,
   "metadata": {},
   "outputs": [],
   "source": [
    "del OriginalMessages"
   ]
  },
  {
   "cell_type": "code",
   "execution_count": 26,
   "metadata": {},
   "outputs": [],
   "source": [
    "AMessages=AMessages[['Message_Id','Author_Id','author', 'message','original_message','target']]"
   ]
  },
  {
   "cell_type": "code",
   "execution_count": 27,
   "metadata": {},
   "outputs": [],
   "source": [
    "AMessages.to_csv(ft_full_filename, header=True, index=False)"
   ]
  },
  {
   "cell_type": "markdown",
   "metadata": {},
   "source": [
    "## Dataset to find lizon's clones (model application)"
   ]
  },
  {
   "cell_type": "markdown",
   "metadata": {},
   "source": [
    "### Authors to check"
   ]
  },
  {
   "cell_type": "code",
   "execution_count": 28,
   "metadata": {},
   "outputs": [],
   "source": [
    "Authors = pd.read_csv(Authors_full_filename, error_bad_lines=False, index_col=False)"
   ]
  },
  {
   "cell_type": "code",
   "execution_count": 29,
   "metadata": {},
   "outputs": [
    {
     "data": {
      "text/html": [
       "<div>\n",
       "<style scoped>\n",
       "    .dataframe tbody tr th:only-of-type {\n",
       "        vertical-align: middle;\n",
       "    }\n",
       "\n",
       "    .dataframe tbody tr th {\n",
       "        vertical-align: top;\n",
       "    }\n",
       "\n",
       "    .dataframe thead th {\n",
       "        text-align: right;\n",
       "    }\n",
       "</style>\n",
       "<table border=\"1\" class=\"dataframe\">\n",
       "  <thead>\n",
       "    <tr style=\"text-align: right;\">\n",
       "      <th></th>\n",
       "      <th>Author_Id</th>\n",
       "      <th>author</th>\n",
       "      <th>cnt_messages</th>\n",
       "      <th>First_Message_Id</th>\n",
       "      <th>Last_Message_Id</th>\n",
       "      <th>first_message_ts</th>\n",
       "      <th>last_message_ts</th>\n",
       "      <th>Binned Number of Messages</th>\n",
       "      <th>cnt_2021_messages</th>\n",
       "      <th>num_of_tneg_messages</th>\n",
       "      <th>...</th>\n",
       "      <th>avg_fraction_of_Verbs</th>\n",
       "      <th>avg_TTR</th>\n",
       "      <th>avg_TTR_A</th>\n",
       "      <th>avg_TTR_N</th>\n",
       "      <th>avg_TTR_V</th>\n",
       "      <th>avg_NAV</th>\n",
       "      <th>avg_UNAV</th>\n",
       "      <th>avg_fraction_of_Nouns</th>\n",
       "      <th>avg_ASW</th>\n",
       "      <th>avg_PLW</th>\n",
       "    </tr>\n",
       "  </thead>\n",
       "  <tbody>\n",
       "    <tr>\n",
       "      <th>0</th>\n",
       "      <td>23</td>\n",
       "      <td>volv ♧ Clair</td>\n",
       "      <td>1535</td>\n",
       "      <td>67913773</td>\n",
       "      <td>101696362</td>\n",
       "      <td>2011-07-06 11:00:00</td>\n",
       "      <td>2020-11-09 23:07:00</td>\n",
       "      <td>(1000, 5000]</td>\n",
       "      <td>0.0</td>\n",
       "      <td>267.0</td>\n",
       "      <td>...</td>\n",
       "      <td>0.168575</td>\n",
       "      <td>0.866406</td>\n",
       "      <td>0.662028</td>\n",
       "      <td>0.921540</td>\n",
       "      <td>0.872181</td>\n",
       "      <td>1.433010</td>\n",
       "      <td>2.290852</td>\n",
       "      <td>0.272158</td>\n",
       "      <td>2.099146</td>\n",
       "      <td>0.139118</td>\n",
       "    </tr>\n",
       "    <tr>\n",
       "      <th>1</th>\n",
       "      <td>27</td>\n",
       "      <td>Oxygen 27 F*</td>\n",
       "      <td>16</td>\n",
       "      <td>97031390</td>\n",
       "      <td>102288727</td>\n",
       "      <td>2018-05-17 14:17:00</td>\n",
       "      <td>2021-02-19 17:01:00</td>\n",
       "      <td>(0, 100]</td>\n",
       "      <td>0.0</td>\n",
       "      <td>8.0</td>\n",
       "      <td>...</td>\n",
       "      <td>0.135263</td>\n",
       "      <td>0.855567</td>\n",
       "      <td>0.692308</td>\n",
       "      <td>0.972494</td>\n",
       "      <td>0.769231</td>\n",
       "      <td>1.280186</td>\n",
       "      <td>1.888462</td>\n",
       "      <td>0.273964</td>\n",
       "      <td>1.911883</td>\n",
       "      <td>0.088368</td>\n",
       "    </tr>\n",
       "    <tr>\n",
       "      <th>2</th>\n",
       "      <td>32</td>\n",
       "      <td>Редакция Евы</td>\n",
       "      <td>784</td>\n",
       "      <td>80470511</td>\n",
       "      <td>96142872</td>\n",
       "      <td>2013-04-29 13:46:00</td>\n",
       "      <td>2017-12-11 20:44:00</td>\n",
       "      <td>(100, 1000]</td>\n",
       "      <td>0.0</td>\n",
       "      <td>96.0</td>\n",
       "      <td>...</td>\n",
       "      <td>0.142459</td>\n",
       "      <td>0.904268</td>\n",
       "      <td>0.905599</td>\n",
       "      <td>0.882550</td>\n",
       "      <td>0.964668</td>\n",
       "      <td>1.868945</td>\n",
       "      <td>3.498784</td>\n",
       "      <td>0.329188</td>\n",
       "      <td>2.130166</td>\n",
       "      <td>0.160048</td>\n",
       "    </tr>\n",
       "    <tr>\n",
       "      <th>3</th>\n",
       "      <td>35</td>\n",
       "      <td>Малефисента ⚜**</td>\n",
       "      <td>3415</td>\n",
       "      <td>51064403</td>\n",
       "      <td>101933631</td>\n",
       "      <td>2009-11-02 14:26:00</td>\n",
       "      <td>2020-12-21 17:49:00</td>\n",
       "      <td>(1000, 5000]</td>\n",
       "      <td>0.0</td>\n",
       "      <td>1433.0</td>\n",
       "      <td>...</td>\n",
       "      <td>0.167977</td>\n",
       "      <td>0.890777</td>\n",
       "      <td>0.605887</td>\n",
       "      <td>0.952464</td>\n",
       "      <td>0.913617</td>\n",
       "      <td>1.516702</td>\n",
       "      <td>2.006752</td>\n",
       "      <td>0.236029</td>\n",
       "      <td>1.895766</td>\n",
       "      <td>0.094588</td>\n",
       "    </tr>\n",
       "    <tr>\n",
       "      <th>4</th>\n",
       "      <td>36</td>\n",
       "      <td>Доктор Филатов SD*</td>\n",
       "      <td>4992</td>\n",
       "      <td>81110399</td>\n",
       "      <td>101760074</td>\n",
       "      <td>2013-06-18 17:11:00</td>\n",
       "      <td>2020-11-20 18:00:00</td>\n",
       "      <td>(1000, 5000]</td>\n",
       "      <td>0.0</td>\n",
       "      <td>1855.0</td>\n",
       "      <td>...</td>\n",
       "      <td>0.166422</td>\n",
       "      <td>0.896571</td>\n",
       "      <td>0.801671</td>\n",
       "      <td>0.901457</td>\n",
       "      <td>0.923862</td>\n",
       "      <td>1.785766</td>\n",
       "      <td>2.255664</td>\n",
       "      <td>0.247477</td>\n",
       "      <td>2.059361</td>\n",
       "      <td>0.141871</td>\n",
       "    </tr>\n",
       "  </tbody>\n",
       "</table>\n",
       "<p>5 rows × 118 columns</p>\n",
       "</div>"
      ],
      "text/plain": [
       "   Author_Id              author  cnt_messages  First_Message_Id  \\\n",
       "0         23        volv ♧ Clair          1535          67913773   \n",
       "1         27        Oxygen 27 F*            16          97031390   \n",
       "2         32        Редакция Евы           784          80470511   \n",
       "3         35     Малефисента ⚜**          3415          51064403   \n",
       "4         36  Доктор Филатов SD*          4992          81110399   \n",
       "\n",
       "   Last_Message_Id     first_message_ts      last_message_ts  \\\n",
       "0        101696362  2011-07-06 11:00:00  2020-11-09 23:07:00   \n",
       "1        102288727  2018-05-17 14:17:00  2021-02-19 17:01:00   \n",
       "2         96142872  2013-04-29 13:46:00  2017-12-11 20:44:00   \n",
       "3        101933631  2009-11-02 14:26:00  2020-12-21 17:49:00   \n",
       "4        101760074  2013-06-18 17:11:00  2020-11-20 18:00:00   \n",
       "\n",
       "  Binned Number of Messages  cnt_2021_messages  num_of_tneg_messages  ...  \\\n",
       "0              (1000, 5000]                0.0                 267.0  ...   \n",
       "1                  (0, 100]                0.0                   8.0  ...   \n",
       "2               (100, 1000]                0.0                  96.0  ...   \n",
       "3              (1000, 5000]                0.0                1433.0  ...   \n",
       "4              (1000, 5000]                0.0                1855.0  ...   \n",
       "\n",
       "   avg_fraction_of_Verbs   avg_TTR  avg_TTR_A  avg_TTR_N  avg_TTR_V   avg_NAV  \\\n",
       "0               0.168575  0.866406   0.662028   0.921540   0.872181  1.433010   \n",
       "1               0.135263  0.855567   0.692308   0.972494   0.769231  1.280186   \n",
       "2               0.142459  0.904268   0.905599   0.882550   0.964668  1.868945   \n",
       "3               0.167977  0.890777   0.605887   0.952464   0.913617  1.516702   \n",
       "4               0.166422  0.896571   0.801671   0.901457   0.923862  1.785766   \n",
       "\n",
       "   avg_UNAV  avg_fraction_of_Nouns   avg_ASW   avg_PLW  \n",
       "0  2.290852               0.272158  2.099146  0.139118  \n",
       "1  1.888462               0.273964  1.911883  0.088368  \n",
       "2  3.498784               0.329188  2.130166  0.160048  \n",
       "3  2.006752               0.236029  1.895766  0.094588  \n",
       "4  2.255664               0.247477  2.059361  0.141871  \n",
       "\n",
       "[5 rows x 118 columns]"
      ]
     },
     "execution_count": 29,
     "metadata": {},
     "output_type": "execute_result"
    }
   ],
   "source": [
    "Authors.head()"
   ]
  },
  {
   "cell_type": "code",
   "execution_count": 30,
   "metadata": {},
   "outputs": [],
   "source": [
    "Authors['first_message_ts']=pd.to_datetime(Authors['first_message_ts'], format='%Y-%m-%d %H:%M:%S')\n",
    "Authors['last_message_ts']=pd.to_datetime(Authors['last_message_ts'], format='%Y-%m-%d %H:%M:%S')"
   ]
  },
  {
   "cell_type": "code",
   "execution_count": 31,
   "metadata": {},
   "outputs": [],
   "source": [
    "#known lizon last message\n",
    "last_message_ts = Authors[Authors['Author_Id']==lizon_id]['last_message_ts'].max()"
   ]
  },
  {
   "cell_type": "code",
   "execution_count": 32,
   "metadata": {},
   "outputs": [
    {
     "data": {
      "text/plain": [
       "10735"
      ]
     },
     "execution_count": 32,
     "metadata": {},
     "output_type": "execute_result"
    }
   ],
   "source": [
    "#All new authors after the date\n",
    "len(Authors[Authors['first_message_ts']>last_message_ts])"
   ]
  },
  {
   "cell_type": "code",
   "execution_count": 33,
   "metadata": {},
   "outputs": [
    {
     "data": {
      "text/plain": [
       "670"
      ]
     },
     "execution_count": 33,
     "metadata": {},
     "output_type": "execute_result"
    }
   ],
   "source": [
    "#Authors posted after the last lizon's date with reasonable number of messages\n",
    "#5000 because it's definetly not a clone\n",
    "#100 because with less messages authors write as Anonymous\n",
    "#TotalDays>1 because authors with 100+ messages in very few days are spamers most likely and they are banned\n",
    "len(Authors[((Authors['first_message_ts']>last_message_ts) & (Authors['TotalDays']>1) & (Authors['cnt_messages']>100) & (Authors['cnt_messages']<5000))])"
   ]
  },
  {
   "cell_type": "code",
   "execution_count": 34,
   "metadata": {},
   "outputs": [],
   "source": [
    "Authors = Authors[((Authors['Author_Id']==lizon_id) | ((Authors['first_message_ts']>last_message_ts) & (Authors['TotalDays']>1) & (Authors['cnt_messages']>100) & (Authors['cnt_messages']<5000)))]"
   ]
  },
  {
   "cell_type": "markdown",
   "metadata": {},
   "source": [
    "### Can we limit the number of authors to check even more?"
   ]
  },
  {
   "cell_type": "code",
   "execution_count": 35,
   "metadata": {},
   "outputs": [],
   "source": [
    "from sklearn.metrics.pairwise import cosine_similarity"
   ]
  },
  {
   "cell_type": "code",
   "execution_count": 36,
   "metadata": {},
   "outputs": [],
   "source": [
    "columns_to_compare=[\n",
    "'fraction_of_tneg_messages',\n",
    "'fraction_of_tpos_messages',\n",
    "'fraction_of_Large_Topics',\n",
    "'fraction_of_messages_with_immediate_responses',\n",
    "'avg_immediate_responses',\n",
    "'fraction_of_messages_with_discussion',\n",
    "'avg_responses',\n",
    "'fraction_of_neg_rersponses',\n",
    "'fraction_of_pos_rersponses',\n",
    "'fraction_of_messages_with_emojis',\n",
    "'fraction_of_messages_with_images',\n",
    "'fraction_of_messages_with_links',\n",
    "'fraction_of_messages_with_excessive_exclamations',\n",
    "'fraction_of_messages_with_excessive_questions',\n",
    "'fraction_of_messages_with_excessive_other',\n",
    "'fraction_of_medium_with_commas',\n",
    "'avg_num_commas',\n",
    "'avg_sent_len',\n",
    "'avg_num_sent',\n",
    "'avg_ASW',\n",
    "'avg_PLW',\n",
    "'avg_fraction_of_Adj',\n",
    "'avg_fraction_of_Verbs',\n",
    "'avg_fraction_of_Nouns',\n",
    "'avg_TTR',\n",
    "'avg_TTR_A',\n",
    "'avg_TTR_N',\n",
    "'avg_TTR_V',\n",
    "'avg_NAV',\n",
    "'avg_UNAV']"
   ]
  },
  {
   "cell_type": "code",
   "execution_count": 37,
   "metadata": {},
   "outputs": [
    {
     "data": {
      "text/plain": [
       "array([[4.87804878e-01, 1.71669794e-01, 7.89473684e-01, 6.54631083e-01,\n",
       "        1.06122449e+00, 4.12872841e-01, 1.01596958e+01, 4.11982249e-01,\n",
       "        2.21153846e-01, 0.00000000e+00, 0.00000000e+00, 1.42072214e-01,\n",
       "        1.72684458e-02, 3.92464678e-02, 2.35478807e-03, 2.20450281e+00,\n",
       "        2.46716698e+00, 1.10714444e+01, 2.79268293e+00, 1.88769785e+00,\n",
       "        1.02372067e-01, 8.24955780e-02, 1.60779108e-01, 2.18236627e-01,\n",
       "        8.93254711e-01, 7.27772842e-01, 9.27792082e-01, 9.03903230e-01,\n",
       "        1.69437184e+00, 1.98724571e+00]])"
      ]
     },
     "execution_count": 37,
     "metadata": {},
     "output_type": "execute_result"
    }
   ],
   "source": [
    "lizon=np.array(Authors[Authors['Author_Id']==lizon_id][columns_to_compare])\n",
    "lizon"
   ]
  },
  {
   "cell_type": "code",
   "execution_count": 38,
   "metadata": {},
   "outputs": [
    {
     "data": {
      "text/plain": [
       "array([[0.31010453, 0.10801394, 0.35      , ..., 0.87218147, 1.43300956,\n",
       "        2.29085165],\n",
       "       [0.12467532, 0.20519481, 0.10686016, ..., 0.9646684 , 1.86894488,\n",
       "        3.49878412],\n",
       "       [0.45532646, 0.16102111, 0.5       , ..., 0.92386224, 1.78576606,\n",
       "        2.2556641 ],\n",
       "       ...,\n",
       "       [0.45989305, 0.04812834, 0.        , ..., 0.91584755, 1.53872252,\n",
       "        2.10129249],\n",
       "       [0.6746988 , 0.1686747 , 0.        , ..., 0.91176725, 1.8948778 ,\n",
       "        1.97651328],\n",
       "       [0.48031496, 0.04724409, 0.        , ..., 0.87512282, 1.44298199,\n",
       "        1.97819462]])"
      ]
     },
     "execution_count": 38,
     "metadata": {},
     "output_type": "execute_result"
    }
   ],
   "source": [
    "others=np.array(Authors[columns_to_compare])\n",
    "others"
   ]
  },
  {
   "cell_type": "code",
   "execution_count": 39,
   "metadata": {},
   "outputs": [],
   "source": [
    "result=cosine_similarity(lizon,others)"
   ]
  },
  {
   "cell_type": "code",
   "execution_count": 40,
   "metadata": {},
   "outputs": [],
   "source": [
    "Authors['lizon_sim']=result[0]"
   ]
  },
  {
   "cell_type": "code",
   "execution_count": 41,
   "metadata": {},
   "outputs": [],
   "source": [
    "SimilarAuthors = Authors[Authors['lizon_sim']>0.96].sort_values(['lizon_sim'],ascending=False)"
   ]
  },
  {
   "cell_type": "code",
   "execution_count": 42,
   "metadata": {},
   "outputs": [
    {
     "data": {
      "text/plain": [
       "518"
      ]
     },
     "execution_count": 42,
     "metadata": {},
     "output_type": "execute_result"
    }
   ],
   "source": [
    "SimilarAuthors['Author_Id'].nunique()"
   ]
  },
  {
   "cell_type": "code",
   "execution_count": 43,
   "metadata": {},
   "outputs": [],
   "source": [
    "SimilarAuthors.to_csv(SimilarAuthors_full_filename, header=True, index=False)"
   ]
  },
  {
   "cell_type": "code",
   "execution_count": 44,
   "metadata": {},
   "outputs": [
    {
     "data": {
      "text/html": [
       "<div>\n",
       "<style scoped>\n",
       "    .dataframe tbody tr th:only-of-type {\n",
       "        vertical-align: middle;\n",
       "    }\n",
       "\n",
       "    .dataframe tbody tr th {\n",
       "        vertical-align: top;\n",
       "    }\n",
       "\n",
       "    .dataframe thead th {\n",
       "        text-align: right;\n",
       "    }\n",
       "</style>\n",
       "<table border=\"1\" class=\"dataframe\">\n",
       "  <thead>\n",
       "    <tr style=\"text-align: right;\">\n",
       "      <th></th>\n",
       "      <th>Author_Id</th>\n",
       "      <th>author</th>\n",
       "      <th>cnt_messages</th>\n",
       "      <th>First_Message_Id</th>\n",
       "      <th>Last_Message_Id</th>\n",
       "      <th>first_message_ts</th>\n",
       "      <th>last_message_ts</th>\n",
       "      <th>Binned Number of Messages</th>\n",
       "      <th>cnt_2021_messages</th>\n",
       "      <th>num_of_tneg_messages</th>\n",
       "      <th>...</th>\n",
       "      <th>avg_TTR</th>\n",
       "      <th>avg_TTR_A</th>\n",
       "      <th>avg_TTR_N</th>\n",
       "      <th>avg_TTR_V</th>\n",
       "      <th>avg_NAV</th>\n",
       "      <th>avg_UNAV</th>\n",
       "      <th>avg_fraction_of_Nouns</th>\n",
       "      <th>avg_ASW</th>\n",
       "      <th>avg_PLW</th>\n",
       "      <th>lizon_sim</th>\n",
       "    </tr>\n",
       "  </thead>\n",
       "  <tbody>\n",
       "    <tr>\n",
       "      <th>3485</th>\n",
       "      <td>69715</td>\n",
       "      <td>lizon **</td>\n",
       "      <td>1274</td>\n",
       "      <td>49189796</td>\n",
       "      <td>62257633</td>\n",
       "      <td>2009-08-28 11:50:00</td>\n",
       "      <td>2010-12-07 23:18:00</td>\n",
       "      <td>(1000, 5000]</td>\n",
       "      <td>0.0</td>\n",
       "      <td>520.0</td>\n",
       "      <td>...</td>\n",
       "      <td>0.893255</td>\n",
       "      <td>0.727773</td>\n",
       "      <td>0.927792</td>\n",
       "      <td>0.903903</td>\n",
       "      <td>1.694372</td>\n",
       "      <td>1.987246</td>\n",
       "      <td>0.218237</td>\n",
       "      <td>1.887698</td>\n",
       "      <td>0.102372</td>\n",
       "      <td>1.000000</td>\n",
       "    </tr>\n",
       "    <tr>\n",
       "      <th>17627</th>\n",
       "      <td>475085</td>\n",
       "      <td>Элиззи H*</td>\n",
       "      <td>3317</td>\n",
       "      <td>90184059</td>\n",
       "      <td>98561081</td>\n",
       "      <td>2015-07-26 22:11:00</td>\n",
       "      <td>2019-03-21 21:20:00</td>\n",
       "      <td>(1000, 5000]</td>\n",
       "      <td>0.0</td>\n",
       "      <td>1159.0</td>\n",
       "      <td>...</td>\n",
       "      <td>0.878784</td>\n",
       "      <td>0.751416</td>\n",
       "      <td>0.903675</td>\n",
       "      <td>0.891083</td>\n",
       "      <td>1.758879</td>\n",
       "      <td>2.211228</td>\n",
       "      <td>0.210558</td>\n",
       "      <td>1.799589</td>\n",
       "      <td>0.092318</td>\n",
       "      <td>0.997940</td>\n",
       "    </tr>\n",
       "    <tr>\n",
       "      <th>17566</th>\n",
       "      <td>472696</td>\n",
       "      <td>Кассиапея D</td>\n",
       "      <td>1093</td>\n",
       "      <td>89966258</td>\n",
       "      <td>98530888</td>\n",
       "      <td>2015-06-24 22:40:00</td>\n",
       "      <td>2019-03-16 15:05:00</td>\n",
       "      <td>(1000, 5000]</td>\n",
       "      <td>0.0</td>\n",
       "      <td>365.0</td>\n",
       "      <td>...</td>\n",
       "      <td>0.872310</td>\n",
       "      <td>0.752578</td>\n",
       "      <td>0.899809</td>\n",
       "      <td>0.877330</td>\n",
       "      <td>1.708850</td>\n",
       "      <td>2.180732</td>\n",
       "      <td>0.210773</td>\n",
       "      <td>1.799353</td>\n",
       "      <td>0.096391</td>\n",
       "      <td>0.997702</td>\n",
       "    </tr>\n",
       "    <tr>\n",
       "      <th>19218</th>\n",
       "      <td>711697</td>\n",
       "      <td>Lizonn +</td>\n",
       "      <td>136</td>\n",
       "      <td>98135519</td>\n",
       "      <td>98598759</td>\n",
       "      <td>2018-12-29 16:55:00</td>\n",
       "      <td>2019-03-28 23:41:00</td>\n",
       "      <td>(100, 1000]</td>\n",
       "      <td>0.0</td>\n",
       "      <td>35.0</td>\n",
       "      <td>...</td>\n",
       "      <td>0.882333</td>\n",
       "      <td>0.764493</td>\n",
       "      <td>0.895730</td>\n",
       "      <td>0.916748</td>\n",
       "      <td>1.807151</td>\n",
       "      <td>2.284331</td>\n",
       "      <td>0.210087</td>\n",
       "      <td>1.847633</td>\n",
       "      <td>0.097056</td>\n",
       "      <td>0.996895</td>\n",
       "    </tr>\n",
       "    <tr>\n",
       "      <th>16940</th>\n",
       "      <td>424711</td>\n",
       "      <td>Joconda Mona Liza _</td>\n",
       "      <td>390</td>\n",
       "      <td>84147592</td>\n",
       "      <td>89805527</td>\n",
       "      <td>2014-02-07 02:23:00</td>\n",
       "      <td>2015-06-04 17:02:00</td>\n",
       "      <td>(100, 1000]</td>\n",
       "      <td>0.0</td>\n",
       "      <td>136.0</td>\n",
       "      <td>...</td>\n",
       "      <td>0.891069</td>\n",
       "      <td>0.782630</td>\n",
       "      <td>0.900957</td>\n",
       "      <td>0.898081</td>\n",
       "      <td>1.742168</td>\n",
       "      <td>2.004457</td>\n",
       "      <td>0.213476</td>\n",
       "      <td>1.843177</td>\n",
       "      <td>0.105652</td>\n",
       "      <td>0.996605</td>\n",
       "    </tr>\n",
       "    <tr>\n",
       "      <th>14771</th>\n",
       "      <td>300514</td>\n",
       "      <td>Lizon \" **K**</td>\n",
       "      <td>955</td>\n",
       "      <td>62997968</td>\n",
       "      <td>78899997</td>\n",
       "      <td>2011-01-04 14:22:00</td>\n",
       "      <td>2013-01-19 20:38:00</td>\n",
       "      <td>(100, 1000]</td>\n",
       "      <td>0.0</td>\n",
       "      <td>370.0</td>\n",
       "      <td>...</td>\n",
       "      <td>0.901131</td>\n",
       "      <td>0.764044</td>\n",
       "      <td>0.924115</td>\n",
       "      <td>0.915488</td>\n",
       "      <td>1.770354</td>\n",
       "      <td>2.080300</td>\n",
       "      <td>0.219439</td>\n",
       "      <td>1.844406</td>\n",
       "      <td>0.096304</td>\n",
       "      <td>0.994347</td>\n",
       "    </tr>\n",
       "    <tr>\n",
       "      <th>19739</th>\n",
       "      <td>731728</td>\n",
       "      <td>newyorck D</td>\n",
       "      <td>2142</td>\n",
       "      <td>100170690</td>\n",
       "      <td>103317149</td>\n",
       "      <td>2020-02-17 15:43:00</td>\n",
       "      <td>2021-09-16 20:49:00</td>\n",
       "      <td>(1000, 5000]</td>\n",
       "      <td>759.0</td>\n",
       "      <td>711.0</td>\n",
       "      <td>...</td>\n",
       "      <td>0.879905</td>\n",
       "      <td>0.746728</td>\n",
       "      <td>0.909680</td>\n",
       "      <td>0.887026</td>\n",
       "      <td>1.714989</td>\n",
       "      <td>2.376002</td>\n",
       "      <td>0.225905</td>\n",
       "      <td>1.828435</td>\n",
       "      <td>0.091608</td>\n",
       "      <td>0.985828</td>\n",
       "    </tr>\n",
       "    <tr>\n",
       "      <th>5399</th>\n",
       "      <td>100899</td>\n",
       "      <td>lizlizon *</td>\n",
       "      <td>471</td>\n",
       "      <td>78259900</td>\n",
       "      <td>83602925</td>\n",
       "      <td>2012-12-09 13:15:00</td>\n",
       "      <td>2013-12-27 03:05:00</td>\n",
       "      <td>(100, 1000]</td>\n",
       "      <td>0.0</td>\n",
       "      <td>164.0</td>\n",
       "      <td>...</td>\n",
       "      <td>0.886032</td>\n",
       "      <td>0.784745</td>\n",
       "      <td>0.897056</td>\n",
       "      <td>0.892494</td>\n",
       "      <td>1.794401</td>\n",
       "      <td>2.117271</td>\n",
       "      <td>0.214524</td>\n",
       "      <td>1.909488</td>\n",
       "      <td>0.113478</td>\n",
       "      <td>0.982347</td>\n",
       "    </tr>\n",
       "  </tbody>\n",
       "</table>\n",
       "<p>8 rows × 119 columns</p>\n",
       "</div>"
      ],
      "text/plain": [
       "       Author_Id               author  cnt_messages  First_Message_Id  \\\n",
       "3485       69715             lizon **          1274          49189796   \n",
       "17627     475085            Элиззи H*          3317          90184059   \n",
       "17566     472696          Кассиапея D          1093          89966258   \n",
       "19218     711697             Lizonn +           136          98135519   \n",
       "16940     424711  Joconda Mona Liza _           390          84147592   \n",
       "14771     300514        Lizon \" **K**           955          62997968   \n",
       "19739     731728           newyorck D          2142         100170690   \n",
       "5399      100899           lizlizon *           471          78259900   \n",
       "\n",
       "       Last_Message_Id    first_message_ts     last_message_ts  \\\n",
       "3485          62257633 2009-08-28 11:50:00 2010-12-07 23:18:00   \n",
       "17627         98561081 2015-07-26 22:11:00 2019-03-21 21:20:00   \n",
       "17566         98530888 2015-06-24 22:40:00 2019-03-16 15:05:00   \n",
       "19218         98598759 2018-12-29 16:55:00 2019-03-28 23:41:00   \n",
       "16940         89805527 2014-02-07 02:23:00 2015-06-04 17:02:00   \n",
       "14771         78899997 2011-01-04 14:22:00 2013-01-19 20:38:00   \n",
       "19739        103317149 2020-02-17 15:43:00 2021-09-16 20:49:00   \n",
       "5399          83602925 2012-12-09 13:15:00 2013-12-27 03:05:00   \n",
       "\n",
       "      Binned Number of Messages  cnt_2021_messages  num_of_tneg_messages  ...  \\\n",
       "3485               (1000, 5000]                0.0                 520.0  ...   \n",
       "17627              (1000, 5000]                0.0                1159.0  ...   \n",
       "17566              (1000, 5000]                0.0                 365.0  ...   \n",
       "19218               (100, 1000]                0.0                  35.0  ...   \n",
       "16940               (100, 1000]                0.0                 136.0  ...   \n",
       "14771               (100, 1000]                0.0                 370.0  ...   \n",
       "19739              (1000, 5000]              759.0                 711.0  ...   \n",
       "5399                (100, 1000]                0.0                 164.0  ...   \n",
       "\n",
       "        avg_TTR  avg_TTR_A  avg_TTR_N  avg_TTR_V   avg_NAV  avg_UNAV  \\\n",
       "3485   0.893255   0.727773   0.927792   0.903903  1.694372  1.987246   \n",
       "17627  0.878784   0.751416   0.903675   0.891083  1.758879  2.211228   \n",
       "17566  0.872310   0.752578   0.899809   0.877330  1.708850  2.180732   \n",
       "19218  0.882333   0.764493   0.895730   0.916748  1.807151  2.284331   \n",
       "16940  0.891069   0.782630   0.900957   0.898081  1.742168  2.004457   \n",
       "14771  0.901131   0.764044   0.924115   0.915488  1.770354  2.080300   \n",
       "19739  0.879905   0.746728   0.909680   0.887026  1.714989  2.376002   \n",
       "5399   0.886032   0.784745   0.897056   0.892494  1.794401  2.117271   \n",
       "\n",
       "       avg_fraction_of_Nouns   avg_ASW   avg_PLW  lizon_sim  \n",
       "3485                0.218237  1.887698  0.102372   1.000000  \n",
       "17627               0.210558  1.799589  0.092318   0.997940  \n",
       "17566               0.210773  1.799353  0.096391   0.997702  \n",
       "19218               0.210087  1.847633  0.097056   0.996895  \n",
       "16940               0.213476  1.843177  0.105652   0.996605  \n",
       "14771               0.219439  1.844406  0.096304   0.994347  \n",
       "19739               0.225905  1.828435  0.091608   0.985828  \n",
       "5399                0.214524  1.909488  0.113478   0.982347  \n",
       "\n",
       "[8 rows x 119 columns]"
      ]
     },
     "execution_count": 44,
     "metadata": {},
     "output_type": "execute_result"
    }
   ],
   "source": [
    "SimilarAuthors[SimilarAuthors['Author_Id'].isin([69715,300514,100899,424711,472696,475085,711697,731728])]"
   ]
  },
  {
   "cell_type": "code",
   "execution_count": 45,
   "metadata": {},
   "outputs": [
    {
     "data": {
      "text/html": [
       "<div>\n",
       "<style scoped>\n",
       "    .dataframe tbody tr th:only-of-type {\n",
       "        vertical-align: middle;\n",
       "    }\n",
       "\n",
       "    .dataframe tbody tr th {\n",
       "        vertical-align: top;\n",
       "    }\n",
       "\n",
       "    .dataframe thead th {\n",
       "        text-align: right;\n",
       "    }\n",
       "</style>\n",
       "<table border=\"1\" class=\"dataframe\">\n",
       "  <thead>\n",
       "    <tr style=\"text-align: right;\">\n",
       "      <th></th>\n",
       "      <th>Author_Id</th>\n",
       "      <th>author</th>\n",
       "      <th>cnt_messages</th>\n",
       "      <th>First_Message_Id</th>\n",
       "      <th>Last_Message_Id</th>\n",
       "      <th>first_message_ts</th>\n",
       "      <th>last_message_ts</th>\n",
       "      <th>Binned Number of Messages</th>\n",
       "      <th>cnt_2021_messages</th>\n",
       "      <th>num_of_tneg_messages</th>\n",
       "      <th>...</th>\n",
       "      <th>avg_TTR</th>\n",
       "      <th>avg_TTR_A</th>\n",
       "      <th>avg_TTR_N</th>\n",
       "      <th>avg_TTR_V</th>\n",
       "      <th>avg_NAV</th>\n",
       "      <th>avg_UNAV</th>\n",
       "      <th>avg_fraction_of_Nouns</th>\n",
       "      <th>avg_ASW</th>\n",
       "      <th>avg_PLW</th>\n",
       "      <th>lizon_sim</th>\n",
       "    </tr>\n",
       "  </thead>\n",
       "  <tbody>\n",
       "    <tr>\n",
       "      <th>18038</th>\n",
       "      <td>492389</td>\n",
       "      <td>id32060016 F**</td>\n",
       "      <td>167</td>\n",
       "      <td>94552308</td>\n",
       "      <td>103118353</td>\n",
       "      <td>2017-03-09 17:59:00</td>\n",
       "      <td>2021-08-02 22:32:00</td>\n",
       "      <td>(100, 1000]</td>\n",
       "      <td>0.0</td>\n",
       "      <td>65.0</td>\n",
       "      <td>...</td>\n",
       "      <td>0.899059</td>\n",
       "      <td>0.778150</td>\n",
       "      <td>0.917160</td>\n",
       "      <td>0.907656</td>\n",
       "      <td>1.786543</td>\n",
       "      <td>2.024365</td>\n",
       "      <td>0.270697</td>\n",
       "      <td>1.876330</td>\n",
       "      <td>0.086830</td>\n",
       "      <td>0.960762</td>\n",
       "    </tr>\n",
       "    <tr>\n",
       "      <th>14430</th>\n",
       "      <td>283990</td>\n",
       "      <td>Il segreto H*</td>\n",
       "      <td>255</td>\n",
       "      <td>62469252</td>\n",
       "      <td>99168769</td>\n",
       "      <td>2010-12-14 18:27:00</td>\n",
       "      <td>2019-07-22 00:04:00</td>\n",
       "      <td>(100, 1000]</td>\n",
       "      <td>0.0</td>\n",
       "      <td>107.0</td>\n",
       "      <td>...</td>\n",
       "      <td>0.877898</td>\n",
       "      <td>0.710177</td>\n",
       "      <td>0.917840</td>\n",
       "      <td>0.896751</td>\n",
       "      <td>1.673079</td>\n",
       "      <td>1.989966</td>\n",
       "      <td>0.200532</td>\n",
       "      <td>1.826354</td>\n",
       "      <td>0.083641</td>\n",
       "      <td>0.960754</td>\n",
       "    </tr>\n",
       "    <tr>\n",
       "      <th>14017</th>\n",
       "      <td>272443</td>\n",
       "      <td>Giny SD*</td>\n",
       "      <td>136</td>\n",
       "      <td>67866568</td>\n",
       "      <td>99955691</td>\n",
       "      <td>2011-07-03 19:37:00</td>\n",
       "      <td>2020-01-07 18:38:00</td>\n",
       "      <td>(100, 1000]</td>\n",
       "      <td>0.0</td>\n",
       "      <td>47.0</td>\n",
       "      <td>...</td>\n",
       "      <td>0.883695</td>\n",
       "      <td>0.787058</td>\n",
       "      <td>0.869659</td>\n",
       "      <td>0.920404</td>\n",
       "      <td>1.780714</td>\n",
       "      <td>1.959954</td>\n",
       "      <td>0.194448</td>\n",
       "      <td>1.742620</td>\n",
       "      <td>0.071489</td>\n",
       "      <td>0.960658</td>\n",
       "    </tr>\n",
       "    <tr>\n",
       "      <th>5590</th>\n",
       "      <td>103636</td>\n",
       "      <td>Yaja F</td>\n",
       "      <td>464</td>\n",
       "      <td>84386944</td>\n",
       "      <td>100781738</td>\n",
       "      <td>2014-02-22 03:57:00</td>\n",
       "      <td>2020-05-25 15:50:00</td>\n",
       "      <td>(100, 1000]</td>\n",
       "      <td>0.0</td>\n",
       "      <td>196.0</td>\n",
       "      <td>...</td>\n",
       "      <td>0.870896</td>\n",
       "      <td>0.594214</td>\n",
       "      <td>0.907890</td>\n",
       "      <td>0.909075</td>\n",
       "      <td>1.544486</td>\n",
       "      <td>1.646318</td>\n",
       "      <td>0.206442</td>\n",
       "      <td>1.821358</td>\n",
       "      <td>0.076211</td>\n",
       "      <td>0.960476</td>\n",
       "    </tr>\n",
       "    <tr>\n",
       "      <th>8505</th>\n",
       "      <td>150162</td>\n",
       "      <td>twingo1 D</td>\n",
       "      <td>364</td>\n",
       "      <td>66778954</td>\n",
       "      <td>103086987</td>\n",
       "      <td>2011-05-12 22:47:00</td>\n",
       "      <td>2021-07-27 16:18:00</td>\n",
       "      <td>(100, 1000]</td>\n",
       "      <td>0.0</td>\n",
       "      <td>109.0</td>\n",
       "      <td>...</td>\n",
       "      <td>0.923722</td>\n",
       "      <td>0.806684</td>\n",
       "      <td>0.959305</td>\n",
       "      <td>0.916087</td>\n",
       "      <td>1.777846</td>\n",
       "      <td>2.270575</td>\n",
       "      <td>0.216430</td>\n",
       "      <td>1.975135</td>\n",
       "      <td>0.113492</td>\n",
       "      <td>0.960152</td>\n",
       "    </tr>\n",
       "  </tbody>\n",
       "</table>\n",
       "<p>5 rows × 119 columns</p>\n",
       "</div>"
      ],
      "text/plain": [
       "       Author_Id          author  cnt_messages  First_Message_Id  \\\n",
       "18038     492389  id32060016 F**           167          94552308   \n",
       "14430     283990   Il segreto H*           255          62469252   \n",
       "14017     272443        Giny SD*           136          67866568   \n",
       "5590      103636          Yaja F           464          84386944   \n",
       "8505      150162       twingo1 D           364          66778954   \n",
       "\n",
       "       Last_Message_Id    first_message_ts     last_message_ts  \\\n",
       "18038        103118353 2017-03-09 17:59:00 2021-08-02 22:32:00   \n",
       "14430         99168769 2010-12-14 18:27:00 2019-07-22 00:04:00   \n",
       "14017         99955691 2011-07-03 19:37:00 2020-01-07 18:38:00   \n",
       "5590         100781738 2014-02-22 03:57:00 2020-05-25 15:50:00   \n",
       "8505         103086987 2011-05-12 22:47:00 2021-07-27 16:18:00   \n",
       "\n",
       "      Binned Number of Messages  cnt_2021_messages  num_of_tneg_messages  ...  \\\n",
       "18038               (100, 1000]                0.0                  65.0  ...   \n",
       "14430               (100, 1000]                0.0                 107.0  ...   \n",
       "14017               (100, 1000]                0.0                  47.0  ...   \n",
       "5590                (100, 1000]                0.0                 196.0  ...   \n",
       "8505                (100, 1000]                0.0                 109.0  ...   \n",
       "\n",
       "        avg_TTR  avg_TTR_A  avg_TTR_N  avg_TTR_V   avg_NAV  avg_UNAV  \\\n",
       "18038  0.899059   0.778150   0.917160   0.907656  1.786543  2.024365   \n",
       "14430  0.877898   0.710177   0.917840   0.896751  1.673079  1.989966   \n",
       "14017  0.883695   0.787058   0.869659   0.920404  1.780714  1.959954   \n",
       "5590   0.870896   0.594214   0.907890   0.909075  1.544486  1.646318   \n",
       "8505   0.923722   0.806684   0.959305   0.916087  1.777846  2.270575   \n",
       "\n",
       "       avg_fraction_of_Nouns   avg_ASW   avg_PLW  lizon_sim  \n",
       "18038               0.270697  1.876330  0.086830   0.960762  \n",
       "14430               0.200532  1.826354  0.083641   0.960754  \n",
       "14017               0.194448  1.742620  0.071489   0.960658  \n",
       "5590                0.206442  1.821358  0.076211   0.960476  \n",
       "8505                0.216430  1.975135  0.113492   0.960152  \n",
       "\n",
       "[5 rows x 119 columns]"
      ]
     },
     "execution_count": 45,
     "metadata": {},
     "output_type": "execute_result"
    }
   ],
   "source": [
    "SimilarAuthors.tail()"
   ]
  },
  {
   "cell_type": "code",
   "execution_count": 46,
   "metadata": {},
   "outputs": [
    {
     "data": {
      "text/html": [
       "<div>\n",
       "<style scoped>\n",
       "    .dataframe tbody tr th:only-of-type {\n",
       "        vertical-align: middle;\n",
       "    }\n",
       "\n",
       "    .dataframe tbody tr th {\n",
       "        vertical-align: top;\n",
       "    }\n",
       "\n",
       "    .dataframe thead th {\n",
       "        text-align: right;\n",
       "    }\n",
       "</style>\n",
       "<table border=\"1\" class=\"dataframe\">\n",
       "  <thead>\n",
       "    <tr style=\"text-align: right;\">\n",
       "      <th></th>\n",
       "      <th>Author_Id</th>\n",
       "      <th>author</th>\n",
       "      <th>cnt_messages</th>\n",
       "      <th>First_Message_Id</th>\n",
       "      <th>Last_Message_Id</th>\n",
       "      <th>first_message_ts</th>\n",
       "      <th>last_message_ts</th>\n",
       "      <th>Binned Number of Messages</th>\n",
       "      <th>cnt_2021_messages</th>\n",
       "      <th>num_of_tneg_messages</th>\n",
       "      <th>...</th>\n",
       "      <th>avg_TTR</th>\n",
       "      <th>avg_TTR_A</th>\n",
       "      <th>avg_TTR_N</th>\n",
       "      <th>avg_TTR_V</th>\n",
       "      <th>avg_NAV</th>\n",
       "      <th>avg_UNAV</th>\n",
       "      <th>avg_fraction_of_Nouns</th>\n",
       "      <th>avg_ASW</th>\n",
       "      <th>avg_PLW</th>\n",
       "      <th>lizon_sim</th>\n",
       "    </tr>\n",
       "  </thead>\n",
       "  <tbody>\n",
       "    <tr>\n",
       "      <th>3485</th>\n",
       "      <td>69715</td>\n",
       "      <td>lizon **</td>\n",
       "      <td>1274</td>\n",
       "      <td>49189796</td>\n",
       "      <td>62257633</td>\n",
       "      <td>2009-08-28 11:50:00</td>\n",
       "      <td>2010-12-07 23:18:00</td>\n",
       "      <td>(1000, 5000]</td>\n",
       "      <td>0.0</td>\n",
       "      <td>520.0</td>\n",
       "      <td>...</td>\n",
       "      <td>0.893255</td>\n",
       "      <td>0.727773</td>\n",
       "      <td>0.927792</td>\n",
       "      <td>0.903903</td>\n",
       "      <td>1.694372</td>\n",
       "      <td>1.987246</td>\n",
       "      <td>0.218237</td>\n",
       "      <td>1.887698</td>\n",
       "      <td>0.102372</td>\n",
       "      <td>1.000000</td>\n",
       "    </tr>\n",
       "    <tr>\n",
       "      <th>14695</th>\n",
       "      <td>296493</td>\n",
       "      <td>Ленкаа SD**</td>\n",
       "      <td>1502</td>\n",
       "      <td>65364505</td>\n",
       "      <td>98686725</td>\n",
       "      <td>2011-03-24 15:41:00</td>\n",
       "      <td>2019-04-13 15:55:00</td>\n",
       "      <td>(1000, 5000]</td>\n",
       "      <td>0.0</td>\n",
       "      <td>761.0</td>\n",
       "      <td>...</td>\n",
       "      <td>0.879763</td>\n",
       "      <td>0.708290</td>\n",
       "      <td>0.903753</td>\n",
       "      <td>0.909783</td>\n",
       "      <td>1.703710</td>\n",
       "      <td>1.810607</td>\n",
       "      <td>0.220513</td>\n",
       "      <td>1.816440</td>\n",
       "      <td>0.077950</td>\n",
       "      <td>0.999307</td>\n",
       "    </tr>\n",
       "    <tr>\n",
       "      <th>20291</th>\n",
       "      <td>751973</td>\n",
       "      <td>Canari KF*</td>\n",
       "      <td>621</td>\n",
       "      <td>101951222</td>\n",
       "      <td>103020466</td>\n",
       "      <td>2020-12-24 14:14:00</td>\n",
       "      <td>2021-07-14 13:35:00</td>\n",
       "      <td>(100, 1000]</td>\n",
       "      <td>275.0</td>\n",
       "      <td>205.0</td>\n",
       "      <td>...</td>\n",
       "      <td>0.849056</td>\n",
       "      <td>0.566851</td>\n",
       "      <td>0.903223</td>\n",
       "      <td>0.884859</td>\n",
       "      <td>1.460159</td>\n",
       "      <td>1.758969</td>\n",
       "      <td>0.210652</td>\n",
       "      <td>1.811461</td>\n",
       "      <td>0.077361</td>\n",
       "      <td>0.998967</td>\n",
       "    </tr>\n",
       "    <tr>\n",
       "      <th>17627</th>\n",
       "      <td>475085</td>\n",
       "      <td>Элиззи H*</td>\n",
       "      <td>3317</td>\n",
       "      <td>90184059</td>\n",
       "      <td>98561081</td>\n",
       "      <td>2015-07-26 22:11:00</td>\n",
       "      <td>2019-03-21 21:20:00</td>\n",
       "      <td>(1000, 5000]</td>\n",
       "      <td>0.0</td>\n",
       "      <td>1159.0</td>\n",
       "      <td>...</td>\n",
       "      <td>0.878784</td>\n",
       "      <td>0.751416</td>\n",
       "      <td>0.903675</td>\n",
       "      <td>0.891083</td>\n",
       "      <td>1.758879</td>\n",
       "      <td>2.211228</td>\n",
       "      <td>0.210558</td>\n",
       "      <td>1.799589</td>\n",
       "      <td>0.092318</td>\n",
       "      <td>0.997940</td>\n",
       "    </tr>\n",
       "    <tr>\n",
       "      <th>17566</th>\n",
       "      <td>472696</td>\n",
       "      <td>Кассиапея D</td>\n",
       "      <td>1093</td>\n",
       "      <td>89966258</td>\n",
       "      <td>98530888</td>\n",
       "      <td>2015-06-24 22:40:00</td>\n",
       "      <td>2019-03-16 15:05:00</td>\n",
       "      <td>(1000, 5000]</td>\n",
       "      <td>0.0</td>\n",
       "      <td>365.0</td>\n",
       "      <td>...</td>\n",
       "      <td>0.872310</td>\n",
       "      <td>0.752578</td>\n",
       "      <td>0.899809</td>\n",
       "      <td>0.877330</td>\n",
       "      <td>1.708850</td>\n",
       "      <td>2.180732</td>\n",
       "      <td>0.210773</td>\n",
       "      <td>1.799353</td>\n",
       "      <td>0.096391</td>\n",
       "      <td>0.997702</td>\n",
       "    </tr>\n",
       "  </tbody>\n",
       "</table>\n",
       "<p>5 rows × 119 columns</p>\n",
       "</div>"
      ],
      "text/plain": [
       "       Author_Id       author  cnt_messages  First_Message_Id  \\\n",
       "3485       69715     lizon **          1274          49189796   \n",
       "14695     296493  Ленкаа SD**          1502          65364505   \n",
       "20291     751973   Canari KF*           621         101951222   \n",
       "17627     475085    Элиззи H*          3317          90184059   \n",
       "17566     472696  Кассиапея D          1093          89966258   \n",
       "\n",
       "       Last_Message_Id    first_message_ts     last_message_ts  \\\n",
       "3485          62257633 2009-08-28 11:50:00 2010-12-07 23:18:00   \n",
       "14695         98686725 2011-03-24 15:41:00 2019-04-13 15:55:00   \n",
       "20291        103020466 2020-12-24 14:14:00 2021-07-14 13:35:00   \n",
       "17627         98561081 2015-07-26 22:11:00 2019-03-21 21:20:00   \n",
       "17566         98530888 2015-06-24 22:40:00 2019-03-16 15:05:00   \n",
       "\n",
       "      Binned Number of Messages  cnt_2021_messages  num_of_tneg_messages  ...  \\\n",
       "3485               (1000, 5000]                0.0                 520.0  ...   \n",
       "14695              (1000, 5000]                0.0                 761.0  ...   \n",
       "20291               (100, 1000]              275.0                 205.0  ...   \n",
       "17627              (1000, 5000]                0.0                1159.0  ...   \n",
       "17566              (1000, 5000]                0.0                 365.0  ...   \n",
       "\n",
       "        avg_TTR  avg_TTR_A  avg_TTR_N  avg_TTR_V   avg_NAV  avg_UNAV  \\\n",
       "3485   0.893255   0.727773   0.927792   0.903903  1.694372  1.987246   \n",
       "14695  0.879763   0.708290   0.903753   0.909783  1.703710  1.810607   \n",
       "20291  0.849056   0.566851   0.903223   0.884859  1.460159  1.758969   \n",
       "17627  0.878784   0.751416   0.903675   0.891083  1.758879  2.211228   \n",
       "17566  0.872310   0.752578   0.899809   0.877330  1.708850  2.180732   \n",
       "\n",
       "       avg_fraction_of_Nouns   avg_ASW   avg_PLW  lizon_sim  \n",
       "3485                0.218237  1.887698  0.102372   1.000000  \n",
       "14695               0.220513  1.816440  0.077950   0.999307  \n",
       "20291               0.210652  1.811461  0.077361   0.998967  \n",
       "17627               0.210558  1.799589  0.092318   0.997940  \n",
       "17566               0.210773  1.799353  0.096391   0.997702  \n",
       "\n",
       "[5 rows x 119 columns]"
      ]
     },
     "execution_count": 46,
     "metadata": {},
     "output_type": "execute_result"
    }
   ],
   "source": [
    "SimilarAuthors.head()"
   ]
  },
  {
   "cell_type": "markdown",
   "metadata": {},
   "source": [
    "## Messages to analyze"
   ]
  },
  {
   "cell_type": "code",
   "execution_count": 47,
   "metadata": {},
   "outputs": [],
   "source": [
    "SimilarAuthors = pd.read_csv(SimilarAuthors_full_filename, error_bad_lines=False, index_col=False)"
   ]
  },
  {
   "cell_type": "code",
   "execution_count": 48,
   "metadata": {},
   "outputs": [],
   "source": [
    "Messages = pd.read_csv(Messages_full_filename, error_bad_lines=False, index_col=False)"
   ]
  },
  {
   "cell_type": "code",
   "execution_count": 49,
   "metadata": {},
   "outputs": [],
   "source": [
    "SMessages=pd.merge(Messages, SimilarAuthors[['Author_Id']], left_on='Author_Id', right_on='Author_Id', how='inner')"
   ]
  },
  {
   "cell_type": "code",
   "execution_count": 50,
   "metadata": {},
   "outputs": [],
   "source": [
    "del Messages"
   ]
  },
  {
   "cell_type": "code",
   "execution_count": 51,
   "metadata": {},
   "outputs": [
    {
     "data": {
      "text/plain": [
       "369130"
      ]
     },
     "execution_count": 51,
     "metadata": {},
     "output_type": "execute_result"
    }
   ],
   "source": [
    "len(SMessages)"
   ]
  },
  {
   "cell_type": "markdown",
   "metadata": {},
   "source": [
    "Medium Size messages only (need to load additional data)"
   ]
  },
  {
   "cell_type": "code",
   "execution_count": 52,
   "metadata": {},
   "outputs": [],
   "source": [
    "ta_ext = pd.read_csv(ta_extension_full_filename, error_bad_lines=False, index_col=False) "
   ]
  },
  {
   "cell_type": "code",
   "execution_count": 53,
   "metadata": {},
   "outputs": [],
   "source": [
    "SMessages=pd.merge(SMessages, ta_ext[['Message_Id', 'message_words']], left_on='Message_Id', right_on='Message_Id', how='inner')"
   ]
  },
  {
   "cell_type": "code",
   "execution_count": 54,
   "metadata": {},
   "outputs": [],
   "source": [
    "del ta_ext"
   ]
  },
  {
   "cell_type": "code",
   "execution_count": 55,
   "metadata": {},
   "outputs": [],
   "source": [
    "SMessages= SMessages[((SMessages['message_words']>short_message_limit_words) & (SMessages['message_words']<=medium_message_limit_words))]"
   ]
  },
  {
   "cell_type": "code",
   "execution_count": 56,
   "metadata": {},
   "outputs": [
    {
     "data": {
      "text/plain": [
       "296782"
      ]
     },
     "execution_count": 56,
     "metadata": {},
     "output_type": "execute_result"
    }
   ],
   "source": [
    "len(SMessages)"
   ]
  },
  {
   "cell_type": "markdown",
   "metadata": {},
   "source": [
    "Joining original forum post text, without cleaning html tags etc"
   ]
  },
  {
   "cell_type": "code",
   "execution_count": 57,
   "metadata": {},
   "outputs": [],
   "source": [
    "OriginalMessages = pd.read_csv(OriginalMessages_full_filename, error_bad_lines=False, index_col=False)"
   ]
  },
  {
   "cell_type": "code",
   "execution_count": 58,
   "metadata": {},
   "outputs": [],
   "source": [
    "SMessages=pd.merge(SMessages, OriginalMessages[['Message_Id','original_message']], left_on='Message_Id', right_on='Message_Id', how='inner')"
   ]
  },
  {
   "cell_type": "code",
   "execution_count": 59,
   "metadata": {},
   "outputs": [],
   "source": [
    "del OriginalMessages"
   ]
  },
  {
   "cell_type": "code",
   "execution_count": 60,
   "metadata": {},
   "outputs": [
    {
     "data": {
      "text/plain": [
       "Index(['Message_Id', 'Timestamp', 'Topic_1st_Message', 'Parent_Id',\n",
       "       'Author_Id', 'author', 'Topic_Id', 'Topic', 'Chapter_Id', 'Chapter',\n",
       "       'message', 'cnt_childs', 'cnt_immediate_childs', 'message_words',\n",
       "       'original_message'],\n",
       "      dtype='object')"
      ]
     },
     "execution_count": 60,
     "metadata": {},
     "output_type": "execute_result"
    }
   ],
   "source": [
    "SMessages.columns"
   ]
  },
  {
   "cell_type": "code",
   "execution_count": 61,
   "metadata": {},
   "outputs": [],
   "source": [
    "SMessages=SMessages[['Message_Id', 'Timestamp', 'Topic_1st_Message', 'Parent_Id',\n",
    "       'Author_Id',  'Topic_Id', 'Topic', 'Chapter_Id', 'Chapter',\n",
    "       'original_message', 'message', 'cnt_childs', 'cnt_immediate_childs']]"
   ]
  },
  {
   "cell_type": "markdown",
   "metadata": {},
   "source": [
    "Unifing author names (can vary in posts) for further analysis"
   ]
  },
  {
   "cell_type": "code",
   "execution_count": 62,
   "metadata": {},
   "outputs": [],
   "source": [
    "#Authors = pd.read_csv(Authors_full_filename, error_bad_lines=False, index_col=False)"
   ]
  },
  {
   "cell_type": "code",
   "execution_count": 63,
   "metadata": {},
   "outputs": [],
   "source": [
    "SMessages=pd.merge(SMessages, Authors[['Author_Id','author']],left_on='Author_Id', right_on='Author_Id', how='inner')"
   ]
  },
  {
   "cell_type": "code",
   "execution_count": 64,
   "metadata": {},
   "outputs": [
    {
     "data": {
      "text/plain": [
       "296782"
      ]
     },
     "execution_count": 64,
     "metadata": {},
     "output_type": "execute_result"
    }
   ],
   "source": [
    "len(SMessages)"
   ]
  },
  {
   "cell_type": "code",
   "execution_count": 65,
   "metadata": {},
   "outputs": [
    {
     "data": {
      "text/html": [
       "<div>\n",
       "<style scoped>\n",
       "    .dataframe tbody tr th:only-of-type {\n",
       "        vertical-align: middle;\n",
       "    }\n",
       "\n",
       "    .dataframe tbody tr th {\n",
       "        vertical-align: top;\n",
       "    }\n",
       "\n",
       "    .dataframe thead th {\n",
       "        text-align: right;\n",
       "    }\n",
       "</style>\n",
       "<table border=\"1\" class=\"dataframe\">\n",
       "  <thead>\n",
       "    <tr style=\"text-align: right;\">\n",
       "      <th></th>\n",
       "      <th>Message_Id</th>\n",
       "      <th>Timestamp</th>\n",
       "      <th>Topic_1st_Message</th>\n",
       "      <th>Parent_Id</th>\n",
       "      <th>Author_Id</th>\n",
       "      <th>Topic_Id</th>\n",
       "      <th>Topic</th>\n",
       "      <th>Chapter_Id</th>\n",
       "      <th>Chapter</th>\n",
       "      <th>original_message</th>\n",
       "      <th>message</th>\n",
       "      <th>cnt_childs</th>\n",
       "      <th>cnt_immediate_childs</th>\n",
       "      <th>author</th>\n",
       "    </tr>\n",
       "  </thead>\n",
       "  <tbody>\n",
       "    <tr>\n",
       "      <th>0</th>\n",
       "      <td>90328113</td>\n",
       "      <td>2015-08-17 22:06:00</td>\n",
       "      <td>N</td>\n",
       "      <td>0</td>\n",
       "      <td>72667</td>\n",
       "      <td>3372512</td>\n",
       "      <td>секции плавания</td>\n",
       "      <td>137</td>\n",
       "      <td>Детская психология и развитие</td>\n",
       "      <td>&lt;div class=\"body\"&gt;А можно ли сразу сориентиров...</td>\n",
       "      <td>А можно ли сразу сориентировать именно на спор...</td>\n",
       "      <td>7</td>\n",
       "      <td>2</td>\n",
       "      <td>kathy04 H*</td>\n",
       "    </tr>\n",
       "    <tr>\n",
       "      <th>1</th>\n",
       "      <td>92104197</td>\n",
       "      <td>2016-03-15 11:17:00</td>\n",
       "      <td>N</td>\n",
       "      <td>0</td>\n",
       "      <td>72667</td>\n",
       "      <td>3419591</td>\n",
       "      <td>Дети красивые</td>\n",
       "      <td>137</td>\n",
       "      <td>Детская психология и развитие</td>\n",
       "      <td>&lt;div class=\"body\"&gt;Присоединяюсь. У ребенка не ...</td>\n",
       "      <td>Присоединяюсь. У ребенка не будет комплексов, ...</td>\n",
       "      <td>3</td>\n",
       "      <td>1</td>\n",
       "      <td>kathy04 H*</td>\n",
       "    </tr>\n",
       "    <tr>\n",
       "      <th>2</th>\n",
       "      <td>92841631</td>\n",
       "      <td>2016-06-24 18:39:00</td>\n",
       "      <td>N</td>\n",
       "      <td>0</td>\n",
       "      <td>72667</td>\n",
       "      <td>3437299</td>\n",
       "      <td>попрошайка</td>\n",
       "      <td>137</td>\n",
       "      <td>Детская психология и развитие</td>\n",
       "      <td>&lt;div class=\"body\"&gt;Мне лично кажется, что это о...</td>\n",
       "      <td>Мне лично кажется, что это отголосок американс...</td>\n",
       "      <td>0</td>\n",
       "      <td>0</td>\n",
       "      <td>kathy04 H*</td>\n",
       "    </tr>\n",
       "    <tr>\n",
       "      <th>3</th>\n",
       "      <td>92838747</td>\n",
       "      <td>2016-06-24 11:30:00</td>\n",
       "      <td>N</td>\n",
       "      <td>92838447</td>\n",
       "      <td>72667</td>\n",
       "      <td>3437454</td>\n",
       "      <td>Что умела 10-летняя девочка 100 лет назад на Р...</td>\n",
       "      <td>137</td>\n",
       "      <td>Детская психология и развитие</td>\n",
       "      <td>&lt;div class=\"body\"&gt;Это больше советское выражен...</td>\n",
       "      <td>Это больше советское выражение, хотя было в хо...</td>\n",
       "      <td>4</td>\n",
       "      <td>1</td>\n",
       "      <td>kathy04 H*</td>\n",
       "    </tr>\n",
       "    <tr>\n",
       "      <th>4</th>\n",
       "      <td>92838772</td>\n",
       "      <td>2016-06-24 11:34:00</td>\n",
       "      <td>N</td>\n",
       "      <td>92838615</td>\n",
       "      <td>72667</td>\n",
       "      <td>3437454</td>\n",
       "      <td>Что умела 10-летняя девочка 100 лет назад на Р...</td>\n",
       "      <td>137</td>\n",
       "      <td>Детская психология и развитие</td>\n",
       "      <td>&lt;div class=\"body\"&gt;Весь вопрос в размерах помощ...</td>\n",
       "      <td>Весь вопрос в размерах помощи. На мне реально ...</td>\n",
       "      <td>0</td>\n",
       "      <td>0</td>\n",
       "      <td>kathy04 H*</td>\n",
       "    </tr>\n",
       "  </tbody>\n",
       "</table>\n",
       "</div>"
      ],
      "text/plain": [
       "   Message_Id            Timestamp Topic_1st_Message  Parent_Id  Author_Id  \\\n",
       "0    90328113  2015-08-17 22:06:00                 N          0      72667   \n",
       "1    92104197  2016-03-15 11:17:00                 N          0      72667   \n",
       "2    92841631  2016-06-24 18:39:00                 N          0      72667   \n",
       "3    92838747  2016-06-24 11:30:00                 N   92838447      72667   \n",
       "4    92838772  2016-06-24 11:34:00                 N   92838615      72667   \n",
       "\n",
       "   Topic_Id                                              Topic  Chapter_Id  \\\n",
       "0   3372512                                    секции плавания         137   \n",
       "1   3419591                                      Дети красивые         137   \n",
       "2   3437299                                         попрошайка         137   \n",
       "3   3437454  Что умела 10-летняя девочка 100 лет назад на Р...         137   \n",
       "4   3437454  Что умела 10-летняя девочка 100 лет назад на Р...         137   \n",
       "\n",
       "                         Chapter  \\\n",
       "0  Детская психология и развитие   \n",
       "1  Детская психология и развитие   \n",
       "2  Детская психология и развитие   \n",
       "3  Детская психология и развитие   \n",
       "4  Детская психология и развитие   \n",
       "\n",
       "                                    original_message  \\\n",
       "0  <div class=\"body\">А можно ли сразу сориентиров...   \n",
       "1  <div class=\"body\">Присоединяюсь. У ребенка не ...   \n",
       "2  <div class=\"body\">Мне лично кажется, что это о...   \n",
       "3  <div class=\"body\">Это больше советское выражен...   \n",
       "4  <div class=\"body\">Весь вопрос в размерах помощ...   \n",
       "\n",
       "                                             message  cnt_childs  \\\n",
       "0  А можно ли сразу сориентировать именно на спор...           7   \n",
       "1  Присоединяюсь. У ребенка не будет комплексов, ...           3   \n",
       "2  Мне лично кажется, что это отголосок американс...           0   \n",
       "3  Это больше советское выражение, хотя было в хо...           4   \n",
       "4  Весь вопрос в размерах помощи. На мне реально ...           0   \n",
       "\n",
       "   cnt_immediate_childs      author  \n",
       "0                     2  kathy04 H*  \n",
       "1                     1  kathy04 H*  \n",
       "2                     0  kathy04 H*  \n",
       "3                     1  kathy04 H*  \n",
       "4                     0  kathy04 H*  "
      ]
     },
     "execution_count": 65,
     "metadata": {},
     "output_type": "execute_result"
    }
   ],
   "source": [
    "SMessages.head()"
   ]
  },
  {
   "cell_type": "code",
   "execution_count": 66,
   "metadata": {},
   "outputs": [],
   "source": [
    "SMessages.to_csv(all_lizon_messages_full_filename, header=True, index=False)"
   ]
  },
  {
   "cell_type": "code",
   "execution_count": 67,
   "metadata": {},
   "outputs": [
    {
     "data": {
      "text/plain": [
       "array([ 69715, 475085, 472696, 711697, 424711, 300514, 731728, 100899])"
      ]
     },
     "execution_count": 67,
     "metadata": {},
     "output_type": "execute_result"
    }
   ],
   "source": [
    "SimilarAuthors[SimilarAuthors['Author_Id'].isin([69715,300514,100899,424711,472696,475085,711697,731728])]['Author_Id'].unique()"
   ]
  }
 ],
 "metadata": {
  "colab": {
   "collapsed_sections": [],
   "machine_shape": "hm",
   "name": "Eva Text Similarity.ipynb",
   "provenance": []
  },
  "kernelspec": {
   "display_name": "Python 3",
   "language": "python",
   "name": "python3"
  },
  "language_info": {
   "codemirror_mode": {
    "name": "ipython",
    "version": 3
   },
   "file_extension": ".py",
   "mimetype": "text/x-python",
   "name": "python",
   "nbconvert_exporter": "python",
   "pygments_lexer": "ipython3",
   "version": "3.8.5"
  }
 },
 "nbformat": 4,
 "nbformat_minor": 4
}
