{
 "cells": [
  {
   "cell_type": "markdown",
   "metadata": {},
   "source": [
    "The code below creates datasets for tuning and modeling (research clones) ФедЮля user eva.ru"
   ]
  },
  {
   "cell_type": "code",
   "execution_count": 1,
   "metadata": {
    "id": "_dtHIFcGoF8V"
   },
   "outputs": [],
   "source": [
    "import os\n",
    "import datetime\n",
    "import pandas as pd\n",
    "import numpy as np"
   ]
  },
  {
   "cell_type": "code",
   "execution_count": 2,
   "metadata": {},
   "outputs": [],
   "source": [
    "#There are 2 authors with the same name and different IDs existed at the same period of time\n",
    "fedulya_ids = [250487,186159]\n"
   ]
  },
  {
   "cell_type": "code",
   "execution_count": 3,
   "metadata": {
    "id": "byo5RoPmoLVJ"
   },
   "outputs": [],
   "source": [
    "Data='/home/kate/Projects/eva/Data'\n",
    "\n",
    "Messages_filename='Main/Messages.csv'\n",
    "Messages_full_filename=os.path.join(Data, Messages_filename)\n",
    "\n",
    "OriginalMessages_filename='Main/OriginalMessages.csv'\n",
    "OriginalMessages_full_filename=os.path.join(Data, OriginalMessages_filename)\n",
    "\n",
    "Authors_filename='Main/Authors.csv'\n",
    "Authors_full_filename=os.path.join(Data, Authors_filename)\n",
    "\n",
    "ta_extension_filename='Main/TextAttributes_ext.csv'\n",
    "ta_extension_full_filename=os.path.join(Data, ta_extension_filename)\n",
    "\n",
    "\n",
    "ft_filename='Subprojects/Fedulya/fedulya_data_for_finetuning.csv'\n",
    "ft_full_filename=os.path.join(Data, ft_filename)\n",
    "\n",
    "\n",
    "SimilarAuthors_filename='Subprojects/Fedulya/fedulya_similar_authors.csv'\n",
    "SimilarAuthors_full_filename=os.path.join(Data, SimilarAuthors_filename)\n",
    "\n",
    "all_fedulya_messages_filename='Subprojects/Fedulya/all_fedulya_and_clones_messages.csv'\n",
    "all_fedulya_messages_full_filename=os.path.join(Data, all_fedulya_messages_filename)\n",
    "\n",
    "#medium size posts\n",
    "short_message_limit_words=5\n",
    "medium_message_limit_words=100"
   ]
  },
  {
   "cell_type": "code",
   "execution_count": 4,
   "metadata": {
    "id": "94HrRE9Moduk"
   },
   "outputs": [],
   "source": [
    "Messages = pd.read_csv(Messages_full_filename, error_bad_lines=False, index_col=False)"
   ]
  },
  {
   "cell_type": "code",
   "execution_count": 5,
   "metadata": {},
   "outputs": [],
   "source": [
    "AMessages = Messages[Messages['Author_Id']!=0].copy(deep=True)"
   ]
  },
  {
   "cell_type": "code",
   "execution_count": 6,
   "metadata": {},
   "outputs": [],
   "source": [
    "del Messages"
   ]
  },
  {
   "cell_type": "markdown",
   "metadata": {},
   "source": [
    "## Messages, no less then 5 and no more then 100 words, from all topics where first 2 Fedulyas present"
   ]
  },
  {
   "cell_type": "code",
   "execution_count": 7,
   "metadata": {},
   "outputs": [],
   "source": [
    "topic_id_with_fedulya=AMessages[AMessages['Author_Id'].isin(fedulya_ids)]['Topic_Id'].unique()"
   ]
  },
  {
   "cell_type": "code",
   "execution_count": 8,
   "metadata": {},
   "outputs": [
    {
     "data": {
      "text/plain": [
       "678"
      ]
     },
     "execution_count": 8,
     "metadata": {},
     "output_type": "execute_result"
    }
   ],
   "source": [
    "len(topic_id_with_fedulya)"
   ]
  },
  {
   "cell_type": "code",
   "execution_count": 9,
   "metadata": {},
   "outputs": [],
   "source": [
    "AMessages=AMessages[AMessages['Topic_Id'].isin(topic_id_with_fedulya)].copy(deep=True)"
   ]
  },
  {
   "cell_type": "code",
   "execution_count": 10,
   "metadata": {},
   "outputs": [],
   "source": [
    "AMessages=AMessages[AMessages['Author_Id']!=0]"
   ]
  },
  {
   "cell_type": "code",
   "execution_count": 11,
   "metadata": {},
   "outputs": [
    {
     "data": {
      "text/plain": [
       "57306"
      ]
     },
     "execution_count": 11,
     "metadata": {},
     "output_type": "execute_result"
    }
   ],
   "source": [
    "len(AMessages)"
   ]
  },
  {
   "cell_type": "code",
   "execution_count": 12,
   "metadata": {},
   "outputs": [
    {
     "data": {
      "text/plain": [
       "Index(['Message_Id', 'Timestamp', 'Topic_1st_Message', 'Parent_Id',\n",
       "       'Author_Id', 'author', 'Topic_Id', 'Topic', 'Chapter_Id', 'Chapter',\n",
       "       'message', 'cnt_childs', 'cnt_immediate_childs'],\n",
       "      dtype='object')"
      ]
     },
     "execution_count": 12,
     "metadata": {},
     "output_type": "execute_result"
    }
   ],
   "source": [
    "AMessages.columns"
   ]
  },
  {
   "cell_type": "markdown",
   "metadata": {},
   "source": [
    "There is no length of message in words in AMessage dataset, load additional data"
   ]
  },
  {
   "cell_type": "code",
   "execution_count": 13,
   "metadata": {},
   "outputs": [],
   "source": [
    "ta_ext = pd.read_csv(ta_extension_full_filename, error_bad_lines=False, index_col=False)"
   ]
  },
  {
   "cell_type": "code",
   "execution_count": 14,
   "metadata": {},
   "outputs": [
    {
     "data": {
      "text/plain": [
       "Index(['Message_Id', 'Timestamp', 'Topic_1st_Message', 'Parent_Id',\n",
       "       'Author_Id', 'author', 'Topic_Id', 'Topic', 'Chapter_Id', 'Chapter',\n",
       "       'message_characters', 'message_words', 'emojis', 'images', 'links',\n",
       "       'original_paragraphs', 'actual_paragraphs', 'avg_paragraph_characters',\n",
       "       'avg_paragraph_words', 'cnt_childs', 'cnt_immediate_childs',\n",
       "       'flg_excessive_exclamations', 'flg_excessive_questions',\n",
       "       'flg_excessive_other', 'num_Adj', 'num_unique_Adj', 'num_Nouns',\n",
       "       'num_unique_Nouns', 'num_Verb', 'num_unique_Verb', 'num_tokens',\n",
       "       'num_unique_tokens', 'num_syllables', 'num_long_words',\n",
       "       'num_unique_long_words', 'num_commas', 'num_exclamations',\n",
       "       'num_questions', 'num_words', 'ASW', 'PLW', 'TTR', 'TTR_A', 'TTR_N',\n",
       "       'TTR_V', 'NAV', 'UNAV', 'fraction_of_commas',\n",
       "       'fraction_of_exclamations', 'fraction_of_questions', 'fraction_of_Adj',\n",
       "       'fraction_of_Nouns', 'fraction_of_Verbs', 'num_sent', 'avg_sent_len'],\n",
       "      dtype='object')"
      ]
     },
     "execution_count": 14,
     "metadata": {},
     "output_type": "execute_result"
    }
   ],
   "source": [
    "ta_ext.columns"
   ]
  },
  {
   "cell_type": "code",
   "execution_count": 15,
   "metadata": {},
   "outputs": [],
   "source": [
    "AMessages=pd.merge(AMessages, ta_ext[['Message_Id','message_words']], left_on='Message_Id', right_on='Message_Id', how='inner')"
   ]
  },
  {
   "cell_type": "code",
   "execution_count": 16,
   "metadata": {},
   "outputs": [],
   "source": [
    "del ta_ext"
   ]
  },
  {
   "cell_type": "code",
   "execution_count": 17,
   "metadata": {},
   "outputs": [],
   "source": [
    "AMessages= AMessages[((AMessages['message_words']>short_message_limit_words) & (AMessages['message_words']<=medium_message_limit_words))]"
   ]
  },
  {
   "cell_type": "code",
   "execution_count": 18,
   "metadata": {},
   "outputs": [
    {
     "data": {
      "text/plain": [
       "45697"
      ]
     },
     "execution_count": 18,
     "metadata": {},
     "output_type": "execute_result"
    }
   ],
   "source": [
    "len(AMessages)"
   ]
  },
  {
   "cell_type": "markdown",
   "metadata": {},
   "source": [
    "Set target column"
   ]
  },
  {
   "cell_type": "code",
   "execution_count": 19,
   "metadata": {},
   "outputs": [],
   "source": [
    "AMessages['target']=['fedulya' if x in fedulya_ids else 'Other' for x in AMessages['Author_Id']]"
   ]
  },
  {
   "cell_type": "code",
   "execution_count": 20,
   "metadata": {},
   "outputs": [
    {
     "data": {
      "text/html": [
       "<div>\n",
       "<style scoped>\n",
       "    .dataframe tbody tr th:only-of-type {\n",
       "        vertical-align: middle;\n",
       "    }\n",
       "\n",
       "    .dataframe tbody tr th {\n",
       "        vertical-align: top;\n",
       "    }\n",
       "\n",
       "    .dataframe thead th {\n",
       "        text-align: right;\n",
       "    }\n",
       "</style>\n",
       "<table border=\"1\" class=\"dataframe\">\n",
       "  <thead>\n",
       "    <tr style=\"text-align: right;\">\n",
       "      <th></th>\n",
       "      <th>target</th>\n",
       "      <th>counts</th>\n",
       "    </tr>\n",
       "  </thead>\n",
       "  <tbody>\n",
       "    <tr>\n",
       "      <th>0</th>\n",
       "      <td>Other</td>\n",
       "      <td>41062</td>\n",
       "    </tr>\n",
       "    <tr>\n",
       "      <th>1</th>\n",
       "      <td>fedulya</td>\n",
       "      <td>4635</td>\n",
       "    </tr>\n",
       "  </tbody>\n",
       "</table>\n",
       "</div>"
      ],
      "text/plain": [
       "    target  counts\n",
       "0    Other   41062\n",
       "1  fedulya    4635"
      ]
     },
     "execution_count": 20,
     "metadata": {},
     "output_type": "execute_result"
    }
   ],
   "source": [
    "AMessages.groupby(['target']).size().reset_index(name='counts').sort_values('counts', ascending=False)"
   ]
  },
  {
   "cell_type": "markdown",
   "metadata": {},
   "source": [
    "Joining original forum post text, without cleaning html tags etc"
   ]
  },
  {
   "cell_type": "code",
   "execution_count": 21,
   "metadata": {},
   "outputs": [],
   "source": [
    "OriginalMessages = pd.read_csv(OriginalMessages_full_filename, error_bad_lines=False, index_col=False)"
   ]
  },
  {
   "cell_type": "code",
   "execution_count": 22,
   "metadata": {},
   "outputs": [],
   "source": [
    "AMessages=pd.merge(AMessages, OriginalMessages[['Message_Id','original_message']], left_on='Message_Id', right_on='Message_Id', how='inner')"
   ]
  },
  {
   "cell_type": "code",
   "execution_count": 23,
   "metadata": {},
   "outputs": [
    {
     "data": {
      "text/plain": [
       "Index(['Message_Id', 'Timestamp', 'Topic_1st_Message', 'Parent_Id',\n",
       "       'Author_Id', 'author', 'Topic_Id', 'Topic', 'Chapter_Id', 'Chapter',\n",
       "       'message', 'cnt_childs', 'cnt_immediate_childs', 'message_words',\n",
       "       'target', 'original_message'],\n",
       "      dtype='object')"
      ]
     },
     "execution_count": 23,
     "metadata": {},
     "output_type": "execute_result"
    }
   ],
   "source": [
    "AMessages.columns"
   ]
  },
  {
   "cell_type": "code",
   "execution_count": 24,
   "metadata": {},
   "outputs": [
    {
     "data": {
      "text/plain": [
       "45697"
      ]
     },
     "execution_count": 24,
     "metadata": {},
     "output_type": "execute_result"
    }
   ],
   "source": [
    "len(AMessages)"
   ]
  },
  {
   "cell_type": "code",
   "execution_count": 25,
   "metadata": {},
   "outputs": [],
   "source": [
    "del OriginalMessages"
   ]
  },
  {
   "cell_type": "code",
   "execution_count": 26,
   "metadata": {},
   "outputs": [],
   "source": [
    "AMessages=AMessages[['Message_Id','Author_Id','author', 'message','original_message','target']]"
   ]
  },
  {
   "cell_type": "code",
   "execution_count": 27,
   "metadata": {},
   "outputs": [],
   "source": [
    "AMessages.to_csv(ft_full_filename, header=True, index=False)"
   ]
  },
  {
   "cell_type": "markdown",
   "metadata": {},
   "source": [
    "## Dataset to find Fedulya's clones (model application)"
   ]
  },
  {
   "cell_type": "markdown",
   "metadata": {},
   "source": [
    "### Authors to check"
   ]
  },
  {
   "cell_type": "code",
   "execution_count": 28,
   "metadata": {},
   "outputs": [],
   "source": [
    "Authors = pd.read_csv(Authors_full_filename, error_bad_lines=False, index_col=False)"
   ]
  },
  {
   "cell_type": "code",
   "execution_count": 29,
   "metadata": {},
   "outputs": [
    {
     "data": {
      "text/html": [
       "<div>\n",
       "<style scoped>\n",
       "    .dataframe tbody tr th:only-of-type {\n",
       "        vertical-align: middle;\n",
       "    }\n",
       "\n",
       "    .dataframe tbody tr th {\n",
       "        vertical-align: top;\n",
       "    }\n",
       "\n",
       "    .dataframe thead th {\n",
       "        text-align: right;\n",
       "    }\n",
       "</style>\n",
       "<table border=\"1\" class=\"dataframe\">\n",
       "  <thead>\n",
       "    <tr style=\"text-align: right;\">\n",
       "      <th></th>\n",
       "      <th>Author_Id</th>\n",
       "      <th>author</th>\n",
       "      <th>cnt_messages</th>\n",
       "      <th>First_Message_Id</th>\n",
       "      <th>Last_Message_Id</th>\n",
       "      <th>first_message_ts</th>\n",
       "      <th>last_message_ts</th>\n",
       "      <th>Binned Number of Messages</th>\n",
       "      <th>cnt_2021_messages</th>\n",
       "      <th>num_of_tneg_messages</th>\n",
       "      <th>...</th>\n",
       "      <th>avg_fraction_of_Verbs</th>\n",
       "      <th>avg_TTR</th>\n",
       "      <th>avg_TTR_A</th>\n",
       "      <th>avg_TTR_N</th>\n",
       "      <th>avg_TTR_V</th>\n",
       "      <th>avg_NAV</th>\n",
       "      <th>avg_UNAV</th>\n",
       "      <th>avg_fraction_of_Nouns</th>\n",
       "      <th>avg_ASW</th>\n",
       "      <th>avg_PLW</th>\n",
       "    </tr>\n",
       "  </thead>\n",
       "  <tbody>\n",
       "    <tr>\n",
       "      <th>0</th>\n",
       "      <td>23</td>\n",
       "      <td>volv ♧ Clair</td>\n",
       "      <td>1535</td>\n",
       "      <td>67913773</td>\n",
       "      <td>101696362</td>\n",
       "      <td>2011-07-06 11:00:00</td>\n",
       "      <td>2020-11-09 23:07:00</td>\n",
       "      <td>(1000, 5000]</td>\n",
       "      <td>0.0</td>\n",
       "      <td>267.0</td>\n",
       "      <td>...</td>\n",
       "      <td>0.168575</td>\n",
       "      <td>0.866406</td>\n",
       "      <td>0.662028</td>\n",
       "      <td>0.921540</td>\n",
       "      <td>0.872181</td>\n",
       "      <td>1.433010</td>\n",
       "      <td>2.290852</td>\n",
       "      <td>0.272158</td>\n",
       "      <td>2.099146</td>\n",
       "      <td>0.139118</td>\n",
       "    </tr>\n",
       "    <tr>\n",
       "      <th>1</th>\n",
       "      <td>27</td>\n",
       "      <td>Oxygen 27 F*</td>\n",
       "      <td>16</td>\n",
       "      <td>97031390</td>\n",
       "      <td>102288727</td>\n",
       "      <td>2018-05-17 14:17:00</td>\n",
       "      <td>2021-02-19 17:01:00</td>\n",
       "      <td>(0, 100]</td>\n",
       "      <td>0.0</td>\n",
       "      <td>8.0</td>\n",
       "      <td>...</td>\n",
       "      <td>0.135263</td>\n",
       "      <td>0.855567</td>\n",
       "      <td>0.692308</td>\n",
       "      <td>0.972494</td>\n",
       "      <td>0.769231</td>\n",
       "      <td>1.280186</td>\n",
       "      <td>1.888462</td>\n",
       "      <td>0.273964</td>\n",
       "      <td>1.911883</td>\n",
       "      <td>0.088368</td>\n",
       "    </tr>\n",
       "    <tr>\n",
       "      <th>2</th>\n",
       "      <td>32</td>\n",
       "      <td>Редакция Евы</td>\n",
       "      <td>784</td>\n",
       "      <td>80470511</td>\n",
       "      <td>96142872</td>\n",
       "      <td>2013-04-29 13:46:00</td>\n",
       "      <td>2017-12-11 20:44:00</td>\n",
       "      <td>(100, 1000]</td>\n",
       "      <td>0.0</td>\n",
       "      <td>96.0</td>\n",
       "      <td>...</td>\n",
       "      <td>0.142459</td>\n",
       "      <td>0.904268</td>\n",
       "      <td>0.905599</td>\n",
       "      <td>0.882550</td>\n",
       "      <td>0.964668</td>\n",
       "      <td>1.868945</td>\n",
       "      <td>3.498784</td>\n",
       "      <td>0.329188</td>\n",
       "      <td>2.130166</td>\n",
       "      <td>0.160048</td>\n",
       "    </tr>\n",
       "    <tr>\n",
       "      <th>3</th>\n",
       "      <td>35</td>\n",
       "      <td>Малефисента ⚜**</td>\n",
       "      <td>3415</td>\n",
       "      <td>51064403</td>\n",
       "      <td>101933631</td>\n",
       "      <td>2009-11-02 14:26:00</td>\n",
       "      <td>2020-12-21 17:49:00</td>\n",
       "      <td>(1000, 5000]</td>\n",
       "      <td>0.0</td>\n",
       "      <td>1433.0</td>\n",
       "      <td>...</td>\n",
       "      <td>0.167977</td>\n",
       "      <td>0.890777</td>\n",
       "      <td>0.605887</td>\n",
       "      <td>0.952464</td>\n",
       "      <td>0.913617</td>\n",
       "      <td>1.516702</td>\n",
       "      <td>2.006752</td>\n",
       "      <td>0.236029</td>\n",
       "      <td>1.895766</td>\n",
       "      <td>0.094588</td>\n",
       "    </tr>\n",
       "    <tr>\n",
       "      <th>4</th>\n",
       "      <td>36</td>\n",
       "      <td>Доктор Филатов SD*</td>\n",
       "      <td>4992</td>\n",
       "      <td>81110399</td>\n",
       "      <td>101760074</td>\n",
       "      <td>2013-06-18 17:11:00</td>\n",
       "      <td>2020-11-20 18:00:00</td>\n",
       "      <td>(1000, 5000]</td>\n",
       "      <td>0.0</td>\n",
       "      <td>1855.0</td>\n",
       "      <td>...</td>\n",
       "      <td>0.166422</td>\n",
       "      <td>0.896571</td>\n",
       "      <td>0.801671</td>\n",
       "      <td>0.901457</td>\n",
       "      <td>0.923862</td>\n",
       "      <td>1.785766</td>\n",
       "      <td>2.255664</td>\n",
       "      <td>0.247477</td>\n",
       "      <td>2.059361</td>\n",
       "      <td>0.141871</td>\n",
       "    </tr>\n",
       "  </tbody>\n",
       "</table>\n",
       "<p>5 rows × 118 columns</p>\n",
       "</div>"
      ],
      "text/plain": [
       "   Author_Id              author  cnt_messages  First_Message_Id  \\\n",
       "0         23        volv ♧ Clair          1535          67913773   \n",
       "1         27        Oxygen 27 F*            16          97031390   \n",
       "2         32        Редакция Евы           784          80470511   \n",
       "3         35     Малефисента ⚜**          3415          51064403   \n",
       "4         36  Доктор Филатов SD*          4992          81110399   \n",
       "\n",
       "   Last_Message_Id     first_message_ts      last_message_ts  \\\n",
       "0        101696362  2011-07-06 11:00:00  2020-11-09 23:07:00   \n",
       "1        102288727  2018-05-17 14:17:00  2021-02-19 17:01:00   \n",
       "2         96142872  2013-04-29 13:46:00  2017-12-11 20:44:00   \n",
       "3        101933631  2009-11-02 14:26:00  2020-12-21 17:49:00   \n",
       "4        101760074  2013-06-18 17:11:00  2020-11-20 18:00:00   \n",
       "\n",
       "  Binned Number of Messages  cnt_2021_messages  num_of_tneg_messages  ...  \\\n",
       "0              (1000, 5000]                0.0                 267.0  ...   \n",
       "1                  (0, 100]                0.0                   8.0  ...   \n",
       "2               (100, 1000]                0.0                  96.0  ...   \n",
       "3              (1000, 5000]                0.0                1433.0  ...   \n",
       "4              (1000, 5000]                0.0                1855.0  ...   \n",
       "\n",
       "   avg_fraction_of_Verbs   avg_TTR  avg_TTR_A  avg_TTR_N  avg_TTR_V   avg_NAV  \\\n",
       "0               0.168575  0.866406   0.662028   0.921540   0.872181  1.433010   \n",
       "1               0.135263  0.855567   0.692308   0.972494   0.769231  1.280186   \n",
       "2               0.142459  0.904268   0.905599   0.882550   0.964668  1.868945   \n",
       "3               0.167977  0.890777   0.605887   0.952464   0.913617  1.516702   \n",
       "4               0.166422  0.896571   0.801671   0.901457   0.923862  1.785766   \n",
       "\n",
       "   avg_UNAV  avg_fraction_of_Nouns   avg_ASW   avg_PLW  \n",
       "0  2.290852               0.272158  2.099146  0.139118  \n",
       "1  1.888462               0.273964  1.911883  0.088368  \n",
       "2  3.498784               0.329188  2.130166  0.160048  \n",
       "3  2.006752               0.236029  1.895766  0.094588  \n",
       "4  2.255664               0.247477  2.059361  0.141871  \n",
       "\n",
       "[5 rows x 118 columns]"
      ]
     },
     "execution_count": 29,
     "metadata": {},
     "output_type": "execute_result"
    }
   ],
   "source": [
    "Authors.head()"
   ]
  },
  {
   "cell_type": "code",
   "execution_count": 30,
   "metadata": {},
   "outputs": [],
   "source": [
    "Authors['first_message_ts']=pd.to_datetime(Authors['first_message_ts'], format='%Y-%m-%d %H:%M:%S')\n",
    "Authors['last_message_ts']=pd.to_datetime(Authors['last_message_ts'], format='%Y-%m-%d %H:%M:%S')"
   ]
  },
  {
   "cell_type": "code",
   "execution_count": 31,
   "metadata": {},
   "outputs": [],
   "source": [
    "#known Fedulya last message\n",
    "last_message_ts = Authors[Authors['Author_Id'].isin(fedulya_ids)]['last_message_ts'].max()"
   ]
  },
  {
   "cell_type": "code",
   "execution_count": 32,
   "metadata": {},
   "outputs": [
    {
     "data": {
      "text/plain": [
       "14076"
      ]
     },
     "execution_count": 32,
     "metadata": {},
     "output_type": "execute_result"
    }
   ],
   "source": [
    "#All new authors after the date\n",
    "len(Authors[Authors['first_message_ts']>last_message_ts])"
   ]
  },
  {
   "cell_type": "code",
   "execution_count": 33,
   "metadata": {},
   "outputs": [
    {
     "data": {
      "text/plain": [
       "1029"
      ]
     },
     "execution_count": 33,
     "metadata": {},
     "output_type": "execute_result"
    }
   ],
   "source": [
    "#Authors posted after the last fedula's date with reasonable number of messages\n",
    "#5000 because it's definetly not a clone\n",
    "#100 because with less messages authors write as Anonymous\n",
    "#TotalDays>1 because authors with 100+ messages in very few days are spamers most likely and they are banned\n",
    "len(Authors[((Authors['first_message_ts']>last_message_ts) & (Authors['TotalDays']>1) & (Authors['cnt_messages']>100) & (Authors['cnt_messages']<5000))])"
   ]
  },
  {
   "cell_type": "code",
   "execution_count": 34,
   "metadata": {},
   "outputs": [],
   "source": [
    "Authors = Authors[((Authors['Author_Id'].isin(fedulya_ids)) | ((Authors['first_message_ts']>last_message_ts) & (Authors['TotalDays']>1) & (Authors['cnt_messages']>100) & (Authors['cnt_messages']<5000)))]"
   ]
  },
  {
   "cell_type": "markdown",
   "metadata": {},
   "source": [
    "### Can we limit the number of authors to check even more?"
   ]
  },
  {
   "cell_type": "code",
   "execution_count": 35,
   "metadata": {},
   "outputs": [],
   "source": [
    "from sklearn.metrics.pairwise import cosine_similarity"
   ]
  },
  {
   "cell_type": "code",
   "execution_count": 36,
   "metadata": {},
   "outputs": [],
   "source": [
    "columns_to_compare=[\n",
    "'fraction_of_tneg_messages',\n",
    "'fraction_of_tpos_messages',\n",
    "'fraction_of_Large_Topics',\n",
    "'fraction_of_messages_with_immediate_responses',\n",
    "'avg_immediate_responses',\n",
    "'fraction_of_messages_with_discussion',\n",
    "'avg_responses',\n",
    "'fraction_of_neg_rersponses',\n",
    "'fraction_of_pos_rersponses',\n",
    "'fraction_of_messages_with_emojis',\n",
    "'fraction_of_messages_with_images',\n",
    "'fraction_of_messages_with_links',\n",
    "'fraction_of_messages_with_excessive_exclamations',\n",
    "'fraction_of_messages_with_excessive_questions',\n",
    "'fraction_of_messages_with_excessive_other',\n",
    "'fraction_of_medium_with_commas',\n",
    "'avg_num_commas',\n",
    "'avg_sent_len',\n",
    "'avg_num_sent',\n",
    "'avg_ASW',\n",
    "'avg_PLW',\n",
    "'avg_fraction_of_Adj',\n",
    "'avg_fraction_of_Verbs',\n",
    "'avg_fraction_of_Nouns',\n",
    "'avg_TTR',\n",
    "'avg_TTR_A',\n",
    "'avg_TTR_N',\n",
    "'avg_TTR_V',\n",
    "'avg_NAV',\n",
    "'avg_UNAV']"
   ]
  },
  {
   "cell_type": "code",
   "execution_count": 37,
   "metadata": {},
   "outputs": [
    {
     "data": {
      "text/plain": [
       "array([[6.28571429e-01, 1.33333333e-01, 0.00000000e+00, 8.23529412e-01,\n",
       "        1.00840336e+00, 5.96638655e-01, 7.38028169e+00, 4.16666667e-01,\n",
       "        2.58333333e-01, 1.31092437e+00, 0.00000000e+00, 0.00000000e+00,\n",
       "        1.68067227e-02, 5.04201681e-02, 0.00000000e+00, 2.00000000e+00,\n",
       "        2.33333333e+00, 7.88155396e+00, 3.95238095e+00, 1.89055082e+00,\n",
       "        1.05569452e-01, 1.01268605e-01, 1.43026067e-01, 2.42852448e-01,\n",
       "        9.14446027e-01, 7.84829932e-01, 9.51166133e-01, 8.56452106e-01,\n",
       "        1.69460503e+00, 2.49675084e+00],\n",
       "       [5.57836645e-01, 1.98675497e-01, 9.28571429e-01, 6.95207324e-01,\n",
       "        9.81870400e-01, 5.36169449e-01, 9.63977235e+00, 4.44241316e-01,\n",
       "        2.44972578e-01, 1.02297613e+00, 0.00000000e+00, 1.92066056e-02,\n",
       "        6.47998564e-02, 6.03123317e-02, 3.59001975e-04, 1.80684327e+00,\n",
       "        2.19933775e+00, 8.00626437e+00, 3.30750552e+00, 1.88159161e+00,\n",
       "        1.04835281e-01, 9.49267020e-02, 1.53531414e-01, 2.39949357e-01,\n",
       "        8.91542945e-01, 7.06653938e-01, 9.41422862e-01, 8.82960257e-01,\n",
       "        1.60486133e+00, 2.29147903e+00]])"
      ]
     },
     "execution_count": 37,
     "metadata": {},
     "output_type": "execute_result"
    }
   ],
   "source": [
    "fedulya=np.array(Authors[Authors['Author_Id'].isin(fedulya_ids)][columns_to_compare])\n",
    "fedulya"
   ]
  },
  {
   "cell_type": "code",
   "execution_count": 38,
   "metadata": {},
   "outputs": [
    {
     "data": {
      "text/plain": [
       "array([[0.31010453, 0.10801394, 0.35      , ..., 0.87218147, 1.43300956,\n",
       "        2.29085165],\n",
       "       [0.12467532, 0.20519481, 0.10686016, ..., 0.9646684 , 1.86894488,\n",
       "        3.49878412],\n",
       "       [0.45532646, 0.16102111, 0.5       , ..., 0.92386224, 1.78576606,\n",
       "        2.2556641 ],\n",
       "       ...,\n",
       "       [0.45989305, 0.04812834, 0.        , ..., 0.91584755, 1.53872252,\n",
       "        2.10129249],\n",
       "       [0.6746988 , 0.1686747 , 0.        , ..., 0.91176725, 1.8948778 ,\n",
       "        1.97651328],\n",
       "       [0.48031496, 0.04724409, 0.        , ..., 0.87512282, 1.44298199,\n",
       "        1.97819462]])"
      ]
     },
     "execution_count": 38,
     "metadata": {},
     "output_type": "execute_result"
    }
   ],
   "source": [
    "others=np.array(Authors[columns_to_compare])\n",
    "others"
   ]
  },
  {
   "cell_type": "code",
   "execution_count": 39,
   "metadata": {},
   "outputs": [],
   "source": [
    "result=cosine_similarity(fedulya,others)"
   ]
  },
  {
   "cell_type": "code",
   "execution_count": 40,
   "metadata": {},
   "outputs": [],
   "source": [
    "Authors['fedulya_sim']=result[0]"
   ]
  },
  {
   "cell_type": "code",
   "execution_count": 41,
   "metadata": {},
   "outputs": [],
   "source": [
    "SimilarAuthors = Authors[Authors['fedulya_sim']>0.94].sort_values(['fedulya_sim'],ascending=False)"
   ]
  },
  {
   "cell_type": "code",
   "execution_count": 42,
   "metadata": {},
   "outputs": [
    {
     "data": {
      "text/plain": [
       "903"
      ]
     },
     "execution_count": 42,
     "metadata": {},
     "output_type": "execute_result"
    }
   ],
   "source": [
    "SimilarAuthors['Author_Id'].nunique()"
   ]
  },
  {
   "cell_type": "code",
   "execution_count": 43,
   "metadata": {},
   "outputs": [],
   "source": [
    "SimilarAuthors.to_csv(SimilarAuthors_full_filename, header=True, index=False)"
   ]
  },
  {
   "cell_type": "code",
   "execution_count": 44,
   "metadata": {},
   "outputs": [
    {
     "data": {
      "text/html": [
       "<div>\n",
       "<style scoped>\n",
       "    .dataframe tbody tr th:only-of-type {\n",
       "        vertical-align: middle;\n",
       "    }\n",
       "\n",
       "    .dataframe tbody tr th {\n",
       "        vertical-align: top;\n",
       "    }\n",
       "\n",
       "    .dataframe thead th {\n",
       "        text-align: right;\n",
       "    }\n",
       "</style>\n",
       "<table border=\"1\" class=\"dataframe\">\n",
       "  <thead>\n",
       "    <tr style=\"text-align: right;\">\n",
       "      <th></th>\n",
       "      <th>Author_Id</th>\n",
       "      <th>author</th>\n",
       "      <th>cnt_messages</th>\n",
       "      <th>First_Message_Id</th>\n",
       "      <th>Last_Message_Id</th>\n",
       "      <th>first_message_ts</th>\n",
       "      <th>last_message_ts</th>\n",
       "      <th>Binned Number of Messages</th>\n",
       "      <th>cnt_2021_messages</th>\n",
       "      <th>num_of_tneg_messages</th>\n",
       "      <th>...</th>\n",
       "      <th>avg_TTR</th>\n",
       "      <th>avg_TTR_A</th>\n",
       "      <th>avg_TTR_N</th>\n",
       "      <th>avg_TTR_V</th>\n",
       "      <th>avg_NAV</th>\n",
       "      <th>avg_UNAV</th>\n",
       "      <th>avg_fraction_of_Nouns</th>\n",
       "      <th>avg_ASW</th>\n",
       "      <th>avg_PLW</th>\n",
       "      <th>fedulya_sim</th>\n",
       "    </tr>\n",
       "  </thead>\n",
       "  <tbody>\n",
       "    <tr>\n",
       "      <th>10417</th>\n",
       "      <td>186159</td>\n",
       "      <td>ФедЮля **</td>\n",
       "      <td>119</td>\n",
       "      <td>52892781</td>\n",
       "      <td>54365549</td>\n",
       "      <td>2009-12-28 03:36:00</td>\n",
       "      <td>2010-02-19 03:26:00</td>\n",
       "      <td>(100, 1000]</td>\n",
       "      <td>0.0</td>\n",
       "      <td>66.0</td>\n",
       "      <td>...</td>\n",
       "      <td>0.914446</td>\n",
       "      <td>0.784830</td>\n",
       "      <td>0.951166</td>\n",
       "      <td>0.856452</td>\n",
       "      <td>1.694605</td>\n",
       "      <td>2.496751</td>\n",
       "      <td>0.242852</td>\n",
       "      <td>1.890551</td>\n",
       "      <td>0.105569</td>\n",
       "      <td>1.000000</td>\n",
       "    </tr>\n",
       "    <tr>\n",
       "      <th>13120</th>\n",
       "      <td>250487</td>\n",
       "      <td>ФедюлЯ +</td>\n",
       "      <td>5571</td>\n",
       "      <td>51039367</td>\n",
       "      <td>54449713</td>\n",
       "      <td>2009-11-01 18:41:00</td>\n",
       "      <td>2010-02-22 16:43:00</td>\n",
       "      <td>(5000, 10000]</td>\n",
       "      <td>0.0</td>\n",
       "      <td>2527.0</td>\n",
       "      <td>...</td>\n",
       "      <td>0.891543</td>\n",
       "      <td>0.706654</td>\n",
       "      <td>0.941423</td>\n",
       "      <td>0.882960</td>\n",
       "      <td>1.604861</td>\n",
       "      <td>2.291479</td>\n",
       "      <td>0.239949</td>\n",
       "      <td>1.881592</td>\n",
       "      <td>0.104835</td>\n",
       "      <td>0.985593</td>\n",
       "    </tr>\n",
       "    <tr>\n",
       "      <th>17469</th>\n",
       "      <td>466036</td>\n",
       "      <td>Федюля Иммодиум для анусов **</td>\n",
       "      <td>3776</td>\n",
       "      <td>89071044</td>\n",
       "      <td>90738692</td>\n",
       "      <td>2015-03-23 04:31:00</td>\n",
       "      <td>2015-10-06 14:09:00</td>\n",
       "      <td>(1000, 5000]</td>\n",
       "      <td>0.0</td>\n",
       "      <td>1937.0</td>\n",
       "      <td>...</td>\n",
       "      <td>0.890116</td>\n",
       "      <td>0.702328</td>\n",
       "      <td>0.935249</td>\n",
       "      <td>0.887036</td>\n",
       "      <td>1.609833</td>\n",
       "      <td>2.319270</td>\n",
       "      <td>0.246536</td>\n",
       "      <td>1.852998</td>\n",
       "      <td>0.098938</td>\n",
       "      <td>0.980583</td>\n",
       "    </tr>\n",
       "    <tr>\n",
       "      <th>13808</th>\n",
       "      <td>266936</td>\n",
       "      <td>ФедЮлЯ _</td>\n",
       "      <td>287</td>\n",
       "      <td>55112376</td>\n",
       "      <td>55362895</td>\n",
       "      <td>2010-03-16 18:53:00</td>\n",
       "      <td>2010-03-23 23:41:00</td>\n",
       "      <td>(100, 1000]</td>\n",
       "      <td>0.0</td>\n",
       "      <td>145.0</td>\n",
       "      <td>...</td>\n",
       "      <td>0.895570</td>\n",
       "      <td>0.726564</td>\n",
       "      <td>0.942639</td>\n",
       "      <td>0.898513</td>\n",
       "      <td>1.665785</td>\n",
       "      <td>2.593150</td>\n",
       "      <td>0.227284</td>\n",
       "      <td>1.824813</td>\n",
       "      <td>0.093423</td>\n",
       "      <td>0.973728</td>\n",
       "    </tr>\n",
       "    <tr>\n",
       "      <th>13926</th>\n",
       "      <td>269514</td>\n",
       "      <td>ФедЮЛЯ *</td>\n",
       "      <td>2205</td>\n",
       "      <td>55769592</td>\n",
       "      <td>57499671</td>\n",
       "      <td>2010-04-05 23:20:00</td>\n",
       "      <td>2010-06-09 21:45:00</td>\n",
       "      <td>(1000, 5000]</td>\n",
       "      <td>0.0</td>\n",
       "      <td>1033.0</td>\n",
       "      <td>...</td>\n",
       "      <td>0.894610</td>\n",
       "      <td>0.719478</td>\n",
       "      <td>0.936984</td>\n",
       "      <td>0.890687</td>\n",
       "      <td>1.624545</td>\n",
       "      <td>2.425547</td>\n",
       "      <td>0.242872</td>\n",
       "      <td>1.826890</td>\n",
       "      <td>0.094720</td>\n",
       "      <td>0.972686</td>\n",
       "    </tr>\n",
       "    <tr>\n",
       "      <th>17777</th>\n",
       "      <td>482362</td>\n",
       "      <td>Федюля - ЛопедиуМ для анусов +</td>\n",
       "      <td>756</td>\n",
       "      <td>91076569</td>\n",
       "      <td>91431403</td>\n",
       "      <td>2015-11-14 00:24:00</td>\n",
       "      <td>2015-12-26 00:48:00</td>\n",
       "      <td>(100, 1000]</td>\n",
       "      <td>0.0</td>\n",
       "      <td>408.0</td>\n",
       "      <td>...</td>\n",
       "      <td>0.896454</td>\n",
       "      <td>0.736690</td>\n",
       "      <td>0.942986</td>\n",
       "      <td>0.880845</td>\n",
       "      <td>1.704242</td>\n",
       "      <td>2.503630</td>\n",
       "      <td>0.248158</td>\n",
       "      <td>1.831265</td>\n",
       "      <td>0.094628</td>\n",
       "      <td>0.962056</td>\n",
       "    </tr>\n",
       "    <tr>\n",
       "      <th>17612</th>\n",
       "      <td>474446</td>\n",
       "      <td>Федюля-иммодиум для анусов *</td>\n",
       "      <td>1103</td>\n",
       "      <td>90122599</td>\n",
       "      <td>91444055</td>\n",
       "      <td>2015-07-16 23:57:00</td>\n",
       "      <td>2015-12-27 23:30:00</td>\n",
       "      <td>(1000, 5000]</td>\n",
       "      <td>0.0</td>\n",
       "      <td>576.0</td>\n",
       "      <td>...</td>\n",
       "      <td>0.886183</td>\n",
       "      <td>0.723444</td>\n",
       "      <td>0.921615</td>\n",
       "      <td>0.899047</td>\n",
       "      <td>1.697042</td>\n",
       "      <td>2.380089</td>\n",
       "      <td>0.237676</td>\n",
       "      <td>1.845607</td>\n",
       "      <td>0.092953</td>\n",
       "      <td>0.947062</td>\n",
       "    </tr>\n",
       "  </tbody>\n",
       "</table>\n",
       "<p>7 rows × 119 columns</p>\n",
       "</div>"
      ],
      "text/plain": [
       "       Author_Id                          author  cnt_messages  \\\n",
       "10417     186159                       ФедЮля **           119   \n",
       "13120     250487                        ФедюлЯ +          5571   \n",
       "17469     466036   Федюля Иммодиум для анусов **          3776   \n",
       "13808     266936                        ФедЮлЯ _           287   \n",
       "13926     269514                        ФедЮЛЯ *          2205   \n",
       "17777     482362  Федюля - ЛопедиуМ для анусов +           756   \n",
       "17612     474446    Федюля-иммодиум для анусов *          1103   \n",
       "\n",
       "       First_Message_Id  Last_Message_Id    first_message_ts  \\\n",
       "10417          52892781         54365549 2009-12-28 03:36:00   \n",
       "13120          51039367         54449713 2009-11-01 18:41:00   \n",
       "17469          89071044         90738692 2015-03-23 04:31:00   \n",
       "13808          55112376         55362895 2010-03-16 18:53:00   \n",
       "13926          55769592         57499671 2010-04-05 23:20:00   \n",
       "17777          91076569         91431403 2015-11-14 00:24:00   \n",
       "17612          90122599         91444055 2015-07-16 23:57:00   \n",
       "\n",
       "          last_message_ts Binned Number of Messages  cnt_2021_messages  \\\n",
       "10417 2010-02-19 03:26:00               (100, 1000]                0.0   \n",
       "13120 2010-02-22 16:43:00             (5000, 10000]                0.0   \n",
       "17469 2015-10-06 14:09:00              (1000, 5000]                0.0   \n",
       "13808 2010-03-23 23:41:00               (100, 1000]                0.0   \n",
       "13926 2010-06-09 21:45:00              (1000, 5000]                0.0   \n",
       "17777 2015-12-26 00:48:00               (100, 1000]                0.0   \n",
       "17612 2015-12-27 23:30:00              (1000, 5000]                0.0   \n",
       "\n",
       "       num_of_tneg_messages  ...   avg_TTR  avg_TTR_A  avg_TTR_N  avg_TTR_V  \\\n",
       "10417                  66.0  ...  0.914446   0.784830   0.951166   0.856452   \n",
       "13120                2527.0  ...  0.891543   0.706654   0.941423   0.882960   \n",
       "17469                1937.0  ...  0.890116   0.702328   0.935249   0.887036   \n",
       "13808                 145.0  ...  0.895570   0.726564   0.942639   0.898513   \n",
       "13926                1033.0  ...  0.894610   0.719478   0.936984   0.890687   \n",
       "17777                 408.0  ...  0.896454   0.736690   0.942986   0.880845   \n",
       "17612                 576.0  ...  0.886183   0.723444   0.921615   0.899047   \n",
       "\n",
       "        avg_NAV  avg_UNAV  avg_fraction_of_Nouns   avg_ASW   avg_PLW  \\\n",
       "10417  1.694605  2.496751               0.242852  1.890551  0.105569   \n",
       "13120  1.604861  2.291479               0.239949  1.881592  0.104835   \n",
       "17469  1.609833  2.319270               0.246536  1.852998  0.098938   \n",
       "13808  1.665785  2.593150               0.227284  1.824813  0.093423   \n",
       "13926  1.624545  2.425547               0.242872  1.826890  0.094720   \n",
       "17777  1.704242  2.503630               0.248158  1.831265  0.094628   \n",
       "17612  1.697042  2.380089               0.237676  1.845607  0.092953   \n",
       "\n",
       "       fedulya_sim  \n",
       "10417     1.000000  \n",
       "13120     0.985593  \n",
       "17469     0.980583  \n",
       "13808     0.973728  \n",
       "13926     0.972686  \n",
       "17777     0.962056  \n",
       "17612     0.947062  \n",
       "\n",
       "[7 rows x 119 columns]"
      ]
     },
     "execution_count": 44,
     "metadata": {},
     "output_type": "execute_result"
    }
   ],
   "source": [
    "SimilarAuthors[SimilarAuthors['Author_Id'].isin([250487,\n",
    "186159,\n",
    "266936,\n",
    "269514,\n",
    "466036,\n",
    "474446,\n",
    "482362\n",
    "])]"
   ]
  },
  {
   "cell_type": "code",
   "execution_count": 45,
   "metadata": {},
   "outputs": [
    {
     "data": {
      "text/html": [
       "<div>\n",
       "<style scoped>\n",
       "    .dataframe tbody tr th:only-of-type {\n",
       "        vertical-align: middle;\n",
       "    }\n",
       "\n",
       "    .dataframe tbody tr th {\n",
       "        vertical-align: top;\n",
       "    }\n",
       "\n",
       "    .dataframe thead th {\n",
       "        text-align: right;\n",
       "    }\n",
       "</style>\n",
       "<table border=\"1\" class=\"dataframe\">\n",
       "  <thead>\n",
       "    <tr style=\"text-align: right;\">\n",
       "      <th></th>\n",
       "      <th>Author_Id</th>\n",
       "      <th>author</th>\n",
       "      <th>cnt_messages</th>\n",
       "      <th>First_Message_Id</th>\n",
       "      <th>Last_Message_Id</th>\n",
       "      <th>first_message_ts</th>\n",
       "      <th>last_message_ts</th>\n",
       "      <th>Binned Number of Messages</th>\n",
       "      <th>cnt_2021_messages</th>\n",
       "      <th>num_of_tneg_messages</th>\n",
       "      <th>...</th>\n",
       "      <th>avg_TTR</th>\n",
       "      <th>avg_TTR_A</th>\n",
       "      <th>avg_TTR_N</th>\n",
       "      <th>avg_TTR_V</th>\n",
       "      <th>avg_NAV</th>\n",
       "      <th>avg_UNAV</th>\n",
       "      <th>avg_fraction_of_Nouns</th>\n",
       "      <th>avg_ASW</th>\n",
       "      <th>avg_PLW</th>\n",
       "      <th>fedulya_sim</th>\n",
       "    </tr>\n",
       "  </thead>\n",
       "  <tbody>\n",
       "    <tr>\n",
       "      <th>7234</th>\n",
       "      <td>128611</td>\n",
       "      <td>ОСЕНЬ 128611 SD</td>\n",
       "      <td>208</td>\n",
       "      <td>58585470</td>\n",
       "      <td>103222180</td>\n",
       "      <td>2010-08-09 10:44:00</td>\n",
       "      <td>2021-08-25 08:42:00</td>\n",
       "      <td>(100, 1000]</td>\n",
       "      <td>0.0</td>\n",
       "      <td>64.0</td>\n",
       "      <td>...</td>\n",
       "      <td>0.888640</td>\n",
       "      <td>0.784524</td>\n",
       "      <td>0.913406</td>\n",
       "      <td>0.882663</td>\n",
       "      <td>1.867491</td>\n",
       "      <td>2.079126</td>\n",
       "      <td>0.225348</td>\n",
       "      <td>1.717278</td>\n",
       "      <td>0.080821</td>\n",
       "      <td>0.940777</td>\n",
       "    </tr>\n",
       "    <tr>\n",
       "      <th>18600</th>\n",
       "      <td>529152</td>\n",
       "      <td>redeleven_4753001 F**</td>\n",
       "      <td>195</td>\n",
       "      <td>95736970</td>\n",
       "      <td>101629536</td>\n",
       "      <td>2017-10-04 19:56:00</td>\n",
       "      <td>2020-10-29 00:02:00</td>\n",
       "      <td>(100, 1000]</td>\n",
       "      <td>0.0</td>\n",
       "      <td>89.0</td>\n",
       "      <td>...</td>\n",
       "      <td>0.872225</td>\n",
       "      <td>0.699304</td>\n",
       "      <td>0.911661</td>\n",
       "      <td>0.883514</td>\n",
       "      <td>1.606016</td>\n",
       "      <td>1.888966</td>\n",
       "      <td>0.229526</td>\n",
       "      <td>1.759063</td>\n",
       "      <td>0.080452</td>\n",
       "      <td>0.940751</td>\n",
       "    </tr>\n",
       "    <tr>\n",
       "      <th>12950</th>\n",
       "      <td>246731</td>\n",
       "      <td>_Milanna_ SD</td>\n",
       "      <td>148</td>\n",
       "      <td>83286216</td>\n",
       "      <td>103027924</td>\n",
       "      <td>2013-12-04 16:04:00</td>\n",
       "      <td>2021-07-15 19:11:00</td>\n",
       "      <td>(100, 1000]</td>\n",
       "      <td>0.0</td>\n",
       "      <td>67.0</td>\n",
       "      <td>...</td>\n",
       "      <td>0.931590</td>\n",
       "      <td>0.775926</td>\n",
       "      <td>0.960565</td>\n",
       "      <td>0.941766</td>\n",
       "      <td>1.782570</td>\n",
       "      <td>2.178867</td>\n",
       "      <td>0.241652</td>\n",
       "      <td>1.966208</td>\n",
       "      <td>0.100920</td>\n",
       "      <td>0.940564</td>\n",
       "    </tr>\n",
       "    <tr>\n",
       "      <th>18846</th>\n",
       "      <td>545633</td>\n",
       "      <td>EvaRu 545633 F**</td>\n",
       "      <td>206</td>\n",
       "      <td>96609853</td>\n",
       "      <td>103118933</td>\n",
       "      <td>2018-03-02 21:06:00</td>\n",
       "      <td>2021-08-03 01:43:00</td>\n",
       "      <td>(100, 1000]</td>\n",
       "      <td>0.0</td>\n",
       "      <td>77.0</td>\n",
       "      <td>...</td>\n",
       "      <td>0.874707</td>\n",
       "      <td>0.741243</td>\n",
       "      <td>0.897896</td>\n",
       "      <td>0.888549</td>\n",
       "      <td>1.776289</td>\n",
       "      <td>1.869931</td>\n",
       "      <td>0.195245</td>\n",
       "      <td>1.835606</td>\n",
       "      <td>0.089591</td>\n",
       "      <td>0.940525</td>\n",
       "    </tr>\n",
       "    <tr>\n",
       "      <th>14828</th>\n",
       "      <td>303507</td>\n",
       "      <td>Зеленые рукава девицы Болейн *</td>\n",
       "      <td>129</td>\n",
       "      <td>76611974</td>\n",
       "      <td>82847857</td>\n",
       "      <td>2012-09-07 20:42:00</td>\n",
       "      <td>2013-11-03 23:36:00</td>\n",
       "      <td>(100, 1000]</td>\n",
       "      <td>0.0</td>\n",
       "      <td>44.0</td>\n",
       "      <td>...</td>\n",
       "      <td>0.914841</td>\n",
       "      <td>0.750000</td>\n",
       "      <td>0.932102</td>\n",
       "      <td>0.957397</td>\n",
       "      <td>1.741979</td>\n",
       "      <td>2.030163</td>\n",
       "      <td>0.223286</td>\n",
       "      <td>1.969570</td>\n",
       "      <td>0.105340</td>\n",
       "      <td>0.940051</td>\n",
       "    </tr>\n",
       "  </tbody>\n",
       "</table>\n",
       "<p>5 rows × 119 columns</p>\n",
       "</div>"
      ],
      "text/plain": [
       "       Author_Id                          author  cnt_messages  \\\n",
       "7234      128611                 ОСЕНЬ 128611 SD           208   \n",
       "18600     529152           redeleven_4753001 F**           195   \n",
       "12950     246731                    _Milanna_ SD           148   \n",
       "18846     545633                EvaRu 545633 F**           206   \n",
       "14828     303507  Зеленые рукава девицы Болейн *           129   \n",
       "\n",
       "       First_Message_Id  Last_Message_Id    first_message_ts  \\\n",
       "7234           58585470        103222180 2010-08-09 10:44:00   \n",
       "18600          95736970        101629536 2017-10-04 19:56:00   \n",
       "12950          83286216        103027924 2013-12-04 16:04:00   \n",
       "18846          96609853        103118933 2018-03-02 21:06:00   \n",
       "14828          76611974         82847857 2012-09-07 20:42:00   \n",
       "\n",
       "          last_message_ts Binned Number of Messages  cnt_2021_messages  \\\n",
       "7234  2021-08-25 08:42:00               (100, 1000]                0.0   \n",
       "18600 2020-10-29 00:02:00               (100, 1000]                0.0   \n",
       "12950 2021-07-15 19:11:00               (100, 1000]                0.0   \n",
       "18846 2021-08-03 01:43:00               (100, 1000]                0.0   \n",
       "14828 2013-11-03 23:36:00               (100, 1000]                0.0   \n",
       "\n",
       "       num_of_tneg_messages  ...   avg_TTR  avg_TTR_A  avg_TTR_N  avg_TTR_V  \\\n",
       "7234                   64.0  ...  0.888640   0.784524   0.913406   0.882663   \n",
       "18600                  89.0  ...  0.872225   0.699304   0.911661   0.883514   \n",
       "12950                  67.0  ...  0.931590   0.775926   0.960565   0.941766   \n",
       "18846                  77.0  ...  0.874707   0.741243   0.897896   0.888549   \n",
       "14828                  44.0  ...  0.914841   0.750000   0.932102   0.957397   \n",
       "\n",
       "        avg_NAV  avg_UNAV  avg_fraction_of_Nouns   avg_ASW   avg_PLW  \\\n",
       "7234   1.867491  2.079126               0.225348  1.717278  0.080821   \n",
       "18600  1.606016  1.888966               0.229526  1.759063  0.080452   \n",
       "12950  1.782570  2.178867               0.241652  1.966208  0.100920   \n",
       "18846  1.776289  1.869931               0.195245  1.835606  0.089591   \n",
       "14828  1.741979  2.030163               0.223286  1.969570  0.105340   \n",
       "\n",
       "       fedulya_sim  \n",
       "7234      0.940777  \n",
       "18600     0.940751  \n",
       "12950     0.940564  \n",
       "18846     0.940525  \n",
       "14828     0.940051  \n",
       "\n",
       "[5 rows x 119 columns]"
      ]
     },
     "execution_count": 45,
     "metadata": {},
     "output_type": "execute_result"
    }
   ],
   "source": [
    "SimilarAuthors.tail()"
   ]
  },
  {
   "cell_type": "code",
   "execution_count": 46,
   "metadata": {},
   "outputs": [
    {
     "data": {
      "text/html": [
       "<div>\n",
       "<style scoped>\n",
       "    .dataframe tbody tr th:only-of-type {\n",
       "        vertical-align: middle;\n",
       "    }\n",
       "\n",
       "    .dataframe tbody tr th {\n",
       "        vertical-align: top;\n",
       "    }\n",
       "\n",
       "    .dataframe thead th {\n",
       "        text-align: right;\n",
       "    }\n",
       "</style>\n",
       "<table border=\"1\" class=\"dataframe\">\n",
       "  <thead>\n",
       "    <tr style=\"text-align: right;\">\n",
       "      <th></th>\n",
       "      <th>Author_Id</th>\n",
       "      <th>author</th>\n",
       "      <th>cnt_messages</th>\n",
       "      <th>First_Message_Id</th>\n",
       "      <th>Last_Message_Id</th>\n",
       "      <th>first_message_ts</th>\n",
       "      <th>last_message_ts</th>\n",
       "      <th>Binned Number of Messages</th>\n",
       "      <th>cnt_2021_messages</th>\n",
       "      <th>num_of_tneg_messages</th>\n",
       "      <th>...</th>\n",
       "      <th>avg_TTR</th>\n",
       "      <th>avg_TTR_A</th>\n",
       "      <th>avg_TTR_N</th>\n",
       "      <th>avg_TTR_V</th>\n",
       "      <th>avg_NAV</th>\n",
       "      <th>avg_UNAV</th>\n",
       "      <th>avg_fraction_of_Nouns</th>\n",
       "      <th>avg_ASW</th>\n",
       "      <th>avg_PLW</th>\n",
       "      <th>fedulya_sim</th>\n",
       "    </tr>\n",
       "  </thead>\n",
       "  <tbody>\n",
       "    <tr>\n",
       "      <th>10417</th>\n",
       "      <td>186159</td>\n",
       "      <td>ФедЮля **</td>\n",
       "      <td>119</td>\n",
       "      <td>52892781</td>\n",
       "      <td>54365549</td>\n",
       "      <td>2009-12-28 03:36:00</td>\n",
       "      <td>2010-02-19 03:26:00</td>\n",
       "      <td>(100, 1000]</td>\n",
       "      <td>0.0</td>\n",
       "      <td>66.0</td>\n",
       "      <td>...</td>\n",
       "      <td>0.914446</td>\n",
       "      <td>0.784830</td>\n",
       "      <td>0.951166</td>\n",
       "      <td>0.856452</td>\n",
       "      <td>1.694605</td>\n",
       "      <td>2.496751</td>\n",
       "      <td>0.242852</td>\n",
       "      <td>1.890551</td>\n",
       "      <td>0.105569</td>\n",
       "      <td>1.000000</td>\n",
       "    </tr>\n",
       "    <tr>\n",
       "      <th>12640</th>\n",
       "      <td>239519</td>\n",
       "      <td>Mari5000 F**</td>\n",
       "      <td>451</td>\n",
       "      <td>100866108</td>\n",
       "      <td>103104668</td>\n",
       "      <td>2020-06-07 21:54:00</td>\n",
       "      <td>2021-07-30 21:47:00</td>\n",
       "      <td>(100, 1000]</td>\n",
       "      <td>327.0</td>\n",
       "      <td>152.0</td>\n",
       "      <td>...</td>\n",
       "      <td>0.859542</td>\n",
       "      <td>0.658925</td>\n",
       "      <td>0.899019</td>\n",
       "      <td>0.886689</td>\n",
       "      <td>1.558850</td>\n",
       "      <td>2.018277</td>\n",
       "      <td>0.218422</td>\n",
       "      <td>1.786401</td>\n",
       "      <td>0.083906</td>\n",
       "      <td>0.995243</td>\n",
       "    </tr>\n",
       "    <tr>\n",
       "      <th>14212</th>\n",
       "      <td>277159</td>\n",
       "      <td>Допустим, у меня рыбка SD**</td>\n",
       "      <td>104</td>\n",
       "      <td>65600126</td>\n",
       "      <td>99827517</td>\n",
       "      <td>2011-03-31 19:28:00</td>\n",
       "      <td>2019-12-09 11:27:00</td>\n",
       "      <td>(100, 1000]</td>\n",
       "      <td>0.0</td>\n",
       "      <td>29.0</td>\n",
       "      <td>...</td>\n",
       "      <td>0.879890</td>\n",
       "      <td>0.678571</td>\n",
       "      <td>0.928292</td>\n",
       "      <td>0.861595</td>\n",
       "      <td>1.489310</td>\n",
       "      <td>1.931430</td>\n",
       "      <td>0.228915</td>\n",
       "      <td>1.905038</td>\n",
       "      <td>0.109535</td>\n",
       "      <td>0.994352</td>\n",
       "    </tr>\n",
       "    <tr>\n",
       "      <th>1341</th>\n",
       "      <td>35269</td>\n",
       "      <td>атмосфера C.B. SD*</td>\n",
       "      <td>256</td>\n",
       "      <td>56518497</td>\n",
       "      <td>103104750</td>\n",
       "      <td>2010-04-30 18:45:00</td>\n",
       "      <td>2021-07-30 22:08:00</td>\n",
       "      <td>(100, 1000]</td>\n",
       "      <td>0.0</td>\n",
       "      <td>55.0</td>\n",
       "      <td>...</td>\n",
       "      <td>0.886146</td>\n",
       "      <td>0.687075</td>\n",
       "      <td>0.946802</td>\n",
       "      <td>0.862714</td>\n",
       "      <td>1.547664</td>\n",
       "      <td>1.998544</td>\n",
       "      <td>0.236585</td>\n",
       "      <td>1.834388</td>\n",
       "      <td>0.100539</td>\n",
       "      <td>0.994171</td>\n",
       "    </tr>\n",
       "    <tr>\n",
       "      <th>16585</th>\n",
       "      <td>399265</td>\n",
       "      <td>brunetka777 SD*</td>\n",
       "      <td>390</td>\n",
       "      <td>80609438</td>\n",
       "      <td>95023523</td>\n",
       "      <td>2013-05-11 17:51:00</td>\n",
       "      <td>2017-05-20 16:50:00</td>\n",
       "      <td>(100, 1000]</td>\n",
       "      <td>0.0</td>\n",
       "      <td>155.0</td>\n",
       "      <td>...</td>\n",
       "      <td>0.921243</td>\n",
       "      <td>0.779355</td>\n",
       "      <td>0.953531</td>\n",
       "      <td>0.903418</td>\n",
       "      <td>1.692919</td>\n",
       "      <td>2.478266</td>\n",
       "      <td>0.280210</td>\n",
       "      <td>2.186672</td>\n",
       "      <td>0.152407</td>\n",
       "      <td>0.993391</td>\n",
       "    </tr>\n",
       "  </tbody>\n",
       "</table>\n",
       "<p>5 rows × 119 columns</p>\n",
       "</div>"
      ],
      "text/plain": [
       "       Author_Id                       author  cnt_messages  First_Message_Id  \\\n",
       "10417     186159                    ФедЮля **           119          52892781   \n",
       "12640     239519                 Mari5000 F**           451         100866108   \n",
       "14212     277159  Допустим, у меня рыбка SD**           104          65600126   \n",
       "1341       35269           атмосфера C.B. SD*           256          56518497   \n",
       "16585     399265              brunetka777 SD*           390          80609438   \n",
       "\n",
       "       Last_Message_Id    first_message_ts     last_message_ts  \\\n",
       "10417         54365549 2009-12-28 03:36:00 2010-02-19 03:26:00   \n",
       "12640        103104668 2020-06-07 21:54:00 2021-07-30 21:47:00   \n",
       "14212         99827517 2011-03-31 19:28:00 2019-12-09 11:27:00   \n",
       "1341         103104750 2010-04-30 18:45:00 2021-07-30 22:08:00   \n",
       "16585         95023523 2013-05-11 17:51:00 2017-05-20 16:50:00   \n",
       "\n",
       "      Binned Number of Messages  cnt_2021_messages  num_of_tneg_messages  ...  \\\n",
       "10417               (100, 1000]                0.0                  66.0  ...   \n",
       "12640               (100, 1000]              327.0                 152.0  ...   \n",
       "14212               (100, 1000]                0.0                  29.0  ...   \n",
       "1341                (100, 1000]                0.0                  55.0  ...   \n",
       "16585               (100, 1000]                0.0                 155.0  ...   \n",
       "\n",
       "        avg_TTR  avg_TTR_A  avg_TTR_N  avg_TTR_V   avg_NAV  avg_UNAV  \\\n",
       "10417  0.914446   0.784830   0.951166   0.856452  1.694605  2.496751   \n",
       "12640  0.859542   0.658925   0.899019   0.886689  1.558850  2.018277   \n",
       "14212  0.879890   0.678571   0.928292   0.861595  1.489310  1.931430   \n",
       "1341   0.886146   0.687075   0.946802   0.862714  1.547664  1.998544   \n",
       "16585  0.921243   0.779355   0.953531   0.903418  1.692919  2.478266   \n",
       "\n",
       "       avg_fraction_of_Nouns   avg_ASW   avg_PLW  fedulya_sim  \n",
       "10417               0.242852  1.890551  0.105569     1.000000  \n",
       "12640               0.218422  1.786401  0.083906     0.995243  \n",
       "14212               0.228915  1.905038  0.109535     0.994352  \n",
       "1341                0.236585  1.834388  0.100539     0.994171  \n",
       "16585               0.280210  2.186672  0.152407     0.993391  \n",
       "\n",
       "[5 rows x 119 columns]"
      ]
     },
     "execution_count": 46,
     "metadata": {},
     "output_type": "execute_result"
    }
   ],
   "source": [
    "SimilarAuthors.head()"
   ]
  },
  {
   "cell_type": "code",
   "execution_count": 47,
   "metadata": {},
   "outputs": [
    {
     "data": {
      "text/html": [
       "<div>\n",
       "<style scoped>\n",
       "    .dataframe tbody tr th:only-of-type {\n",
       "        vertical-align: middle;\n",
       "    }\n",
       "\n",
       "    .dataframe tbody tr th {\n",
       "        vertical-align: top;\n",
       "    }\n",
       "\n",
       "    .dataframe thead th {\n",
       "        text-align: right;\n",
       "    }\n",
       "</style>\n",
       "<table border=\"1\" class=\"dataframe\">\n",
       "  <thead>\n",
       "    <tr style=\"text-align: right;\">\n",
       "      <th></th>\n",
       "      <th>Author_Id</th>\n",
       "      <th>author</th>\n",
       "      <th>first_message_ts</th>\n",
       "      <th>last_message_ts</th>\n",
       "      <th>cnt_messages</th>\n",
       "      <th>cnt_medium_messages</th>\n",
       "      <th>fedulya_sim</th>\n",
       "    </tr>\n",
       "  </thead>\n",
       "  <tbody>\n",
       "    <tr>\n",
       "      <th>10417</th>\n",
       "      <td>186159</td>\n",
       "      <td>ФедЮля **</td>\n",
       "      <td>2009-12-28 03:36:00</td>\n",
       "      <td>2010-02-19 03:26:00</td>\n",
       "      <td>119</td>\n",
       "      <td>105.0</td>\n",
       "      <td>1.000000</td>\n",
       "    </tr>\n",
       "    <tr>\n",
       "      <th>13120</th>\n",
       "      <td>250487</td>\n",
       "      <td>ФедюлЯ +</td>\n",
       "      <td>2009-11-01 18:41:00</td>\n",
       "      <td>2010-02-22 16:43:00</td>\n",
       "      <td>5571</td>\n",
       "      <td>4530.0</td>\n",
       "      <td>0.985593</td>\n",
       "    </tr>\n",
       "    <tr>\n",
       "      <th>17469</th>\n",
       "      <td>466036</td>\n",
       "      <td>Федюля Иммодиум для анусов **</td>\n",
       "      <td>2015-03-23 04:31:00</td>\n",
       "      <td>2015-10-06 14:09:00</td>\n",
       "      <td>3776</td>\n",
       "      <td>3196.0</td>\n",
       "      <td>0.980583</td>\n",
       "    </tr>\n",
       "    <tr>\n",
       "      <th>13808</th>\n",
       "      <td>266936</td>\n",
       "      <td>ФедЮлЯ _</td>\n",
       "      <td>2010-03-16 18:53:00</td>\n",
       "      <td>2010-03-23 23:41:00</td>\n",
       "      <td>287</td>\n",
       "      <td>243.0</td>\n",
       "      <td>0.973728</td>\n",
       "    </tr>\n",
       "    <tr>\n",
       "      <th>13926</th>\n",
       "      <td>269514</td>\n",
       "      <td>ФедЮЛЯ *</td>\n",
       "      <td>2010-04-05 23:20:00</td>\n",
       "      <td>2010-06-09 21:45:00</td>\n",
       "      <td>2205</td>\n",
       "      <td>1864.0</td>\n",
       "      <td>0.972686</td>\n",
       "    </tr>\n",
       "    <tr>\n",
       "      <th>17777</th>\n",
       "      <td>482362</td>\n",
       "      <td>Федюля - ЛопедиуМ для анусов +</td>\n",
       "      <td>2015-11-14 00:24:00</td>\n",
       "      <td>2015-12-26 00:48:00</td>\n",
       "      <td>756</td>\n",
       "      <td>666.0</td>\n",
       "      <td>0.962056</td>\n",
       "    </tr>\n",
       "    <tr>\n",
       "      <th>17612</th>\n",
       "      <td>474446</td>\n",
       "      <td>Федюля-иммодиум для анусов *</td>\n",
       "      <td>2015-07-16 23:57:00</td>\n",
       "      <td>2015-12-27 23:30:00</td>\n",
       "      <td>1103</td>\n",
       "      <td>952.0</td>\n",
       "      <td>0.947062</td>\n",
       "    </tr>\n",
       "  </tbody>\n",
       "</table>\n",
       "</div>"
      ],
      "text/plain": [
       "       Author_Id                          author    first_message_ts  \\\n",
       "10417     186159                       ФедЮля ** 2009-12-28 03:36:00   \n",
       "13120     250487                        ФедюлЯ + 2009-11-01 18:41:00   \n",
       "17469     466036   Федюля Иммодиум для анусов ** 2015-03-23 04:31:00   \n",
       "13808     266936                        ФедЮлЯ _ 2010-03-16 18:53:00   \n",
       "13926     269514                        ФедЮЛЯ * 2010-04-05 23:20:00   \n",
       "17777     482362  Федюля - ЛопедиуМ для анусов + 2015-11-14 00:24:00   \n",
       "17612     474446    Федюля-иммодиум для анусов * 2015-07-16 23:57:00   \n",
       "\n",
       "          last_message_ts  cnt_messages  cnt_medium_messages  fedulya_sim  \n",
       "10417 2010-02-19 03:26:00           119                105.0     1.000000  \n",
       "13120 2010-02-22 16:43:00          5571               4530.0     0.985593  \n",
       "17469 2015-10-06 14:09:00          3776               3196.0     0.980583  \n",
       "13808 2010-03-23 23:41:00           287                243.0     0.973728  \n",
       "13926 2010-06-09 21:45:00          2205               1864.0     0.972686  \n",
       "17777 2015-12-26 00:48:00           756                666.0     0.962056  \n",
       "17612 2015-12-27 23:30:00          1103                952.0     0.947062  "
      ]
     },
     "execution_count": 47,
     "metadata": {},
     "output_type": "execute_result"
    }
   ],
   "source": [
    "SimilarAuthors[SimilarAuthors['author'].str.contains('Фед')][['Author_Id','author','first_message_ts', 'last_message_ts','cnt_messages','cnt_medium_messages','fedulya_sim']]"
   ]
  },
  {
   "cell_type": "markdown",
   "metadata": {},
   "source": [
    "## Messages to analyze"
   ]
  },
  {
   "cell_type": "code",
   "execution_count": 48,
   "metadata": {},
   "outputs": [],
   "source": [
    "SimilarAuthors = pd.read_csv(SimilarAuthors_full_filename, error_bad_lines=False, index_col=False)"
   ]
  },
  {
   "cell_type": "code",
   "execution_count": 49,
   "metadata": {},
   "outputs": [],
   "source": [
    "Messages = pd.read_csv(Messages_full_filename, error_bad_lines=False, index_col=False)"
   ]
  },
  {
   "cell_type": "code",
   "execution_count": 50,
   "metadata": {},
   "outputs": [],
   "source": [
    "SMessages=pd.merge(Messages, SimilarAuthors[['Author_Id']], left_on='Author_Id', right_on='Author_Id', how='inner')"
   ]
  },
  {
   "cell_type": "code",
   "execution_count": 51,
   "metadata": {},
   "outputs": [],
   "source": [
    "del Messages"
   ]
  },
  {
   "cell_type": "code",
   "execution_count": 52,
   "metadata": {},
   "outputs": [
    {
     "data": {
      "text/plain": [
       "542068"
      ]
     },
     "execution_count": 52,
     "metadata": {},
     "output_type": "execute_result"
    }
   ],
   "source": [
    "len(SMessages)"
   ]
  },
  {
   "cell_type": "markdown",
   "metadata": {},
   "source": [
    "Medium Size messages only (need to load additional data)"
   ]
  },
  {
   "cell_type": "code",
   "execution_count": 53,
   "metadata": {},
   "outputs": [],
   "source": [
    "ta_ext = pd.read_csv(ta_extension_full_filename, error_bad_lines=False, index_col=False) "
   ]
  },
  {
   "cell_type": "code",
   "execution_count": 54,
   "metadata": {},
   "outputs": [],
   "source": [
    "SMessages=pd.merge(SMessages, ta_ext[['Message_Id', 'message_words']], left_on='Message_Id', right_on='Message_Id', how='inner')"
   ]
  },
  {
   "cell_type": "code",
   "execution_count": 55,
   "metadata": {},
   "outputs": [],
   "source": [
    "del ta_ext"
   ]
  },
  {
   "cell_type": "code",
   "execution_count": 56,
   "metadata": {},
   "outputs": [],
   "source": [
    "SMessages= SMessages[((SMessages['message_words']>short_message_limit_words) & (SMessages['message_words']<=medium_message_limit_words))]"
   ]
  },
  {
   "cell_type": "code",
   "execution_count": 57,
   "metadata": {},
   "outputs": [
    {
     "data": {
      "text/plain": [
       "435070"
      ]
     },
     "execution_count": 57,
     "metadata": {},
     "output_type": "execute_result"
    }
   ],
   "source": [
    "len(SMessages)"
   ]
  },
  {
   "cell_type": "markdown",
   "metadata": {},
   "source": [
    "Joining original forum post text, without cleaning html tags etc"
   ]
  },
  {
   "cell_type": "code",
   "execution_count": 58,
   "metadata": {},
   "outputs": [],
   "source": [
    "OriginalMessages = pd.read_csv(OriginalMessages_full_filename, error_bad_lines=False, index_col=False)"
   ]
  },
  {
   "cell_type": "code",
   "execution_count": 59,
   "metadata": {},
   "outputs": [],
   "source": [
    "SMessages=pd.merge(SMessages, OriginalMessages[['Message_Id','original_message']], left_on='Message_Id', right_on='Message_Id', how='inner')"
   ]
  },
  {
   "cell_type": "code",
   "execution_count": 60,
   "metadata": {},
   "outputs": [],
   "source": [
    "del OriginalMessages"
   ]
  },
  {
   "cell_type": "code",
   "execution_count": 61,
   "metadata": {},
   "outputs": [
    {
     "data": {
      "text/plain": [
       "Index(['Message_Id', 'Timestamp', 'Topic_1st_Message', 'Parent_Id',\n",
       "       'Author_Id', 'author', 'Topic_Id', 'Topic', 'Chapter_Id', 'Chapter',\n",
       "       'message', 'cnt_childs', 'cnt_immediate_childs', 'message_words',\n",
       "       'original_message'],\n",
       "      dtype='object')"
      ]
     },
     "execution_count": 61,
     "metadata": {},
     "output_type": "execute_result"
    }
   ],
   "source": [
    "SMessages.columns"
   ]
  },
  {
   "cell_type": "code",
   "execution_count": 62,
   "metadata": {},
   "outputs": [],
   "source": [
    "SMessages=SMessages[['Message_Id', 'Timestamp', 'Topic_1st_Message', 'Parent_Id',\n",
    "       'Author_Id',  'Topic_Id', 'Topic', 'Chapter_Id', 'Chapter',\n",
    "       'original_message', 'message', 'cnt_childs', 'cnt_immediate_childs']]"
   ]
  },
  {
   "cell_type": "markdown",
   "metadata": {},
   "source": [
    "Unifing author names (can vary in posts) for further analysis"
   ]
  },
  {
   "cell_type": "code",
   "execution_count": 63,
   "metadata": {},
   "outputs": [],
   "source": [
    "#Authors = pd.read_csv(Authors_full_filename, error_bad_lines=False, index_col=False)"
   ]
  },
  {
   "cell_type": "code",
   "execution_count": 64,
   "metadata": {},
   "outputs": [],
   "source": [
    "SMessages=pd.merge(SMessages, Authors[['Author_Id','author']],left_on='Author_Id', right_on='Author_Id', how='inner')"
   ]
  },
  {
   "cell_type": "code",
   "execution_count": 65,
   "metadata": {},
   "outputs": [
    {
     "data": {
      "text/plain": [
       "435070"
      ]
     },
     "execution_count": 65,
     "metadata": {},
     "output_type": "execute_result"
    }
   ],
   "source": [
    "len(SMessages)"
   ]
  },
  {
   "cell_type": "code",
   "execution_count": 66,
   "metadata": {},
   "outputs": [
    {
     "data": {
      "text/html": [
       "<div>\n",
       "<style scoped>\n",
       "    .dataframe tbody tr th:only-of-type {\n",
       "        vertical-align: middle;\n",
       "    }\n",
       "\n",
       "    .dataframe tbody tr th {\n",
       "        vertical-align: top;\n",
       "    }\n",
       "\n",
       "    .dataframe thead th {\n",
       "        text-align: right;\n",
       "    }\n",
       "</style>\n",
       "<table border=\"1\" class=\"dataframe\">\n",
       "  <thead>\n",
       "    <tr style=\"text-align: right;\">\n",
       "      <th></th>\n",
       "      <th>Message_Id</th>\n",
       "      <th>Timestamp</th>\n",
       "      <th>Topic_1st_Message</th>\n",
       "      <th>Parent_Id</th>\n",
       "      <th>Author_Id</th>\n",
       "      <th>Topic_Id</th>\n",
       "      <th>Topic</th>\n",
       "      <th>Chapter_Id</th>\n",
       "      <th>Chapter</th>\n",
       "      <th>original_message</th>\n",
       "      <th>message</th>\n",
       "      <th>cnt_childs</th>\n",
       "      <th>cnt_immediate_childs</th>\n",
       "      <th>author</th>\n",
       "    </tr>\n",
       "  </thead>\n",
       "  <tbody>\n",
       "    <tr>\n",
       "      <th>0</th>\n",
       "      <td>68156918</td>\n",
       "      <td>2011-07-20 15:29:00</td>\n",
       "      <td>N</td>\n",
       "      <td>0</td>\n",
       "      <td>240561</td>\n",
       "      <td>1588239</td>\n",
       "      <td>Ссылки</td>\n",
       "      <td>137</td>\n",
       "      <td>Детская психология и развитие</td>\n",
       "      <td>&lt;div class=\"body\"&gt;Я все могу, где скачать? И б...</td>\n",
       "      <td>Я все могу, где скачать? И беби энштейн? Что-т...</td>\n",
       "      <td>0</td>\n",
       "      <td>0</td>\n",
       "      <td>Олечкая **</td>\n",
       "    </tr>\n",
       "    <tr>\n",
       "      <th>1</th>\n",
       "      <td>65203211</td>\n",
       "      <td>2011-03-19 15:06:00</td>\n",
       "      <td>N</td>\n",
       "      <td>65031236</td>\n",
       "      <td>240561</td>\n",
       "      <td>2604407</td>\n",
       "      <td>методичка по развитию</td>\n",
       "      <td>137</td>\n",
       "      <td>Детская психология и развитие</td>\n",
       "      <td>&lt;div class=\"body\"&gt;а можно мне тоже опыты vidi2...</td>\n",
       "      <td>а можно мне тоже опыты vidi2005olga@mail.ru за...</td>\n",
       "      <td>0</td>\n",
       "      <td>0</td>\n",
       "      <td>Олечкая **</td>\n",
       "    </tr>\n",
       "    <tr>\n",
       "      <th>2</th>\n",
       "      <td>72508255</td>\n",
       "      <td>2012-01-22 16:37:00</td>\n",
       "      <td>N</td>\n",
       "      <td>0</td>\n",
       "      <td>240561</td>\n",
       "      <td>2859257</td>\n",
       "      <td>заикание</td>\n",
       "      <td>137</td>\n",
       "      <td>Детская психология и развитие</td>\n",
       "      <td>&lt;div class=\"body\"&gt;мы ездили в Арлилию, это в М...</td>\n",
       "      <td>мы ездили в Арлилию, это в Медведково. На конс...</td>\n",
       "      <td>0</td>\n",
       "      <td>0</td>\n",
       "      <td>Олечкая **</td>\n",
       "    </tr>\n",
       "    <tr>\n",
       "      <th>3</th>\n",
       "      <td>81885636</td>\n",
       "      <td>2013-08-29 09:39:00</td>\n",
       "      <td>N</td>\n",
       "      <td>81885143</td>\n",
       "      <td>240561</td>\n",
       "      <td>3159289</td>\n",
       "      <td>Мы напрягаем родителей?</td>\n",
       "      <td>137</td>\n",
       "      <td>Детская психология и развитие</td>\n",
       "      <td>&lt;div class=\"body\"&gt;Как мама дочки, скажу. Мне б...</td>\n",
       "      <td>Как мама дочки, скажу. Мне было бы приятно.)))...</td>\n",
       "      <td>2</td>\n",
       "      <td>1</td>\n",
       "      <td>Олечкая **</td>\n",
       "    </tr>\n",
       "    <tr>\n",
       "      <th>4</th>\n",
       "      <td>81888444</td>\n",
       "      <td>2013-08-29 12:57:00</td>\n",
       "      <td>N</td>\n",
       "      <td>81888288</td>\n",
       "      <td>240561</td>\n",
       "      <td>3159289</td>\n",
       "      <td>Мы напрягаем родителей?</td>\n",
       "      <td>137</td>\n",
       "      <td>Детская психология и развитие</td>\n",
       "      <td>&lt;div class=\"body\"&gt;+1&lt;br/&gt;&lt;br/&gt;Не в обиду, но к...</td>\n",
       "      <td>+1Не в обиду, но когда тут пишут, что я фен не...</td>\n",
       "      <td>10</td>\n",
       "      <td>1</td>\n",
       "      <td>Олечкая **</td>\n",
       "    </tr>\n",
       "  </tbody>\n",
       "</table>\n",
       "</div>"
      ],
      "text/plain": [
       "   Message_Id            Timestamp Topic_1st_Message  Parent_Id  Author_Id  \\\n",
       "0    68156918  2011-07-20 15:29:00                 N          0     240561   \n",
       "1    65203211  2011-03-19 15:06:00                 N   65031236     240561   \n",
       "2    72508255  2012-01-22 16:37:00                 N          0     240561   \n",
       "3    81885636  2013-08-29 09:39:00                 N   81885143     240561   \n",
       "4    81888444  2013-08-29 12:57:00                 N   81888288     240561   \n",
       "\n",
       "   Topic_Id                    Topic  Chapter_Id  \\\n",
       "0   1588239                   Ссылки         137   \n",
       "1   2604407    методичка по развитию         137   \n",
       "2   2859257                 заикание         137   \n",
       "3   3159289  Мы напрягаем родителей?         137   \n",
       "4   3159289  Мы напрягаем родителей?         137   \n",
       "\n",
       "                         Chapter  \\\n",
       "0  Детская психология и развитие   \n",
       "1  Детская психология и развитие   \n",
       "2  Детская психология и развитие   \n",
       "3  Детская психология и развитие   \n",
       "4  Детская психология и развитие   \n",
       "\n",
       "                                    original_message  \\\n",
       "0  <div class=\"body\">Я все могу, где скачать? И б...   \n",
       "1  <div class=\"body\">а можно мне тоже опыты vidi2...   \n",
       "2  <div class=\"body\">мы ездили в Арлилию, это в М...   \n",
       "3  <div class=\"body\">Как мама дочки, скажу. Мне б...   \n",
       "4  <div class=\"body\">+1<br/><br/>Не в обиду, но к...   \n",
       "\n",
       "                                             message  cnt_childs  \\\n",
       "0  Я все могу, где скачать? И беби энштейн? Что-т...           0   \n",
       "1  а можно мне тоже опыты vidi2005olga@mail.ru за...           0   \n",
       "2  мы ездили в Арлилию, это в Медведково. На конс...           0   \n",
       "3  Как мама дочки, скажу. Мне было бы приятно.)))...           2   \n",
       "4  +1Не в обиду, но когда тут пишут, что я фен не...          10   \n",
       "\n",
       "   cnt_immediate_childs      author  \n",
       "0                     0  Олечкая **  \n",
       "1                     0  Олечкая **  \n",
       "2                     0  Олечкая **  \n",
       "3                     1  Олечкая **  \n",
       "4                     1  Олечкая **  "
      ]
     },
     "execution_count": 66,
     "metadata": {},
     "output_type": "execute_result"
    }
   ],
   "source": [
    "SMessages.head()"
   ]
  },
  {
   "cell_type": "code",
   "execution_count": 67,
   "metadata": {},
   "outputs": [],
   "source": [
    "SMessages.to_csv(all_fedulya_messages_full_filename, header=True, index=False)"
   ]
  },
  {
   "cell_type": "code",
   "execution_count": 68,
   "metadata": {},
   "outputs": [
    {
     "data": {
      "text/plain": [
       "array([466036, 250487, 186159, 266936, 269514, 474446, 482362])"
      ]
     },
     "execution_count": 68,
     "metadata": {},
     "output_type": "execute_result"
    }
   ],
   "source": [
    "SMessages[SMessages['author'].str.contains('Фед')]['Author_Id'].unique()"
   ]
  }
 ],
 "metadata": {
  "colab": {
   "collapsed_sections": [],
   "machine_shape": "hm",
   "name": "Eva Text Similarity.ipynb",
   "provenance": []
  },
  "kernelspec": {
   "display_name": "Python 3",
   "language": "python",
   "name": "python3"
  },
  "language_info": {
   "codemirror_mode": {
    "name": "ipython",
    "version": 3
   },
   "file_extension": ".py",
   "mimetype": "text/x-python",
   "name": "python",
   "nbconvert_exporter": "python",
   "pygments_lexer": "ipython3",
   "version": "3.8.5"
  }
 },
 "nbformat": 4,
 "nbformat_minor": 4
}
