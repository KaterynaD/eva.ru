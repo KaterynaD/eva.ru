{
 "cells": [
  {
   "cell_type": "markdown",
   "metadata": {},
   "source": [
    "Comparing 2 model sets: based on posts texts cleaned up from html tags, linnks, emojis, etc and original downloaded text.\n",
    "Looks like, a model based on original, not altered text is significantly better."
   ]
  },
  {
   "cell_type": "code",
   "execution_count": 1,
   "metadata": {
    "colab": {
     "base_uri": "https://localhost:8080/"
    },
    "executionInfo": {
     "elapsed": 16780,
     "status": "ok",
     "timestamp": 1641264674217,
     "user": {
      "displayName": "Kateryna Drogaieva",
      "photoUrl": "https://lh3.googleusercontent.com/a-/AOh14GjB1LQYJH97Lqm6RsCcAADFgzEAa0YxMUT7P4mjlA=s64",
      "userId": "10877377912113147805"
     },
     "user_tz": 480
    },
    "id": "ijrbo8TG4lpF",
    "outputId": "11e309bf-211f-4184-aab2-e3d91e5b1037"
   },
   "outputs": [
    {
     "name": "stdout",
     "output_type": "stream",
     "text": [
      "Mounted at /content/drive\n"
     ]
    }
   ],
   "source": [
    "from google.colab import drive\n",
    "drive.mount('/content/drive')"
   ]
  },
  {
   "cell_type": "code",
   "execution_count": 2,
   "metadata": {
    "executionInfo": {
     "elapsed": 191,
     "status": "ok",
     "timestamp": 1641264677004,
     "user": {
      "displayName": "Kateryna Drogaieva",
      "photoUrl": "https://lh3.googleusercontent.com/a-/AOh14GjB1LQYJH97Lqm6RsCcAADFgzEAa0YxMUT7P4mjlA=s64",
      "userId": "10877377912113147805"
     },
     "user_tz": 480
    },
    "id": "r5jnCXiT4-9w"
   },
   "outputs": [],
   "source": [
    "#data and experiment log in Excel file \n",
    "import pandas as pd\n",
    "import numpy as np"
   ]
  },
  {
   "cell_type": "code",
   "execution_count": 3,
   "metadata": {
    "executionInfo": {
     "elapsed": 509,
     "status": "ok",
     "timestamp": 1641264678754,
     "user": {
      "displayName": "Kateryna Drogaieva",
      "photoUrl": "https://lh3.googleusercontent.com/a-/AOh14GjB1LQYJH97Lqm6RsCcAADFgzEAa0YxMUT7P4mjlA=s64",
      "userId": "10877377912113147805"
     },
     "user_tz": 480
    },
    "id": "PjCeeLZ19H0n"
   },
   "outputs": [],
   "source": [
    "#for analyzing results: charts and t-test\n",
    "import scipy.stats as stats\n",
    "from matplotlib import pyplot as plt"
   ]
  },
  {
   "cell_type": "code",
   "execution_count": 4,
   "metadata": {
    "executionInfo": {
     "elapsed": 437,
     "status": "ok",
     "timestamp": 1641264680530,
     "user": {
      "displayName": "Kateryna Drogaieva",
      "photoUrl": "https://lh3.googleusercontent.com/a-/AOh14GjB1LQYJH97Lqm6RsCcAADFgzEAa0YxMUT7P4mjlA=s64",
      "userId": "10877377912113147805"
     },
     "user_tz": 480
    },
    "id": "eCkGp3KI9MJt"
   },
   "outputs": [],
   "source": [
    "#Saving into log (Excel file)\n",
    "import openpyxl \n",
    "def SaveToExperimentLog(Experiments_file, LogEntry, data):\n",
    "    book = openpyxl.load_workbook(Experiments_file)\n",
    "    writer = pd.ExcelWriter(Experiments_file, engine='openpyxl') \n",
    "    writer.book = book\n",
    "\n",
    "    writer.sheets = dict((ws.title, ws) for ws in book.worksheets)\n",
    "\n",
    "    data.to_excel(writer, LogEntry[0:29],index=False)\n",
    "\n",
    "    writer.save()\n",
    "    writer.close()"
   ]
  },
  {
   "cell_type": "code",
   "execution_count": 5,
   "metadata": {
    "executionInfo": {
     "elapsed": 159,
     "status": "ok",
     "timestamp": 1641264683064,
     "user": {
      "displayName": "Kateryna Drogaieva",
      "photoUrl": "https://lh3.googleusercontent.com/a-/AOh14GjB1LQYJH97Lqm6RsCcAADFgzEAa0YxMUT7P4mjlA=s64",
      "userId": "10877377912113147805"
     },
     "user_tz": 480
    },
    "id": "BEoj-bgq9VH9"
   },
   "outputs": [],
   "source": [
    "#Experiment\n",
    "#Experiments log file \n",
    "Experiments_file='/content/drive/MyDrive/Colab Notebooks/Projects/eva/ExperimentLogs/fedulya.xlsx'\n",
    "Experiment_name='Comparing'\n",
    "\n",
    "#Significance level\n",
    "alpha=0.05\n",
    "confidence = 1 - alpha"
   ]
  },
  {
   "cell_type": "code",
   "execution_count": 6,
   "metadata": {
    "colab": {
     "base_uri": "https://localhost:8080/",
     "height": 112
    },
    "executionInfo": {
     "elapsed": 1585,
     "status": "ok",
     "timestamp": 1641264687665,
     "user": {
      "displayName": "Kateryna Drogaieva",
      "photoUrl": "https://lh3.googleusercontent.com/a-/AOh14GjB1LQYJH97Lqm6RsCcAADFgzEAa0YxMUT7P4mjlA=s64",
      "userId": "10877377912113147805"
     },
     "user_tz": 480
    },
    "id": "IWvBsIZt9uwu",
    "outputId": "9852f32d-ab2d-4422-b2e4-27b2ec13e989"
   },
   "outputs": [
    {
     "data": {
      "text/html": [
       "\n",
       "  <div id=\"df-e00880e1-86da-4fc4-bdb7-76069bcc4a6a\">\n",
       "    <div class=\"colab-df-container\">\n",
       "      <div>\n",
       "<style scoped>\n",
       "    .dataframe tbody tr th:only-of-type {\n",
       "        vertical-align: middle;\n",
       "    }\n",
       "\n",
       "    .dataframe tbody tr th {\n",
       "        vertical-align: top;\n",
       "    }\n",
       "\n",
       "    .dataframe thead th {\n",
       "        text-align: right;\n",
       "    }\n",
       "</style>\n",
       "<table border=\"1\" class=\"dataframe\">\n",
       "  <thead>\n",
       "    <tr style=\"text-align: right;\">\n",
       "      <th></th>\n",
       "      <th>Model</th>\n",
       "      <th>Score</th>\n",
       "      <th>0</th>\n",
       "      <th>1</th>\n",
       "      <th>2</th>\n",
       "      <th>3</th>\n",
       "      <th>4</th>\n",
       "      <th>5</th>\n",
       "      <th>6</th>\n",
       "      <th>7</th>\n",
       "      <th>8</th>\n",
       "      <th>9</th>\n",
       "      <th>mean</th>\n",
       "      <th>sem</th>\n",
       "      <th>std</th>\n",
       "      <th>median</th>\n",
       "      <th>Shapiro test</th>\n",
       "      <th>Confidence Interval (+/-)</th>\n",
       "    </tr>\n",
       "  </thead>\n",
       "  <tbody>\n",
       "    <tr>\n",
       "      <th>0</th>\n",
       "      <td>target is original_message</td>\n",
       "      <td>test_fedulya-f1-score</td>\n",
       "      <td>0.859668</td>\n",
       "      <td>0.863936</td>\n",
       "      <td>0.870817</td>\n",
       "      <td>0.864304</td>\n",
       "      <td>0.864081</td>\n",
       "      <td>0.864413</td>\n",
       "      <td>0.871423</td>\n",
       "      <td>0.865315</td>\n",
       "      <td>0.868687</td>\n",
       "      <td>0.862759</td>\n",
       "      <td>0.865540</td>\n",
       "      <td>0.001165</td>\n",
       "      <td>0.003684</td>\n",
       "      <td>0.864358</td>\n",
       "      <td>The score is normally distributed with alpha=0.05</td>\n",
       "      <td>0.002635</td>\n",
       "    </tr>\n",
       "    <tr>\n",
       "      <th>1</th>\n",
       "      <td>target is message</td>\n",
       "      <td>test_fedulya-f1-score</td>\n",
       "      <td>0.838986</td>\n",
       "      <td>0.840653</td>\n",
       "      <td>0.840643</td>\n",
       "      <td>0.842144</td>\n",
       "      <td>0.843365</td>\n",
       "      <td>0.842684</td>\n",
       "      <td>0.832733</td>\n",
       "      <td>0.840661</td>\n",
       "      <td>0.839795</td>\n",
       "      <td>0.835556</td>\n",
       "      <td>0.839722</td>\n",
       "      <td>0.001040</td>\n",
       "      <td>0.003287</td>\n",
       "      <td>0.840648</td>\n",
       "      <td>The score is normally distributed with alpha=0.05</td>\n",
       "      <td>0.002352</td>\n",
       "    </tr>\n",
       "  </tbody>\n",
       "</table>\n",
       "</div>\n",
       "      <button class=\"colab-df-convert\" onclick=\"convertToInteractive('df-e00880e1-86da-4fc4-bdb7-76069bcc4a6a')\"\n",
       "              title=\"Convert this dataframe to an interactive table.\"\n",
       "              style=\"display:none;\">\n",
       "        \n",
       "  <svg xmlns=\"http://www.w3.org/2000/svg\" height=\"24px\"viewBox=\"0 0 24 24\"\n",
       "       width=\"24px\">\n",
       "    <path d=\"M0 0h24v24H0V0z\" fill=\"none\"/>\n",
       "    <path d=\"M18.56 5.44l.94 2.06.94-2.06 2.06-.94-2.06-.94-.94-2.06-.94 2.06-2.06.94zm-11 1L8.5 8.5l.94-2.06 2.06-.94-2.06-.94L8.5 2.5l-.94 2.06-2.06.94zm10 10l.94 2.06.94-2.06 2.06-.94-2.06-.94-.94-2.06-.94 2.06-2.06.94z\"/><path d=\"M17.41 7.96l-1.37-1.37c-.4-.4-.92-.59-1.43-.59-.52 0-1.04.2-1.43.59L10.3 9.45l-7.72 7.72c-.78.78-.78 2.05 0 2.83L4 21.41c.39.39.9.59 1.41.59.51 0 1.02-.2 1.41-.59l7.78-7.78 2.81-2.81c.8-.78.8-2.07 0-2.86zM5.41 20L4 18.59l7.72-7.72 1.47 1.35L5.41 20z\"/>\n",
       "  </svg>\n",
       "      </button>\n",
       "      \n",
       "  <style>\n",
       "    .colab-df-container {\n",
       "      display:flex;\n",
       "      flex-wrap:wrap;\n",
       "      gap: 12px;\n",
       "    }\n",
       "\n",
       "    .colab-df-convert {\n",
       "      background-color: #E8F0FE;\n",
       "      border: none;\n",
       "      border-radius: 50%;\n",
       "      cursor: pointer;\n",
       "      display: none;\n",
       "      fill: #1967D2;\n",
       "      height: 32px;\n",
       "      padding: 0 0 0 0;\n",
       "      width: 32px;\n",
       "    }\n",
       "\n",
       "    .colab-df-convert:hover {\n",
       "      background-color: #E2EBFA;\n",
       "      box-shadow: 0px 1px 2px rgba(60, 64, 67, 0.3), 0px 1px 3px 1px rgba(60, 64, 67, 0.15);\n",
       "      fill: #174EA6;\n",
       "    }\n",
       "\n",
       "    [theme=dark] .colab-df-convert {\n",
       "      background-color: #3B4455;\n",
       "      fill: #D2E3FC;\n",
       "    }\n",
       "\n",
       "    [theme=dark] .colab-df-convert:hover {\n",
       "      background-color: #434B5C;\n",
       "      box-shadow: 0px 1px 3px 1px rgba(0, 0, 0, 0.15);\n",
       "      filter: drop-shadow(0px 1px 2px rgba(0, 0, 0, 0.3));\n",
       "      fill: #FFFFFF;\n",
       "    }\n",
       "  </style>\n",
       "\n",
       "      <script>\n",
       "        const buttonEl =\n",
       "          document.querySelector('#df-e00880e1-86da-4fc4-bdb7-76069bcc4a6a button.colab-df-convert');\n",
       "        buttonEl.style.display =\n",
       "          google.colab.kernel.accessAllowed ? 'block' : 'none';\n",
       "\n",
       "        async function convertToInteractive(key) {\n",
       "          const element = document.querySelector('#df-e00880e1-86da-4fc4-bdb7-76069bcc4a6a');\n",
       "          const dataTable =\n",
       "            await google.colab.kernel.invokeFunction('convertToInteractive',\n",
       "                                                     [key], {});\n",
       "          if (!dataTable) return;\n",
       "\n",
       "          const docLinkHtml = 'Like what you see? Visit the ' +\n",
       "            '<a target=\"_blank\" href=https://colab.research.google.com/notebooks/data_table.ipynb>data table notebook</a>'\n",
       "            + ' to learn more about interactive tables.';\n",
       "          element.innerHTML = '';\n",
       "          dataTable['output_type'] = 'display_data';\n",
       "          await google.colab.output.renderOutput(dataTable, element);\n",
       "          const docLink = document.createElement('div');\n",
       "          docLink.innerHTML = docLinkHtml;\n",
       "          element.appendChild(docLink);\n",
       "        }\n",
       "      </script>\n",
       "    </div>\n",
       "  </div>\n",
       "  "
      ],
      "text/plain": [
       "                         Model  ... Confidence Interval (+/-)\n",
       "0  target is original_message   ...                  0.002635\n",
       "1            target is message  ...                  0.002352\n",
       "\n",
       "[2 rows x 18 columns]"
      ]
     },
     "execution_count": 6,
     "metadata": {},
     "output_type": "execute_result"
    }
   ],
   "source": [
    "Experiment = pd.read_excel(open(Experiments_file, 'rb'), sheet_name=Experiment_name)\n",
    "Experiment.tail()"
   ]
  },
  {
   "cell_type": "markdown",
   "metadata": {
    "id": "cHlQojl3-dAY"
   },
   "source": [
    "## t-test"
   ]
  },
  {
   "cell_type": "code",
   "execution_count": 7,
   "metadata": {
    "executionInfo": {
     "elapsed": 172,
     "status": "ok",
     "timestamp": 1641264698710,
     "user": {
      "displayName": "Kateryna Drogaieva",
      "photoUrl": "https://lh3.googleusercontent.com/a-/AOh14GjB1LQYJH97Lqm6RsCcAADFgzEAa0YxMUT7P4mjlA=s64",
      "userId": "10877377912113147805"
     },
     "user_tz": 480
    },
    "id": "gEd_ynEg97fp"
   },
   "outputs": [],
   "source": [
    "#set a specific BaseModel name or just select with min or max mean score\n",
    "#The rest of the models will be compared to BaseModel\n",
    "BaseModel=Experiment[Experiment['mean']==Experiment['mean'].max()]['Model'].values[0]\n",
    "#BaseModel='Model2'\n",
    "\n",
    "folds_columns=['0','1','2','3','4','5','6','7','8','9']\n",
    "\n",
    "BaseModelResults=Experiment[Experiment['Model']==BaseModel][folds_columns].values[0].tolist()\n",
    "shapiro_test = stats.shapiro(BaseModelResults)\n",
    "shapiro_test_pvalue = shapiro_test[1]\n",
    "if shapiro_test_pvalue < alpha:\n",
    "  Experiment['t-test Comment'] = 'The null hypothesis that the score are normally distributed is rejected with alpha=%s'%alpha\n",
    "else:\n",
    "  Experiment['t-test Comment'] = 'This is BaseModel in the comparizon.'"
   ]
  },
  {
   "cell_type": "code",
   "execution_count": 8,
   "metadata": {
    "colab": {
     "base_uri": "https://localhost:8080/",
     "height": 208
    },
    "executionInfo": {
     "elapsed": 187,
     "status": "ok",
     "timestamp": 1641264702729,
     "user": {
      "displayName": "Kateryna Drogaieva",
      "photoUrl": "https://lh3.googleusercontent.com/a-/AOh14GjB1LQYJH97Lqm6RsCcAADFgzEAa0YxMUT7P4mjlA=s64",
      "userId": "10877377912113147805"
     },
     "user_tz": 480
    },
    "id": "RoxPnwgu_sDw",
    "outputId": "cd2e59ed-8c3d-4d5f-cb23-11dc1c309a64"
   },
   "outputs": [
    {
     "data": {
      "text/html": [
       "\n",
       "  <div id=\"df-b790ace8-6924-41ff-ab29-de8d8a7cdfea\">\n",
       "    <div class=\"colab-df-container\">\n",
       "      <div>\n",
       "<style scoped>\n",
       "    .dataframe tbody tr th:only-of-type {\n",
       "        vertical-align: middle;\n",
       "    }\n",
       "\n",
       "    .dataframe tbody tr th {\n",
       "        vertical-align: top;\n",
       "    }\n",
       "\n",
       "    .dataframe thead th {\n",
       "        text-align: right;\n",
       "    }\n",
       "</style>\n",
       "<table border=\"1\" class=\"dataframe\">\n",
       "  <thead>\n",
       "    <tr style=\"text-align: right;\">\n",
       "      <th></th>\n",
       "      <th>Model</th>\n",
       "      <th>Score</th>\n",
       "      <th>0</th>\n",
       "      <th>1</th>\n",
       "      <th>2</th>\n",
       "      <th>3</th>\n",
       "      <th>4</th>\n",
       "      <th>5</th>\n",
       "      <th>6</th>\n",
       "      <th>7</th>\n",
       "      <th>8</th>\n",
       "      <th>9</th>\n",
       "      <th>mean</th>\n",
       "      <th>sem</th>\n",
       "      <th>std</th>\n",
       "      <th>median</th>\n",
       "      <th>Shapiro test</th>\n",
       "      <th>Confidence Interval (+/-)</th>\n",
       "      <th>t-test Comment</th>\n",
       "      <th>t-statistic</th>\n",
       "      <th>t-test pvalue</th>\n",
       "    </tr>\n",
       "  </thead>\n",
       "  <tbody>\n",
       "    <tr>\n",
       "      <th>0</th>\n",
       "      <td>target is original_message</td>\n",
       "      <td>test_fedulya-f1-score</td>\n",
       "      <td>0.859668</td>\n",
       "      <td>0.863936</td>\n",
       "      <td>0.870817</td>\n",
       "      <td>0.864304</td>\n",
       "      <td>0.864081</td>\n",
       "      <td>0.864413</td>\n",
       "      <td>0.871423</td>\n",
       "      <td>0.865315</td>\n",
       "      <td>0.868687</td>\n",
       "      <td>0.862759</td>\n",
       "      <td>0.865540</td>\n",
       "      <td>0.001165</td>\n",
       "      <td>0.003684</td>\n",
       "      <td>0.864358</td>\n",
       "      <td>The score is normally distributed with alpha=0.05</td>\n",
       "      <td>0.002635</td>\n",
       "      <td>This is BaseModel in the comparizon.</td>\n",
       "      <td>NaN</td>\n",
       "      <td>NaN</td>\n",
       "    </tr>\n",
       "    <tr>\n",
       "      <th>1</th>\n",
       "      <td>target is message</td>\n",
       "      <td>test_fedulya-f1-score</td>\n",
       "      <td>0.838986</td>\n",
       "      <td>0.840653</td>\n",
       "      <td>0.840643</td>\n",
       "      <td>0.842144</td>\n",
       "      <td>0.843365</td>\n",
       "      <td>0.842684</td>\n",
       "      <td>0.832733</td>\n",
       "      <td>0.840661</td>\n",
       "      <td>0.839795</td>\n",
       "      <td>0.835556</td>\n",
       "      <td>0.839722</td>\n",
       "      <td>0.001040</td>\n",
       "      <td>0.003287</td>\n",
       "      <td>0.840648</td>\n",
       "      <td>The score is normally distributed with alpha=0.05</td>\n",
       "      <td>0.002352</td>\n",
       "      <td>There is a difference with target is original_...</td>\n",
       "      <td>14.474381</td>\n",
       "      <td>1.537167e-07</td>\n",
       "    </tr>\n",
       "  </tbody>\n",
       "</table>\n",
       "</div>\n",
       "      <button class=\"colab-df-convert\" onclick=\"convertToInteractive('df-b790ace8-6924-41ff-ab29-de8d8a7cdfea')\"\n",
       "              title=\"Convert this dataframe to an interactive table.\"\n",
       "              style=\"display:none;\">\n",
       "        \n",
       "  <svg xmlns=\"http://www.w3.org/2000/svg\" height=\"24px\"viewBox=\"0 0 24 24\"\n",
       "       width=\"24px\">\n",
       "    <path d=\"M0 0h24v24H0V0z\" fill=\"none\"/>\n",
       "    <path d=\"M18.56 5.44l.94 2.06.94-2.06 2.06-.94-2.06-.94-.94-2.06-.94 2.06-2.06.94zm-11 1L8.5 8.5l.94-2.06 2.06-.94-2.06-.94L8.5 2.5l-.94 2.06-2.06.94zm10 10l.94 2.06.94-2.06 2.06-.94-2.06-.94-.94-2.06-.94 2.06-2.06.94z\"/><path d=\"M17.41 7.96l-1.37-1.37c-.4-.4-.92-.59-1.43-.59-.52 0-1.04.2-1.43.59L10.3 9.45l-7.72 7.72c-.78.78-.78 2.05 0 2.83L4 21.41c.39.39.9.59 1.41.59.51 0 1.02-.2 1.41-.59l7.78-7.78 2.81-2.81c.8-.78.8-2.07 0-2.86zM5.41 20L4 18.59l7.72-7.72 1.47 1.35L5.41 20z\"/>\n",
       "  </svg>\n",
       "      </button>\n",
       "      \n",
       "  <style>\n",
       "    .colab-df-container {\n",
       "      display:flex;\n",
       "      flex-wrap:wrap;\n",
       "      gap: 12px;\n",
       "    }\n",
       "\n",
       "    .colab-df-convert {\n",
       "      background-color: #E8F0FE;\n",
       "      border: none;\n",
       "      border-radius: 50%;\n",
       "      cursor: pointer;\n",
       "      display: none;\n",
       "      fill: #1967D2;\n",
       "      height: 32px;\n",
       "      padding: 0 0 0 0;\n",
       "      width: 32px;\n",
       "    }\n",
       "\n",
       "    .colab-df-convert:hover {\n",
       "      background-color: #E2EBFA;\n",
       "      box-shadow: 0px 1px 2px rgba(60, 64, 67, 0.3), 0px 1px 3px 1px rgba(60, 64, 67, 0.15);\n",
       "      fill: #174EA6;\n",
       "    }\n",
       "\n",
       "    [theme=dark] .colab-df-convert {\n",
       "      background-color: #3B4455;\n",
       "      fill: #D2E3FC;\n",
       "    }\n",
       "\n",
       "    [theme=dark] .colab-df-convert:hover {\n",
       "      background-color: #434B5C;\n",
       "      box-shadow: 0px 1px 3px 1px rgba(0, 0, 0, 0.15);\n",
       "      filter: drop-shadow(0px 1px 2px rgba(0, 0, 0, 0.3));\n",
       "      fill: #FFFFFF;\n",
       "    }\n",
       "  </style>\n",
       "\n",
       "      <script>\n",
       "        const buttonEl =\n",
       "          document.querySelector('#df-b790ace8-6924-41ff-ab29-de8d8a7cdfea button.colab-df-convert');\n",
       "        buttonEl.style.display =\n",
       "          google.colab.kernel.accessAllowed ? 'block' : 'none';\n",
       "\n",
       "        async function convertToInteractive(key) {\n",
       "          const element = document.querySelector('#df-b790ace8-6924-41ff-ab29-de8d8a7cdfea');\n",
       "          const dataTable =\n",
       "            await google.colab.kernel.invokeFunction('convertToInteractive',\n",
       "                                                     [key], {});\n",
       "          if (!dataTable) return;\n",
       "\n",
       "          const docLinkHtml = 'Like what you see? Visit the ' +\n",
       "            '<a target=\"_blank\" href=https://colab.research.google.com/notebooks/data_table.ipynb>data table notebook</a>'\n",
       "            + ' to learn more about interactive tables.';\n",
       "          element.innerHTML = '';\n",
       "          dataTable['output_type'] = 'display_data';\n",
       "          await google.colab.output.renderOutput(dataTable, element);\n",
       "          const docLink = document.createElement('div');\n",
       "          docLink.innerHTML = docLinkHtml;\n",
       "          element.appendChild(docLink);\n",
       "        }\n",
       "      </script>\n",
       "    </div>\n",
       "  </div>\n",
       "  "
      ],
      "text/plain": [
       "                         Model  ... t-test pvalue\n",
       "0  target is original_message   ...           NaN\n",
       "1            target is message  ...  1.537167e-07\n",
       "\n",
       "[2 rows x 21 columns]"
      ]
     },
     "execution_count": 8,
     "metadata": {},
     "output_type": "execute_result"
    }
   ],
   "source": [
    "#t-test for each record in Experiment\n",
    "\n",
    "for index, model in Experiment.iterrows():\n",
    "  if model['Model']!=BaseModel:\n",
    "    AnalyzedModelResults=model[folds_columns].values.tolist()\n",
    "    shapiro_test = stats.shapiro(AnalyzedModelResults)\n",
    "    shapiro_test_pvalue = shapiro_test[1]\n",
    "    if shapiro_test_pvalue < alpha:\n",
    "      models_params.at[index,'Shapiro test'] = 'The null hypothesis that the score are normally distributed is rejected with alpha=%s'%alpha\n",
    "    else:\n",
    "      t=stats.ttest_rel(BaseModelResults,AnalyzedModelResults)\n",
    "      Experiment.at[index,'t-statistic']= t.statistic\n",
    "      Experiment.at[index,'t-test pvalue'] = t.pvalue \n",
    "      if t.pvalue>=alpha:\n",
    "        Experiment.at[index,'t-test Comment'] = 'No difference with %s with %s significance level'%(BaseModel,alpha)\n",
    "      else:\n",
    "        Experiment.at[index,'t-test Comment'] = 'There is a difference with %s with %s significance level'%(BaseModel,alpha)\n",
    "  else:\n",
    "    Experiment.at[index,'t-statistic']= np.nan\n",
    "    Experiment.at[index,'t-test pvalue'] = np.nan\n",
    "Experiment"
   ]
  },
  {
   "cell_type": "markdown",
   "metadata": {
    "id": "Ya_vcAtRFj-8"
   },
   "source": [
    "## Confidence interval of the difference between models scores"
   ]
  },
  {
   "cell_type": "code",
   "execution_count": 9,
   "metadata": {
    "colab": {
     "base_uri": "https://localhost:8080/",
     "height": 687
    },
    "executionInfo": {
     "elapsed": 422,
     "status": "ok",
     "timestamp": 1641264714668,
     "user": {
      "displayName": "Kateryna Drogaieva",
      "photoUrl": "https://lh3.googleusercontent.com/a-/AOh14GjB1LQYJH97Lqm6RsCcAADFgzEAa0YxMUT7P4mjlA=s64",
      "userId": "10877377912113147805"
     },
     "user_tz": 480
    },
    "id": "QjI7QjZhFlSz",
    "outputId": "e5c1eb70-8385-463e-cd67-6ff82236e0c9"
   },
   "outputs": [
    {
     "data": {
      "image/png": "[encoded data removed]",
      "text/plain": [
       "<Figure size 1440x720 with 1 Axes>"
      ]
     },
     "metadata": {
      "needs_background": "light"
     },
     "output_type": "display_data"
    }
   ],
   "source": [
    "CI_name = list()\n",
    "CI_mean = list()\n",
    "CI_lower = list()\n",
    "CI_upper = list()\n",
    "for index, model in Experiment.iterrows():\n",
    "  if model['Model']!=BaseModel:\n",
    "    AnalyzedModelResults=model[folds_columns].values.tolist()\n",
    "    diff=[np.abs(y - x) for y, x in zip(BaseModelResults,AnalyzedModelResults)]\n",
    "    CI=stats.t.interval(1-alpha, len(diff)-1, loc=np.mean(diff), scale=stats.sem(diff))\n",
    "    CI_name.append(model['Model'])\n",
    "    CI_mean.append(np.mean(diff))\n",
    "    CI_lower.append(CI[0])\n",
    "    CI_upper.append(CI[1])  \n",
    "    #models_params.at[index,'BaseModel Diff mean'] = np.mean(diff)\n",
    "    #models_params.at[index,'BaseModel CI lower'] = CI[0]\n",
    "    #models_params.at[index,'BaseModel CI upper'] = CI[1]                       \n",
    "CI_df = pd.DataFrame(list(zip(CI_name, CI_mean, CI_lower, CI_upper)), columns=['Model','mean','lower','upper'])\n",
    "plt.figure(figsize=(20,10))\n",
    "dim=np.arange(0,CI_df['upper'].max() + CI_df['upper'].max()/10,CI_df['upper'].max()/10)\n",
    "for lower,mean,upper,x in zip(CI_df['lower'],CI_df['mean'],CI_df['upper'],range(len(CI_df))):\n",
    "  plt.plot((x,x),(lower,upper),'r_-',markersize=20,color='blue')\n",
    "  plt.plot(x,mean,'ro',color='red')\n",
    "plt.xticks(range(len(CI_df)),list(CI_df['Model']),rotation=90)\n",
    "plt.yticks(dim)\n",
    "plt.grid(axis='both')\n",
    "#plt.margins(x=2)\n",
    "_=plt.title('Confidence Interval of scores differences')\n",
    "lst_chart_filenames=list()\n",
    "#chart_filename=temp_folder+'Confidence Interval of Kappa test scores differences.png'\n",
    "#lst_chart_filenames.append(chart_filename)\n",
    "#plt.savefig(chart_filename,format='png')"
   ]
  },
  {
   "cell_type": "code",
   "execution_count": 10,
   "metadata": {
    "executionInfo": {
     "elapsed": 1839,
     "status": "ok",
     "timestamp": 1641264727869,
     "user": {
      "displayName": "Kateryna Drogaieva",
      "photoUrl": "https://lh3.googleusercontent.com/a-/AOh14GjB1LQYJH97Lqm6RsCcAADFgzEAa0YxMUT7P4mjlA=s64",
      "userId": "10877377912113147805"
     },
     "user_tz": 480
    },
    "id": "5DV3Ij0YBhFp"
   },
   "outputs": [],
   "source": [
    "SaveToExperimentLog(Experiments_file, Experiment_name, Experiment)"
   ]
  }
 ],
 "metadata": {
  "colab": {
   "authorship_tag": "ABX9TyPct1WAE83DYbfrFbaqIpE7",
   "name": "Comparing experiment results.ipynb",
   "provenance": []
  },
  "kernelspec": {
   "display_name": "Python 3",
   "language": "python",
   "name": "python3"
  },
  "language_info": {
   "codemirror_mode": {
    "name": "ipython",
    "version": 3
   },
   "file_extension": ".py",
   "mimetype": "text/x-python",
   "name": "python",
   "nbconvert_exporter": "python",
   "pygments_lexer": "ipython3",
   "version": "3.8.5"
  }
 },
 "nbformat": 4,
 "nbformat_minor": 4
}
