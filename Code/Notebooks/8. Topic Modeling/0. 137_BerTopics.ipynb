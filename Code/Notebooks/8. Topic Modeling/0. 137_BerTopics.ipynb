{
 "cells": [
  {
   "cell_type": "markdown",
   "metadata": {},
   "source": [
    "# BerTopic\n",
    "based on 1st starting posts in \"Kids Psychology and Development\" Russian women forum eva.ru"
   ]
  },
  {
   "cell_type": "code",
   "execution_count": null,
   "metadata": {
    "id": "RtlTz-4USkUY"
   },
   "outputs": [],
   "source": [
    "!pip install bertopic"
   ]
  },
  {
   "cell_type": "code",
   "execution_count": 1,
   "metadata": {
    "colab": {
     "base_uri": "https://localhost:8080/"
    },
    "executionInfo": {
     "elapsed": 17119,
     "status": "ok",
     "timestamp": 1642029723575,
     "user": {
      "displayName": "Kateryna Drogaieva",
      "photoUrl": "https://lh3.googleusercontent.com/a-/AOh14GjB1LQYJH97Lqm6RsCcAADFgzEAa0YxMUT7P4mjlA=s64",
      "userId": "10877377912113147805"
     },
     "user_tz": 480
    },
    "id": "McbFLRKfS_nS",
    "outputId": "bc751ec7-8085-43fd-b3f7-605ff781a8de"
   },
   "outputs": [
    {
     "name": "stdout",
     "output_type": "stream",
     "text": [
      "Mounted at /content/drive\n"
     ]
    }
   ],
   "source": [
    "from google.colab import drive\n",
    "drive.mount('/content/drive')"
   ]
  },
  {
   "cell_type": "code",
   "execution_count": 2,
   "metadata": {
    "executionInfo": {
     "elapsed": 29129,
     "status": "ok",
     "timestamp": 1642029752697,
     "user": {
      "displayName": "Kateryna Drogaieva",
      "photoUrl": "https://lh3.googleusercontent.com/a-/AOh14GjB1LQYJH97Lqm6RsCcAADFgzEAa0YxMUT7P4mjlA=s64",
      "userId": "10877377912113147805"
     },
     "user_tz": 480
    },
    "id": "c9HOmpBWTVKa"
   },
   "outputs": [],
   "source": [
    "from bertopic import BERTopic"
   ]
  },
  {
   "cell_type": "code",
   "execution_count": 3,
   "metadata": {
    "executionInfo": {
     "elapsed": 28,
     "status": "ok",
     "timestamp": 1642029752702,
     "user": {
      "displayName": "Kateryna Drogaieva",
      "photoUrl": "https://lh3.googleusercontent.com/a-/AOh14GjB1LQYJH97Lqm6RsCcAADFgzEAa0YxMUT7P4mjlA=s64",
      "userId": "10877377912113147805"
     },
     "user_tz": 480
    },
    "id": "3vjvkggaTgJD"
   },
   "outputs": [],
   "source": [
    "import os\n",
    "import pandas as pd\n",
    "import numpy as np"
   ]
  },
  {
   "cell_type": "code",
   "execution_count": 4,
   "metadata": {
    "executionInfo": {
     "elapsed": 25,
     "status": "ok",
     "timestamp": 1642029752705,
     "user": {
      "displayName": "Kateryna Drogaieva",
      "photoUrl": "https://lh3.googleusercontent.com/a-/AOh14GjB1LQYJH97Lqm6RsCcAADFgzEAa0YxMUT7P4mjlA=s64",
      "userId": "10877377912113147805"
     },
     "user_tz": 480
    },
    "id": "66epvdXBTigT"
   },
   "outputs": [],
   "source": [
    "Data = '/content/drive/MyDrive/Colab Notebooks/Projects/eva/Data/'\n",
    "\n",
    "Messages_filename='137.csv'\n",
    "Messages_full_filename=os.path.join(Data, Messages_filename)\n",
    "\n",
    "Messages_topics_filename='137Topics.csv'\n",
    "Messages_topics_full_filename=os.path.join(Data, Messages_topics_filename)\n",
    "\n",
    "text='message'\n",
    "\n",
    "\n",
    "Models = '/content/drive/MyDrive/Colab Notebooks/Projects/eva/Models/ChapterTopics/'\n",
    "ModelName='137'\n"
   ]
  },
  {
   "cell_type": "code",
   "execution_count": 5,
   "metadata": {
    "executionInfo": {
     "elapsed": 1818,
     "status": "ok",
     "timestamp": 1642029755295,
     "user": {
      "displayName": "Kateryna Drogaieva",
      "photoUrl": "https://lh3.googleusercontent.com/a-/AOh14GjB1LQYJH97Lqm6RsCcAADFgzEAa0YxMUT7P4mjlA=s64",
      "userId": "10877377912113147805"
     },
     "user_tz": 480
    },
    "id": "LKzZob-nTvYM"
   },
   "outputs": [],
   "source": [
    "df=pd.read_csv(Messages_full_filename, error_bad_lines=False, index_col=False)"
   ]
  },
  {
   "cell_type": "code",
   "execution_count": 6,
   "metadata": {
    "executionInfo": {
     "elapsed": 3482,
     "status": "ok",
     "timestamp": 1642029758763,
     "user": {
      "displayName": "Kateryna Drogaieva",
      "photoUrl": "https://lh3.googleusercontent.com/a-/AOh14GjB1LQYJH97Lqm6RsCcAADFgzEAa0YxMUT7P4mjlA=s64",
      "userId": "10877377912113147805"
     },
     "user_tz": 480
    },
    "id": "3czZ77JhTzyf"
   },
   "outputs": [],
   "source": [
    "#change text column type to string\n",
    "df[text]=df[text].values.astype(str)"
   ]
  },
  {
   "cell_type": "code",
   "execution_count": 7,
   "metadata": {
    "executionInfo": {
     "elapsed": 11,
     "status": "ok",
     "timestamp": 1642029758764,
     "user": {
      "displayName": "Kateryna Drogaieva",
      "photoUrl": "https://lh3.googleusercontent.com/a-/AOh14GjB1LQYJH97Lqm6RsCcAADFgzEAa0YxMUT7P4mjlA=s64",
      "userId": "10877377912113147805"
     },
     "user_tz": 480
    },
    "id": "pPdxyikVT5WQ"
   },
   "outputs": [],
   "source": [
    "import nltk"
   ]
  },
  {
   "cell_type": "code",
   "execution_count": 79,
   "metadata": {
    "executionInfo": {
     "elapsed": 180,
     "status": "ok",
     "timestamp": 1642039961225,
     "user": {
      "displayName": "Kateryna Drogaieva",
      "photoUrl": "https://lh3.googleusercontent.com/a-/AOh14GjB1LQYJH97Lqm6RsCcAADFgzEAa0YxMUT7P4mjlA=s64",
      "userId": "10877377912113147805"
     },
     "user_tz": 480
    },
    "id": "wwUd5QLKT7zM"
   },
   "outputs": [],
   "source": [
    "from nltk.tokenize import RegexpTokenizer\n",
    "tokenizer = RegexpTokenizer(r'\\w+')"
   ]
  },
  {
   "cell_type": "code",
   "execution_count": 80,
   "metadata": {
    "colab": {
     "base_uri": "https://localhost:8080/"
    },
    "executionInfo": {
     "elapsed": 4,
     "status": "ok",
     "timestamp": 1642039961596,
     "user": {
      "displayName": "Kateryna Drogaieva",
      "photoUrl": "https://lh3.googleusercontent.com/a-/AOh14GjB1LQYJH97Lqm6RsCcAADFgzEAa0YxMUT7P4mjlA=s64",
      "userId": "10877377912113147805"
     },
     "user_tz": 480
    },
    "id": "PCKp21xYT-gw",
    "outputId": "04050438-2255-4492-e230-7b094ab55e5e"
   },
   "outputs": [
    {
     "name": "stdout",
     "output_type": "stream",
     "text": [
      "[nltk_data] Downloading package stopwords to /root/nltk_data...\n",
      "[nltk_data]   Package stopwords is already up-to-date!\n"
     ]
    }
   ],
   "source": [
    "nltk.download('stopwords')\n",
    "from nltk.corpus import stopwords\n",
    "ru_stopwords = stopwords.words('russian')\n",
    "eng_stopwords = stopwords.words('english')\n",
    "add_stopwords = ['ай',\n",
    "'ну',\n",
    "'по',\n",
    "'это',\n",
    "'так',\n",
    "'что',\n",
    "'вот',\n",
    "'кого',\n",
    "'то',\n",
    "'кто',\n",
    "'все',\n",
    "'мочь',\n",
    "'всё',\n",
    "'ваш',\n",
    "'спасибо',\n",
    "'пожалуйста',\n",
    "'посоветуйте',\n",
    "'вопрос',\n",
    "'весь',\n",
    "'ав',\n",
    "'очень',\n",
    "'ещё',\n",
    "'просто',\n",
    "'свой',\n",
    "'ребёнок',\n",
    "'сын',\n",
    "'девочка',\n",
    "'мальчик',\n",
    "'дочка',\n",
    "'делать',\n",
    "'дочь',\n",
    "'ребёночек',\n",
    "'собственно',\n",
    "'сабж',\n",
    "'согласный',\n",
    "'ть',\n",
    "'подсказать',\n",
    "'раздел',\n",
    "'тема',\n",
    "'ред'\n",
    "\t]\n",
    "stopwords = eng_stopwords + ru_stopwords + add_stopwords\n",
    "\n",
    "from collections import Counter\n",
    "stopwords_dict = Counter(stopwords)"
   ]
  },
  {
   "cell_type": "code",
   "execution_count": 81,
   "metadata": {
    "executionInfo": {
     "elapsed": 2,
     "status": "ok",
     "timestamp": 1642039961596,
     "user": {
      "displayName": "Kateryna Drogaieva",
      "photoUrl": "https://lh3.googleusercontent.com/a-/AOh14GjB1LQYJH97Lqm6RsCcAADFgzEAa0YxMUT7P4mjlA=s64",
      "userId": "10877377912113147805"
     },
     "user_tz": 480
    },
    "id": "URERD7Y0UImt"
   },
   "outputs": [],
   "source": [
    "#!pip install pymorphy2"
   ]
  },
  {
   "cell_type": "code",
   "execution_count": 82,
   "metadata": {
    "executionInfo": {
     "elapsed": 4,
     "status": "ok",
     "timestamp": 1642039962007,
     "user": {
      "displayName": "Kateryna Drogaieva",
      "photoUrl": "https://lh3.googleusercontent.com/a-/AOh14GjB1LQYJH97Lqm6RsCcAADFgzEAa0YxMUT7P4mjlA=s64",
      "userId": "10877377912113147805"
     },
     "user_tz": 480
    },
    "id": "5CTFYMS7UNK5"
   },
   "outputs": [],
   "source": [
    "import pymorphy2\n",
    "morph = pymorphy2.MorphAnalyzer()\n",
    "def lemmatize(text):\n",
    "    words = text.split() # разбиваем текст на слова\n",
    "    res = list()\n",
    "    for word in words:\n",
    "        p = morph.parse(word)[0]\n",
    "        res.append(p.normal_form)\n",
    "\n",
    "    return  ' '.join(res)\n",
    "def text_preprocess(row):\n",
    "  s=lemmatize(row[text])\n",
    "  return ' '.join([word for word in tokenizer.tokenize(s) if word not in stopwords_dict])"
   ]
  },
  {
   "cell_type": "code",
   "execution_count": 83,
   "metadata": {
    "executionInfo": {
     "elapsed": 765330,
     "status": "ok",
     "timestamp": 1642040727334,
     "user": {
      "displayName": "Kateryna Drogaieva",
      "photoUrl": "https://lh3.googleusercontent.com/a-/AOh14GjB1LQYJH97Lqm6RsCcAADFgzEAa0YxMUT7P4mjlA=s64",
      "userId": "10877377912113147805"
     },
     "user_tz": 480
    },
    "id": "kn2I7CkyUP6l"
   },
   "outputs": [],
   "source": [
    "df['preprocessed_message']=df.apply(text_preprocess,axis=1)"
   ]
  },
  {
   "cell_type": "code",
   "execution_count": 84,
   "metadata": {
    "executionInfo": {
     "elapsed": 1179,
     "status": "ok",
     "timestamp": 1642040728468,
     "user": {
      "displayName": "Kateryna Drogaieva",
      "photoUrl": "https://lh3.googleusercontent.com/a-/AOh14GjB1LQYJH97Lqm6RsCcAADFgzEAa0YxMUT7P4mjlA=s64",
      "userId": "10877377912113147805"
     },
     "user_tz": 480
    },
    "id": "jdTrOzgRVJ7A"
   },
   "outputs": [],
   "source": [
    "df.to_csv(Messages_full_filename, header=True, index=False)"
   ]
  },
  {
   "cell_type": "code",
   "execution_count": 85,
   "metadata": {
    "executionInfo": {
     "elapsed": 87474,
     "status": "ok",
     "timestamp": 1642040815935,
     "user": {
      "displayName": "Kateryna Drogaieva",
      "photoUrl": "https://lh3.googleusercontent.com/a-/AOh14GjB1LQYJH97Lqm6RsCcAADFgzEAa0YxMUT7P4mjlA=s64",
      "userId": "10877377912113147805"
     },
     "user_tz": 480
    },
    "id": "NSM0OhIrU2Iv"
   },
   "outputs": [],
   "source": [
    "data = df['preprocessed_message'].tolist()\n",
    "#model = BERTopic(embedding_model='blinoff/roberta-base-russian-v0')\n",
    "model = BERTopic(language=\"Russian\", calculate_probabilities=True, nr_topics=25)\n",
    "topics, probabilities = model.fit_transform(data)"
   ]
  },
  {
   "cell_type": "code",
   "execution_count": 86,
   "metadata": {
    "colab": {
     "base_uri": "https://localhost:8080/"
    },
    "executionInfo": {
     "elapsed": 6002,
     "status": "ok",
     "timestamp": 1642040821911,
     "user": {
      "displayName": "Kateryna Drogaieva",
      "photoUrl": "https://lh3.googleusercontent.com/a-/AOh14GjB1LQYJH97Lqm6RsCcAADFgzEAa0YxMUT7P4mjlA=s64",
      "userId": "10877377912113147805"
     },
     "user_tz": 480
    },
    "id": "Ic-X6rZRVa_E",
    "outputId": "a7d3eb21-a11b-48fa-8d80-3b0407fd18d1"
   },
   "outputs": [
    {
     "name": "stderr",
     "output_type": "stream",
     "text": [
      "/usr/local/lib/python3.7/dist-packages/scipy/sparse/_index.py:126: SparseEfficiencyWarning:\n",
      "\n",
      "Changing the sparsity structure of a csr_matrix is expensive. lil_matrix is more efficient.\n",
      "\n"
     ]
    }
   ],
   "source": [
    "Model_full_filename=os.path.join(Models, ModelName)\n",
    "model.save(Model_full_filename)"
   ]
  },
  {
   "cell_type": "code",
   "execution_count": 87,
   "metadata": {
    "colab": {
     "base_uri": "https://localhost:8080/",
     "height": 667
    },
    "executionInfo": {
     "elapsed": 3630,
     "status": "ok",
     "timestamp": 1642040825530,
     "user": {
      "displayName": "Kateryna Drogaieva",
      "photoUrl": "https://lh3.googleusercontent.com/a-/AOh14GjB1LQYJH97Lqm6RsCcAADFgzEAa0YxMUT7P4mjlA=s64",
      "userId": "10877377912113147805"
     },
     "user_tz": 480
    },
    "id": "icqnhCAbVIlr",
    "outputId": "80bdd498-6068-4a51-98f6-76d047d1d1cb"
   },
   "outputs": [
    {
     "data": {
      "text/html": [
       "<html>\n",
       "<head><meta charset=\"utf-8\" /></head>\n",
       "<body>\n",
       "    <div>            <script src=\"https://cdnjs.cloudflare.com/ajax/libs/mathjax/2.7.5/MathJax.js?config=TeX-AMS-MML_SVG\"></script><script type=\"text/javascript\">if (window.MathJax) {MathJax.Hub.Config({SVG: {font: \"STIX-Web\"}});}</script>                <script type=\"text/javascript\">window.PlotlyConfig = {MathJaxConfig: 'local'};</script>\n",
       "        <script src=\"https://cdn.plot.ly/plotly-2.8.3.min.js\"></script>                <div id=\"65a3602a-0692-442f-8bbc-13fa73544320\" class=\"plotly-graph-div\" style=\"height:650px; width:650px;\"></div>            <script type=\"text/javascript\">                                    window.PLOTLYENV=window.PLOTLYENV || {};                                    if (document.getElementById(\"65a3602a-0692-442f-8bbc-13fa73544320\")) {                    Plotly.newPlot(                        \"65a3602a-0692-442f-8bbc-13fa73544320\",                        [{\"customdata\":[[0,\"\\u0441\\u043f\\u0430\\u0442\\u044c | \\u0441\\u043e\\u043d | \\u0437\\u0430\\u0441\\u044b\\u043f\\u0430\\u0442\\u044c | \\u043d\\u043e\\u0447\\u044c | \\u043d\\u043e\\u0447\\u044c\\u044e\",1243],[1,\"\\u0447\\u0438\\u0442\\u0430\\u0442\\u044c | \\u043a\\u043d\\u0438\\u0433\\u0430 | \\u0447\\u0442\\u0435\\u043d\\u0438\\u0435 | \\u043a\\u043d\\u0438\\u0436\\u043a\\u0430 | \\u043f\\u0440\\u043e\\u0447\\u0438\\u0442\\u0430\\u0442\\u044c\",778],[2,\"\\u043f\\u0441\\u0438\\u0445\\u043e\\u043b\\u043e\\u0433 | \\u043f\\u043e\\u0441\\u043e\\u0432\\u0435\\u0442\\u043e\\u0432\\u0430\\u0442\\u044c | \\u0445\\u043e\\u0440\\u043e\\u0448\\u0438\\u0439 | \\u043f\\u0441\\u0438\\u0445\\u043e\\u043b\\u043e\\u0433\\u0430 | \\u043d\\u0443\\u0436\\u043d\\u044b\\u0439\",531],[3,\"\\u0440\\u0443\\u0441\\u0441\\u043a\\u0438\\u0439 | \\u043a\\u043b\\u0430\\u0441\\u0441 | \\u0448\\u043a\\u043e\\u043b\\u0430 | \\u043f\\u0438\\u0441\\u0430\\u0442\\u044c | \\u043c\\u0430\\u0442\\u0435\\u043c\\u0430\\u0442\\u0438\\u043a\\u0430\",426],[4,\"\\u0437\\u0432\\u0443\\u043a | \\u043b\\u043e\\u0433\\u043e\\u043f\\u0435\\u0434 | \\u0433\\u043e\\u0432\\u043e\\u0440\\u0438\\u0442\\u044c | \\u0441\\u043b\\u043e\\u0432\\u043e | \\u0440\\u0435\\u0447\\u044c\",278],[5,\"\\u0438\\u0433\\u0440\\u0443\\u0448\\u043a\\u0430 | \\u043a\\u0443\\u043a\\u043b\\u0430 | \\u0438\\u0433\\u0440\\u0430 | \\u0438\\u0433\\u0440\\u0430\\u0442\\u044c | \\u0438\\u0433\\u0440\\u0443\\u0448\\u043a\\u0438\",274],[6,\"\\u0441\\u0430\\u0434 | \\u0433\\u0440\\u0443\\u043f\\u043f\\u0430 | \\u0445\\u043e\\u0434\\u0438\\u0442\\u044c | \\u0433\\u043e\\u0434 | \\u0441\\u0430\\u0434\\u0443\",263],[7,\"\\u043a\\u043b\\u0430\\u0441\\u0441 | \\u0443\\u0447\\u0438\\u0442\\u0435\\u043b\\u044c | \\u0448\\u043a\\u043e\\u043b\\u0430 | \\u0443\\u0447\\u0438\\u0442\\u0435\\u043b\\u044c\\u043d\\u0438\\u0446\\u0430 | \\u0443\\u0447\\u0438\\u0442\\u044c\\u0441\\u044f\",230],[8,\"\\u0440\\u0438\\u0441\\u043e\\u0432\\u0430\\u0442\\u044c | \\u0446\\u0432\\u0435\\u0442 | \\u0440\\u0438\\u0441\\u0443\\u043d\\u043e\\u043a | \\u043a\\u0430\\u0440\\u0430\\u043d\\u0434\\u0430\\u0448 | \\u043d\\u0430\\u0440\\u0438\\u0441\\u043e\\u0432\\u0430\\u0442\\u044c\",225],[9,\"\\u043c\\u0430\\u0442\\u0435\\u043c\\u0430\\u0442\\u0438\\u043a\\u0430 | \\u043a\\u043b\\u0430\\u0441\\u0441 | \\u0440\\u0435\\u043f\\u0435\\u0442\\u0438\\u0442\\u043e\\u0440 | \\u043c\\u0430\\u0442\\u0435\\u043c\\u0430\\u0442\\u0438\\u043a\\u0435 | \\u0437\\u0430\\u0434\\u0430\\u0447\\u0430\",223],[10,\"\\u0441\\u0435\\u043a\\u0441 | \\u043f\\u043e\\u043b\\u043e\\u0432\\u043e\\u0439 | \\u043b\\u0435\\u0442 | \\u043f\\u043e\\u0440\\u043d\\u043e | \\u0433\\u043e\\u0434\",217],[11,\"\\u0441\\u0442\\u0430\\u0440\\u0448\\u0438\\u0439 | \\u043b\\u0435\\u0442 | \\u0440\\u043e\\u0434\\u0438\\u0442\\u0435\\u043b\\u044c | \\u043c\\u0430\\u043c\\u0430 | \\u0431\\u0438\\u0442\\u044c\",215],[12,\"\\u043c\\u0430\\u043c\\u0430 | \\u0445\\u043e\\u0442\\u0435\\u0442\\u044c | \\u0433\\u043e\\u0432\\u043e\\u0440\\u0438\\u0442\\u044c | \\u043f\\u0430\\u043f\\u0430 | \\u0434\\u0440\\u0443\\u0433\",198],[13,\"\\u043c\\u0443\\u0437\\u044b\\u043a\\u0430 | \\u043c\\u0443\\u0437\\u044b\\u043a\\u0430\\u043b\\u044c\\u043d\\u044b\\u0439 | \\u043f\\u0435\\u0442\\u044c | \\u0437\\u0430\\u043d\\u0438\\u043c\\u0430\\u0442\\u044c\\u0441\\u044f | \\u0437\\u0430\\u043d\\u044f\\u0442\\u0438\\u0435\",193],[14,\"\\u0442\\u0435\\u043b\\u0435\\u0444\\u043e\\u043d | \\u043f\\u043b\\u0430\\u043d\\u0448\\u0435\\u0442 | \\u0441\\u043c\\u0430\\u0440\\u0442\\u0444\\u043e\\u043d | \\u0438\\u0433\\u0440\\u0430 | \\u0438\\u043d\\u0442\\u0435\\u0440\\u043d\\u0435\\u0442\",156],[15,\"\\u0441\\u043f\\u043e\\u0440\\u0442 | \\u0437\\u0430\\u043d\\u0438\\u043c\\u0430\\u0442\\u044c\\u0441\\u044f | \\u0433\\u0438\\u043c\\u043d\\u0430\\u0441\\u0442\\u0438\\u043a\\u0430 | \\u0442\\u0440\\u0435\\u043d\\u0435\\u0440 | \\u0441\\u043f\\u043e\\u0440\\u0442\\u0438\\u0432\\u043d\\u044b\\u0439\",141],[16,\"\\u0440\\u043e\\u0441\\u0442 | \\u0432\\u0435\\u0441 | \\u0441\\u043c | \\u043a\\u0433 | \\u0433\\u043e\\u0434\",136],[17,\"\\u0441\\u0430\\u0434 | \\u0445\\u043e\\u0434\\u0438\\u0442\\u044c | \\u0441\\u0430\\u0434\\u0438\\u043a | \\u0434\\u0435\\u043d\\u044c | \\u043d\\u0435\\u0434\\u0435\\u043b\\u044f\",132],[18,\"\\u0430\\u043d\\u0433\\u043b\\u0438\\u0439\\u0441\\u043a\\u0438\\u0439 | \\u044f\\u0437\\u044b\\u043a | \\u043d\\u0435\\u043c\\u0435\\u0446\\u043a\\u0438\\u0439 | \\u043e\\u0431\\u0443\\u0447\\u0435\\u043d\\u0438\\u0435 | \\u0443\\u0447\\u0438\\u0442\\u044c\",130],[19,\"\\u043d\\u0435\\u0432\\u0440\\u043e\\u043b\\u043e\\u0433 | \\u0432\\u0440\\u0430\\u0447 | \\u0434\\u0438\\u0430\\u0433\\u043d\\u043e\\u0437 | \\u0433\\u043e\\u0434 | nan\",126],[20,\"\\u0434\\u0435\\u043d\\u044c\\u0433\\u0430 | \\u0434\\u0435\\u043d\\u044c\\u0433\\u0438 | \\u043a\\u0430\\u0440\\u043c\\u0430\\u043d\\u043d\\u044b\\u0439 | \\u0441\\u0443\\u043c\\u043c\\u0430 | \\u0434\\u0430\\u0432\\u0430\\u0442\\u044c\",125],[21,\"\\u0435\\u0434\\u0430 | \\u043a\\u043e\\u0440\\u043c\\u0438\\u0442\\u044c | \\u043b\\u043e\\u0436\\u043a\\u0430 | \\u0441\\u0443\\u043f | \\u0435\\u0441\\u0442\",119],[22,\"\\u043f\\u043e\\u0434\\u0430\\u0440\\u043e\\u043a | \\u0434\\u0435\\u0434 | \\u043c\\u043e\\u0440\\u043e\\u0437 | \\u0434\\u0430\\u0440\\u0438\\u0442\\u044c | \\u0432\\u0435\\u0440\\u0438\\u0442\\u044c\",111],[23,\"\\u043d\\u043e\\u0441\\u0438\\u0442\\u044c | \\u043e\\u0434\\u0435\\u0436\\u0434\\u0430 | \\u043f\\u043b\\u0430\\u0442\\u044c\\u0435 | \\u043e\\u0434\\u0435\\u0432\\u0430\\u0442\\u044c | \\u043e\\u0434\\u0435\\u0442\\u044c\",107],[24,\"\\u0442\\u0430\\u043d\\u0435\\u0446 | \\u0442\\u0430\\u043d\\u0446\\u044b | \\u0431\\u0430\\u043b\\u0435\\u0442 | \\u0445\\u043e\\u0434\\u0438\\u0442\\u044c | \\u0437\\u0430\\u043d\\u044f\\u0442\\u0438\\u0435\",105]],\"hovertemplate\":\"<b>Topic %{customdata[0]}</b><br>Words: %{customdata[1]}<br>Size: %{customdata[2]}\",\"legendgroup\":\"\",\"marker\":{\"color\":\"#B0BEC5\",\"size\":[1243,778,531,426,278,274,263,230,225,223,217,215,198,193,156,141,136,132,130,126,125,119,111,107,105],\"sizemode\":\"area\",\"sizeref\":0.776875,\"symbol\":\"circle\",\"line\":{\"color\":\"DarkSlateGrey\",\"width\":2}},\"mode\":\"markers\",\"name\":\"\",\"orientation\":\"v\",\"showlegend\":false,\"x\":[18.649686813354492,-0.232488214969635,3.2730841636657715,-0.10790277272462845,3.5190024375915527,8.395075798034668,19.199594497680664,-7.4746503829956055,-0.3850743770599365,0.03579534962773323,-7.632282257080078,-7.283917427062988,19.280271530151367,13.824243545532227,8.416865348815918,13.424543380737305,20.066852569580078,19.37925910949707,0.015835708007216454,3.3285202980041504,7.9482221603393555,19.844722747802734,7.900058269500732,19.40091896057129,13.584282875061035],\"xaxis\":\"x\",\"y\":[-8.144264221191406,3.150895595550537,1.4513605833053589,3.298065662384033,1.2043408155441284,-0.2590101957321167,-8.854900360107422,3.8855719566345215,3.9207897186279297,3.6944282054901123,4.043817520141602,3.6948587894439697,-8.241964340209961,10.199529647827148,-0.06572767347097397,10.59984016418457,-7.660830497741699,-8.42679500579834,4.167525768280029,1.3958998918533325,0.15041528642177582,-7.91410493850708,0.2079029083251953,-9.110363960266113,10.440072059631348],\"yaxis\":\"y\",\"type\":\"scatter\"}],                        {\"template\":{\"data\":{\"barpolar\":[{\"marker\":{\"line\":{\"color\":\"white\",\"width\":0.5},\"pattern\":{\"fillmode\":\"overlay\",\"size\":10,\"solidity\":0.2}},\"type\":\"barpolar\"}],\"bar\":[{\"error_x\":{\"color\":\"rgb(36,36,36)\"},\"error_y\":{\"color\":\"rgb(36,36,36)\"},\"marker\":{\"line\":{\"color\":\"white\",\"width\":0.5},\"pattern\":{\"fillmode\":\"overlay\",\"size\":10,\"solidity\":0.2}},\"type\":\"bar\"}],\"carpet\":[{\"aaxis\":{\"endlinecolor\":\"rgb(36,36,36)\",\"gridcolor\":\"white\",\"linecolor\":\"white\",\"minorgridcolor\":\"white\",\"startlinecolor\":\"rgb(36,36,36)\"},\"baxis\":{\"endlinecolor\":\"rgb(36,36,36)\",\"gridcolor\":\"white\",\"linecolor\":\"white\",\"minorgridcolor\":\"white\",\"startlinecolor\":\"rgb(36,36,36)\"},\"type\":\"carpet\"}],\"choropleth\":[{\"colorbar\":{\"outlinewidth\":1,\"tickcolor\":\"rgb(36,36,36)\",\"ticks\":\"outside\"},\"type\":\"choropleth\"}],\"contourcarpet\":[{\"colorbar\":{\"outlinewidth\":1,\"tickcolor\":\"rgb(36,36,36)\",\"ticks\":\"outside\"},\"type\":\"contourcarpet\"}],\"contour\":[{\"colorbar\":{\"outlinewidth\":1,\"tickcolor\":\"rgb(36,36,36)\",\"ticks\":\"outside\"},\"colorscale\":[[0.0,\"#440154\"],[0.1111111111111111,\"#482878\"],[0.2222222222222222,\"#3e4989\"],[0.3333333333333333,\"#31688e\"],[0.4444444444444444,\"#26828e\"],[0.5555555555555556,\"#1f9e89\"],[0.6666666666666666,\"#35b779\"],[0.7777777777777778,\"#6ece58\"],[0.8888888888888888,\"#b5de2b\"],[1.0,\"#fde725\"]],\"type\":\"contour\"}],\"heatmapgl\":[{\"colorbar\":{\"outlinewidth\":1,\"tickcolor\":\"rgb(36,36,36)\",\"ticks\":\"outside\"},\"colorscale\":[[0.0,\"#440154\"],[0.1111111111111111,\"#482878\"],[0.2222222222222222,\"#3e4989\"],[0.3333333333333333,\"#31688e\"],[0.4444444444444444,\"#26828e\"],[0.5555555555555556,\"#1f9e89\"],[0.6666666666666666,\"#35b779\"],[0.7777777777777778,\"#6ece58\"],[0.8888888888888888,\"#b5de2b\"],[1.0,\"#fde725\"]],\"type\":\"heatmapgl\"}],\"heatmap\":[{\"colorbar\":{\"outlinewidth\":1,\"tickcolor\":\"rgb(36,36,36)\",\"ticks\":\"outside\"},\"colorscale\":[[0.0,\"#440154\"],[0.1111111111111111,\"#482878\"],[0.2222222222222222,\"#3e4989\"],[0.3333333333333333,\"#31688e\"],[0.4444444444444444,\"#26828e\"],[0.5555555555555556,\"#1f9e89\"],[0.6666666666666666,\"#35b779\"],[0.7777777777777778,\"#6ece58\"],[0.8888888888888888,\"#b5de2b\"],[1.0,\"#fde725\"]],\"type\":\"heatmap\"}],\"histogram2dcontour\":[{\"colorbar\":{\"outlinewidth\":1,\"tickcolor\":\"rgb(36,36,36)\",\"ticks\":\"outside\"},\"colorscale\":[[0.0,\"#440154\"],[0.1111111111111111,\"#482878\"],[0.2222222222222222,\"#3e4989\"],[0.3333333333333333,\"#31688e\"],[0.4444444444444444,\"#26828e\"],[0.5555555555555556,\"#1f9e89\"],[0.6666666666666666,\"#35b779\"],[0.7777777777777778,\"#6ece58\"],[0.8888888888888888,\"#b5de2b\"],[1.0,\"#fde725\"]],\"type\":\"histogram2dcontour\"}],\"histogram2d\":[{\"colorbar\":{\"outlinewidth\":1,\"tickcolor\":\"rgb(36,36,36)\",\"ticks\":\"outside\"},\"colorscale\":[[0.0,\"#440154\"],[0.1111111111111111,\"#482878\"],[0.2222222222222222,\"#3e4989\"],[0.3333333333333333,\"#31688e\"],[0.4444444444444444,\"#26828e\"],[0.5555555555555556,\"#1f9e89\"],[0.6666666666666666,\"#35b779\"],[0.7777777777777778,\"#6ece58\"],[0.8888888888888888,\"#b5de2b\"],[1.0,\"#fde725\"]],\"type\":\"histogram2d\"}],\"histogram\":[{\"marker\":{\"line\":{\"color\":\"white\",\"width\":0.6}},\"type\":\"histogram\"}],\"mesh3d\":[{\"colorbar\":{\"outlinewidth\":1,\"tickcolor\":\"rgb(36,36,36)\",\"ticks\":\"outside\"},\"type\":\"mesh3d\"}],\"parcoords\":[{\"line\":{\"colorbar\":{\"outlinewidth\":1,\"tickcolor\":\"rgb(36,36,36)\",\"ticks\":\"outside\"}},\"type\":\"parcoords\"}],\"pie\":[{\"automargin\":true,\"type\":\"pie\"}],\"scatter3d\":[{\"line\":{\"colorbar\":{\"outlinewidth\":1,\"tickcolor\":\"rgb(36,36,36)\",\"ticks\":\"outside\"}},\"marker\":{\"colorbar\":{\"outlinewidth\":1,\"tickcolor\":\"rgb(36,36,36)\",\"ticks\":\"outside\"}},\"type\":\"scatter3d\"}],\"scattercarpet\":[{\"marker\":{\"colorbar\":{\"outlinewidth\":1,\"tickcolor\":\"rgb(36,36,36)\",\"ticks\":\"outside\"}},\"type\":\"scattercarpet\"}],\"scattergeo\":[{\"marker\":{\"colorbar\":{\"outlinewidth\":1,\"tickcolor\":\"rgb(36,36,36)\",\"ticks\":\"outside\"}},\"type\":\"scattergeo\"}],\"scattergl\":[{\"marker\":{\"colorbar\":{\"outlinewidth\":1,\"tickcolor\":\"rgb(36,36,36)\",\"ticks\":\"outside\"}},\"type\":\"scattergl\"}],\"scattermapbox\":[{\"marker\":{\"colorbar\":{\"outlinewidth\":1,\"tickcolor\":\"rgb(36,36,36)\",\"ticks\":\"outside\"}},\"type\":\"scattermapbox\"}],\"scatterpolargl\":[{\"marker\":{\"colorbar\":{\"outlinewidth\":1,\"tickcolor\":\"rgb(36,36,36)\",\"ticks\":\"outside\"}},\"type\":\"scatterpolargl\"}],\"scatterpolar\":[{\"marker\":{\"colorbar\":{\"outlinewidth\":1,\"tickcolor\":\"rgb(36,36,36)\",\"ticks\":\"outside\"}},\"type\":\"scatterpolar\"}],\"scatter\":[{\"marker\":{\"colorbar\":{\"outlinewidth\":1,\"tickcolor\":\"rgb(36,36,36)\",\"ticks\":\"outside\"}},\"type\":\"scatter\"}],\"scatterternary\":[{\"marker\":{\"colorbar\":{\"outlinewidth\":1,\"tickcolor\":\"rgb(36,36,36)\",\"ticks\":\"outside\"}},\"type\":\"scatterternary\"}],\"surface\":[{\"colorbar\":{\"outlinewidth\":1,\"tickcolor\":\"rgb(36,36,36)\",\"ticks\":\"outside\"},\"colorscale\":[[0.0,\"#440154\"],[0.1111111111111111,\"#482878\"],[0.2222222222222222,\"#3e4989\"],[0.3333333333333333,\"#31688e\"],[0.4444444444444444,\"#26828e\"],[0.5555555555555556,\"#1f9e89\"],[0.6666666666666666,\"#35b779\"],[0.7777777777777778,\"#6ece58\"],[0.8888888888888888,\"#b5de2b\"],[1.0,\"#fde725\"]],\"type\":\"surface\"}],\"table\":[{\"cells\":{\"fill\":{\"color\":\"rgb(237,237,237)\"},\"line\":{\"color\":\"white\"}},\"header\":{\"fill\":{\"color\":\"rgb(217,217,217)\"},\"line\":{\"color\":\"white\"}},\"type\":\"table\"}]},\"layout\":{\"annotationdefaults\":{\"arrowhead\":0,\"arrowwidth\":1},\"autotypenumbers\":\"strict\",\"coloraxis\":{\"colorbar\":{\"outlinewidth\":1,\"tickcolor\":\"rgb(36,36,36)\",\"ticks\":\"outside\"}},\"colorscale\":{\"diverging\":[[0.0,\"rgb(103,0,31)\"],[0.1,\"rgb(178,24,43)\"],[0.2,\"rgb(214,96,77)\"],[0.3,\"rgb(244,165,130)\"],[0.4,\"rgb(253,219,199)\"],[0.5,\"rgb(247,247,247)\"],[0.6,\"rgb(209,229,240)\"],[0.7,\"rgb(146,197,222)\"],[0.8,\"rgb(67,147,195)\"],[0.9,\"rgb(33,102,172)\"],[1.0,\"rgb(5,48,97)\"]],\"sequential\":[[0.0,\"#440154\"],[0.1111111111111111,\"#482878\"],[0.2222222222222222,\"#3e4989\"],[0.3333333333333333,\"#31688e\"],[0.4444444444444444,\"#26828e\"],[0.5555555555555556,\"#1f9e89\"],[0.6666666666666666,\"#35b779\"],[0.7777777777777778,\"#6ece58\"],[0.8888888888888888,\"#b5de2b\"],[1.0,\"#fde725\"]],\"sequentialminus\":[[0.0,\"#440154\"],[0.1111111111111111,\"#482878\"],[0.2222222222222222,\"#3e4989\"],[0.3333333333333333,\"#31688e\"],[0.4444444444444444,\"#26828e\"],[0.5555555555555556,\"#1f9e89\"],[0.6666666666666666,\"#35b779\"],[0.7777777777777778,\"#6ece58\"],[0.8888888888888888,\"#b5de2b\"],[1.0,\"#fde725\"]]},\"colorway\":[\"#1F77B4\",\"#FF7F0E\",\"#2CA02C\",\"#D62728\",\"#9467BD\",\"#8C564B\",\"#E377C2\",\"#7F7F7F\",\"#BCBD22\",\"#17BECF\"],\"font\":{\"color\":\"rgb(36,36,36)\"},\"geo\":{\"bgcolor\":\"white\",\"lakecolor\":\"white\",\"landcolor\":\"white\",\"showlakes\":true,\"showland\":true,\"subunitcolor\":\"white\"},\"hoverlabel\":{\"align\":\"left\"},\"hovermode\":\"closest\",\"mapbox\":{\"style\":\"light\"},\"paper_bgcolor\":\"white\",\"plot_bgcolor\":\"white\",\"polar\":{\"angularaxis\":{\"gridcolor\":\"rgb(232,232,232)\",\"linecolor\":\"rgb(36,36,36)\",\"showgrid\":false,\"showline\":true,\"ticks\":\"outside\"},\"bgcolor\":\"white\",\"radialaxis\":{\"gridcolor\":\"rgb(232,232,232)\",\"linecolor\":\"rgb(36,36,36)\",\"showgrid\":false,\"showline\":true,\"ticks\":\"outside\"}},\"scene\":{\"xaxis\":{\"backgroundcolor\":\"white\",\"gridcolor\":\"rgb(232,232,232)\",\"gridwidth\":2,\"linecolor\":\"rgb(36,36,36)\",\"showbackground\":true,\"showgrid\":false,\"showline\":true,\"ticks\":\"outside\",\"zeroline\":false,\"zerolinecolor\":\"rgb(36,36,36)\"},\"yaxis\":{\"backgroundcolor\":\"white\",\"gridcolor\":\"rgb(232,232,232)\",\"gridwidth\":2,\"linecolor\":\"rgb(36,36,36)\",\"showbackground\":true,\"showgrid\":false,\"showline\":true,\"ticks\":\"outside\",\"zeroline\":false,\"zerolinecolor\":\"rgb(36,36,36)\"},\"zaxis\":{\"backgroundcolor\":\"white\",\"gridcolor\":\"rgb(232,232,232)\",\"gridwidth\":2,\"linecolor\":\"rgb(36,36,36)\",\"showbackground\":true,\"showgrid\":false,\"showline\":true,\"ticks\":\"outside\",\"zeroline\":false,\"zerolinecolor\":\"rgb(36,36,36)\"}},\"shapedefaults\":{\"fillcolor\":\"black\",\"line\":{\"width\":0},\"opacity\":0.3},\"ternary\":{\"aaxis\":{\"gridcolor\":\"rgb(232,232,232)\",\"linecolor\":\"rgb(36,36,36)\",\"showgrid\":false,\"showline\":true,\"ticks\":\"outside\"},\"baxis\":{\"gridcolor\":\"rgb(232,232,232)\",\"linecolor\":\"rgb(36,36,36)\",\"showgrid\":false,\"showline\":true,\"ticks\":\"outside\"},\"bgcolor\":\"white\",\"caxis\":{\"gridcolor\":\"rgb(232,232,232)\",\"linecolor\":\"rgb(36,36,36)\",\"showgrid\":false,\"showline\":true,\"ticks\":\"outside\"}},\"title\":{\"x\":0.05},\"xaxis\":{\"automargin\":true,\"gridcolor\":\"rgb(232,232,232)\",\"linecolor\":\"rgb(36,36,36)\",\"showgrid\":false,\"showline\":true,\"ticks\":\"outside\",\"title\":{\"standoff\":15},\"zeroline\":false,\"zerolinecolor\":\"rgb(36,36,36)\"},\"yaxis\":{\"automargin\":true,\"gridcolor\":\"rgb(232,232,232)\",\"linecolor\":\"rgb(36,36,36)\",\"showgrid\":false,\"showline\":true,\"ticks\":\"outside\",\"title\":{\"standoff\":15},\"zeroline\":false,\"zerolinecolor\":\"rgb(36,36,36)\"}}},\"xaxis\":{\"anchor\":\"y\",\"domain\":[0.0,1.0],\"title\":{\"text\":\"\"},\"visible\":false,\"range\":[-8.77712459564209,23.07688045501709]},\"yaxis\":{\"anchor\":\"x\",\"domain\":[0.0,1.0],\"title\":{\"text\":\"\"},\"visible\":false,\"range\":[-10.47691855430603,12.189816188812255]},\"legend\":{\"tracegroupgap\":0,\"itemsizing\":\"constant\"},\"margin\":{\"t\":60},\"title\":{\"font\":{\"size\":22,\"color\":\"Black\"},\"text\":\"<b>Intertopic Distance Map\",\"y\":0.95,\"x\":0.5,\"xanchor\":\"center\",\"yanchor\":\"top\"},\"hoverlabel\":{\"font\":{\"size\":16,\"family\":\"Rockwell\"},\"bgcolor\":\"white\"},\"width\":650,\"height\":650,\"sliders\":[{\"active\":0,\"pad\":{\"t\":50},\"steps\":[{\"args\":[{\"marker.color\":[[\"red\",\"#B0BEC5\",\"#B0BEC5\",\"#B0BEC5\",\"#B0BEC5\",\"#B0BEC5\",\"#B0BEC5\",\"#B0BEC5\",\"#B0BEC5\",\"#B0BEC5\",\"#B0BEC5\",\"#B0BEC5\",\"#B0BEC5\",\"#B0BEC5\",\"#B0BEC5\",\"#B0BEC5\",\"#B0BEC5\",\"#B0BEC5\",\"#B0BEC5\",\"#B0BEC5\",\"#B0BEC5\",\"#B0BEC5\",\"#B0BEC5\",\"#B0BEC5\",\"#B0BEC5\"]]}],\"label\":\"Topic 0\",\"method\":\"update\"},{\"args\":[{\"marker.color\":[[\"#B0BEC5\",\"red\",\"#B0BEC5\",\"#B0BEC5\",\"#B0BEC5\",\"#B0BEC5\",\"#B0BEC5\",\"#B0BEC5\",\"#B0BEC5\",\"#B0BEC5\",\"#B0BEC5\",\"#B0BEC5\",\"#B0BEC5\",\"#B0BEC5\",\"#B0BEC5\",\"#B0BEC5\",\"#B0BEC5\",\"#B0BEC5\",\"#B0BEC5\",\"#B0BEC5\",\"#B0BEC5\",\"#B0BEC5\",\"#B0BEC5\",\"#B0BEC5\",\"#B0BEC5\"]]}],\"label\":\"Topic 1\",\"method\":\"update\"},{\"args\":[{\"marker.color\":[[\"#B0BEC5\",\"#B0BEC5\",\"red\",\"#B0BEC5\",\"#B0BEC5\",\"#B0BEC5\",\"#B0BEC5\",\"#B0BEC5\",\"#B0BEC5\",\"#B0BEC5\",\"#B0BEC5\",\"#B0BEC5\",\"#B0BEC5\",\"#B0BEC5\",\"#B0BEC5\",\"#B0BEC5\",\"#B0BEC5\",\"#B0BEC5\",\"#B0BEC5\",\"#B0BEC5\",\"#B0BEC5\",\"#B0BEC5\",\"#B0BEC5\",\"#B0BEC5\",\"#B0BEC5\"]]}],\"label\":\"Topic 2\",\"method\":\"update\"},{\"args\":[{\"marker.color\":[[\"#B0BEC5\",\"#B0BEC5\",\"#B0BEC5\",\"red\",\"#B0BEC5\",\"#B0BEC5\",\"#B0BEC5\",\"#B0BEC5\",\"#B0BEC5\",\"#B0BEC5\",\"#B0BEC5\",\"#B0BEC5\",\"#B0BEC5\",\"#B0BEC5\",\"#B0BEC5\",\"#B0BEC5\",\"#B0BEC5\",\"#B0BEC5\",\"#B0BEC5\",\"#B0BEC5\",\"#B0BEC5\",\"#B0BEC5\",\"#B0BEC5\",\"#B0BEC5\",\"#B0BEC5\"]]}],\"label\":\"Topic 3\",\"method\":\"update\"},{\"args\":[{\"marker.color\":[[\"#B0BEC5\",\"#B0BEC5\",\"#B0BEC5\",\"#B0BEC5\",\"red\",\"#B0BEC5\",\"#B0BEC5\",\"#B0BEC5\",\"#B0BEC5\",\"#B0BEC5\",\"#B0BEC5\",\"#B0BEC5\",\"#B0BEC5\",\"#B0BEC5\",\"#B0BEC5\",\"#B0BEC5\",\"#B0BEC5\",\"#B0BEC5\",\"#B0BEC5\",\"#B0BEC5\",\"#B0BEC5\",\"#B0BEC5\",\"#B0BEC5\",\"#B0BEC5\",\"#B0BEC5\"]]}],\"label\":\"Topic 4\",\"method\":\"update\"},{\"args\":[{\"marker.color\":[[\"#B0BEC5\",\"#B0BEC5\",\"#B0BEC5\",\"#B0BEC5\",\"#B0BEC5\",\"red\",\"#B0BEC5\",\"#B0BEC5\",\"#B0BEC5\",\"#B0BEC5\",\"#B0BEC5\",\"#B0BEC5\",\"#B0BEC5\",\"#B0BEC5\",\"#B0BEC5\",\"#B0BEC5\",\"#B0BEC5\",\"#B0BEC5\",\"#B0BEC5\",\"#B0BEC5\",\"#B0BEC5\",\"#B0BEC5\",\"#B0BEC5\",\"#B0BEC5\",\"#B0BEC5\"]]}],\"label\":\"Topic 5\",\"method\":\"update\"},{\"args\":[{\"marker.color\":[[\"#B0BEC5\",\"#B0BEC5\",\"#B0BEC5\",\"#B0BEC5\",\"#B0BEC5\",\"#B0BEC5\",\"red\",\"#B0BEC5\",\"#B0BEC5\",\"#B0BEC5\",\"#B0BEC5\",\"#B0BEC5\",\"#B0BEC5\",\"#B0BEC5\",\"#B0BEC5\",\"#B0BEC5\",\"#B0BEC5\",\"#B0BEC5\",\"#B0BEC5\",\"#B0BEC5\",\"#B0BEC5\",\"#B0BEC5\",\"#B0BEC5\",\"#B0BEC5\",\"#B0BEC5\"]]}],\"label\":\"Topic 6\",\"method\":\"update\"},{\"args\":[{\"marker.color\":[[\"#B0BEC5\",\"#B0BEC5\",\"#B0BEC5\",\"#B0BEC5\",\"#B0BEC5\",\"#B0BEC5\",\"#B0BEC5\",\"red\",\"#B0BEC5\",\"#B0BEC5\",\"#B0BEC5\",\"#B0BEC5\",\"#B0BEC5\",\"#B0BEC5\",\"#B0BEC5\",\"#B0BEC5\",\"#B0BEC5\",\"#B0BEC5\",\"#B0BEC5\",\"#B0BEC5\",\"#B0BEC5\",\"#B0BEC5\",\"#B0BEC5\",\"#B0BEC5\",\"#B0BEC5\"]]}],\"label\":\"Topic 7\",\"method\":\"update\"},{\"args\":[{\"marker.color\":[[\"#B0BEC5\",\"#B0BEC5\",\"#B0BEC5\",\"#B0BEC5\",\"#B0BEC5\",\"#B0BEC5\",\"#B0BEC5\",\"#B0BEC5\",\"red\",\"#B0BEC5\",\"#B0BEC5\",\"#B0BEC5\",\"#B0BEC5\",\"#B0BEC5\",\"#B0BEC5\",\"#B0BEC5\",\"#B0BEC5\",\"#B0BEC5\",\"#B0BEC5\",\"#B0BEC5\",\"#B0BEC5\",\"#B0BEC5\",\"#B0BEC5\",\"#B0BEC5\",\"#B0BEC5\"]]}],\"label\":\"Topic 8\",\"method\":\"update\"},{\"args\":[{\"marker.color\":[[\"#B0BEC5\",\"#B0BEC5\",\"#B0BEC5\",\"#B0BEC5\",\"#B0BEC5\",\"#B0BEC5\",\"#B0BEC5\",\"#B0BEC5\",\"#B0BEC5\",\"red\",\"#B0BEC5\",\"#B0BEC5\",\"#B0BEC5\",\"#B0BEC5\",\"#B0BEC5\",\"#B0BEC5\",\"#B0BEC5\",\"#B0BEC5\",\"#B0BEC5\",\"#B0BEC5\",\"#B0BEC5\",\"#B0BEC5\",\"#B0BEC5\",\"#B0BEC5\",\"#B0BEC5\"]]}],\"label\":\"Topic 9\",\"method\":\"update\"},{\"args\":[{\"marker.color\":[[\"#B0BEC5\",\"#B0BEC5\",\"#B0BEC5\",\"#B0BEC5\",\"#B0BEC5\",\"#B0BEC5\",\"#B0BEC5\",\"#B0BEC5\",\"#B0BEC5\",\"#B0BEC5\",\"red\",\"#B0BEC5\",\"#B0BEC5\",\"#B0BEC5\",\"#B0BEC5\",\"#B0BEC5\",\"#B0BEC5\",\"#B0BEC5\",\"#B0BEC5\",\"#B0BEC5\",\"#B0BEC5\",\"#B0BEC5\",\"#B0BEC5\",\"#B0BEC5\",\"#B0BEC5\"]]}],\"label\":\"Topic 10\",\"method\":\"update\"},{\"args\":[{\"marker.color\":[[\"#B0BEC5\",\"#B0BEC5\",\"#B0BEC5\",\"#B0BEC5\",\"#B0BEC5\",\"#B0BEC5\",\"#B0BEC5\",\"#B0BEC5\",\"#B0BEC5\",\"#B0BEC5\",\"#B0BEC5\",\"red\",\"#B0BEC5\",\"#B0BEC5\",\"#B0BEC5\",\"#B0BEC5\",\"#B0BEC5\",\"#B0BEC5\",\"#B0BEC5\",\"#B0BEC5\",\"#B0BEC5\",\"#B0BEC5\",\"#B0BEC5\",\"#B0BEC5\",\"#B0BEC5\"]]}],\"label\":\"Topic 11\",\"method\":\"update\"},{\"args\":[{\"marker.color\":[[\"#B0BEC5\",\"#B0BEC5\",\"#B0BEC5\",\"#B0BEC5\",\"#B0BEC5\",\"#B0BEC5\",\"#B0BEC5\",\"#B0BEC5\",\"#B0BEC5\",\"#B0BEC5\",\"#B0BEC5\",\"#B0BEC5\",\"red\",\"#B0BEC5\",\"#B0BEC5\",\"#B0BEC5\",\"#B0BEC5\",\"#B0BEC5\",\"#B0BEC5\",\"#B0BEC5\",\"#B0BEC5\",\"#B0BEC5\",\"#B0BEC5\",\"#B0BEC5\",\"#B0BEC5\"]]}],\"label\":\"Topic 12\",\"method\":\"update\"},{\"args\":[{\"marker.color\":[[\"#B0BEC5\",\"#B0BEC5\",\"#B0BEC5\",\"#B0BEC5\",\"#B0BEC5\",\"#B0BEC5\",\"#B0BEC5\",\"#B0BEC5\",\"#B0BEC5\",\"#B0BEC5\",\"#B0BEC5\",\"#B0BEC5\",\"#B0BEC5\",\"red\",\"#B0BEC5\",\"#B0BEC5\",\"#B0BEC5\",\"#B0BEC5\",\"#B0BEC5\",\"#B0BEC5\",\"#B0BEC5\",\"#B0BEC5\",\"#B0BEC5\",\"#B0BEC5\",\"#B0BEC5\"]]}],\"label\":\"Topic 13\",\"method\":\"update\"},{\"args\":[{\"marker.color\":[[\"#B0BEC5\",\"#B0BEC5\",\"#B0BEC5\",\"#B0BEC5\",\"#B0BEC5\",\"#B0BEC5\",\"#B0BEC5\",\"#B0BEC5\",\"#B0BEC5\",\"#B0BEC5\",\"#B0BEC5\",\"#B0BEC5\",\"#B0BEC5\",\"#B0BEC5\",\"red\",\"#B0BEC5\",\"#B0BEC5\",\"#B0BEC5\",\"#B0BEC5\",\"#B0BEC5\",\"#B0BEC5\",\"#B0BEC5\",\"#B0BEC5\",\"#B0BEC5\",\"#B0BEC5\"]]}],\"label\":\"Topic 14\",\"method\":\"update\"},{\"args\":[{\"marker.color\":[[\"#B0BEC5\",\"#B0BEC5\",\"#B0BEC5\",\"#B0BEC5\",\"#B0BEC5\",\"#B0BEC5\",\"#B0BEC5\",\"#B0BEC5\",\"#B0BEC5\",\"#B0BEC5\",\"#B0BEC5\",\"#B0BEC5\",\"#B0BEC5\",\"#B0BEC5\",\"#B0BEC5\",\"red\",\"#B0BEC5\",\"#B0BEC5\",\"#B0BEC5\",\"#B0BEC5\",\"#B0BEC5\",\"#B0BEC5\",\"#B0BEC5\",\"#B0BEC5\",\"#B0BEC5\"]]}],\"label\":\"Topic 15\",\"method\":\"update\"},{\"args\":[{\"marker.color\":[[\"#B0BEC5\",\"#B0BEC5\",\"#B0BEC5\",\"#B0BEC5\",\"#B0BEC5\",\"#B0BEC5\",\"#B0BEC5\",\"#B0BEC5\",\"#B0BEC5\",\"#B0BEC5\",\"#B0BEC5\",\"#B0BEC5\",\"#B0BEC5\",\"#B0BEC5\",\"#B0BEC5\",\"#B0BEC5\",\"red\",\"#B0BEC5\",\"#B0BEC5\",\"#B0BEC5\",\"#B0BEC5\",\"#B0BEC5\",\"#B0BEC5\",\"#B0BEC5\",\"#B0BEC5\"]]}],\"label\":\"Topic 16\",\"method\":\"update\"},{\"args\":[{\"marker.color\":[[\"#B0BEC5\",\"#B0BEC5\",\"#B0BEC5\",\"#B0BEC5\",\"#B0BEC5\",\"#B0BEC5\",\"#B0BEC5\",\"#B0BEC5\",\"#B0BEC5\",\"#B0BEC5\",\"#B0BEC5\",\"#B0BEC5\",\"#B0BEC5\",\"#B0BEC5\",\"#B0BEC5\",\"#B0BEC5\",\"#B0BEC5\",\"red\",\"#B0BEC5\",\"#B0BEC5\",\"#B0BEC5\",\"#B0BEC5\",\"#B0BEC5\",\"#B0BEC5\",\"#B0BEC5\"]]}],\"label\":\"Topic 17\",\"method\":\"update\"},{\"args\":[{\"marker.color\":[[\"#B0BEC5\",\"#B0BEC5\",\"#B0BEC5\",\"#B0BEC5\",\"#B0BEC5\",\"#B0BEC5\",\"#B0BEC5\",\"#B0BEC5\",\"#B0BEC5\",\"#B0BEC5\",\"#B0BEC5\",\"#B0BEC5\",\"#B0BEC5\",\"#B0BEC5\",\"#B0BEC5\",\"#B0BEC5\",\"#B0BEC5\",\"#B0BEC5\",\"red\",\"#B0BEC5\",\"#B0BEC5\",\"#B0BEC5\",\"#B0BEC5\",\"#B0BEC5\",\"#B0BEC5\"]]}],\"label\":\"Topic 18\",\"method\":\"update\"},{\"args\":[{\"marker.color\":[[\"#B0BEC5\",\"#B0BEC5\",\"#B0BEC5\",\"#B0BEC5\",\"#B0BEC5\",\"#B0BEC5\",\"#B0BEC5\",\"#B0BEC5\",\"#B0BEC5\",\"#B0BEC5\",\"#B0BEC5\",\"#B0BEC5\",\"#B0BEC5\",\"#B0BEC5\",\"#B0BEC5\",\"#B0BEC5\",\"#B0BEC5\",\"#B0BEC5\",\"#B0BEC5\",\"red\",\"#B0BEC5\",\"#B0BEC5\",\"#B0BEC5\",\"#B0BEC5\",\"#B0BEC5\"]]}],\"label\":\"Topic 19\",\"method\":\"update\"},{\"args\":[{\"marker.color\":[[\"#B0BEC5\",\"#B0BEC5\",\"#B0BEC5\",\"#B0BEC5\",\"#B0BEC5\",\"#B0BEC5\",\"#B0BEC5\",\"#B0BEC5\",\"#B0BEC5\",\"#B0BEC5\",\"#B0BEC5\",\"#B0BEC5\",\"#B0BEC5\",\"#B0BEC5\",\"#B0BEC5\",\"#B0BEC5\",\"#B0BEC5\",\"#B0BEC5\",\"#B0BEC5\",\"#B0BEC5\",\"red\",\"#B0BEC5\",\"#B0BEC5\",\"#B0BEC5\",\"#B0BEC5\"]]}],\"label\":\"Topic 20\",\"method\":\"update\"},{\"args\":[{\"marker.color\":[[\"#B0BEC5\",\"#B0BEC5\",\"#B0BEC5\",\"#B0BEC5\",\"#B0BEC5\",\"#B0BEC5\",\"#B0BEC5\",\"#B0BEC5\",\"#B0BEC5\",\"#B0BEC5\",\"#B0BEC5\",\"#B0BEC5\",\"#B0BEC5\",\"#B0BEC5\",\"#B0BEC5\",\"#B0BEC5\",\"#B0BEC5\",\"#B0BEC5\",\"#B0BEC5\",\"#B0BEC5\",\"#B0BEC5\",\"red\",\"#B0BEC5\",\"#B0BEC5\",\"#B0BEC5\"]]}],\"label\":\"Topic 21\",\"method\":\"update\"},{\"args\":[{\"marker.color\":[[\"#B0BEC5\",\"#B0BEC5\",\"#B0BEC5\",\"#B0BEC5\",\"#B0BEC5\",\"#B0BEC5\",\"#B0BEC5\",\"#B0BEC5\",\"#B0BEC5\",\"#B0BEC5\",\"#B0BEC5\",\"#B0BEC5\",\"#B0BEC5\",\"#B0BEC5\",\"#B0BEC5\",\"#B0BEC5\",\"#B0BEC5\",\"#B0BEC5\",\"#B0BEC5\",\"#B0BEC5\",\"#B0BEC5\",\"#B0BEC5\",\"red\",\"#B0BEC5\",\"#B0BEC5\"]]}],\"label\":\"Topic 22\",\"method\":\"update\"},{\"args\":[{\"marker.color\":[[\"#B0BEC5\",\"#B0BEC5\",\"#B0BEC5\",\"#B0BEC5\",\"#B0BEC5\",\"#B0BEC5\",\"#B0BEC5\",\"#B0BEC5\",\"#B0BEC5\",\"#B0BEC5\",\"#B0BEC5\",\"#B0BEC5\",\"#B0BEC5\",\"#B0BEC5\",\"#B0BEC5\",\"#B0BEC5\",\"#B0BEC5\",\"#B0BEC5\",\"#B0BEC5\",\"#B0BEC5\",\"#B0BEC5\",\"#B0BEC5\",\"#B0BEC5\",\"red\",\"#B0BEC5\"]]}],\"label\":\"Topic 23\",\"method\":\"update\"},{\"args\":[{\"marker.color\":[[\"#B0BEC5\",\"#B0BEC5\",\"#B0BEC5\",\"#B0BEC5\",\"#B0BEC5\",\"#B0BEC5\",\"#B0BEC5\",\"#B0BEC5\",\"#B0BEC5\",\"#B0BEC5\",\"#B0BEC5\",\"#B0BEC5\",\"#B0BEC5\",\"#B0BEC5\",\"#B0BEC5\",\"#B0BEC5\",\"#B0BEC5\",\"#B0BEC5\",\"#B0BEC5\",\"#B0BEC5\",\"#B0BEC5\",\"#B0BEC5\",\"#B0BEC5\",\"#B0BEC5\",\"red\"]]}],\"label\":\"Topic 24\",\"method\":\"update\"}]}],\"shapes\":[{\"line\":{\"color\":\"#CFD8DC\",\"width\":2},\"type\":\"line\",\"x0\":7.1498779296875,\"x1\":7.1498779296875,\"y0\":-10.47691855430603,\"y1\":12.189816188812255},{\"line\":{\"color\":\"#9E9E9E\",\"width\":2},\"type\":\"line\",\"x0\":-8.77712459564209,\"x1\":23.07688045501709,\"y0\":0.8564488172531126,\"y1\":0.8564488172531126}],\"annotations\":[{\"showarrow\":false,\"text\":\"D1\",\"x\":-8.77712459564209,\"y\":0.8564488172531126,\"yshift\":10},{\"showarrow\":false,\"text\":\"D2\",\"x\":7.1498779296875,\"xshift\":10,\"y\":12.189816188812255}]},                        {\"responsive\": true}                    ).then(function(){\n",
       "                            \n",
       "var gd = document.getElementById('65a3602a-0692-442f-8bbc-13fa73544320');\n",
       "var x = new MutationObserver(function (mutations, observer) {{\n",
       "        var display = window.getComputedStyle(gd).display;\n",
       "        if (!display || display === 'none') {{\n",
       "            console.log([gd, 'removed!']);\n",
       "            Plotly.purge(gd);\n",
       "            observer.disconnect();\n",
       "        }}\n",
       "}});\n",
       "\n",
       "// Listen for the removal of the full notebook cells\n",
       "var notebookContainer = gd.closest('#notebook-container');\n",
       "if (notebookContainer) {{\n",
       "    x.observe(notebookContainer, {childList: true});\n",
       "}}\n",
       "\n",
       "// Listen for the clearing of the current output cell\n",
       "var outputEl = gd.closest('.output');\n",
       "if (outputEl) {{\n",
       "    x.observe(outputEl, {childList: true});\n",
       "}}\n",
       "\n",
       "                        })                };                            </script>        </div>\n",
       "</body>\n",
       "</html>"
      ]
     },
     "metadata": {},
     "output_type": "display_data"
    }
   ],
   "source": [
    "model.visualize_topics()"
   ]
  },
  {
   "cell_type": "code",
   "execution_count": 88,
   "metadata": {
    "executionInfo": {
     "elapsed": 20,
     "status": "ok",
     "timestamp": 1642040825532,
     "user": {
      "displayName": "Kateryna Drogaieva",
      "photoUrl": "https://lh3.googleusercontent.com/a-/AOh14GjB1LQYJH97Lqm6RsCcAADFgzEAa0YxMUT7P4mjlA=s64",
      "userId": "10877377912113147805"
     },
     "user_tz": 480
    },
    "id": "NqfNYC3yW71Q"
   },
   "outputs": [],
   "source": [
    "topics_df=model.get_topic_info()"
   ]
  },
  {
   "cell_type": "code",
   "execution_count": 89,
   "metadata": {
    "colab": {
     "base_uri": "https://localhost:8080/",
     "height": 865
    },
    "executionInfo": {
     "elapsed": 20,
     "status": "ok",
     "timestamp": 1642040825533,
     "user": {
      "displayName": "Kateryna Drogaieva",
      "photoUrl": "https://lh3.googleusercontent.com/a-/AOh14GjB1LQYJH97Lqm6RsCcAADFgzEAa0YxMUT7P4mjlA=s64",
      "userId": "10877377912113147805"
     },
     "user_tz": 480
    },
    "id": "h0JYHS8wW8UP",
    "outputId": "93fcf53d-f4a1-4443-f9c6-84ab0e6ec841"
   },
   "outputs": [
    {
     "data": {
      "text/html": [
       "\n",
       "  <div id=\"df-366f9041-d215-4d5d-9487-55df11f13e02\">\n",
       "    <div class=\"colab-df-container\">\n",
       "      <div>\n",
       "<style scoped>\n",
       "    .dataframe tbody tr th:only-of-type {\n",
       "        vertical-align: middle;\n",
       "    }\n",
       "\n",
       "    .dataframe tbody tr th {\n",
       "        vertical-align: top;\n",
       "    }\n",
       "\n",
       "    .dataframe thead th {\n",
       "        text-align: right;\n",
       "    }\n",
       "</style>\n",
       "<table border=\"1\" class=\"dataframe\">\n",
       "  <thead>\n",
       "    <tr style=\"text-align: right;\">\n",
       "      <th></th>\n",
       "      <th>Topic</th>\n",
       "      <th>Count</th>\n",
       "      <th>Name</th>\n",
       "    </tr>\n",
       "  </thead>\n",
       "  <tbody>\n",
       "    <tr>\n",
       "      <th>0</th>\n",
       "      <td>-1</td>\n",
       "      <td>15208</td>\n",
       "      <td>-1_год_хотеть_говорить_мама</td>\n",
       "    </tr>\n",
       "    <tr>\n",
       "      <th>1</th>\n",
       "      <td>0</td>\n",
       "      <td>1243</td>\n",
       "      <td>0_спать_сон_засыпать_ночь</td>\n",
       "    </tr>\n",
       "    <tr>\n",
       "      <th>2</th>\n",
       "      <td>1</td>\n",
       "      <td>778</td>\n",
       "      <td>1_читать_книга_чтение_книжка</td>\n",
       "    </tr>\n",
       "    <tr>\n",
       "      <th>3</th>\n",
       "      <td>2</td>\n",
       "      <td>531</td>\n",
       "      <td>2_психолог_посоветовать_хороший_психолога</td>\n",
       "    </tr>\n",
       "    <tr>\n",
       "      <th>4</th>\n",
       "      <td>3</td>\n",
       "      <td>426</td>\n",
       "      <td>3_русский_класс_школа_писать</td>\n",
       "    </tr>\n",
       "    <tr>\n",
       "      <th>5</th>\n",
       "      <td>4</td>\n",
       "      <td>278</td>\n",
       "      <td>4_звук_логопед_говорить_слово</td>\n",
       "    </tr>\n",
       "    <tr>\n",
       "      <th>6</th>\n",
       "      <td>5</td>\n",
       "      <td>274</td>\n",
       "      <td>5_игрушка_кукла_игра_играть</td>\n",
       "    </tr>\n",
       "    <tr>\n",
       "      <th>7</th>\n",
       "      <td>6</td>\n",
       "      <td>263</td>\n",
       "      <td>6_сад_группа_ходить_год</td>\n",
       "    </tr>\n",
       "    <tr>\n",
       "      <th>8</th>\n",
       "      <td>7</td>\n",
       "      <td>230</td>\n",
       "      <td>7_класс_учитель_школа_учительница</td>\n",
       "    </tr>\n",
       "    <tr>\n",
       "      <th>9</th>\n",
       "      <td>8</td>\n",
       "      <td>225</td>\n",
       "      <td>8_рисовать_цвет_рисунок_карандаш</td>\n",
       "    </tr>\n",
       "    <tr>\n",
       "      <th>10</th>\n",
       "      <td>9</td>\n",
       "      <td>223</td>\n",
       "      <td>9_математика_класс_репетитор_математике</td>\n",
       "    </tr>\n",
       "    <tr>\n",
       "      <th>11</th>\n",
       "      <td>10</td>\n",
       "      <td>217</td>\n",
       "      <td>10_секс_половой_лет_порно</td>\n",
       "    </tr>\n",
       "    <tr>\n",
       "      <th>12</th>\n",
       "      <td>11</td>\n",
       "      <td>215</td>\n",
       "      <td>11_старший_лет_родитель_мама</td>\n",
       "    </tr>\n",
       "    <tr>\n",
       "      <th>13</th>\n",
       "      <td>12</td>\n",
       "      <td>198</td>\n",
       "      <td>12_мама_хотеть_говорить_папа</td>\n",
       "    </tr>\n",
       "    <tr>\n",
       "      <th>14</th>\n",
       "      <td>13</td>\n",
       "      <td>193</td>\n",
       "      <td>13_музыка_музыкальный_петь_заниматься</td>\n",
       "    </tr>\n",
       "    <tr>\n",
       "      <th>15</th>\n",
       "      <td>14</td>\n",
       "      <td>156</td>\n",
       "      <td>14_телефон_планшет_смартфон_игра</td>\n",
       "    </tr>\n",
       "    <tr>\n",
       "      <th>16</th>\n",
       "      <td>15</td>\n",
       "      <td>141</td>\n",
       "      <td>15_спорт_заниматься_гимнастика_тренер</td>\n",
       "    </tr>\n",
       "    <tr>\n",
       "      <th>17</th>\n",
       "      <td>16</td>\n",
       "      <td>136</td>\n",
       "      <td>16_рост_вес_см_кг</td>\n",
       "    </tr>\n",
       "    <tr>\n",
       "      <th>18</th>\n",
       "      <td>17</td>\n",
       "      <td>132</td>\n",
       "      <td>17_сад_ходить_садик_день</td>\n",
       "    </tr>\n",
       "    <tr>\n",
       "      <th>19</th>\n",
       "      <td>18</td>\n",
       "      <td>130</td>\n",
       "      <td>18_английский_язык_немецкий_обучение</td>\n",
       "    </tr>\n",
       "    <tr>\n",
       "      <th>20</th>\n",
       "      <td>19</td>\n",
       "      <td>126</td>\n",
       "      <td>19_невролог_врач_диагноз_год</td>\n",
       "    </tr>\n",
       "    <tr>\n",
       "      <th>21</th>\n",
       "      <td>20</td>\n",
       "      <td>125</td>\n",
       "      <td>20_деньга_деньги_карманный_сумма</td>\n",
       "    </tr>\n",
       "    <tr>\n",
       "      <th>22</th>\n",
       "      <td>21</td>\n",
       "      <td>119</td>\n",
       "      <td>21_еда_кормить_ложка_суп</td>\n",
       "    </tr>\n",
       "    <tr>\n",
       "      <th>23</th>\n",
       "      <td>22</td>\n",
       "      <td>111</td>\n",
       "      <td>22_подарок_дед_мороз_дарить</td>\n",
       "    </tr>\n",
       "    <tr>\n",
       "      <th>24</th>\n",
       "      <td>23</td>\n",
       "      <td>107</td>\n",
       "      <td>23_носить_одежда_платье_одевать</td>\n",
       "    </tr>\n",
       "    <tr>\n",
       "      <th>25</th>\n",
       "      <td>24</td>\n",
       "      <td>105</td>\n",
       "      <td>24_танец_танцы_балет_ходить</td>\n",
       "    </tr>\n",
       "  </tbody>\n",
       "</table>\n",
       "</div>\n",
       "      <button class=\"colab-df-convert\" onclick=\"convertToInteractive('df-366f9041-d215-4d5d-9487-55df11f13e02')\"\n",
       "              title=\"Convert this dataframe to an interactive table.\"\n",
       "              style=\"display:none;\">\n",
       "        \n",
       "  <svg xmlns=\"http://www.w3.org/2000/svg\" height=\"24px\"viewBox=\"0 0 24 24\"\n",
       "       width=\"24px\">\n",
       "    <path d=\"M0 0h24v24H0V0z\" fill=\"none\"/>\n",
       "    <path d=\"M18.56 5.44l.94 2.06.94-2.06 2.06-.94-2.06-.94-.94-2.06-.94 2.06-2.06.94zm-11 1L8.5 8.5l.94-2.06 2.06-.94-2.06-.94L8.5 2.5l-.94 2.06-2.06.94zm10 10l.94 2.06.94-2.06 2.06-.94-2.06-.94-.94-2.06-.94 2.06-2.06.94z\"/><path d=\"M17.41 7.96l-1.37-1.37c-.4-.4-.92-.59-1.43-.59-.52 0-1.04.2-1.43.59L10.3 9.45l-7.72 7.72c-.78.78-.78 2.05 0 2.83L4 21.41c.39.39.9.59 1.41.59.51 0 1.02-.2 1.41-.59l7.78-7.78 2.81-2.81c.8-.78.8-2.07 0-2.86zM5.41 20L4 18.59l7.72-7.72 1.47 1.35L5.41 20z\"/>\n",
       "  </svg>\n",
       "      </button>\n",
       "      \n",
       "  <style>\n",
       "    .colab-df-container {\n",
       "      display:flex;\n",
       "      flex-wrap:wrap;\n",
       "      gap: 12px;\n",
       "    }\n",
       "\n",
       "    .colab-df-convert {\n",
       "      background-color: #E8F0FE;\n",
       "      border: none;\n",
       "      border-radius: 50%;\n",
       "      cursor: pointer;\n",
       "      display: none;\n",
       "      fill: #1967D2;\n",
       "      height: 32px;\n",
       "      padding: 0 0 0 0;\n",
       "      width: 32px;\n",
       "    }\n",
       "\n",
       "    .colab-df-convert:hover {\n",
       "      background-color: #E2EBFA;\n",
       "      box-shadow: 0px 1px 2px rgba(60, 64, 67, 0.3), 0px 1px 3px 1px rgba(60, 64, 67, 0.15);\n",
       "      fill: #174EA6;\n",
       "    }\n",
       "\n",
       "    [theme=dark] .colab-df-convert {\n",
       "      background-color: #3B4455;\n",
       "      fill: #D2E3FC;\n",
       "    }\n",
       "\n",
       "    [theme=dark] .colab-df-convert:hover {\n",
       "      background-color: #434B5C;\n",
       "      box-shadow: 0px 1px 3px 1px rgba(0, 0, 0, 0.15);\n",
       "      filter: drop-shadow(0px 1px 2px rgba(0, 0, 0, 0.3));\n",
       "      fill: #FFFFFF;\n",
       "    }\n",
       "  </style>\n",
       "\n",
       "      <script>\n",
       "        const buttonEl =\n",
       "          document.querySelector('#df-366f9041-d215-4d5d-9487-55df11f13e02 button.colab-df-convert');\n",
       "        buttonEl.style.display =\n",
       "          google.colab.kernel.accessAllowed ? 'block' : 'none';\n",
       "\n",
       "        async function convertToInteractive(key) {\n",
       "          const element = document.querySelector('#df-366f9041-d215-4d5d-9487-55df11f13e02');\n",
       "          const dataTable =\n",
       "            await google.colab.kernel.invokeFunction('convertToInteractive',\n",
       "                                                     [key], {});\n",
       "          if (!dataTable) return;\n",
       "\n",
       "          const docLinkHtml = 'Like what you see? Visit the ' +\n",
       "            '<a target=\"_blank\" href=https://colab.research.google.com/notebooks/data_table.ipynb>data table notebook</a>'\n",
       "            + ' to learn more about interactive tables.';\n",
       "          element.innerHTML = '';\n",
       "          dataTable['output_type'] = 'display_data';\n",
       "          await google.colab.output.renderOutput(dataTable, element);\n",
       "          const docLink = document.createElement('div');\n",
       "          docLink.innerHTML = docLinkHtml;\n",
       "          element.appendChild(docLink);\n",
       "        }\n",
       "      </script>\n",
       "    </div>\n",
       "  </div>\n",
       "  "
      ],
      "text/plain": [
       "    Topic  Count                                       Name\n",
       "0      -1  15208                -1_год_хотеть_говорить_мама\n",
       "1       0   1243                  0_спать_сон_засыпать_ночь\n",
       "2       1    778               1_читать_книга_чтение_книжка\n",
       "3       2    531  2_психолог_посоветовать_хороший_психолога\n",
       "4       3    426               3_русский_класс_школа_писать\n",
       "5       4    278              4_звук_логопед_говорить_слово\n",
       "6       5    274                5_игрушка_кукла_игра_играть\n",
       "7       6    263                    6_сад_группа_ходить_год\n",
       "8       7    230          7_класс_учитель_школа_учительница\n",
       "9       8    225           8_рисовать_цвет_рисунок_карандаш\n",
       "10      9    223    9_математика_класс_репетитор_математике\n",
       "11     10    217                  10_секс_половой_лет_порно\n",
       "12     11    215               11_старший_лет_родитель_мама\n",
       "13     12    198               12_мама_хотеть_говорить_папа\n",
       "14     13    193      13_музыка_музыкальный_петь_заниматься\n",
       "15     14    156           14_телефон_планшет_смартфон_игра\n",
       "16     15    141      15_спорт_заниматься_гимнастика_тренер\n",
       "17     16    136                          16_рост_вес_см_кг\n",
       "18     17    132                   17_сад_ходить_садик_день\n",
       "19     18    130       18_английский_язык_немецкий_обучение\n",
       "20     19    126               19_невролог_врач_диагноз_год\n",
       "21     20    125           20_деньга_деньги_карманный_сумма\n",
       "22     21    119                   21_еда_кормить_ложка_суп\n",
       "23     22    111                22_подарок_дед_мороз_дарить\n",
       "24     23    107            23_носить_одежда_платье_одевать\n",
       "25     24    105                24_танец_танцы_балет_ходить"
      ]
     },
     "execution_count": 89,
     "metadata": {},
     "output_type": "execute_result"
    }
   ],
   "source": [
    "topics_df"
   ]
  },
  {
   "cell_type": "code",
   "execution_count": 90,
   "metadata": {
    "executionInfo": {
     "elapsed": 17,
     "status": "ok",
     "timestamp": 1642040825534,
     "user": {
      "displayName": "Kateryna Drogaieva",
      "photoUrl": "https://lh3.googleusercontent.com/a-/AOh14GjB1LQYJH97Lqm6RsCcAADFgzEAa0YxMUT7P4mjlA=s64",
      "userId": "10877377912113147805"
     },
     "user_tz": 480
    },
    "id": "TuLQzZIIW-sc"
   },
   "outputs": [],
   "source": [
    "num_words=4\n",
    "for i in range(0,num_words):\n",
    "    topics_df['w'+str(i)]=''\n",
    "for i in range(0,num_words):  \n",
    "    topics_df['p'+str(i)]=0.0000\n",
    "for index,row in topics_df.iterrows():\n",
    "    topic_details=model.get_topic(row['Topic'])\n",
    "    for (i,td) in enumerate(topic_details):\n",
    "        topics_df.at[index,'w'+str(i)]=td[0]\n",
    "        topics_df.at[index,'p'+str(i)]=td[1]"
   ]
  },
  {
   "cell_type": "code",
   "execution_count": 91,
   "metadata": {
    "executionInfo": {
     "elapsed": 17,
     "status": "ok",
     "timestamp": 1642040825535,
     "user": {
      "displayName": "Kateryna Drogaieva",
      "photoUrl": "https://lh3.googleusercontent.com/a-/AOh14GjB1LQYJH97Lqm6RsCcAADFgzEAa0YxMUT7P4mjlA=s64",
      "userId": "10877377912113147805"
     },
     "user_tz": 480
    },
    "id": "QOsZy4mWXCY0"
   },
   "outputs": [],
   "source": [
    "topics_df.to_csv(Messages_topics_full_filename, header=True, index=False)"
   ]
  },
  {
   "cell_type": "code",
   "execution_count": 92,
   "metadata": {
    "colab": {
     "base_uri": "https://localhost:8080/"
    },
    "executionInfo": {
     "elapsed": 17,
     "status": "ok",
     "timestamp": 1642040825536,
     "user": {
      "displayName": "Kateryna Drogaieva",
      "photoUrl": "https://lh3.googleusercontent.com/a-/AOh14GjB1LQYJH97Lqm6RsCcAADFgzEAa0YxMUT7P4mjlA=s64",
      "userId": "10877377912113147805"
     },
     "user_tz": 480
    },
    "id": "5fEe0qyWYJEG",
    "outputId": "0bc52fe8-6678-4bcb-ba55-0deefd20d187"
   },
   "outputs": [
    {
     "data": {
      "text/plain": [
       "26"
      ]
     },
     "execution_count": 92,
     "metadata": {},
     "output_type": "execute_result"
    }
   ],
   "source": [
    "len(topics_df)"
   ]
  },
  {
   "cell_type": "code",
   "execution_count": 93,
   "metadata": {
    "colab": {
     "base_uri": "https://localhost:8080/",
     "height": 517
    },
    "executionInfo": {
     "elapsed": 373,
     "status": "ok",
     "timestamp": 1642040825895,
     "user": {
      "displayName": "Kateryna Drogaieva",
      "photoUrl": "https://lh3.googleusercontent.com/a-/AOh14GjB1LQYJH97Lqm6RsCcAADFgzEAa0YxMUT7P4mjlA=s64",
      "userId": "10877377912113147805"
     },
     "user_tz": 480
    },
    "id": "uJWjo2eAZA1y",
    "outputId": "674e08df-488a-4b3a-8296-5f8a3e0d0880"
   },
   "outputs": [
    {
     "data": {
      "text/html": [
       "<html>\n",
       "<head><meta charset=\"utf-8\" /></head>\n",
       "<body>\n",
       "    <div>            <script src=\"https://cdnjs.cloudflare.com/ajax/libs/mathjax/2.7.5/MathJax.js?config=TeX-AMS-MML_SVG\"></script><script type=\"text/javascript\">if (window.MathJax) {MathJax.Hub.Config({SVG: {font: \"STIX-Web\"}});}</script>                <script type=\"text/javascript\">window.PlotlyConfig = {MathJaxConfig: 'local'};</script>\n",
       "        <script src=\"https://cdn.plot.ly/plotly-2.8.3.min.js\"></script>                <div id=\"71ddc818-db3a-4c63-8faf-14cef271a527\" class=\"plotly-graph-div\" style=\"height:500px; width:1000px;\"></div>            <script type=\"text/javascript\">                                    window.PLOTLYENV=window.PLOTLYENV || {};                                    if (document.getElementById(\"71ddc818-db3a-4c63-8faf-14cef271a527\")) {                    Plotly.newPlot(                        \"71ddc818-db3a-4c63-8faf-14cef271a527\",                        [{\"marker\":{\"color\":\"#D55E00\"},\"orientation\":\"h\",\"x\":[0.03307668251004098,0.03347687154609304,0.034193517654087326,0.040527591257119015,0.07216412192225072],\"y\":[\"\\u043d\\u043e\\u0447\\u044c\\u044e  \",\"\\u043d\\u043e\\u0447\\u044c  \",\"\\u0437\\u0430\\u0441\\u044b\\u043f\\u0430\\u0442\\u044c  \",\"\\u0441\\u043e\\u043d  \",\"\\u0441\\u043f\\u0430\\u0442\\u044c  \"],\"type\":\"bar\",\"xaxis\":\"x\",\"yaxis\":\"y\"},{\"marker\":{\"color\":\"#0072B2\"},\"orientation\":\"h\",\"x\":[0.018051210022367255,0.023605766760978038,0.026179809942028492,0.05351462688719478,0.10007926525310454],\"y\":[\"\\u043f\\u0440\\u043e\\u0447\\u0438\\u0442\\u0430\\u0442\\u044c  \",\"\\u043a\\u043d\\u0438\\u0436\\u043a\\u0430  \",\"\\u0447\\u0442\\u0435\\u043d\\u0438\\u0435  \",\"\\u043a\\u043d\\u0438\\u0433\\u0430  \",\"\\u0447\\u0438\\u0442\\u0430\\u0442\\u044c  \"],\"type\":\"bar\",\"xaxis\":\"x2\",\"yaxis\":\"y2\"},{\"marker\":{\"color\":\"#CC79A7\"},\"orientation\":\"h\",\"x\":[0.032584312999254406,0.03391869936156423,0.03406228774124997,0.041350277931528026,0.06683220050589214],\"y\":[\"\\u043d\\u0443\\u0436\\u043d\\u044b\\u0439  \",\"\\u043f\\u0441\\u0438\\u0445\\u043e\\u043b\\u043e\\u0433\\u0430  \",\"\\u0445\\u043e\\u0440\\u043e\\u0448\\u0438\\u0439  \",\"\\u043f\\u043e\\u0441\\u043e\\u0432\\u0435\\u0442\\u043e\\u0432\\u0430\\u0442\\u044c  \",\"\\u043f\\u0441\\u0438\\u0445\\u043e\\u043b\\u043e\\u0433  \"],\"type\":\"bar\",\"xaxis\":\"x3\",\"yaxis\":\"y3\"},{\"marker\":{\"color\":\"#E69F00\"},\"orientation\":\"h\",\"x\":[0.01952033732715313,0.02344274848814389,0.023733392814663204,0.0255916437827664,0.05306124002018418],\"y\":[\"\\u043c\\u0430\\u0442\\u0435\\u043c\\u0430\\u0442\\u0438\\u043a\\u0430  \",\"\\u043f\\u0438\\u0441\\u0430\\u0442\\u044c  \",\"\\u0448\\u043a\\u043e\\u043b\\u0430  \",\"\\u043a\\u043b\\u0430\\u0441\\u0441  \",\"\\u0440\\u0443\\u0441\\u0441\\u043a\\u0438\\u0439  \"],\"type\":\"bar\",\"xaxis\":\"x4\",\"yaxis\":\"y4\"},{\"marker\":{\"color\":\"#56B4E9\"},\"orientation\":\"h\",\"x\":[0.03311703494350578,0.04287082687852876,0.05093610988663701,0.05426199458848193,0.05694675921495228],\"y\":[\"\\u0440\\u0435\\u0447\\u044c  \",\"\\u0441\\u043b\\u043e\\u0432\\u043e  \",\"\\u0433\\u043e\\u0432\\u043e\\u0440\\u0438\\u0442\\u044c  \",\"\\u043b\\u043e\\u0433\\u043e\\u043f\\u0435\\u0434  \",\"\\u0437\\u0432\\u0443\\u043a  \"],\"type\":\"bar\",\"xaxis\":\"x5\",\"yaxis\":\"y5\"},{\"marker\":{\"color\":\"#009E73\"},\"orientation\":\"h\",\"x\":[0.029900915809192394,0.046011041787369526,0.04953044191400631,0.05048569696164816,0.06737172000203286],\"y\":[\"\\u0438\\u0433\\u0440\\u0443\\u0448\\u043a\\u0438  \",\"\\u0438\\u0433\\u0440\\u0430\\u0442\\u044c  \",\"\\u0438\\u0433\\u0440\\u0430  \",\"\\u043a\\u0443\\u043a\\u043b\\u0430  \",\"\\u0438\\u0433\\u0440\\u0443\\u0448\\u043a\\u0430  \"],\"type\":\"bar\",\"xaxis\":\"x6\",\"yaxis\":\"y6\"},{\"marker\":{\"color\":\"#F0E442\"},\"orientation\":\"h\",\"x\":[0.02285654714724258,0.02734641928682233,0.03182116585902853,0.03447545649187106,0.10058001997430543],\"y\":[\"\\u0441\\u0430\\u0434\\u0443  \",\"\\u0433\\u043e\\u0434  \",\"\\u0445\\u043e\\u0434\\u0438\\u0442\\u044c  \",\"\\u0433\\u0440\\u0443\\u043f\\u043f\\u0430  \",\"\\u0441\\u0430\\u0434  \"],\"type\":\"bar\",\"xaxis\":\"x7\",\"yaxis\":\"y7\"},{\"marker\":{\"color\":\"#D55E00\"},\"orientation\":\"h\",\"x\":[0.019024345890932395,0.019834723546687517,0.030904410796370674,0.031514417695197534,0.04693176522357174],\"y\":[\"\\u0443\\u0447\\u0438\\u0442\\u044c\\u0441\\u044f  \",\"\\u0443\\u0447\\u0438\\u0442\\u0435\\u043b\\u044c\\u043d\\u0438\\u0446\\u0430  \",\"\\u0448\\u043a\\u043e\\u043b\\u0430  \",\"\\u0443\\u0447\\u0438\\u0442\\u0435\\u043b\\u044c  \",\"\\u043a\\u043b\\u0430\\u0441\\u0441  \"],\"type\":\"bar\",\"xaxis\":\"x8\",\"yaxis\":\"y8\"}],                        {\"template\":{\"data\":{\"barpolar\":[{\"marker\":{\"line\":{\"color\":\"white\",\"width\":0.5},\"pattern\":{\"fillmode\":\"overlay\",\"size\":10,\"solidity\":0.2}},\"type\":\"barpolar\"}],\"bar\":[{\"error_x\":{\"color\":\"#2a3f5f\"},\"error_y\":{\"color\":\"#2a3f5f\"},\"marker\":{\"line\":{\"color\":\"white\",\"width\":0.5},\"pattern\":{\"fillmode\":\"overlay\",\"size\":10,\"solidity\":0.2}},\"type\":\"bar\"}],\"carpet\":[{\"aaxis\":{\"endlinecolor\":\"#2a3f5f\",\"gridcolor\":\"#C8D4E3\",\"linecolor\":\"#C8D4E3\",\"minorgridcolor\":\"#C8D4E3\",\"startlinecolor\":\"#2a3f5f\"},\"baxis\":{\"endlinecolor\":\"#2a3f5f\",\"gridcolor\":\"#C8D4E3\",\"linecolor\":\"#C8D4E3\",\"minorgridcolor\":\"#C8D4E3\",\"startlinecolor\":\"#2a3f5f\"},\"type\":\"carpet\"}],\"choropleth\":[{\"colorbar\":{\"outlinewidth\":0,\"ticks\":\"\"},\"type\":\"choropleth\"}],\"contourcarpet\":[{\"colorbar\":{\"outlinewidth\":0,\"ticks\":\"\"},\"type\":\"contourcarpet\"}],\"contour\":[{\"colorbar\":{\"outlinewidth\":0,\"ticks\":\"\"},\"colorscale\":[[0.0,\"#0d0887\"],[0.1111111111111111,\"#46039f\"],[0.2222222222222222,\"#7201a8\"],[0.3333333333333333,\"#9c179e\"],[0.4444444444444444,\"#bd3786\"],[0.5555555555555556,\"#d8576b\"],[0.6666666666666666,\"#ed7953\"],[0.7777777777777778,\"#fb9f3a\"],[0.8888888888888888,\"#fdca26\"],[1.0,\"#f0f921\"]],\"type\":\"contour\"}],\"heatmapgl\":[{\"colorbar\":{\"outlinewidth\":0,\"ticks\":\"\"},\"colorscale\":[[0.0,\"#0d0887\"],[0.1111111111111111,\"#46039f\"],[0.2222222222222222,\"#7201a8\"],[0.3333333333333333,\"#9c179e\"],[0.4444444444444444,\"#bd3786\"],[0.5555555555555556,\"#d8576b\"],[0.6666666666666666,\"#ed7953\"],[0.7777777777777778,\"#fb9f3a\"],[0.8888888888888888,\"#fdca26\"],[1.0,\"#f0f921\"]],\"type\":\"heatmapgl\"}],\"heatmap\":[{\"colorbar\":{\"outlinewidth\":0,\"ticks\":\"\"},\"colorscale\":[[0.0,\"#0d0887\"],[0.1111111111111111,\"#46039f\"],[0.2222222222222222,\"#7201a8\"],[0.3333333333333333,\"#9c179e\"],[0.4444444444444444,\"#bd3786\"],[0.5555555555555556,\"#d8576b\"],[0.6666666666666666,\"#ed7953\"],[0.7777777777777778,\"#fb9f3a\"],[0.8888888888888888,\"#fdca26\"],[1.0,\"#f0f921\"]],\"type\":\"heatmap\"}],\"histogram2dcontour\":[{\"colorbar\":{\"outlinewidth\":0,\"ticks\":\"\"},\"colorscale\":[[0.0,\"#0d0887\"],[0.1111111111111111,\"#46039f\"],[0.2222222222222222,\"#7201a8\"],[0.3333333333333333,\"#9c179e\"],[0.4444444444444444,\"#bd3786\"],[0.5555555555555556,\"#d8576b\"],[0.6666666666666666,\"#ed7953\"],[0.7777777777777778,\"#fb9f3a\"],[0.8888888888888888,\"#fdca26\"],[1.0,\"#f0f921\"]],\"type\":\"histogram2dcontour\"}],\"histogram2d\":[{\"colorbar\":{\"outlinewidth\":0,\"ticks\":\"\"},\"colorscale\":[[0.0,\"#0d0887\"],[0.1111111111111111,\"#46039f\"],[0.2222222222222222,\"#7201a8\"],[0.3333333333333333,\"#9c179e\"],[0.4444444444444444,\"#bd3786\"],[0.5555555555555556,\"#d8576b\"],[0.6666666666666666,\"#ed7953\"],[0.7777777777777778,\"#fb9f3a\"],[0.8888888888888888,\"#fdca26\"],[1.0,\"#f0f921\"]],\"type\":\"histogram2d\"}],\"histogram\":[{\"marker\":{\"pattern\":{\"fillmode\":\"overlay\",\"size\":10,\"solidity\":0.2}},\"type\":\"histogram\"}],\"mesh3d\":[{\"colorbar\":{\"outlinewidth\":0,\"ticks\":\"\"},\"type\":\"mesh3d\"}],\"parcoords\":[{\"line\":{\"colorbar\":{\"outlinewidth\":0,\"ticks\":\"\"}},\"type\":\"parcoords\"}],\"pie\":[{\"automargin\":true,\"type\":\"pie\"}],\"scatter3d\":[{\"line\":{\"colorbar\":{\"outlinewidth\":0,\"ticks\":\"\"}},\"marker\":{\"colorbar\":{\"outlinewidth\":0,\"ticks\":\"\"}},\"type\":\"scatter3d\"}],\"scattercarpet\":[{\"marker\":{\"colorbar\":{\"outlinewidth\":0,\"ticks\":\"\"}},\"type\":\"scattercarpet\"}],\"scattergeo\":[{\"marker\":{\"colorbar\":{\"outlinewidth\":0,\"ticks\":\"\"}},\"type\":\"scattergeo\"}],\"scattergl\":[{\"marker\":{\"colorbar\":{\"outlinewidth\":0,\"ticks\":\"\"}},\"type\":\"scattergl\"}],\"scattermapbox\":[{\"marker\":{\"colorbar\":{\"outlinewidth\":0,\"ticks\":\"\"}},\"type\":\"scattermapbox\"}],\"scatterpolargl\":[{\"marker\":{\"colorbar\":{\"outlinewidth\":0,\"ticks\":\"\"}},\"type\":\"scatterpolargl\"}],\"scatterpolar\":[{\"marker\":{\"colorbar\":{\"outlinewidth\":0,\"ticks\":\"\"}},\"type\":\"scatterpolar\"}],\"scatter\":[{\"marker\":{\"colorbar\":{\"outlinewidth\":0,\"ticks\":\"\"}},\"type\":\"scatter\"}],\"scatterternary\":[{\"marker\":{\"colorbar\":{\"outlinewidth\":0,\"ticks\":\"\"}},\"type\":\"scatterternary\"}],\"surface\":[{\"colorbar\":{\"outlinewidth\":0,\"ticks\":\"\"},\"colorscale\":[[0.0,\"#0d0887\"],[0.1111111111111111,\"#46039f\"],[0.2222222222222222,\"#7201a8\"],[0.3333333333333333,\"#9c179e\"],[0.4444444444444444,\"#bd3786\"],[0.5555555555555556,\"#d8576b\"],[0.6666666666666666,\"#ed7953\"],[0.7777777777777778,\"#fb9f3a\"],[0.8888888888888888,\"#fdca26\"],[1.0,\"#f0f921\"]],\"type\":\"surface\"}],\"table\":[{\"cells\":{\"fill\":{\"color\":\"#EBF0F8\"},\"line\":{\"color\":\"white\"}},\"header\":{\"fill\":{\"color\":\"#C8D4E3\"},\"line\":{\"color\":\"white\"}},\"type\":\"table\"}]},\"layout\":{\"annotationdefaults\":{\"arrowcolor\":\"#2a3f5f\",\"arrowhead\":0,\"arrowwidth\":1},\"autotypenumbers\":\"strict\",\"coloraxis\":{\"colorbar\":{\"outlinewidth\":0,\"ticks\":\"\"}},\"colorscale\":{\"diverging\":[[0,\"#8e0152\"],[0.1,\"#c51b7d\"],[0.2,\"#de77ae\"],[0.3,\"#f1b6da\"],[0.4,\"#fde0ef\"],[0.5,\"#f7f7f7\"],[0.6,\"#e6f5d0\"],[0.7,\"#b8e186\"],[0.8,\"#7fbc41\"],[0.9,\"#4d9221\"],[1,\"#276419\"]],\"sequential\":[[0.0,\"#0d0887\"],[0.1111111111111111,\"#46039f\"],[0.2222222222222222,\"#7201a8\"],[0.3333333333333333,\"#9c179e\"],[0.4444444444444444,\"#bd3786\"],[0.5555555555555556,\"#d8576b\"],[0.6666666666666666,\"#ed7953\"],[0.7777777777777778,\"#fb9f3a\"],[0.8888888888888888,\"#fdca26\"],[1.0,\"#f0f921\"]],\"sequentialminus\":[[0.0,\"#0d0887\"],[0.1111111111111111,\"#46039f\"],[0.2222222222222222,\"#7201a8\"],[0.3333333333333333,\"#9c179e\"],[0.4444444444444444,\"#bd3786\"],[0.5555555555555556,\"#d8576b\"],[0.6666666666666666,\"#ed7953\"],[0.7777777777777778,\"#fb9f3a\"],[0.8888888888888888,\"#fdca26\"],[1.0,\"#f0f921\"]]},\"colorway\":[\"#636efa\",\"#EF553B\",\"#00cc96\",\"#ab63fa\",\"#FFA15A\",\"#19d3f3\",\"#FF6692\",\"#B6E880\",\"#FF97FF\",\"#FECB52\"],\"font\":{\"color\":\"#2a3f5f\"},\"geo\":{\"bgcolor\":\"white\",\"lakecolor\":\"white\",\"landcolor\":\"white\",\"showlakes\":true,\"showland\":true,\"subunitcolor\":\"#C8D4E3\"},\"hoverlabel\":{\"align\":\"left\"},\"hovermode\":\"closest\",\"mapbox\":{\"style\":\"light\"},\"paper_bgcolor\":\"white\",\"plot_bgcolor\":\"white\",\"polar\":{\"angularaxis\":{\"gridcolor\":\"#EBF0F8\",\"linecolor\":\"#EBF0F8\",\"ticks\":\"\"},\"bgcolor\":\"white\",\"radialaxis\":{\"gridcolor\":\"#EBF0F8\",\"linecolor\":\"#EBF0F8\",\"ticks\":\"\"}},\"scene\":{\"xaxis\":{\"backgroundcolor\":\"white\",\"gridcolor\":\"#DFE8F3\",\"gridwidth\":2,\"linecolor\":\"#EBF0F8\",\"showbackground\":true,\"ticks\":\"\",\"zerolinecolor\":\"#EBF0F8\"},\"yaxis\":{\"backgroundcolor\":\"white\",\"gridcolor\":\"#DFE8F3\",\"gridwidth\":2,\"linecolor\":\"#EBF0F8\",\"showbackground\":true,\"ticks\":\"\",\"zerolinecolor\":\"#EBF0F8\"},\"zaxis\":{\"backgroundcolor\":\"white\",\"gridcolor\":\"#DFE8F3\",\"gridwidth\":2,\"linecolor\":\"#EBF0F8\",\"showbackground\":true,\"ticks\":\"\",\"zerolinecolor\":\"#EBF0F8\"}},\"shapedefaults\":{\"line\":{\"color\":\"#2a3f5f\"}},\"ternary\":{\"aaxis\":{\"gridcolor\":\"#DFE8F3\",\"linecolor\":\"#A2B1C6\",\"ticks\":\"\"},\"baxis\":{\"gridcolor\":\"#DFE8F3\",\"linecolor\":\"#A2B1C6\",\"ticks\":\"\"},\"bgcolor\":\"white\",\"caxis\":{\"gridcolor\":\"#DFE8F3\",\"linecolor\":\"#A2B1C6\",\"ticks\":\"\"}},\"title\":{\"x\":0.05},\"xaxis\":{\"automargin\":true,\"gridcolor\":\"#EBF0F8\",\"linecolor\":\"#EBF0F8\",\"ticks\":\"\",\"title\":{\"standoff\":15},\"zerolinecolor\":\"#EBF0F8\",\"zerolinewidth\":2},\"yaxis\":{\"automargin\":true,\"gridcolor\":\"#EBF0F8\",\"linecolor\":\"#EBF0F8\",\"ticks\":\"\",\"title\":{\"standoff\":15},\"zerolinecolor\":\"#EBF0F8\",\"zerolinewidth\":2}}},\"xaxis\":{\"anchor\":\"y\",\"domain\":[0.0,0.175],\"showgrid\":true},\"yaxis\":{\"anchor\":\"x\",\"domain\":[0.6000000000000001,1.0],\"showgrid\":true},\"xaxis2\":{\"anchor\":\"y2\",\"domain\":[0.275,0.45],\"showgrid\":true},\"yaxis2\":{\"anchor\":\"x2\",\"domain\":[0.6000000000000001,1.0],\"showgrid\":true},\"xaxis3\":{\"anchor\":\"y3\",\"domain\":[0.55,0.7250000000000001],\"showgrid\":true},\"yaxis3\":{\"anchor\":\"x3\",\"domain\":[0.6000000000000001,1.0],\"showgrid\":true},\"xaxis4\":{\"anchor\":\"y4\",\"domain\":[0.825,1.0],\"showgrid\":true},\"yaxis4\":{\"anchor\":\"x4\",\"domain\":[0.6000000000000001,1.0],\"showgrid\":true},\"xaxis5\":{\"anchor\":\"y5\",\"domain\":[0.0,0.175],\"showgrid\":true},\"yaxis5\":{\"anchor\":\"x5\",\"domain\":[0.0,0.4],\"showgrid\":true},\"xaxis6\":{\"anchor\":\"y6\",\"domain\":[0.275,0.45],\"showgrid\":true},\"yaxis6\":{\"anchor\":\"x6\",\"domain\":[0.0,0.4],\"showgrid\":true},\"xaxis7\":{\"anchor\":\"y7\",\"domain\":[0.55,0.7250000000000001],\"showgrid\":true},\"yaxis7\":{\"anchor\":\"x7\",\"domain\":[0.0,0.4],\"showgrid\":true},\"xaxis8\":{\"anchor\":\"y8\",\"domain\":[0.825,1.0],\"showgrid\":true},\"yaxis8\":{\"anchor\":\"x8\",\"domain\":[0.0,0.4],\"showgrid\":true},\"annotations\":[{\"font\":{\"size\":16},\"showarrow\":false,\"text\":\"Topic 0\",\"x\":0.0875,\"xanchor\":\"center\",\"xref\":\"paper\",\"y\":1.0,\"yanchor\":\"bottom\",\"yref\":\"paper\"},{\"font\":{\"size\":16},\"showarrow\":false,\"text\":\"Topic 1\",\"x\":0.36250000000000004,\"xanchor\":\"center\",\"xref\":\"paper\",\"y\":1.0,\"yanchor\":\"bottom\",\"yref\":\"paper\"},{\"font\":{\"size\":16},\"showarrow\":false,\"text\":\"Topic 2\",\"x\":0.6375000000000001,\"xanchor\":\"center\",\"xref\":\"paper\",\"y\":1.0,\"yanchor\":\"bottom\",\"yref\":\"paper\"},{\"font\":{\"size\":16},\"showarrow\":false,\"text\":\"Topic 3\",\"x\":0.9125,\"xanchor\":\"center\",\"xref\":\"paper\",\"y\":1.0,\"yanchor\":\"bottom\",\"yref\":\"paper\"},{\"font\":{\"size\":16},\"showarrow\":false,\"text\":\"Topic 4\",\"x\":0.0875,\"xanchor\":\"center\",\"xref\":\"paper\",\"y\":0.4,\"yanchor\":\"bottom\",\"yref\":\"paper\"},{\"font\":{\"size\":16},\"showarrow\":false,\"text\":\"Topic 5\",\"x\":0.36250000000000004,\"xanchor\":\"center\",\"xref\":\"paper\",\"y\":0.4,\"yanchor\":\"bottom\",\"yref\":\"paper\"},{\"font\":{\"size\":16},\"showarrow\":false,\"text\":\"Topic 6\",\"x\":0.6375000000000001,\"xanchor\":\"center\",\"xref\":\"paper\",\"y\":0.4,\"yanchor\":\"bottom\",\"yref\":\"paper\"},{\"font\":{\"size\":16},\"showarrow\":false,\"text\":\"Topic 7\",\"x\":0.9125,\"xanchor\":\"center\",\"xref\":\"paper\",\"y\":0.4,\"yanchor\":\"bottom\",\"yref\":\"paper\"}],\"title\":{\"font\":{\"size\":22,\"color\":\"Black\"},\"text\":\"<b>Topic Word Scores\",\"x\":0.5,\"xanchor\":\"center\",\"yanchor\":\"top\"},\"hoverlabel\":{\"font\":{\"size\":16,\"family\":\"Rockwell\"},\"bgcolor\":\"white\"},\"showlegend\":false,\"width\":1000,\"height\":500},                        {\"responsive\": true}                    ).then(function(){\n",
       "                            \n",
       "var gd = document.getElementById('71ddc818-db3a-4c63-8faf-14cef271a527');\n",
       "var x = new MutationObserver(function (mutations, observer) {{\n",
       "        var display = window.getComputedStyle(gd).display;\n",
       "        if (!display || display === 'none') {{\n",
       "            console.log([gd, 'removed!']);\n",
       "            Plotly.purge(gd);\n",
       "            observer.disconnect();\n",
       "        }}\n",
       "}});\n",
       "\n",
       "// Listen for the removal of the full notebook cells\n",
       "var notebookContainer = gd.closest('#notebook-container');\n",
       "if (notebookContainer) {{\n",
       "    x.observe(notebookContainer, {childList: true});\n",
       "}}\n",
       "\n",
       "// Listen for the clearing of the current output cell\n",
       "var outputEl = gd.closest('.output');\n",
       "if (outputEl) {{\n",
       "    x.observe(outputEl, {childList: true});\n",
       "}}\n",
       "\n",
       "                        })                };                            </script>        </div>\n",
       "</body>\n",
       "</html>"
      ]
     },
     "metadata": {},
     "output_type": "display_data"
    }
   ],
   "source": [
    "model.visualize_barchart()"
   ]
  },
  {
   "cell_type": "code",
   "execution_count": 94,
   "metadata": {
    "colab": {
     "base_uri": "https://localhost:8080/",
     "height": 817
    },
    "executionInfo": {
     "elapsed": 12,
     "status": "ok",
     "timestamp": 1642040825897,
     "user": {
      "displayName": "Kateryna Drogaieva",
      "photoUrl": "https://lh3.googleusercontent.com/a-/AOh14GjB1LQYJH97Lqm6RsCcAADFgzEAa0YxMUT7P4mjlA=s64",
      "userId": "10877377912113147805"
     },
     "user_tz": 480
    },
    "id": "g1xngY_Um3Or",
    "outputId": "76879505-f9ed-400a-97fb-eb8d6a84df87"
   },
   "outputs": [
    {
     "data": {
      "text/html": [
       "<html>\n",
       "<head><meta charset=\"utf-8\" /></head>\n",
       "<body>\n",
       "    <div>            <script src=\"https://cdnjs.cloudflare.com/ajax/libs/mathjax/2.7.5/MathJax.js?config=TeX-AMS-MML_SVG\"></script><script type=\"text/javascript\">if (window.MathJax) {MathJax.Hub.Config({SVG: {font: \"STIX-Web\"}});}</script>                <script type=\"text/javascript\">window.PlotlyConfig = {MathJaxConfig: 'local'};</script>\n",
       "        <script src=\"https://cdn.plot.ly/plotly-2.8.3.min.js\"></script>                <div id=\"77c61d48-1ca7-48da-83fc-32f1b14c3053\" class=\"plotly-graph-div\" style=\"height:800px; width:800px;\"></div>            <script type=\"text/javascript\">                                    window.PLOTLYENV=window.PLOTLYENV || {};                                    if (document.getElementById(\"77c61d48-1ca7-48da-83fc-32f1b14c3053\")) {                    Plotly.newPlot(                        \"77c61d48-1ca7-48da-83fc-32f1b14c3053\",                        [{\"coloraxis\":\"coloraxis\",\"name\":\"0\",\"x\":[\"-1_\\u0433\\u043e\\u0434_\\u0445\\u043e\\u0442\\u0435\\u0442\\u044c_\\u0433\\u043e\\u0432\\u043e\\u0440\\u0438\\u0442\\u044c\",\"0_\\u0441\\u043f\\u0430\\u0442\\u044c_\\u0441\\u043e\\u043d_\\u0437\\u0430\\u0441\\u044b\\u043f\\u0430\\u0442\\u044c\",\"1_\\u0447\\u0438\\u0442\\u0430\\u0442\\u044c_\\u043a\\u043d\\u0438\\u0433\\u0430_\\u0447\\u0442\\u0435\\u043d\\u0438\\u0435\",\"2_\\u043f\\u0441\\u0438\\u0445\\u043e\\u043b\\u043e\\u0433_\\u043f\\u043e\\u0441\\u043e\\u0432\\u0435\\u0442\\u043e\\u0432\\u0430\\u0442\\u044c_\\u0445\\u043e\\u0440...\",\"3_\\u0440\\u0443\\u0441\\u0441\\u043a\\u0438\\u0439_\\u043a\\u043b\\u0430\\u0441\\u0441_\\u0448\\u043a\\u043e\\u043b\\u0430\",\"4_\\u0437\\u0432\\u0443\\u043a_\\u043b\\u043e\\u0433\\u043e\\u043f\\u0435\\u0434_\\u0433\\u043e\\u0432\\u043e\\u0440\\u0438\\u0442\\u044c\",\"5_\\u0438\\u0433\\u0440\\u0443\\u0448\\u043a\\u0430_\\u043a\\u0443\\u043a\\u043b\\u0430_\\u0438\\u0433\\u0440\\u0430\",\"6_\\u0441\\u0430\\u0434_\\u0433\\u0440\\u0443\\u043f\\u043f\\u0430_\\u0445\\u043e\\u0434\\u0438\\u0442\\u044c\",\"7_\\u043a\\u043b\\u0430\\u0441\\u0441_\\u0443\\u0447\\u0438\\u0442\\u0435\\u043b\\u044c_\\u0448\\u043a\\u043e\\u043b\\u0430\",\"8_\\u0440\\u0438\\u0441\\u043e\\u0432\\u0430\\u0442\\u044c_\\u0446\\u0432\\u0435\\u0442_\\u0440\\u0438\\u0441\\u0443\\u043d\\u043e\\u043a\",\"9_\\u043c\\u0430\\u0442\\u0435\\u043c\\u0430\\u0442\\u0438\\u043a\\u0430_\\u043a\\u043b\\u0430\\u0441\\u0441_\\u0440\\u0435\\u043f\\u0435\\u0442\\u0438\\u0442\\u043e\\u0440\",\"10_\\u0441\\u0435\\u043a\\u0441_\\u043f\\u043e\\u043b\\u043e\\u0432\\u043e\\u0439_\\u043b\\u0435\\u0442\",\"11_\\u0441\\u0442\\u0430\\u0440\\u0448\\u0438\\u0439_\\u043b\\u0435\\u0442_\\u0440\\u043e\\u0434\\u0438\\u0442\\u0435\\u043b\\u044c\",\"12_\\u043c\\u0430\\u043c\\u0430_\\u0445\\u043e\\u0442\\u0435\\u0442\\u044c_\\u0433\\u043e\\u0432\\u043e\\u0440\\u0438\\u0442\\u044c\",\"13_\\u043c\\u0443\\u0437\\u044b\\u043a\\u0430_\\u043c\\u0443\\u0437\\u044b\\u043a\\u0430\\u043b\\u044c\\u043d\\u044b\\u0439_\\u043f\\u0435\\u0442\\u044c\",\"14_\\u0442\\u0435\\u043b\\u0435\\u0444\\u043e\\u043d_\\u043f\\u043b\\u0430\\u043d\\u0448\\u0435\\u0442_\\u0441\\u043c\\u0430\\u0440\\u0442\\u0444\\u043e\\u043d\",\"15_\\u0441\\u043f\\u043e\\u0440\\u0442_\\u0437\\u0430\\u043d\\u0438\\u043c\\u0430\\u0442\\u044c\\u0441\\u044f_\\u0433\\u0438\\u043c\\u043d\\u0430\\u0441\\u0442...\",\"16_\\u0440\\u043e\\u0441\\u0442_\\u0432\\u0435\\u0441_\\u0441\\u043c\",\"17_\\u0441\\u0430\\u0434_\\u0445\\u043e\\u0434\\u0438\\u0442\\u044c_\\u0441\\u0430\\u0434\\u0438\\u043a\",\"18_\\u0430\\u043d\\u0433\\u043b\\u0438\\u0439\\u0441\\u043a\\u0438\\u0439_\\u044f\\u0437\\u044b\\u043a_\\u043d\\u0435\\u043c\\u0435\\u0446\\u043a\\u0438\\u0439\",\"19_\\u043d\\u0435\\u0432\\u0440\\u043e\\u043b\\u043e\\u0433_\\u0432\\u0440\\u0430\\u0447_\\u0434\\u0438\\u0430\\u0433\\u043d\\u043e\\u0437\",\"20_\\u0434\\u0435\\u043d\\u044c\\u0433\\u0430_\\u0434\\u0435\\u043d\\u044c\\u0433\\u0438_\\u043a\\u0430\\u0440\\u043c\\u0430\\u043d\\u043d\\u044b\\u0439\",\"21_\\u0435\\u0434\\u0430_\\u043a\\u043e\\u0440\\u043c\\u0438\\u0442\\u044c_\\u043b\\u043e\\u0436\\u043a\\u0430\",\"22_\\u043f\\u043e\\u0434\\u0430\\u0440\\u043e\\u043a_\\u0434\\u0435\\u0434_\\u043c\\u043e\\u0440\\u043e\\u0437\",\"23_\\u043d\\u043e\\u0441\\u0438\\u0442\\u044c_\\u043e\\u0434\\u0435\\u0436\\u0434\\u0430_\\u043f\\u043b\\u0430\\u0442\\u044c\\u0435\",\"24_\\u0442\\u0430\\u043d\\u0435\\u0446_\\u0442\\u0430\\u043d\\u0446\\u044b_\\u0431\\u0430\\u043b\\u0435\\u0442\"],\"y\":[\"-1_\\u0433\\u043e\\u0434_\\u0445\\u043e\\u0442\\u0435\\u0442\\u044c_\\u0433\\u043e\\u0432\\u043e\\u0440\\u0438\\u0442\\u044c\",\"0_\\u0441\\u043f\\u0430\\u0442\\u044c_\\u0441\\u043e\\u043d_\\u0437\\u0430\\u0441\\u044b\\u043f\\u0430\\u0442\\u044c\",\"1_\\u0447\\u0438\\u0442\\u0430\\u0442\\u044c_\\u043a\\u043d\\u0438\\u0433\\u0430_\\u0447\\u0442\\u0435\\u043d\\u0438\\u0435\",\"2_\\u043f\\u0441\\u0438\\u0445\\u043e\\u043b\\u043e\\u0433_\\u043f\\u043e\\u0441\\u043e\\u0432\\u0435\\u0442\\u043e\\u0432\\u0430\\u0442\\u044c_\\u0445\\u043e\\u0440...\",\"3_\\u0440\\u0443\\u0441\\u0441\\u043a\\u0438\\u0439_\\u043a\\u043b\\u0430\\u0441\\u0441_\\u0448\\u043a\\u043e\\u043b\\u0430\",\"4_\\u0437\\u0432\\u0443\\u043a_\\u043b\\u043e\\u0433\\u043e\\u043f\\u0435\\u0434_\\u0433\\u043e\\u0432\\u043e\\u0440\\u0438\\u0442\\u044c\",\"5_\\u0438\\u0433\\u0440\\u0443\\u0448\\u043a\\u0430_\\u043a\\u0443\\u043a\\u043b\\u0430_\\u0438\\u0433\\u0440\\u0430\",\"6_\\u0441\\u0430\\u0434_\\u0433\\u0440\\u0443\\u043f\\u043f\\u0430_\\u0445\\u043e\\u0434\\u0438\\u0442\\u044c\",\"7_\\u043a\\u043b\\u0430\\u0441\\u0441_\\u0443\\u0447\\u0438\\u0442\\u0435\\u043b\\u044c_\\u0448\\u043a\\u043e\\u043b\\u0430\",\"8_\\u0440\\u0438\\u0441\\u043e\\u0432\\u0430\\u0442\\u044c_\\u0446\\u0432\\u0435\\u0442_\\u0440\\u0438\\u0441\\u0443\\u043d\\u043e\\u043a\",\"9_\\u043c\\u0430\\u0442\\u0435\\u043c\\u0430\\u0442\\u0438\\u043a\\u0430_\\u043a\\u043b\\u0430\\u0441\\u0441_\\u0440\\u0435\\u043f\\u0435\\u0442\\u0438\\u0442\\u043e\\u0440\",\"10_\\u0441\\u0435\\u043a\\u0441_\\u043f\\u043e\\u043b\\u043e\\u0432\\u043e\\u0439_\\u043b\\u0435\\u0442\",\"11_\\u0441\\u0442\\u0430\\u0440\\u0448\\u0438\\u0439_\\u043b\\u0435\\u0442_\\u0440\\u043e\\u0434\\u0438\\u0442\\u0435\\u043b\\u044c\",\"12_\\u043c\\u0430\\u043c\\u0430_\\u0445\\u043e\\u0442\\u0435\\u0442\\u044c_\\u0433\\u043e\\u0432\\u043e\\u0440\\u0438\\u0442\\u044c\",\"13_\\u043c\\u0443\\u0437\\u044b\\u043a\\u0430_\\u043c\\u0443\\u0437\\u044b\\u043a\\u0430\\u043b\\u044c\\u043d\\u044b\\u0439_\\u043f\\u0435\\u0442\\u044c\",\"14_\\u0442\\u0435\\u043b\\u0435\\u0444\\u043e\\u043d_\\u043f\\u043b\\u0430\\u043d\\u0448\\u0435\\u0442_\\u0441\\u043c\\u0430\\u0440\\u0442\\u0444\\u043e\\u043d\",\"15_\\u0441\\u043f\\u043e\\u0440\\u0442_\\u0437\\u0430\\u043d\\u0438\\u043c\\u0430\\u0442\\u044c\\u0441\\u044f_\\u0433\\u0438\\u043c\\u043d\\u0430\\u0441\\u0442...\",\"16_\\u0440\\u043e\\u0441\\u0442_\\u0432\\u0435\\u0441_\\u0441\\u043c\",\"17_\\u0441\\u0430\\u0434_\\u0445\\u043e\\u0434\\u0438\\u0442\\u044c_\\u0441\\u0430\\u0434\\u0438\\u043a\",\"18_\\u0430\\u043d\\u0433\\u043b\\u0438\\u0439\\u0441\\u043a\\u0438\\u0439_\\u044f\\u0437\\u044b\\u043a_\\u043d\\u0435\\u043c\\u0435\\u0446\\u043a\\u0438\\u0439\",\"19_\\u043d\\u0435\\u0432\\u0440\\u043e\\u043b\\u043e\\u0433_\\u0432\\u0440\\u0430\\u0447_\\u0434\\u0438\\u0430\\u0433\\u043d\\u043e\\u0437\",\"20_\\u0434\\u0435\\u043d\\u044c\\u0433\\u0430_\\u0434\\u0435\\u043d\\u044c\\u0433\\u0438_\\u043a\\u0430\\u0440\\u043c\\u0430\\u043d\\u043d\\u044b\\u0439\",\"21_\\u0435\\u0434\\u0430_\\u043a\\u043e\\u0440\\u043c\\u0438\\u0442\\u044c_\\u043b\\u043e\\u0436\\u043a\\u0430\",\"22_\\u043f\\u043e\\u0434\\u0430\\u0440\\u043e\\u043a_\\u0434\\u0435\\u0434_\\u043c\\u043e\\u0440\\u043e\\u0437\",\"23_\\u043d\\u043e\\u0441\\u0438\\u0442\\u044c_\\u043e\\u0434\\u0435\\u0436\\u0434\\u0430_\\u043f\\u043b\\u0430\\u0442\\u044c\\u0435\",\"24_\\u0442\\u0430\\u043d\\u0435\\u0446_\\u0442\\u0430\\u043d\\u0446\\u044b_\\u0431\\u0430\\u043b\\u0435\\u0442\"],\"z\":[[1.0000000000000004,0.7385878065317255,0.7414963368059779,0.8110270114019081,0.8531829478957953,0.8844190213280954,0.7219630137652542,0.9198342411983751,0.8054906916782001,0.6610413837289923,0.789969072096888,0.8127793774228512,0.9105171774150522,0.9614176110888648,0.8718652366588873,0.6254401500203336,0.8681732111494789,0.7189932248678077,0.9300848120145486,0.8527324843049182,0.819608123277161,0.7038722160716315,0.6774549457770316,0.842338312390963,0.6686201254419215,0.7939666542837136],[0.7385878065317255,0.9999999999999996,0.5837307915299828,0.6101451450326587,0.6083583351084099,0.6654390522224952,0.5470565454215288,0.6926117058750547,0.5459518398216099,0.5719507985367058,0.5464307441648523,0.6736501370389313,0.6501332941206242,0.6994104470677049,0.6775985121129448,0.4989652715357079,0.6350839458414854,0.5444396473209281,0.7228123372460923,0.5922812165937295,0.6309923330209101,0.4863474271150978,0.5701665675564966,0.6263397342934025,0.5273584825102601,0.654165184943867],[0.7414963368059779,0.5837307915299828,1.0000000000000016,0.7028515221302136,0.7916416257462371,0.7542010553538061,0.6023797330611778,0.6736115596037773,0.7239318791625939,0.6010178468372553,0.7068807711074234,0.6853160529020896,0.7057434714605254,0.7313333568973976,0.7504931018856686,0.5118836545345545,0.6935209859106062,0.5434838123689956,0.6949436876183346,0.7719489837537954,0.690071384967336,0.6031448321003305,0.5732831272020912,0.6850407301860126,0.521207841079522,0.6295452905707548],[0.8110270114019081,0.6101451450326587,0.7028515221302136,1.0,0.7921753924909396,0.7884246344267485,0.6226440440514037,0.7590879554907461,0.7816448484671762,0.6434130557591977,0.7819595766915375,0.7133737223461099,0.8152480147439132,0.8300211994076709,0.7702756679416014,0.5688571658161043,0.8169254492660438,0.644210736904277,0.7849626558829814,0.7773358732645719,0.8724714502920664,0.6149687963700083,0.5776983029673345,0.7706098147283418,0.5367494153605767,0.7069404973276011],[0.8531829478957953,0.6083583351084099,0.7916416257462371,0.7921753924909396,1.0,0.8556210688088106,0.6536735916578363,0.7871030545498398,0.8860447791381136,0.6972168301483558,0.880596890437082,0.745573721699172,0.7965812083018652,0.8335426938392722,0.8573025631085427,0.6061672617619044,0.8117983904735546,0.6603706349578486,0.7898131172872663,0.9203875367324694,0.783204785230836,0.6608164560846852,0.6552437203984138,0.7622793078770965,0.6269988379113128,0.7241909747079893],[0.8844190213280954,0.6654390522224952,0.7542010553538061,0.7884246344267485,0.8556210688088106,0.9999999999999998,0.6741523570804948,0.8084034240280981,0.7584571533932178,0.6187929215186813,0.7493655626632889,0.7456424384627094,0.800494110969527,0.8831977481229112,0.8967704794078122,0.6109284549805618,0.7819879819644786,0.6365320055019432,0.8309139789949469,0.8918043895706409,0.7872222715952102,0.6516340063235765,0.6497532612923792,0.7799247445106546,0.6067591381117177,0.7271670116268647],[0.7219630137652542,0.5470565454215288,0.6023797330611778,0.6226440440514037,0.6536735916578363,0.6741523570804948,1.0000000000000004,0.6629062108273135,0.5954860736974806,0.6091841415991657,0.6110236791906974,0.6908531228484476,0.726685073052917,0.7435160987267864,0.7138683765468433,0.562028672114739,0.6854981747678545,0.527059001531284,0.6915605927517302,0.6213401845720876,0.6208358359886061,0.5983923670768877,0.6090937804123899,0.7338677201756675,0.6093590124585934,0.6651565321254835],[0.9198342411983751,0.6926117058750547,0.6736115596037773,0.7590879554907461,0.7871030545498398,0.8084034240280981,0.6629062108273135,1.0000000000000009,0.7326772018819168,0.6312745346960813,0.7403720073443023,0.7476979647167115,0.8376685324997684,0.9268025641760596,0.8161433796062718,0.5653464811413641,0.8194350620395379,0.6917596652681626,0.9658520019115882,0.7748196352668484,0.7796553003458624,0.6660444689065408,0.6504965767562314,0.8018082055469198,0.6278410665024656,0.728593415710802],[0.8054906916782001,0.5459518398216099,0.7239318791625939,0.7816448484671762,0.8860447791381136,0.7584571533932178,0.5954860736974806,0.7326772018819168,0.9999999999999994,0.6104543331255086,0.8569564419895555,0.6748331697859795,0.7904138711164674,0.7785646621483986,0.77821405529902,0.5402925157478413,0.7743029059389472,0.5698990103212705,0.7292963795734211,0.8584278330307185,0.7239219140899178,0.5544149862080602,0.566421192702773,0.6876381202268307,0.5639664540088917,0.6640000704753235],[0.6610413837289923,0.5719507985367058,0.6010178468372553,0.6434130557591977,0.6972168301483558,0.6187929215186813,0.6091841415991657,0.6312745346960813,0.6104543331255086,0.9999999999999999,0.6539913251867499,0.599753275411358,0.6266933879336687,0.6429310798559422,0.6798210840685008,0.5139957260554445,0.670154022765345,0.5293839767854354,0.6426926870185394,0.6159565941476048,0.6013684454695145,0.540254042611841,0.5235973440480922,0.6286698735238647,0.6158016287966105,0.6775146076665035],[0.789969072096888,0.5464307441648523,0.7068807711074234,0.7819595766915375,0.880596890437082,0.7493655626632889,0.6110236791906974,0.7403720073443023,0.8569564419895555,0.6539913251867499,0.9999999999999999,0.6939378516722505,0.7205055543632423,0.7461427054887458,0.7732214280866885,0.5907521114931067,0.7940892023571942,0.6863913723499698,0.7304315732763645,0.8223403774458052,0.7307941763490666,0.6746320725482973,0.5640217462844159,0.6811814616723951,0.5612484782932978,0.69042799104221],[0.8127793774228512,0.6736501370389313,0.6853160529020896,0.7133737223461099,0.745573721699172,0.7456424384627094,0.6908531228484476,0.7476979647167115,0.6748331697859795,0.599753275411358,0.6939378516722505,1.0000000000000004,0.7746666907830753,0.7971406513094199,0.7753669220243924,0.607483129675781,0.7581162555385292,0.6482356417948996,0.7466722891127526,0.743060411594614,0.7240190498941139,0.6390418234094537,0.6121755174067751,0.7305894479641862,0.6458343487861369,0.77534996646598],[0.9105171774150522,0.6501332941206242,0.7057434714605254,0.8152480147439132,0.7965812083018652,0.800494110969527,0.726685073052917,0.8376685324997684,0.7904138711164674,0.6266933879336687,0.7205055543632423,0.7746666907830753,1.0000000000000004,0.9490390526987474,0.8060819379590489,0.5807865967698139,0.8195534050952883,0.6857324442509592,0.8587646041950663,0.7791993721694228,0.7889547356386486,0.6394254190731656,0.6666857999859691,0.8386747529045739,0.625069821168843,0.7434694598955658],[0.9614176110888648,0.6994104470677049,0.7313333568973976,0.8300211994076709,0.8335426938392722,0.8831977481229112,0.7435160987267864,0.9268025641760596,0.7785646621483986,0.6429310798559422,0.7461427054887458,0.7971406513094199,0.9490390526987474,0.9999999999999993,0.854795818465826,0.6106218245128773,0.8383032700496879,0.7008125338156479,0.9478510153606097,0.8293871312945426,0.8261252918466099,0.6969377093566353,0.7074834406965803,0.8769991322401194,0.6568826848099476,0.7603853261955336],[0.8718652366588873,0.6775985121129448,0.7504931018856686,0.7702756679416014,0.8573025631085427,0.8967704794078122,0.7138683765468433,0.8161433796062718,0.77821405529902,0.6798210840685008,0.7732214280866885,0.7753669220243924,0.8060819379590489,0.854795818465826,1.0000000000000004,0.614781544047352,0.8357595901220389,0.6481302382013601,0.823370724834595,0.8564353867088166,0.7617107776666083,0.6438929374827393,0.6568831237674086,0.7591964388130017,0.626162294786177,0.7983274726351789],[0.6254401500203336,0.4989652715357079,0.5118836545345545,0.5688571658161043,0.6061672617619044,0.6109284549805618,0.562028672114739,0.5653464811413641,0.5402925157478413,0.5139957260554445,0.5907521114931067,0.607483129675781,0.5807865967698139,0.6106218245128773,0.614781544047352,0.9999999999999991,0.5676114796012489,0.49351751278991907,0.5766165822104292,0.6080788279757653,0.5849842334872888,0.5495388164676454,0.45852852220787155,0.5461439016528433,0.4257996886249142,0.4710086372524429],[0.8681732111494789,0.6350839458414854,0.6935209859106062,0.8169254492660438,0.8117983904735546,0.7819879819644786,0.6854981747678545,0.8194350620395379,0.7743029059389472,0.670154022765345,0.7940892023571942,0.7581162555385292,0.8195534050952883,0.8383032700496879,0.8357595901220389,0.5676114796012489,0.9999999999999991,0.7198861803065026,0.8206952145432375,0.7961711446176211,0.7843021965275483,0.6288831411041561,0.6252389791261987,0.72582282295535,0.6422275575304122,0.8393115193078027],[0.7189932248678077,0.5444396473209281,0.5434838123689956,0.644210736904277,0.6603706349578486,0.6365320055019432,0.527059001531284,0.6917596652681626,0.5698990103212705,0.5293839767854354,0.6863913723499698,0.6482356417948996,0.6857324442509592,0.7008125338156479,0.6481302382013601,0.49351751278991907,0.7198861803065026,0.9999999999999989,0.6755550014500483,0.6311158594395816,0.642337155567541,0.6815909494465527,0.6048867073399009,0.6572002896710762,0.534061850424574,0.6061055766482462],[0.9300848120145486,0.7228123372460923,0.6949436876183346,0.7849626558829814,0.7898131172872663,0.8309139789949469,0.6915605927517302,0.9658520019115882,0.7292963795734211,0.6426926870185394,0.7304315732763645,0.7466722891127526,0.8587646041950663,0.9478510153606097,0.823370724834595,0.5766165822104292,0.8206952145432375,0.6755550014500483,0.9999999999999998,0.782223177059038,0.7748278477661703,0.671486202254019,0.6808021180304915,0.8299330421616767,0.6547405798524404,0.7547684502106891],[0.8527324843049182,0.5922812165937295,0.7719489837537954,0.7773358732645719,0.9203875367324694,0.8918043895706409,0.6213401845720876,0.7748196352668484,0.8584278330307185,0.6159565941476048,0.8223403774458052,0.743060411594614,0.7791993721694228,0.8293871312945426,0.8564353867088166,0.6080788279757653,0.7961711446176211,0.6311158594395816,0.782223177059038,0.9999999999999996,0.7648537347668317,0.6253583765888209,0.6516161871562368,0.716741048149059,0.6054903992384069,0.6930327294648164],[0.819608123277161,0.6309923330209101,0.690071384967336,0.8724714502920664,0.783204785230836,0.7872222715952102,0.6208358359886061,0.7796553003458624,0.7239219140899178,0.6013684454695145,0.7307941763490666,0.7240190498941139,0.7889547356386486,0.8261252918466099,0.7617107776666083,0.5849842334872888,0.7843021965275483,0.642337155567541,0.7748278477661703,0.7648537347668317,0.9999999999999993,0.6114596127001863,0.5988136277296394,0.7691853824098774,0.5247673701129253,0.6523159317006932],[0.7038722160716315,0.4863474271150978,0.6031448321003305,0.6149687963700083,0.6608164560846852,0.6516340063235765,0.5983923670768877,0.6660444689065408,0.5544149862080602,0.540254042611841,0.6746320725482973,0.6390418234094537,0.6394254190731656,0.6969377093566353,0.6438929374827393,0.5495388164676454,0.6288831411041561,0.6815909494465527,0.671486202254019,0.6253583765888209,0.6114596127001863,1.0,0.6014957099015232,0.7711819562162485,0.5841247464684926,0.5274472810513289],[0.6774549457770316,0.5701665675564966,0.5732831272020912,0.5776983029673345,0.6552437203984138,0.6497532612923792,0.6090937804123899,0.6504965767562314,0.566421192702773,0.5235973440480922,0.5640217462844159,0.6121755174067751,0.6666857999859691,0.7074834406965803,0.6568831237674086,0.45852852220787155,0.6252389791261987,0.6048867073399009,0.6808021180304915,0.6516161871562368,0.5988136277296394,0.6014957099015232,1.0000000000000007,0.7013904428151158,0.5241888352507318,0.5509923335192394],[0.842338312390963,0.6263397342934025,0.6850407301860126,0.7706098147283418,0.7622793078770965,0.7799247445106546,0.7338677201756675,0.8018082055469198,0.6876381202268307,0.6286698735238647,0.6811814616723951,0.7305894479641862,0.8386747529045739,0.8769991322401194,0.7591964388130017,0.5461439016528433,0.72582282295535,0.6572002896710762,0.8299330421616767,0.716741048149059,0.7691853824098774,0.7711819562162485,0.7013904428151158,1.0000000000000004,0.6126250236637694,0.6520567341194505],[0.6686201254419215,0.5273584825102601,0.521207841079522,0.5367494153605767,0.6269988379113128,0.6067591381117177,0.6093590124585934,0.6278410665024656,0.5639664540088917,0.6158016287966105,0.5612484782932978,0.6458343487861369,0.625069821168843,0.6568826848099476,0.626162294786177,0.4257996886249142,0.6422275575304122,0.534061850424574,0.6547405798524404,0.6054903992384069,0.5247673701129253,0.5841247464684926,0.5241888352507318,0.6126250236637694,1.0000000000000004,0.7212372710675361],[0.7939666542837136,0.654165184943867,0.6295452905707548,0.7069404973276011,0.7241909747079893,0.7271670116268647,0.6651565321254835,0.728593415710802,0.6640000704753235,0.6775146076665035,0.69042799104221,0.77534996646598,0.7434694598955658,0.7603853261955336,0.7983274726351789,0.4710086372524429,0.8393115193078027,0.6061055766482462,0.7547684502106891,0.6930327294648164,0.6523159317006932,0.5274472810513289,0.5509923335192394,0.6520567341194505,0.7212372710675361,0.9999999999999997]],\"type\":\"heatmap\",\"xaxis\":\"x\",\"yaxis\":\"y\",\"hovertemplate\":\"x: %{x}<br>y: %{y}<br>Similarity Score: %{z}<extra></extra>\"}],                        {\"template\":{\"data\":{\"bar\":[{\"error_x\":{\"color\":\"#2a3f5f\"},\"error_y\":{\"color\":\"#2a3f5f\"},\"marker\":{\"line\":{\"color\":\"#E5ECF6\",\"width\":0.5},\"pattern\":{\"fillmode\":\"overlay\",\"size\":10,\"solidity\":0.2}},\"type\":\"bar\"}],\"barpolar\":[{\"marker\":{\"line\":{\"color\":\"#E5ECF6\",\"width\":0.5},\"pattern\":{\"fillmode\":\"overlay\",\"size\":10,\"solidity\":0.2}},\"type\":\"barpolar\"}],\"carpet\":[{\"aaxis\":{\"endlinecolor\":\"#2a3f5f\",\"gridcolor\":\"white\",\"linecolor\":\"white\",\"minorgridcolor\":\"white\",\"startlinecolor\":\"#2a3f5f\"},\"baxis\":{\"endlinecolor\":\"#2a3f5f\",\"gridcolor\":\"white\",\"linecolor\":\"white\",\"minorgridcolor\":\"white\",\"startlinecolor\":\"#2a3f5f\"},\"type\":\"carpet\"}],\"choropleth\":[{\"colorbar\":{\"outlinewidth\":0,\"ticks\":\"\"},\"type\":\"choropleth\"}],\"contour\":[{\"colorbar\":{\"outlinewidth\":0,\"ticks\":\"\"},\"colorscale\":[[0.0,\"#0d0887\"],[0.1111111111111111,\"#46039f\"],[0.2222222222222222,\"#7201a8\"],[0.3333333333333333,\"#9c179e\"],[0.4444444444444444,\"#bd3786\"],[0.5555555555555556,\"#d8576b\"],[0.6666666666666666,\"#ed7953\"],[0.7777777777777778,\"#fb9f3a\"],[0.8888888888888888,\"#fdca26\"],[1.0,\"#f0f921\"]],\"type\":\"contour\"}],\"contourcarpet\":[{\"colorbar\":{\"outlinewidth\":0,\"ticks\":\"\"},\"type\":\"contourcarpet\"}],\"heatmap\":[{\"colorbar\":{\"outlinewidth\":0,\"ticks\":\"\"},\"colorscale\":[[0.0,\"#0d0887\"],[0.1111111111111111,\"#46039f\"],[0.2222222222222222,\"#7201a8\"],[0.3333333333333333,\"#9c179e\"],[0.4444444444444444,\"#bd3786\"],[0.5555555555555556,\"#d8576b\"],[0.6666666666666666,\"#ed7953\"],[0.7777777777777778,\"#fb9f3a\"],[0.8888888888888888,\"#fdca26\"],[1.0,\"#f0f921\"]],\"type\":\"heatmap\"}],\"heatmapgl\":[{\"colorbar\":{\"outlinewidth\":0,\"ticks\":\"\"},\"colorscale\":[[0.0,\"#0d0887\"],[0.1111111111111111,\"#46039f\"],[0.2222222222222222,\"#7201a8\"],[0.3333333333333333,\"#9c179e\"],[0.4444444444444444,\"#bd3786\"],[0.5555555555555556,\"#d8576b\"],[0.6666666666666666,\"#ed7953\"],[0.7777777777777778,\"#fb9f3a\"],[0.8888888888888888,\"#fdca26\"],[1.0,\"#f0f921\"]],\"type\":\"heatmapgl\"}],\"histogram\":[{\"marker\":{\"pattern\":{\"fillmode\":\"overlay\",\"size\":10,\"solidity\":0.2}},\"type\":\"histogram\"}],\"histogram2d\":[{\"colorbar\":{\"outlinewidth\":0,\"ticks\":\"\"},\"colorscale\":[[0.0,\"#0d0887\"],[0.1111111111111111,\"#46039f\"],[0.2222222222222222,\"#7201a8\"],[0.3333333333333333,\"#9c179e\"],[0.4444444444444444,\"#bd3786\"],[0.5555555555555556,\"#d8576b\"],[0.6666666666666666,\"#ed7953\"],[0.7777777777777778,\"#fb9f3a\"],[0.8888888888888888,\"#fdca26\"],[1.0,\"#f0f921\"]],\"type\":\"histogram2d\"}],\"histogram2dcontour\":[{\"colorbar\":{\"outlinewidth\":0,\"ticks\":\"\"},\"colorscale\":[[0.0,\"#0d0887\"],[0.1111111111111111,\"#46039f\"],[0.2222222222222222,\"#7201a8\"],[0.3333333333333333,\"#9c179e\"],[0.4444444444444444,\"#bd3786\"],[0.5555555555555556,\"#d8576b\"],[0.6666666666666666,\"#ed7953\"],[0.7777777777777778,\"#fb9f3a\"],[0.8888888888888888,\"#fdca26\"],[1.0,\"#f0f921\"]],\"type\":\"histogram2dcontour\"}],\"mesh3d\":[{\"colorbar\":{\"outlinewidth\":0,\"ticks\":\"\"},\"type\":\"mesh3d\"}],\"parcoords\":[{\"line\":{\"colorbar\":{\"outlinewidth\":0,\"ticks\":\"\"}},\"type\":\"parcoords\"}],\"pie\":[{\"automargin\":true,\"type\":\"pie\"}],\"scatter\":[{\"marker\":{\"colorbar\":{\"outlinewidth\":0,\"ticks\":\"\"}},\"type\":\"scatter\"}],\"scatter3d\":[{\"line\":{\"colorbar\":{\"outlinewidth\":0,\"ticks\":\"\"}},\"marker\":{\"colorbar\":{\"outlinewidth\":0,\"ticks\":\"\"}},\"type\":\"scatter3d\"}],\"scattercarpet\":[{\"marker\":{\"colorbar\":{\"outlinewidth\":0,\"ticks\":\"\"}},\"type\":\"scattercarpet\"}],\"scattergeo\":[{\"marker\":{\"colorbar\":{\"outlinewidth\":0,\"ticks\":\"\"}},\"type\":\"scattergeo\"}],\"scattergl\":[{\"marker\":{\"colorbar\":{\"outlinewidth\":0,\"ticks\":\"\"}},\"type\":\"scattergl\"}],\"scattermapbox\":[{\"marker\":{\"colorbar\":{\"outlinewidth\":0,\"ticks\":\"\"}},\"type\":\"scattermapbox\"}],\"scatterpolar\":[{\"marker\":{\"colorbar\":{\"outlinewidth\":0,\"ticks\":\"\"}},\"type\":\"scatterpolar\"}],\"scatterpolargl\":[{\"marker\":{\"colorbar\":{\"outlinewidth\":0,\"ticks\":\"\"}},\"type\":\"scatterpolargl\"}],\"scatterternary\":[{\"marker\":{\"colorbar\":{\"outlinewidth\":0,\"ticks\":\"\"}},\"type\":\"scatterternary\"}],\"surface\":[{\"colorbar\":{\"outlinewidth\":0,\"ticks\":\"\"},\"colorscale\":[[0.0,\"#0d0887\"],[0.1111111111111111,\"#46039f\"],[0.2222222222222222,\"#7201a8\"],[0.3333333333333333,\"#9c179e\"],[0.4444444444444444,\"#bd3786\"],[0.5555555555555556,\"#d8576b\"],[0.6666666666666666,\"#ed7953\"],[0.7777777777777778,\"#fb9f3a\"],[0.8888888888888888,\"#fdca26\"],[1.0,\"#f0f921\"]],\"type\":\"surface\"}],\"table\":[{\"cells\":{\"fill\":{\"color\":\"#EBF0F8\"},\"line\":{\"color\":\"white\"}},\"header\":{\"fill\":{\"color\":\"#C8D4E3\"},\"line\":{\"color\":\"white\"}},\"type\":\"table\"}]},\"layout\":{\"annotationdefaults\":{\"arrowcolor\":\"#2a3f5f\",\"arrowhead\":0,\"arrowwidth\":1},\"autotypenumbers\":\"strict\",\"coloraxis\":{\"colorbar\":{\"outlinewidth\":0,\"ticks\":\"\"}},\"colorscale\":{\"diverging\":[[0,\"#8e0152\"],[0.1,\"#c51b7d\"],[0.2,\"#de77ae\"],[0.3,\"#f1b6da\"],[0.4,\"#fde0ef\"],[0.5,\"#f7f7f7\"],[0.6,\"#e6f5d0\"],[0.7,\"#b8e186\"],[0.8,\"#7fbc41\"],[0.9,\"#4d9221\"],[1,\"#276419\"]],\"sequential\":[[0.0,\"#0d0887\"],[0.1111111111111111,\"#46039f\"],[0.2222222222222222,\"#7201a8\"],[0.3333333333333333,\"#9c179e\"],[0.4444444444444444,\"#bd3786\"],[0.5555555555555556,\"#d8576b\"],[0.6666666666666666,\"#ed7953\"],[0.7777777777777778,\"#fb9f3a\"],[0.8888888888888888,\"#fdca26\"],[1.0,\"#f0f921\"]],\"sequentialminus\":[[0.0,\"#0d0887\"],[0.1111111111111111,\"#46039f\"],[0.2222222222222222,\"#7201a8\"],[0.3333333333333333,\"#9c179e\"],[0.4444444444444444,\"#bd3786\"],[0.5555555555555556,\"#d8576b\"],[0.6666666666666666,\"#ed7953\"],[0.7777777777777778,\"#fb9f3a\"],[0.8888888888888888,\"#fdca26\"],[1.0,\"#f0f921\"]]},\"colorway\":[\"#636efa\",\"#EF553B\",\"#00cc96\",\"#ab63fa\",\"#FFA15A\",\"#19d3f3\",\"#FF6692\",\"#B6E880\",\"#FF97FF\",\"#FECB52\"],\"font\":{\"color\":\"#2a3f5f\"},\"geo\":{\"bgcolor\":\"white\",\"lakecolor\":\"white\",\"landcolor\":\"#E5ECF6\",\"showlakes\":true,\"showland\":true,\"subunitcolor\":\"white\"},\"hoverlabel\":{\"align\":\"left\"},\"hovermode\":\"closest\",\"mapbox\":{\"style\":\"light\"},\"paper_bgcolor\":\"white\",\"plot_bgcolor\":\"#E5ECF6\",\"polar\":{\"angularaxis\":{\"gridcolor\":\"white\",\"linecolor\":\"white\",\"ticks\":\"\"},\"bgcolor\":\"#E5ECF6\",\"radialaxis\":{\"gridcolor\":\"white\",\"linecolor\":\"white\",\"ticks\":\"\"}},\"scene\":{\"xaxis\":{\"backgroundcolor\":\"#E5ECF6\",\"gridcolor\":\"white\",\"gridwidth\":2,\"linecolor\":\"white\",\"showbackground\":true,\"ticks\":\"\",\"zerolinecolor\":\"white\"},\"yaxis\":{\"backgroundcolor\":\"#E5ECF6\",\"gridcolor\":\"white\",\"gridwidth\":2,\"linecolor\":\"white\",\"showbackground\":true,\"ticks\":\"\",\"zerolinecolor\":\"white\"},\"zaxis\":{\"backgroundcolor\":\"#E5ECF6\",\"gridcolor\":\"white\",\"gridwidth\":2,\"linecolor\":\"white\",\"showbackground\":true,\"ticks\":\"\",\"zerolinecolor\":\"white\"}},\"shapedefaults\":{\"line\":{\"color\":\"#2a3f5f\"}},\"ternary\":{\"aaxis\":{\"gridcolor\":\"white\",\"linecolor\":\"white\",\"ticks\":\"\"},\"baxis\":{\"gridcolor\":\"white\",\"linecolor\":\"white\",\"ticks\":\"\"},\"bgcolor\":\"#E5ECF6\",\"caxis\":{\"gridcolor\":\"white\",\"linecolor\":\"white\",\"ticks\":\"\"}},\"title\":{\"x\":0.05},\"xaxis\":{\"automargin\":true,\"gridcolor\":\"white\",\"linecolor\":\"white\",\"ticks\":\"\",\"title\":{\"standoff\":15},\"zerolinecolor\":\"white\",\"zerolinewidth\":2},\"yaxis\":{\"automargin\":true,\"gridcolor\":\"white\",\"linecolor\":\"white\",\"ticks\":\"\",\"title\":{\"standoff\":15},\"zerolinecolor\":\"white\",\"zerolinewidth\":2}}},\"xaxis\":{\"anchor\":\"y\",\"domain\":[0.0,1.0],\"scaleanchor\":\"y\",\"constrain\":\"domain\"},\"yaxis\":{\"anchor\":\"x\",\"domain\":[0.0,1.0],\"autorange\":\"reversed\",\"constrain\":\"domain\"},\"coloraxis\":{\"colorbar\":{\"title\":{\"text\":\"Similarity Score\"}},\"colorscale\":[[0.0,\"rgb(247,252,240)\"],[0.125,\"rgb(224,243,219)\"],[0.25,\"rgb(204,235,197)\"],[0.375,\"rgb(168,221,181)\"],[0.5,\"rgb(123,204,196)\"],[0.625,\"rgb(78,179,211)\"],[0.75,\"rgb(43,140,190)\"],[0.875,\"rgb(8,104,172)\"],[1.0,\"rgb(8,64,129)\"]]},\"margin\":{\"t\":60},\"title\":{\"font\":{\"size\":22,\"color\":\"Black\"},\"text\":\"<b>Similarity Matrix\",\"y\":0.95,\"x\":0.55,\"xanchor\":\"center\",\"yanchor\":\"top\"},\"hoverlabel\":{\"font\":{\"size\":16,\"family\":\"Rockwell\"},\"bgcolor\":\"white\"},\"width\":800,\"height\":800,\"showlegend\":true,\"legend\":{\"title\":{\"text\":\"Trend\"}}},                        {\"responsive\": true}                    ).then(function(){\n",
       "                            \n",
       "var gd = document.getElementById('77c61d48-1ca7-48da-83fc-32f1b14c3053');\n",
       "var x = new MutationObserver(function (mutations, observer) {{\n",
       "        var display = window.getComputedStyle(gd).display;\n",
       "        if (!display || display === 'none') {{\n",
       "            console.log([gd, 'removed!']);\n",
       "            Plotly.purge(gd);\n",
       "            observer.disconnect();\n",
       "        }}\n",
       "}});\n",
       "\n",
       "// Listen for the removal of the full notebook cells\n",
       "var notebookContainer = gd.closest('#notebook-container');\n",
       "if (notebookContainer) {{\n",
       "    x.observe(notebookContainer, {childList: true});\n",
       "}}\n",
       "\n",
       "// Listen for the clearing of the current output cell\n",
       "var outputEl = gd.closest('.output');\n",
       "if (outputEl) {{\n",
       "    x.observe(outputEl, {childList: true});\n",
       "}}\n",
       "\n",
       "                        })                };                            </script>        </div>\n",
       "</body>\n",
       "</html>"
      ]
     },
     "metadata": {},
     "output_type": "display_data"
    }
   ],
   "source": [
    "model.visualize_heatmap()"
   ]
  },
  {
   "cell_type": "code",
   "execution_count": 95,
   "metadata": {
    "colab": {
     "base_uri": "https://localhost:8080/",
     "height": 607
    },
    "executionInfo": {
     "elapsed": 297,
     "status": "ok",
     "timestamp": 1642040826184,
     "user": {
      "displayName": "Kateryna Drogaieva",
      "photoUrl": "https://lh3.googleusercontent.com/a-/AOh14GjB1LQYJH97Lqm6RsCcAADFgzEAa0YxMUT7P4mjlA=s64",
      "userId": "10877377912113147805"
     },
     "user_tz": 480
    },
    "id": "-BRR_rv5ngIJ",
    "outputId": "bc6f6845-74e1-4d56-f172-428ef41efc78"
   },
   "outputs": [
    {
     "data": {
      "text/html": [
       "<html>\n",
       "<head><meta charset=\"utf-8\" /></head>\n",
       "<body>\n",
       "    <div>            <script src=\"https://cdnjs.cloudflare.com/ajax/libs/mathjax/2.7.5/MathJax.js?config=TeX-AMS-MML_SVG\"></script><script type=\"text/javascript\">if (window.MathJax) {MathJax.Hub.Config({SVG: {font: \"STIX-Web\"}});}</script>                <script type=\"text/javascript\">window.PlotlyConfig = {MathJaxConfig: 'local'};</script>\n",
       "        <script src=\"https://cdn.plot.ly/plotly-2.8.3.min.js\"></script>                <div id=\"e40f94b9-4848-494e-a124-7d94a07afe80\" class=\"plotly-graph-div\" style=\"height:590px; width:1000px;\"></div>            <script type=\"text/javascript\">                                    window.PLOTLYENV=window.PLOTLYENV || {};                                    if (document.getElementById(\"e40f94b9-4848-494e-a124-7d94a07afe80\")) {                    Plotly.newPlot(                        \"e40f94b9-4848-494e-a124-7d94a07afe80\",                        [{\"hoverinfo\":\"text\",\"marker\":{\"color\":\"rgb(61,153,112)\"},\"mode\":\"lines\",\"x\":[0.0,0.5036291813800258,0.5036291813800258,0.0],\"xaxis\":\"x\",\"y\":[-15.0,-15.0,-25.0,-25.0],\"yaxis\":\"y\",\"type\":\"scatter\"},{\"hoverinfo\":\"text\",\"marker\":{\"color\":\"rgb(61,153,112)\"},\"mode\":\"lines\",\"x\":[0.0,0.5956977876472278,0.5956977876472278,0.0],\"xaxis\":\"x\",\"y\":[-35.0,-35.0,-45.0,-45.0],\"yaxis\":\"y\",\"type\":\"scatter\"},{\"hoverinfo\":\"text\",\"marker\":{\"color\":\"rgb(61,153,112)\"},\"mode\":\"lines\",\"x\":[0.0,0.6162251919545352,0.6162251919545352,0.0],\"xaxis\":\"x\",\"y\":[-65.0,-65.0,-75.0,-75.0],\"yaxis\":\"y\",\"type\":\"scatter\"},{\"hoverinfo\":\"text\",\"marker\":{\"color\":\"rgb(61,153,112)\"},\"mode\":\"lines\",\"x\":[0.0,0.6900425807151576,0.6900425807151576,0.6162251919545352],\"xaxis\":\"x\",\"y\":[-55.0,-55.0,-70.0,-70.0],\"yaxis\":\"y\",\"type\":\"scatter\"},{\"hoverinfo\":\"text\",\"marker\":{\"color\":\"rgb(61,153,112)\"},\"mode\":\"lines\",\"x\":[0.5956977876472278,0.7528289913860995,0.7528289913860995,0.6900425807151576],\"xaxis\":\"x\",\"y\":[-40.0,-40.0,-62.5,-62.5],\"yaxis\":\"y\",\"type\":\"scatter\"},{\"hoverinfo\":\"text\",\"marker\":{\"color\":\"rgb(61,153,112)\"},\"mode\":\"lines\",\"x\":[0.5036291813800258,0.8363916776354038,0.8363916776354038,0.7528289913860995],\"xaxis\":\"x\",\"y\":[-20.0,-20.0,-51.25,-51.25],\"yaxis\":\"y\",\"type\":\"scatter\"},{\"hoverinfo\":\"text\",\"marker\":{\"color\":\"rgb(61,153,112)\"},\"mode\":\"lines\",\"x\":[0.0,0.9179803502785809,0.9179803502785809,0.8363916776354038],\"xaxis\":\"x\",\"y\":[-5.0,-5.0,-35.625,-35.625],\"yaxis\":\"y\",\"type\":\"scatter\"},{\"hoverinfo\":\"text\",\"marker\":{\"color\":\"rgb(255,65,54)\"},\"mode\":\"lines\",\"x\":[0.0,0.10299554979224614,0.10299554979224614,0.0],\"xaxis\":\"x\",\"y\":[-95.0,-95.0,-105.0,-105.0],\"yaxis\":\"y\",\"type\":\"scatter\"},{\"hoverinfo\":\"text\",\"marker\":{\"color\":\"rgb(255,65,54)\"},\"mode\":\"lines\",\"x\":[0.0,0.12896575018702677,0.12896575018702677,0.0],\"xaxis\":\"x\",\"y\":[-125.0,-125.0,-135.0,-135.0],\"yaxis\":\"y\",\"type\":\"scatter\"},{\"hoverinfo\":\"text\",\"marker\":{\"color\":\"rgb(255,65,54)\"},\"mode\":\"lines\",\"x\":[0.0,0.28767624778309553,0.28767624778309553,0.12896575018702677],\"xaxis\":\"x\",\"y\":[-115.0,-115.0,-130.0,-130.0],\"yaxis\":\"y\",\"type\":\"scatter\"},{\"hoverinfo\":\"text\",\"marker\":{\"color\":\"rgb(255,65,54)\"},\"mode\":\"lines\",\"x\":[0.10299554979224614,0.3464353225160886,0.3464353225160886,0.28767624778309553],\"xaxis\":\"x\",\"y\":[-100.0,-100.0,-122.5,-122.5],\"yaxis\":\"y\",\"type\":\"scatter\"},{\"hoverinfo\":\"text\",\"marker\":{\"color\":\"rgb(255,65,54)\"},\"mode\":\"lines\",\"x\":[0.0,0.5072189181810446,0.5072189181810446,0.3464353225160886],\"xaxis\":\"x\",\"y\":[-85.0,-85.0,-111.25,-111.25],\"yaxis\":\"y\",\"type\":\"scatter\"},{\"hoverinfo\":\"text\",\"marker\":{\"color\":\"rgb(35,205,205)\"},\"mode\":\"lines\",\"x\":[0.0,0.42240342940334524,0.42240342940334524,0.0],\"xaxis\":\"x\",\"y\":[-145.0,-145.0,-155.0,-155.0],\"yaxis\":\"y\",\"type\":\"scatter\"},{\"hoverinfo\":\"text\",\"marker\":{\"color\":\"rgb(35,205,205)\"},\"mode\":\"lines\",\"x\":[0.0,0.1827852329727155,0.1827852329727155,0.0],\"xaxis\":\"x\",\"y\":[-175.0,-175.0,-185.0,-185.0],\"yaxis\":\"y\",\"type\":\"scatter\"},{\"hoverinfo\":\"text\",\"marker\":{\"color\":\"rgb(35,205,205)\"},\"mode\":\"lines\",\"x\":[0.0,0.2024520453480516,0.2024520453480516,0.0],\"xaxis\":\"x\",\"y\":[-195.0,-195.0,-205.0,-205.0],\"yaxis\":\"y\",\"type\":\"scatter\"},{\"hoverinfo\":\"text\",\"marker\":{\"color\":\"rgb(35,205,205)\"},\"mode\":\"lines\",\"x\":[0.1827852329727155,0.3725489500119303,0.3725489500119303,0.2024520453480516],\"xaxis\":\"x\",\"y\":[-180.0,-180.0,-200.0,-200.0],\"yaxis\":\"y\",\"type\":\"scatter\"},{\"hoverinfo\":\"text\",\"marker\":{\"color\":\"rgb(35,205,205)\"},\"mode\":\"lines\",\"x\":[0.0,0.4281222326081095,0.4281222326081095,0.3725489500119303],\"xaxis\":\"x\",\"y\":[-165.0,-165.0,-190.0,-190.0],\"yaxis\":\"y\",\"type\":\"scatter\"},{\"hoverinfo\":\"text\",\"marker\":{\"color\":\"rgb(35,205,205)\"},\"mode\":\"lines\",\"x\":[0.0,0.2179257148503342,0.2179257148503342,0.0],\"xaxis\":\"x\",\"y\":[-215.0,-215.0,-225.0,-225.0],\"yaxis\":\"y\",\"type\":\"scatter\"},{\"hoverinfo\":\"text\",\"marker\":{\"color\":\"rgb(35,205,205)\"},\"mode\":\"lines\",\"x\":[0.0,0.28836780128886663,0.28836780128886663,0.0],\"xaxis\":\"x\",\"y\":[-245.0,-245.0,-255.0,-255.0],\"yaxis\":\"y\",\"type\":\"scatter\"},{\"hoverinfo\":\"text\",\"marker\":{\"color\":\"rgb(35,205,205)\"},\"mode\":\"lines\",\"x\":[0.0,0.5536454784836261,0.5536454784836261,0.28836780128886663],\"xaxis\":\"x\",\"y\":[-235.0,-235.0,-250.0,-250.0],\"yaxis\":\"y\",\"type\":\"scatter\"},{\"hoverinfo\":\"text\",\"marker\":{\"color\":\"rgb(35,205,205)\"},\"mode\":\"lines\",\"x\":[0.2179257148503342,0.6191945845572606,0.6191945845572606,0.5536454784836261],\"xaxis\":\"x\",\"y\":[-220.0,-220.0,-242.5,-242.5],\"yaxis\":\"y\",\"type\":\"scatter\"},{\"hoverinfo\":\"text\",\"marker\":{\"color\":\"rgb(35,205,205)\"},\"mode\":\"lines\",\"x\":[0.4281222326081095,0.7205773572602789,0.7205773572602789,0.6191945845572606],\"xaxis\":\"x\",\"y\":[-177.5,-177.5,-231.25,-231.25],\"yaxis\":\"y\",\"type\":\"scatter\"},{\"hoverinfo\":\"text\",\"marker\":{\"color\":\"rgb(35,205,205)\"},\"mode\":\"lines\",\"x\":[0.42240342940334524,0.7928809922096195,0.7928809922096195,0.7205773572602789],\"xaxis\":\"x\",\"y\":[-150.0,-150.0,-204.375,-204.375],\"yaxis\":\"y\",\"type\":\"scatter\"},{\"hoverinfo\":\"text\",\"marker\":{\"color\":\"rgb(0,116,217)\"},\"mode\":\"lines\",\"x\":[0.5072189181810446,1.0562204024250799,1.0562204024250799,0.7928809922096195],\"xaxis\":\"x\",\"y\":[-98.125,-98.125,-177.1875,-177.1875],\"yaxis\":\"y\",\"type\":\"scatter\"},{\"hoverinfo\":\"text\",\"marker\":{\"color\":\"rgb(0,116,217)\"},\"mode\":\"lines\",\"x\":[0.9179803502785809,2.373351157988867,2.373351157988867,1.0562204024250799],\"xaxis\":\"x\",\"y\":[-20.3125,-20.3125,-137.65625,-137.65625],\"yaxis\":\"y\",\"type\":\"scatter\"}],                        {\"autosize\":false,\"height\":590,\"hovermode\":\"closest\",\"showlegend\":false,\"width\":1000,\"xaxis\":{\"mirror\":\"allticks\",\"rangemode\":\"tozero\",\"showgrid\":false,\"showline\":true,\"showticklabels\":true,\"ticks\":\"outside\",\"type\":\"linear\",\"zeroline\":false},\"yaxis\":{\"mirror\":\"allticks\",\"rangemode\":\"tozero\",\"showgrid\":false,\"showline\":true,\"showticklabels\":true,\"tickmode\":\"array\",\"ticks\":\"outside\",\"ticktext\":[\"14_\\u0442\\u0435\\u043b\\u0435\\u0444\\u043e\\u043d_\\u043f\\u043b\\u0430\\u043d\\u0448\\u0435\\u0442_\\u0441\\u043c\\u0430\\u0440\\u0442\\u0444\\u043e\\u043d\",\"16_\\u0440\\u043e\\u0441\\u0442_\\u0432\\u0435\\u0441_\\u0441\\u043c\",\"20_\\u0434\\u0435\\u043d\\u044c\\u0433\\u0430_\\u0434\\u0435\\u043d\\u044c\\u0433\\u0438_\\u043a\\u0430\\u0440\\u043c\\u0430\\u043d\\u043d\\u044b\\u0439\",\"8_\\u0440\\u0438\\u0441\\u043e\\u0432\\u0430\\u0442\\u044c_\\u0446\\u0432\\u0435\\u0442_\\u0440\\u0438\\u0441\\u0443\\u043d\\u043e\\u043a\",\"23_\\u043d\\u043e\\u0441\\u0438\\u0442\\u044c_\\u043e\\u0434\\u0435\\u0436\\u0434\\u0430_\\u043f\\u043b\\u0430\\u0442\\u044c\\u0435\",\"0_\\u0441\\u043f\\u0430\\u0442\\u044c_\\u0441\\u043e\\u043d_\\u0437\\u0430\\u0441\\u044b\\u043f\\u0430\\u0442\\u044c\",\"5_\\u0438\\u0433\\u0440\\u0443\\u0448\\u043a\\u0430_\\u043a\\u0443\\u043a\\u043b\\u0430_\\u0438\\u0433\\u0440\\u0430\",\"21_\\u0435\\u0434\\u0430_\\u043a\\u043e\\u0440\\u043c\\u0438\\u0442\\u044c_\\u043b\\u043e\\u0436\\u043a\\u0430\",\"22_\\u043f\\u043e\\u0434\\u0430\\u0440\\u043e\\u043a_\\u0434\\u0435\\u0434_\\u043c\\u043e\\u0440\\u043e\\u0437\",\"6_\\u0441\\u0430\\u0434_\\u0433\\u0440\\u0443\\u043f\\u043f\\u0430_\\u0445\\u043e\\u0434\\u0438\\u0442\\u044c\",\"17_\\u0441\\u0430\\u0434_\\u0445\\u043e\\u0434\\u0438\\u0442\\u044c_\\u0441\\u0430\\u0434\\u0438\\u043a\",\"11_\\u0441\\u0442\\u0430\\u0440\\u0448\\u0438\\u0439_\\u043b\\u0435\\u0442_\\u0440\\u043e\\u0434\\u0438\\u0442\\u0435\\u043b\\u044c\",\"-1_\\u0433\\u043e\\u0434_\\u0445\\u043e\\u0442\\u0435\\u0442\\u044c_\\u0433\\u043e\\u0432\\u043e\\u0440\\u0438\\u0442\\u044c\",\"12_\\u043c\\u0430\\u043c\\u0430_\\u0445\\u043e\\u0442\\u0435\\u0442\\u044c_\\u0433\\u043e\\u0432\\u043e\\u0440\\u0438\\u0442\\u044c\",\"10_\\u0441\\u0435\\u043a\\u0441_\\u043f\\u043e\\u043b\\u043e\\u0432\\u043e\\u0439_\\u043b\\u0435\\u0442\",\"24_\\u0442\\u0430\\u043d\\u0435\\u0446_\\u0442\\u0430\\u043d\\u0446\\u044b_\\u0431\\u0430\\u043b\\u0435\\u0442\",\"15_\\u0441\\u043f\\u043e\\u0440\\u0442_\\u0437\\u0430\\u043d\\u0438\\u043c\\u0430\\u0442\\u044c\\u0441\\u044f_\\u0433\\u0438\\u043c\\u043d\\u0430\\u0441\\u0442...\",\"3_\\u0440\\u0443\\u0441\\u0441\\u043a\\u0438\\u0439_\\u043a\\u043b\\u0430\\u0441\\u0441_\\u0448\\u043a\\u043e\\u043b\\u0430\",\"18_\\u0430\\u043d\\u0433\\u043b\\u0438\\u0439\\u0441\\u043a\\u0438\\u0439_\\u044f\\u0437\\u044b\\u043a_\\u043d\\u0435\\u043c\\u0435\\u0446\\u043a\\u0438\\u0439\",\"4_\\u0437\\u0432\\u0443\\u043a_\\u043b\\u043e\\u0433\\u043e\\u043f\\u0435\\u0434_\\u0433\\u043e\\u0432\\u043e\\u0440\\u0438\\u0442\\u044c\",\"13_\\u043c\\u0443\\u0437\\u044b\\u043a\\u0430_\\u043c\\u0443\\u0437\\u044b\\u043a\\u0430\\u043b\\u044c\\u043d\\u044b\\u0439_\\u043f\\u0435\\u0442\\u044c\",\"2_\\u043f\\u0441\\u0438\\u0445\\u043e\\u043b\\u043e\\u0433_\\u043f\\u043e\\u0441\\u043e\\u0432\\u0435\\u0442\\u043e\\u0432\\u0430\\u0442\\u044c_\\u0445\\u043e\\u0440...\",\"19_\\u043d\\u0435\\u0432\\u0440\\u043e\\u043b\\u043e\\u0433_\\u0432\\u0440\\u0430\\u0447_\\u0434\\u0438\\u0430\\u0433\\u043d\\u043e\\u0437\",\"1_\\u0447\\u0438\\u0442\\u0430\\u0442\\u044c_\\u043a\\u043d\\u0438\\u0433\\u0430_\\u0447\\u0442\\u0435\\u043d\\u0438\\u0435\",\"7_\\u043a\\u043b\\u0430\\u0441\\u0441_\\u0443\\u0447\\u0438\\u0442\\u0435\\u043b\\u044c_\\u0448\\u043a\\u043e\\u043b\\u0430\",\"9_\\u043c\\u0430\\u0442\\u0435\\u043c\\u0430\\u0442\\u0438\\u043a\\u0430_\\u043a\\u043b\\u0430\\u0441\\u0441_\\u0440\\u0435\\u043f\\u0435\\u0442\\u0438\\u0442\\u043e\\u0440\"],\"tickvals\":[-5.0,-15.0,-25.0,-35.0,-45.0,-55.0,-65.0,-75.0,-85.0,-95.0,-105.0,-115.0,-125.0,-135.0,-145.0,-155.0,-165.0,-175.0,-185.0,-195.0,-205.0,-215.0,-225.0,-235.0,-245.0,-255.0],\"type\":\"linear\",\"zeroline\":false,\"range\":[-260.0,0.0]},\"template\":{\"data\":{\"barpolar\":[{\"marker\":{\"line\":{\"color\":\"white\",\"width\":0.5},\"pattern\":{\"fillmode\":\"overlay\",\"size\":10,\"solidity\":0.2}},\"type\":\"barpolar\"}],\"bar\":[{\"error_x\":{\"color\":\"#2a3f5f\"},\"error_y\":{\"color\":\"#2a3f5f\"},\"marker\":{\"line\":{\"color\":\"white\",\"width\":0.5},\"pattern\":{\"fillmode\":\"overlay\",\"size\":10,\"solidity\":0.2}},\"type\":\"bar\"}],\"carpet\":[{\"aaxis\":{\"endlinecolor\":\"#2a3f5f\",\"gridcolor\":\"#C8D4E3\",\"linecolor\":\"#C8D4E3\",\"minorgridcolor\":\"#C8D4E3\",\"startlinecolor\":\"#2a3f5f\"},\"baxis\":{\"endlinecolor\":\"#2a3f5f\",\"gridcolor\":\"#C8D4E3\",\"linecolor\":\"#C8D4E3\",\"minorgridcolor\":\"#C8D4E3\",\"startlinecolor\":\"#2a3f5f\"},\"type\":\"carpet\"}],\"choropleth\":[{\"colorbar\":{\"outlinewidth\":0,\"ticks\":\"\"},\"type\":\"choropleth\"}],\"contourcarpet\":[{\"colorbar\":{\"outlinewidth\":0,\"ticks\":\"\"},\"type\":\"contourcarpet\"}],\"contour\":[{\"colorbar\":{\"outlinewidth\":0,\"ticks\":\"\"},\"colorscale\":[[0.0,\"#0d0887\"],[0.1111111111111111,\"#46039f\"],[0.2222222222222222,\"#7201a8\"],[0.3333333333333333,\"#9c179e\"],[0.4444444444444444,\"#bd3786\"],[0.5555555555555556,\"#d8576b\"],[0.6666666666666666,\"#ed7953\"],[0.7777777777777778,\"#fb9f3a\"],[0.8888888888888888,\"#fdca26\"],[1.0,\"#f0f921\"]],\"type\":\"contour\"}],\"heatmapgl\":[{\"colorbar\":{\"outlinewidth\":0,\"ticks\":\"\"},\"colorscale\":[[0.0,\"#0d0887\"],[0.1111111111111111,\"#46039f\"],[0.2222222222222222,\"#7201a8\"],[0.3333333333333333,\"#9c179e\"],[0.4444444444444444,\"#bd3786\"],[0.5555555555555556,\"#d8576b\"],[0.6666666666666666,\"#ed7953\"],[0.7777777777777778,\"#fb9f3a\"],[0.8888888888888888,\"#fdca26\"],[1.0,\"#f0f921\"]],\"type\":\"heatmapgl\"}],\"heatmap\":[{\"colorbar\":{\"outlinewidth\":0,\"ticks\":\"\"},\"colorscale\":[[0.0,\"#0d0887\"],[0.1111111111111111,\"#46039f\"],[0.2222222222222222,\"#7201a8\"],[0.3333333333333333,\"#9c179e\"],[0.4444444444444444,\"#bd3786\"],[0.5555555555555556,\"#d8576b\"],[0.6666666666666666,\"#ed7953\"],[0.7777777777777778,\"#fb9f3a\"],[0.8888888888888888,\"#fdca26\"],[1.0,\"#f0f921\"]],\"type\":\"heatmap\"}],\"histogram2dcontour\":[{\"colorbar\":{\"outlinewidth\":0,\"ticks\":\"\"},\"colorscale\":[[0.0,\"#0d0887\"],[0.1111111111111111,\"#46039f\"],[0.2222222222222222,\"#7201a8\"],[0.3333333333333333,\"#9c179e\"],[0.4444444444444444,\"#bd3786\"],[0.5555555555555556,\"#d8576b\"],[0.6666666666666666,\"#ed7953\"],[0.7777777777777778,\"#fb9f3a\"],[0.8888888888888888,\"#fdca26\"],[1.0,\"#f0f921\"]],\"type\":\"histogram2dcontour\"}],\"histogram2d\":[{\"colorbar\":{\"outlinewidth\":0,\"ticks\":\"\"},\"colorscale\":[[0.0,\"#0d0887\"],[0.1111111111111111,\"#46039f\"],[0.2222222222222222,\"#7201a8\"],[0.3333333333333333,\"#9c179e\"],[0.4444444444444444,\"#bd3786\"],[0.5555555555555556,\"#d8576b\"],[0.6666666666666666,\"#ed7953\"],[0.7777777777777778,\"#fb9f3a\"],[0.8888888888888888,\"#fdca26\"],[1.0,\"#f0f921\"]],\"type\":\"histogram2d\"}],\"histogram\":[{\"marker\":{\"pattern\":{\"fillmode\":\"overlay\",\"size\":10,\"solidity\":0.2}},\"type\":\"histogram\"}],\"mesh3d\":[{\"colorbar\":{\"outlinewidth\":0,\"ticks\":\"\"},\"type\":\"mesh3d\"}],\"parcoords\":[{\"line\":{\"colorbar\":{\"outlinewidth\":0,\"ticks\":\"\"}},\"type\":\"parcoords\"}],\"pie\":[{\"automargin\":true,\"type\":\"pie\"}],\"scatter3d\":[{\"line\":{\"colorbar\":{\"outlinewidth\":0,\"ticks\":\"\"}},\"marker\":{\"colorbar\":{\"outlinewidth\":0,\"ticks\":\"\"}},\"type\":\"scatter3d\"}],\"scattercarpet\":[{\"marker\":{\"colorbar\":{\"outlinewidth\":0,\"ticks\":\"\"}},\"type\":\"scattercarpet\"}],\"scattergeo\":[{\"marker\":{\"colorbar\":{\"outlinewidth\":0,\"ticks\":\"\"}},\"type\":\"scattergeo\"}],\"scattergl\":[{\"marker\":{\"colorbar\":{\"outlinewidth\":0,\"ticks\":\"\"}},\"type\":\"scattergl\"}],\"scattermapbox\":[{\"marker\":{\"colorbar\":{\"outlinewidth\":0,\"ticks\":\"\"}},\"type\":\"scattermapbox\"}],\"scatterpolargl\":[{\"marker\":{\"colorbar\":{\"outlinewidth\":0,\"ticks\":\"\"}},\"type\":\"scatterpolargl\"}],\"scatterpolar\":[{\"marker\":{\"colorbar\":{\"outlinewidth\":0,\"ticks\":\"\"}},\"type\":\"scatterpolar\"}],\"scatter\":[{\"marker\":{\"colorbar\":{\"outlinewidth\":0,\"ticks\":\"\"}},\"type\":\"scatter\"}],\"scatterternary\":[{\"marker\":{\"colorbar\":{\"outlinewidth\":0,\"ticks\":\"\"}},\"type\":\"scatterternary\"}],\"surface\":[{\"colorbar\":{\"outlinewidth\":0,\"ticks\":\"\"},\"colorscale\":[[0.0,\"#0d0887\"],[0.1111111111111111,\"#46039f\"],[0.2222222222222222,\"#7201a8\"],[0.3333333333333333,\"#9c179e\"],[0.4444444444444444,\"#bd3786\"],[0.5555555555555556,\"#d8576b\"],[0.6666666666666666,\"#ed7953\"],[0.7777777777777778,\"#fb9f3a\"],[0.8888888888888888,\"#fdca26\"],[1.0,\"#f0f921\"]],\"type\":\"surface\"}],\"table\":[{\"cells\":{\"fill\":{\"color\":\"#EBF0F8\"},\"line\":{\"color\":\"white\"}},\"header\":{\"fill\":{\"color\":\"#C8D4E3\"},\"line\":{\"color\":\"white\"}},\"type\":\"table\"}]},\"layout\":{\"annotationdefaults\":{\"arrowcolor\":\"#2a3f5f\",\"arrowhead\":0,\"arrowwidth\":1},\"autotypenumbers\":\"strict\",\"coloraxis\":{\"colorbar\":{\"outlinewidth\":0,\"ticks\":\"\"}},\"colorscale\":{\"diverging\":[[0,\"#8e0152\"],[0.1,\"#c51b7d\"],[0.2,\"#de77ae\"],[0.3,\"#f1b6da\"],[0.4,\"#fde0ef\"],[0.5,\"#f7f7f7\"],[0.6,\"#e6f5d0\"],[0.7,\"#b8e186\"],[0.8,\"#7fbc41\"],[0.9,\"#4d9221\"],[1,\"#276419\"]],\"sequential\":[[0.0,\"#0d0887\"],[0.1111111111111111,\"#46039f\"],[0.2222222222222222,\"#7201a8\"],[0.3333333333333333,\"#9c179e\"],[0.4444444444444444,\"#bd3786\"],[0.5555555555555556,\"#d8576b\"],[0.6666666666666666,\"#ed7953\"],[0.7777777777777778,\"#fb9f3a\"],[0.8888888888888888,\"#fdca26\"],[1.0,\"#f0f921\"]],\"sequentialminus\":[[0.0,\"#0d0887\"],[0.1111111111111111,\"#46039f\"],[0.2222222222222222,\"#7201a8\"],[0.3333333333333333,\"#9c179e\"],[0.4444444444444444,\"#bd3786\"],[0.5555555555555556,\"#d8576b\"],[0.6666666666666666,\"#ed7953\"],[0.7777777777777778,\"#fb9f3a\"],[0.8888888888888888,\"#fdca26\"],[1.0,\"#f0f921\"]]},\"colorway\":[\"#636efa\",\"#EF553B\",\"#00cc96\",\"#ab63fa\",\"#FFA15A\",\"#19d3f3\",\"#FF6692\",\"#B6E880\",\"#FF97FF\",\"#FECB52\"],\"font\":{\"color\":\"#2a3f5f\"},\"geo\":{\"bgcolor\":\"white\",\"lakecolor\":\"white\",\"landcolor\":\"white\",\"showlakes\":true,\"showland\":true,\"subunitcolor\":\"#C8D4E3\"},\"hoverlabel\":{\"align\":\"left\"},\"hovermode\":\"closest\",\"mapbox\":{\"style\":\"light\"},\"paper_bgcolor\":\"white\",\"plot_bgcolor\":\"white\",\"polar\":{\"angularaxis\":{\"gridcolor\":\"#EBF0F8\",\"linecolor\":\"#EBF0F8\",\"ticks\":\"\"},\"bgcolor\":\"white\",\"radialaxis\":{\"gridcolor\":\"#EBF0F8\",\"linecolor\":\"#EBF0F8\",\"ticks\":\"\"}},\"scene\":{\"xaxis\":{\"backgroundcolor\":\"white\",\"gridcolor\":\"#DFE8F3\",\"gridwidth\":2,\"linecolor\":\"#EBF0F8\",\"showbackground\":true,\"ticks\":\"\",\"zerolinecolor\":\"#EBF0F8\"},\"yaxis\":{\"backgroundcolor\":\"white\",\"gridcolor\":\"#DFE8F3\",\"gridwidth\":2,\"linecolor\":\"#EBF0F8\",\"showbackground\":true,\"ticks\":\"\",\"zerolinecolor\":\"#EBF0F8\"},\"zaxis\":{\"backgroundcolor\":\"white\",\"gridcolor\":\"#DFE8F3\",\"gridwidth\":2,\"linecolor\":\"#EBF0F8\",\"showbackground\":true,\"ticks\":\"\",\"zerolinecolor\":\"#EBF0F8\"}},\"shapedefaults\":{\"line\":{\"color\":\"#2a3f5f\"}},\"ternary\":{\"aaxis\":{\"gridcolor\":\"#DFE8F3\",\"linecolor\":\"#A2B1C6\",\"ticks\":\"\"},\"baxis\":{\"gridcolor\":\"#DFE8F3\",\"linecolor\":\"#A2B1C6\",\"ticks\":\"\"},\"bgcolor\":\"white\",\"caxis\":{\"gridcolor\":\"#DFE8F3\",\"linecolor\":\"#A2B1C6\",\"ticks\":\"\"}},\"title\":{\"x\":0.05},\"xaxis\":{\"automargin\":true,\"gridcolor\":\"#EBF0F8\",\"linecolor\":\"#EBF0F8\",\"ticks\":\"\",\"title\":{\"standoff\":15},\"zerolinecolor\":\"#EBF0F8\",\"zerolinewidth\":2},\"yaxis\":{\"automargin\":true,\"gridcolor\":\"#EBF0F8\",\"linecolor\":\"#EBF0F8\",\"ticks\":\"\",\"title\":{\"standoff\":15},\"zerolinecolor\":\"#EBF0F8\",\"zerolinewidth\":2}}},\"title\":{\"font\":{\"size\":22,\"color\":\"Black\"},\"text\":\"<b>Hierarchical Clustering\",\"x\":0.5,\"xanchor\":\"center\",\"yanchor\":\"top\"},\"hoverlabel\":{\"font\":{\"size\":16,\"family\":\"Rockwell\"},\"bgcolor\":\"white\"},\"plot_bgcolor\":\"#ECEFF1\"},                        {\"responsive\": true}                    ).then(function(){\n",
       "                            \n",
       "var gd = document.getElementById('e40f94b9-4848-494e-a124-7d94a07afe80');\n",
       "var x = new MutationObserver(function (mutations, observer) {{\n",
       "        var display = window.getComputedStyle(gd).display;\n",
       "        if (!display || display === 'none') {{\n",
       "            console.log([gd, 'removed!']);\n",
       "            Plotly.purge(gd);\n",
       "            observer.disconnect();\n",
       "        }}\n",
       "}});\n",
       "\n",
       "// Listen for the removal of the full notebook cells\n",
       "var notebookContainer = gd.closest('#notebook-container');\n",
       "if (notebookContainer) {{\n",
       "    x.observe(notebookContainer, {childList: true});\n",
       "}}\n",
       "\n",
       "// Listen for the clearing of the current output cell\n",
       "var outputEl = gd.closest('.output');\n",
       "if (outputEl) {{\n",
       "    x.observe(outputEl, {childList: true});\n",
       "}}\n",
       "\n",
       "                        })                };                            </script>        </div>\n",
       "</body>\n",
       "</html>"
      ]
     },
     "metadata": {},
     "output_type": "display_data"
    }
   ],
   "source": [
    "model.visualize_hierarchy()"
   ]
  },
  {
   "cell_type": "code",
   "execution_count": 96,
   "metadata": {
    "colab": {
     "base_uri": "https://localhost:8080/",
     "height": 517
    },
    "executionInfo": {
     "elapsed": 22,
     "status": "ok",
     "timestamp": 1642040826186,
     "user": {
      "displayName": "Kateryna Drogaieva",
      "photoUrl": "https://lh3.googleusercontent.com/a-/AOh14GjB1LQYJH97Lqm6RsCcAADFgzEAa0YxMUT7P4mjlA=s64",
      "userId": "10877377912113147805"
     },
     "user_tz": 480
    },
    "id": "yM9BTJmUnlVO",
    "outputId": "103d566c-783b-4311-87a4-bf216d3801e4"
   },
   "outputs": [
    {
     "data": {
      "text/html": [
       "<html>\n",
       "<head><meta charset=\"utf-8\" /></head>\n",
       "<body>\n",
       "    <div>            <script src=\"https://cdnjs.cloudflare.com/ajax/libs/mathjax/2.7.5/MathJax.js?config=TeX-AMS-MML_SVG\"></script><script type=\"text/javascript\">if (window.MathJax) {MathJax.Hub.Config({SVG: {font: \"STIX-Web\"}});}</script>                <script type=\"text/javascript\">window.PlotlyConfig = {MathJaxConfig: 'local'};</script>\n",
       "        <script src=\"https://cdn.plot.ly/plotly-2.8.3.min.js\"></script>                <div id=\"abe23b1f-ee43-4c80-bc6b-914afb147cf7\" class=\"plotly-graph-div\" style=\"height:500px; width:800px;\"></div>            <script type=\"text/javascript\">                                    window.PLOTLYENV=window.PLOTLYENV || {};                                    if (document.getElementById(\"abe23b1f-ee43-4c80-bc6b-914afb147cf7\")) {                    Plotly.newPlot(                        \"abe23b1f-ee43-4c80-bc6b-914afb147cf7\",                        [{\"hovertext\":\"<b>Topic -1</b>:\\u0433\\u043e\\u0434_\\u0445\\u043e\\u0442\\u0435\\u0442\\u044c_\\u0433\\u043e\\u0432\\u043e\\u0440\\u0438\\u0442\\u044c_\\u043c\\u0430\\u043c\\u0430_\\u043b\\u0435\\u0442_\\u0434\\u0435\\u043d\\u044c_\",\"line\":{\"color\":\"black\",\"width\":1.5},\"mode\":\"lines+lines\",\"name\":\"\",\"opacity\":0.1,\"x\":[1,2,3,4,5,6,7,8,9,10],\"y\":[0.01274417218502343,0.01141429733766284,0.01098739487789536,0.010370003927496294,0.01028831430313708,0.010006420896702591,0.009561885000308195,0.009525526484352414,0.008986024939455847,0.008724396390759333],\"type\":\"scatter\"},{\"hovertext\":\"<b>Topic 0</b>:\\u0441\\u043f\\u0430\\u0442\\u044c_\\u0441\\u043e\\u043d_\\u0437\\u0430\\u0441\\u044b\\u043f\\u0430\\u0442\\u044c_\\u043d\\u043e\\u0447\\u044c_\\u043d\\u043e\\u0447\\u044c\\u044e_\\u0447\\u0430\\u0441_\\u043f\",\"line\":{\"color\":\"black\",\"width\":1.5},\"mode\":\"lines+lines\",\"name\":\"\",\"opacity\":0.1,\"x\":[1,2,3,4,5,6,7,8,9,10],\"y\":[0.07216412192225072,0.040527591257119015,0.034193517654087326,0.03347687154609304,0.03307668251004098,0.027533788110853386,0.026086127050288517,0.024758087727722953,0.023471584662208354,0.019053274773627747],\"type\":\"scatter\"},{\"hovertext\":\"<b>Topic 1</b>:\\u0447\\u0438\\u0442\\u0430\\u0442\\u044c_\\u043a\\u043d\\u0438\\u0433\\u0430_\\u0447\\u0442\\u0435\\u043d\\u0438\\u0435_\\u043a\\u043d\\u0438\\u0436\\u043a\\u0430_\\u043f\\u0440\\u043e\\u0447\\u0438\\u0442\\u0430\\u0442\",\"line\":{\"color\":\"black\",\"width\":1.5},\"mode\":\"lines+lines\",\"name\":\"\",\"opacity\":0.1,\"x\":[1,2,3,4,5,6,7,8,9,10],\"y\":[0.10007926525310454,0.05351462688719478,0.026179809942028492,0.023605766760978038,0.018051210022367255,0.017163050188689976,0.01715664489122449,0.016595914497028744,0.015673763632814024,0.015411609028785352],\"type\":\"scatter\"},{\"hovertext\":\"<b>Topic 2</b>:\\u043f\\u0441\\u0438\\u0445\\u043e\\u043b\\u043e\\u0433_\\u043f\\u043e\\u0441\\u043e\\u0432\\u0435\\u0442\\u043e\\u0432\\u0430\\u0442\\u044c_\\u0445\\u043e\\u0440\\u043e\\u0448\\u0438\\u0439_\\u043f\\u0441\\u0438\\u0445\\u043e\",\"line\":{\"color\":\"black\",\"width\":1.5},\"mode\":\"lines+lines\",\"name\":\"\",\"opacity\":0.1,\"x\":[1,2,3,4,5,6,7,8,9,10],\"y\":[0.06683220050589214,0.041350277931528026,0.03406228774124997,0.03391869936156423,0.032584312999254406,0.02733169848179577,0.026439137200751722,0.025387520152445168,0.023548695728468794,0.022383101078492312],\"type\":\"scatter\"},{\"hovertext\":\"<b>Topic 3</b>:\\u0440\\u0443\\u0441\\u0441\\u043a\\u0438\\u0439_\\u043a\\u043b\\u0430\\u0441\\u0441_\\u0448\\u043a\\u043e\\u043b\\u0430_\\u043f\\u0438\\u0441\\u0430\\u0442\\u044c_\\u043c\\u0430\\u0442\\u0435\\u043c\\u0430\\u0442\\u0438\",\"line\":{\"color\":\"black\",\"width\":1.5},\"mode\":\"lines+lines\",\"name\":\"\",\"opacity\":0.1,\"x\":[1,2,3,4,5,6,7,8,9,10],\"y\":[0.05306124002018418,0.0255916437827664,0.023733392814663204,0.02344274848814389,0.01952033732715313,0.017653433364232692,0.01705684698018653,0.015968277282694402,0.015498160912502359,0.013656378301993476],\"type\":\"scatter\"},{\"hovertext\":\"<b>Topic 4</b>:\\u0437\\u0432\\u0443\\u043a_\\u043b\\u043e\\u0433\\u043e\\u043f\\u0435\\u0434_\\u0433\\u043e\\u0432\\u043e\\u0440\\u0438\\u0442\\u044c_\\u0441\\u043b\\u043e\\u0432\\u043e_\\u0440\\u0435\\u0447\\u044c_\\u043f\\u0440\",\"line\":{\"color\":\"black\",\"width\":1.5},\"mode\":\"lines+lines\",\"name\":\"\",\"opacity\":0.1,\"x\":[1,2,3,4,5,6,7,8,9,10],\"y\":[0.05694675921495228,0.05426199458848193,0.05093610988663701,0.04287082687852876,0.03311703494350578,0.024498663114545318,0.02184091171048624,0.020640408257732248,0.019500049230007803,0.017645800621596576],\"type\":\"scatter\"},{\"hovertext\":\"<b>Topic 5</b>:\\u0438\\u0433\\u0440\\u0443\\u0448\\u043a\\u0430_\\u043a\\u0443\\u043a\\u043b\\u0430_\\u0438\\u0433\\u0440\\u0430_\\u0438\\u0433\\u0440\\u0430\\u0442\\u044c_\\u0438\\u0433\\u0440\\u0443\\u0448\\u043a\\u0438_\\u0438\",\"line\":{\"color\":\"black\",\"width\":1.5},\"mode\":\"lines+lines\",\"name\":\"\",\"opacity\":0.1,\"x\":[1,2,3,4,5,6,7,8,9,10],\"y\":[0.06737172000203286,0.05048569696164816,0.04953044191400631,0.046011041787369526,0.029900915809192394,0.020285855588249063,0.019504371587095087,0.018489843663255307,0.015380713721596998,0.01448757774976724],\"type\":\"scatter\"},{\"hovertext\":\"<b>Topic 6</b>:\\u0441\\u0430\\u0434_\\u0433\\u0440\\u0443\\u043f\\u043f\\u0430_\\u0445\\u043e\\u0434\\u0438\\u0442\\u044c_\\u0433\\u043e\\u0434_\\u0441\\u0430\\u0434\\u0443_\\u0434\\u0435\\u043d\\u044c_\\u0433\\u043e\\u0434\",\"line\":{\"color\":\"black\",\"width\":1.5},\"mode\":\"lines+lines\",\"name\":\"\",\"opacity\":0.1,\"x\":[1,2,3,4,5,6,7,8,9,10],\"y\":[0.10058001997430543,0.03447545649187106,0.03182116585902853,0.02734641928682233,0.02285654714724258,0.021216027321082517,0.019931986572901694,0.019617456217275606,0.017628267037807736,0.017254484621596195],\"type\":\"scatter\"},{\"hovertext\":\"<b>Topic 7</b>:\\u043a\\u043b\\u0430\\u0441\\u0441_\\u0443\\u0447\\u0438\\u0442\\u0435\\u043b\\u044c_\\u0448\\u043a\\u043e\\u043b\\u0430_\\u0443\\u0447\\u0438\\u0442\\u0435\\u043b\\u044c\\u043d\\u0438\\u0446\\u0430_\\u0443\\u0447\\u0438\",\"line\":{\"color\":\"black\",\"width\":1.5},\"mode\":\"lines+lines\",\"name\":\"\",\"opacity\":0.1,\"x\":[1,2,3,4,5,6,7,8,9,10],\"y\":[0.04693176522357174,0.031514417695197534,0.030904410796370674,0.019834723546687517,0.019024345890932395,0.018414022663713545,0.016458389196723083,0.015391403391773972,0.01394767361729268,0.013806780642513082],\"type\":\"scatter\"},{\"hovertext\":\"<b>Topic 8</b>:\\u0440\\u0438\\u0441\\u043e\\u0432\\u0430\\u0442\\u044c_\\u0446\\u0432\\u0435\\u0442_\\u0440\\u0438\\u0441\\u0443\\u043d\\u043e\\u043a_\\u043a\\u0430\\u0440\\u0430\\u043d\\u0434\\u0430\\u0448_\\u043d\\u0430\\u0440\\u0438\",\"line\":{\"color\":\"black\",\"width\":1.5},\"mode\":\"lines+lines\",\"name\":\"\",\"opacity\":0.1,\"x\":[1,2,3,4,5,6,7,8,9,10],\"y\":[0.08267991940049957,0.05038140806310734,0.038863102736516365,0.03780016596918712,0.034863173673496096,0.023541920970561514,0.020951886691191447,0.019340449981174377,0.017108216678826893,0.01594710529574466],\"type\":\"scatter\"},{\"hovertext\":\"<b>Topic 9</b>:\\u043c\\u0430\\u0442\\u0435\\u043c\\u0430\\u0442\\u0438\\u043a\\u0430_\\u043a\\u043b\\u0430\\u0441\\u0441_\\u0440\\u0435\\u043f\\u0435\\u0442\\u0438\\u0442\\u043e\\u0440_\\u043c\\u0430\\u0442\\u0435\\u043c\\u0430\\u0442\\u0438\",\"line\":{\"color\":\"black\",\"width\":1.5},\"mode\":\"lines+lines\",\"name\":\"\",\"opacity\":0.1,\"x\":[1,2,3,4,5,6,7,8,9,10],\"y\":[0.05392167906947078,0.03166186468705329,0.023016637640227267,0.019660262195356375,0.019292289464952712,0.01889471990227984,0.017460088956132915,0.017379328916636048,0.016011001274056937,0.015641014896823745],\"type\":\"scatter\"},{\"hovertext\":\"<b>Topic 10</b>:\\u0441\\u0435\\u043a\\u0441_\\u043f\\u043e\\u043b\\u043e\\u0432\\u043e\\u0439_\\u043b\\u0435\\u0442_\\u043f\\u043e\\u0440\\u043d\\u043e_\\u0433\\u043e\\u0434_\\u0441\\u043c\\u043e\\u0442\\u0440\\u0435\\u0442\",\"line\":{\"color\":\"black\",\"width\":1.5},\"mode\":\"lines+lines\",\"name\":\"\",\"opacity\":0.1,\"x\":[1,2,3,4,5,6,7,8,9,10],\"y\":[0.07388586124615083,0.026822606571645962,0.021823842143270912,0.020245023096419165,0.017086336689314585,0.0149578949486325,0.014950600899511017,0.014761040139536845,0.014276594209132453,0.013714001872825506],\"type\":\"scatter\"},{\"hovertext\":\"<b>Topic 11</b>:\\u0441\\u0442\\u0430\\u0440\\u0448\\u0438\\u0439_\\u043b\\u0435\\u0442_\\u0440\\u043e\\u0434\\u0438\\u0442\\u0435\\u043b\\u044c_\\u043c\\u0430\\u043c\\u0430_\\u0431\\u0438\\u0442\\u044c_\\u043c\\u043b\\u0430\",\"line\":{\"color\":\"black\",\"width\":1.5},\"mode\":\"lines+lines\",\"name\":\"\",\"opacity\":0.1,\"x\":[1,2,3,4,5,6,7,8,9,10],\"y\":[0.01925813738793135,0.017741188253695726,0.017632352106793262,0.01701795145423385,0.01590264584441415,0.014865902473555981,0.013484762182755052,0.013348374421117158,0.012181249751134297,0.011793270973870194],\"type\":\"scatter\"},{\"hovertext\":\"<b>Topic 12</b>:\\u043c\\u0430\\u043c\\u0430_\\u0445\\u043e\\u0442\\u0435\\u0442\\u044c_\\u0433\\u043e\\u0432\\u043e\\u0440\\u0438\\u0442\\u044c_\\u043f\\u0430\\u043f\\u0430_\\u0434\\u0440\\u0443\\u0433_\\u0441\\u0430\\u0434\",\"line\":{\"color\":\"black\",\"width\":1.5},\"mode\":\"lines+lines\",\"name\":\"\",\"opacity\":0.1,\"x\":[1,2,3,4,5,6,7,8,9,10],\"y\":[0.01916883760085965,0.014821533872879178,0.013845593755211275,0.01350141438390796,0.012990879307273918,0.012239425325271745,0.011576736859404513,0.010717431290273612,0.010568676800393481,0.010540500854808182],\"type\":\"scatter\"},{\"hovertext\":\"<b>Topic 13</b>:\\u043c\\u0443\\u0437\\u044b\\u043a\\u0430_\\u043c\\u0443\\u0437\\u044b\\u043a\\u0430\\u043b\\u044c\\u043d\\u044b\\u0439_\\u043f\\u0435\\u0442\\u044c_\\u0437\\u0430\\u043d\\u0438\\u043c\\u0430\\u0442\\u044c\\u0441\\u044f\",\"line\":{\"color\":\"black\",\"width\":1.5},\"mode\":\"lines+lines\",\"name\":\"\",\"opacity\":0.1,\"x\":[1,2,3,4,5,6,7,8,9,10],\"y\":[0.04529941772583563,0.040173551681550665,0.024954163491021718,0.024773652208387432,0.022025750179202132,0.019741424208656978,0.019649186835892327,0.018052954871674232,0.017571744887520183,0.01728577606274538],\"type\":\"scatter\"},{\"hovertext\":\"<b>Topic 14</b>:\\u0442\\u0435\\u043b\\u0435\\u0444\\u043e\\u043d_\\u043f\\u043b\\u0430\\u043d\\u0448\\u0435\\u0442_\\u0441\\u043c\\u0430\\u0440\\u0442\\u0444\\u043e\\u043d_\\u0438\\u0433\\u0440\\u0430_\\u0438\\u043d\\u0442\\u0435\",\"line\":{\"color\":\"black\",\"width\":1.5},\"mode\":\"lines+lines\",\"name\":\"\",\"opacity\":0.1,\"x\":[1,2,3,4,5,6,7,8,9,10],\"y\":[0.09827309395762777,0.051739005113681055,0.024124365860997005,0.023222889747024,0.022813707718833814,0.021205695821530673,0.02112563080850312,0.0202537688675155,0.018752867207484807,0.01680508800061795],\"type\":\"scatter\"},{\"hovertext\":\"<b>Topic 15</b>:\\u0441\\u043f\\u043e\\u0440\\u0442_\\u0437\\u0430\\u043d\\u0438\\u043c\\u0430\\u0442\\u044c\\u0441\\u044f_\\u0433\\u0438\\u043c\\u043d\\u0430\\u0441\\u0442\\u0438\\u043a\\u0430_\\u0442\\u0440\\u0435\\u043d\\u0435\\u0440\",\"line\":{\"color\":\"black\",\"width\":1.5},\"mode\":\"lines+lines\",\"name\":\"\",\"opacity\":0.1,\"x\":[1,2,3,4,5,6,7,8,9,10],\"y\":[0.04779733414456522,0.03801858159673912,0.03539516079701885,0.032396035700052,0.030388652213516006,0.028461447667834122,0.027665699071445695,0.024145128551442213,0.02186388622117145,0.02116919127745943],\"type\":\"scatter\"},{\"hovertext\":\"<b>Topic 16</b>:\\u0440\\u043e\\u0441\\u0442_\\u0432\\u0435\\u0441_\\u0441\\u043c_\\u043a\\u0433_\\u0433\\u043e\\u0434_\\u0440\\u0430\\u0437\\u043c\\u0435\\u0440_\\u043d\\u043e\\u0433\\u0430_\\u0440\\u0430\\u0441\",\"line\":{\"color\":\"black\",\"width\":1.5},\"mode\":\"lines+lines\",\"name\":\"\",\"opacity\":0.1,\"x\":[1,2,3,4,5,6,7,8,9,10],\"y\":[0.12532660279633615,0.07518006942479896,0.05700072075023106,0.05195987420813516,0.03536355954117069,0.025945729082867377,0.024270569107794925,0.02056897521280655,0.019894357261847226,0.018809982185149978],\"type\":\"scatter\"},{\"hovertext\":\"<b>Topic 17</b>:\\u0441\\u0430\\u0434_\\u0445\\u043e\\u0434\\u0438\\u0442\\u044c_\\u0441\\u0430\\u0434\\u0438\\u043a_\\u0434\\u0435\\u043d\\u044c_\\u043d\\u0435\\u0434\\u0435\\u043b\\u044f_\\u043f\\u043b\\u0430\\u043a\\u0430\",\"line\":{\"color\":\"black\",\"width\":1.5},\"mode\":\"lines+lines\",\"name\":\"\",\"opacity\":0.1,\"x\":[1,2,3,4,5,6,7,8,9,10],\"y\":[0.058618475561036804,0.027728684969167354,0.0231135958960595,0.022833977127762684,0.022770166889889008,0.021056732200014756,0.019644042237329934,0.017050499907171696,0.016790043658524847,0.01570110971526142],\"type\":\"scatter\"},{\"hovertext\":\"<b>Topic 18</b>:\\u0430\\u043d\\u0433\\u043b\\u0438\\u0439\\u0441\\u043a\\u0438\\u0439_\\u044f\\u0437\\u044b\\u043a_\\u043d\\u0435\\u043c\\u0435\\u0446\\u043a\\u0438\\u0439_\\u043e\\u0431\\u0443\\u0447\\u0435\\u043d\\u0438\\u0435_\",\"line\":{\"color\":\"black\",\"width\":1.5},\"mode\":\"lines+lines\",\"name\":\"\",\"opacity\":0.1,\"x\":[1,2,3,4,5,6,7,8,9,10],\"y\":[0.11320493006259774,0.07948413826972006,0.03866844737690011,0.03627154886514582,0.03545632263131979,0.0347888750270811,0.03471525756758192,0.03106207902800292,0.02960964909618631,0.028451822443933145],\"type\":\"scatter\"},{\"hovertext\":\"<b>Topic 19</b>:\\u043d\\u0435\\u0432\\u0440\\u043e\\u043b\\u043e\\u0433_\\u0432\\u0440\\u0430\\u0447_\\u0434\\u0438\\u0430\\u0433\\u043d\\u043e\\u0437_\\u0433\\u043e\\u0434_nan_\\u0433\\u043e\\u0432\\u043e\",\"line\":{\"color\":\"black\",\"width\":1.5},\"mode\":\"lines+lines\",\"name\":\"\",\"opacity\":0.1,\"x\":[1,2,3,4,5,6,7,8,9,10],\"y\":[0.03184686047157839,0.02806844447033544,0.02152922284524892,0.01897060080934662,0.016117015486832267,0.01567796794417312,0.014825889718024184,0.013683186488153438,0.012904296941698036,0.012575527399100473],\"type\":\"scatter\"},{\"hovertext\":\"<b>Topic 20</b>:\\u0434\\u0435\\u043d\\u044c\\u0433\\u0430_\\u0434\\u0435\\u043d\\u044c\\u0433\\u0438_\\u043a\\u0430\\u0440\\u043c\\u0430\\u043d\\u043d\\u044b\\u0439_\\u0441\\u0443\\u043c\\u043c\\u0430_\\u0434\\u0430\\u0432\\u0430\",\"line\":{\"color\":\"black\",\"width\":1.5},\"mode\":\"lines+lines\",\"name\":\"\",\"opacity\":0.1,\"x\":[1,2,3,4,5,6,7,8,9,10],\"y\":[0.07626148944671642,0.04692747315860785,0.040389511160860585,0.033677344506757904,0.03164021762016807,0.028067968586391632,0.02399721242281439,0.020010205578813743,0.019067312527405636,0.01771451314643538],\"type\":\"scatter\"},{\"hovertext\":\"<b>Topic 21</b>:\\u0435\\u0434\\u0430_\\u043a\\u043e\\u0440\\u043c\\u0438\\u0442\\u044c_\\u043b\\u043e\\u0436\\u043a\\u0430_\\u0441\\u0443\\u043f_\\u0435\\u0441\\u0442_\\u043a\\u0430\\u0448\\u0430_\\u0445\\u043b\\u0435\",\"line\":{\"color\":\"black\",\"width\":1.5},\"mode\":\"lines+lines\",\"name\":\"\",\"opacity\":0.1,\"x\":[1,2,3,4,5,6,7,8,9,10],\"y\":[0.0404288588480802,0.03892679080869225,0.03570957806483729,0.034228059270171494,0.027311807900495186,0.017327978678883176,0.017268752517250577,0.017071343615452858,0.017025763381341184,0.016613089738514948],\"type\":\"scatter\"},{\"hovertext\":\"<b>Topic 22</b>:\\u043f\\u043e\\u0434\\u0430\\u0440\\u043e\\u043a_\\u0434\\u0435\\u0434_\\u043c\\u043e\\u0440\\u043e\\u0437_\\u0434\\u0430\\u0440\\u0438\\u0442\\u044c_\\u0432\\u0435\\u0440\\u0438\\u0442\\u044c_\\u043f\\u0438\",\"line\":{\"color\":\"black\",\"width\":1.5},\"mode\":\"lines+lines\",\"name\":\"\",\"opacity\":0.1,\"x\":[1,2,3,4,5,6,7,8,9,10],\"y\":[0.10679441838947118,0.08541572600723309,0.06310474768090842,0.05257038833360255,0.036682001371888213,0.034458849773591954,0.031765790128778976,0.03049233318101028,0.029981758800109788,0.0298264883507431],\"type\":\"scatter\"},{\"hovertext\":\"<b>Topic 23</b>:\\u043d\\u043e\\u0441\\u0438\\u0442\\u044c_\\u043e\\u0434\\u0435\\u0436\\u0434\\u0430_\\u043f\\u043b\\u0430\\u0442\\u044c\\u0435_\\u043e\\u0434\\u0435\\u0432\\u0430\\u0442\\u044c_\\u043e\\u0434\\u0435\\u0442\\u044c\",\"line\":{\"color\":\"black\",\"width\":1.5},\"mode\":\"lines+lines\",\"name\":\"\",\"opacity\":0.1,\"x\":[1,2,3,4,5,6,7,8,9,10],\"y\":[0.05555884428433449,0.05147182672844967,0.04603094208605443,0.03419517223611285,0.03191098564606512,0.026197446698106096,0.02481523096381269,0.024752987294735677,0.022648556294358912,0.022207279553203025],\"type\":\"scatter\"},{\"hovertext\":\"<b>Topic 24</b>:\\u0442\\u0430\\u043d\\u0435\\u0446_\\u0442\\u0430\\u043d\\u0446\\u044b_\\u0431\\u0430\\u043b\\u0435\\u0442_\\u0445\\u043e\\u0434\\u0438\\u0442\\u044c_\\u0437\\u0430\\u043d\\u044f\\u0442\\u0438\\u0435_\\u0442\",\"line\":{\"color\":\"black\",\"width\":1.5},\"mode\":\"lines+lines\",\"name\":\"\",\"opacity\":0.1,\"x\":[1,2,3,4,5,6,7,8,9,10],\"y\":[0.07156061507603859,0.04926688991595575,0.04630718908696448,0.03408343277885698,0.03213522288761372,0.030618252720663038,0.02694398394289646,0.017489049339400778,0.01726466284117675,0.01624924979421178],\"type\":\"scatter\"}],                        {\"template\":{\"data\":{\"barpolar\":[{\"marker\":{\"line\":{\"color\":\"white\",\"width\":0.5},\"pattern\":{\"fillmode\":\"overlay\",\"size\":10,\"solidity\":0.2}},\"type\":\"barpolar\"}],\"bar\":[{\"error_x\":{\"color\":\"#2a3f5f\"},\"error_y\":{\"color\":\"#2a3f5f\"},\"marker\":{\"line\":{\"color\":\"white\",\"width\":0.5},\"pattern\":{\"fillmode\":\"overlay\",\"size\":10,\"solidity\":0.2}},\"type\":\"bar\"}],\"carpet\":[{\"aaxis\":{\"endlinecolor\":\"#2a3f5f\",\"gridcolor\":\"#C8D4E3\",\"linecolor\":\"#C8D4E3\",\"minorgridcolor\":\"#C8D4E3\",\"startlinecolor\":\"#2a3f5f\"},\"baxis\":{\"endlinecolor\":\"#2a3f5f\",\"gridcolor\":\"#C8D4E3\",\"linecolor\":\"#C8D4E3\",\"minorgridcolor\":\"#C8D4E3\",\"startlinecolor\":\"#2a3f5f\"},\"type\":\"carpet\"}],\"choropleth\":[{\"colorbar\":{\"outlinewidth\":0,\"ticks\":\"\"},\"type\":\"choropleth\"}],\"contourcarpet\":[{\"colorbar\":{\"outlinewidth\":0,\"ticks\":\"\"},\"type\":\"contourcarpet\"}],\"contour\":[{\"colorbar\":{\"outlinewidth\":0,\"ticks\":\"\"},\"colorscale\":[[0.0,\"#0d0887\"],[0.1111111111111111,\"#46039f\"],[0.2222222222222222,\"#7201a8\"],[0.3333333333333333,\"#9c179e\"],[0.4444444444444444,\"#bd3786\"],[0.5555555555555556,\"#d8576b\"],[0.6666666666666666,\"#ed7953\"],[0.7777777777777778,\"#fb9f3a\"],[0.8888888888888888,\"#fdca26\"],[1.0,\"#f0f921\"]],\"type\":\"contour\"}],\"heatmapgl\":[{\"colorbar\":{\"outlinewidth\":0,\"ticks\":\"\"},\"colorscale\":[[0.0,\"#0d0887\"],[0.1111111111111111,\"#46039f\"],[0.2222222222222222,\"#7201a8\"],[0.3333333333333333,\"#9c179e\"],[0.4444444444444444,\"#bd3786\"],[0.5555555555555556,\"#d8576b\"],[0.6666666666666666,\"#ed7953\"],[0.7777777777777778,\"#fb9f3a\"],[0.8888888888888888,\"#fdca26\"],[1.0,\"#f0f921\"]],\"type\":\"heatmapgl\"}],\"heatmap\":[{\"colorbar\":{\"outlinewidth\":0,\"ticks\":\"\"},\"colorscale\":[[0.0,\"#0d0887\"],[0.1111111111111111,\"#46039f\"],[0.2222222222222222,\"#7201a8\"],[0.3333333333333333,\"#9c179e\"],[0.4444444444444444,\"#bd3786\"],[0.5555555555555556,\"#d8576b\"],[0.6666666666666666,\"#ed7953\"],[0.7777777777777778,\"#fb9f3a\"],[0.8888888888888888,\"#fdca26\"],[1.0,\"#f0f921\"]],\"type\":\"heatmap\"}],\"histogram2dcontour\":[{\"colorbar\":{\"outlinewidth\":0,\"ticks\":\"\"},\"colorscale\":[[0.0,\"#0d0887\"],[0.1111111111111111,\"#46039f\"],[0.2222222222222222,\"#7201a8\"],[0.3333333333333333,\"#9c179e\"],[0.4444444444444444,\"#bd3786\"],[0.5555555555555556,\"#d8576b\"],[0.6666666666666666,\"#ed7953\"],[0.7777777777777778,\"#fb9f3a\"],[0.8888888888888888,\"#fdca26\"],[1.0,\"#f0f921\"]],\"type\":\"histogram2dcontour\"}],\"histogram2d\":[{\"colorbar\":{\"outlinewidth\":0,\"ticks\":\"\"},\"colorscale\":[[0.0,\"#0d0887\"],[0.1111111111111111,\"#46039f\"],[0.2222222222222222,\"#7201a8\"],[0.3333333333333333,\"#9c179e\"],[0.4444444444444444,\"#bd3786\"],[0.5555555555555556,\"#d8576b\"],[0.6666666666666666,\"#ed7953\"],[0.7777777777777778,\"#fb9f3a\"],[0.8888888888888888,\"#fdca26\"],[1.0,\"#f0f921\"]],\"type\":\"histogram2d\"}],\"histogram\":[{\"marker\":{\"pattern\":{\"fillmode\":\"overlay\",\"size\":10,\"solidity\":0.2}},\"type\":\"histogram\"}],\"mesh3d\":[{\"colorbar\":{\"outlinewidth\":0,\"ticks\":\"\"},\"type\":\"mesh3d\"}],\"parcoords\":[{\"line\":{\"colorbar\":{\"outlinewidth\":0,\"ticks\":\"\"}},\"type\":\"parcoords\"}],\"pie\":[{\"automargin\":true,\"type\":\"pie\"}],\"scatter3d\":[{\"line\":{\"colorbar\":{\"outlinewidth\":0,\"ticks\":\"\"}},\"marker\":{\"colorbar\":{\"outlinewidth\":0,\"ticks\":\"\"}},\"type\":\"scatter3d\"}],\"scattercarpet\":[{\"marker\":{\"colorbar\":{\"outlinewidth\":0,\"ticks\":\"\"}},\"type\":\"scattercarpet\"}],\"scattergeo\":[{\"marker\":{\"colorbar\":{\"outlinewidth\":0,\"ticks\":\"\"}},\"type\":\"scattergeo\"}],\"scattergl\":[{\"marker\":{\"colorbar\":{\"outlinewidth\":0,\"ticks\":\"\"}},\"type\":\"scattergl\"}],\"scattermapbox\":[{\"marker\":{\"colorbar\":{\"outlinewidth\":0,\"ticks\":\"\"}},\"type\":\"scattermapbox\"}],\"scatterpolargl\":[{\"marker\":{\"colorbar\":{\"outlinewidth\":0,\"ticks\":\"\"}},\"type\":\"scatterpolargl\"}],\"scatterpolar\":[{\"marker\":{\"colorbar\":{\"outlinewidth\":0,\"ticks\":\"\"}},\"type\":\"scatterpolar\"}],\"scatter\":[{\"marker\":{\"colorbar\":{\"outlinewidth\":0,\"ticks\":\"\"}},\"type\":\"scatter\"}],\"scatterternary\":[{\"marker\":{\"colorbar\":{\"outlinewidth\":0,\"ticks\":\"\"}},\"type\":\"scatterternary\"}],\"surface\":[{\"colorbar\":{\"outlinewidth\":0,\"ticks\":\"\"},\"colorscale\":[[0.0,\"#0d0887\"],[0.1111111111111111,\"#46039f\"],[0.2222222222222222,\"#7201a8\"],[0.3333333333333333,\"#9c179e\"],[0.4444444444444444,\"#bd3786\"],[0.5555555555555556,\"#d8576b\"],[0.6666666666666666,\"#ed7953\"],[0.7777777777777778,\"#fb9f3a\"],[0.8888888888888888,\"#fdca26\"],[1.0,\"#f0f921\"]],\"type\":\"surface\"}],\"table\":[{\"cells\":{\"fill\":{\"color\":\"#EBF0F8\"},\"line\":{\"color\":\"white\"}},\"header\":{\"fill\":{\"color\":\"#C8D4E3\"},\"line\":{\"color\":\"white\"}},\"type\":\"table\"}]},\"layout\":{\"annotationdefaults\":{\"arrowcolor\":\"#2a3f5f\",\"arrowhead\":0,\"arrowwidth\":1},\"autotypenumbers\":\"strict\",\"coloraxis\":{\"colorbar\":{\"outlinewidth\":0,\"ticks\":\"\"}},\"colorscale\":{\"diverging\":[[0,\"#8e0152\"],[0.1,\"#c51b7d\"],[0.2,\"#de77ae\"],[0.3,\"#f1b6da\"],[0.4,\"#fde0ef\"],[0.5,\"#f7f7f7\"],[0.6,\"#e6f5d0\"],[0.7,\"#b8e186\"],[0.8,\"#7fbc41\"],[0.9,\"#4d9221\"],[1,\"#276419\"]],\"sequential\":[[0.0,\"#0d0887\"],[0.1111111111111111,\"#46039f\"],[0.2222222222222222,\"#7201a8\"],[0.3333333333333333,\"#9c179e\"],[0.4444444444444444,\"#bd3786\"],[0.5555555555555556,\"#d8576b\"],[0.6666666666666666,\"#ed7953\"],[0.7777777777777778,\"#fb9f3a\"],[0.8888888888888888,\"#fdca26\"],[1.0,\"#f0f921\"]],\"sequentialminus\":[[0.0,\"#0d0887\"],[0.1111111111111111,\"#46039f\"],[0.2222222222222222,\"#7201a8\"],[0.3333333333333333,\"#9c179e\"],[0.4444444444444444,\"#bd3786\"],[0.5555555555555556,\"#d8576b\"],[0.6666666666666666,\"#ed7953\"],[0.7777777777777778,\"#fb9f3a\"],[0.8888888888888888,\"#fdca26\"],[1.0,\"#f0f921\"]]},\"colorway\":[\"#636efa\",\"#EF553B\",\"#00cc96\",\"#ab63fa\",\"#FFA15A\",\"#19d3f3\",\"#FF6692\",\"#B6E880\",\"#FF97FF\",\"#FECB52\"],\"font\":{\"color\":\"#2a3f5f\"},\"geo\":{\"bgcolor\":\"white\",\"lakecolor\":\"white\",\"landcolor\":\"white\",\"showlakes\":true,\"showland\":true,\"subunitcolor\":\"#C8D4E3\"},\"hoverlabel\":{\"align\":\"left\"},\"hovermode\":\"closest\",\"mapbox\":{\"style\":\"light\"},\"paper_bgcolor\":\"white\",\"plot_bgcolor\":\"white\",\"polar\":{\"angularaxis\":{\"gridcolor\":\"#EBF0F8\",\"linecolor\":\"#EBF0F8\",\"ticks\":\"\"},\"bgcolor\":\"white\",\"radialaxis\":{\"gridcolor\":\"#EBF0F8\",\"linecolor\":\"#EBF0F8\",\"ticks\":\"\"}},\"scene\":{\"xaxis\":{\"backgroundcolor\":\"white\",\"gridcolor\":\"#DFE8F3\",\"gridwidth\":2,\"linecolor\":\"#EBF0F8\",\"showbackground\":true,\"ticks\":\"\",\"zerolinecolor\":\"#EBF0F8\"},\"yaxis\":{\"backgroundcolor\":\"white\",\"gridcolor\":\"#DFE8F3\",\"gridwidth\":2,\"linecolor\":\"#EBF0F8\",\"showbackground\":true,\"ticks\":\"\",\"zerolinecolor\":\"#EBF0F8\"},\"zaxis\":{\"backgroundcolor\":\"white\",\"gridcolor\":\"#DFE8F3\",\"gridwidth\":2,\"linecolor\":\"#EBF0F8\",\"showbackground\":true,\"ticks\":\"\",\"zerolinecolor\":\"#EBF0F8\"}},\"shapedefaults\":{\"line\":{\"color\":\"#2a3f5f\"}},\"ternary\":{\"aaxis\":{\"gridcolor\":\"#DFE8F3\",\"linecolor\":\"#A2B1C6\",\"ticks\":\"\"},\"baxis\":{\"gridcolor\":\"#DFE8F3\",\"linecolor\":\"#A2B1C6\",\"ticks\":\"\"},\"bgcolor\":\"white\",\"caxis\":{\"gridcolor\":\"#DFE8F3\",\"linecolor\":\"#A2B1C6\",\"ticks\":\"\"}},\"title\":{\"x\":0.05},\"xaxis\":{\"automargin\":true,\"gridcolor\":\"#EBF0F8\",\"linecolor\":\"#EBF0F8\",\"ticks\":\"\",\"title\":{\"standoff\":15},\"zerolinecolor\":\"#EBF0F8\",\"zerolinewidth\":2},\"yaxis\":{\"automargin\":true,\"gridcolor\":\"#EBF0F8\",\"linecolor\":\"#EBF0F8\",\"ticks\":\"\",\"title\":{\"standoff\":15},\"zerolinecolor\":\"#EBF0F8\",\"zerolinewidth\":2}}},\"xaxis\":{\"range\":[0,10],\"tick0\":1,\"dtick\":2,\"title\":{\"text\":\"Term Rank\"}},\"title\":{\"font\":{\"size\":22,\"color\":\"Black\"},\"text\":\"<b>Term score decline per Topic</b>\",\"y\":0.9,\"x\":0.5,\"xanchor\":\"center\",\"yanchor\":\"top\"},\"hoverlabel\":{\"font\":{\"size\":16,\"family\":\"Rockwell\"},\"bgcolor\":\"white\"},\"showlegend\":false,\"width\":800,\"height\":500,\"yaxis\":{\"title\":{\"text\":\"c-TF-IDF score\"}}},                        {\"responsive\": true}                    ).then(function(){\n",
       "                            \n",
       "var gd = document.getElementById('abe23b1f-ee43-4c80-bc6b-914afb147cf7');\n",
       "var x = new MutationObserver(function (mutations, observer) {{\n",
       "        var display = window.getComputedStyle(gd).display;\n",
       "        if (!display || display === 'none') {{\n",
       "            console.log([gd, 'removed!']);\n",
       "            Plotly.purge(gd);\n",
       "            observer.disconnect();\n",
       "        }}\n",
       "}});\n",
       "\n",
       "// Listen for the removal of the full notebook cells\n",
       "var notebookContainer = gd.closest('#notebook-container');\n",
       "if (notebookContainer) {{\n",
       "    x.observe(notebookContainer, {childList: true});\n",
       "}}\n",
       "\n",
       "// Listen for the clearing of the current output cell\n",
       "var outputEl = gd.closest('.output');\n",
       "if (outputEl) {{\n",
       "    x.observe(outputEl, {childList: true});\n",
       "}}\n",
       "\n",
       "                        })                };                            </script>        </div>\n",
       "</body>\n",
       "</html>"
      ]
     },
     "metadata": {},
     "output_type": "display_data"
    }
   ],
   "source": [
    "model\t.visualize_term_rank()"
   ]
  },
  {
   "cell_type": "code",
   "execution_count": 98,
   "metadata": {
    "executionInfo": {
     "elapsed": 175,
     "status": "ok",
     "timestamp": 1642043099534,
     "user": {
      "displayName": "Kateryna Drogaieva",
      "photoUrl": "https://lh3.googleusercontent.com/a-/AOh14GjB1LQYJH97Lqm6RsCcAADFgzEAa0YxMUT7P4mjlA=s64",
      "userId": "10877377912113147805"
     },
     "user_tz": 480
    },
    "id": "qkgeS6nfY6Tl"
   },
   "outputs": [],
   "source": [
    "df['Timestamp']=pd.to_datetime(df['Timestamp'], format='%Y-%m-%d %H:%M:%S')\n",
    "timestamps = df['Timestamp'].to_list()"
   ]
  },
  {
   "cell_type": "code",
   "execution_count": 100,
   "metadata": {
    "executionInfo": {
     "elapsed": 18632,
     "status": "ok",
     "timestamp": 1642043191956,
     "user": {
      "displayName": "Kateryna Drogaieva",
      "photoUrl": "https://lh3.googleusercontent.com/a-/AOh14GjB1LQYJH97Lqm6RsCcAADFgzEAa0YxMUT7P4mjlA=s64",
      "userId": "10877377912113147805"
     },
     "user_tz": 480
    },
    "id": "05VGSLQXZVFF"
   },
   "outputs": [],
   "source": [
    "topics_over_time = model.topics_over_time(docs=data, \n",
    "                                                topics=topics, \n",
    "                                                timestamps=timestamps, \n",
    "                                                global_tuning=True, \n",
    "                                                evolution_tuning=True, \n",
    "                                                nr_bins=20)"
   ]
  },
  {
   "cell_type": "code",
   "execution_count": 104,
   "metadata": {
    "colab": {
     "base_uri": "https://localhost:8080/",
     "height": 467
    },
    "executionInfo": {
     "elapsed": 202,
     "status": "ok",
     "timestamp": 1642043248869,
     "user": {
      "displayName": "Kateryna Drogaieva",
      "photoUrl": "https://lh3.googleusercontent.com/a-/AOh14GjB1LQYJH97Lqm6RsCcAADFgzEAa0YxMUT7P4mjlA=s64",
      "userId": "10877377912113147805"
     },
     "user_tz": 480
    },
    "id": "a8-u8OJSZnKb",
    "outputId": "53417a95-374a-4db5-ab3b-0614f4f1a16d"
   },
   "outputs": [
    {
     "data": {
      "text/html": [
       "<html>\n",
       "<head><meta charset=\"utf-8\" /></head>\n",
       "<body>\n",
       "    <div>            <script src=\"https://cdnjs.cloudflare.com/ajax/libs/mathjax/2.7.5/MathJax.js?config=TeX-AMS-MML_SVG\"></script><script type=\"text/javascript\">if (window.MathJax) {MathJax.Hub.Config({SVG: {font: \"STIX-Web\"}});}</script>                <script type=\"text/javascript\">window.PlotlyConfig = {MathJaxConfig: 'local'};</script>\n",
       "        <script src=\"https://cdn.plot.ly/plotly-2.8.3.min.js\"></script>                <div id=\"71fe1be5-483d-4a4e-b414-24d2691fdd20\" class=\"plotly-graph-div\" style=\"height:450px; width:1250px;\"></div>            <script type=\"text/javascript\">                                    window.PLOTLYENV=window.PLOTLYENV || {};                                    if (document.getElementById(\"71fe1be5-483d-4a4e-b414-24d2691fdd20\")) {                    Plotly.newPlot(                        \"71fe1be5-483d-4a4e-b414-24d2691fdd20\",                        [{\"hoverinfo\":\"text\",\"hovertext\":[\"<b>Topic 2</b><br>Words: \\u0441\\u043e\\u0440\\u0442\\u0438\\u0440\\u043e\\u0432\\u0430\\u0442\\u044c, \\u0441\\u043a\\u0438\\u0434\\u044b\\u0432\\u0430\\u0442\\u044c, \\u043f\\u0440\\u0438\\u0433\\u043e\\u0434\\u0438\\u0442\\u044c\\u0441\\u044f, \\u043f\\u043e\\u0434\\u0440\\u044f\\u0434, \\u043d\\u0438\\u0431\\u044b\\u0442\\u044c\",\"<b>Topic 2</b><br>Words: \\u043f\\u0441\\u0438\\u0445\\u043e\\u043b\\u043e\\u0433, \\u043f\\u043e\\u0441\\u043e\\u0432\\u0435\\u0442\\u043e\\u0432\\u0430\\u0442\\u044c, \\u043f\\u0441\\u0438\\u0445\\u043e\\u043b\\u043e\\u0433\\u0430, \\u0445\\u043e\\u0440\\u043e\\u0448\\u0438\\u0439, \\u0446\\u0435\\u043d\\u0442\\u0440\",\"<b>Topic 2</b><br>Words: \\u043f\\u0441\\u0438\\u0445\\u043e\\u043b\\u043e\\u0433, \\u043f\\u043e\\u0441\\u043e\\u0432\\u0435\\u0442\\u043e\\u0432\\u0430\\u0442\\u044c, \\u043d\\u0443\\u0436\\u043d\\u044b\\u0439, \\u0445\\u043e\\u0440\\u043e\\u0448\\u0438\\u0439, \\u0434\\u0435\\u0442\\u0441\\u043a\\u0438\\u0439\",\"<b>Topic 2</b><br>Words: \\u043f\\u0441\\u0438\\u0445\\u043e\\u043b\\u043e\\u0433, \\u043f\\u043e\\u0441\\u043e\\u0432\\u0435\\u0442\\u043e\\u0432\\u0430\\u0442\\u044c, \\u0445\\u043e\\u0440\\u043e\\u0448\\u0438\\u0439, \\u043d\\u0443\\u0436\\u043d\\u044b\\u0439, \\u043f\\u0441\\u0438\\u0445\\u043e\\u043b\\u043e\\u0433\\u0430\",\"<b>Topic 2</b><br>Words: \\u043f\\u043e\\u0441\\u043e\\u0432\\u0435\\u0442\\u043e\\u0432\\u0430\\u0442\\u044c, \\u043f\\u0441\\u0438\\u0445\\u043e\\u043b\\u043e\\u0433\\u0430, \\u043f\\u0441\\u0438\\u0445\\u043e\\u043b\\u043e\\u0433, \\u043d\\u0443\\u0436\\u043d\\u044b\\u0439, \\u0445\\u043e\\u0440\\u043e\\u0448\\u0438\\u0439\",\"<b>Topic 2</b><br>Words: \\u043f\\u0441\\u0438\\u0445\\u043e\\u043b\\u043e\\u0433, \\u043f\\u043e\\u0441\\u043e\\u0432\\u0435\\u0442\\u043e\\u0432\\u0430\\u0442\\u044c, \\u043f\\u0441\\u0438\\u0445\\u043e\\u043b\\u043e\\u0433\\u0430, \\u043d\\u0443\\u0436\\u043d\\u044b\\u0439, \\u0445\\u043e\\u0440\\u043e\\u0448\\u0438\\u0439\",\"<b>Topic 2</b><br>Words: \\u043f\\u0441\\u0438\\u0445\\u043e\\u043b\\u043e\\u0433, \\u043f\\u043e\\u0441\\u043e\\u0432\\u0435\\u0442\\u043e\\u0432\\u0430\\u0442\\u044c, \\u0434\\u0435\\u0442\\u0441\\u043a\\u0438\\u0439, \\u0445\\u043e\\u0440\\u043e\\u0448\\u0438\\u0439, \\u043d\\u0443\\u0436\\u043d\\u044b\\u0439\",\"<b>Topic 2</b><br>Words: \\u043f\\u0441\\u0438\\u0445\\u043e\\u043b\\u043e\\u0433, \\u043d\\u0435\\u0439\\u0440\\u043e\\u043f\\u0441\\u0438\\u0445\\u043e\\u043b\\u043e\\u0433, \\u0445\\u043e\\u0440\\u043e\\u0448\\u0438\\u0439, \\u043f\\u0441\\u0438\\u0445\\u043e\\u043b\\u043e\\u0433\\u0430, \\u043f\\u043e\\u0441\\u043e\\u0432\\u0435\\u0442\\u043e\\u0432\\u0430\\u0442\\u044c\",\"<b>Topic 2</b><br>Words: \\u043f\\u0441\\u0438\\u0445\\u043e\\u043b\\u043e\\u0433, \\u0446\\u0435\\u043d\\u0442\\u0440, \\u0437\\u0430\\u043d\\u044f\\u0442\\u0438\\u0435, \\u0441\\u043f\\u0435\\u0446\\u0438\\u0430\\u043b\\u0438\\u0441\\u0442, \\u043f\\u043e\\u0441\\u043e\\u0432\\u0435\\u0442\\u043e\\u0432\\u0430\\u0442\\u044c\",\"<b>Topic 2</b><br>Words: \\u043f\\u0441\\u0438\\u0445\\u043e\\u043b\\u043e\\u0433, \\u043d\\u0443\\u0436\\u043d\\u044b\\u0439, \\u0441\\u043f\\u0435\\u0446\\u0438\\u0430\\u043b\\u0438\\u0441\\u0442, \\u0446\\u0435\\u043d\\u0442\\u0440, \\u0445\\u043e\\u0440\\u043e\\u0448\\u0438\\u0439\",\"<b>Topic 2</b><br>Words: \\u043f\\u0441\\u0438\\u0445\\u043e\\u043b\\u043e\\u0433, \\u043f\\u043e\\u0441\\u043e\\u0432\\u0435\\u0442\\u043e\\u0432\\u0430\\u0442\\u044c, \\u043b\\u0435\\u0442, \\u0434\\u0435\\u0442\\u0441\\u043a\\u0438\\u0439, \\u043a\\u043e\\u043d\\u0441\\u0443\\u043b\\u044c\\u0442\\u0430\\u0446\\u0438\\u044f\",\"<b>Topic 2</b><br>Words: \\u043f\\u0441\\u0438\\u0445\\u043e\\u043b\\u043e\\u0433, \\u043f\\u0441\\u0438\\u0445\\u0438\\u0430\\u0442\\u0440, \\u043d\\u0443\\u0436\\u043d\\u044b\\u0439, \\u043f\\u043e\\u0441\\u043e\\u0432\\u0435\\u0442\\u043e\\u0432\\u0430\\u0442\\u044c, \\u043f\\u0441\\u0438\\u0445\\u043e\\u043b\\u043e\\u0433\\u0430\",\"<b>Topic 2</b><br>Words: \\u043f\\u0441\\u0438\\u0445\\u043e\\u043b\\u043e\\u0433, \\u043d\\u0430\\u043f\\u0440\\u0430\\u0432\\u043b\\u0435\\u043d\\u0438\\u0435, \\u0438\\u0434\\u0435\\u0430\\u043b\\u0451\\u043d\\u044f, \\u0430\\u044d\\u0440\\u043e\\u043f\\u043e\\u0440\\u0442\\u0435, \\u043c\\u043d\\u043e\\u0433\\u043e\\u043c\\u0443\\u0434\\u0440\\u044b\\u0439\",\"<b>Topic 2</b><br>Words: \\u043a\\u043b\\u0438\\u043d\\u0438\\u043a\\u0430, \\u0436\\u0435\\u043b\\u0430\\u0442\\u0435\\u043b\\u044c\\u043d\\u043e, \\u043f\\u0441\\u0438\\u0445\\u043e\\u043b\\u043e\\u0433, \\u043c\\u043e\\u043b\\u044e\\u0441\\u044c, \\u0430\\u043d\\u0434\\u0436\\u0435\\u043b\\u0435\\u0441\",\"<b>Topic 2</b><br>Words: \\u0441\\u043f\\u0435\\u0446\\u0438\\u0430\\u043b\\u0438\\u0441\\u0442, \\u043f\\u0441\\u0438\\u0445\\u043e\\u043b\\u043e\\u0433\\u0430, \\u043f\\u043b\\u0430\\u0442\\u043d\\u043e, \\u0441\\u043f\\u0435\\u0446\\u0438\\u0430\\u043b\\u0438\\u0441\\u0442\\u0430, \\u043a\\u043e\\u043d\\u0442\\u0430\\u043a\\u0442\",\"<b>Topic 2</b><br>Words: \\u043f\\u0441\\u0438\\u0445\\u043e\\u043b\\u043e\\u0433, \\u043f\\u043e\\u043c\\u043e\\u0449\\u044c, \\u043f\\u0441\\u0438\\u0445\\u0438\\u0430\\u0442\\u0440\\u0430, \\u043f\\u043e\\u0434\\u0440\\u043e\\u0441\\u0442\\u043e\\u043a, \\u043f\\u0441\\u0438\\u0445\\u043e\\u043b\\u043e\\u0433\\u043e\\u043c\",\"<b>Topic 2</b><br>Words: \\u043f\\u0441\\u0438\\u0445\\u043e\\u043b\\u043e\\u0433, \\u0434\\u0435\\u043f\\u0440\\u0435\\u0441\\u0441\\u0438\\u044f, \\u043f\\u043e\\u0441\\u043e\\u0432\\u0435\\u0442\\u043e\\u0432\\u0430\\u0442\\u044c, \\u043f\\u0441\\u0438\\u0445\\u0438\\u0430\\u0442\\u0440, \\u043f\\u043e\\u0434\\u0440\\u043e\\u0441\\u0442\\u043a\\u0430\",\"<b>Topic 2</b><br>Words: \\u043f\\u0441\\u0438\\u0445\\u043e\\u043b\\u043e\\u0433, \\u043f\\u0441\\u0438\\u0445\\u043e\\u043b\\u043e\\u0433\\u0430, \\u043f\\u0440\\u043e\\u043a\\u0430\\u0447\\u0438\\u0432\\u0430\\u0442\\u044c, \\u0441\\u0430\\u043c\\u043e\\u043e\\u043f\\u0440\\u0435\\u0434\\u0435\\u043b\\u0435\\u043d\\u0438\\u0435, \\u0432\\u0435\\u0439\\u043f\\u0430\",\"<b>Topic 2</b><br>Words: \\u0434\\u0435\\u043f\\u0440\\u0435\\u0441\\u0441\\u0438\\u044f, \\u043d\\u0430\\u0447\\u0430\\u043b\\u044c\\u043d\\u044b\\u0439, \\u043d\\u0430\\u043f\\u0440\\u0430\\u0441\\u043d\\u0430, \\u043f\\u043e\\u043c\\u043e\\u043b\\u0438\\u0442\\u0435\\u0441\\u044c, \\u0441\\u0430\\u043c\\u043e\\u043a\\u0440\\u0438\\u0442\\u0438\\u0447\\u043d\\u043e\\u0441\\u0442\\u044c\",\"<b>Topic 2</b><br>Words: \\u043f\\u043e\\u0441\\u043e\\u0432\\u0435\\u0442\\u043e\\u0432\\u0430\\u0442\\u044c, \\u043f\\u0441\\u0438\\u0445\\u043e\\u043b\\u043e\\u0433, \\u0434\\u0435\\u0432\\u0443\\u0448\\u043a\\u0430, \\u043f\\u043e\\u043c\\u043e\\u0433, \\u043f\\u0441\\u0438\\u0445\\u043e\\u043b\\u043e\\u0433\\u0430\"],\"marker\":{\"color\":\"#E69F00\"},\"mode\":\"lines\",\"name\":\"2_\\u043f\\u0441\\u0438\\u0445\\u043e\\u043b\\u043e\\u0433_\\u043f\\u043e\\u0441\\u043e\\u0432\\u0435\\u0442\\u043e\\u0432\\u0430\\u0442\\u044c_\\u0445\\u043e\\u0440\\u043e\\u0448\\u0438\\u0439_\\u043f\\u0441\\u0438\\u0445\\u043e\\u043b\\u043e\\u0433...\",\"x\":[\"2008-08-27T18:52:59.220000\",\"2009-04-25T08:56:39\",\"2009-12-17T05:47:18\",\"2010-08-10T02:37:57\",\"2011-04-02T23:28:36\",\"2011-11-24T20:19:15\",\"2012-07-17T17:09:54\",\"2013-03-10T14:00:33\",\"2013-11-01T10:51:12\",\"2014-06-25T07:41:51\",\"2015-02-16T04:32:30\",\"2015-10-10T01:23:09\",\"2016-06-01T22:13:48\",\"2017-01-23T19:04:27\",\"2017-09-16T15:55:06\",\"2018-05-10T12:45:45\",\"2019-01-01T09:36:24\",\"2019-08-25T06:27:03\",\"2020-04-17T03:17:42\",\"2020-12-09T00:08:21\"],\"y\":[1,41,63,66,49,55,48,39,29,23,12,23,12,9,13,13,14,7,5,9],\"type\":\"scatter\"},{\"hoverinfo\":\"text\",\"hovertext\":[\"<b>Topic 0</b><br>Words: \\u0441\\u043f\\u0430\\u0442\\u044c, \\u0441\\u043e\\u043d, \\u043d\\u043e\\u0447\\u044c, \\u043d\\u043e\\u0447\\u044c\\u044e, \\u0437\\u0430\\u0441\\u044b\\u043f\\u0430\\u0442\\u044c\",\"<b>Topic 0</b><br>Words: \\u0441\\u043f\\u0430\\u0442\\u044c, \\u0441\\u043e\\u043d, \\u043d\\u043e\\u0447\\u044c\\u044e, \\u043d\\u043e\\u0447\\u044c, \\u0437\\u0430\\u0441\\u044b\\u043f\\u0430\\u0442\\u044c\",\"<b>Topic 0</b><br>Words: \\u0441\\u043f\\u0430\\u0442\\u044c, \\u0437\\u0430\\u0441\\u044b\\u043f\\u0430\\u0442\\u044c, \\u0441\\u043e\\u043d, \\u043d\\u043e\\u0447\\u044c, \\u043d\\u043e\\u0447\\u044c\\u044e\",\"<b>Topic 0</b><br>Words: \\u0441\\u043f\\u0430\\u0442\\u044c, \\u0441\\u043e\\u043d, \\u0437\\u0430\\u0441\\u044b\\u043f\\u0430\\u0442\\u044c, \\u043d\\u043e\\u0447\\u044c, \\u043d\\u043e\\u0447\\u044c\\u044e\",\"<b>Topic 0</b><br>Words: \\u0441\\u043f\\u0430\\u0442\\u044c, \\u0441\\u043e\\u043d, \\u043d\\u043e\\u0447\\u044c\\u044e, \\u0437\\u0430\\u0441\\u044b\\u043f\\u0430\\u0442\\u044c, \\u043d\\u043e\\u0447\\u044c\",\"<b>Topic 0</b><br>Words: \\u0441\\u043f\\u0430\\u0442\\u044c, \\u0441\\u043e\\u043d, \\u043d\\u043e\\u0447\\u044c\\u044e, \\u043d\\u043e\\u0447\\u044c, \\u0437\\u0430\\u0441\\u044b\\u043f\\u0430\\u0442\\u044c\",\"<b>Topic 0</b><br>Words: \\u0441\\u043f\\u0430\\u0442\\u044c, \\u0441\\u043e\\u043d, \\u043d\\u043e\\u0447\\u044c\\u044e, \\u0437\\u0430\\u0441\\u044b\\u043f\\u0430\\u0442\\u044c, \\u043d\\u043e\\u0447\\u044c\",\"<b>Topic 0</b><br>Words: \\u0441\\u043f\\u0430\\u0442\\u044c, \\u0441\\u043e\\u043d, \\u0437\\u0430\\u0441\\u044b\\u043f\\u0430\\u0442\\u044c, \\u043d\\u043e\\u0447\\u044c\\u044e, \\u0447\\u0430\\u0441\",\"<b>Topic 0</b><br>Words: \\u0441\\u043f\\u0430\\u0442\\u044c, \\u0441\\u043e\\u043d, \\u0437\\u0430\\u0441\\u044b\\u043f\\u0430\\u0442\\u044c, \\u043d\\u043e\\u0447\\u044c, \\u0447\\u0430\\u0441\",\"<b>Topic 0</b><br>Words: \\u0441\\u043f\\u0430\\u0442\\u044c, \\u0437\\u0430\\u0441\\u044b\\u043f\\u0430\\u0442\\u044c, \\u043d\\u043e\\u0447\\u044c, \\u043d\\u043e\\u0447\\u044c\\u044e, \\u0441\\u043e\\u043d\",\"<b>Topic 0</b><br>Words: \\u0441\\u043f\\u0430\\u0442\\u044c, \\u0441\\u043e\\u043d, \\u0447\\u0430\\u0441, \\u0434\\u0435\\u043d\\u044c, \\u0437\\u0430\\u0441\\u044b\\u043f\\u0430\\u0442\\u044c\",\"<b>Topic 0</b><br>Words: \\u0441\\u043f\\u0430\\u0442\\u044c, \\u0441\\u043e\\u043d, \\u0437\\u0430\\u0441\\u044b\\u043f\\u0430\\u0442\\u044c, \\u043d\\u043e\\u0447\\u044c, \\u043d\\u043e\\u0447\\u044c\\u044e\",\"<b>Topic 0</b><br>Words: \\u0441\\u043f\\u0430\\u0442\\u044c, \\u0441\\u043f\\u0438\\u0442, \\u0441\\u043e\\u043d, \\u043d\\u043e\\u0447\\u044c\\u044e, \\u043c\\u0435\\u0441\\u044f\\u0446\",\"<b>Topic 0</b><br>Words: \\u0441\\u043f\\u0430\\u0442\\u044c, \\u0441\\u043e\\u043d, \\u043d\\u043e\\u0447\\u044c, \\u0441\\u043f\\u0438\\u0442, \\u043f\\u0440\\u043e\\u0441\\u044b\\u043f\\u0430\\u0442\\u044c\\u0441\\u044f\",\"<b>Topic 0</b><br>Words: \\u0441\\u043f\\u0430\\u0442\\u044c, \\u0437\\u0430\\u0441\\u044b\\u043f\\u0430\\u0442\\u044c, \\u0441\\u043e\\u043d, 21, \\u043d\\u043e\\u0447\\u044c\",\"<b>Topic 0</b><br>Words: \\u0441\\u043f\\u0430\\u0442\\u044c, \\u0447\\u0430\\u0441\\u043e\\u0432, \\u0441\\u043e\\u043d, \\u043b\\u043e\\u0436\\u0438\\u0442\\u044c\\u0441\\u044f, \\u043f\\u043e\\u0441\\u043f\\u043b\\u044e\",\"<b>Topic 0</b><br>Words: \\u0441\\u043f\\u0430\\u0442\\u044c, \\u043d\\u043e\\u0447\\u044c\\u044e, \\u0441\\u043e\\u043d, \\u043d\\u043e\\u0447\\u044c, \\u0447\\u0430\\u0441\",\"<b>Topic 0</b><br>Words: \\u0441\\u043f\\u0430\\u0442\\u044c, \\u0434\\u043e\\u0447\\u043a\\u043e\\u0439, \\u043f\\u0440\\u043e\\u0441\\u044b\\u043f\\u0430\\u0442\\u044c\\u0441\\u044f, \\u0441\\u0442\\u0440\\u0430\\u0430\\u0430\\u0430\\u0448\\u043d\\u044b\\u0439, \\u043a\\u043e\\u0444\\u0435\\u0439\\u043d\\u044f\",\"<b>Topic 0</b><br>Words: \\u0441\\u043f\\u0430\\u0442\\u044c, \\u0441\\u043e\\u043d, \\u0443\\u043a\\u043b\\u0430\\u0434\\u044b\\u0432\\u0430\\u0442\\u044c, \\u0437\\u0430\\u0441\\u044b\\u043f\\u0430\\u0442\\u044c, \\u043a\\u0440\\u043e\\u0432\\u0430\\u0442\\u044c\"],\"marker\":{\"color\":\"#56B4E9\"},\"mode\":\"lines\",\"name\":\"0_\\u0441\\u043f\\u0430\\u0442\\u044c_\\u0441\\u043e\\u043d_\\u0437\\u0430\\u0441\\u044b\\u043f\\u0430\\u0442\\u044c_\\u043d\\u043e\\u0447\\u044c\",\"x\":[\"2009-04-25T08:56:39\",\"2009-12-17T05:47:18\",\"2010-08-10T02:37:57\",\"2011-04-02T23:28:36\",\"2011-11-24T20:19:15\",\"2012-07-17T17:09:54\",\"2013-03-10T14:00:33\",\"2013-11-01T10:51:12\",\"2014-06-25T07:41:51\",\"2015-02-16T04:32:30\",\"2015-10-10T01:23:09\",\"2016-06-01T22:13:48\",\"2017-01-23T19:04:27\",\"2017-09-16T15:55:06\",\"2018-05-10T12:45:45\",\"2019-01-01T09:36:24\",\"2019-08-25T06:27:03\",\"2020-04-17T03:17:42\",\"2020-12-09T00:08:21\"],\"y\":[173,213,206,131,128,84,59,58,39,38,32,24,14,14,8,2,10,3,7],\"type\":\"scatter\"},{\"hoverinfo\":\"text\",\"hovertext\":[\"<b>Topic 1</b><br>Words: \\u0447\\u0438\\u0442\\u0430\\u0442\\u044c, \\u043a\\u043d\\u0438\\u0433\\u0430, quot, \\u043a\\u043d\\u0438\\u0436\\u043a\\u0430, \\u0447\\u0442\\u0435\\u043d\\u0438\\u0435\",\"<b>Topic 1</b><br>Words: \\u0447\\u0438\\u0442\\u0430\\u0442\\u044c, \\u043a\\u043d\\u0438\\u0433\\u0430, \\u043a\\u043d\\u0438\\u0436\\u043a\\u0430, \\u0447\\u0442\\u0435\\u043d\\u0438\\u0435, \\u0441\\u043a\\u0430\\u0437\\u043a\\u0430\",\"<b>Topic 1</b><br>Words: \\u0447\\u0438\\u0442\\u0430\\u0442\\u044c, \\u043a\\u043d\\u0438\\u0433\\u0430, \\u0447\\u0442\\u0435\\u043d\\u0438\\u0435, \\u043a\\u043d\\u0438\\u0436\\u043a\\u0430, \\u0441\\u043a\\u0430\\u0437\\u043a\\u0430\",\"<b>Topic 1</b><br>Words: \\u0447\\u0438\\u0442\\u0430\\u0442\\u044c, \\u043a\\u043d\\u0438\\u0433\\u0430, \\u043a\\u043d\\u0438\\u0436\\u043a\\u0430, \\u0447\\u0442\\u0435\\u043d\\u0438\\u0435, \\u0441\\u043b\\u043e\\u0432\\u043e\",\"<b>Topic 1</b><br>Words: \\u0447\\u0438\\u0442\\u0430\\u0442\\u044c, \\u043a\\u043d\\u0438\\u0433\\u0430, \\u0447\\u0442\\u0435\\u043d\\u0438\\u0435, \\u043a\\u043d\\u0438\\u0436\\u043a\\u0430, \\u0441\\u043b\\u043e\\u0432\\u043e\",\"<b>Topic 1</b><br>Words: \\u0447\\u0438\\u0442\\u0430\\u0442\\u044c, \\u043a\\u043d\\u0438\\u0433\\u0430, \\u0447\\u0442\\u0435\\u043d\\u0438\\u0435, \\u043f\\u0440\\u043e\\u0447\\u0438\\u0442\\u0430\\u0442\\u044c, \\u0441\\u043b\\u043e\\u0433\",\"<b>Topic 1</b><br>Words: \\u0447\\u0438\\u0442\\u0430\\u0442\\u044c, \\u043a\\u043d\\u0438\\u0433\\u0430, \\u0447\\u0442\\u0435\\u043d\\u0438\\u0435, \\u043f\\u0440\\u043e\\u0447\\u0438\\u0442\\u0430\\u0442\\u044c, \\u0431\\u0443\\u043a\\u0432\\u0430\",\"<b>Topic 1</b><br>Words: \\u0447\\u0438\\u0442\\u0430\\u0442\\u044c, \\u043a\\u043d\\u0438\\u0433\\u0430, \\u043f\\u0440\\u043e\\u0447\\u0438\\u0442\\u0430\\u0442\\u044c, \\u0447\\u0442\\u0435\\u043d\\u0438\\u0435, \\u0441\\u043b\\u043e\\u0432\\u043e\",\"<b>Topic 1</b><br>Words: \\u0447\\u0438\\u0442\\u0430\\u0442\\u044c, \\u043a\\u043d\\u0438\\u0433\\u0430, \\u0447\\u0442\\u0435\\u043d\\u0438\\u0435, \\u043a\\u043d\\u0438\\u0436\\u043a\\u0430, \\u0441\\u043a\\u0430\\u0437\\u043a\\u0430\",\"<b>Topic 1</b><br>Words: \\u0447\\u0438\\u0442\\u0430\\u0442\\u044c, \\u043a\\u043d\\u0438\\u0433\\u0430, \\u043a\\u043d\\u0438\\u0436\\u043a\\u0430, \\u0447\\u0442\\u0435\\u043d\\u0438\\u0435, \\u0441\\u043b\\u043e\\u0432\\u043e\",\"<b>Topic 1</b><br>Words: \\u0447\\u0438\\u0442\\u0430\\u0442\\u044c, \\u043a\\u043d\\u0438\\u0433\\u0430, \\u0447\\u0442\\u0435\\u043d\\u0438\\u0435, \\u043a\\u043d\\u0438\\u0436\\u043a\\u0430, \\u043a\\u043d\\u0438\\u0433\\u0438\",\"<b>Topic 1</b><br>Words: \\u0447\\u0438\\u0442\\u0430\\u0442\\u044c, \\u043a\\u043d\\u0438\\u0433\\u0430, \\u043a\\u043d\\u0438\\u0433\\u0438, \\u0447\\u0442\\u0435\\u043d\\u0438\\u0435, \\u043a\\u043d\\u0438\\u0433\\u0443\",\"<b>Topic 1</b><br>Words: \\u0447\\u0438\\u0442\\u0430\\u0442\\u044c, \\u043a\\u043d\\u0438\\u0433\\u0430, \\u043a\\u043d\\u0438\\u0433\\u0438, \\u043b\\u0435\\u0442\\u043e, \\u0442\\u0435\\u043a\\u0441\\u0442\",\"<b>Topic 1</b><br>Words: \\u0447\\u0438\\u0442\\u0430\\u0442\\u044c, d0, \\u043a\\u043d\\u0438\\u0433\\u0430, \\u043a\\u043d\\u0438\\u0433\\u0438, \\u043f\\u043e\\u0447\\u0438\\u0442\\u0430\\u0442\\u044c\",\"<b>Topic 1</b><br>Words: \\u0447\\u0438\\u0442\\u0430\\u0442\\u044c, \\u043a\\u043d\\u0438\\u0433\\u0430, \\u043f\\u0440\\u043e\\u0447\\u0435\\u0441\\u0442\\u044c, \\u0447\\u0442\\u0435\\u043d\\u0438\\u0435, \\u0433\\u043e\\u0434\",\"<b>Topic 1</b><br>Words: \\u0447\\u0438\\u0442\\u0430\\u0442\\u044c, \\u043a\\u043d\\u0438\\u0433\\u0430, \\u0441\\u043a\\u0430\\u0437\\u043a\\u0430, \\u0447\\u0438\\u0442\\u0430\\u0435\\u0442, \\u043f\\u0435\\u043b\\u0435\\u0432\\u0438\\u043d\",\"<b>Topic 1</b><br>Words: \\u0447\\u0438\\u0442\\u0430\\u0442\\u044c, \\u043f\\u0441\\u0438\\u0445\\u043e\\u043b\\u043e\\u0433\\u0438\\u044f, \\u043a\\u043d\\u0438\\u0433\\u0430, \\u0434\\u0438\\u0441\\u043b\\u0435\\u043a\\u0441\\u0438\\u0435\\u0439, \\u0444\\u0430\\u0431\\u0435\\u0440\",\"<b>Topic 1</b><br>Words: \\u043a\\u043d\\u0438\\u0433\\u0430, \\u0447\\u0438\\u0442\\u0430\\u0442\\u044c, \\u0440\\u0435\\u0431\\u044f\\u0442\\u0430, \\u0432\\u0440\\u0430\\u0433, \\u043a\\u043d\\u0438\\u0433\\u0438\",\"<b>Topic 1</b><br>Words: \\u0447\\u0438\\u0442\\u0430\\u0442\\u044c, \\u0437\\u043d\\u0430\\u043a\\u043e\\u043c\\u043e\\u0439, \\u0441\\u043b\\u043e\\u0433\\u0430\\u043c, \\u043e\\u043d\\u043b\\u0430\\u0439\\u043d, \\u0441\\u043f\\u0435\\u0446\\u043f\\u0435\\u0434\\u0430\\u0433\\u043e\\u0433\\u0430\"],\"marker\":{\"color\":\"#009E73\"},\"mode\":\"lines\",\"name\":\"1_\\u0447\\u0438\\u0442\\u0430\\u0442\\u044c_\\u043a\\u043d\\u0438\\u0433\\u0430_\\u0447\\u0442\\u0435\\u043d\\u0438\\u0435_\\u043a\\u043d\\u0438\\u0436\\u043a\\u0430\",\"x\":[\"2009-04-25T08:56:39\",\"2009-12-17T05:47:18\",\"2010-08-10T02:37:57\",\"2011-04-02T23:28:36\",\"2011-11-24T20:19:15\",\"2012-07-17T17:09:54\",\"2013-03-10T14:00:33\",\"2013-11-01T10:51:12\",\"2014-06-25T07:41:51\",\"2015-02-16T04:32:30\",\"2015-10-10T01:23:09\",\"2016-06-01T22:13:48\",\"2017-01-23T19:04:27\",\"2017-09-16T15:55:06\",\"2018-05-10T12:45:45\",\"2019-01-01T09:36:24\",\"2019-08-25T06:27:03\",\"2020-04-17T03:17:42\",\"2020-12-09T00:08:21\"],\"y\":[48,80,95,65,85,58,51,54,54,37,42,19,19,27,13,18,4,5,4],\"type\":\"scatter\"},{\"hoverinfo\":\"text\",\"hovertext\":[\"<b>Topic 3</b><br>Words: \\u0440\\u0443\\u0441\\u0441\\u043a\\u0438\\u0439, \\u0430\\u043d\\u0433\\u043b\\u0438\\u0439\\u0441\\u043a\\u0438\\u0439, \\u043f\\u0438\\u0441\\u0430\\u0442\\u044c, \\u0448\\u043a\\u043e\\u043b\\u0430, \\u043a\\u043b\\u0430\\u0441\\u0441\",\"<b>Topic 3</b><br>Words: \\u0440\\u0443\\u0441\\u0441\\u043a\\u0438\\u0439, \\u044e\\u0432\\u0435\\u043d\\u0430\\u043b\\u044c\\u043d\\u044b\\u0439, \\u044e\\u0432\\u0435\\u043d\\u0430\\u043b\\u044c\\u043d\\u0430, \\u044e\\u0441\\u0442\\u0438\\u0446\\u0438\\u0438, \\u043f\\u0440\\u043e\\u0435\\u043a\\u0442\",\"<b>Topic 3</b><br>Words: \\u0440\\u0443\\u0441\\u0441\\u043a\\u0438\\u0439, \\u044f\\u0437\\u044b\\u043a, \\u043f\\u0438\\u0441\\u0430\\u0442\\u044c, \\u043c\\u0430\\u0442\\u0435\\u043c\\u0430\\u0442\\u0438\\u043a\\u0430, \\u0448\\u043a\\u043e\\u043b\\u0430\",\"<b>Topic 3</b><br>Words: \\u0440\\u0443\\u0441\\u0441\\u043a\\u0438\\u0439, \\u0448\\u043a\\u043e\\u043b\\u0430, \\u043f\\u0438\\u0441\\u0430\\u0442\\u044c, \\u043f\\u0440\\u043e\\u0433\\u0440\\u0430\\u043c\\u043c\\u0430, \\u043a\\u043b\\u0430\\u0441\\u0441\",\"<b>Topic 3</b><br>Words: \\u0440\\u0443\\u0441\\u0441\\u043a\\u0438\\u0439, \\u043f\\u0438\\u0441\\u0430\\u0442\\u044c, \\u043c\\u0430\\u0442\\u0435\\u043c\\u0430\\u0442\\u0438\\u043a\\u0430, \\u0448\\u043a\\u043e\\u043b\\u0430, \\u043a\\u043b\\u0430\\u0441\\u0441\",\"<b>Topic 3</b><br>Words: \\u0440\\u0443\\u0441\\u0441\\u043a\\u0438\\u0439, \\u043f\\u0438\\u0441\\u0430\\u0442\\u044c, \\u043f\\u043e\\u0447\\u0435\\u0440\\u043a, \\u0448\\u043a\\u043e\\u043b\\u0430, \\u043a\\u043b\\u0430\\u0441\\u0441\",\"<b>Topic 3</b><br>Words: \\u0440\\u0443\\u0441\\u0441\\u043a\\u0438\\u0439, \\u0448\\u043a\\u043e\\u043b\\u0430, \\u043a\\u043b\\u0430\\u0441\\u0441, \\u043f\\u0438\\u0441\\u0430\\u0442\\u044c, \\u0443\\u0447\\u0438\\u0442\\u0435\\u043b\\u044c\",\"<b>Topic 3</b><br>Words: \\u0440\\u0443\\u0441\\u0441\\u043a\\u0438\\u0439, \\u043a\\u043b\\u0430\\u0441\\u0441, \\u043f\\u0438\\u0441\\u0430\\u0442\\u044c, \\u0448\\u043a\\u043e\\u043b\\u0430, \\u043f\\u043e\\u0447\\u0435\\u0440\\u043a\",\"<b>Topic 3</b><br>Words: \\u0440\\u0443\\u0441\\u0441\\u043a\\u0438\\u0439, \\u0448\\u043a\\u043e\\u043b\\u0430, \\u043a\\u043b\\u0430\\u0441\\u0441, \\u043f\\u043e\\u0447\\u0435\\u0440\\u043a, \\u043c\\u0430\\u0442\\u0435\\u043c\\u0430\\u0442\\u0438\\u043a\\u0430\",\"<b>Topic 3</b><br>Words: \\u0440\\u0443\\u0441\\u0441\\u043a\\u0438\\u0439, \\u043a\\u043b\\u0430\\u0441\\u0441, \\u0448\\u043a\\u043e\\u043b\\u0430, \\u0443\\u0447\\u0438\\u0442\\u0435\\u043b\\u044c, \\u043f\\u0438\\u0441\\u0430\\u0442\\u044c\",\"<b>Topic 3</b><br>Words: \\u0440\\u0443\\u0441\\u0441\\u043a\\u0438\\u0439, \\u043a\\u043b\\u0430\\u0441\\u0441, \\u043f\\u0438\\u0441\\u0430\\u0442\\u044c, \\u043f\\u043e\\u0447\\u0435\\u0440\\u043a, \\u0448\\u043a\\u043e\\u043b\\u0430\",\"<b>Topic 3</b><br>Words: \\u0440\\u0443\\u0441\\u0441\\u043a\\u0438\\u0439, \\u0432\\u043d\\u0435\\u0443\\u0440\\u043e\\u0447\\u043d\\u044b\\u0439, \\u043e\\u0431\\u0440\\u0430\\u0437\\u043e\\u0432\\u0430\\u0442\\u0435\\u043b\\u044c\\u043d\\u044b\\u0439, \\u0434\\u0435\\u044f\\u0442\\u0435\\u043b\\u044c\\u043d\\u043e\\u0441\\u0442\\u044c, \\u043a\\u043b\\u0430\\u0441\\u0441\",\"<b>Topic 3</b><br>Words: \\u0440\\u0443\\u0441\\u0441\\u043a\\u0438\\u0439, \\u043a\\u043b\\u0430\\u0441\\u0441, \\u0448\\u043a\\u043e\\u043b\\u0430, \\u043c\\u0430\\u0442\\u0435\\u043c\\u0430\\u0442\\u0438\\u043a\\u0430, je\",\"<b>Topic 3</b><br>Words: \\u0440\\u0443\\u0441\\u0441\\u043a\\u0438\\u0439, \\u044f\\u0437\\u044b\\u043a, \\u043c\\u0430\\u0442\\u0435\\u043c\\u0430\\u0442\\u0438\\u043a\\u0430, \\u0443\\u0447\\u0438\\u0442\\u044c\\u0441\\u044f, \\u0440\\u0435\\u043f\\u0435\\u0442\\u0438\\u0442\\u043e\\u0440\",\"<b>Topic 3</b><br>Words: \\u0440\\u0443\\u0441\\u0441\\u043a\\u0438\\u0439, \\u043a\\u043b\\u0430\\u0441\\u0441, \\u0448\\u043a\\u043e\\u043b\\u0430, \\u043f\\u0438\\u0441\\u0430\\u0442\\u044c, \\u043f\\u043e\\u0447\\u0435\\u0440\\u043a\",\"<b>Topic 3</b><br>Words: \\u0440\\u0443\\u0441\\u0441\\u043a\\u0438\\u0439, \\u0431\\u0443\\u043a\\u0432\\u0430, viele, \\u043f\\u0438\\u0441\\u0430\\u0442\\u044c, \\u044f\\u0437\\u044b\\u043a\",\"<b>Topic 3</b><br>Words: \\u0440\\u0443\\u0441\\u0441\\u043a\\u0438\\u0439, \\u043c\\u0430\\u0442\\u0435\\u043c\\u0430\\u0442\\u0438\\u043a\\u0430, \\u043a\\u043b\\u0430\\u0441\\u0441, \\u0448\\u043a\\u043e\\u043b\\u0430, \\u0444\\u0438\\u0437\\u0438\\u043a\\u0430\",\"<b>Topic 3</b><br>Words: \\u0440\\u0443\\u0441\\u0441\\u043a\\u0438\\u0439, \\u0437\\u0430\\u043d\\u0438\\u043c\\u0430\\u0442\\u044c\\u0441\\u044f, \\u0440\\u0430\\u0431\\u043e\\u0442\\u0430, \\u043a\\u043b\\u0430\\u0441\\u0441, \\u043c\\u0430\\u0442\\u0435\\u043c\\u0430\\u0442\\u0438\\u043a\\u0430\",\"<b>Topic 3</b><br>Words: \\u0440\\u0443\\u0441\\u0441\\u043a\\u0438\\u0439, \\u0447\\u0435\\u0442\\u0432\\u0435\\u0440\\u0442\\u044c, \\u0431\\u0430\\u043b\\u043b, \\u0448\\u043a\\u043e\\u043b\\u0430, \\u043c\\u0430\\u0442\\u0435\\u043c\\u0430\\u0442\\u0438\\u043a\"],\"marker\":{\"color\":\"#F0E442\"},\"mode\":\"lines\",\"name\":\"3_\\u0440\\u0443\\u0441\\u0441\\u043a\\u0438\\u0439_\\u043a\\u043b\\u0430\\u0441\\u0441_\\u0448\\u043a\\u043e\\u043b\\u0430_\\u043f\\u0438\\u0441\\u0430\\u0442\\u044c\",\"x\":[\"2009-04-25T08:56:39\",\"2009-12-17T05:47:18\",\"2010-08-10T02:37:57\",\"2011-04-02T23:28:36\",\"2011-11-24T20:19:15\",\"2012-07-17T17:09:54\",\"2013-03-10T14:00:33\",\"2013-11-01T10:51:12\",\"2014-06-25T07:41:51\",\"2015-02-16T04:32:30\",\"2015-10-10T01:23:09\",\"2016-06-01T22:13:48\",\"2017-01-23T19:04:27\",\"2017-09-16T15:55:06\",\"2018-05-10T12:45:45\",\"2019-01-01T09:36:24\",\"2019-08-25T06:27:03\",\"2020-04-17T03:17:42\",\"2020-12-09T00:08:21\"],\"y\":[13,29,34,25,26,27,26,28,40,29,32,17,20,22,20,11,15,6,6],\"type\":\"scatter\"},{\"hoverinfo\":\"text\",\"hovertext\":[\"<b>Topic 4</b><br>Words: \\u0433\\u043e\\u0432\\u043e\\u0440\\u0438\\u0442\\u044c, \\u043b\\u043e\\u0433\\u043e\\u043f\\u0435\\u0434, \\u0437\\u0432\\u0443\\u043a, \\u0441\\u043b\\u043e\\u0432\\u043e, \\u0440\\u0435\\u0447\\u044c\",\"<b>Topic 4</b><br>Words: \\u043b\\u043e\\u0433\\u043e\\u043f\\u0435\\u0434, \\u0433\\u043e\\u0432\\u043e\\u0440\\u0438\\u0442\\u044c, \\u0437\\u0432\\u0443\\u043a, \\u0441\\u043b\\u043e\\u0432\\u043e, \\u0440\\u0435\\u0447\\u044c\",\"<b>Topic 4</b><br>Words: \\u0437\\u0432\\u0443\\u043a, \\u043b\\u043e\\u0433\\u043e\\u043f\\u0435\\u0434, \\u0433\\u043e\\u0432\\u043e\\u0440\\u0438\\u0442\\u044c, \\u0441\\u043b\\u043e\\u0432\\u043e, \\u0440\\u0435\\u0447\\u044c\",\"<b>Topic 4</b><br>Words: \\u0433\\u043e\\u0432\\u043e\\u0440\\u0438\\u0442\\u044c, \\u043b\\u043e\\u0433\\u043e\\u043f\\u0435\\u0434, \\u0437\\u0432\\u0443\\u043a, \\u0441\\u043b\\u043e\\u0432\\u043e, \\u0440\\u0435\\u0447\\u044c\",\"<b>Topic 4</b><br>Words: \\u0433\\u043e\\u0432\\u043e\\u0440\\u0438\\u0442\\u044c, \\u0441\\u043b\\u043e\\u0432\\u043e, \\u0437\\u0432\\u0443\\u043a, \\u043b\\u043e\\u0433\\u043e\\u043f\\u0435\\u0434, \\u0440\\u0435\\u0447\\u044c\",\"<b>Topic 4</b><br>Words: \\u0437\\u0432\\u0443\\u043a, \\u043b\\u043e\\u0433\\u043e\\u043f\\u0435\\u0434, \\u0433\\u043e\\u0432\\u043e\\u0440\\u0438\\u0442\\u044c, \\u0441\\u043b\\u043e\\u0432\\u043e, \\u0440\\u0435\\u0447\\u044c\",\"<b>Topic 4</b><br>Words: \\u0437\\u0432\\u0443\\u043a, \\u043b\\u043e\\u0433\\u043e\\u043f\\u0435\\u0434, \\u0433\\u043e\\u0432\\u043e\\u0440\\u0438\\u0442\\u044c, \\u0441\\u043b\\u043e\\u0432\\u043e, \\u0440\\u0435\\u0447\\u044c\",\"<b>Topic 4</b><br>Words: \\u0437\\u0432\\u0443\\u043a, \\u0441\\u043b\\u043e\\u0432\\u043e, \\u0433\\u043e\\u0432\\u043e\\u0440\\u0438\\u0442\\u044c, \\u043b\\u043e\\u0433\\u043e\\u043f\\u0435\\u0434, \\u043f\\u0440\\u043e\\u0438\\u0437\\u043d\\u043e\\u0441\\u0438\\u0442\\u044c\",\"<b>Topic 4</b><br>Words: \\u0437\\u0432\\u0443\\u043a, \\u0441\\u043b\\u043e\\u0432\\u043e, \\u0433\\u043e\\u0432\\u043e\\u0440\\u0438\\u0442\\u044c, \\u043b\\u043e\\u0433\\u043e\\u043f\\u0435\\u0434, \\u0440\\u0435\\u0447\\u044c\",\"<b>Topic 4</b><br>Words: \\u043b\\u043e\\u0433\\u043e\\u043f\\u0435\\u0434, \\u0437\\u0432\\u0443\\u043a, \\u0433\\u043e\\u0432\\u043e\\u0440\\u0438\\u0442\\u044c, \\u043c\\u0435\\u0441\\u044f\\u0446, \\u0440\\u0435\\u0447\\u044c\",\"<b>Topic 4</b><br>Words: \\u0437\\u0432\\u0443\\u043a, \\u0433\\u043e\\u0432\\u043e\\u0440\\u0438\\u0442\\u044c, \\u0440\\u0435\\u0447\\u044c, \\u0441\\u043b\\u043e\\u0432\\u043e, \\u043b\\u043e\\u0433\\u043e\\u043f\\u0435\\u0434\",\"<b>Topic 4</b><br>Words: \\u043b\\u043e\\u0433\\u043e\\u043f\\u0435\\u0434, \\u0437\\u0432\\u0443\\u043a, \\u0433\\u043e\\u0432\\u043e\\u0440\\u0438\\u0442\\u044c, \\u0436\\u0434\\u0430\\u0442\\u044c, \\u0441\\u043b\\u043e\\u0432\\u043e\",\"<b>Topic 4</b><br>Words: \\u0433\\u043e\\u0432\\u043e\\u0440\\u0438\\u0442\\u044c, \\u043b\\u043e\\u0433\\u043e\\u043f\\u0435\\u0434, \\u0437\\u0432\\u0443\\u043a, \\u043d\\u0435\\u0432\\u0440\\u043e\\u043b\\u043e\\u0433, \\u0440\\u0435\\u0447\\u044c\",\"<b>Topic 4</b><br>Words: \\u0442\\u0438\\u0442\\u044c, \\u043a\\u0430, \\u0433\\u0438\\u043c\\u043d\\u0430\\u0441\\u0442\\u0438\\u043a\\u0430, \\u0437\\u0430\\u043d\\u0438\\u043c\\u0430\\u0442\\u044c\\u0441\\u044f, \\u0437\\u0432\\u0443\\u043a\\u0438\",\"<b>Topic 4</b><br>Words: \\u0437\\u0430\\u0438\\u043a\\u0430\\u0435\\u0442\\u0441\\u044f, \\u0433\\u043e\\u043b\\u0438\\u0446\\u044b\\u043d\\u043e, \\u0438\\u0441\\u0442\\u0440\\u0430, \\u043e\\u0434\\u0438\\u043d\\u0446\\u043e\\u0432\\u043e, \\u0437\\u0430\\u0438\\u043a\\u0430\\u043d\\u0438\\u0435\\u043c\",\"<b>Topic 4</b><br>Words: \\u043f\\u043e\\u0434\\u043e\\u0431\\u043d\\u044b\\u043c, \\u0449\\u0451\\u0447\\u043d\\u044b\\u0439, \\u043b\\u043e\\u0433\\u043e\\u043f\\u0435\\u0434, \\u0441\\u0442\\u0430\\u043b\\u043a\\u0438\\u0432\\u0430\\u0442\\u044c\\u0441\\u044f, \\u0438\\u0437\\u043c\\u0443\\u0447\\u0435\\u043d\\u043d\\u044b\\u0439\"],\"marker\":{\"color\":\"#D55E00\"},\"mode\":\"lines\",\"name\":\"4_\\u0437\\u0432\\u0443\\u043a_\\u043b\\u043e\\u0433\\u043e\\u043f\\u0435\\u0434_\\u0433\\u043e\\u0432\\u043e\\u0440\\u0438\\u0442\\u044c_\\u0441\\u043b\\u043e\\u0432\\u043e\",\"x\":[\"2009-04-25T08:56:39\",\"2009-12-17T05:47:18\",\"2010-08-10T02:37:57\",\"2011-04-02T23:28:36\",\"2011-11-24T20:19:15\",\"2012-07-17T17:09:54\",\"2013-03-10T14:00:33\",\"2013-11-01T10:51:12\",\"2014-06-25T07:41:51\",\"2015-02-16T04:32:30\",\"2015-10-10T01:23:09\",\"2016-06-01T22:13:48\",\"2017-01-23T19:04:27\",\"2017-09-16T15:55:06\",\"2018-05-10T12:45:45\",\"2019-01-01T09:36:24\"],\"y\":[19,42,55,23,19,30,17,14,19,15,7,9,4,2,2,1],\"type\":\"scatter\"}],                        {\"template\":{\"data\":{\"barpolar\":[{\"marker\":{\"line\":{\"color\":\"white\",\"width\":0.5},\"pattern\":{\"fillmode\":\"overlay\",\"size\":10,\"solidity\":0.2}},\"type\":\"barpolar\"}],\"bar\":[{\"error_x\":{\"color\":\"rgb(36,36,36)\"},\"error_y\":{\"color\":\"rgb(36,36,36)\"},\"marker\":{\"line\":{\"color\":\"white\",\"width\":0.5},\"pattern\":{\"fillmode\":\"overlay\",\"size\":10,\"solidity\":0.2}},\"type\":\"bar\"}],\"carpet\":[{\"aaxis\":{\"endlinecolor\":\"rgb(36,36,36)\",\"gridcolor\":\"white\",\"linecolor\":\"white\",\"minorgridcolor\":\"white\",\"startlinecolor\":\"rgb(36,36,36)\"},\"baxis\":{\"endlinecolor\":\"rgb(36,36,36)\",\"gridcolor\":\"white\",\"linecolor\":\"white\",\"minorgridcolor\":\"white\",\"startlinecolor\":\"rgb(36,36,36)\"},\"type\":\"carpet\"}],\"choropleth\":[{\"colorbar\":{\"outlinewidth\":1,\"tickcolor\":\"rgb(36,36,36)\",\"ticks\":\"outside\"},\"type\":\"choropleth\"}],\"contourcarpet\":[{\"colorbar\":{\"outlinewidth\":1,\"tickcolor\":\"rgb(36,36,36)\",\"ticks\":\"outside\"},\"type\":\"contourcarpet\"}],\"contour\":[{\"colorbar\":{\"outlinewidth\":1,\"tickcolor\":\"rgb(36,36,36)\",\"ticks\":\"outside\"},\"colorscale\":[[0.0,\"#440154\"],[0.1111111111111111,\"#482878\"],[0.2222222222222222,\"#3e4989\"],[0.3333333333333333,\"#31688e\"],[0.4444444444444444,\"#26828e\"],[0.5555555555555556,\"#1f9e89\"],[0.6666666666666666,\"#35b779\"],[0.7777777777777778,\"#6ece58\"],[0.8888888888888888,\"#b5de2b\"],[1.0,\"#fde725\"]],\"type\":\"contour\"}],\"heatmapgl\":[{\"colorbar\":{\"outlinewidth\":1,\"tickcolor\":\"rgb(36,36,36)\",\"ticks\":\"outside\"},\"colorscale\":[[0.0,\"#440154\"],[0.1111111111111111,\"#482878\"],[0.2222222222222222,\"#3e4989\"],[0.3333333333333333,\"#31688e\"],[0.4444444444444444,\"#26828e\"],[0.5555555555555556,\"#1f9e89\"],[0.6666666666666666,\"#35b779\"],[0.7777777777777778,\"#6ece58\"],[0.8888888888888888,\"#b5de2b\"],[1.0,\"#fde725\"]],\"type\":\"heatmapgl\"}],\"heatmap\":[{\"colorbar\":{\"outlinewidth\":1,\"tickcolor\":\"rgb(36,36,36)\",\"ticks\":\"outside\"},\"colorscale\":[[0.0,\"#440154\"],[0.1111111111111111,\"#482878\"],[0.2222222222222222,\"#3e4989\"],[0.3333333333333333,\"#31688e\"],[0.4444444444444444,\"#26828e\"],[0.5555555555555556,\"#1f9e89\"],[0.6666666666666666,\"#35b779\"],[0.7777777777777778,\"#6ece58\"],[0.8888888888888888,\"#b5de2b\"],[1.0,\"#fde725\"]],\"type\":\"heatmap\"}],\"histogram2dcontour\":[{\"colorbar\":{\"outlinewidth\":1,\"tickcolor\":\"rgb(36,36,36)\",\"ticks\":\"outside\"},\"colorscale\":[[0.0,\"#440154\"],[0.1111111111111111,\"#482878\"],[0.2222222222222222,\"#3e4989\"],[0.3333333333333333,\"#31688e\"],[0.4444444444444444,\"#26828e\"],[0.5555555555555556,\"#1f9e89\"],[0.6666666666666666,\"#35b779\"],[0.7777777777777778,\"#6ece58\"],[0.8888888888888888,\"#b5de2b\"],[1.0,\"#fde725\"]],\"type\":\"histogram2dcontour\"}],\"histogram2d\":[{\"colorbar\":{\"outlinewidth\":1,\"tickcolor\":\"rgb(36,36,36)\",\"ticks\":\"outside\"},\"colorscale\":[[0.0,\"#440154\"],[0.1111111111111111,\"#482878\"],[0.2222222222222222,\"#3e4989\"],[0.3333333333333333,\"#31688e\"],[0.4444444444444444,\"#26828e\"],[0.5555555555555556,\"#1f9e89\"],[0.6666666666666666,\"#35b779\"],[0.7777777777777778,\"#6ece58\"],[0.8888888888888888,\"#b5de2b\"],[1.0,\"#fde725\"]],\"type\":\"histogram2d\"}],\"histogram\":[{\"marker\":{\"line\":{\"color\":\"white\",\"width\":0.6}},\"type\":\"histogram\"}],\"mesh3d\":[{\"colorbar\":{\"outlinewidth\":1,\"tickcolor\":\"rgb(36,36,36)\",\"ticks\":\"outside\"},\"type\":\"mesh3d\"}],\"parcoords\":[{\"line\":{\"colorbar\":{\"outlinewidth\":1,\"tickcolor\":\"rgb(36,36,36)\",\"ticks\":\"outside\"}},\"type\":\"parcoords\"}],\"pie\":[{\"automargin\":true,\"type\":\"pie\"}],\"scatter3d\":[{\"line\":{\"colorbar\":{\"outlinewidth\":1,\"tickcolor\":\"rgb(36,36,36)\",\"ticks\":\"outside\"}},\"marker\":{\"colorbar\":{\"outlinewidth\":1,\"tickcolor\":\"rgb(36,36,36)\",\"ticks\":\"outside\"}},\"type\":\"scatter3d\"}],\"scattercarpet\":[{\"marker\":{\"colorbar\":{\"outlinewidth\":1,\"tickcolor\":\"rgb(36,36,36)\",\"ticks\":\"outside\"}},\"type\":\"scattercarpet\"}],\"scattergeo\":[{\"marker\":{\"colorbar\":{\"outlinewidth\":1,\"tickcolor\":\"rgb(36,36,36)\",\"ticks\":\"outside\"}},\"type\":\"scattergeo\"}],\"scattergl\":[{\"marker\":{\"colorbar\":{\"outlinewidth\":1,\"tickcolor\":\"rgb(36,36,36)\",\"ticks\":\"outside\"}},\"type\":\"scattergl\"}],\"scattermapbox\":[{\"marker\":{\"colorbar\":{\"outlinewidth\":1,\"tickcolor\":\"rgb(36,36,36)\",\"ticks\":\"outside\"}},\"type\":\"scattermapbox\"}],\"scatterpolargl\":[{\"marker\":{\"colorbar\":{\"outlinewidth\":1,\"tickcolor\":\"rgb(36,36,36)\",\"ticks\":\"outside\"}},\"type\":\"scatterpolargl\"}],\"scatterpolar\":[{\"marker\":{\"colorbar\":{\"outlinewidth\":1,\"tickcolor\":\"rgb(36,36,36)\",\"ticks\":\"outside\"}},\"type\":\"scatterpolar\"}],\"scatter\":[{\"marker\":{\"colorbar\":{\"outlinewidth\":1,\"tickcolor\":\"rgb(36,36,36)\",\"ticks\":\"outside\"}},\"type\":\"scatter\"}],\"scatterternary\":[{\"marker\":{\"colorbar\":{\"outlinewidth\":1,\"tickcolor\":\"rgb(36,36,36)\",\"ticks\":\"outside\"}},\"type\":\"scatterternary\"}],\"surface\":[{\"colorbar\":{\"outlinewidth\":1,\"tickcolor\":\"rgb(36,36,36)\",\"ticks\":\"outside\"},\"colorscale\":[[0.0,\"#440154\"],[0.1111111111111111,\"#482878\"],[0.2222222222222222,\"#3e4989\"],[0.3333333333333333,\"#31688e\"],[0.4444444444444444,\"#26828e\"],[0.5555555555555556,\"#1f9e89\"],[0.6666666666666666,\"#35b779\"],[0.7777777777777778,\"#6ece58\"],[0.8888888888888888,\"#b5de2b\"],[1.0,\"#fde725\"]],\"type\":\"surface\"}],\"table\":[{\"cells\":{\"fill\":{\"color\":\"rgb(237,237,237)\"},\"line\":{\"color\":\"white\"}},\"header\":{\"fill\":{\"color\":\"rgb(217,217,217)\"},\"line\":{\"color\":\"white\"}},\"type\":\"table\"}]},\"layout\":{\"annotationdefaults\":{\"arrowhead\":0,\"arrowwidth\":1},\"autotypenumbers\":\"strict\",\"coloraxis\":{\"colorbar\":{\"outlinewidth\":1,\"tickcolor\":\"rgb(36,36,36)\",\"ticks\":\"outside\"}},\"colorscale\":{\"diverging\":[[0.0,\"rgb(103,0,31)\"],[0.1,\"rgb(178,24,43)\"],[0.2,\"rgb(214,96,77)\"],[0.3,\"rgb(244,165,130)\"],[0.4,\"rgb(253,219,199)\"],[0.5,\"rgb(247,247,247)\"],[0.6,\"rgb(209,229,240)\"],[0.7,\"rgb(146,197,222)\"],[0.8,\"rgb(67,147,195)\"],[0.9,\"rgb(33,102,172)\"],[1.0,\"rgb(5,48,97)\"]],\"sequential\":[[0.0,\"#440154\"],[0.1111111111111111,\"#482878\"],[0.2222222222222222,\"#3e4989\"],[0.3333333333333333,\"#31688e\"],[0.4444444444444444,\"#26828e\"],[0.5555555555555556,\"#1f9e89\"],[0.6666666666666666,\"#35b779\"],[0.7777777777777778,\"#6ece58\"],[0.8888888888888888,\"#b5de2b\"],[1.0,\"#fde725\"]],\"sequentialminus\":[[0.0,\"#440154\"],[0.1111111111111111,\"#482878\"],[0.2222222222222222,\"#3e4989\"],[0.3333333333333333,\"#31688e\"],[0.4444444444444444,\"#26828e\"],[0.5555555555555556,\"#1f9e89\"],[0.6666666666666666,\"#35b779\"],[0.7777777777777778,\"#6ece58\"],[0.8888888888888888,\"#b5de2b\"],[1.0,\"#fde725\"]]},\"colorway\":[\"#1F77B4\",\"#FF7F0E\",\"#2CA02C\",\"#D62728\",\"#9467BD\",\"#8C564B\",\"#E377C2\",\"#7F7F7F\",\"#BCBD22\",\"#17BECF\"],\"font\":{\"color\":\"rgb(36,36,36)\"},\"geo\":{\"bgcolor\":\"white\",\"lakecolor\":\"white\",\"landcolor\":\"white\",\"showlakes\":true,\"showland\":true,\"subunitcolor\":\"white\"},\"hoverlabel\":{\"align\":\"left\"},\"hovermode\":\"closest\",\"mapbox\":{\"style\":\"light\"},\"paper_bgcolor\":\"white\",\"plot_bgcolor\":\"white\",\"polar\":{\"angularaxis\":{\"gridcolor\":\"rgb(232,232,232)\",\"linecolor\":\"rgb(36,36,36)\",\"showgrid\":false,\"showline\":true,\"ticks\":\"outside\"},\"bgcolor\":\"white\",\"radialaxis\":{\"gridcolor\":\"rgb(232,232,232)\",\"linecolor\":\"rgb(36,36,36)\",\"showgrid\":false,\"showline\":true,\"ticks\":\"outside\"}},\"scene\":{\"xaxis\":{\"backgroundcolor\":\"white\",\"gridcolor\":\"rgb(232,232,232)\",\"gridwidth\":2,\"linecolor\":\"rgb(36,36,36)\",\"showbackground\":true,\"showgrid\":false,\"showline\":true,\"ticks\":\"outside\",\"zeroline\":false,\"zerolinecolor\":\"rgb(36,36,36)\"},\"yaxis\":{\"backgroundcolor\":\"white\",\"gridcolor\":\"rgb(232,232,232)\",\"gridwidth\":2,\"linecolor\":\"rgb(36,36,36)\",\"showbackground\":true,\"showgrid\":false,\"showline\":true,\"ticks\":\"outside\",\"zeroline\":false,\"zerolinecolor\":\"rgb(36,36,36)\"},\"zaxis\":{\"backgroundcolor\":\"white\",\"gridcolor\":\"rgb(232,232,232)\",\"gridwidth\":2,\"linecolor\":\"rgb(36,36,36)\",\"showbackground\":true,\"showgrid\":false,\"showline\":true,\"ticks\":\"outside\",\"zeroline\":false,\"zerolinecolor\":\"rgb(36,36,36)\"}},\"shapedefaults\":{\"fillcolor\":\"black\",\"line\":{\"width\":0},\"opacity\":0.3},\"ternary\":{\"aaxis\":{\"gridcolor\":\"rgb(232,232,232)\",\"linecolor\":\"rgb(36,36,36)\",\"showgrid\":false,\"showline\":true,\"ticks\":\"outside\"},\"baxis\":{\"gridcolor\":\"rgb(232,232,232)\",\"linecolor\":\"rgb(36,36,36)\",\"showgrid\":false,\"showline\":true,\"ticks\":\"outside\"},\"bgcolor\":\"white\",\"caxis\":{\"gridcolor\":\"rgb(232,232,232)\",\"linecolor\":\"rgb(36,36,36)\",\"showgrid\":false,\"showline\":true,\"ticks\":\"outside\"}},\"title\":{\"x\":0.05},\"xaxis\":{\"automargin\":true,\"gridcolor\":\"rgb(232,232,232)\",\"linecolor\":\"rgb(36,36,36)\",\"showgrid\":false,\"showline\":true,\"ticks\":\"outside\",\"title\":{\"standoff\":15},\"zeroline\":false,\"zerolinecolor\":\"rgb(36,36,36)\"},\"yaxis\":{\"automargin\":true,\"gridcolor\":\"rgb(232,232,232)\",\"linecolor\":\"rgb(36,36,36)\",\"showgrid\":false,\"showline\":true,\"ticks\":\"outside\",\"title\":{\"standoff\":15},\"zeroline\":false,\"zerolinecolor\":\"rgb(36,36,36)\"}}},\"xaxis\":{\"showgrid\":true},\"yaxis\":{\"showgrid\":true,\"title\":{\"text\":\"Frequency\"}},\"title\":{\"font\":{\"size\":22,\"color\":\"Black\"},\"text\":\"<b>Topics over Time\",\"y\":0.95,\"x\":0.4,\"xanchor\":\"center\",\"yanchor\":\"top\"},\"hoverlabel\":{\"font\":{\"size\":16,\"family\":\"Rockwell\"},\"bgcolor\":\"white\"},\"width\":1250,\"height\":450,\"legend\":{\"title\":{\"text\":\"<b>Global Topic Representation\"}}},                        {\"responsive\": true}                    ).then(function(){\n",
       "                            \n",
       "var gd = document.getElementById('71fe1be5-483d-4a4e-b414-24d2691fdd20');\n",
       "var x = new MutationObserver(function (mutations, observer) {{\n",
       "        var display = window.getComputedStyle(gd).display;\n",
       "        if (!display || display === 'none') {{\n",
       "            console.log([gd, 'removed!']);\n",
       "            Plotly.purge(gd);\n",
       "            observer.disconnect();\n",
       "        }}\n",
       "}});\n",
       "\n",
       "// Listen for the removal of the full notebook cells\n",
       "var notebookContainer = gd.closest('#notebook-container');\n",
       "if (notebookContainer) {{\n",
       "    x.observe(notebookContainer, {childList: true});\n",
       "}}\n",
       "\n",
       "// Listen for the clearing of the current output cell\n",
       "var outputEl = gd.closest('.output');\n",
       "if (outputEl) {{\n",
       "    x.observe(outputEl, {childList: true});\n",
       "}}\n",
       "\n",
       "                        })                };                            </script>        </div>\n",
       "</body>\n",
       "</html>"
      ]
     },
     "metadata": {},
     "output_type": "display_data"
    }
   ],
   "source": [
    "model.visualize_topics_over_time(topics_over_time, top_n_topics=5)"
   ]
  },
  {
   "cell_type": "code",
   "execution_count": null,
   "metadata": {
    "id": "duBGoCEkYUYF"
   },
   "outputs": [],
   "source": []
  }
 ],
 "metadata": {
  "accelerator": "GPU",
  "colab": {
   "authorship_tag": "ABX9TyPBUL6hY6FoS2suSLpPTNfi",
   "collapsed_sections": [],
   "machine_shape": "hm",
   "name": "ChapterTopics.ipynb",
   "provenance": []
  },
  "kernelspec": {
   "display_name": "Python 3",
   "language": "python",
   "name": "python3"
  },
  "language_info": {
   "codemirror_mode": {
    "name": "ipython",
    "version": 3
   },
   "file_extension": ".py",
   "mimetype": "text/x-python",
   "name": "python",
   "nbconvert_exporter": "python",
   "pygments_lexer": "ipython3",
   "version": "3.8.5"
  }
 },
 "nbformat": 4,
 "nbformat_minor": 4
}
